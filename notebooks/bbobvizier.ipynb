{
 "cells": [
  {
   "cell_type": "markdown",
   "metadata": {},
   "source": [
    "# BBOB Vizier\n",
    "\n",
    "## Generate data\n",
    "Everything in root (not in ´notebooks´)\n",
    "\n",
    "```bash\n",
    "python -m carps.run +optimizer/randomsearch=config '+problem/BBOBVizier=glob(*)' 'seed=range(1,21)' +cluster=noctua -m  \n",
    "python -m carps.run +optimizer/hebo=config '+problem/BBOBVizier=glob(*)' 'seed=range(1,21)' +cluster=noctua -m  \n",
    "python -m carps.run +optimizer/smac20=blackbox '+problem/BBOBVizier=glob(*)' 'seed=range(1,21)' +cluster=noctua -m  \n",
    "```\n",
    "\n",
    "## Gather data\n",
    "```bash\n",
    "python -m carps.analysis.gather_data runs/RandomSearch/BBOBVizier\n",
    "python -m carps.analysis.gather_data runs/HEBO/BBOBVizier\n",
    "python -m carps.analysis.gather_data runs/SMAC3-BlackBoxFacade/BBOBVizier\n",
    "```"
   ]
  },
  {
   "cell_type": "code",
   "execution_count": null,
   "metadata": {},
   "outputs": [],
   "source": [
    "import pandas as pd\n",
    "from pathlib import Path\n",
    "from carps.analysis.gather_data import normalize_logs, get_interpolated_performance_df, load_logs, process_logs, load_set\n",
    "\n",
    "rundirs = [\n",
    "    \"../runs/RandomSearch/BBOBVizier\",\n",
    "    \"../runs/HEBO/BBOBVizier\",\n",
    "    \"../runs/SMAC3-BlackBoxFacade/BBOBVizier\",\n",
    "]\n",
    "scenario = \"BBOBVizier\"\n",
    "figpath = Path(f\"figures/{scenario}/\")\n",
    "figpath.mkdir(parents=True, exist_ok=True)\n",
    "\n",
    "\n",
    "df, df_Cfg = load_set(paths=rundirs)\n",
    "print(df.columns)\n",
    "df = normalize_logs(df)\n",
    "perf = get_interpolated_performance_df(df)\n",
    "perf_time = get_interpolated_performance_df(df, x_column=\"time_norm\")"
   ]
  },
  {
   "cell_type": "code",
   "execution_count": null,
   "metadata": {},
   "outputs": [],
   "source": [
    "import numpy as np\n",
    "import matplotlib.pyplot as plt\n",
    "from carps.analysis.utils import setup_seaborn\n",
    "import seaborn as sns\n",
    "import importlib\n",
    "import carps\n",
    "import carps.analysis\n",
    "import carps.analysis.plot_ranking\n",
    "importlib.reload(carps)\n",
    "importlib.reload(carps.analysis)\n",
    "importlib.reload(carps.analysis.plot_ranking)\n",
    "from carps.analysis.plot_ranking import plot_ranking\n",
    "from carps.analysis.performance_over_time import plot_performance_over_time, setup_seaborn, savefig, get_color_palette\n",
    "import seaborn as sns\n",
    "import matplotlib\n",
    "\n",
    "perf_col = \"trial_value__cost_inc_norm\"\n",
    "plot_ranking(gdf=df, scenario=scenario, set_id=\"unknown\", perf_col=perf_col)\n",
    "\n",
    "lineplot_kwargs = dict(linewidth=3)\n",
    "fig, ax = plot_performance_over_time(\n",
    "    df=df, \n",
    "    x=\"n_trials\",  # we have 100 trials everywhere, if n trials would differ, use n_trials_norm \n",
    "    y=\"trial_value__cost_inc_norm\", \n",
    "    hue=\"optimizer_id\", \n",
    "    figure_filename=figpath / \"performance_over_time_trials.pdf\", \n",
    "    figsize=(6,4), \n",
    "    **lineplot_kwargs\n",
    ")\n",
    "\n"
   ]
  },
  {
   "cell_type": "code",
   "execution_count": null,
   "metadata": {},
   "outputs": [],
   "source": [
    "from carps.analysis.performance_over_time import get_order_by_mean\n",
    "\n",
    "figure_filename = figpath / \"performance_over_time_trials_per_task.pdf\"\n",
    "x=\"n_trials\"\n",
    "y=\"trial_value__cost_inc\"\n",
    "hue=\"optimizer_id\"\n",
    "figsize=None\n",
    "setup_seaborn(font_scale=1.5)\n",
    "sorter = get_order_by_mean(df=df, budget_var=x)\n",
    "df = df.sort_values(by=\"optimizer_id\", key=lambda column: column.map(lambda e: sorter.index(e)))\n",
    "palette = get_color_palette(df)\n",
    "grid = sns.FacetGrid(df, col=\"problem.fid\", col_wrap=4, height=4, aspect=1.5, sharex=True, sharey=False)\n",
    "grid.map_dataframe(sns.lineplot, x=x, y=y, hue=hue, palette=palette, **lineplot_kwargs)\n",
    "grid.add_legend()\n",
    "savefig(fig, figure_filename)"
   ]
  }
 ],
 "metadata": {
  "kernelspec": {
   "display_name": "Python 3",
   "language": "python",
   "name": "python3"
  },
  "language_info": {
   "codemirror_mode": {
    "name": "ipython",
    "version": 3
   },
   "file_extension": ".py",
   "mimetype": "text/x-python",
   "name": "python",
   "nbconvert_exporter": "python",
   "pygments_lexer": "ipython3",
   "version": "3.10.14"
  }
 },
 "nbformat": 4,
 "nbformat_minor": 2
}
