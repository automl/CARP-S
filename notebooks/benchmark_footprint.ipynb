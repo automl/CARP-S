{
 "cells": [
  {
   "cell_type": "markdown",
   "metadata": {
    "collapsed": false
   },
   "source": [
    "# Footprint Plots (Combined)"
   ]
  },
  {
   "cell_type": "code",
   "execution_count": null,
   "metadata": {
    "ExecuteTime": {
     "end_time": "2024-06-04T13:58:34.810907949Z",
     "start_time": "2024-06-04T13:58:26.476458629Z"
    },
    "collapsed": false
   },
   "outputs": [],
   "source": [
    "from __future__ import annotations\n",
    "\n",
    "from multiprocessing import Pool\n",
    "from pathlib import Path\n",
    "\n",
    "import matplotlib.patches as mpatches\n",
    "import pandas as pd\n",
    "from omegaconf import OmegaConf\n",
    "\n",
    "config_folder = Path(\"../carps/configs/task\")\n",
    "paths = list(config_folder.glob(\"**/*.yaml\"))\n",
    "paths = [p for p in paths if \"DUMMY\" not in str(p)]\n",
    "\n",
    "\n",
    "def read_task(p) -> dict:\n",
    "    cfg = OmegaConf.load(p)\n",
    "    task = OmegaConf.to_container(cfg.task)\n",
    "    task[\"benchmark_id\"] = cfg.benchmark_id\n",
    "    task[\"task_id\"] = cfg.task_id\n",
    "    return task\n",
    "\n",
    "\n",
    "with Pool() as pool:\n",
    "    tasks = pool.map(read_task, paths)\n",
    "tasks = pd.DataFrame(tasks)"
   ]
  },
  {
   "cell_type": "code",
   "execution_count": null,
   "metadata": {
    "ExecuteTime": {
     "end_time": "2024-06-04T13:58:38.517532733Z",
     "start_time": "2024-06-04T13:58:38.481048667Z"
    },
    "collapsed": false
   },
   "outputs": [],
   "source": [
    "data = []\n",
    "benchmark_id_list = tasks.benchmark_id.unique()\n",
    "benchmark_id_list = [b for b in benchmark_id_list if (\"Vizier\" not in b) and (b != \"HPOB\")]\n",
    "for benchmark_id in benchmark_id_list:\n",
    "    tasks_id = tasks[tasks[\"benchmark_id\"] == benchmark_id]\n",
    "    BB = len(tasks_id[(tasks_id[\"n_objectives\"] == 1) & (tasks_id[\"is_multifidelity\"] is False)])\n",
    "    MF = len(tasks_id[(tasks_id[\"n_objectives\"] == 1) & (tasks_id[\"is_multifidelity\"] is True)])\n",
    "    MO = len(tasks_id[(tasks_id[\"n_objectives\"] > 1) & (tasks_id[\"is_multifidelity\"] is False)])\n",
    "    MOMF = len(tasks_id[(tasks_id[\"n_objectives\"] > 1) & (tasks_id[\"is_multifidelity\"] is True)])\n",
    "    dimensions = list(tasks_id[\"dimensions\"])\n",
    "    real = len(tasks_id[tasks_id[\"objective_function_approximation\"] == \"real\"])\n",
    "    tab = len(tasks_id[tasks_id[\"objective_function_approximation\"] == \"tabular\"])\n",
    "    surr = len(tasks_id[tasks_id[\"objective_function_approximation\"] == \"surrogate\"])\n",
    "    float = tasks_id[\"search_space_n_floats\"].sum()\n",
    "    int = tasks_id[\"search_space_n_integers\"].sum()\n",
    "    cat = tasks_id[\"search_space_n_categoricals\"].sum()\n",
    "    ord = tasks_id[\"search_space_n_ordinals\"].sum()\n",
    "\n",
    "    data.append(\n",
    "        {\n",
    "            \"Scenario\": {\n",
    "                \"BB\": BB,\n",
    "                \"MF\": MF,\n",
    "                \"MO\": MO,\n",
    "                \"MOMF\": MOMF,\n",
    "            },\n",
    "            \"Dimensions\": dimensions,\n",
    "            \"Objective Function\": {\"real\": real, \"tab\": tab, \"surr\": surr},\n",
    "            \"HP Types\": {\n",
    "                \"float\": float,\n",
    "                \"int\": int,\n",
    "                \"cat\": cat,\n",
    "                \"ord\": ord,\n",
    "            },\n",
    "        }\n",
    "    )"
   ]
  },
  {
   "cell_type": "code",
   "execution_count": null,
   "metadata": {
    "ExecuteTime": {
     "end_time": "2024-06-04T14:19:28.947521868Z",
     "start_time": "2024-06-04T14:19:27.629647957Z"
    },
    "collapsed": false
   },
   "outputs": [],
   "source": [
    "import matplotlib.pyplot as plt\n",
    "import numpy as np\n",
    "from carps.analysis.utils import savefig, setup_seaborn\n",
    "\n",
    "setup_seaborn()\n",
    "\n",
    "colors = dict(zip(benchmark_id_list, [\"#88CCEE\", \"#117733\", \"#999933\", \"#DDCC77\", \"#CC6677\", \"#882255\"], strict=False))\n",
    "\n",
    "fig, axs = plt.subplots(1, 4, figsize=(20, 5))\n",
    "\n",
    "scenarios = {}\n",
    "obj_fun = {}\n",
    "hp_types = {}\n",
    "dimensions = {}\n",
    "\n",
    "shift = 0.08\n",
    "bar_width = 0.4\n",
    "\n",
    "# Iterate over the dictionaries in the list\n",
    "for i, data_entry in enumerate(data):\n",
    "    # Iterate over the keys in the dictionary\n",
    "    for j, (key, values) in enumerate(data_entry.items()):\n",
    "        if j == 0:\n",
    "            scenarios[benchmark_id_list[i]] = values\n",
    "        elif j == 2:\n",
    "            obj_fun[benchmark_id_list[i]] = values\n",
    "        elif j == 3:\n",
    "            hp_types[benchmark_id_list[i]] = values\n",
    "        elif j == 1:\n",
    "            dimensions[benchmark_id_list[i]] = values\n",
    "\n",
    "dimensions_sorted = dict(sorted(dimensions.items(), key=lambda item: max(item[1]), reverse=True))\n",
    "for i, (key, values) in enumerate(dimensions_sorted.items()):\n",
    "    axs[1].hist(values, bins=np.arange(min(values), max(values) + 1, 3), color=colors[key])\n",
    "\n",
    "scenarios_sorted = dict(sorted(scenarios.items(), key=lambda item: max(item[1].values()), reverse=True))\n",
    "for i, (key, values) in enumerate(scenarios_sorted.items()):\n",
    "    x = np.arange(len(values.keys())) + i * shift\n",
    "    axs[0].bar(x, values.values(), color=colors[key], width=bar_width)\n",
    "    axs[0].set_xticks(x)\n",
    "    axs[0].set_xticklabels(values.keys())\n",
    "\n",
    "obj_fun_sorted = dict(sorted(obj_fun.items(), key=lambda item: max(item[1].values()), reverse=True))\n",
    "for i, (key, values) in enumerate(obj_fun_sorted.items()):\n",
    "    x = np.arange(len(values.keys())) + i * shift\n",
    "    axs[2].bar(x, values.values(), color=colors[key], width=bar_width)\n",
    "    axs[2].set_xticks(x)\n",
    "    axs[2].set_xticklabels(values.keys())\n",
    "\n",
    "hp_types_sorted = dict(sorted(hp_types.items(), key=lambda item: max(item[1].values()), reverse=True))\n",
    "for i, (key, values) in enumerate(hp_types_sorted.items()):\n",
    "    x = np.arange(len(values.keys())) + i * shift\n",
    "    axs[3].bar(x, values.values(), color=colors[key], width=bar_width)  # , alpha=0.5)\n",
    "    axs[3].set_xticks(x)\n",
    "    axs[3].set_xticklabels(values.keys())\n",
    "\n",
    "# Add a legend to each subplot\n",
    "for i, ax in enumerate(axs):\n",
    "    ax.tick_params(axis=\"both\", which=\"major\", labelsize=22)\n",
    "    ax.set_yscale(\"log\")\n",
    "    ax.set_title(list(data_entry.keys())[i], fontsize=26)\n",
    "\n",
    "legend_handles = [mpatches.Patch(color=color, label=name) for name, color in colors.items()]\n",
    "\n",
    "ax.legend(handles=legend_handles, fontsize=20, bbox_to_anchor=(1.05, 1), loc=\"upper left\")\n",
    "\n",
    "plt.tight_layout()\n",
    "savefig(fig, \"benchmark_footprint\")\n",
    "plt.show()"
   ]
  },
  {
   "cell_type": "markdown",
   "metadata": {},
   "source": [
    "## Color Palette"
   ]
  },
  {
   "cell_type": "code",
   "execution_count": null,
   "metadata": {},
   "outputs": [],
   "source": [
    "import matplotlib.pyplot as plt\n",
    "\n",
    "# Define a colorblind-friendly color palette with 13 colors\n",
    "colorblind_palette = [\n",
    "    \"#E69F00\",\n",
    "    \"#56B4E9\",\n",
    "    \"#009E73\",\n",
    "    \"#F0E442\",\n",
    "    \"#0072B2\",\n",
    "    \"#D55E00\",\n",
    "    \"#CC79A7\",\n",
    "    \"#E69F00\",\n",
    "    \"#56B4E9\",\n",
    "    \"#009E73\",\n",
    "    \"#F0E442\",\n",
    "    \"#0072B2\",\n",
    "    \"#D55E00\",\n",
    "]\n",
    "colorblind_palette = [\"#51A3A3\", \"#75485E\", \"#CB904D\", \"#DFCC74\", \"#C3E991\"]\n",
    "colorblind_palette = [\"#FDC5F5\", \"#F7AEF8\", \"#B388EB\", \"#8093F1\", \"#72DDF7\"]\n",
    "colorblind_palette = [\"#003844\", \"#006C67\", \"#F194B4\", \"#FFB100\", \"#FFEBC6\"]\n",
    "colorblind_palette = [\"#88CCEE\", \"#44AA99\", \"#117733\", \"#999933\", \"#DDCC77\", \"#CC6677\", \"#882255\", \"#AA4499\", \"#DDDDDD\"]\n",
    "\n",
    "\n",
    "# Create a sample plot to show the color palette\n",
    "fig, ax = plt.subplots(figsize=(10, 1), dpi=100)\n",
    "\n",
    "for i, color in enumerate(colorblind_palette):\n",
    "    ax.add_patch(plt.Rectangle((i, 0), 1, 1, color=color))\n",
    "\n",
    "ax.set_xlim(0, len(colorblind_palette))\n",
    "ax.set_ylim(0, 1)\n",
    "ax.set_xticks([])\n",
    "ax.set_yticks([])\n",
    "\n",
    "plt.title(\"Colorblind-Friendly Palette with 13 Colors\")\n",
    "plt.show()"
   ]
  }
 ],
 "metadata": {
  "kernelspec": {
   "display_name": "Python 3",
   "language": "python",
   "name": "python3"
  },
  "language_info": {
   "codemirror_mode": {
    "name": "ipython",
    "version": 3
   },
   "file_extension": ".py",
   "mimetype": "text/x-python",
   "name": "python",
   "nbconvert_exporter": "python",
   "pygments_lexer": "ipython3",
   "version": "3.11.8"
  }
 },
 "nbformat": 4,
 "nbformat_minor": 2
}
