{
 "cells": [
  {
   "cell_type": "code",
   "execution_count": 1,
   "metadata": {},
   "outputs": [
    {
     "data": {
      "text/html": [
       "<pre style=\"white-space:pre;overflow-x:auto;line-height:normal;font-family:Menlo,'DejaVu Sans Mono',consolas,'Courier New',monospace\"><span style=\"color: #7fbfbf; text-decoration-color: #7fbfbf\">[13:12:55] </span><span style=\"color: #000080; text-decoration-color: #000080\">INFO    </span> Load logs from `..<span style=\"color: #800080; text-decoration-color: #800080\">/runs/</span><span style=\"color: #ff00ff; text-decoration-color: #ff00ff\">logs.csv</span>` and associated configs from               <a href=\"file:///scratch/hpc-prf-intexml/cbenjamins/repos/CARP-S-Experiments/lib/CARP-S/carps/analysis/process_data.py\" target=\"_blank\"><span style=\"color: #7f7f7f; text-decoration-color: #7f7f7f\">process_data.py</span></a><span style=\"color: #7f7f7f; text-decoration-color: #7f7f7f\">:</span><a href=\"file:///scratch/hpc-prf-intexml/cbenjamins/repos/CARP-S-Experiments/lib/CARP-S/carps/analysis/process_data.py#158\" target=\"_blank\"><span style=\"color: #7f7f7f; text-decoration-color: #7f7f7f\">158</span></a>\n",
       "<span style=\"color: #7fbfbf; text-decoration-color: #7fbfbf\">           </span>         ..<span style=\"color: #800080; text-decoration-color: #800080\">/runs/</span><span style=\"color: #ff00ff; text-decoration-color: #ff00ff\">logs_cfg.csv.</span> Preprocess logs.                                      <span style=\"color: #7f7f7f; text-decoration-color: #7f7f7f\">                   </span>\n",
       "</pre>\n"
      ],
      "text/plain": [
       "\u001b[2;36m[13:12:55]\u001b[0m\u001b[2;36m \u001b[0m\u001b[34mINFO    \u001b[0m Load logs from `..\u001b[35m/runs/\u001b[0m\u001b[95mlogs.csv\u001b[0m` and associated configs from               \u001b]8;id=823815;file:///scratch/hpc-prf-intexml/cbenjamins/repos/CARP-S-Experiments/lib/CARP-S/carps/analysis/process_data.py\u001b\\\u001b[2mprocess_data.py\u001b[0m\u001b]8;;\u001b\\\u001b[2m:\u001b[0m\u001b]8;id=9410;file:///scratch/hpc-prf-intexml/cbenjamins/repos/CARP-S-Experiments/lib/CARP-S/carps/analysis/process_data.py#158\u001b\\\u001b[2m158\u001b[0m\u001b]8;;\u001b\\\n",
       "\u001b[2;36m           \u001b[0m         ..\u001b[35m/runs/\u001b[0m\u001b[95mlogs_cfg.csv.\u001b[0m Preprocess logs.                                      \u001b[2m                   \u001b[0m\n"
      ]
     },
     "metadata": {},
     "output_type": "display_data"
    },
    {
     "name": "stderr",
     "output_type": "stream",
     "text": [
      "/scratch/hpc-prf-intexml/cbenjamins/repos/CARP-S-Experiments/lib/CARP-S/carps/analysis/process_data.py:164: DtypeWarning: Columns (7,9,21,26,27,28,31,32,33,34,35,41,42,43,44,45,46,47,51,53,54,57) have mixed types. Specify dtype option on import or set low_memory=False.\n",
      "  df = pd.read_csv(logs_fn)\n"
     ]
    },
    {
     "data": {
      "text/html": [
       "<pre style=\"white-space:pre;overflow-x:auto;line-height:normal;font-family:Menlo,'DejaVu Sans Mono',consolas,'Courier New',monospace\"><span style=\"color: #7fbfbf; text-decoration-color: #7fbfbf\">[13:13:28] </span><span style=\"color: #000080; text-decoration-color: #000080\">INFO    </span> Processing raw logs. Normalize n_trials and costs. Calculate trajectory      <a href=\"file:///scratch/hpc-prf-intexml/cbenjamins/repos/CARP-S-Experiments/lib/CARP-S/carps/analysis/process_data.py\" target=\"_blank\"><span style=\"color: #7f7f7f; text-decoration-color: #7f7f7f\">process_data.py</span></a><span style=\"color: #7f7f7f; text-decoration-color: #7f7f7f\">:</span><a href=\"file:///scratch/hpc-prf-intexml/cbenjamins/repos/CARP-S-Experiments/lib/CARP-S/carps/analysis/process_data.py#68\" target=\"_blank\"><span style=\"color: #7f7f7f; text-decoration-color: #7f7f7f\">68</span></a>\n",
       "<span style=\"color: #7fbfbf; text-decoration-color: #7fbfbf\">           </span>         <span style=\"font-weight: bold\">(</span>incumbent cost<span style=\"font-weight: bold\">)</span>.                                                            <span style=\"color: #7f7f7f; text-decoration-color: #7f7f7f\">                  </span>\n",
       "</pre>\n"
      ],
      "text/plain": [
       "\u001b[2;36m[13:13:28]\u001b[0m\u001b[2;36m \u001b[0m\u001b[34mINFO    \u001b[0m Processing raw logs. Normalize n_trials and costs. Calculate trajectory      \u001b]8;id=814135;file:///scratch/hpc-prf-intexml/cbenjamins/repos/CARP-S-Experiments/lib/CARP-S/carps/analysis/process_data.py\u001b\\\u001b[2mprocess_data.py\u001b[0m\u001b]8;;\u001b\\\u001b[2m:\u001b[0m\u001b]8;id=257224;file:///scratch/hpc-prf-intexml/cbenjamins/repos/CARP-S-Experiments/lib/CARP-S/carps/analysis/process_data.py#68\u001b\\\u001b[2m68\u001b[0m\u001b]8;;\u001b\\\n",
       "\u001b[2;36m           \u001b[0m         \u001b[1m(\u001b[0mincumbent cost\u001b[1m)\u001b[0m.                                                            \u001b[2m                  \u001b[0m\n"
      ]
     },
     "metadata": {},
     "output_type": "display_data"
    },
    {
     "name": "stdout",
     "output_type": "stream",
     "text": [
      "Index(['n_trials', 'n_function_calls', 'trial_info__config',\n",
      "       'trial_info__instance', 'trial_info__seed', 'trial_info__budget',\n",
      "       'trial_info__normalized_budget', 'trial_info__name',\n",
      "       'trial_info__checkpoint', 'trial_value__cost', 'trial_value__time',\n",
      "       'trial_value__virtual_time', 'trial_value__status',\n",
      "       'trial_value__starttime', 'trial_value__endtime', 'seed',\n",
      "       'benchmark_id', 'problem_id', 'optimizer_id', 'problem.model_id',\n",
      "       'problem.dataset_id', 'problem.surrogates_dir', 'task.n_trials',\n",
      "       'task.time_budget', 'task.n_workers', 'task.n_objectives',\n",
      "       'task.objectives', 'task.is_multifidelity', 'task.fidelity_type',\n",
      "       'task.min_budget', 'task.max_budget', 'task.has_constraints',\n",
      "       'task.domain', 'task.objective_function_approximation',\n",
      "       'task.has_virtual_time', 'task.deterministic', 'task.dimensions',\n",
      "       'task.search_space_n_categoricals', 'task.search_space_n_ordinals',\n",
      "       'task.search_space_n_integers', 'task.search_space_n_floats',\n",
      "       'task.search_space_has_conditionals',\n",
      "       'task.search_space_has_forbiddens', 'task.search_space_has_priors',\n",
      "       'problem.bench', 'problem.instance', 'problem.budget_type',\n",
      "       'problem.metric', 'problem.dimension', 'problem.fid', 'problem.seed',\n",
      "       'problem.model', 'problem.task_id', 'problem.benchmark_name',\n",
      "       'problem.benchmark', 'problem.prior', 'problem.perturb_prior',\n",
      "       'problem.benchmark_kwargs.datadir', 'problem.benchmark_kwargs.bias',\n",
      "       'problem.benchmark_kwargs.noise', 'problem.problem.rng',\n",
      "       'problem.return_value', 'task.n_initial_design', 'task.timebudget_s',\n",
      "       'experiment_id', 'n_trials_norm', 'trial_value__cost_norm',\n",
      "       'trial_value__cost_inc', 'trial_value__cost_inc_norm',\n",
      "       'task.is_multiobjective', 'scenario', 'time', 'time_norm'],\n",
      "      dtype='object')\n",
      "['RandomSearch' 'SMAC3-BlackBoxFacade' 'HEBO' 'Optuna'\n",
      " 'SMAC3-1.4-BlackBoxFacade' 'SyneTune-BO' 'DEHB'\n",
      " 'SMAC3-1.4-MultiFidelityFacade' 'SMAC3-Hyperband'\n",
      " 'SMAC3-MultiFidelityFacade' 'SyneTune-ASHA' 'SyneTune-DEHB']\n",
      "['HPOB' 'HPOBench' 'MFPBench' 'BBOB' 'YAHPO']\n",
      "['hpob/all/2010/125966' 'hpob/all/2039/125966' 'hpob/all/2039/125968' ...\n",
      " 'yahpo/so/rbv2_xgboost/1501/None' 'yahpo/so/rbv2_xgboost/16/None'\n",
      " 'yahpo/so/rbv2_xgboost/40499/None']\n",
      "Number of seeds 20\n"
     ]
    },
    {
     "data": {
      "text/html": [
       "<pre style=\"white-space:pre;overflow-x:auto;line-height:normal;font-family:Menlo,'DejaVu Sans Mono',consolas,'Courier New',monospace\"><span style=\"color: #7fbfbf; text-decoration-color: #7fbfbf\">[13:17:16] </span><span style=\"color: #000080; text-decoration-color: #000080\">INFO    </span> Create dataframe for neat plotting by aligning x-axis <span style=\"color: #800080; text-decoration-color: #800080\">/</span> interpolating       <a href=\"file:///scratch/hpc-prf-intexml/cbenjamins/repos/CARP-S-Experiments/lib/CARP-S/carps/analysis/process_data.py\" target=\"_blank\"><span style=\"color: #7f7f7f; text-decoration-color: #7f7f7f\">process_data.py</span></a><span style=\"color: #7f7f7f; text-decoration-color: #7f7f7f\">:</span><a href=\"file:///scratch/hpc-prf-intexml/cbenjamins/repos/CARP-S-Experiments/lib/CARP-S/carps/analysis/process_data.py#128\" target=\"_blank\"><span style=\"color: #7f7f7f; text-decoration-color: #7f7f7f\">128</span></a>\n",
       "<span style=\"color: #7fbfbf; text-decoration-color: #7fbfbf\">           </span>         budget.                                                                     <span style=\"color: #7f7f7f; text-decoration-color: #7f7f7f\">                   </span>\n",
       "</pre>\n"
      ],
      "text/plain": [
       "\u001b[2;36m[13:17:16]\u001b[0m\u001b[2;36m \u001b[0m\u001b[34mINFO    \u001b[0m Create dataframe for neat plotting by aligning x-axis \u001b[35m/\u001b[0m interpolating       \u001b]8;id=509932;file:///scratch/hpc-prf-intexml/cbenjamins/repos/CARP-S-Experiments/lib/CARP-S/carps/analysis/process_data.py\u001b\\\u001b[2mprocess_data.py\u001b[0m\u001b]8;;\u001b\\\u001b[2m:\u001b[0m\u001b]8;id=459096;file:///scratch/hpc-prf-intexml/cbenjamins/repos/CARP-S-Experiments/lib/CARP-S/carps/analysis/process_data.py#128\u001b\\\u001b[2m128\u001b[0m\u001b]8;;\u001b\\\n",
       "\u001b[2;36m           \u001b[0m         budget.                                                                     \u001b[2m                   \u001b[0m\n"
      ]
     },
     "metadata": {},
     "output_type": "display_data"
    },
    {
     "data": {
      "text/html": [
       "<pre style=\"white-space:pre;overflow-x:auto;line-height:normal;font-family:Menlo,'DejaVu Sans Mono',consolas,'Courier New',monospace\"><span style=\"color: #7fbfbf; text-decoration-color: #7fbfbf\">[13:17:40] </span><span style=\"color: #000080; text-decoration-color: #000080\">INFO    </span> Create dataframe for neat plotting by aligning x-axis <span style=\"color: #800080; text-decoration-color: #800080\">/</span> interpolating       <a href=\"file:///scratch/hpc-prf-intexml/cbenjamins/repos/CARP-S-Experiments/lib/CARP-S/carps/analysis/process_data.py\" target=\"_blank\"><span style=\"color: #7f7f7f; text-decoration-color: #7f7f7f\">process_data.py</span></a><span style=\"color: #7f7f7f; text-decoration-color: #7f7f7f\">:</span><a href=\"file:///scratch/hpc-prf-intexml/cbenjamins/repos/CARP-S-Experiments/lib/CARP-S/carps/analysis/process_data.py#128\" target=\"_blank\"><span style=\"color: #7f7f7f; text-decoration-color: #7f7f7f\">128</span></a>\n",
       "<span style=\"color: #7fbfbf; text-decoration-color: #7fbfbf\">           </span>         budget.                                                                     <span style=\"color: #7f7f7f; text-decoration-color: #7f7f7f\">                   </span>\n",
       "</pre>\n"
      ],
      "text/plain": [
       "\u001b[2;36m[13:17:40]\u001b[0m\u001b[2;36m \u001b[0m\u001b[34mINFO    \u001b[0m Create dataframe for neat plotting by aligning x-axis \u001b[35m/\u001b[0m interpolating       \u001b]8;id=877817;file:///scratch/hpc-prf-intexml/cbenjamins/repos/CARP-S-Experiments/lib/CARP-S/carps/analysis/process_data.py\u001b\\\u001b[2mprocess_data.py\u001b[0m\u001b]8;;\u001b\\\u001b[2m:\u001b[0m\u001b]8;id=396032;file:///scratch/hpc-prf-intexml/cbenjamins/repos/CARP-S-Experiments/lib/CARP-S/carps/analysis/process_data.py#128\u001b\\\u001b[2m128\u001b[0m\u001b]8;;\u001b\\\n",
       "\u001b[2;36m           \u001b[0m         budget.                                                                     \u001b[2m                   \u001b[0m\n"
      ]
     },
     "metadata": {},
     "output_type": "display_data"
    }
   ],
   "source": [
    "from __future__ import annotations\n",
    "\n",
    "import matplotlib.pyplot as plt\n",
    "import numpy as np\n",
    "import pandas as pd\n",
    "from carps.analysis.process_data import get_interpolated_performance_df, load_logs\n",
    "\n",
    "\n",
    "def print_overview(df_trials: pd.DataFrame) -> None:\n",
    "    print(df_trials.columns)\n",
    "    print(df_trials[\"optimizer_id\"].unique())\n",
    "    print(df_trials[\"benchmark_id\"].unique())\n",
    "    print(df_trials[\"problem_id\"].unique())\n",
    "    print(\"Number of seeds\", df_trials[\"seed\"].nunique())\n",
    "\n",
    "\n",
    "rundir = \"../runs\"\n",
    "\n",
    "df, df_cfg = load_logs(rundir=rundir)\n",
    "print_overview(df)\n",
    "perf = get_interpolated_performance_df(df)\n",
    "perf_time = get_interpolated_performance_df(df, x_column=\"time_norm\")"
   ]
  },
  {
   "cell_type": "code",
   "execution_count": null,
   "metadata": {},
   "outputs": [],
   "source": [
    "ids = (df[\"scenario\"] == \"multi-fidelity\") & (df[\"benchmark_id\"] == \"HPOBench\")\n",
    "ids_ = (perf[\"scenario\"] == \"multi-fidelity\") & (perf[\"benchmark_id\"] == \"HPOBench\")\n",
    "df = df[ids]\n",
    "df_cfg = df_cfg[ids]\n",
    "perf = perf[ids_]"
   ]
  },
  {
   "cell_type": "markdown",
   "metadata": {},
   "source": [
    "## Installation of SDSSP Heuristics\n",
    "```bash\n",
    "git clone https://github.com/frclement/SDSSP_Heuristics.git lib/SDSSP_Heuristics\n",
    "cd lib/SDSSP_Heuristics\n",
    "\n",
    "# On the cluster, make sure to have gcc and gsl cblas available\n",
    "# Those commands are cluster specific\n",
    "# If you are not on the cluster, install those libraries\n",
    "ml numlib/GSL/2.7-GCC-13.2.0\n",
    "ml compiler/GCC/13.2.0\n",
    "\n",
    "# Compile\n",
    "gcc shift_TAnobrute.c -o shift -O3 -lm -lgsl -lgslcblas\n",
    "\n",
    "# Run\n",
    "./shift pointfile.txt dim npoints kpoints outfile.txt\n",
    "```\n",
    "Where pointfile.txt is a textfile containing the points (Format: one point per line ex: Line 1: x_1,1 x_1,2 .... x_1,d then Line 2:x_2,1 .... x_2,d and so on).\n",
    "\n",
    "dim is the dimension\n",
    "\n",
    "npoints is n the number of points we select from\n",
    "\n",
    "kpoints is the number of points to obtain\n",
    "\n",
    "outfile.txt is whatever file you want the output to go to\n",
    "\n",
    "The number of runs for a single instance can be adapted Line 1767 (nb_tries, for the moment the loop goes up to 10). From past experience, 5-10 mins are to be expected per run per instance. "
   ]
  },
  {
   "cell_type": "code",
   "execution_count": 24,
   "metadata": {},
   "outputs": [
    {
     "data": {
      "text/html": [
       "<pre style=\"white-space:pre;overflow-x:auto;line-height:normal;font-family:Menlo,'DejaVu Sans Mono',consolas,'Courier New',monospace\"><span style=\"color: #7fbfbf; text-decoration-color: #7fbfbf\">[13:50:53] </span><span style=\"color: #000080; text-decoration-color: #000080\">INFO    </span> Lost following experiments: optimizer_id                          HEBO       <a href=\"file:///scratch/hpc-prf-intexml/cbenjamins/repos/CARP-S-Experiments/lib/CARP-S/carps/analysis/run_autorank.py\" target=\"_blank\"><span style=\"color: #7f7f7f; text-decoration-color: #7f7f7f\">run_autorank.py</span></a><span style=\"color: #7f7f7f; text-decoration-color: #7f7f7f\">:</span><a href=\"file:///scratch/hpc-prf-intexml/cbenjamins/repos/CARP-S-Experiments/lib/CARP-S/carps/analysis/run_autorank.py#35\" target=\"_blank\"><span style=\"color: #7f7f7f; text-decoration-color: #7f7f7f\">35</span></a>\n",
       "<span style=\"color: #7fbfbf; text-decoration-color: #7fbfbf\">           </span>         Optuna  RandomSearch  \\                                                      <span style=\"color: #7f7f7f; text-decoration-color: #7f7f7f\">                  </span>\n",
       "<span style=\"color: #7fbfbf; text-decoration-color: #7fbfbf\">           </span>         problem_id                                                                   <span style=\"color: #7f7f7f; text-decoration-color: #7f7f7f\">                  </span>\n",
       "<span style=\"color: #7fbfbf; text-decoration-color: #7fbfbf\">           </span>         hpob/all/<span style=\"color: #008080; text-decoration-color: #008080; font-weight: bold\">2010</span>/<span style=\"color: #008080; text-decoration-color: #008080; font-weight: bold\">125966</span>                   NaN     NaN     <span style=\"color: #008080; text-decoration-color: #008080; font-weight: bold\">-0.856287</span>             <span style=\"color: #7f7f7f; text-decoration-color: #7f7f7f\">                  </span>\n",
       "<span style=\"color: #7fbfbf; text-decoration-color: #7fbfbf\">           </span>         hpob/all/<span style=\"color: #008080; text-decoration-color: #008080; font-weight: bold\">2039</span>/<span style=\"color: #008080; text-decoration-color: #008080; font-weight: bold\">125966</span>                   NaN     NaN     <span style=\"color: #008080; text-decoration-color: #008080; font-weight: bold\">-0.859757</span>             <span style=\"color: #7f7f7f; text-decoration-color: #7f7f7f\">                  </span>\n",
       "<span style=\"color: #7fbfbf; text-decoration-color: #7fbfbf\">           </span>         hpob/all/<span style=\"color: #008080; text-decoration-color: #008080; font-weight: bold\">2039</span>/<span style=\"color: #008080; text-decoration-color: #008080; font-weight: bold\">125968</span>                   NaN     NaN     <span style=\"color: #008080; text-decoration-color: #008080; font-weight: bold\">-0.861322</span>             <span style=\"color: #7f7f7f; text-decoration-color: #7f7f7f\">                  </span>\n",
       "<span style=\"color: #7fbfbf; text-decoration-color: #7fbfbf\">           </span>         hpob/all/<span style=\"color: #008080; text-decoration-color: #008080; font-weight: bold\">2073</span>/<span style=\"color: #008080; text-decoration-color: #008080; font-weight: bold\">125966</span>                   NaN     NaN     <span style=\"color: #008080; text-decoration-color: #008080; font-weight: bold\">-0.869009</span>             <span style=\"color: #7f7f7f; text-decoration-color: #7f7f7f\">                  </span>\n",
       "<span style=\"color: #7fbfbf; text-decoration-color: #7fbfbf\">           </span>         hpob/all/<span style=\"color: #008080; text-decoration-color: #008080; font-weight: bold\">2073</span>/<span style=\"color: #008080; text-decoration-color: #008080; font-weight: bold\">125968</span>                   NaN     NaN     <span style=\"color: #008080; text-decoration-color: #008080; font-weight: bold\">-0.868926</span>             <span style=\"color: #7f7f7f; text-decoration-color: #7f7f7f\">                  </span>\n",
       "<span style=\"color: #7fbfbf; text-decoration-color: #7fbfbf\">           </span>         <span style=\"color: #808000; text-decoration-color: #808000\">...</span>                                    <span style=\"color: #808000; text-decoration-color: #808000\">...</span>     <span style=\"color: #808000; text-decoration-color: #808000\">...</span>           <span style=\"color: #808000; text-decoration-color: #808000\">...</span>             <span style=\"color: #7f7f7f; text-decoration-color: #7f7f7f\">                  </span>\n",
       "<span style=\"color: #7fbfbf; text-decoration-color: #7fbfbf\">           </span>         yahpo/so/rbv2_super/<span style=\"color: #008080; text-decoration-color: #008080; font-weight: bold\">15</span>/<span style=\"color: #800080; text-decoration-color: #800080; font-style: italic\">None</span>            NaN     NaN     <span style=\"color: #008080; text-decoration-color: #008080; font-weight: bold\">-0.984062</span>             <span style=\"color: #7f7f7f; text-decoration-color: #7f7f7f\">                  </span>\n",
       "<span style=\"color: #7fbfbf; text-decoration-color: #7fbfbf\">           </span>         yahpo/so/rbv2_xgboost/<span style=\"color: #008080; text-decoration-color: #008080; font-weight: bold\">12</span>/<span style=\"color: #800080; text-decoration-color: #800080; font-style: italic\">None</span>    <span style=\"color: #008080; text-decoration-color: #008080; font-weight: bold\">-0.772316</span>     NaN     <span style=\"color: #008080; text-decoration-color: #008080; font-weight: bold\">-0.982029</span>             <span style=\"color: #7f7f7f; text-decoration-color: #7f7f7f\">                  </span>\n",
       "<span style=\"color: #7fbfbf; text-decoration-color: #7fbfbf\">           </span>         yahpo/so/rbv2_xgboost/<span style=\"color: #008080; text-decoration-color: #008080; font-weight: bold\">1501</span>/<span style=\"color: #800080; text-decoration-color: #800080; font-style: italic\">None</span>  <span style=\"color: #008080; text-decoration-color: #008080; font-weight: bold\">-0.445844</span>     NaN     <span style=\"color: #008080; text-decoration-color: #008080; font-weight: bold\">-0.922245</span>             <span style=\"color: #7f7f7f; text-decoration-color: #7f7f7f\">                  </span>\n",
       "<span style=\"color: #7fbfbf; text-decoration-color: #7fbfbf\">           </span>         yahpo/so/rbv2_xgboost/<span style=\"color: #008080; text-decoration-color: #008080; font-weight: bold\">16</span>/<span style=\"color: #800080; text-decoration-color: #800080; font-style: italic\">None</span>    <span style=\"color: #008080; text-decoration-color: #008080; font-weight: bold\">-0.120207</span>     NaN     <span style=\"color: #008080; text-decoration-color: #008080; font-weight: bold\">-0.972923</span>             <span style=\"color: #7f7f7f; text-decoration-color: #7f7f7f\">                  </span>\n",
       "<span style=\"color: #7fbfbf; text-decoration-color: #7fbfbf\">           </span>         yahpo/so/rbv2_xgboost/<span style=\"color: #008080; text-decoration-color: #008080; font-weight: bold\">40499</span>/<span style=\"color: #800080; text-decoration-color: #800080; font-style: italic\">None</span> <span style=\"color: #008080; text-decoration-color: #008080; font-weight: bold\">-0.813110</span>     NaN     <span style=\"color: #008080; text-decoration-color: #008080; font-weight: bold\">-0.997573</span>             <span style=\"color: #7f7f7f; text-decoration-color: #7f7f7f\">                  </span>\n",
       "<span style=\"color: #7fbfbf; text-decoration-color: #7fbfbf\">           </span>                                                                                      <span style=\"color: #7f7f7f; text-decoration-color: #7f7f7f\">                  </span>\n",
       "<span style=\"color: #7fbfbf; text-decoration-color: #7fbfbf\">           </span>         optimizer_id                      SMAC3-<span style=\"color: #008080; text-decoration-color: #008080; font-weight: bold\">1.4</span>-BlackBoxFacade  \\                <span style=\"color: #7f7f7f; text-decoration-color: #7f7f7f\">                  </span>\n",
       "<span style=\"color: #7fbfbf; text-decoration-color: #7fbfbf\">           </span>         problem_id                                                                   <span style=\"color: #7f7f7f; text-decoration-color: #7f7f7f\">                  </span>\n",
       "<span style=\"color: #7fbfbf; text-decoration-color: #7fbfbf\">           </span>         hpob/all/<span style=\"color: #008080; text-decoration-color: #008080; font-weight: bold\">2010</span>/<span style=\"color: #008080; text-decoration-color: #008080; font-weight: bold\">125966</span>                                   NaN                   <span style=\"color: #7f7f7f; text-decoration-color: #7f7f7f\">                  </span>\n",
       "<span style=\"color: #7fbfbf; text-decoration-color: #7fbfbf\">           </span>         hpob/all/<span style=\"color: #008080; text-decoration-color: #008080; font-weight: bold\">2039</span>/<span style=\"color: #008080; text-decoration-color: #008080; font-weight: bold\">125966</span>                                   NaN                   <span style=\"color: #7f7f7f; text-decoration-color: #7f7f7f\">                  </span>\n",
       "<span style=\"color: #7fbfbf; text-decoration-color: #7fbfbf\">           </span>         hpob/all/<span style=\"color: #008080; text-decoration-color: #008080; font-weight: bold\">2039</span>/<span style=\"color: #008080; text-decoration-color: #008080; font-weight: bold\">125968</span>                                   NaN                   <span style=\"color: #7f7f7f; text-decoration-color: #7f7f7f\">                  </span>\n",
       "<span style=\"color: #7fbfbf; text-decoration-color: #7fbfbf\">           </span>         hpob/all/<span style=\"color: #008080; text-decoration-color: #008080; font-weight: bold\">2073</span>/<span style=\"color: #008080; text-decoration-color: #008080; font-weight: bold\">125966</span>                                   NaN                   <span style=\"color: #7f7f7f; text-decoration-color: #7f7f7f\">                  </span>\n",
       "<span style=\"color: #7fbfbf; text-decoration-color: #7fbfbf\">           </span>         hpob/all/<span style=\"color: #008080; text-decoration-color: #008080; font-weight: bold\">2073</span>/<span style=\"color: #008080; text-decoration-color: #008080; font-weight: bold\">125968</span>                                   NaN                   <span style=\"color: #7f7f7f; text-decoration-color: #7f7f7f\">                  </span>\n",
       "<span style=\"color: #7fbfbf; text-decoration-color: #7fbfbf\">           </span>         <span style=\"color: #808000; text-decoration-color: #808000\">...</span>                                                    <span style=\"color: #808000; text-decoration-color: #808000\">...</span>                   <span style=\"color: #7f7f7f; text-decoration-color: #7f7f7f\">                  </span>\n",
       "<span style=\"color: #7fbfbf; text-decoration-color: #7fbfbf\">           </span>         yahpo/so/rbv2_super/<span style=\"color: #008080; text-decoration-color: #008080; font-weight: bold\">15</span>/<span style=\"color: #800080; text-decoration-color: #800080; font-style: italic\">None</span>                      <span style=\"color: #008080; text-decoration-color: #008080; font-weight: bold\">-0.985433</span>                   <span style=\"color: #7f7f7f; text-decoration-color: #7f7f7f\">                  </span>\n",
       "<span style=\"color: #7fbfbf; text-decoration-color: #7fbfbf\">           </span>         yahpo/so/rbv2_xgboost/<span style=\"color: #008080; text-decoration-color: #008080; font-weight: bold\">12</span>/<span style=\"color: #800080; text-decoration-color: #800080; font-style: italic\">None</span>                    <span style=\"color: #008080; text-decoration-color: #008080; font-weight: bold\">-0.988317</span>                   <span style=\"color: #7f7f7f; text-decoration-color: #7f7f7f\">                  </span>\n",
       "<span style=\"color: #7fbfbf; text-decoration-color: #7fbfbf\">           </span>         yahpo/so/rbv2_xgboost/<span style=\"color: #008080; text-decoration-color: #008080; font-weight: bold\">1501</span>/<span style=\"color: #800080; text-decoration-color: #800080; font-style: italic\">None</span>                  <span style=\"color: #008080; text-decoration-color: #008080; font-weight: bold\">-0.960757</span>                   <span style=\"color: #7f7f7f; text-decoration-color: #7f7f7f\">                  </span>\n",
       "<span style=\"color: #7fbfbf; text-decoration-color: #7fbfbf\">           </span>         yahpo/so/rbv2_xgboost/<span style=\"color: #008080; text-decoration-color: #008080; font-weight: bold\">16</span>/<span style=\"color: #800080; text-decoration-color: #800080; font-style: italic\">None</span>                    <span style=\"color: #008080; text-decoration-color: #008080; font-weight: bold\">-0.983591</span>                   <span style=\"color: #7f7f7f; text-decoration-color: #7f7f7f\">                  </span>\n",
       "<span style=\"color: #7fbfbf; text-decoration-color: #7fbfbf\">           </span>         yahpo/so/rbv2_xgboost/<span style=\"color: #008080; text-decoration-color: #008080; font-weight: bold\">40499</span>/<span style=\"color: #800080; text-decoration-color: #800080; font-style: italic\">None</span>                 <span style=\"color: #008080; text-decoration-color: #008080; font-weight: bold\">-0.998038</span>                   <span style=\"color: #7f7f7f; text-decoration-color: #7f7f7f\">                  </span>\n",
       "<span style=\"color: #7fbfbf; text-decoration-color: #7fbfbf\">           </span>                                                                                      <span style=\"color: #7f7f7f; text-decoration-color: #7f7f7f\">                  </span>\n",
       "<span style=\"color: #7fbfbf; text-decoration-color: #7fbfbf\">           </span>         optimizer_id                      SMAC3-BlackBoxFacade  SyneTune-BO          <span style=\"color: #7f7f7f; text-decoration-color: #7f7f7f\">                  </span>\n",
       "<span style=\"color: #7fbfbf; text-decoration-color: #7fbfbf\">           </span>         problem_id                                                                   <span style=\"color: #7f7f7f; text-decoration-color: #7f7f7f\">                  </span>\n",
       "<span style=\"color: #7fbfbf; text-decoration-color: #7fbfbf\">           </span>         hpob/all/<span style=\"color: #008080; text-decoration-color: #008080; font-weight: bold\">2010</span>/<span style=\"color: #008080; text-decoration-color: #008080; font-weight: bold\">125966</span>                         <span style=\"color: #008080; text-decoration-color: #008080; font-weight: bold\">-0.856287</span>          NaN          <span style=\"color: #7f7f7f; text-decoration-color: #7f7f7f\">                  </span>\n",
       "<span style=\"color: #7fbfbf; text-decoration-color: #7fbfbf\">           </span>         hpob/all/<span style=\"color: #008080; text-decoration-color: #008080; font-weight: bold\">2039</span>/<span style=\"color: #008080; text-decoration-color: #008080; font-weight: bold\">125966</span>                         <span style=\"color: #008080; text-decoration-color: #008080; font-weight: bold\">-0.860211</span>          NaN          <span style=\"color: #7f7f7f; text-decoration-color: #7f7f7f\">                  </span>\n",
       "<span style=\"color: #7fbfbf; text-decoration-color: #7fbfbf\">           </span>         hpob/all/<span style=\"color: #008080; text-decoration-color: #008080; font-weight: bold\">2039</span>/<span style=\"color: #008080; text-decoration-color: #008080; font-weight: bold\">125968</span>                         <span style=\"color: #008080; text-decoration-color: #008080; font-weight: bold\">-0.861322</span>          NaN          <span style=\"color: #7f7f7f; text-decoration-color: #7f7f7f\">                  </span>\n",
       "<span style=\"color: #7fbfbf; text-decoration-color: #7fbfbf\">           </span>         hpob/all/<span style=\"color: #008080; text-decoration-color: #008080; font-weight: bold\">2073</span>/<span style=\"color: #008080; text-decoration-color: #008080; font-weight: bold\">125966</span>                         <span style=\"color: #008080; text-decoration-color: #008080; font-weight: bold\">-0.869092</span>          NaN          <span style=\"color: #7f7f7f; text-decoration-color: #7f7f7f\">                  </span>\n",
       "<span style=\"color: #7fbfbf; text-decoration-color: #7fbfbf\">           </span>         hpob/all/<span style=\"color: #008080; text-decoration-color: #008080; font-weight: bold\">2073</span>/<span style=\"color: #008080; text-decoration-color: #008080; font-weight: bold\">125968</span>                         <span style=\"color: #008080; text-decoration-color: #008080; font-weight: bold\">-0.868926</span>          NaN          <span style=\"color: #7f7f7f; text-decoration-color: #7f7f7f\">                  </span>\n",
       "<span style=\"color: #7fbfbf; text-decoration-color: #7fbfbf\">           </span>         <span style=\"color: #808000; text-decoration-color: #808000\">...</span>                                                <span style=\"color: #808000; text-decoration-color: #808000\">...</span>          <span style=\"color: #808000; text-decoration-color: #808000\">...</span>          <span style=\"color: #7f7f7f; text-decoration-color: #7f7f7f\">                  </span>\n",
       "<span style=\"color: #7fbfbf; text-decoration-color: #7fbfbf\">           </span>         yahpo/so/rbv2_super/<span style=\"color: #008080; text-decoration-color: #008080; font-weight: bold\">15</span>/<span style=\"color: #800080; text-decoration-color: #800080; font-style: italic\">None</span>                  <span style=\"color: #008080; text-decoration-color: #008080; font-weight: bold\">-0.989852</span>          NaN          <span style=\"color: #7f7f7f; text-decoration-color: #7f7f7f\">                  </span>\n",
       "<span style=\"color: #7fbfbf; text-decoration-color: #7fbfbf\">           </span>         yahpo/so/rbv2_xgboost/<span style=\"color: #008080; text-decoration-color: #008080; font-weight: bold\">12</span>/<span style=\"color: #800080; text-decoration-color: #800080; font-style: italic\">None</span>                <span style=\"color: #008080; text-decoration-color: #008080; font-weight: bold\">-0.996552</span>          NaN          <span style=\"color: #7f7f7f; text-decoration-color: #7f7f7f\">                  </span>\n",
       "<span style=\"color: #7fbfbf; text-decoration-color: #7fbfbf\">           </span>         yahpo/so/rbv2_xgboost/<span style=\"color: #008080; text-decoration-color: #008080; font-weight: bold\">1501</span>/<span style=\"color: #800080; text-decoration-color: #800080; font-style: italic\">None</span>              <span style=\"color: #008080; text-decoration-color: #008080; font-weight: bold\">-0.979526</span>          NaN          <span style=\"color: #7f7f7f; text-decoration-color: #7f7f7f\">                  </span>\n",
       "<span style=\"color: #7fbfbf; text-decoration-color: #7fbfbf\">           </span>         yahpo/so/rbv2_xgboost/<span style=\"color: #008080; text-decoration-color: #008080; font-weight: bold\">16</span>/<span style=\"color: #800080; text-decoration-color: #800080; font-style: italic\">None</span>                <span style=\"color: #008080; text-decoration-color: #008080; font-weight: bold\">-0.989222</span>          NaN          <span style=\"color: #7f7f7f; text-decoration-color: #7f7f7f\">                  </span>\n",
       "<span style=\"color: #7fbfbf; text-decoration-color: #7fbfbf\">           </span>         yahpo/so/rbv2_xgboost/<span style=\"color: #008080; text-decoration-color: #008080; font-weight: bold\">40499</span>/<span style=\"color: #800080; text-decoration-color: #800080; font-style: italic\">None</span>             <span style=\"color: #008080; text-decoration-color: #008080; font-weight: bold\">-0.999486</span>          NaN          <span style=\"color: #7f7f7f; text-decoration-color: #7f7f7f\">                  </span>\n",
       "<span style=\"color: #7fbfbf; text-decoration-color: #7fbfbf\">           </span>                                                                                      <span style=\"color: #7f7f7f; text-decoration-color: #7f7f7f\">                  </span>\n",
       "<span style=\"color: #7fbfbf; text-decoration-color: #7fbfbf\">           </span>         <span style=\"font-weight: bold\">[</span><span style=\"color: #008080; text-decoration-color: #008080; font-weight: bold\">1654</span> rows x <span style=\"color: #008080; text-decoration-color: #008080; font-weight: bold\">6</span> columns<span style=\"font-weight: bold\">]</span>                                                      <span style=\"color: #7f7f7f; text-decoration-color: #7f7f7f\">                  </span>\n",
       "</pre>\n"
      ],
      "text/plain": [
       "\u001b[2;36m[13:50:53]\u001b[0m\u001b[2;36m \u001b[0m\u001b[34mINFO    \u001b[0m Lost following experiments: optimizer_id                          HEBO       \u001b]8;id=830919;file:///scratch/hpc-prf-intexml/cbenjamins/repos/CARP-S-Experiments/lib/CARP-S/carps/analysis/run_autorank.py\u001b\\\u001b[2mrun_autorank.py\u001b[0m\u001b]8;;\u001b\\\u001b[2m:\u001b[0m\u001b]8;id=845180;file:///scratch/hpc-prf-intexml/cbenjamins/repos/CARP-S-Experiments/lib/CARP-S/carps/analysis/run_autorank.py#35\u001b\\\u001b[2m35\u001b[0m\u001b]8;;\u001b\\\n",
       "\u001b[2;36m           \u001b[0m         Optuna  RandomSearch  \\                                                      \u001b[2m                  \u001b[0m\n",
       "\u001b[2;36m           \u001b[0m         problem_id                                                                   \u001b[2m                  \u001b[0m\n",
       "\u001b[2;36m           \u001b[0m         hpob/all/\u001b[1;36m2010\u001b[0m/\u001b[1;36m125966\u001b[0m                   NaN     NaN     \u001b[1;36m-0.856287\u001b[0m             \u001b[2m                  \u001b[0m\n",
       "\u001b[2;36m           \u001b[0m         hpob/all/\u001b[1;36m2039\u001b[0m/\u001b[1;36m125966\u001b[0m                   NaN     NaN     \u001b[1;36m-0.859757\u001b[0m             \u001b[2m                  \u001b[0m\n",
       "\u001b[2;36m           \u001b[0m         hpob/all/\u001b[1;36m2039\u001b[0m/\u001b[1;36m125968\u001b[0m                   NaN     NaN     \u001b[1;36m-0.861322\u001b[0m             \u001b[2m                  \u001b[0m\n",
       "\u001b[2;36m           \u001b[0m         hpob/all/\u001b[1;36m2073\u001b[0m/\u001b[1;36m125966\u001b[0m                   NaN     NaN     \u001b[1;36m-0.869009\u001b[0m             \u001b[2m                  \u001b[0m\n",
       "\u001b[2;36m           \u001b[0m         hpob/all/\u001b[1;36m2073\u001b[0m/\u001b[1;36m125968\u001b[0m                   NaN     NaN     \u001b[1;36m-0.868926\u001b[0m             \u001b[2m                  \u001b[0m\n",
       "\u001b[2;36m           \u001b[0m         \u001b[33m...\u001b[0m                                    \u001b[33m...\u001b[0m     \u001b[33m...\u001b[0m           \u001b[33m...\u001b[0m             \u001b[2m                  \u001b[0m\n",
       "\u001b[2;36m           \u001b[0m         yahpo/so/rbv2_super/\u001b[1;36m15\u001b[0m/\u001b[3;35mNone\u001b[0m            NaN     NaN     \u001b[1;36m-0.984062\u001b[0m             \u001b[2m                  \u001b[0m\n",
       "\u001b[2;36m           \u001b[0m         yahpo/so/rbv2_xgboost/\u001b[1;36m12\u001b[0m/\u001b[3;35mNone\u001b[0m    \u001b[1;36m-0.772316\u001b[0m     NaN     \u001b[1;36m-0.982029\u001b[0m             \u001b[2m                  \u001b[0m\n",
       "\u001b[2;36m           \u001b[0m         yahpo/so/rbv2_xgboost/\u001b[1;36m1501\u001b[0m/\u001b[3;35mNone\u001b[0m  \u001b[1;36m-0.445844\u001b[0m     NaN     \u001b[1;36m-0.922245\u001b[0m             \u001b[2m                  \u001b[0m\n",
       "\u001b[2;36m           \u001b[0m         yahpo/so/rbv2_xgboost/\u001b[1;36m16\u001b[0m/\u001b[3;35mNone\u001b[0m    \u001b[1;36m-0.120207\u001b[0m     NaN     \u001b[1;36m-0.972923\u001b[0m             \u001b[2m                  \u001b[0m\n",
       "\u001b[2;36m           \u001b[0m         yahpo/so/rbv2_xgboost/\u001b[1;36m40499\u001b[0m/\u001b[3;35mNone\u001b[0m \u001b[1;36m-0.813110\u001b[0m     NaN     \u001b[1;36m-0.997573\u001b[0m             \u001b[2m                  \u001b[0m\n",
       "\u001b[2;36m           \u001b[0m                                                                                      \u001b[2m                  \u001b[0m\n",
       "\u001b[2;36m           \u001b[0m         optimizer_id                      SMAC3-\u001b[1;36m1.4\u001b[0m-BlackBoxFacade  \\                \u001b[2m                  \u001b[0m\n",
       "\u001b[2;36m           \u001b[0m         problem_id                                                                   \u001b[2m                  \u001b[0m\n",
       "\u001b[2;36m           \u001b[0m         hpob/all/\u001b[1;36m2010\u001b[0m/\u001b[1;36m125966\u001b[0m                                   NaN                   \u001b[2m                  \u001b[0m\n",
       "\u001b[2;36m           \u001b[0m         hpob/all/\u001b[1;36m2039\u001b[0m/\u001b[1;36m125966\u001b[0m                                   NaN                   \u001b[2m                  \u001b[0m\n",
       "\u001b[2;36m           \u001b[0m         hpob/all/\u001b[1;36m2039\u001b[0m/\u001b[1;36m125968\u001b[0m                                   NaN                   \u001b[2m                  \u001b[0m\n",
       "\u001b[2;36m           \u001b[0m         hpob/all/\u001b[1;36m2073\u001b[0m/\u001b[1;36m125966\u001b[0m                                   NaN                   \u001b[2m                  \u001b[0m\n",
       "\u001b[2;36m           \u001b[0m         hpob/all/\u001b[1;36m2073\u001b[0m/\u001b[1;36m125968\u001b[0m                                   NaN                   \u001b[2m                  \u001b[0m\n",
       "\u001b[2;36m           \u001b[0m         \u001b[33m...\u001b[0m                                                    \u001b[33m...\u001b[0m                   \u001b[2m                  \u001b[0m\n",
       "\u001b[2;36m           \u001b[0m         yahpo/so/rbv2_super/\u001b[1;36m15\u001b[0m/\u001b[3;35mNone\u001b[0m                      \u001b[1;36m-0.985433\u001b[0m                   \u001b[2m                  \u001b[0m\n",
       "\u001b[2;36m           \u001b[0m         yahpo/so/rbv2_xgboost/\u001b[1;36m12\u001b[0m/\u001b[3;35mNone\u001b[0m                    \u001b[1;36m-0.988317\u001b[0m                   \u001b[2m                  \u001b[0m\n",
       "\u001b[2;36m           \u001b[0m         yahpo/so/rbv2_xgboost/\u001b[1;36m1501\u001b[0m/\u001b[3;35mNone\u001b[0m                  \u001b[1;36m-0.960757\u001b[0m                   \u001b[2m                  \u001b[0m\n",
       "\u001b[2;36m           \u001b[0m         yahpo/so/rbv2_xgboost/\u001b[1;36m16\u001b[0m/\u001b[3;35mNone\u001b[0m                    \u001b[1;36m-0.983591\u001b[0m                   \u001b[2m                  \u001b[0m\n",
       "\u001b[2;36m           \u001b[0m         yahpo/so/rbv2_xgboost/\u001b[1;36m40499\u001b[0m/\u001b[3;35mNone\u001b[0m                 \u001b[1;36m-0.998038\u001b[0m                   \u001b[2m                  \u001b[0m\n",
       "\u001b[2;36m           \u001b[0m                                                                                      \u001b[2m                  \u001b[0m\n",
       "\u001b[2;36m           \u001b[0m         optimizer_id                      SMAC3-BlackBoxFacade  SyneTune-BO          \u001b[2m                  \u001b[0m\n",
       "\u001b[2;36m           \u001b[0m         problem_id                                                                   \u001b[2m                  \u001b[0m\n",
       "\u001b[2;36m           \u001b[0m         hpob/all/\u001b[1;36m2010\u001b[0m/\u001b[1;36m125966\u001b[0m                         \u001b[1;36m-0.856287\u001b[0m          NaN          \u001b[2m                  \u001b[0m\n",
       "\u001b[2;36m           \u001b[0m         hpob/all/\u001b[1;36m2039\u001b[0m/\u001b[1;36m125966\u001b[0m                         \u001b[1;36m-0.860211\u001b[0m          NaN          \u001b[2m                  \u001b[0m\n",
       "\u001b[2;36m           \u001b[0m         hpob/all/\u001b[1;36m2039\u001b[0m/\u001b[1;36m125968\u001b[0m                         \u001b[1;36m-0.861322\u001b[0m          NaN          \u001b[2m                  \u001b[0m\n",
       "\u001b[2;36m           \u001b[0m         hpob/all/\u001b[1;36m2073\u001b[0m/\u001b[1;36m125966\u001b[0m                         \u001b[1;36m-0.869092\u001b[0m          NaN          \u001b[2m                  \u001b[0m\n",
       "\u001b[2;36m           \u001b[0m         hpob/all/\u001b[1;36m2073\u001b[0m/\u001b[1;36m125968\u001b[0m                         \u001b[1;36m-0.868926\u001b[0m          NaN          \u001b[2m                  \u001b[0m\n",
       "\u001b[2;36m           \u001b[0m         \u001b[33m...\u001b[0m                                                \u001b[33m...\u001b[0m          \u001b[33m...\u001b[0m          \u001b[2m                  \u001b[0m\n",
       "\u001b[2;36m           \u001b[0m         yahpo/so/rbv2_super/\u001b[1;36m15\u001b[0m/\u001b[3;35mNone\u001b[0m                  \u001b[1;36m-0.989852\u001b[0m          NaN          \u001b[2m                  \u001b[0m\n",
       "\u001b[2;36m           \u001b[0m         yahpo/so/rbv2_xgboost/\u001b[1;36m12\u001b[0m/\u001b[3;35mNone\u001b[0m                \u001b[1;36m-0.996552\u001b[0m          NaN          \u001b[2m                  \u001b[0m\n",
       "\u001b[2;36m           \u001b[0m         yahpo/so/rbv2_xgboost/\u001b[1;36m1501\u001b[0m/\u001b[3;35mNone\u001b[0m              \u001b[1;36m-0.979526\u001b[0m          NaN          \u001b[2m                  \u001b[0m\n",
       "\u001b[2;36m           \u001b[0m         yahpo/so/rbv2_xgboost/\u001b[1;36m16\u001b[0m/\u001b[3;35mNone\u001b[0m                \u001b[1;36m-0.989222\u001b[0m          NaN          \u001b[2m                  \u001b[0m\n",
       "\u001b[2;36m           \u001b[0m         yahpo/so/rbv2_xgboost/\u001b[1;36m40499\u001b[0m/\u001b[3;35mNone\u001b[0m             \u001b[1;36m-0.999486\u001b[0m          NaN          \u001b[2m                  \u001b[0m\n",
       "\u001b[2;36m           \u001b[0m                                                                                      \u001b[2m                  \u001b[0m\n",
       "\u001b[2;36m           \u001b[0m         \u001b[1m[\u001b[0m\u001b[1;36m1654\u001b[0m rows x \u001b[1;36m6\u001b[0m columns\u001b[1m]\u001b[0m                                                      \u001b[2m                  \u001b[0m\n"
      ]
     },
     "metadata": {},
     "output_type": "display_data"
    },
    {
     "name": "stdout",
     "output_type": "stream",
     "text": [
      "./shift pointfile.txt 6 81 20 pointfile_out.txt\n"
     ]
    }
   ],
   "source": [
    "from carps.analysis.run_autorank import get_df_crit\n",
    "filename = \"pointfile.txt\"\n",
    "filename_out = \"pointfile_out.txt\"\n",
    "df_crit = get_df_crit(df[df[\"scenario\"]==\"blackbox\"])\n",
    "df_crit.to_csv(filename, header=False, index=False)\n",
    "\n",
    "command = \"./shift {filename} {dim} {npoints} {kpoints} {filename_out}\".format(\n",
    "    filename=filename,\n",
    "    dim=df_crit.shape[1],\n",
    "    npoints=df_crit.shape[0],\n",
    "    kpoints=20,\n",
    "    filename_out=filename_out\n",
    ")\n",
    "print(command)"
   ]
  },
  {
   "cell_type": "code",
   "execution_count": null,
   "metadata": {},
   "outputs": [],
   "source": [
    "import matplotlib.pyplot as plt\n",
    "import seaborn as sns\n",
    "\n",
    "# ax = sns.lineplot(data=perf, x=\"n_trials_norm\", y=\"trial_value__cost_inc_norm\", style=\"seed\", hue=\"problem_id\")\n",
    "# ax.get_legend().remove()\n",
    "# plt.show()"
   ]
  },
  {
   "cell_type": "code",
   "execution_count": null,
   "metadata": {},
   "outputs": [],
   "source": [
    "import tsfel\n",
    "from functools import partial\n",
    "from multiprocessing import Pool\n",
    "\n",
    "cfg_file = tsfel.get_features_by_domain()               # All features will be extracted.\n",
    "cgf_file = tsfel.get_features_by_domain(\"statistical\")  # All statistical domain features will be extracted\n",
    "# cgf_file = tsfel.get_features_by_domain(\"temporal\")     # All temporal domain features will be extracted\n",
    "# cgf_file = tsfel.get_features_by_domain(\"spectral\") \n",
    "\n",
    "window_size = 21\n",
    "groups = list(perf.groupby(by=[\"optimizer_id\", \"problem_id\", \"seed\"])[\"trial_value__cost_inc_norm\"])\n",
    "gids = [g[0] for g in groups]\n",
    "signal_windows = list([g[1].to_numpy() for g in groups])\n",
    "signal_windows = np.array([s for s in signal_windows if len(s) == 21])\n",
    "# signal_windows = pd.DataFrame(signal_windows)\n",
    "print(signal_windows.shape)\n",
    "# print(set([len(s) for s in signal_windows]))\n",
    "# print(signal_windows)\n",
    "\n",
    "def extract(signal_windows):\n",
    "    return tsfel.time_series_features_extractor(\n",
    "        dict_features=cfg_file, \n",
    "        signal_windows=signal_windows, \n",
    "        fs=None, \n",
    "        window_size=window_size, \n",
    "        verbose=0,\n",
    "        n_jobs=None\n",
    "        )\n",
    "\n",
    "with Pool(processes=4) as pool:\n",
    "    X_train = pool.map(extract, signal_windows)\n",
    "\n",
    "X_train = np.concatenate(X_train)\n",
    "X_train.shape"
   ]
  },
  {
   "cell_type": "code",
   "execution_count": null,
   "metadata": {},
   "outputs": [],
   "source": [
    "pd.DataFrame(X_train).to_csv(\"tsfeatures.csv\")"
   ]
  },
  {
   "cell_type": "code",
   "execution_count": null,
   "metadata": {},
   "outputs": [],
   "source": [
    "perf[\"benchmark_id\"].unique()"
   ]
  },
  {
   "cell_type": "code",
   "execution_count": null,
   "metadata": {},
   "outputs": [],
   "source": [
    "from sklearn.cluster import KMeans\n",
    "from sklearn.impute import SimpleImputer\n",
    "from sklearn.decomposition import PCA\n",
    "from sklearn.preprocessing import normalize\n",
    "\n",
    "n_clusters = 20\n",
    "\n",
    "print(np.any(np.isnan(X_train)))\n",
    "\n",
    "X_clean = SimpleImputer(missing_values=np.nan, strategy='mean').fit_transform(X_train)\n",
    "X_clean = normalize(X_clean)\n",
    "\n",
    "X_pca = PCA(n_components=2).fit_transform(X_clean)\n",
    "\n",
    "print(X_pca.shape)\n",
    "\n",
    "kmeans = KMeans(n_clusters=n_clusters, random_state=0, n_init=\"auto\").fit(X_pca)\n",
    "clusters = kmeans.predict(X_pca)\n",
    "\n",
    "centers = kmeans.cluster_centers_\n",
    "print(centers.shape)\n",
    "\n",
    "def idx_min_dist_to_center(P, c):\n",
    "    D = np.sum((P - c) ** 2, axis=1)\n",
    "    return np.argmin(D)\n",
    "\n",
    "\n",
    "ids = [idx_min_dist_to_center(X_pca, c) for c in centers]\n",
    "closest_points = X_pca[ids]\n",
    "print(np.array(gids)[ids])\n",
    "\n",
    "fig, ax = plt.subplots()\n",
    "ax.scatter(X_pca[:, 0], X_pca[:, 1], c=clusters)\n",
    "ax.scatter(centers[:, 0], centers[:, 1], color=\"black\")\n",
    "ax.scatter(closest_points[:, 0], closest_points[:, 1], color=\"red\")\n",
    "plt.show()"
   ]
  }
 ],
 "metadata": {
  "kernelspec": {
   "display_name": "Python 3",
   "language": "python",
   "name": "python3"
  },
  "language_info": {
   "codemirror_mode": {
    "name": "ipython",
    "version": 3
   },
   "file_extension": ".py",
   "mimetype": "text/x-python",
   "name": "python",
   "nbconvert_exporter": "python",
   "pygments_lexer": "ipython3",
   "version": "3.10.14"
  }
 },
 "nbformat": 4,
 "nbformat_minor": 2
}
