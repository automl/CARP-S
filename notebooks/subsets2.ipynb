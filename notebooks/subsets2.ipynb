{
 "cells": [
  {
   "cell_type": "code",
   "execution_count": null,
   "metadata": {},
   "outputs": [],
   "source": []
  },
  {
   "cell_type": "code",
   "execution_count": 1,
   "metadata": {},
   "outputs": [
    {
     "data": {
      "text/html": [
       "<pre style=\"white-space:pre;overflow-x:auto;line-height:normal;font-family:Menlo,'DejaVu Sans Mono',consolas,'Courier New',monospace\"><span style=\"color: #7fbfbf; text-decoration-color: #7fbfbf\">[16:50:07] </span><span style=\"color: #000080; text-decoration-color: #000080\">INFO    </span> Start normalization<span style=\"color: #808000; text-decoration-color: #808000\">...</span>                                                       <a href=\"file:///scratch/hpc-prf-intexml/cbenjamins/repos/CARP-S-Experiments/lib/CARP-S/carps/analysis/gather_data.py\" target=\"_blank\"><span style=\"color: #7f7f7f; text-decoration-color: #7f7f7f\">gather_data.py</span></a><span style=\"color: #7f7f7f; text-decoration-color: #7f7f7f\">:</span><a href=\"file:///scratch/hpc-prf-intexml/cbenjamins/repos/CARP-S-Experiments/lib/CARP-S/carps/analysis/gather_data.py#357\" target=\"_blank\"><span style=\"color: #7f7f7f; text-decoration-color: #7f7f7f\">357</span></a>\n",
       "</pre>\n"
      ],
      "text/plain": [
       "\u001b[2;36m[16:50:07]\u001b[0m\u001b[2;36m \u001b[0m\u001b[34mINFO    \u001b[0m Start normalization\u001b[33m...\u001b[0m                                                       \u001b]8;id=629150;file:///scratch/hpc-prf-intexml/cbenjamins/repos/CARP-S-Experiments/lib/CARP-S/carps/analysis/gather_data.py\u001b\\\u001b[2mgather_data.py\u001b[0m\u001b]8;;\u001b\\\u001b[2m:\u001b[0m\u001b]8;id=878232;file:///scratch/hpc-prf-intexml/cbenjamins/repos/CARP-S-Experiments/lib/CARP-S/carps/analysis/gather_data.py#357\u001b\\\u001b[2m357\u001b[0m\u001b]8;;\u001b\\\n"
      ]
     },
     "metadata": {},
     "output_type": "display_data"
    },
    {
     "data": {
      "text/html": [
       "<pre style=\"white-space:pre;overflow-x:auto;line-height:normal;font-family:Menlo,'DejaVu Sans Mono',consolas,'Courier New',monospace\"><span style=\"color: #7fbfbf; text-decoration-color: #7fbfbf\">[16:50:08] </span><span style=\"color: #000080; text-decoration-color: #000080\">INFO    </span> Normalize n_trials<span style=\"color: #808000; text-decoration-color: #808000\">...</span>                                                        <a href=\"file:///scratch/hpc-prf-intexml/cbenjamins/repos/CARP-S-Experiments/lib/CARP-S/carps/analysis/gather_data.py\" target=\"_blank\"><span style=\"color: #7f7f7f; text-decoration-color: #7f7f7f\">gather_data.py</span></a><span style=\"color: #7f7f7f; text-decoration-color: #7f7f7f\">:</span><a href=\"file:///scratch/hpc-prf-intexml/cbenjamins/repos/CARP-S-Experiments/lib/CARP-S/carps/analysis/gather_data.py#358\" target=\"_blank\"><span style=\"color: #7f7f7f; text-decoration-color: #7f7f7f\">358</span></a>\n",
       "</pre>\n"
      ],
      "text/plain": [
       "\u001b[2;36m[16:50:08]\u001b[0m\u001b[2;36m \u001b[0m\u001b[34mINFO    \u001b[0m Normalize n_trials\u001b[33m...\u001b[0m                                                        \u001b]8;id=131102;file:///scratch/hpc-prf-intexml/cbenjamins/repos/CARP-S-Experiments/lib/CARP-S/carps/analysis/gather_data.py\u001b\\\u001b[2mgather_data.py\u001b[0m\u001b]8;;\u001b\\\u001b[2m:\u001b[0m\u001b]8;id=136349;file:///scratch/hpc-prf-intexml/cbenjamins/repos/CARP-S-Experiments/lib/CARP-S/carps/analysis/gather_data.py#358\u001b\\\u001b[2m358\u001b[0m\u001b]8;;\u001b\\\n"
      ]
     },
     "metadata": {},
     "output_type": "display_data"
    },
    {
     "data": {
      "text/html": [
       "<pre style=\"white-space:pre;overflow-x:auto;line-height:normal;font-family:Menlo,'DejaVu Sans Mono',consolas,'Courier New',monospace\"><span style=\"color: #7fbfbf; text-decoration-color: #7fbfbf\">[16:50:09] </span><span style=\"color: #000080; text-decoration-color: #000080\">INFO    </span> Normalize cost<span style=\"color: #808000; text-decoration-color: #808000\">...</span>                                                            <a href=\"file:///scratch/hpc-prf-intexml/cbenjamins/repos/CARP-S-Experiments/lib/CARP-S/carps/analysis/gather_data.py\" target=\"_blank\"><span style=\"color: #7f7f7f; text-decoration-color: #7f7f7f\">gather_data.py</span></a><span style=\"color: #7f7f7f; text-decoration-color: #7f7f7f\">:</span><a href=\"file:///scratch/hpc-prf-intexml/cbenjamins/repos/CARP-S-Experiments/lib/CARP-S/carps/analysis/gather_data.py#360\" target=\"_blank\"><span style=\"color: #7f7f7f; text-decoration-color: #7f7f7f\">360</span></a>\n",
       "</pre>\n"
      ],
      "text/plain": [
       "\u001b[2;36m[16:50:09]\u001b[0m\u001b[2;36m \u001b[0m\u001b[34mINFO    \u001b[0m Normalize cost\u001b[33m...\u001b[0m                                                            \u001b]8;id=433409;file:///scratch/hpc-prf-intexml/cbenjamins/repos/CARP-S-Experiments/lib/CARP-S/carps/analysis/gather_data.py\u001b\\\u001b[2mgather_data.py\u001b[0m\u001b]8;;\u001b\\\u001b[2m:\u001b[0m\u001b]8;id=735840;file:///scratch/hpc-prf-intexml/cbenjamins/repos/CARP-S-Experiments/lib/CARP-S/carps/analysis/gather_data.py#360\u001b\\\u001b[2m360\u001b[0m\u001b]8;;\u001b\\\n"
      ]
     },
     "metadata": {},
     "output_type": "display_data"
    },
    {
     "data": {
      "text/html": [
       "<pre style=\"white-space:pre;overflow-x:auto;line-height:normal;font-family:Menlo,'DejaVu Sans Mono',consolas,'Courier New',monospace\"><span style=\"color: #7fbfbf; text-decoration-color: #7fbfbf\">           </span><span style=\"color: #000080; text-decoration-color: #000080\">INFO    </span> Calc normalized incumbent cost<span style=\"color: #808000; text-decoration-color: #808000\">...</span>                                            <a href=\"file:///scratch/hpc-prf-intexml/cbenjamins/repos/CARP-S-Experiments/lib/CARP-S/carps/analysis/gather_data.py\" target=\"_blank\"><span style=\"color: #7f7f7f; text-decoration-color: #7f7f7f\">gather_data.py</span></a><span style=\"color: #7f7f7f; text-decoration-color: #7f7f7f\">:</span><a href=\"file:///scratch/hpc-prf-intexml/cbenjamins/repos/CARP-S-Experiments/lib/CARP-S/carps/analysis/gather_data.py#369\" target=\"_blank\"><span style=\"color: #7f7f7f; text-decoration-color: #7f7f7f\">369</span></a>\n",
       "</pre>\n"
      ],
      "text/plain": [
       "\u001b[2;36m          \u001b[0m\u001b[2;36m \u001b[0m\u001b[34mINFO    \u001b[0m Calc normalized incumbent cost\u001b[33m...\u001b[0m                                            \u001b]8;id=955310;file:///scratch/hpc-prf-intexml/cbenjamins/repos/CARP-S-Experiments/lib/CARP-S/carps/analysis/gather_data.py\u001b\\\u001b[2mgather_data.py\u001b[0m\u001b]8;;\u001b\\\u001b[2m:\u001b[0m\u001b]8;id=300720;file:///scratch/hpc-prf-intexml/cbenjamins/repos/CARP-S-Experiments/lib/CARP-S/carps/analysis/gather_data.py#369\u001b\\\u001b[2m369\u001b[0m\u001b]8;;\u001b\\\n"
      ]
     },
     "metadata": {},
     "output_type": "display_data"
    },
    {
     "data": {
      "text/html": [
       "<pre style=\"white-space:pre;overflow-x:auto;line-height:normal;font-family:Menlo,'DejaVu Sans Mono',consolas,'Courier New',monospace\"><span style=\"color: #7fbfbf; text-decoration-color: #7fbfbf\">           </span><span style=\"color: #000080; text-decoration-color: #000080\">INFO    </span> Normalize time<span style=\"color: #808000; text-decoration-color: #808000\">...</span>                                                            <a href=\"file:///scratch/hpc-prf-intexml/cbenjamins/repos/CARP-S-Experiments/lib/CARP-S/carps/analysis/gather_data.py\" target=\"_blank\"><span style=\"color: #7f7f7f; text-decoration-color: #7f7f7f\">gather_data.py</span></a><span style=\"color: #7f7f7f; text-decoration-color: #7f7f7f\">:</span><a href=\"file:///scratch/hpc-prf-intexml/cbenjamins/repos/CARP-S-Experiments/lib/CARP-S/carps/analysis/gather_data.py#375\" target=\"_blank\"><span style=\"color: #7f7f7f; text-decoration-color: #7f7f7f\">375</span></a>\n",
       "</pre>\n"
      ],
      "text/plain": [
       "\u001b[2;36m          \u001b[0m\u001b[2;36m \u001b[0m\u001b[34mINFO    \u001b[0m Normalize time\u001b[33m...\u001b[0m                                                            \u001b]8;id=709228;file:///scratch/hpc-prf-intexml/cbenjamins/repos/CARP-S-Experiments/lib/CARP-S/carps/analysis/gather_data.py\u001b\\\u001b[2mgather_data.py\u001b[0m\u001b]8;;\u001b\\\u001b[2m:\u001b[0m\u001b]8;id=382460;file:///scratch/hpc-prf-intexml/cbenjamins/repos/CARP-S-Experiments/lib/CARP-S/carps/analysis/gather_data.py#375\u001b\\\u001b[2m375\u001b[0m\u001b]8;;\u001b\\\n"
      ]
     },
     "metadata": {},
     "output_type": "display_data"
    },
    {
     "data": {
      "text/html": [
       "<pre style=\"white-space:pre;overflow-x:auto;line-height:normal;font-family:Menlo,'DejaVu Sans Mono',consolas,'Courier New',monospace\"><span style=\"color: #7fbfbf; text-decoration-color: #7fbfbf\">[16:50:10] </span><span style=\"color: #000080; text-decoration-color: #000080\">INFO    </span> Done.                                                                        <a href=\"file:///scratch/hpc-prf-intexml/cbenjamins/repos/CARP-S-Experiments/lib/CARP-S/carps/analysis/gather_data.py\" target=\"_blank\"><span style=\"color: #7f7f7f; text-decoration-color: #7f7f7f\">gather_data.py</span></a><span style=\"color: #7f7f7f; text-decoration-color: #7f7f7f\">:</span><a href=\"file:///scratch/hpc-prf-intexml/cbenjamins/repos/CARP-S-Experiments/lib/CARP-S/carps/analysis/gather_data.py#378\" target=\"_blank\"><span style=\"color: #7f7f7f; text-decoration-color: #7f7f7f\">378</span></a>\n",
       "</pre>\n"
      ],
      "text/plain": [
       "\u001b[2;36m[16:50:10]\u001b[0m\u001b[2;36m \u001b[0m\u001b[34mINFO    \u001b[0m Done.                                                                        \u001b]8;id=257396;file:///scratch/hpc-prf-intexml/cbenjamins/repos/CARP-S-Experiments/lib/CARP-S/carps/analysis/gather_data.py\u001b\\\u001b[2mgather_data.py\u001b[0m\u001b]8;;\u001b\\\u001b[2m:\u001b[0m\u001b]8;id=544506;file:///scratch/hpc-prf-intexml/cbenjamins/repos/CARP-S-Experiments/lib/CARP-S/carps/analysis/gather_data.py#378\u001b\\\u001b[2m378\u001b[0m\u001b]8;;\u001b\\\n"
      ]
     },
     "metadata": {},
     "output_type": "display_data"
    }
   ],
   "source": [
    "from pathlib import Path\n",
    "import pandas as pd\n",
    "from carps.analysis.gather_data import normalize_logs, get_interpolated_performance_df, load_logs, process_logs\n",
    "\n",
    "def load_set(paths: list[str], set_id: str = \"unknown\") -> tuple[pd.DataFrame, pd.DataFrame]:\n",
    "    logs = []\n",
    "    for p in paths:\n",
    "        fn = Path(p) / \"trajectory.parquet\"\n",
    "        if not fn.is_file():\n",
    "            fn = Path(p) / \"logs.parquet\"\n",
    "        logs.append(pd.read_parquet(fn))\n",
    "\n",
    "    df = pd.concat(logs).reset_index(drop=True)\n",
    "    df_cfg = pd.concat([pd.read_parquet(Path(p) / \"logs_cfg.parquet\") for p in paths]).reset_index(drop=True)\n",
    "    df[\"set\"] = set_id\n",
    "    return df, df_cfg\n",
    "\n",
    "scenario = \"blackbox\"\n",
    "set_id = \"full\"\n",
    "subset_size = 30\n",
    "paths = [\"../runs/SMAC3-BlackBoxFacade\", \"../runs/RandomSearch\", \"../runs/Nevergrad-CMA-ES\"]\n",
    "\n",
    "scenario = \"multi-fidelity-objective\"\n",
    "set_id = \"full\"\n",
    "subset_size = 9\n",
    "paths = [\"../runs_MOMF/SMAC3-MOMF-GP\", \"../runs_MOMF/RandomSearch\", \"../runs_MOMF/Nevergrad-DE\"]\n",
    "\n",
    "scenario = \"multi-objective\"\n",
    "set_id = \"full\"\n",
    "subset_size = 10\n",
    "paths = [\"../runs_MO/Optuna-MO\", \"../runs_MO/RandomSearch\", \"../runs_MO/Nevergrad-DE\"]\n",
    "\n",
    "scenario = \"multi-fidelity\"\n",
    "set_id = \"full\"\n",
    "subset_size = 20\n",
    "paths = [\"../runs/SMAC3-Hyperband\", \"../runs/SMAC3-MultiFidelityFacade\", \"../runs_/DEHB\"]\n",
    "\n",
    "fn = f\"../data/{scenario}_{set_id}_logs.parquet\"\n",
    "if Path(fn).is_file():\n",
    "    df = pd.read_parquet(fn)\n",
    "else:\n",
    "    D = []\n",
    "    for rundir in paths:\n",
    "        df, df_cfg = load_set([rundir], set_id=\"full\")\n",
    "        D.append(df)\n",
    "\n",
    "    df = pd.concat(D).reset_index(drop=True)\n",
    "    del D\n",
    "\n",
    "    df = normalize_logs(df)\n",
    "\n",
    "    normalize_performance = False\n",
    "    perf_col = \"trial_value__cost_inc_norm\" if normalize_performance else \"trial_value__cost_inc\"\n",
    "\n",
    "    df.to_parquet(f\"../data/{scenario}_{set_id}_logs.parquet\")"
   ]
  },
  {
   "cell_type": "code",
   "execution_count": 2,
   "metadata": {},
   "outputs": [
    {
     "name": "stdout",
     "output_type": "stream",
     "text": [
      "35\n",
      "1\n"
     ]
    }
   ],
   "source": [
    "subset_size = 9\n",
    "import numpy as np\n",
    "from sklearn.model_selection import StratifiedShuffleSplit, ShuffleSplit\n",
    "from carps.utils.pareto_front import pareto\n",
    "\n",
    "problem_ids = df[\"problem_id\"].unique()\n",
    "benchmark_ids = [pid.split(\"/\")[3] for pid in problem_ids]\n",
    "n_problems = len(problem_ids)\n",
    "\n",
    "print(n_problems)\n",
    "\n",
    "n_splits = n_problems // (subset_size * 2)\n",
    "print(n_splits)\n",
    "X = problem_ids\n",
    "y = benchmark_ids\n",
    "\n",
    "seeds = np.arange(0, 5)\n",
    "\n",
    "split_classes = [StratifiedShuffleSplit, ShuffleSplit]\n",
    "\n",
    "new_subset_performance = []\n",
    "for split_class in split_classes:\n",
    "    for seed in seeds:\n",
    "        sss = split_class(n_splits=n_splits, test_size=0.5, random_state=seed)\n",
    "        sss.get_n_splits(X, y)\n",
    "        for i, (train_index, test_index) in enumerate(sss.split(X, y)):\n",
    "\n",
    "            ids_dev = problem_ids[train_index]\n",
    "            ids_test = problem_ids[test_index]\n",
    "            for _set_id in [\"dev\", \"test\"]:\n",
    "                new_df = df[df[\"problem_id\"].isin(ids_dev)].copy()\n",
    "                set_id = f\"split_{i}_seed_{seed}_subset_{_set_id}\"\n",
    "                new_df[\"set\"] = set_id\n",
    "                new_subset_performance.append(new_df)\n",
    "\n",
    "df_new = pd.concat(new_subset_performance).reset_index(drop=True)"
   ]
  },
  {
   "cell_type": "code",
   "execution_count": null,
   "metadata": {},
   "outputs": [],
   "source": [
    "df.to_parquet(f\"../data/{scenario}_{set_id}_logs.parquet\")"
   ]
  },
  {
   "cell_type": "code",
   "execution_count": 3,
   "metadata": {},
   "outputs": [],
   "source": [
    "# _df = pd.concat([df, df_new]).reset_index(drop=True)\n",
    "_df = new_df"
   ]
  },
  {
   "cell_type": "code",
   "execution_count": 4,
   "metadata": {},
   "outputs": [
    {
     "data": {
      "text/html": [
       "<pre style=\"white-space:pre;overflow-x:auto;line-height:normal;font-family:Menlo,'DejaVu Sans Mono',consolas,'Courier New',monospace\"><span style=\"color: #7fbfbf; text-decoration-color: #7fbfbf\">[16:52:32] </span><span style=\"color: #000080; text-decoration-color: #000080\">INFO    </span> Lost following experiments: optimizer_id                                    <a href=\"file:///scratch/hpc-prf-intexml/cbenjamins/repos/CARP-S-Experiments/lib/CARP-S/carps/analysis/run_autorank.py\" target=\"_blank\"><span style=\"color: #7f7f7f; text-decoration-color: #7f7f7f\">run_autorank.py</span></a><span style=\"color: #7f7f7f; text-decoration-color: #7f7f7f\">:</span><a href=\"file:///scratch/hpc-prf-intexml/cbenjamins/repos/CARP-S-Experiments/lib/CARP-S/carps/analysis/run_autorank.py#113\" target=\"_blank\"><span style=\"color: #7f7f7f; text-decoration-color: #7f7f7f\">113</span></a>\n",
       "<span style=\"color: #7fbfbf; text-decoration-color: #7fbfbf\">           </span>         Nevergrad-DE  RandomSearch  \\                                               <span style=\"color: #7f7f7f; text-decoration-color: #7f7f7f\">                   </span>\n",
       "<span style=\"color: #7fbfbf; text-decoration-color: #7fbfbf\">           </span>         problem_id                                                                  <span style=\"color: #7f7f7f; text-decoration-color: #7f7f7f\">                   </span>\n",
       "<span style=\"color: #7fbfbf; text-decoration-color: #7fbfbf\">           </span>         yahpo/MOMF/repl/rbv2_super/<span style=\"color: #008080; text-decoration-color: #008080; font-weight: bold\">1053</span>/repl                     NaN      <span style=\"color: #008080; text-decoration-color: #008080; font-weight: bold\">0.004430</span>  <span style=\"color: #7f7f7f; text-decoration-color: #7f7f7f\">                   </span>\n",
       "<span style=\"color: #7fbfbf; text-decoration-color: #7fbfbf\">           </span>         yahpo/MOMF/repl/rbv2_super/<span style=\"color: #008080; text-decoration-color: #008080; font-weight: bold\">1457</span>/repl                     NaN      <span style=\"color: #008080; text-decoration-color: #008080; font-weight: bold\">0.000087</span>  <span style=\"color: #7f7f7f; text-decoration-color: #7f7f7f\">                   </span>\n",
       "<span style=\"color: #7fbfbf; text-decoration-color: #7fbfbf\">           </span>         yahpo/MOMF/trainsize/iaml_super/<span style=\"color: #008080; text-decoration-color: #008080; font-weight: bold\">1489</span>/trainsize           NaN      <span style=\"color: #008080; text-decoration-color: #008080; font-weight: bold\">0.001388</span>  <span style=\"color: #7f7f7f; text-decoration-color: #7f7f7f\">                   </span>\n",
       "<span style=\"color: #7fbfbf; text-decoration-color: #7fbfbf\">           </span>         yahpo/MOMF/trainsize/rbv2_super/<span style=\"color: #008080; text-decoration-color: #008080; font-weight: bold\">1053</span>/trainsize           NaN      <span style=\"color: #008080; text-decoration-color: #008080; font-weight: bold\">0.005711</span>  <span style=\"color: #7f7f7f; text-decoration-color: #7f7f7f\">                   </span>\n",
       "<span style=\"color: #7fbfbf; text-decoration-color: #7fbfbf\">           </span>         yahpo/MOMF/trainsize/rbv2_super/<span style=\"color: #008080; text-decoration-color: #008080; font-weight: bold\">1457</span>/trainsize           NaN      <span style=\"color: #008080; text-decoration-color: #008080; font-weight: bold\">0.000181</span>  <span style=\"color: #7f7f7f; text-decoration-color: #7f7f7f\">                   </span>\n",
       "<span style=\"color: #7fbfbf; text-decoration-color: #7fbfbf\">           </span>                                                                                     <span style=\"color: #7f7f7f; text-decoration-color: #7f7f7f\">                   </span>\n",
       "<span style=\"color: #7fbfbf; text-decoration-color: #7fbfbf\">           </span>         optimizer_id                                    SMAC3-MOMF-GP               <span style=\"color: #7f7f7f; text-decoration-color: #7f7f7f\">                   </span>\n",
       "<span style=\"color: #7fbfbf; text-decoration-color: #7fbfbf\">           </span>         problem_id                                                                  <span style=\"color: #7f7f7f; text-decoration-color: #7f7f7f\">                   </span>\n",
       "<span style=\"color: #7fbfbf; text-decoration-color: #7fbfbf\">           </span>         yahpo/MOMF/repl/rbv2_super/<span style=\"color: #008080; text-decoration-color: #008080; font-weight: bold\">1053</span>/repl                 <span style=\"color: #008080; text-decoration-color: #008080; font-weight: bold\">0.103002</span>               <span style=\"color: #7f7f7f; text-decoration-color: #7f7f7f\">                   </span>\n",
       "<span style=\"color: #7fbfbf; text-decoration-color: #7fbfbf\">           </span>         yahpo/MOMF/repl/rbv2_super/<span style=\"color: #008080; text-decoration-color: #008080; font-weight: bold\">1457</span>/repl                 <span style=\"color: #008080; text-decoration-color: #008080; font-weight: bold\">0.005367</span>               <span style=\"color: #7f7f7f; text-decoration-color: #7f7f7f\">                   </span>\n",
       "<span style=\"color: #7fbfbf; text-decoration-color: #7fbfbf\">           </span>         yahpo/MOMF/trainsize/iaml_super/<span style=\"color: #008080; text-decoration-color: #008080; font-weight: bold\">1489</span>/trainsize       <span style=\"color: #008080; text-decoration-color: #008080; font-weight: bold\">0.001545</span>               <span style=\"color: #7f7f7f; text-decoration-color: #7f7f7f\">                   </span>\n",
       "<span style=\"color: #7fbfbf; text-decoration-color: #7fbfbf\">           </span>         yahpo/MOMF/trainsize/rbv2_super/<span style=\"color: #008080; text-decoration-color: #008080; font-weight: bold\">1053</span>/trainsize       <span style=\"color: #008080; text-decoration-color: #008080; font-weight: bold\">0.006786</span>               <span style=\"color: #7f7f7f; text-decoration-color: #7f7f7f\">                   </span>\n",
       "<span style=\"color: #7fbfbf; text-decoration-color: #7fbfbf\">           </span>         yahpo/MOMF/trainsize/rbv2_super/<span style=\"color: #008080; text-decoration-color: #008080; font-weight: bold\">1457</span>/trainsize       <span style=\"color: #008080; text-decoration-color: #008080; font-weight: bold\">0.000050</span>               <span style=\"color: #7f7f7f; text-decoration-color: #7f7f7f\">                   </span>\n",
       "</pre>\n"
      ],
      "text/plain": [
       "\u001b[2;36m[16:52:32]\u001b[0m\u001b[2;36m \u001b[0m\u001b[34mINFO    \u001b[0m Lost following experiments: optimizer_id                                    \u001b]8;id=394001;file:///scratch/hpc-prf-intexml/cbenjamins/repos/CARP-S-Experiments/lib/CARP-S/carps/analysis/run_autorank.py\u001b\\\u001b[2mrun_autorank.py\u001b[0m\u001b]8;;\u001b\\\u001b[2m:\u001b[0m\u001b]8;id=508887;file:///scratch/hpc-prf-intexml/cbenjamins/repos/CARP-S-Experiments/lib/CARP-S/carps/analysis/run_autorank.py#113\u001b\\\u001b[2m113\u001b[0m\u001b]8;;\u001b\\\n",
       "\u001b[2;36m           \u001b[0m         Nevergrad-DE  RandomSearch  \\                                               \u001b[2m                   \u001b[0m\n",
       "\u001b[2;36m           \u001b[0m         problem_id                                                                  \u001b[2m                   \u001b[0m\n",
       "\u001b[2;36m           \u001b[0m         yahpo/MOMF/repl/rbv2_super/\u001b[1;36m1053\u001b[0m/repl                     NaN      \u001b[1;36m0.004430\u001b[0m  \u001b[2m                   \u001b[0m\n",
       "\u001b[2;36m           \u001b[0m         yahpo/MOMF/repl/rbv2_super/\u001b[1;36m1457\u001b[0m/repl                     NaN      \u001b[1;36m0.000087\u001b[0m  \u001b[2m                   \u001b[0m\n",
       "\u001b[2;36m           \u001b[0m         yahpo/MOMF/trainsize/iaml_super/\u001b[1;36m1489\u001b[0m/trainsize           NaN      \u001b[1;36m0.001388\u001b[0m  \u001b[2m                   \u001b[0m\n",
       "\u001b[2;36m           \u001b[0m         yahpo/MOMF/trainsize/rbv2_super/\u001b[1;36m1053\u001b[0m/trainsize           NaN      \u001b[1;36m0.005711\u001b[0m  \u001b[2m                   \u001b[0m\n",
       "\u001b[2;36m           \u001b[0m         yahpo/MOMF/trainsize/rbv2_super/\u001b[1;36m1457\u001b[0m/trainsize           NaN      \u001b[1;36m0.000181\u001b[0m  \u001b[2m                   \u001b[0m\n",
       "\u001b[2;36m           \u001b[0m                                                                                     \u001b[2m                   \u001b[0m\n",
       "\u001b[2;36m           \u001b[0m         optimizer_id                                    SMAC3-MOMF-GP               \u001b[2m                   \u001b[0m\n",
       "\u001b[2;36m           \u001b[0m         problem_id                                                                  \u001b[2m                   \u001b[0m\n",
       "\u001b[2;36m           \u001b[0m         yahpo/MOMF/repl/rbv2_super/\u001b[1;36m1053\u001b[0m/repl                 \u001b[1;36m0.103002\u001b[0m               \u001b[2m                   \u001b[0m\n",
       "\u001b[2;36m           \u001b[0m         yahpo/MOMF/repl/rbv2_super/\u001b[1;36m1457\u001b[0m/repl                 \u001b[1;36m0.005367\u001b[0m               \u001b[2m                   \u001b[0m\n",
       "\u001b[2;36m           \u001b[0m         yahpo/MOMF/trainsize/iaml_super/\u001b[1;36m1489\u001b[0m/trainsize       \u001b[1;36m0.001545\u001b[0m               \u001b[2m                   \u001b[0m\n",
       "\u001b[2;36m           \u001b[0m         yahpo/MOMF/trainsize/rbv2_super/\u001b[1;36m1053\u001b[0m/trainsize       \u001b[1;36m0.006786\u001b[0m               \u001b[2m                   \u001b[0m\n",
       "\u001b[2;36m           \u001b[0m         yahpo/MOMF/trainsize/rbv2_super/\u001b[1;36m1457\u001b[0m/trainsize       \u001b[1;36m0.000050\u001b[0m               \u001b[2m                   \u001b[0m\n"
      ]
     },
     "metadata": {},
     "output_type": "display_data"
    },
    {
     "name": "stdout",
     "output_type": "stream",
     "text": [
      "Rejecting null hypothesis that data is normal for column Nevergrad-DE (p=0.010674<0.016667)\n",
      "Rejecting null hypothesis that data is normal for column RandomSearch (p=0.001213<0.016667)\n",
      "Rejecting null hypothesis that data is normal for column SMAC3-MOMF-GP (p=0.005644<0.016667)\n",
      "Using Friedman test as omnibus test\n",
      "Fail to reject null hypothesis that there is no difference between the distributions (p=0.124514)\n",
      "               meanrank    median       mad  ci_lower  ci_upper effect_size  \\\n",
      "RandomSearch   1.583333  0.061162  0.061158  0.000001  0.655315         0.0   \n",
      "SMAC3-MOMF-GP  2.000000  0.008662  0.008659  0.000003  0.257463     0.81074   \n",
      "Nevergrad-DE   2.416667  0.133724  0.123226  0.007722  0.740391   -0.503133   \n",
      "\n",
      "                magnitude  \n",
      "RandomSearch   negligible  \n",
      "SMAC3-MOMF-GP       large  \n",
      "Nevergrad-DE       medium  \n"
     ]
    },
    {
     "name": "stderr",
     "output_type": "stream",
     "text": [
      "/scratch/hpc-prf-intexml/cbenjamins/repos/CARP-S-Experiments/lib/CARP-S/carps/analysis/run_autorank.py:322: UserWarning: Result is not significant and results of the plot may be misleading!\n",
      "  warnings.warn(\"Result is not significant and results of the plot may be misleading!\")\n",
      "/scratch/hpc-prf-intexml/cbenjamins/.conda/envs/carpsexp/lib/python3.10/site-packages/autorank/_util.py:432: FutureWarning: Series.__getitem__ treating keys as positions is deprecated. In a future version, integer keys will always be treated as labels (consistent with DataFrame behavior). To access a value by position, use `ser.iloc[pos]`\n",
      "  if abs(sorted_ranks[i] - sorted_ranks[j]) <= critical_difference:\n",
      "/scratch/hpc-prf-intexml/cbenjamins/repos/CARP-S-Experiments/lib/CARP-S/carps/analysis/run_autorank.py:233: FutureWarning: Series.__getitem__ treating keys as positions is deprecated. In a future version, integer keys will always be treated as labels (consistent with DataFrame behavior). To access a value by position, use `ser.iloc[pos]`\n",
      "  [(rankpos(sorted_ranks[i]), cline), (rankpos(sorted_ranks[i]), chei), (textspace - 0.1, chei)],\n",
      "/scratch/hpc-prf-intexml/cbenjamins/repos/CARP-S-Experiments/lib/CARP-S/carps/analysis/run_autorank.py:241: FutureWarning: Series.__getitem__ treating keys as positions is deprecated. In a future version, integer keys will always be treated as labels (consistent with DataFrame behavior). To access a value by position, use `ser.iloc[pos]`\n",
      "  [(rankpos(sorted_ranks[i]), cline), (rankpos(sorted_ranks[i]), chei), (textspace + scalewidth + 0.1, chei)],\n",
      "/scratch/hpc-prf-intexml/cbenjamins/repos/CARP-S-Experiments/lib/CARP-S/carps/analysis/run_autorank.py:263: FutureWarning: Series.__getitem__ treating keys as positions is deprecated. In a future version, integer keys will always be treated as labels (consistent with DataFrame behavior). To access a value by position, use `ser.iloc[pos]`\n",
      "  plot_line([(rankpos(sorted_ranks[l]) - side, start), (rankpos(sorted_ranks[r]) + side, start)], linewidth=2.5)\n"
     ]
    },
    {
     "data": {
      "image/png": "[encoded data removed]",
      "text/plain": [
       "<Figure size 800x300 with 1 Axes>"
      ]
     },
     "metadata": {},
     "output_type": "display_data"
    },
    {
     "name": "stderr",
     "output_type": "stream",
     "text": [
      "/scratch/hpc-prf-intexml/cbenjamins/.conda/envs/carpsexp/lib/python3.10/site-packages/autorank/_util.py:432: FutureWarning: Series.__getitem__ treating keys as positions is deprecated. In a future version, integer keys will always be treated as labels (consistent with DataFrame behavior). To access a value by position, use `ser.iloc[pos]`\n",
      "  if abs(sorted_ranks[i] - sorted_ranks[j]) <= critical_difference:\n"
     ]
    }
   ],
   "source": [
    "from autorank._util import get_sorted_rank_groups, RankResult\n",
    "from carps.analysis.plot_ranking import calc_critical_difference\n",
    "\n",
    "rank_results = {}\n",
    "for (scenario, set_id), gdf in _df.groupby(by=[\"scenario\", \"set\"]):\n",
    "    perf_col: str = \"trial_value__cost_inc_norm\"\n",
    "    identifier = f\"{scenario}_{set_id}\"\n",
    "    result = calc_critical_difference(gdf, identifier=identifier, figsize=(8, 3), perf_col=perf_col)\n",
    "    sorted_ranks, names, groups = get_sorted_rank_groups(result, reverse=False)\n",
    "    rank_results[(scenario, set_id)] = result"
   ]
  },
  {
   "cell_type": "code",
   "execution_count": 5,
   "metadata": {},
   "outputs": [
    {
     "data": {
      "text/html": [
       "<div>\n",
       "<style scoped>\n",
       "    .dataframe tbody tr th:only-of-type {\n",
       "        vertical-align: middle;\n",
       "    }\n",
       "\n",
       "    .dataframe tbody tr th {\n",
       "        vertical-align: top;\n",
       "    }\n",
       "\n",
       "    .dataframe thead th {\n",
       "        text-align: right;\n",
       "    }\n",
       "</style>\n",
       "<table border=\"1\" class=\"dataframe\">\n",
       "  <thead>\n",
       "    <tr style=\"text-align: right;\">\n",
       "      <th></th>\n",
       "      <th>scenario</th>\n",
       "      <th>set_id</th>\n",
       "      <th>optimizer_id</th>\n",
       "      <th>meanrank</th>\n",
       "      <th>order</th>\n",
       "    </tr>\n",
       "  </thead>\n",
       "  <tbody>\n",
       "    <tr>\n",
       "      <th>0</th>\n",
       "      <td>multi-fidelity-objective</td>\n",
       "      <td>split_0_seed_4_subset_test</td>\n",
       "      <td>RandomSearch</td>\n",
       "      <td>1.583333</td>\n",
       "      <td>1</td>\n",
       "    </tr>\n",
       "    <tr>\n",
       "      <th>1</th>\n",
       "      <td>multi-fidelity-objective</td>\n",
       "      <td>split_0_seed_4_subset_test</td>\n",
       "      <td>SMAC3-MOMF-GP</td>\n",
       "      <td>2.000000</td>\n",
       "      <td>2</td>\n",
       "    </tr>\n",
       "    <tr>\n",
       "      <th>2</th>\n",
       "      <td>multi-fidelity-objective</td>\n",
       "      <td>split_0_seed_4_subset_test</td>\n",
       "      <td>Nevergrad-DE</td>\n",
       "      <td>2.416667</td>\n",
       "      <td>3</td>\n",
       "    </tr>\n",
       "  </tbody>\n",
       "</table>\n",
       "</div>"
      ],
      "text/plain": [
       "                   scenario                      set_id   optimizer_id  \\\n",
       "0  multi-fidelity-objective  split_0_seed_4_subset_test   RandomSearch   \n",
       "1  multi-fidelity-objective  split_0_seed_4_subset_test  SMAC3-MOMF-GP   \n",
       "2  multi-fidelity-objective  split_0_seed_4_subset_test   Nevergrad-DE   \n",
       "\n",
       "   meanrank  order  \n",
       "0  1.583333      1  \n",
       "1  2.000000      2  \n",
       "2  2.416667      3  "
      ]
     },
     "execution_count": 5,
     "metadata": {},
     "output_type": "execute_result"
    }
   ],
   "source": [
    "R = []\n",
    "for i, (k, v) in enumerate(rank_results.items()):\n",
    "    d = pd.DataFrame({\n",
    "        \"scenario\": k[0],\n",
    "        \"set_id\": k[1],\n",
    "        **v.rankdf[\"meanrank\"]\n",
    "    }, index=[i]\n",
    "    ).melt(id_vars=[\"scenario\", \"set_id\"], var_name=\"optimizer_id\", value_name=\"meanrank\")\n",
    "    d[\"order\"] = d.rank(method=\"max\", numeric_only=True).astype(int)\n",
    "    R.append(d)\n",
    "    # break\n",
    "\n",
    "df_rank = pd.concat(R).reset_index(drop=True)\n",
    "df_rank = df_rank[df_rank[\"set_id\"] != \"full\"]\n",
    "def rename(x: str) -> str:\n",
    "    if x in [\"dev\", \"test\"]:\n",
    "        return f\"discrepancy_{x}\"\n",
    "    return x\n",
    "df_rank[\"set_id\"] = df_rank[\"set_id\"].apply(rename)\n",
    "df_rank"
   ]
  },
  {
   "cell_type": "code",
   "execution_count": 6,
   "metadata": {},
   "outputs": [
    {
     "ename": "IndexError",
     "evalue": "index 0 is out of bounds for axis 0 with size 0",
     "output_type": "error",
     "traceback": [
      "\u001b[0;31m---------------------------------------------------------------------------\u001b[0m",
      "\u001b[0;31mIndexError\u001b[0m                                Traceback (most recent call last)",
      "Cell \u001b[0;32mIn[6], line 19\u001b[0m\n\u001b[1;32m     17\u001b[0m order_test \u001b[38;5;241m=\u001b[39m []\n\u001b[1;32m     18\u001b[0m \u001b[38;5;28;01mfor\u001b[39;00m orig \u001b[38;5;129;01min\u001b[39;00m origs:\n\u001b[0;32m---> 19\u001b[0m     order_dev\u001b[38;5;241m.\u001b[39mappend(\u001b[43mdf_dev\u001b[49m\u001b[43m[\u001b[49m\u001b[43mdf_dev\u001b[49m\u001b[43m[\u001b[49m\u001b[38;5;124;43m\"\u001b[39;49m\u001b[38;5;124;43moptimizer_id\u001b[39;49m\u001b[38;5;124;43m\"\u001b[39;49m\u001b[43m]\u001b[49m\u001b[43m \u001b[49m\u001b[38;5;241;43m==\u001b[39;49m\u001b[43m \u001b[49m\u001b[43morig\u001b[49m\u001b[43m]\u001b[49m\u001b[43m[\u001b[49m\u001b[38;5;124;43m\"\u001b[39;49m\u001b[38;5;124;43morder\u001b[39;49m\u001b[38;5;124;43m\"\u001b[39;49m\u001b[43m]\u001b[49m\u001b[38;5;241;43m.\u001b[39;49m\u001b[43mvalues\u001b[49m\u001b[43m[\u001b[49m\u001b[38;5;241;43m0\u001b[39;49m\u001b[43m]\u001b[49m)\n\u001b[1;32m     20\u001b[0m     order_test\u001b[38;5;241m.\u001b[39mappend(df_test[df_test[\u001b[38;5;124m\"\u001b[39m\u001b[38;5;124moptimizer_id\u001b[39m\u001b[38;5;124m\"\u001b[39m] \u001b[38;5;241m==\u001b[39m orig][\u001b[38;5;124m\"\u001b[39m\u001b[38;5;124morder\u001b[39m\u001b[38;5;124m\"\u001b[39m]\u001b[38;5;241m.\u001b[39mvalues[\u001b[38;5;241m0\u001b[39m])\n\u001b[1;32m     21\u001b[0m _is_different \u001b[38;5;241m=\u001b[39m order_dev \u001b[38;5;241m!=\u001b[39m order_test\n",
      "\u001b[0;31mIndexError\u001b[0m: index 0 is out of bounds for axis 0 with size 0"
     ]
    }
   ],
   "source": [
    "\n",
    "original_optimizers = {\n",
    "    \"blackbox\": [\"RandomSearch\", \"SMAC3-BlackBoxFacade\", \"Nevergrad-CMA-ES\"],\n",
    "    \"multi-objective\": [\"RandomSearch\", \"Optuna-MO\", \"Nevergrad-DE\"],\n",
    "    \"multi-fidelity\": [\"SMAC3-Hyperband\", \"SMAC3-MultiFidelityFacade\", \"DEHB\"],\n",
    "    \"multi-fidelity-objective\": [\"RandomSearch\", \"SMAC3-MOMF-GP\", \"Nevergrad-DE\"],\n",
    "}\n",
    "\n",
    "\n",
    "is_different = {}\n",
    "for scenario, gdf in df_rank.groupby(by=\"scenario\"):\n",
    "    set_origins = gdf[\"set_id\"].apply(lambda x: \"_\".join(x.split(\"_\")[:-2])).unique()   \n",
    "    for set_origin in set_origins:\n",
    "        origs = original_optimizers[scenario]\n",
    "        df_dev = gdf[gdf[\"set_id\"] == f\"{set_origin}_subset_dev\"]\n",
    "        df_test = gdf[gdf[\"set_id\"] == f\"{set_origin}_subset_test\"]\n",
    "        order_dev = []\n",
    "        order_test = []\n",
    "        for orig in origs:\n",
    "            order_dev.append(df_dev[df_dev[\"optimizer_id\"] == orig][\"order\"].values[0])\n",
    "            order_test.append(df_test[df_test[\"optimizer_id\"] == orig][\"order\"].values[0])\n",
    "        _is_different = order_dev != order_test\n",
    "        is_different[(scenario, set_origin)] = _is_different\n",
    "is_different"
   ]
  },
  {
   "cell_type": "code",
   "execution_count": null,
   "metadata": {},
   "outputs": [
    {
     "ename": "",
     "evalue": "",
     "output_type": "error",
     "traceback": [
      "\u001b[1;31mFailed to start the Kernel. \n",
      "\u001b[1;31mUnable to start Kernel 'carpsexp (Python 3.10.14)' due to a timeout waiting for the ports to get used. \n",
      "\u001b[1;31mView Jupyter <a href='command:jupyter.viewOutput'>log</a> for further details."
     ]
    }
   ],
   "source": [
    "import pandas as pd\n",
    "import numpy as np\n",
    "\n",
    "\n",
    "\n",
    "fn_template = \"ranks_per_set_{scenario}.csv\"\n",
    "\n",
    "decimal_places = 2\n",
    "\n",
    "final_str = r\"\"\"\n",
    "\\begin{{table}}[h]\n",
    "    \\caption{{{caption}}}\n",
    "    \\label{{{label}}}\n",
    "    \\centering\n",
    "    %\\resizebox{{0.4\\textwidth}}{{!}}{{\n",
    "    {table_string}\n",
    "    %}}\n",
    "\\end{{table}}\n",
    "\"\"\"\n",
    "\n",
    "float_format = lambda x: (\"{:0.\" + str(decimal_places) + \"f}\").format(x) if not np.isnan(x) else \"-\"\n",
    "\n",
    "\n",
    "for scenario, gdf in df_rank.groupby(\"scenario\"):\n",
    "    fn = fn_template.format(scenario=scenario)\n",
    "    sorter = gdf[gdf[\"set_id\"]==\"dev\"].sort_values(\"meanrank\")[\"optimizer_id\"].to_list()\n",
    "\n",
    "    R = gdf.pivot_table(index=\"set_id\", columns=\"optimizer_id\", values=\"order\").map(int)\n",
    "    origs = original_optimizers[scenario]\n",
    "    origs.sort(key=lambda x: sorter.index(x))\n",
    "    cols = origs + [c for c in R.columns if c not in original_optimizers[scenario]]\n",
    "    R = R[cols]\n",
    "\n",
    "\n",
    "    MR = gdf.pivot_table(index=\"set_id\", columns=\"optimizer_id\", values=\"meanrank\").map(lambda x: f\"{x:.2f}\" if not isinstance(x, str) else x)\n",
    "    MR = MR[cols]\n",
    "    for i, ((idx, row), (idx2, row2)) in enumerate(zip(MR.iterrows(), R.iterrows())):\n",
    "        for j in range(len(row)):\n",
    "            row.iloc[j] = row.iloc[j] + f\" ({int(row2.iloc[j])})\"\n",
    "\n",
    "    print(MR)\n",
    "    # table_str = MR.to_latex(float_format=float_format, na_rep=\"-\").strip()\n",
    "    # caption = f\"Mean Ranking for Scenario {scenario}\"\n",
    "    # label = f\"tab:ranking_validation_{scenario}\"\n",
    "    # table_str = final_str.format(table_string=table_str, label=label, caption=caption)\n",
    "    # table_str = table_str.replace(\"_\", \"\\_\")\n",
    "\n",
    "    # with open(fn + \".tex\", \"w\") as file:\n",
    "    #     file.write(table_str)\n",
    "    # print(table_str)"
   ]
  },
  {
   "cell_type": "code",
   "execution_count": null,
   "metadata": {},
   "outputs": [
    {
     "ename": "",
     "evalue": "",
     "output_type": "error",
     "traceback": [
      "\u001b[1;31mFailed to start the Kernel. \n",
      "\u001b[1;31mUnable to start Kernel 'carpsexp (Python 3.10.14)' due to a timeout waiting for the ports to get used. \n",
      "\u001b[1;31mView Jupyter <a href='command:jupyter.viewOutput'>log</a> for further details."
     ]
    }
   ],
   "source": [
    "# from pathlib import Path\n",
    "# import pandas as pd\n",
    "# import numpy as np\n",
    "# from sklearn.model_selection import StratifiedShuffleSplit, ShuffleSplit\n",
    "# from carps.utils.pareto_front import pareto\n",
    "\n",
    "# def read_set(fn: Path) -> pd.DataFrame:\n",
    "#     df = pd.read_csv(fn)\n",
    "#     df[\"problem_id\"] = df[\"problem_id\"].apply(lambda x: \"bbob/\" + x if x.startswith(\"noiseless\") else x)\n",
    "#     df[\"benchmark_id\"] = df[\"problem_id\"].apply(lambda x: x.split(\"/\")[0])\n",
    "#     df = df.melt(id_vars=[\"problem_id\", \"benchmark_id\"], value_vars=p_cols, var_name=\"optimizer_id\", value_name=\"performance\")    \n",
    "#     return df\n",
    "\n",
    "# performance_fn = Path(\"/scratch/hpc-prf-intexml/cbenjamins/repos/CARP-S-Experiments/lib/CARP-S/subselection/data/BB/default/df_crit.csv\")\n",
    "# performance = pd.read_csv(performance_fn)\n",
    "# performance[\"problem_id\"] = performance[\"problem_id\"].apply(lambda x: \"bbob/\" + x if x.startswith(\"noiseless\") else x)\n",
    "# problem_ids = list(performance[\"problem_id\"])\n",
    "# n_problems = len(problem_ids)\n",
    "# subset_size = 30\n",
    "\n",
    "# rankings = []\n",
    "\n",
    "# performance[\"benchmark_id\"] = performance[\"problem_id\"].apply(lambda x: x.split(\"/\")[0])\n",
    "# p_cols = [c for c in performance.columns if c not in [\"problem_id\", \"benchmark_id\"]]\n",
    "# performance = performance.melt(id_vars=[\"problem_id\", \"benchmark_id\"], value_vars=p_cols, var_name=\"optimizer_id\", value_name=\"performance\")\n",
    "\n",
    "\n",
    "# path_subset_dev = performance_fn.parent / f\"subset_{subset_size}.csv\"\n",
    "# subset_dev = read_set(path_subset_dev)\n",
    "\n",
    "# path_subset_test = performance_fn.parent / f\"subset_complement_subset_{subset_size}.csv\"\n",
    "# subset_test = read_set(path_subset_test)\n",
    "\n",
    "# problem_ids_dev = subset_dev[\"problem_id\"].to_list()\n",
    "# problem_ids_test = subset_test[\"problem_id\"].to_list()\n",
    "\n",
    "# seeds = np.arange(0, 10)\n",
    "# performance[\"benchmark_id\"] = performance[\"problem_id\"].apply(lambda x: x.split(\"/\")[0])\n",
    "# benchmark_ids = list(performance[\"benchmark_id\"].unique())\n",
    "\n",
    "\n",
    "# def add_rank(df: pd.DataFrame) -> pd.DataFrame:\n",
    "#     D = []\n",
    "#     for problem_id, gdf in df.groupby([\"problem_id\"]):\n",
    "#         pivot = gdf.pivot(index=[\"problem_id\", \"benchmark_id\"], columns=\"optimizer_id\", values=\"performance\").reset_index()\n",
    "#         if not all([p in pivot.columns for p in p_cols]):\n",
    "#             print(gdf.columns)\n",
    "#             continue\n",
    "#         rank = pivot[p_cols].rank(axis=1).melt(value_vars=p_cols, var_name=\"optimizer_id\", value_name=\"rank\")\n",
    "#         gdf = pd.merge(gdf, rank, on=[\"optimizer_id\"])\n",
    "#         D.append(gdf)\n",
    "#     D = pd.concat(D).reset_index(drop=True)\n",
    "#     return D\n",
    "\n",
    "# def get_ranking(df: pd.DataFrame, set_id: str, split: int = -1, seed: int = -1) -> pd.DataFrame:\n",
    "#     df = add_rank(df)\n",
    "#     df[\"set\"] = set_id\n",
    "#     df[\"split\"] = split\n",
    "#     df[\"seed\"] = seed\n",
    "#     return df\n",
    "\n",
    "\n",
    "# rankings = []\n",
    "\n",
    "# aggregate_func = np.mean\n",
    "\n",
    "# mean_ranking_full = get_ranking(performance, \"full\")\n",
    "# rankings.append(mean_ranking_full)\n",
    "\n",
    "# mean_ranking_dev = get_ranking(subset_dev, \"discrepancy_dev\")\n",
    "# rankings.append(mean_ranking_dev)\n",
    "\n",
    "# mean_ranking_test = get_ranking(subset_test, \"discrepancy_test\")\n",
    "# rankings.append(mean_ranking_test)  \n",
    "\n",
    "# n_splits = n_problems // (subset_size * 2)\n",
    "# print(n_splits)\n",
    "# X = performance.values\n",
    "# y = performance[\"benchmark_id\"].to_numpy()\n",
    "\n",
    "# split_classes = [StratifiedShuffleSplit, ShuffleSplit]\n",
    "\n",
    "# # for split_class in split_classes:\n",
    "# #     for seed in seeds:\n",
    "# #         sss = StratifiedShuffleSplit(n_splits=n_splits, test_size=0.5, random_state=seed)\n",
    "# #         sss.get_n_splits(X, y)\n",
    "# #         for i, (train_index, test_index) in enumerate(sss.split(X, y)):\n",
    "# #             D_dev = performance.iloc[train_index]\n",
    "# #             D_dev = get_ranking(D_dev, f\"{split_class.__name__}_dev\", i, seed)\n",
    "# #             rankings.append(D_dev)\n",
    "\n",
    "# #             D_test = performance.iloc[test_index]\n",
    "# #             D_test = get_ranking(D_dev, f\"{split_class.__name__}_dev\", i, seed)\n",
    "# #             rankings.append(D_test)\n",
    "\n",
    "\n",
    "# df_ranking = pd.concat(rankings).reset_index(drop=True)"
   ]
  },
  {
   "cell_type": "code",
   "execution_count": null,
   "metadata": {},
   "outputs": [
    {
     "ename": "",
     "evalue": "",
     "output_type": "error",
     "traceback": [
      "\u001b[1;31mFailed to start the Kernel. \n",
      "\u001b[1;31mUnable to start Kernel 'carpsexp (Python 3.10.14)' due to a timeout waiting for the ports to get used. \n",
      "\u001b[1;31mView Jupyter <a href='command:jupyter.viewOutput'>log</a> for further details."
     ]
    }
   ],
   "source": [
    "# import seaborn as sns\n",
    "# import matplotlib.pyplot as plt\n",
    "\n",
    "# sns.set_style(\"whitegrid\")\n",
    "# sns.set_palette(\"colorblind\")\n",
    "\n",
    "# gdf = df_ranking\n",
    "# fig = plt.figure(figsize=(10,4))\n",
    "# ax = fig.add_subplot(111)\n",
    "# ax = sns.violinplot(data=gdf, x=\"optimizer_id\", y=\"rank\", hue=\"set\", cut=0, ax=ax)\n",
    "# # ax.set_title(f\"use_mean: {gid}\")\n",
    "# plt.show()"
   ]
  },
  {
   "cell_type": "code",
   "execution_count": null,
   "metadata": {},
   "outputs": [
    {
     "ename": "",
     "evalue": "",
     "output_type": "error",
     "traceback": [
      "\u001b[1;31mFailed to start the Kernel. \n",
      "\u001b[1;31mUnable to start Kernel 'carpsexp (Python 3.10.14)' due to a timeout waiting for the ports to get used. \n",
      "\u001b[1;31mView Jupyter <a href='command:jupyter.viewOutput'>log</a> for further details."
     ]
    }
   ],
   "source": [
    "# gdf = df_ranking\n",
    "# fig = plt.figure(figsize=(10,4))\n",
    "# ax = fig.add_subplot(111)\n",
    "# ax = sns.histplot(data=gdf, x=\"performance\", hue=\"optimizer_id\", ax=ax,  element=\"step\")\n",
    "# ax = fig.add_subplot(211)\n",
    "# ax = sns.histplot(data=gdf, x=\"rank\", hue=\"optimizer_id\", ax=ax,  element=\"step\")\n",
    "# # ax.set_title(f\"use_mean: {gid}\")\n",
    "# plt.show()"
   ]
  },
  {
   "cell_type": "code",
   "execution_count": null,
   "metadata": {},
   "outputs": [
    {
     "ename": "",
     "evalue": "",
     "output_type": "error",
     "traceback": [
      "\u001b[1;31mFailed to start the Kernel. \n",
      "\u001b[1;31mUnable to start Kernel 'carpsexp (Python 3.10.14)' due to a timeout waiting for the ports to get used. \n",
      "\u001b[1;31mView Jupyter <a href='command:jupyter.viewOutput'>log</a> for further details."
     ]
    }
   ],
   "source": [
    "# def distance_bhattacharaya(p, q):\n",
    "#     return -np.log(np.sum(np.sqrt(p*q)))\n",
    "\n",
    "# def distance_kullback_leibler(p, q):\n",
    "#     return np.sum(p * np.log(p / q))\n",
    "\n",
    "# # Performance\n",
    "# distances = {}\n",
    "# bin_edges = None\n",
    "# for gid, gdf in df_ranking.groupby([\"optimizer_id\", \"set\"]):\n",
    "#     values = gdf[\"performance\"].values\n",
    "#     q = np.histogram(values, bins=20, range=[0,1], density=True)\n",
    "#     bin_edges = q[1]\n",
    "#     distances[gid] = q[0]\n",
    "\n",
    "# distributions = pd.DataFrame(distances).T\n",
    "# distributions.index.name = (\"optimizer_id\", \"set\")\n",
    "# distributions = distributions.reset_index(names=[\"optimizer_id\", \"set\"])\n",
    "# # print(distributions.columns)\n",
    "\n",
    "# dist = {}\n",
    "# for gid, gdf in distributions.groupby(by=[\"optimizer_id\", \"set\"]):\n",
    "#     for gid2, gdf2 in distributions.groupby(by=[\"optimizer_id\", \"set\"]):\n",
    "#         if gid[0] != gid2[0]:\n",
    "#             continue\n",
    "#         p = gdf.iloc[0].values[2:].astype(float)\n",
    "#         q = gdf2.iloc[0].values[2:].astype(float)\n",
    "#         d = distance_bhattacharaya(p, q)\n",
    "#         # print(f\"{gid} vs {gid2}: {d}\")\n",
    "#         dist[(gid, gid2)] = d\n",
    "\n",
    "# heatmaps = {}\n",
    "# n_sets = distributions[\"set\"].nunique()\n",
    "# sets = distributions[\"set\"].unique()\n",
    "# for ((opt, set_id), (opt, set_id2)), distance in dist.items():\n",
    "#     # print(f\"{opt} {set_id} vs {set_id2}: {distance}\") \n",
    "#     if not opt in heatmaps:\n",
    "#         heatmaps[opt] = np.zeros((n_sets, n_sets))\n",
    "#     heatmaps[opt][np.where(sets == set_id)[0][0], np.where(sets == set_id2)[0][0]] = distance\n",
    "\n",
    "# fig = plt.figure(figsize=(12, 4))\n",
    "# axes = fig.subplots(1, len(heatmaps), sharex=True, sharey=True)\n",
    "# for i, (opt, heatmap) in enumerate(heatmaps.items()):\n",
    "#     ax = axes[i]\n",
    "#     sns.heatmap(heatmap, ax=ax, xticklabels=sets, yticklabels=sets)\n",
    "#     ax.set_title(opt)\n",
    "# plt.show()"
   ]
  },
  {
   "cell_type": "code",
   "execution_count": null,
   "metadata": {},
   "outputs": [
    {
     "ename": "",
     "evalue": "",
     "output_type": "error",
     "traceback": [
      "\u001b[1;31mFailed to start the Kernel. \n",
      "\u001b[1;31mUnable to start Kernel 'carpsexp (Python 3.10.14)' due to a timeout waiting for the ports to get used. \n",
      "\u001b[1;31mView Jupyter <a href='command:jupyter.viewOutput'>log</a> for further details."
     ]
    }
   ],
   "source": [
    "\n",
    "\n",
    " \n",
    "# for use_mean in [False]:\n",
    "#     aggregate_func = lambda x: x\n",
    "#     if use_mean:\n",
    "#         aggregate_func = np.mean\n",
    "\n",
    "    \n",
    "\n",
    "#     mean_ranking_full = performance[p_cols].rank(axis=1).apply(aggregate_func)\n",
    "#     mean_ranking_full = performance[p_cols]\n",
    "#     mean_ranking_full[\"problem_id\"] = performance[\"problem_id\"] if not use_mean else \"mean_problem\"\n",
    "#     mean_ranking_full[\"set\"] = \"full\"\n",
    "#     mean_ranking_full[\"split\"] = -1\n",
    "#     mean_ranking_full[\"seed\"] = -1\n",
    "#     mean_ranking_full[\"use_mean\"] = use_mean\n",
    "#     mean_ranking_full = melt(mean_ranking_full)\n",
    "#     mean_ranking_full = add_performance(mean_ranking_full)\n",
    "    \n",
    "\n",
    "#     mean_ranking_dev = subset_dev[p_cols].rank(axis=1).apply(aggregate_func)\n",
    "#     mean_ranking_dev[\"problem_id\"] = subset_dev[\"problem_id\"] if not use_mean else \"mean_problem\"\n",
    "#     mean_ranking_dev[\"set\"] = \"discrepancy_dev\"\n",
    "#     mean_ranking_dev[\"split\"] = -1\n",
    "#     mean_ranking_dev[\"seed\"] = -1\n",
    "#     mean_ranking_dev[\"use_mean\"] = use_mean\n",
    "#     mean_ranking_dev = melt(mean_ranking_dev)\n",
    "#     mean_ranking_dev = add_performance(mean_ranking_dev)\n",
    "\n",
    "#     mean_ranking_test = subset_test[p_cols].rank(axis=1).apply(aggregate_func)\n",
    "#     mean_ranking_test[\"problem_id\"] = subset_test[\"problem_id\"] if not use_mean else \"mean_problem\"\n",
    "#     mean_ranking_test[\"set\"] = \"discrepancy_test\"\n",
    "#     mean_ranking_test[\"split\"] = -1\n",
    "#     mean_ranking_test[\"seed\"] = -1\n",
    "#     mean_ranking_test[\"use_mean\"] = use_mean\n",
    "#     mean_ranking_test = melt(mean_ranking_test)\n",
    "#     mean_ranking_test = add_performance(mean_ranking_test)\n",
    "\n",
    "#     # easiest\n",
    "#     costs = performance[p_cols].values\n",
    "#     ids = pareto(-costs)\n",
    "#     pareto_performance = performance.iloc[ids]\n",
    "#     mean_ranking_pareto_easiest = pareto_performance[p_cols].rank(axis=1).apply(aggregate_func)\n",
    "#     mean_ranking_pareto_easiest[\"problem_id\"] = pareto_performance[\"problem_id\"] if not use_mean else \"mean_problem\"\n",
    "#     mean_ranking_pareto_easiest[\"set\"] = \"pareto_full_easiest\"\n",
    "#     mean_ranking_pareto_easiest[\"split\"] = -1\n",
    "#     mean_ranking_pareto_easiest[\"seed\"] = -1\n",
    "#     mean_ranking_pareto_easiest[\"use_mean\"] = use_mean\n",
    "#     mean_ranking_pareto_easiest = melt(mean_ranking_pareto_easiest)\n",
    "#     mean_ranking_pareto_easiest = add_performance(mean_ranking_pareto_easiest)\n",
    "\n",
    "#     # hardest\n",
    "#     costs = performance[p_cols].values\n",
    "#     ids = pareto(costs)\n",
    "#     pareto_performance = performance.iloc[ids]\n",
    "#     mean_ranking_pareto_hardest = pareto_performance[p_cols].rank(axis=1).apply(aggregate_func)\n",
    "#     mean_ranking_pareto_hardest[\"problem_id\"] = pareto_performance[\"problem_id\"] if not use_mean else \"mean_problem\"\n",
    "#     mean_ranking_pareto_hardest[\"set\"] = \"pareto_full_hardest\"\n",
    "#     mean_ranking_pareto_hardest[\"split\"] = -1\n",
    "#     mean_ranking_pareto_hardest[\"seed\"] = -1\n",
    "#     mean_ranking_pareto_hardest[\"use_mean\"] = use_mean\n",
    "#     mean_ranking_pareto_hardest = melt(mean_ranking_pareto_hardest)\n",
    "#     mean_ranking_pareto_hardest = add_performance(mean_ranking_pareto_hardest)\n",
    "\n",
    "\n",
    "\n",
    "#     ranking = []\n",
    "#     ranking.append(mean_ranking_full)\n",
    "#     ranking.append(mean_ranking_dev)\n",
    "#     ranking.append(mean_ranking_test)\n",
    "#     ranking.append(mean_ranking_pareto_easiest)\n",
    "#     ranking.append(mean_ranking_pareto_hardest)\n",
    "\n",
    "#     n_splits = n_problems // (subset_size * 2)\n",
    "#     print(n_splits)\n",
    "#     X = performance.values\n",
    "#     y = performance[\"benchmark_id\"].to_numpy()\n",
    "\n",
    "#     split_classes = [StratifiedShuffleSplit, ShuffleSplit]\n",
    "\n",
    "#     for split_class in split_classes:\n",
    "#         for seed in seeds:\n",
    "#             sss = StratifiedShuffleSplit(n_splits=n_splits, test_size=0.5, random_state=seed)\n",
    "#             sss.get_n_splits(X, y)\n",
    "#             for i, (train_index, test_index) in enumerate(sss.split(X, y)):\n",
    "#                 D_dev = performance.iloc[train_index][p_cols].rank(axis=1).apply(aggregate_func)\n",
    "#                 D_dev[\"problem_id\"] = performance.iloc[train_index][\"problem_id\"] if not use_mean else \"mean_problem\"\n",
    "#                 D_dev[\"set\"] = f\"{split_class.__name__}_dev\"\n",
    "#                 D_dev[\"split\"] = i\n",
    "#                 D_dev[\"seed\"] = seed\n",
    "#                 D_dev[\"use_mean\"] = use_mean\n",
    "#                 D_dev = melt(D_dev)\n",
    "#                 D_dev = add_performance(D_dev)\n",
    "                \n",
    "#                 D_test = performance.iloc[test_index][p_cols].rank(axis=1).apply(aggregate_func)\n",
    "#                 D_test[\"problem_id\"] = performance.iloc[test_index][\"problem_id\"] if not use_mean else \"mean_problem\"\n",
    "#                 D_test[\"set\"] = f\"{split_class.__name__}_test\"\n",
    "#                 D_test[\"split\"] = i\n",
    "#                 D_test[\"seed\"] = seed\n",
    "#                 D_test[\"use_mean\"] = use_mean\n",
    "#                 D_test = melt(D_test)\n",
    "#                 D_test = add_performance(D_test)\n",
    "#                 ranking.extend([D_dev, D_test])\n",
    "\n",
    "#     df_ranking = pd.DataFrame(ranking) if use_mean else pd.concat(ranking).reset_index(drop=True)\n",
    "#     df_ranking = df_ranking.melt(id_vars=[\"set\", \"split\", \"seed\", \"problem_id\", \"use_mean\"], value_vars=p_cols, var_name=\"optimizer_id\", value_name=\"rank\")\n",
    "#     rankings.append(df_ranking)\n",
    "\n",
    "# df_ranking = pd.concat(rankings).reset_index(drop=True)\n",
    "# df_ranking\n"
   ]
  }
 ],
 "metadata": {
  "kernelspec": {
   "display_name": "carpsexp",
   "language": "python",
   "name": "python3"
  },
  "language_info": {
   "codemirror_mode": {
    "name": "ipython",
    "version": 3
   },
   "file_extension": ".py",
   "mimetype": "text/x-python",
   "name": "python",
   "nbconvert_exporter": "python",
   "pygments_lexer": "ipython3",
   "version": "3.10.14"
  }
 },
 "nbformat": 4,
 "nbformat_minor": 2
}
