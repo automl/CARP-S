{
 "cells": [
  {
   "cell_type": "code",
   "execution_count": 11,
   "metadata": {},
   "outputs": [
    {
     "ename": "FileNotFoundError",
     "evalue": "[Errno 2] No such file or directory: '../runs_MOMF/SMAC3-MOMF-GP/logs.parquet'",
     "output_type": "error",
     "traceback": [
      "\u001b[0;31m---------------------------------------------------------------------------\u001b[0m",
      "\u001b[0;31mFileNotFoundError\u001b[0m                         Traceback (most recent call last)",
      "Cell \u001b[0;32mIn[11], line 45\u001b[0m\n\u001b[1;32m     43\u001b[0m D \u001b[38;5;241m=\u001b[39m []\n\u001b[1;32m     44\u001b[0m \u001b[38;5;28;01mfor\u001b[39;00m rundir \u001b[38;5;129;01min\u001b[39;00m paths:\n\u001b[0;32m---> 45\u001b[0m     df, df_cfg \u001b[38;5;241m=\u001b[39m \u001b[43mload_set\u001b[49m\u001b[43m(\u001b[49m\u001b[43m[\u001b[49m\u001b[43mrundir\u001b[49m\u001b[43m]\u001b[49m\u001b[43m,\u001b[49m\u001b[43m \u001b[49m\u001b[43mset_id\u001b[49m\u001b[38;5;241;43m=\u001b[39;49m\u001b[38;5;124;43m\"\u001b[39;49m\u001b[38;5;124;43mfull\u001b[39;49m\u001b[38;5;124;43m\"\u001b[39;49m\u001b[43m)\u001b[49m\n\u001b[1;32m     46\u001b[0m     D\u001b[38;5;241m.\u001b[39mappend(df)\n\u001b[1;32m     48\u001b[0m df \u001b[38;5;241m=\u001b[39m pd\u001b[38;5;241m.\u001b[39mconcat(D)\u001b[38;5;241m.\u001b[39mreset_index(drop\u001b[38;5;241m=\u001b[39m\u001b[38;5;28;01mTrue\u001b[39;00m)\n",
      "Cell \u001b[0;32mIn[11], line 12\u001b[0m, in \u001b[0;36mload_set\u001b[0;34m(paths, set_id)\u001b[0m\n\u001b[1;32m     10\u001b[0m     \u001b[38;5;28;01mif\u001b[39;00m \u001b[38;5;129;01mnot\u001b[39;00m fn\u001b[38;5;241m.\u001b[39mis_file():\n\u001b[1;32m     11\u001b[0m         fn \u001b[38;5;241m=\u001b[39m Path(p) \u001b[38;5;241m/\u001b[39m \u001b[38;5;124m\"\u001b[39m\u001b[38;5;124mlogs.parquet\u001b[39m\u001b[38;5;124m\"\u001b[39m\n\u001b[0;32m---> 12\u001b[0m     logs\u001b[38;5;241m.\u001b[39mappend(\u001b[43mpd\u001b[49m\u001b[38;5;241;43m.\u001b[39;49m\u001b[43mread_parquet\u001b[49m\u001b[43m(\u001b[49m\u001b[43mfn\u001b[49m\u001b[43m)\u001b[49m)\n\u001b[1;32m     14\u001b[0m df \u001b[38;5;241m=\u001b[39m pd\u001b[38;5;241m.\u001b[39mconcat(logs)\u001b[38;5;241m.\u001b[39mreset_index(drop\u001b[38;5;241m=\u001b[39m\u001b[38;5;28;01mTrue\u001b[39;00m)\n\u001b[1;32m     15\u001b[0m df_cfg \u001b[38;5;241m=\u001b[39m pd\u001b[38;5;241m.\u001b[39mconcat([pd\u001b[38;5;241m.\u001b[39mread_parquet(Path(p) \u001b[38;5;241m/\u001b[39m \u001b[38;5;124m\"\u001b[39m\u001b[38;5;124mlogs_cfg.parquet\u001b[39m\u001b[38;5;124m\"\u001b[39m) \u001b[38;5;28;01mfor\u001b[39;00m p \u001b[38;5;129;01min\u001b[39;00m paths])\u001b[38;5;241m.\u001b[39mreset_index(drop\u001b[38;5;241m=\u001b[39m\u001b[38;5;28;01mTrue\u001b[39;00m)\n",
      "File \u001b[0;32m~/micromamba/envs/carpsexp/lib/python3.11/site-packages/pandas/io/parquet.py:667\u001b[0m, in \u001b[0;36mread_parquet\u001b[0;34m(path, engine, columns, storage_options, use_nullable_dtypes, dtype_backend, filesystem, filters, **kwargs)\u001b[0m\n\u001b[1;32m    664\u001b[0m     use_nullable_dtypes \u001b[38;5;241m=\u001b[39m \u001b[38;5;28;01mFalse\u001b[39;00m\n\u001b[1;32m    665\u001b[0m check_dtype_backend(dtype_backend)\n\u001b[0;32m--> 667\u001b[0m \u001b[38;5;28;01mreturn\u001b[39;00m \u001b[43mimpl\u001b[49m\u001b[38;5;241;43m.\u001b[39;49m\u001b[43mread\u001b[49m\u001b[43m(\u001b[49m\n\u001b[1;32m    668\u001b[0m \u001b[43m    \u001b[49m\u001b[43mpath\u001b[49m\u001b[43m,\u001b[49m\n\u001b[1;32m    669\u001b[0m \u001b[43m    \u001b[49m\u001b[43mcolumns\u001b[49m\u001b[38;5;241;43m=\u001b[39;49m\u001b[43mcolumns\u001b[49m\u001b[43m,\u001b[49m\n\u001b[1;32m    670\u001b[0m \u001b[43m    \u001b[49m\u001b[43mfilters\u001b[49m\u001b[38;5;241;43m=\u001b[39;49m\u001b[43mfilters\u001b[49m\u001b[43m,\u001b[49m\n\u001b[1;32m    671\u001b[0m \u001b[43m    \u001b[49m\u001b[43mstorage_options\u001b[49m\u001b[38;5;241;43m=\u001b[39;49m\u001b[43mstorage_options\u001b[49m\u001b[43m,\u001b[49m\n\u001b[1;32m    672\u001b[0m \u001b[43m    \u001b[49m\u001b[43muse_nullable_dtypes\u001b[49m\u001b[38;5;241;43m=\u001b[39;49m\u001b[43muse_nullable_dtypes\u001b[49m\u001b[43m,\u001b[49m\n\u001b[1;32m    673\u001b[0m \u001b[43m    \u001b[49m\u001b[43mdtype_backend\u001b[49m\u001b[38;5;241;43m=\u001b[39;49m\u001b[43mdtype_backend\u001b[49m\u001b[43m,\u001b[49m\n\u001b[1;32m    674\u001b[0m \u001b[43m    \u001b[49m\u001b[43mfilesystem\u001b[49m\u001b[38;5;241;43m=\u001b[39;49m\u001b[43mfilesystem\u001b[49m\u001b[43m,\u001b[49m\n\u001b[1;32m    675\u001b[0m \u001b[43m    \u001b[49m\u001b[38;5;241;43m*\u001b[39;49m\u001b[38;5;241;43m*\u001b[39;49m\u001b[43mkwargs\u001b[49m\u001b[43m,\u001b[49m\n\u001b[1;32m    676\u001b[0m \u001b[43m\u001b[49m\u001b[43m)\u001b[49m\n",
      "File \u001b[0;32m~/micromamba/envs/carpsexp/lib/python3.11/site-packages/pandas/io/parquet.py:267\u001b[0m, in \u001b[0;36mPyArrowImpl.read\u001b[0;34m(self, path, columns, filters, use_nullable_dtypes, dtype_backend, storage_options, filesystem, **kwargs)\u001b[0m\n\u001b[1;32m    264\u001b[0m \u001b[38;5;28;01mif\u001b[39;00m manager \u001b[38;5;241m==\u001b[39m \u001b[38;5;124m\"\u001b[39m\u001b[38;5;124marray\u001b[39m\u001b[38;5;124m\"\u001b[39m:\n\u001b[1;32m    265\u001b[0m     to_pandas_kwargs[\u001b[38;5;124m\"\u001b[39m\u001b[38;5;124msplit_blocks\u001b[39m\u001b[38;5;124m\"\u001b[39m] \u001b[38;5;241m=\u001b[39m \u001b[38;5;28;01mTrue\u001b[39;00m  \u001b[38;5;66;03m# type: ignore[assignment]\u001b[39;00m\n\u001b[0;32m--> 267\u001b[0m path_or_handle, handles, filesystem \u001b[38;5;241m=\u001b[39m \u001b[43m_get_path_or_handle\u001b[49m\u001b[43m(\u001b[49m\n\u001b[1;32m    268\u001b[0m \u001b[43m    \u001b[49m\u001b[43mpath\u001b[49m\u001b[43m,\u001b[49m\n\u001b[1;32m    269\u001b[0m \u001b[43m    \u001b[49m\u001b[43mfilesystem\u001b[49m\u001b[43m,\u001b[49m\n\u001b[1;32m    270\u001b[0m \u001b[43m    \u001b[49m\u001b[43mstorage_options\u001b[49m\u001b[38;5;241;43m=\u001b[39;49m\u001b[43mstorage_options\u001b[49m\u001b[43m,\u001b[49m\n\u001b[1;32m    271\u001b[0m \u001b[43m    \u001b[49m\u001b[43mmode\u001b[49m\u001b[38;5;241;43m=\u001b[39;49m\u001b[38;5;124;43m\"\u001b[39;49m\u001b[38;5;124;43mrb\u001b[39;49m\u001b[38;5;124;43m\"\u001b[39;49m\u001b[43m,\u001b[49m\n\u001b[1;32m    272\u001b[0m \u001b[43m\u001b[49m\u001b[43m)\u001b[49m\n\u001b[1;32m    273\u001b[0m \u001b[38;5;28;01mtry\u001b[39;00m:\n\u001b[1;32m    274\u001b[0m     pa_table \u001b[38;5;241m=\u001b[39m \u001b[38;5;28mself\u001b[39m\u001b[38;5;241m.\u001b[39mapi\u001b[38;5;241m.\u001b[39mparquet\u001b[38;5;241m.\u001b[39mread_table(\n\u001b[1;32m    275\u001b[0m         path_or_handle,\n\u001b[1;32m    276\u001b[0m         columns\u001b[38;5;241m=\u001b[39mcolumns,\n\u001b[0;32m   (...)\u001b[0m\n\u001b[1;32m    279\u001b[0m         \u001b[38;5;241m*\u001b[39m\u001b[38;5;241m*\u001b[39mkwargs,\n\u001b[1;32m    280\u001b[0m     )\n",
      "File \u001b[0;32m~/micromamba/envs/carpsexp/lib/python3.11/site-packages/pandas/io/parquet.py:140\u001b[0m, in \u001b[0;36m_get_path_or_handle\u001b[0;34m(path, fs, storage_options, mode, is_dir)\u001b[0m\n\u001b[1;32m    130\u001b[0m handles \u001b[38;5;241m=\u001b[39m \u001b[38;5;28;01mNone\u001b[39;00m\n\u001b[1;32m    131\u001b[0m \u001b[38;5;28;01mif\u001b[39;00m (\n\u001b[1;32m    132\u001b[0m     \u001b[38;5;129;01mnot\u001b[39;00m fs\n\u001b[1;32m    133\u001b[0m     \u001b[38;5;129;01mand\u001b[39;00m \u001b[38;5;129;01mnot\u001b[39;00m is_dir\n\u001b[0;32m   (...)\u001b[0m\n\u001b[1;32m    138\u001b[0m     \u001b[38;5;66;03m# fsspec resources can also point to directories\u001b[39;00m\n\u001b[1;32m    139\u001b[0m     \u001b[38;5;66;03m# this branch is used for example when reading from non-fsspec URLs\u001b[39;00m\n\u001b[0;32m--> 140\u001b[0m     handles \u001b[38;5;241m=\u001b[39m \u001b[43mget_handle\u001b[49m\u001b[43m(\u001b[49m\n\u001b[1;32m    141\u001b[0m \u001b[43m        \u001b[49m\u001b[43mpath_or_handle\u001b[49m\u001b[43m,\u001b[49m\u001b[43m \u001b[49m\u001b[43mmode\u001b[49m\u001b[43m,\u001b[49m\u001b[43m \u001b[49m\u001b[43mis_text\u001b[49m\u001b[38;5;241;43m=\u001b[39;49m\u001b[38;5;28;43;01mFalse\u001b[39;49;00m\u001b[43m,\u001b[49m\u001b[43m \u001b[49m\u001b[43mstorage_options\u001b[49m\u001b[38;5;241;43m=\u001b[39;49m\u001b[43mstorage_options\u001b[49m\n\u001b[1;32m    142\u001b[0m \u001b[43m    \u001b[49m\u001b[43m)\u001b[49m\n\u001b[1;32m    143\u001b[0m     fs \u001b[38;5;241m=\u001b[39m \u001b[38;5;28;01mNone\u001b[39;00m\n\u001b[1;32m    144\u001b[0m     path_or_handle \u001b[38;5;241m=\u001b[39m handles\u001b[38;5;241m.\u001b[39mhandle\n",
      "File \u001b[0;32m~/micromamba/envs/carpsexp/lib/python3.11/site-packages/pandas/io/common.py:882\u001b[0m, in \u001b[0;36mget_handle\u001b[0;34m(path_or_buf, mode, encoding, compression, memory_map, is_text, errors, storage_options)\u001b[0m\n\u001b[1;32m    873\u001b[0m         handle \u001b[38;5;241m=\u001b[39m \u001b[38;5;28mopen\u001b[39m(\n\u001b[1;32m    874\u001b[0m             handle,\n\u001b[1;32m    875\u001b[0m             ioargs\u001b[38;5;241m.\u001b[39mmode,\n\u001b[0;32m   (...)\u001b[0m\n\u001b[1;32m    878\u001b[0m             newline\u001b[38;5;241m=\u001b[39m\u001b[38;5;124m\"\u001b[39m\u001b[38;5;124m\"\u001b[39m,\n\u001b[1;32m    879\u001b[0m         )\n\u001b[1;32m    880\u001b[0m     \u001b[38;5;28;01melse\u001b[39;00m:\n\u001b[1;32m    881\u001b[0m         \u001b[38;5;66;03m# Binary mode\u001b[39;00m\n\u001b[0;32m--> 882\u001b[0m         handle \u001b[38;5;241m=\u001b[39m \u001b[38;5;28;43mopen\u001b[39;49m\u001b[43m(\u001b[49m\u001b[43mhandle\u001b[49m\u001b[43m,\u001b[49m\u001b[43m \u001b[49m\u001b[43mioargs\u001b[49m\u001b[38;5;241;43m.\u001b[39;49m\u001b[43mmode\u001b[49m\u001b[43m)\u001b[49m\n\u001b[1;32m    883\u001b[0m     handles\u001b[38;5;241m.\u001b[39mappend(handle)\n\u001b[1;32m    885\u001b[0m \u001b[38;5;66;03m# Convert BytesIO or file objects passed with an encoding\u001b[39;00m\n",
      "\u001b[0;31mFileNotFoundError\u001b[0m: [Errno 2] No such file or directory: '../runs_MOMF/SMAC3-MOMF-GP/logs.parquet'"
     ]
    }
   ],
   "source": [
    "from pathlib import Path\n",
    "import pandas as pd\n",
    "from carps.analysis.gather_data import normalize_logs, get_interpolated_performance_df, load_logs, process_logs\n",
    "from carps.analysis.utils import filter_only_final_performance\n",
    "\n",
    "def load_set(paths: list[str], set_id: str = \"unknown\") -> tuple[pd.DataFrame, pd.DataFrame]:\n",
    "    logs = []\n",
    "    for p in paths:\n",
    "        fn = Path(p) / \"trajectory.parquet\"\n",
    "        if not fn.is_file():\n",
    "            fn = Path(p) / \"logs.parquet\"\n",
    "        logs.append(pd.read_parquet(fn))\n",
    "\n",
    "    df = pd.concat(logs).reset_index(drop=True)\n",
    "    df_cfg = pd.concat([pd.read_parquet(Path(p) / \"logs_cfg.parquet\") for p in paths]).reset_index(drop=True)\n",
    "    df[\"set\"] = set_id\n",
    "    return df, df_cfg\n",
    "\n",
    "scenario = \"blackbox\"\n",
    "set_id = \"full\"\n",
    "subset_size = 30\n",
    "paths = [\"../runs/SMAC3-BlackBoxFacade\", \"../runs/RandomSearch\", \"../runs/Nevergrad-CMA-ES\"]\n",
    "\n",
    "scenario = \"multi-fidelity-objective\"\n",
    "set_id = \"full\"\n",
    "subset_size = 9\n",
    "paths = [\"../runs_MOMF/SMAC3-MOMF-GP\", \"../runs_MOMF/RandomSearch\", \"../runs_MOMF/Nevergrad-DE\"]\n",
    "\n",
    "# scenario = \"multi-objective\"\n",
    "# set_id = \"full\"\n",
    "# subset_size = 10\n",
    "# paths = [\"../runs_MO/Optuna-MO\", \"../runs_MO/RandomSearch\", \"../runs_MO/Nevergrad-DE\"]\n",
    "\n",
    "# scenario = \"multi-fidelity\"\n",
    "# set_id = \"full\"\n",
    "# subset_size = 20\n",
    "# paths = [\"../runs/SMAC3-Hyperband\", \"../runs/SMAC3-MultiFidelityFacade\", \"../runs_/DEHB\"]\n",
    "\n",
    "fn = f\"../data/{scenario}_{set_id}_logs.parquet\"\n",
    "if Path(fn).is_file():\n",
    "    df = pd.read_parquet(fn)\n",
    "else:\n",
    "    D = []\n",
    "    for rundir in paths:\n",
    "        df, df_cfg = load_set([rundir], set_id=\"full\")\n",
    "        D.append(df)\n",
    "\n",
    "    df = pd.concat(D).reset_index(drop=True)\n",
    "    del D\n",
    "\n",
    "    df = normalize_logs(df)\n",
    "\n",
    "    normalize_performance = False\n",
    "    perf_col = \"trial_value__cost_inc_norm\" if normalize_performance else \"trial_value__cost_inc\"\n",
    "\n",
    "    df.to_parquet(f\"../data/{scenario}_{set_id}_logs.parquet\")\n",
    "df = filter_only_final_performance(df=df)"
   ]
  },
  {
   "cell_type": "code",
   "execution_count": null,
   "metadata": {},
   "outputs": [
    {
     "name": "stdout",
     "output_type": "stream",
     "text": [
      "121\n",
      "6\n",
      "split_0_seed_0_subset_dev\n",
      "split_0_seed_0_subset_test\n",
      "split_1_seed_0_subset_dev\n",
      "split_1_seed_0_subset_test\n",
      "split_2_seed_0_subset_dev\n",
      "split_2_seed_0_subset_test\n",
      "split_3_seed_0_subset_dev\n",
      "split_3_seed_0_subset_test\n",
      "split_4_seed_0_subset_dev\n",
      "split_4_seed_0_subset_test\n",
      "split_5_seed_0_subset_dev\n",
      "split_5_seed_0_subset_test\n",
      "split_0_seed_1_subset_dev\n",
      "split_0_seed_1_subset_test\n",
      "split_1_seed_1_subset_dev\n",
      "split_1_seed_1_subset_test\n",
      "split_2_seed_1_subset_dev\n",
      "split_2_seed_1_subset_test\n",
      "split_3_seed_1_subset_dev\n",
      "split_3_seed_1_subset_test\n",
      "split_4_seed_1_subset_dev\n",
      "split_4_seed_1_subset_test\n",
      "split_5_seed_1_subset_dev\n",
      "split_5_seed_1_subset_test\n",
      "split_0_seed_2_subset_dev\n",
      "split_0_seed_2_subset_test\n",
      "split_1_seed_2_subset_dev\n",
      "split_1_seed_2_subset_test\n",
      "split_2_seed_2_subset_dev\n",
      "split_2_seed_2_subset_test\n",
      "split_3_seed_2_subset_dev\n",
      "split_3_seed_2_subset_test\n",
      "split_4_seed_2_subset_dev\n",
      "split_4_seed_2_subset_test\n",
      "split_5_seed_2_subset_dev\n",
      "split_5_seed_2_subset_test\n",
      "split_0_seed_3_subset_dev\n",
      "split_0_seed_3_subset_test\n",
      "split_1_seed_3_subset_dev\n",
      "split_1_seed_3_subset_test\n",
      "split_2_seed_3_subset_dev\n",
      "split_2_seed_3_subset_test\n",
      "split_3_seed_3_subset_dev\n",
      "split_3_seed_3_subset_test\n",
      "split_4_seed_3_subset_dev\n",
      "split_4_seed_3_subset_test\n",
      "split_5_seed_3_subset_dev\n",
      "split_5_seed_3_subset_test\n",
      "split_0_seed_4_subset_dev\n",
      "split_0_seed_4_subset_test\n",
      "split_1_seed_4_subset_dev\n",
      "split_1_seed_4_subset_test\n",
      "split_2_seed_4_subset_dev\n",
      "split_2_seed_4_subset_test\n",
      "split_3_seed_4_subset_dev\n",
      "split_3_seed_4_subset_test\n",
      "split_4_seed_4_subset_dev\n",
      "split_4_seed_4_subset_test\n",
      "split_5_seed_4_subset_dev\n",
      "split_5_seed_4_subset_test\n",
      "split_0_seed_0_subset_dev\n",
      "split_0_seed_0_subset_test\n",
      "split_1_seed_0_subset_dev\n",
      "split_1_seed_0_subset_test\n",
      "split_2_seed_0_subset_dev\n",
      "split_2_seed_0_subset_test\n",
      "split_3_seed_0_subset_dev\n",
      "split_3_seed_0_subset_test\n",
      "split_4_seed_0_subset_dev\n",
      "split_4_seed_0_subset_test\n",
      "split_5_seed_0_subset_dev\n",
      "split_5_seed_0_subset_test\n",
      "split_0_seed_1_subset_dev\n",
      "split_0_seed_1_subset_test\n",
      "split_1_seed_1_subset_dev\n",
      "split_1_seed_1_subset_test\n",
      "split_2_seed_1_subset_dev\n",
      "split_2_seed_1_subset_test\n",
      "split_3_seed_1_subset_dev\n",
      "split_3_seed_1_subset_test\n",
      "split_4_seed_1_subset_dev\n",
      "split_4_seed_1_subset_test\n",
      "split_5_seed_1_subset_dev\n",
      "split_5_seed_1_subset_test\n",
      "split_0_seed_2_subset_dev\n",
      "split_0_seed_2_subset_test\n",
      "split_1_seed_2_subset_dev\n",
      "split_1_seed_2_subset_test\n",
      "split_2_seed_2_subset_dev\n",
      "split_2_seed_2_subset_test\n",
      "split_3_seed_2_subset_dev\n",
      "split_3_seed_2_subset_test\n",
      "split_4_seed_2_subset_dev\n",
      "split_4_seed_2_subset_test\n",
      "split_5_seed_2_subset_dev\n",
      "split_5_seed_2_subset_test\n",
      "split_0_seed_3_subset_dev\n",
      "split_0_seed_3_subset_test\n",
      "split_1_seed_3_subset_dev\n",
      "split_1_seed_3_subset_test\n",
      "split_2_seed_3_subset_dev\n",
      "split_2_seed_3_subset_test\n",
      "split_3_seed_3_subset_dev\n",
      "split_3_seed_3_subset_test\n",
      "split_4_seed_3_subset_dev\n",
      "split_4_seed_3_subset_test\n",
      "split_5_seed_3_subset_dev\n",
      "split_5_seed_3_subset_test\n",
      "split_0_seed_4_subset_dev\n",
      "split_0_seed_4_subset_test\n",
      "split_1_seed_4_subset_dev\n",
      "split_1_seed_4_subset_test\n",
      "split_2_seed_4_subset_dev\n",
      "split_2_seed_4_subset_test\n",
      "split_3_seed_4_subset_dev\n",
      "split_3_seed_4_subset_test\n",
      "split_4_seed_4_subset_dev\n",
      "split_4_seed_4_subset_test\n",
      "split_5_seed_4_subset_dev\n",
      "split_5_seed_4_subset_test\n"
     ]
    }
   ],
   "source": [
    "subset_size = 9\n",
    "import numpy as np\n",
    "from sklearn.model_selection import StratifiedShuffleSplit, ShuffleSplit\n",
    "from carps.utils.pareto_front import pareto\n",
    "\n",
    "problem_ids = df[\"problem_id\"].unique()\n",
    "# print(problem_ids)\n",
    "benchmark_ids = [pid.split(\"/\")[0] for pid in problem_ids]\n",
    "n_problems = len(problem_ids)\n",
    "\n",
    "print(n_problems)\n",
    "\n",
    "n_splits = n_problems // (subset_size * 2)\n",
    "print(n_splits)\n",
    "X = problem_ids\n",
    "y = benchmark_ids\n",
    "\n",
    "seeds = np.arange(0, 5)\n",
    "\n",
    "split_classes = [StratifiedShuffleSplit, ShuffleSplit]\n",
    "\n",
    "new_subset_performance = []\n",
    "\n",
    "\n",
    "for split_class in split_classes:\n",
    "    for seed in seeds:\n",
    "        sss = split_class(n_splits=n_splits, test_size=0.5, random_state=seed)\n",
    "        sss.get_n_splits(X, y)\n",
    "        for i, (train_index, test_index) in enumerate(sss.split(X, y)):\n",
    "            # print(split_class, seed, i)\n",
    "\n",
    "            ids_dev = problem_ids[train_index]\n",
    "            ids_test = problem_ids[test_index]\n",
    "            for _set_id, ids in zip([\"dev\", \"test\"], (ids_dev, ids_test)):\n",
    "                new_df = df[df[\"problem_id\"].isin(ids)].copy()\n",
    "                set_id = f\"split_{i}_seed_{seed}_subset_{_set_id}\"\n",
    "                print(set_id)\n",
    "                new_df[\"set\"] = set_id\n",
    "                new_subset_performance.append(new_df)\n",
    "\n",
    "df_new = pd.concat(new_subset_performance).reset_index(drop=True)"
   ]
  },
  {
   "cell_type": "code",
   "execution_count": null,
   "metadata": {},
   "outputs": [],
   "source": [
    "# _df = pd.concat([df, df_new]).reset_index(drop=True)\n",
    "_df = df_new"
   ]
  },
  {
   "cell_type": "code",
   "execution_count": null,
   "metadata": {},
   "outputs": [
    {
     "data": {
      "text/html": [
       "<pre style=\"white-space:pre;overflow-x:auto;line-height:normal;font-family:Menlo,'DejaVu Sans Mono',consolas,'Courier New',monospace\"><span style=\"color: #7fbfbf; text-decoration-color: #7fbfbf\">[19:02:06] </span><span style=\"color: #000080; text-decoration-color: #000080\">INFO    </span> Lost following experiments: optimizer_id                      Nevergrad-DE  <a href=\"file:///home/numina/Documents/repos/CARP-S-Experiments/lib/CARP-S/carps/analysis/run_autorank.py\" target=\"_blank\"><span style=\"color: #7f7f7f; text-decoration-color: #7f7f7f\">run_autorank.py</span></a><span style=\"color: #7f7f7f; text-decoration-color: #7f7f7f\">:</span><a href=\"file:///home/numina/Documents/repos/CARP-S-Experiments/lib/CARP-S/carps/analysis/run_autorank.py#113\" target=\"_blank\"><span style=\"color: #7f7f7f; text-decoration-color: #7f7f7f\">113</span></a>\n",
       "<span style=\"color: #7fbfbf; text-decoration-color: #7fbfbf\">           </span>         Optuna-MO  RandomSearch                                                     <span style=\"color: #7f7f7f; text-decoration-color: #7f7f7f\">                   </span>\n",
       "<span style=\"color: #7fbfbf; text-decoration-color: #7fbfbf\">           </span>         problem_id                                                                  <span style=\"color: #7f7f7f; text-decoration-color: #7f7f7f\">                   </span>\n",
       "<span style=\"color: #7fbfbf; text-decoration-color: #7fbfbf\">           </span>         yahpo/mo/iaml_ranger/<span style=\"color: #008080; text-decoration-color: #008080; font-weight: bold\">1067</span>/<span style=\"color: #800080; text-decoration-color: #800080; font-style: italic\">None</span>        <span style=\"color: #008080; text-decoration-color: #008080; font-weight: bold\">0.336826</span>        NaN      <span style=\"color: #008080; text-decoration-color: #008080; font-weight: bold\">0.217303</span>     <span style=\"color: #7f7f7f; text-decoration-color: #7f7f7f\">                   </span>\n",
       "<span style=\"color: #7fbfbf; text-decoration-color: #7fbfbf\">           </span>         yahpo/mo/iaml_ranger/<span style=\"color: #008080; text-decoration-color: #008080; font-weight: bold\">1489</span>/<span style=\"color: #800080; text-decoration-color: #800080; font-style: italic\">None</span>        <span style=\"color: #008080; text-decoration-color: #008080; font-weight: bold\">0.174604</span>        NaN      <span style=\"color: #008080; text-decoration-color: #008080; font-weight: bold\">0.004866</span>     <span style=\"color: #7f7f7f; text-decoration-color: #7f7f7f\">                   </span>\n",
       "<span style=\"color: #7fbfbf; text-decoration-color: #7fbfbf\">           </span>         yahpo/mo/iaml_super/<span style=\"color: #008080; text-decoration-color: #008080; font-weight: bold\">1067</span>/<span style=\"color: #800080; text-decoration-color: #800080; font-style: italic\">None</span>              NaN        NaN      <span style=\"color: #008080; text-decoration-color: #008080; font-weight: bold\">0.000075</span>     <span style=\"color: #7f7f7f; text-decoration-color: #7f7f7f\">                   </span>\n",
       "<span style=\"color: #7fbfbf; text-decoration-color: #7fbfbf\">           </span>         yahpo/mo/iaml_super/<span style=\"color: #008080; text-decoration-color: #008080; font-weight: bold\">1489</span>/<span style=\"color: #800080; text-decoration-color: #800080; font-style: italic\">None</span>              NaN        NaN      <span style=\"color: #008080; text-decoration-color: #008080; font-weight: bold\">0.000240</span>     <span style=\"color: #7f7f7f; text-decoration-color: #7f7f7f\">                   </span>\n",
       "<span style=\"color: #7fbfbf; text-decoration-color: #7fbfbf\">           </span>         yahpo/mo/iaml_xgboost/<span style=\"color: #008080; text-decoration-color: #008080; font-weight: bold\">40981</span>/<span style=\"color: #800080; text-decoration-color: #800080; font-style: italic\">None</span>      <span style=\"color: #008080; text-decoration-color: #008080; font-weight: bold\">0.201979</span>        NaN      <span style=\"color: #008080; text-decoration-color: #008080; font-weight: bold\">0.001476</span>     <span style=\"color: #7f7f7f; text-decoration-color: #7f7f7f\">                   </span>\n",
       "<span style=\"color: #7fbfbf; text-decoration-color: #7fbfbf\">           </span>         yahpo/mo/rbv2_ranger/<span style=\"color: #008080; text-decoration-color: #008080; font-weight: bold\">375</span>/<span style=\"color: #800080; text-decoration-color: #800080; font-style: italic\">None</span>         <span style=\"color: #008080; text-decoration-color: #008080; font-weight: bold\">0.218806</span>        NaN      <span style=\"color: #008080; text-decoration-color: #008080; font-weight: bold\">0.049281</span>     <span style=\"color: #7f7f7f; text-decoration-color: #7f7f7f\">                   </span>\n",
       "<span style=\"color: #7fbfbf; text-decoration-color: #7fbfbf\">           </span>         yahpo/mo/rbv2_ranger/<span style=\"color: #008080; text-decoration-color: #008080; font-weight: bold\">40979</span>/<span style=\"color: #800080; text-decoration-color: #800080; font-style: italic\">None</span>       <span style=\"color: #008080; text-decoration-color: #008080; font-weight: bold\">0.197883</span>        NaN      <span style=\"color: #008080; text-decoration-color: #008080; font-weight: bold\">0.067001</span>     <span style=\"color: #7f7f7f; text-decoration-color: #7f7f7f\">                   </span>\n",
       "<span style=\"color: #7fbfbf; text-decoration-color: #7fbfbf\">           </span>         yahpo/mo/rbv2_ranger/<span style=\"color: #008080; text-decoration-color: #008080; font-weight: bold\">6</span>/<span style=\"color: #800080; text-decoration-color: #800080; font-style: italic\">None</span>           <span style=\"color: #008080; text-decoration-color: #008080; font-weight: bold\">0.110805</span>        NaN      <span style=\"color: #008080; text-decoration-color: #008080; font-weight: bold\">0.017989</span>     <span style=\"color: #7f7f7f; text-decoration-color: #7f7f7f\">                   </span>\n",
       "<span style=\"color: #7fbfbf; text-decoration-color: #7fbfbf\">           </span>         yahpo/mo/rbv2_super/<span style=\"color: #008080; text-decoration-color: #008080; font-weight: bold\">1053</span>/<span style=\"color: #800080; text-decoration-color: #800080; font-style: italic\">None</span>              NaN        NaN      <span style=\"color: #008080; text-decoration-color: #008080; font-weight: bold\">0.005830</span>     <span style=\"color: #7f7f7f; text-decoration-color: #7f7f7f\">                   </span>\n",
       "<span style=\"color: #7fbfbf; text-decoration-color: #7fbfbf\">           </span>         yahpo/mo/rbv2_super/<span style=\"color: #008080; text-decoration-color: #008080; font-weight: bold\">1457</span>/<span style=\"color: #800080; text-decoration-color: #800080; font-style: italic\">None</span>              NaN        NaN      <span style=\"color: #008080; text-decoration-color: #008080; font-weight: bold\">0.000074</span>     <span style=\"color: #7f7f7f; text-decoration-color: #7f7f7f\">                   </span>\n",
       "<span style=\"color: #7fbfbf; text-decoration-color: #7fbfbf\">           </span>         yahpo/mo/rbv2_xgboost/<span style=\"color: #008080; text-decoration-color: #008080; font-weight: bold\">12</span>/<span style=\"color: #800080; text-decoration-color: #800080; font-style: italic\">None</span>         <span style=\"color: #008080; text-decoration-color: #008080; font-weight: bold\">0.040141</span>        NaN      <span style=\"color: #008080; text-decoration-color: #008080; font-weight: bold\">0.000009</span>     <span style=\"color: #7f7f7f; text-decoration-color: #7f7f7f\">                   </span>\n",
       "<span style=\"color: #7fbfbf; text-decoration-color: #7fbfbf\">           </span>         yahpo/mo/rbv2_xgboost/<span style=\"color: #008080; text-decoration-color: #008080; font-weight: bold\">28</span>/<span style=\"color: #800080; text-decoration-color: #800080; font-style: italic\">None</span>         <span style=\"color: #008080; text-decoration-color: #008080; font-weight: bold\">0.007840</span>        NaN      <span style=\"color: #008080; text-decoration-color: #008080; font-weight: bold\">0.000001</span>     <span style=\"color: #7f7f7f; text-decoration-color: #7f7f7f\">                   </span>\n",
       "</pre>\n"
      ],
      "text/plain": [
       "\u001b[2;36m[19:02:06]\u001b[0m\u001b[2;36m \u001b[0m\u001b[34mINFO    \u001b[0m Lost following experiments: optimizer_id                      Nevergrad-DE  \u001b]8;id=534370;file:///home/numina/Documents/repos/CARP-S-Experiments/lib/CARP-S/carps/analysis/run_autorank.py\u001b\\\u001b[2mrun_autorank.py\u001b[0m\u001b]8;;\u001b\\\u001b[2m:\u001b[0m\u001b]8;id=984210;file:///home/numina/Documents/repos/CARP-S-Experiments/lib/CARP-S/carps/analysis/run_autorank.py#113\u001b\\\u001b[2m113\u001b[0m\u001b]8;;\u001b\\\n",
       "\u001b[2;36m           \u001b[0m         Optuna-MO  RandomSearch                                                     \u001b[2m                   \u001b[0m\n",
       "\u001b[2;36m           \u001b[0m         problem_id                                                                  \u001b[2m                   \u001b[0m\n",
       "\u001b[2;36m           \u001b[0m         yahpo/mo/iaml_ranger/\u001b[1;36m1067\u001b[0m/\u001b[3;35mNone\u001b[0m        \u001b[1;36m0.336826\u001b[0m        NaN      \u001b[1;36m0.217303\u001b[0m     \u001b[2m                   \u001b[0m\n",
       "\u001b[2;36m           \u001b[0m         yahpo/mo/iaml_ranger/\u001b[1;36m1489\u001b[0m/\u001b[3;35mNone\u001b[0m        \u001b[1;36m0.174604\u001b[0m        NaN      \u001b[1;36m0.004866\u001b[0m     \u001b[2m                   \u001b[0m\n",
       "\u001b[2;36m           \u001b[0m         yahpo/mo/iaml_super/\u001b[1;36m1067\u001b[0m/\u001b[3;35mNone\u001b[0m              NaN        NaN      \u001b[1;36m0.000075\u001b[0m     \u001b[2m                   \u001b[0m\n",
       "\u001b[2;36m           \u001b[0m         yahpo/mo/iaml_super/\u001b[1;36m1489\u001b[0m/\u001b[3;35mNone\u001b[0m              NaN        NaN      \u001b[1;36m0.000240\u001b[0m     \u001b[2m                   \u001b[0m\n",
       "\u001b[2;36m           \u001b[0m         yahpo/mo/iaml_xgboost/\u001b[1;36m40981\u001b[0m/\u001b[3;35mNone\u001b[0m      \u001b[1;36m0.201979\u001b[0m        NaN      \u001b[1;36m0.001476\u001b[0m     \u001b[2m                   \u001b[0m\n",
       "\u001b[2;36m           \u001b[0m         yahpo/mo/rbv2_ranger/\u001b[1;36m375\u001b[0m/\u001b[3;35mNone\u001b[0m         \u001b[1;36m0.218806\u001b[0m        NaN      \u001b[1;36m0.049281\u001b[0m     \u001b[2m                   \u001b[0m\n",
       "\u001b[2;36m           \u001b[0m         yahpo/mo/rbv2_ranger/\u001b[1;36m40979\u001b[0m/\u001b[3;35mNone\u001b[0m       \u001b[1;36m0.197883\u001b[0m        NaN      \u001b[1;36m0.067001\u001b[0m     \u001b[2m                   \u001b[0m\n",
       "\u001b[2;36m           \u001b[0m         yahpo/mo/rbv2_ranger/\u001b[1;36m6\u001b[0m/\u001b[3;35mNone\u001b[0m           \u001b[1;36m0.110805\u001b[0m        NaN      \u001b[1;36m0.017989\u001b[0m     \u001b[2m                   \u001b[0m\n",
       "\u001b[2;36m           \u001b[0m         yahpo/mo/rbv2_super/\u001b[1;36m1053\u001b[0m/\u001b[3;35mNone\u001b[0m              NaN        NaN      \u001b[1;36m0.005830\u001b[0m     \u001b[2m                   \u001b[0m\n",
       "\u001b[2;36m           \u001b[0m         yahpo/mo/rbv2_super/\u001b[1;36m1457\u001b[0m/\u001b[3;35mNone\u001b[0m              NaN        NaN      \u001b[1;36m0.000074\u001b[0m     \u001b[2m                   \u001b[0m\n",
       "\u001b[2;36m           \u001b[0m         yahpo/mo/rbv2_xgboost/\u001b[1;36m12\u001b[0m/\u001b[3;35mNone\u001b[0m         \u001b[1;36m0.040141\u001b[0m        NaN      \u001b[1;36m0.000009\u001b[0m     \u001b[2m                   \u001b[0m\n",
       "\u001b[2;36m           \u001b[0m         yahpo/mo/rbv2_xgboost/\u001b[1;36m28\u001b[0m/\u001b[3;35mNone\u001b[0m         \u001b[1;36m0.007840\u001b[0m        NaN      \u001b[1;36m0.000001\u001b[0m     \u001b[2m                   \u001b[0m\n"
      ]
     },
     "metadata": {},
     "output_type": "display_data"
    },
    {
     "name": "stdout",
     "output_type": "stream",
     "text": [
      "Rejecting null hypothesis that data is normal for column Nevergrad-DE (p=0.000000<0.016667)\n",
      "Rejecting null hypothesis that data is normal for column Optuna-MO (p=0.000000<0.016667)\n",
      "Rejecting null hypothesis that data is normal for column RandomSearch (p=0.000000<0.016667)\n",
      "Using Friedman test as omnibus test\n",
      "Rejecting null hypothesis that there is no difference between the distributions (p=0.000042)\n",
      "Using Nemenyi post-hoc test. Differences are significant,if the distance between the mean ranks is greater than the critical distance.\n",
      "              meanrank    median       mad  ci_lower  ci_upper effect_size  \\\n",
      "Nevergrad-DE  1.633333  0.007830  0.007803  0.001327  0.044524         0.0   \n",
      "Optuna-MO     2.077778  0.009641  0.009613  0.002813  0.058713   -0.139513   \n",
      "RandomSearch  2.288889  0.011237   0.01114  0.002854  0.051639   -0.238931   \n",
      "\n",
      "               magnitude  \n",
      "Nevergrad-DE  negligible  \n",
      "Optuna-MO     negligible  \n",
      "RandomSearch       small  \n"
     ]
    },
    {
     "name": "stderr",
     "output_type": "stream",
     "text": [
      "/home/numina/micromamba/envs/carpsexp/lib/python3.11/site-packages/autorank/_util.py:432: FutureWarning: Series.__getitem__ treating keys as positions is deprecated. In a future version, integer keys will always be treated as labels (consistent with DataFrame behavior). To access a value by position, use `ser.iloc[pos]`\n",
      "  if abs(sorted_ranks[i] - sorted_ranks[j]) <= critical_difference:\n"
     ]
    },
    {
     "data": {
      "text/html": [
       "<pre style=\"white-space:pre;overflow-x:auto;line-height:normal;font-family:Menlo,'DejaVu Sans Mono',consolas,'Courier New',monospace\"><span style=\"color: #7fbfbf; text-decoration-color: #7fbfbf\">[19:02:08] </span><span style=\"color: #000080; text-decoration-color: #000080\">INFO    </span> Lost following experiments: optimizer_id                      Nevergrad-DE  <a href=\"file:///home/numina/Documents/repos/CARP-S-Experiments/lib/CARP-S/carps/analysis/run_autorank.py\" target=\"_blank\"><span style=\"color: #7f7f7f; text-decoration-color: #7f7f7f\">run_autorank.py</span></a><span style=\"color: #7f7f7f; text-decoration-color: #7f7f7f\">:</span><a href=\"file:///home/numina/Documents/repos/CARP-S-Experiments/lib/CARP-S/carps/analysis/run_autorank.py#113\" target=\"_blank\"><span style=\"color: #7f7f7f; text-decoration-color: #7f7f7f\">113</span></a>\n",
       "<span style=\"color: #7fbfbf; text-decoration-color: #7fbfbf\">           </span>         Optuna-MO  RandomSearch                                                     <span style=\"color: #7f7f7f; text-decoration-color: #7f7f7f\">                   </span>\n",
       "<span style=\"color: #7fbfbf; text-decoration-color: #7fbfbf\">           </span>         problem_id                                                                  <span style=\"color: #7f7f7f; text-decoration-color: #7f7f7f\">                   </span>\n",
       "<span style=\"color: #7fbfbf; text-decoration-color: #7fbfbf\">           </span>         yahpo/mo/iaml_ranger/<span style=\"color: #008080; text-decoration-color: #008080; font-weight: bold\">1489</span>/<span style=\"color: #800080; text-decoration-color: #800080; font-style: italic\">None</span>        <span style=\"color: #008080; text-decoration-color: #008080; font-weight: bold\">0.174604</span>        NaN      <span style=\"color: #008080; text-decoration-color: #008080; font-weight: bold\">0.004866</span>     <span style=\"color: #7f7f7f; text-decoration-color: #7f7f7f\">                   </span>\n",
       "<span style=\"color: #7fbfbf; text-decoration-color: #7fbfbf\">           </span>         yahpo/mo/iaml_xgboost/<span style=\"color: #008080; text-decoration-color: #008080; font-weight: bold\">1489</span>/<span style=\"color: #800080; text-decoration-color: #800080; font-style: italic\">None</span>       <span style=\"color: #008080; text-decoration-color: #008080; font-weight: bold\">0.203513</span>        NaN      <span style=\"color: #008080; text-decoration-color: #008080; font-weight: bold\">0.000394</span>     <span style=\"color: #7f7f7f; text-decoration-color: #7f7f7f\">                   </span>\n",
       "<span style=\"color: #7fbfbf; text-decoration-color: #7fbfbf\">           </span>         yahpo/mo/iaml_xgboost/<span style=\"color: #008080; text-decoration-color: #008080; font-weight: bold\">40981</span>/<span style=\"color: #800080; text-decoration-color: #800080; font-style: italic\">None</span>      <span style=\"color: #008080; text-decoration-color: #008080; font-weight: bold\">0.201979</span>        NaN      <span style=\"color: #008080; text-decoration-color: #008080; font-weight: bold\">0.001476</span>     <span style=\"color: #7f7f7f; text-decoration-color: #7f7f7f\">                   </span>\n",
       "<span style=\"color: #7fbfbf; text-decoration-color: #7fbfbf\">           </span>         yahpo/mo/rbv2_ranger/<span style=\"color: #008080; text-decoration-color: #008080; font-weight: bold\">375</span>/<span style=\"color: #800080; text-decoration-color: #800080; font-style: italic\">None</span>         <span style=\"color: #008080; text-decoration-color: #008080; font-weight: bold\">0.218806</span>        NaN      <span style=\"color: #008080; text-decoration-color: #008080; font-weight: bold\">0.049281</span>     <span style=\"color: #7f7f7f; text-decoration-color: #7f7f7f\">                   </span>\n",
       "<span style=\"color: #7fbfbf; text-decoration-color: #7fbfbf\">           </span>         yahpo/mo/rbv2_ranger/<span style=\"color: #008080; text-decoration-color: #008080; font-weight: bold\">40979</span>/<span style=\"color: #800080; text-decoration-color: #800080; font-style: italic\">None</span>       <span style=\"color: #008080; text-decoration-color: #008080; font-weight: bold\">0.197883</span>        NaN      <span style=\"color: #008080; text-decoration-color: #008080; font-weight: bold\">0.067001</span>     <span style=\"color: #7f7f7f; text-decoration-color: #7f7f7f\">                   </span>\n",
       "<span style=\"color: #7fbfbf; text-decoration-color: #7fbfbf\">           </span>         yahpo/mo/rbv2_super/<span style=\"color: #008080; text-decoration-color: #008080; font-weight: bold\">1457</span>/<span style=\"color: #800080; text-decoration-color: #800080; font-style: italic\">None</span>              NaN        NaN      <span style=\"color: #008080; text-decoration-color: #008080; font-weight: bold\">0.000074</span>     <span style=\"color: #7f7f7f; text-decoration-color: #7f7f7f\">                   </span>\n",
       "<span style=\"color: #7fbfbf; text-decoration-color: #7fbfbf\">           </span>         yahpo/mo/rbv2_super/<span style=\"color: #008080; text-decoration-color: #008080; font-weight: bold\">6</span>/<span style=\"color: #800080; text-decoration-color: #800080; font-style: italic\">None</span>                 NaN        NaN      <span style=\"color: #008080; text-decoration-color: #008080; font-weight: bold\">0.000088</span>     <span style=\"color: #7f7f7f; text-decoration-color: #7f7f7f\">                   </span>\n",
       "<span style=\"color: #7fbfbf; text-decoration-color: #7fbfbf\">           </span>         yahpo/mo/rbv2_xgboost/<span style=\"color: #008080; text-decoration-color: #008080; font-weight: bold\">182</span>/<span style=\"color: #800080; text-decoration-color: #800080; font-style: italic\">None</span>        <span style=\"color: #008080; text-decoration-color: #008080; font-weight: bold\">0.010498</span>        NaN      <span style=\"color: #008080; text-decoration-color: #008080; font-weight: bold\">0.000003</span>     <span style=\"color: #7f7f7f; text-decoration-color: #7f7f7f\">                   </span>\n",
       "</pre>\n"
      ],
      "text/plain": [
       "\u001b[2;36m[19:02:08]\u001b[0m\u001b[2;36m \u001b[0m\u001b[34mINFO    \u001b[0m Lost following experiments: optimizer_id                      Nevergrad-DE  \u001b]8;id=620702;file:///home/numina/Documents/repos/CARP-S-Experiments/lib/CARP-S/carps/analysis/run_autorank.py\u001b\\\u001b[2mrun_autorank.py\u001b[0m\u001b]8;;\u001b\\\u001b[2m:\u001b[0m\u001b]8;id=961564;file:///home/numina/Documents/repos/CARP-S-Experiments/lib/CARP-S/carps/analysis/run_autorank.py#113\u001b\\\u001b[2m113\u001b[0m\u001b]8;;\u001b\\\n",
       "\u001b[2;36m           \u001b[0m         Optuna-MO  RandomSearch                                                     \u001b[2m                   \u001b[0m\n",
       "\u001b[2;36m           \u001b[0m         problem_id                                                                  \u001b[2m                   \u001b[0m\n",
       "\u001b[2;36m           \u001b[0m         yahpo/mo/iaml_ranger/\u001b[1;36m1489\u001b[0m/\u001b[3;35mNone\u001b[0m        \u001b[1;36m0.174604\u001b[0m        NaN      \u001b[1;36m0.004866\u001b[0m     \u001b[2m                   \u001b[0m\n",
       "\u001b[2;36m           \u001b[0m         yahpo/mo/iaml_xgboost/\u001b[1;36m1489\u001b[0m/\u001b[3;35mNone\u001b[0m       \u001b[1;36m0.203513\u001b[0m        NaN      \u001b[1;36m0.000394\u001b[0m     \u001b[2m                   \u001b[0m\n",
       "\u001b[2;36m           \u001b[0m         yahpo/mo/iaml_xgboost/\u001b[1;36m40981\u001b[0m/\u001b[3;35mNone\u001b[0m      \u001b[1;36m0.201979\u001b[0m        NaN      \u001b[1;36m0.001476\u001b[0m     \u001b[2m                   \u001b[0m\n",
       "\u001b[2;36m           \u001b[0m         yahpo/mo/rbv2_ranger/\u001b[1;36m375\u001b[0m/\u001b[3;35mNone\u001b[0m         \u001b[1;36m0.218806\u001b[0m        NaN      \u001b[1;36m0.049281\u001b[0m     \u001b[2m                   \u001b[0m\n",
       "\u001b[2;36m           \u001b[0m         yahpo/mo/rbv2_ranger/\u001b[1;36m40979\u001b[0m/\u001b[3;35mNone\u001b[0m       \u001b[1;36m0.197883\u001b[0m        NaN      \u001b[1;36m0.067001\u001b[0m     \u001b[2m                   \u001b[0m\n",
       "\u001b[2;36m           \u001b[0m         yahpo/mo/rbv2_super/\u001b[1;36m1457\u001b[0m/\u001b[3;35mNone\u001b[0m              NaN        NaN      \u001b[1;36m0.000074\u001b[0m     \u001b[2m                   \u001b[0m\n",
       "\u001b[2;36m           \u001b[0m         yahpo/mo/rbv2_super/\u001b[1;36m6\u001b[0m/\u001b[3;35mNone\u001b[0m                 NaN        NaN      \u001b[1;36m0.000088\u001b[0m     \u001b[2m                   \u001b[0m\n",
       "\u001b[2;36m           \u001b[0m         yahpo/mo/rbv2_xgboost/\u001b[1;36m182\u001b[0m/\u001b[3;35mNone\u001b[0m        \u001b[1;36m0.010498\u001b[0m        NaN      \u001b[1;36m0.000003\u001b[0m     \u001b[2m                   \u001b[0m\n"
      ]
     },
     "metadata": {},
     "output_type": "display_data"
    },
    {
     "name": "stdout",
     "output_type": "stream",
     "text": [
      "Rejecting null hypothesis that data is normal for column Nevergrad-DE (p=0.000000<0.016667)\n",
      "Rejecting null hypothesis that data is normal for column Optuna-MO (p=0.000000<0.016667)\n",
      "Rejecting null hypothesis that data is normal for column RandomSearch (p=0.000000<0.016667)\n",
      "Using Friedman test as omnibus test\n",
      "Rejecting null hypothesis that there is no difference between the distributions (p=0.000098)\n",
      "Using Nemenyi post-hoc test. Differences are significant,if the distance between the mean ranks is greater than the critical distance.\n",
      "              meanrank    median       mad  ci_lower  ci_upper effect_size  \\\n",
      "Nevergrad-DE  1.673684  0.008228  0.008137  0.003283  0.046377         0.0   \n",
      "Optuna-MO     2.031579  0.009992  0.009963  0.004852  0.053638   -0.130817   \n",
      "RandomSearch  2.294737  0.011273  0.011179  0.006476  0.060899   -0.210063   \n",
      "\n",
      "               magnitude  \n",
      "Nevergrad-DE  negligible  \n",
      "Optuna-MO     negligible  \n",
      "RandomSearch       small  \n"
     ]
    },
    {
     "name": "stderr",
     "output_type": "stream",
     "text": [
      "/home/numina/micromamba/envs/carpsexp/lib/python3.11/site-packages/autorank/_util.py:432: FutureWarning: Series.__getitem__ treating keys as positions is deprecated. In a future version, integer keys will always be treated as labels (consistent with DataFrame behavior). To access a value by position, use `ser.iloc[pos]`\n",
      "  if abs(sorted_ranks[i] - sorted_ranks[j]) <= critical_difference:\n"
     ]
    },
    {
     "data": {
      "text/html": [
       "<pre style=\"white-space:pre;overflow-x:auto;line-height:normal;font-family:Menlo,'DejaVu Sans Mono',consolas,'Courier New',monospace\"><span style=\"color: #7fbfbf; text-decoration-color: #7fbfbf\">[19:02:09] </span><span style=\"color: #000080; text-decoration-color: #000080\">INFO    </span> Lost following experiments: optimizer_id                      Nevergrad-DE  <a href=\"file:///home/numina/Documents/repos/CARP-S-Experiments/lib/CARP-S/carps/analysis/run_autorank.py\" target=\"_blank\"><span style=\"color: #7f7f7f; text-decoration-color: #7f7f7f\">run_autorank.py</span></a><span style=\"color: #7f7f7f; text-decoration-color: #7f7f7f\">:</span><a href=\"file:///home/numina/Documents/repos/CARP-S-Experiments/lib/CARP-S/carps/analysis/run_autorank.py#113\" target=\"_blank\"><span style=\"color: #7f7f7f; text-decoration-color: #7f7f7f\">113</span></a>\n",
       "<span style=\"color: #7fbfbf; text-decoration-color: #7fbfbf\">           </span>         Optuna-MO  RandomSearch                                                     <span style=\"color: #7f7f7f; text-decoration-color: #7f7f7f\">                   </span>\n",
       "<span style=\"color: #7fbfbf; text-decoration-color: #7fbfbf\">           </span>         problem_id                                                                  <span style=\"color: #7f7f7f; text-decoration-color: #7f7f7f\">                   </span>\n",
       "<span style=\"color: #7fbfbf; text-decoration-color: #7fbfbf\">           </span>         yahpo/mo/iaml_ranger/<span style=\"color: #008080; text-decoration-color: #008080; font-weight: bold\">1489</span>/<span style=\"color: #800080; text-decoration-color: #800080; font-style: italic\">None</span>        <span style=\"color: #008080; text-decoration-color: #008080; font-weight: bold\">0.174604</span>        NaN      <span style=\"color: #008080; text-decoration-color: #008080; font-weight: bold\">0.004866</span>     <span style=\"color: #7f7f7f; text-decoration-color: #7f7f7f\">                   </span>\n",
       "<span style=\"color: #7fbfbf; text-decoration-color: #7fbfbf\">           </span>         yahpo/mo/iaml_super/<span style=\"color: #008080; text-decoration-color: #008080; font-weight: bold\">1067</span>/<span style=\"color: #800080; text-decoration-color: #800080; font-style: italic\">None</span>              NaN        NaN      <span style=\"color: #008080; text-decoration-color: #008080; font-weight: bold\">0.000075</span>     <span style=\"color: #7f7f7f; text-decoration-color: #7f7f7f\">                   </span>\n",
       "<span style=\"color: #7fbfbf; text-decoration-color: #7fbfbf\">           </span>         yahpo/mo/iaml_xgboost/<span style=\"color: #008080; text-decoration-color: #008080; font-weight: bold\">40981</span>/<span style=\"color: #800080; text-decoration-color: #800080; font-style: italic\">None</span>      <span style=\"color: #008080; text-decoration-color: #008080; font-weight: bold\">0.201979</span>        NaN      <span style=\"color: #008080; text-decoration-color: #008080; font-weight: bold\">0.001476</span>     <span style=\"color: #7f7f7f; text-decoration-color: #7f7f7f\">                   </span>\n",
       "<span style=\"color: #7fbfbf; text-decoration-color: #7fbfbf\">           </span>         yahpo/mo/rbv2_ranger/<span style=\"color: #008080; text-decoration-color: #008080; font-weight: bold\">375</span>/<span style=\"color: #800080; text-decoration-color: #800080; font-style: italic\">None</span>         <span style=\"color: #008080; text-decoration-color: #008080; font-weight: bold\">0.218806</span>        NaN      <span style=\"color: #008080; text-decoration-color: #008080; font-weight: bold\">0.049281</span>     <span style=\"color: #7f7f7f; text-decoration-color: #7f7f7f\">                   </span>\n",
       "<span style=\"color: #7fbfbf; text-decoration-color: #7fbfbf\">           </span>         yahpo/mo/rbv2_ranger/<span style=\"color: #008080; text-decoration-color: #008080; font-weight: bold\">40979</span>/<span style=\"color: #800080; text-decoration-color: #800080; font-style: italic\">None</span>       <span style=\"color: #008080; text-decoration-color: #008080; font-weight: bold\">0.197883</span>        NaN      <span style=\"color: #008080; text-decoration-color: #008080; font-weight: bold\">0.067001</span>     <span style=\"color: #7f7f7f; text-decoration-color: #7f7f7f\">                   </span>\n",
       "<span style=\"color: #7fbfbf; text-decoration-color: #7fbfbf\">           </span>         yahpo/mo/rbv2_super/<span style=\"color: #008080; text-decoration-color: #008080; font-weight: bold\">1457</span>/<span style=\"color: #800080; text-decoration-color: #800080; font-style: italic\">None</span>              NaN        NaN      <span style=\"color: #008080; text-decoration-color: #008080; font-weight: bold\">0.000074</span>     <span style=\"color: #7f7f7f; text-decoration-color: #7f7f7f\">                   </span>\n",
       "<span style=\"color: #7fbfbf; text-decoration-color: #7fbfbf\">           </span>         yahpo/mo/rbv2_super/<span style=\"color: #008080; text-decoration-color: #008080; font-weight: bold\">6</span>/<span style=\"color: #800080; text-decoration-color: #800080; font-style: italic\">None</span>                 NaN        NaN      <span style=\"color: #008080; text-decoration-color: #008080; font-weight: bold\">0.000088</span>     <span style=\"color: #7f7f7f; text-decoration-color: #7f7f7f\">                   </span>\n",
       "<span style=\"color: #7fbfbf; text-decoration-color: #7fbfbf\">           </span>         yahpo/mo/rbv2_xgboost/<span style=\"color: #008080; text-decoration-color: #008080; font-weight: bold\">182</span>/<span style=\"color: #800080; text-decoration-color: #800080; font-style: italic\">None</span>        <span style=\"color: #008080; text-decoration-color: #008080; font-weight: bold\">0.010498</span>        NaN      <span style=\"color: #008080; text-decoration-color: #008080; font-weight: bold\">0.000003</span>     <span style=\"color: #7f7f7f; text-decoration-color: #7f7f7f\">                   </span>\n",
       "<span style=\"color: #7fbfbf; text-decoration-color: #7fbfbf\">           </span>         yahpo/mo/rbv2_xgboost/<span style=\"color: #008080; text-decoration-color: #008080; font-weight: bold\">28</span>/<span style=\"color: #800080; text-decoration-color: #800080; font-style: italic\">None</span>         <span style=\"color: #008080; text-decoration-color: #008080; font-weight: bold\">0.007840</span>        NaN      <span style=\"color: #008080; text-decoration-color: #008080; font-weight: bold\">0.000001</span>     <span style=\"color: #7f7f7f; text-decoration-color: #7f7f7f\">                   </span>\n",
       "</pre>\n"
      ],
      "text/plain": [
       "\u001b[2;36m[19:02:09]\u001b[0m\u001b[2;36m \u001b[0m\u001b[34mINFO    \u001b[0m Lost following experiments: optimizer_id                      Nevergrad-DE  \u001b]8;id=104012;file:///home/numina/Documents/repos/CARP-S-Experiments/lib/CARP-S/carps/analysis/run_autorank.py\u001b\\\u001b[2mrun_autorank.py\u001b[0m\u001b]8;;\u001b\\\u001b[2m:\u001b[0m\u001b]8;id=835335;file:///home/numina/Documents/repos/CARP-S-Experiments/lib/CARP-S/carps/analysis/run_autorank.py#113\u001b\\\u001b[2m113\u001b[0m\u001b]8;;\u001b\\\n",
       "\u001b[2;36m           \u001b[0m         Optuna-MO  RandomSearch                                                     \u001b[2m                   \u001b[0m\n",
       "\u001b[2;36m           \u001b[0m         problem_id                                                                  \u001b[2m                   \u001b[0m\n",
       "\u001b[2;36m           \u001b[0m         yahpo/mo/iaml_ranger/\u001b[1;36m1489\u001b[0m/\u001b[3;35mNone\u001b[0m        \u001b[1;36m0.174604\u001b[0m        NaN      \u001b[1;36m0.004866\u001b[0m     \u001b[2m                   \u001b[0m\n",
       "\u001b[2;36m           \u001b[0m         yahpo/mo/iaml_super/\u001b[1;36m1067\u001b[0m/\u001b[3;35mNone\u001b[0m              NaN        NaN      \u001b[1;36m0.000075\u001b[0m     \u001b[2m                   \u001b[0m\n",
       "\u001b[2;36m           \u001b[0m         yahpo/mo/iaml_xgboost/\u001b[1;36m40981\u001b[0m/\u001b[3;35mNone\u001b[0m      \u001b[1;36m0.201979\u001b[0m        NaN      \u001b[1;36m0.001476\u001b[0m     \u001b[2m                   \u001b[0m\n",
       "\u001b[2;36m           \u001b[0m         yahpo/mo/rbv2_ranger/\u001b[1;36m375\u001b[0m/\u001b[3;35mNone\u001b[0m         \u001b[1;36m0.218806\u001b[0m        NaN      \u001b[1;36m0.049281\u001b[0m     \u001b[2m                   \u001b[0m\n",
       "\u001b[2;36m           \u001b[0m         yahpo/mo/rbv2_ranger/\u001b[1;36m40979\u001b[0m/\u001b[3;35mNone\u001b[0m       \u001b[1;36m0.197883\u001b[0m        NaN      \u001b[1;36m0.067001\u001b[0m     \u001b[2m                   \u001b[0m\n",
       "\u001b[2;36m           \u001b[0m         yahpo/mo/rbv2_super/\u001b[1;36m1457\u001b[0m/\u001b[3;35mNone\u001b[0m              NaN        NaN      \u001b[1;36m0.000074\u001b[0m     \u001b[2m                   \u001b[0m\n",
       "\u001b[2;36m           \u001b[0m         yahpo/mo/rbv2_super/\u001b[1;36m6\u001b[0m/\u001b[3;35mNone\u001b[0m                 NaN        NaN      \u001b[1;36m0.000088\u001b[0m     \u001b[2m                   \u001b[0m\n",
       "\u001b[2;36m           \u001b[0m         yahpo/mo/rbv2_xgboost/\u001b[1;36m182\u001b[0m/\u001b[3;35mNone\u001b[0m        \u001b[1;36m0.010498\u001b[0m        NaN      \u001b[1;36m0.000003\u001b[0m     \u001b[2m                   \u001b[0m\n",
       "\u001b[2;36m           \u001b[0m         yahpo/mo/rbv2_xgboost/\u001b[1;36m28\u001b[0m/\u001b[3;35mNone\u001b[0m         \u001b[1;36m0.007840\u001b[0m        NaN      \u001b[1;36m0.000001\u001b[0m     \u001b[2m                   \u001b[0m\n"
      ]
     },
     "metadata": {},
     "output_type": "display_data"
    },
    {
     "name": "stdout",
     "output_type": "stream",
     "text": [
      "Rejecting null hypothesis that data is normal for column Nevergrad-DE (p=0.000000<0.016667)\n",
      "Rejecting null hypothesis that data is normal for column Optuna-MO (p=0.000000<0.016667)\n",
      "Rejecting null hypothesis that data is normal for column RandomSearch (p=0.000000<0.016667)\n",
      "Using Friedman test as omnibus test\n",
      "Rejecting null hypothesis that there is no difference between the distributions (p=0.000080)\n",
      "Using Nemenyi post-hoc test. Differences are significant,if the distance between the mean ranks is greater than the critical distance.\n",
      "              meanrank    median       mad  ci_lower  ci_upper effect_size  \\\n",
      "Nevergrad-DE  1.666667  0.007476  0.007172  0.001766   0.02972         0.0   \n",
      "Optuna-MO     2.032258  0.008571  0.008465   0.00268  0.048084   -0.094145   \n",
      "RandomSearch  2.301075  0.010482  0.010169  0.003702  0.045352    -0.23042   \n",
      "\n",
      "               magnitude  \n",
      "Nevergrad-DE  negligible  \n",
      "Optuna-MO     negligible  \n",
      "RandomSearch       small  \n"
     ]
    },
    {
     "name": "stderr",
     "output_type": "stream",
     "text": [
      "/home/numina/micromamba/envs/carpsexp/lib/python3.11/site-packages/autorank/_util.py:432: FutureWarning: Series.__getitem__ treating keys as positions is deprecated. In a future version, integer keys will always be treated as labels (consistent with DataFrame behavior). To access a value by position, use `ser.iloc[pos]`\n",
      "  if abs(sorted_ranks[i] - sorted_ranks[j]) <= critical_difference:\n"
     ]
    },
    {
     "data": {
      "text/html": [
       "<pre style=\"white-space:pre;overflow-x:auto;line-height:normal;font-family:Menlo,'DejaVu Sans Mono',consolas,'Courier New',monospace\"><span style=\"color: #7fbfbf; text-decoration-color: #7fbfbf\">[19:02:10] </span><span style=\"color: #000080; text-decoration-color: #000080\">INFO    </span> Lost following experiments: optimizer_id                      Nevergrad-DE  <a href=\"file:///home/numina/Documents/repos/CARP-S-Experiments/lib/CARP-S/carps/analysis/run_autorank.py\" target=\"_blank\"><span style=\"color: #7f7f7f; text-decoration-color: #7f7f7f\">run_autorank.py</span></a><span style=\"color: #7f7f7f; text-decoration-color: #7f7f7f\">:</span><a href=\"file:///home/numina/Documents/repos/CARP-S-Experiments/lib/CARP-S/carps/analysis/run_autorank.py#113\" target=\"_blank\"><span style=\"color: #7f7f7f; text-decoration-color: #7f7f7f\">113</span></a>\n",
       "<span style=\"color: #7fbfbf; text-decoration-color: #7fbfbf\">           </span>         Optuna-MO  RandomSearch                                                     <span style=\"color: #7f7f7f; text-decoration-color: #7f7f7f\">                   </span>\n",
       "<span style=\"color: #7fbfbf; text-decoration-color: #7fbfbf\">           </span>         problem_id                                                                  <span style=\"color: #7f7f7f; text-decoration-color: #7f7f7f\">                   </span>\n",
       "<span style=\"color: #7fbfbf; text-decoration-color: #7fbfbf\">           </span>         yahpo/mo/iaml_ranger/<span style=\"color: #008080; text-decoration-color: #008080; font-weight: bold\">1067</span>/<span style=\"color: #800080; text-decoration-color: #800080; font-style: italic\">None</span>        <span style=\"color: #008080; text-decoration-color: #008080; font-weight: bold\">0.336826</span>        NaN      <span style=\"color: #008080; text-decoration-color: #008080; font-weight: bold\">0.217303</span>     <span style=\"color: #7f7f7f; text-decoration-color: #7f7f7f\">                   </span>\n",
       "<span style=\"color: #7fbfbf; text-decoration-color: #7fbfbf\">           </span>         yahpo/mo/iaml_super/<span style=\"color: #008080; text-decoration-color: #008080; font-weight: bold\">1489</span>/<span style=\"color: #800080; text-decoration-color: #800080; font-style: italic\">None</span>              NaN        NaN      <span style=\"color: #008080; text-decoration-color: #008080; font-weight: bold\">0.000240</span>     <span style=\"color: #7f7f7f; text-decoration-color: #7f7f7f\">                   </span>\n",
       "<span style=\"color: #7fbfbf; text-decoration-color: #7fbfbf\">           </span>         yahpo/mo/iaml_xgboost/<span style=\"color: #008080; text-decoration-color: #008080; font-weight: bold\">1489</span>/<span style=\"color: #800080; text-decoration-color: #800080; font-style: italic\">None</span>       <span style=\"color: #008080; text-decoration-color: #008080; font-weight: bold\">0.203513</span>        NaN      <span style=\"color: #008080; text-decoration-color: #008080; font-weight: bold\">0.000394</span>     <span style=\"color: #7f7f7f; text-decoration-color: #7f7f7f\">                   </span>\n",
       "<span style=\"color: #7fbfbf; text-decoration-color: #7fbfbf\">           </span>         yahpo/mo/iaml_xgboost/<span style=\"color: #008080; text-decoration-color: #008080; font-weight: bold\">40981</span>/<span style=\"color: #800080; text-decoration-color: #800080; font-style: italic\">None</span>      <span style=\"color: #008080; text-decoration-color: #008080; font-weight: bold\">0.201979</span>        NaN      <span style=\"color: #008080; text-decoration-color: #008080; font-weight: bold\">0.001476</span>     <span style=\"color: #7f7f7f; text-decoration-color: #7f7f7f\">                   </span>\n",
       "<span style=\"color: #7fbfbf; text-decoration-color: #7fbfbf\">           </span>         yahpo/mo/rbv2_ranger/<span style=\"color: #008080; text-decoration-color: #008080; font-weight: bold\">375</span>/<span style=\"color: #800080; text-decoration-color: #800080; font-style: italic\">None</span>         <span style=\"color: #008080; text-decoration-color: #008080; font-weight: bold\">0.218806</span>        NaN      <span style=\"color: #008080; text-decoration-color: #008080; font-weight: bold\">0.049281</span>     <span style=\"color: #7f7f7f; text-decoration-color: #7f7f7f\">                   </span>\n",
       "<span style=\"color: #7fbfbf; text-decoration-color: #7fbfbf\">           </span>         yahpo/mo/rbv2_ranger/<span style=\"color: #008080; text-decoration-color: #008080; font-weight: bold\">40979</span>/<span style=\"color: #800080; text-decoration-color: #800080; font-style: italic\">None</span>       <span style=\"color: #008080; text-decoration-color: #008080; font-weight: bold\">0.197883</span>        NaN      <span style=\"color: #008080; text-decoration-color: #008080; font-weight: bold\">0.067001</span>     <span style=\"color: #7f7f7f; text-decoration-color: #7f7f7f\">                   </span>\n",
       "<span style=\"color: #7fbfbf; text-decoration-color: #7fbfbf\">           </span>         yahpo/mo/rbv2_ranger/<span style=\"color: #008080; text-decoration-color: #008080; font-weight: bold\">6</span>/<span style=\"color: #800080; text-decoration-color: #800080; font-style: italic\">None</span>           <span style=\"color: #008080; text-decoration-color: #008080; font-weight: bold\">0.110805</span>        NaN      <span style=\"color: #008080; text-decoration-color: #008080; font-weight: bold\">0.017989</span>     <span style=\"color: #7f7f7f; text-decoration-color: #7f7f7f\">                   </span>\n",
       "<span style=\"color: #7fbfbf; text-decoration-color: #7fbfbf\">           </span>         yahpo/mo/rbv2_super/<span style=\"color: #008080; text-decoration-color: #008080; font-weight: bold\">1053</span>/<span style=\"color: #800080; text-decoration-color: #800080; font-style: italic\">None</span>              NaN        NaN      <span style=\"color: #008080; text-decoration-color: #008080; font-weight: bold\">0.005830</span>     <span style=\"color: #7f7f7f; text-decoration-color: #7f7f7f\">                   </span>\n",
       "<span style=\"color: #7fbfbf; text-decoration-color: #7fbfbf\">           </span>         yahpo/mo/rbv2_super/<span style=\"color: #008080; text-decoration-color: #008080; font-weight: bold\">1457</span>/<span style=\"color: #800080; text-decoration-color: #800080; font-style: italic\">None</span>              NaN        NaN      <span style=\"color: #008080; text-decoration-color: #008080; font-weight: bold\">0.000074</span>     <span style=\"color: #7f7f7f; text-decoration-color: #7f7f7f\">                   </span>\n",
       "<span style=\"color: #7fbfbf; text-decoration-color: #7fbfbf\">           </span>         yahpo/mo/rbv2_super/<span style=\"color: #008080; text-decoration-color: #008080; font-weight: bold\">6</span>/<span style=\"color: #800080; text-decoration-color: #800080; font-style: italic\">None</span>                 NaN        NaN      <span style=\"color: #008080; text-decoration-color: #008080; font-weight: bold\">0.000088</span>     <span style=\"color: #7f7f7f; text-decoration-color: #7f7f7f\">                   </span>\n",
       "<span style=\"color: #7fbfbf; text-decoration-color: #7fbfbf\">           </span>         yahpo/mo/rbv2_xgboost/<span style=\"color: #008080; text-decoration-color: #008080; font-weight: bold\">12</span>/<span style=\"color: #800080; text-decoration-color: #800080; font-style: italic\">None</span>         <span style=\"color: #008080; text-decoration-color: #008080; font-weight: bold\">0.040141</span>        NaN      <span style=\"color: #008080; text-decoration-color: #008080; font-weight: bold\">0.000009</span>     <span style=\"color: #7f7f7f; text-decoration-color: #7f7f7f\">                   </span>\n",
       "<span style=\"color: #7fbfbf; text-decoration-color: #7fbfbf\">           </span>         yahpo/mo/rbv2_xgboost/<span style=\"color: #008080; text-decoration-color: #008080; font-weight: bold\">28</span>/<span style=\"color: #800080; text-decoration-color: #800080; font-style: italic\">None</span>         <span style=\"color: #008080; text-decoration-color: #008080; font-weight: bold\">0.007840</span>        NaN      <span style=\"color: #008080; text-decoration-color: #008080; font-weight: bold\">0.000001</span>     <span style=\"color: #7f7f7f; text-decoration-color: #7f7f7f\">                   </span>\n",
       "</pre>\n"
      ],
      "text/plain": [
       "\u001b[2;36m[19:02:10]\u001b[0m\u001b[2;36m \u001b[0m\u001b[34mINFO    \u001b[0m Lost following experiments: optimizer_id                      Nevergrad-DE  \u001b]8;id=807180;file:///home/numina/Documents/repos/CARP-S-Experiments/lib/CARP-S/carps/analysis/run_autorank.py\u001b\\\u001b[2mrun_autorank.py\u001b[0m\u001b]8;;\u001b\\\u001b[2m:\u001b[0m\u001b]8;id=840455;file:///home/numina/Documents/repos/CARP-S-Experiments/lib/CARP-S/carps/analysis/run_autorank.py#113\u001b\\\u001b[2m113\u001b[0m\u001b]8;;\u001b\\\n",
       "\u001b[2;36m           \u001b[0m         Optuna-MO  RandomSearch                                                     \u001b[2m                   \u001b[0m\n",
       "\u001b[2;36m           \u001b[0m         problem_id                                                                  \u001b[2m                   \u001b[0m\n",
       "\u001b[2;36m           \u001b[0m         yahpo/mo/iaml_ranger/\u001b[1;36m1067\u001b[0m/\u001b[3;35mNone\u001b[0m        \u001b[1;36m0.336826\u001b[0m        NaN      \u001b[1;36m0.217303\u001b[0m     \u001b[2m                   \u001b[0m\n",
       "\u001b[2;36m           \u001b[0m         yahpo/mo/iaml_super/\u001b[1;36m1489\u001b[0m/\u001b[3;35mNone\u001b[0m              NaN        NaN      \u001b[1;36m0.000240\u001b[0m     \u001b[2m                   \u001b[0m\n",
       "\u001b[2;36m           \u001b[0m         yahpo/mo/iaml_xgboost/\u001b[1;36m1489\u001b[0m/\u001b[3;35mNone\u001b[0m       \u001b[1;36m0.203513\u001b[0m        NaN      \u001b[1;36m0.000394\u001b[0m     \u001b[2m                   \u001b[0m\n",
       "\u001b[2;36m           \u001b[0m         yahpo/mo/iaml_xgboost/\u001b[1;36m40981\u001b[0m/\u001b[3;35mNone\u001b[0m      \u001b[1;36m0.201979\u001b[0m        NaN      \u001b[1;36m0.001476\u001b[0m     \u001b[2m                   \u001b[0m\n",
       "\u001b[2;36m           \u001b[0m         yahpo/mo/rbv2_ranger/\u001b[1;36m375\u001b[0m/\u001b[3;35mNone\u001b[0m         \u001b[1;36m0.218806\u001b[0m        NaN      \u001b[1;36m0.049281\u001b[0m     \u001b[2m                   \u001b[0m\n",
       "\u001b[2;36m           \u001b[0m         yahpo/mo/rbv2_ranger/\u001b[1;36m40979\u001b[0m/\u001b[3;35mNone\u001b[0m       \u001b[1;36m0.197883\u001b[0m        NaN      \u001b[1;36m0.067001\u001b[0m     \u001b[2m                   \u001b[0m\n",
       "\u001b[2;36m           \u001b[0m         yahpo/mo/rbv2_ranger/\u001b[1;36m6\u001b[0m/\u001b[3;35mNone\u001b[0m           \u001b[1;36m0.110805\u001b[0m        NaN      \u001b[1;36m0.017989\u001b[0m     \u001b[2m                   \u001b[0m\n",
       "\u001b[2;36m           \u001b[0m         yahpo/mo/rbv2_super/\u001b[1;36m1053\u001b[0m/\u001b[3;35mNone\u001b[0m              NaN        NaN      \u001b[1;36m0.005830\u001b[0m     \u001b[2m                   \u001b[0m\n",
       "\u001b[2;36m           \u001b[0m         yahpo/mo/rbv2_super/\u001b[1;36m1457\u001b[0m/\u001b[3;35mNone\u001b[0m              NaN        NaN      \u001b[1;36m0.000074\u001b[0m     \u001b[2m                   \u001b[0m\n",
       "\u001b[2;36m           \u001b[0m         yahpo/mo/rbv2_super/\u001b[1;36m6\u001b[0m/\u001b[3;35mNone\u001b[0m                 NaN        NaN      \u001b[1;36m0.000088\u001b[0m     \u001b[2m                   \u001b[0m\n",
       "\u001b[2;36m           \u001b[0m         yahpo/mo/rbv2_xgboost/\u001b[1;36m12\u001b[0m/\u001b[3;35mNone\u001b[0m         \u001b[1;36m0.040141\u001b[0m        NaN      \u001b[1;36m0.000009\u001b[0m     \u001b[2m                   \u001b[0m\n",
       "\u001b[2;36m           \u001b[0m         yahpo/mo/rbv2_xgboost/\u001b[1;36m28\u001b[0m/\u001b[3;35mNone\u001b[0m         \u001b[1;36m0.007840\u001b[0m        NaN      \u001b[1;36m0.000001\u001b[0m     \u001b[2m                   \u001b[0m\n"
      ]
     },
     "metadata": {},
     "output_type": "display_data"
    },
    {
     "name": "stdout",
     "output_type": "stream",
     "text": [
      "Rejecting null hypothesis that data is normal for column Nevergrad-DE (p=0.000000<0.016667)\n",
      "Rejecting null hypothesis that data is normal for column Optuna-MO (p=0.000000<0.016667)\n",
      "Rejecting null hypothesis that data is normal for column RandomSearch (p=0.000000<0.016667)\n",
      "Using Friedman test as omnibus test\n",
      "Rejecting null hypothesis that there is no difference between the distributions (p=0.000026)\n",
      "Using Nemenyi post-hoc test. Differences are significant,if the distance between the mean ranks is greater than the critical distance.\n",
      "              meanrank    median       mad  ci_lower  ci_upper effect_size  \\\n",
      "Nevergrad-DE  1.659341  0.007503  0.007291  0.001327  0.037349         0.0   \n",
      "Optuna-MO     2.000000  0.008597   0.00856  0.002813  0.052336   -0.092771   \n",
      "RandomSearch  2.340659  0.010496  0.010396  0.002854  0.060729   -0.224817   \n",
      "\n",
      "               magnitude  \n",
      "Nevergrad-DE  negligible  \n",
      "Optuna-MO     negligible  \n",
      "RandomSearch       small  \n"
     ]
    },
    {
     "name": "stderr",
     "output_type": "stream",
     "text": [
      "/home/numina/micromamba/envs/carpsexp/lib/python3.11/site-packages/autorank/_util.py:432: FutureWarning: Series.__getitem__ treating keys as positions is deprecated. In a future version, integer keys will always be treated as labels (consistent with DataFrame behavior). To access a value by position, use `ser.iloc[pos]`\n",
      "  if abs(sorted_ranks[i] - sorted_ranks[j]) <= critical_difference:\n"
     ]
    },
    {
     "data": {
      "text/html": [
       "<pre style=\"white-space:pre;overflow-x:auto;line-height:normal;font-family:Menlo,'DejaVu Sans Mono',consolas,'Courier New',monospace\"><span style=\"color: #7fbfbf; text-decoration-color: #7fbfbf\">[19:02:12] </span><span style=\"color: #000080; text-decoration-color: #000080\">INFO    </span> Lost following experiments: optimizer_id                      Nevergrad-DE  <a href=\"file:///home/numina/Documents/repos/CARP-S-Experiments/lib/CARP-S/carps/analysis/run_autorank.py\" target=\"_blank\"><span style=\"color: #7f7f7f; text-decoration-color: #7f7f7f\">run_autorank.py</span></a><span style=\"color: #7f7f7f; text-decoration-color: #7f7f7f\">:</span><a href=\"file:///home/numina/Documents/repos/CARP-S-Experiments/lib/CARP-S/carps/analysis/run_autorank.py#113\" target=\"_blank\"><span style=\"color: #7f7f7f; text-decoration-color: #7f7f7f\">113</span></a>\n",
       "<span style=\"color: #7fbfbf; text-decoration-color: #7fbfbf\">           </span>         Optuna-MO  RandomSearch                                                     <span style=\"color: #7f7f7f; text-decoration-color: #7f7f7f\">                   </span>\n",
       "<span style=\"color: #7fbfbf; text-decoration-color: #7fbfbf\">           </span>         problem_id                                                                  <span style=\"color: #7f7f7f; text-decoration-color: #7f7f7f\">                   </span>\n",
       "<span style=\"color: #7fbfbf; text-decoration-color: #7fbfbf\">           </span>         yahpo/mo/iaml_ranger/<span style=\"color: #008080; text-decoration-color: #008080; font-weight: bold\">1489</span>/<span style=\"color: #800080; text-decoration-color: #800080; font-style: italic\">None</span>        <span style=\"color: #008080; text-decoration-color: #008080; font-weight: bold\">0.174604</span>        NaN      <span style=\"color: #008080; text-decoration-color: #008080; font-weight: bold\">0.004866</span>     <span style=\"color: #7f7f7f; text-decoration-color: #7f7f7f\">                   </span>\n",
       "<span style=\"color: #7fbfbf; text-decoration-color: #7fbfbf\">           </span>         yahpo/mo/iaml_super/<span style=\"color: #008080; text-decoration-color: #008080; font-weight: bold\">1067</span>/<span style=\"color: #800080; text-decoration-color: #800080; font-style: italic\">None</span>              NaN        NaN      <span style=\"color: #008080; text-decoration-color: #008080; font-weight: bold\">0.000075</span>     <span style=\"color: #7f7f7f; text-decoration-color: #7f7f7f\">                   </span>\n",
       "<span style=\"color: #7fbfbf; text-decoration-color: #7fbfbf\">           </span>         yahpo/mo/iaml_super/<span style=\"color: #008080; text-decoration-color: #008080; font-weight: bold\">1489</span>/<span style=\"color: #800080; text-decoration-color: #800080; font-style: italic\">None</span>              NaN        NaN      <span style=\"color: #008080; text-decoration-color: #008080; font-weight: bold\">0.000240</span>     <span style=\"color: #7f7f7f; text-decoration-color: #7f7f7f\">                   </span>\n",
       "<span style=\"color: #7fbfbf; text-decoration-color: #7fbfbf\">           </span>         yahpo/mo/iaml_xgboost/<span style=\"color: #008080; text-decoration-color: #008080; font-weight: bold\">1489</span>/<span style=\"color: #800080; text-decoration-color: #800080; font-style: italic\">None</span>       <span style=\"color: #008080; text-decoration-color: #008080; font-weight: bold\">0.203513</span>        NaN      <span style=\"color: #008080; text-decoration-color: #008080; font-weight: bold\">0.000394</span>     <span style=\"color: #7f7f7f; text-decoration-color: #7f7f7f\">                   </span>\n",
       "<span style=\"color: #7fbfbf; text-decoration-color: #7fbfbf\">           </span>         yahpo/mo/iaml_xgboost/<span style=\"color: #008080; text-decoration-color: #008080; font-weight: bold\">40981</span>/<span style=\"color: #800080; text-decoration-color: #800080; font-style: italic\">None</span>      <span style=\"color: #008080; text-decoration-color: #008080; font-weight: bold\">0.201979</span>        NaN      <span style=\"color: #008080; text-decoration-color: #008080; font-weight: bold\">0.001476</span>     <span style=\"color: #7f7f7f; text-decoration-color: #7f7f7f\">                   </span>\n",
       "<span style=\"color: #7fbfbf; text-decoration-color: #7fbfbf\">           </span>         yahpo/mo/rbv2_ranger/<span style=\"color: #008080; text-decoration-color: #008080; font-weight: bold\">375</span>/<span style=\"color: #800080; text-decoration-color: #800080; font-style: italic\">None</span>         <span style=\"color: #008080; text-decoration-color: #008080; font-weight: bold\">0.218806</span>        NaN      <span style=\"color: #008080; text-decoration-color: #008080; font-weight: bold\">0.049281</span>     <span style=\"color: #7f7f7f; text-decoration-color: #7f7f7f\">                   </span>\n",
       "<span style=\"color: #7fbfbf; text-decoration-color: #7fbfbf\">           </span>         yahpo/mo/rbv2_ranger/<span style=\"color: #008080; text-decoration-color: #008080; font-weight: bold\">40979</span>/<span style=\"color: #800080; text-decoration-color: #800080; font-style: italic\">None</span>       <span style=\"color: #008080; text-decoration-color: #008080; font-weight: bold\">0.197883</span>        NaN      <span style=\"color: #008080; text-decoration-color: #008080; font-weight: bold\">0.067001</span>     <span style=\"color: #7f7f7f; text-decoration-color: #7f7f7f\">                   </span>\n",
       "<span style=\"color: #7fbfbf; text-decoration-color: #7fbfbf\">           </span>         yahpo/mo/rbv2_ranger/<span style=\"color: #008080; text-decoration-color: #008080; font-weight: bold\">6</span>/<span style=\"color: #800080; text-decoration-color: #800080; font-style: italic\">None</span>           <span style=\"color: #008080; text-decoration-color: #008080; font-weight: bold\">0.110805</span>        NaN      <span style=\"color: #008080; text-decoration-color: #008080; font-weight: bold\">0.017989</span>     <span style=\"color: #7f7f7f; text-decoration-color: #7f7f7f\">                   </span>\n",
       "<span style=\"color: #7fbfbf; text-decoration-color: #7fbfbf\">           </span>         yahpo/mo/rbv2_super/<span style=\"color: #008080; text-decoration-color: #008080; font-weight: bold\">1053</span>/<span style=\"color: #800080; text-decoration-color: #800080; font-style: italic\">None</span>              NaN        NaN      <span style=\"color: #008080; text-decoration-color: #008080; font-weight: bold\">0.005830</span>     <span style=\"color: #7f7f7f; text-decoration-color: #7f7f7f\">                   </span>\n",
       "<span style=\"color: #7fbfbf; text-decoration-color: #7fbfbf\">           </span>         yahpo/mo/rbv2_super/<span style=\"color: #008080; text-decoration-color: #008080; font-weight: bold\">1457</span>/<span style=\"color: #800080; text-decoration-color: #800080; font-style: italic\">None</span>              NaN        NaN      <span style=\"color: #008080; text-decoration-color: #008080; font-weight: bold\">0.000074</span>     <span style=\"color: #7f7f7f; text-decoration-color: #7f7f7f\">                   </span>\n",
       "<span style=\"color: #7fbfbf; text-decoration-color: #7fbfbf\">           </span>         yahpo/mo/rbv2_super/<span style=\"color: #008080; text-decoration-color: #008080; font-weight: bold\">6</span>/<span style=\"color: #800080; text-decoration-color: #800080; font-style: italic\">None</span>                 NaN        NaN      <span style=\"color: #008080; text-decoration-color: #008080; font-weight: bold\">0.000088</span>     <span style=\"color: #7f7f7f; text-decoration-color: #7f7f7f\">                   </span>\n",
       "<span style=\"color: #7fbfbf; text-decoration-color: #7fbfbf\">           </span>         yahpo/mo/rbv2_xgboost/<span style=\"color: #008080; text-decoration-color: #008080; font-weight: bold\">12</span>/<span style=\"color: #800080; text-decoration-color: #800080; font-style: italic\">None</span>         <span style=\"color: #008080; text-decoration-color: #008080; font-weight: bold\">0.040141</span>        NaN      <span style=\"color: #008080; text-decoration-color: #008080; font-weight: bold\">0.000009</span>     <span style=\"color: #7f7f7f; text-decoration-color: #7f7f7f\">                   </span>\n",
       "<span style=\"color: #7fbfbf; text-decoration-color: #7fbfbf\">           </span>         yahpo/mo/rbv2_xgboost/<span style=\"color: #008080; text-decoration-color: #008080; font-weight: bold\">28</span>/<span style=\"color: #800080; text-decoration-color: #800080; font-style: italic\">None</span>         <span style=\"color: #008080; text-decoration-color: #008080; font-weight: bold\">0.007840</span>        NaN      <span style=\"color: #008080; text-decoration-color: #008080; font-weight: bold\">0.000001</span>     <span style=\"color: #7f7f7f; text-decoration-color: #7f7f7f\">                   </span>\n",
       "</pre>\n"
      ],
      "text/plain": [
       "\u001b[2;36m[19:02:12]\u001b[0m\u001b[2;36m \u001b[0m\u001b[34mINFO    \u001b[0m Lost following experiments: optimizer_id                      Nevergrad-DE  \u001b]8;id=371779;file:///home/numina/Documents/repos/CARP-S-Experiments/lib/CARP-S/carps/analysis/run_autorank.py\u001b\\\u001b[2mrun_autorank.py\u001b[0m\u001b]8;;\u001b\\\u001b[2m:\u001b[0m\u001b]8;id=110338;file:///home/numina/Documents/repos/CARP-S-Experiments/lib/CARP-S/carps/analysis/run_autorank.py#113\u001b\\\u001b[2m113\u001b[0m\u001b]8;;\u001b\\\n",
       "\u001b[2;36m           \u001b[0m         Optuna-MO  RandomSearch                                                     \u001b[2m                   \u001b[0m\n",
       "\u001b[2;36m           \u001b[0m         problem_id                                                                  \u001b[2m                   \u001b[0m\n",
       "\u001b[2;36m           \u001b[0m         yahpo/mo/iaml_ranger/\u001b[1;36m1489\u001b[0m/\u001b[3;35mNone\u001b[0m        \u001b[1;36m0.174604\u001b[0m        NaN      \u001b[1;36m0.004866\u001b[0m     \u001b[2m                   \u001b[0m\n",
       "\u001b[2;36m           \u001b[0m         yahpo/mo/iaml_super/\u001b[1;36m1067\u001b[0m/\u001b[3;35mNone\u001b[0m              NaN        NaN      \u001b[1;36m0.000075\u001b[0m     \u001b[2m                   \u001b[0m\n",
       "\u001b[2;36m           \u001b[0m         yahpo/mo/iaml_super/\u001b[1;36m1489\u001b[0m/\u001b[3;35mNone\u001b[0m              NaN        NaN      \u001b[1;36m0.000240\u001b[0m     \u001b[2m                   \u001b[0m\n",
       "\u001b[2;36m           \u001b[0m         yahpo/mo/iaml_xgboost/\u001b[1;36m1489\u001b[0m/\u001b[3;35mNone\u001b[0m       \u001b[1;36m0.203513\u001b[0m        NaN      \u001b[1;36m0.000394\u001b[0m     \u001b[2m                   \u001b[0m\n",
       "\u001b[2;36m           \u001b[0m         yahpo/mo/iaml_xgboost/\u001b[1;36m40981\u001b[0m/\u001b[3;35mNone\u001b[0m      \u001b[1;36m0.201979\u001b[0m        NaN      \u001b[1;36m0.001476\u001b[0m     \u001b[2m                   \u001b[0m\n",
       "\u001b[2;36m           \u001b[0m         yahpo/mo/rbv2_ranger/\u001b[1;36m375\u001b[0m/\u001b[3;35mNone\u001b[0m         \u001b[1;36m0.218806\u001b[0m        NaN      \u001b[1;36m0.049281\u001b[0m     \u001b[2m                   \u001b[0m\n",
       "\u001b[2;36m           \u001b[0m         yahpo/mo/rbv2_ranger/\u001b[1;36m40979\u001b[0m/\u001b[3;35mNone\u001b[0m       \u001b[1;36m0.197883\u001b[0m        NaN      \u001b[1;36m0.067001\u001b[0m     \u001b[2m                   \u001b[0m\n",
       "\u001b[2;36m           \u001b[0m         yahpo/mo/rbv2_ranger/\u001b[1;36m6\u001b[0m/\u001b[3;35mNone\u001b[0m           \u001b[1;36m0.110805\u001b[0m        NaN      \u001b[1;36m0.017989\u001b[0m     \u001b[2m                   \u001b[0m\n",
       "\u001b[2;36m           \u001b[0m         yahpo/mo/rbv2_super/\u001b[1;36m1053\u001b[0m/\u001b[3;35mNone\u001b[0m              NaN        NaN      \u001b[1;36m0.005830\u001b[0m     \u001b[2m                   \u001b[0m\n",
       "\u001b[2;36m           \u001b[0m         yahpo/mo/rbv2_super/\u001b[1;36m1457\u001b[0m/\u001b[3;35mNone\u001b[0m              NaN        NaN      \u001b[1;36m0.000074\u001b[0m     \u001b[2m                   \u001b[0m\n",
       "\u001b[2;36m           \u001b[0m         yahpo/mo/rbv2_super/\u001b[1;36m6\u001b[0m/\u001b[3;35mNone\u001b[0m                 NaN        NaN      \u001b[1;36m0.000088\u001b[0m     \u001b[2m                   \u001b[0m\n",
       "\u001b[2;36m           \u001b[0m         yahpo/mo/rbv2_xgboost/\u001b[1;36m12\u001b[0m/\u001b[3;35mNone\u001b[0m         \u001b[1;36m0.040141\u001b[0m        NaN      \u001b[1;36m0.000009\u001b[0m     \u001b[2m                   \u001b[0m\n",
       "\u001b[2;36m           \u001b[0m         yahpo/mo/rbv2_xgboost/\u001b[1;36m28\u001b[0m/\u001b[3;35mNone\u001b[0m         \u001b[1;36m0.007840\u001b[0m        NaN      \u001b[1;36m0.000001\u001b[0m     \u001b[2m                   \u001b[0m\n"
      ]
     },
     "metadata": {},
     "output_type": "display_data"
    },
    {
     "name": "stdout",
     "output_type": "stream",
     "text": [
      "Rejecting null hypothesis that data is normal for column Nevergrad-DE (p=0.000000<0.016667)\n",
      "Rejecting null hypothesis that data is normal for column Optuna-MO (p=0.000000<0.016667)\n",
      "Rejecting null hypothesis that data is normal for column RandomSearch (p=0.000000<0.016667)\n",
      "Using Friedman test as omnibus test\n",
      "Rejecting null hypothesis that there is no difference between the distributions (p=0.000049)\n",
      "Using Nemenyi post-hoc test. Differences are significant,if the distance between the mean ranks is greater than the critical distance.\n",
      "              meanrank    median       mad  ci_lower  ci_upper effect_size  \\\n",
      "Nevergrad-DE  1.659341  0.007503  0.007412  0.002258  0.046377         0.0   \n",
      "Optuna-MO     2.021978  0.009487  0.009454  0.003011  0.052336   -0.157504   \n",
      "RandomSearch  2.318681  0.011273  0.011179  0.005451  0.060729   -0.268122   \n",
      "\n",
      "               magnitude  \n",
      "Nevergrad-DE  negligible  \n",
      "Optuna-MO     negligible  \n",
      "RandomSearch       small  \n"
     ]
    },
    {
     "name": "stderr",
     "output_type": "stream",
     "text": [
      "/home/numina/micromamba/envs/carpsexp/lib/python3.11/site-packages/autorank/_util.py:432: FutureWarning: Series.__getitem__ treating keys as positions is deprecated. In a future version, integer keys will always be treated as labels (consistent with DataFrame behavior). To access a value by position, use `ser.iloc[pos]`\n",
      "  if abs(sorted_ranks[i] - sorted_ranks[j]) <= critical_difference:\n"
     ]
    },
    {
     "data": {
      "text/html": [
       "<pre style=\"white-space:pre;overflow-x:auto;line-height:normal;font-family:Menlo,'DejaVu Sans Mono',consolas,'Courier New',monospace\"><span style=\"color: #7fbfbf; text-decoration-color: #7fbfbf\">[19:02:13] </span><span style=\"color: #000080; text-decoration-color: #000080\">INFO    </span> Lost following experiments: optimizer_id                     Nevergrad-DE   <a href=\"file:///home/numina/Documents/repos/CARP-S-Experiments/lib/CARP-S/carps/analysis/run_autorank.py\" target=\"_blank\"><span style=\"color: #7f7f7f; text-decoration-color: #7f7f7f\">run_autorank.py</span></a><span style=\"color: #7f7f7f; text-decoration-color: #7f7f7f\">:</span><a href=\"file:///home/numina/Documents/repos/CARP-S-Experiments/lib/CARP-S/carps/analysis/run_autorank.py#113\" target=\"_blank\"><span style=\"color: #7f7f7f; text-decoration-color: #7f7f7f\">113</span></a>\n",
       "<span style=\"color: #7fbfbf; text-decoration-color: #7fbfbf\">           </span>         Optuna-MO  RandomSearch                                                     <span style=\"color: #7f7f7f; text-decoration-color: #7f7f7f\">                   </span>\n",
       "<span style=\"color: #7fbfbf; text-decoration-color: #7fbfbf\">           </span>         problem_id                                                                  <span style=\"color: #7f7f7f; text-decoration-color: #7f7f7f\">                   </span>\n",
       "<span style=\"color: #7fbfbf; text-decoration-color: #7fbfbf\">           </span>         yahpo/mo/iaml_ranger/<span style=\"color: #008080; text-decoration-color: #008080; font-weight: bold\">1067</span>/<span style=\"color: #800080; text-decoration-color: #800080; font-style: italic\">None</span>       <span style=\"color: #008080; text-decoration-color: #008080; font-weight: bold\">0.336826</span>        NaN      <span style=\"color: #008080; text-decoration-color: #008080; font-weight: bold\">0.217303</span>      <span style=\"color: #7f7f7f; text-decoration-color: #7f7f7f\">                   </span>\n",
       "<span style=\"color: #7fbfbf; text-decoration-color: #7fbfbf\">           </span>         yahpo/mo/iaml_ranger/<span style=\"color: #008080; text-decoration-color: #008080; font-weight: bold\">1489</span>/<span style=\"color: #800080; text-decoration-color: #800080; font-style: italic\">None</span>       <span style=\"color: #008080; text-decoration-color: #008080; font-weight: bold\">0.174604</span>        NaN      <span style=\"color: #008080; text-decoration-color: #008080; font-weight: bold\">0.004866</span>      <span style=\"color: #7f7f7f; text-decoration-color: #7f7f7f\">                   </span>\n",
       "<span style=\"color: #7fbfbf; text-decoration-color: #7fbfbf\">           </span>         yahpo/mo/iaml_super/<span style=\"color: #008080; text-decoration-color: #008080; font-weight: bold\">1067</span>/<span style=\"color: #800080; text-decoration-color: #800080; font-style: italic\">None</span>             NaN        NaN      <span style=\"color: #008080; text-decoration-color: #008080; font-weight: bold\">0.000075</span>      <span style=\"color: #7f7f7f; text-decoration-color: #7f7f7f\">                   </span>\n",
       "<span style=\"color: #7fbfbf; text-decoration-color: #7fbfbf\">           </span>         yahpo/mo/iaml_xgboost/<span style=\"color: #008080; text-decoration-color: #008080; font-weight: bold\">1489</span>/<span style=\"color: #800080; text-decoration-color: #800080; font-style: italic\">None</span>      <span style=\"color: #008080; text-decoration-color: #008080; font-weight: bold\">0.203513</span>        NaN      <span style=\"color: #008080; text-decoration-color: #008080; font-weight: bold\">0.000394</span>      <span style=\"color: #7f7f7f; text-decoration-color: #7f7f7f\">                   </span>\n",
       "<span style=\"color: #7fbfbf; text-decoration-color: #7fbfbf\">           </span>         yahpo/mo/rbv2_ranger/<span style=\"color: #008080; text-decoration-color: #008080; font-weight: bold\">375</span>/<span style=\"color: #800080; text-decoration-color: #800080; font-style: italic\">None</span>        <span style=\"color: #008080; text-decoration-color: #008080; font-weight: bold\">0.218806</span>        NaN      <span style=\"color: #008080; text-decoration-color: #008080; font-weight: bold\">0.049281</span>      <span style=\"color: #7f7f7f; text-decoration-color: #7f7f7f\">                   </span>\n",
       "<span style=\"color: #7fbfbf; text-decoration-color: #7fbfbf\">           </span>         yahpo/mo/rbv2_ranger/<span style=\"color: #008080; text-decoration-color: #008080; font-weight: bold\">40979</span>/<span style=\"color: #800080; text-decoration-color: #800080; font-style: italic\">None</span>      <span style=\"color: #008080; text-decoration-color: #008080; font-weight: bold\">0.197883</span>        NaN      <span style=\"color: #008080; text-decoration-color: #008080; font-weight: bold\">0.067001</span>      <span style=\"color: #7f7f7f; text-decoration-color: #7f7f7f\">                   </span>\n",
       "<span style=\"color: #7fbfbf; text-decoration-color: #7fbfbf\">           </span>         yahpo/mo/rbv2_ranger/<span style=\"color: #008080; text-decoration-color: #008080; font-weight: bold\">6</span>/<span style=\"color: #800080; text-decoration-color: #800080; font-style: italic\">None</span>          <span style=\"color: #008080; text-decoration-color: #008080; font-weight: bold\">0.110805</span>        NaN      <span style=\"color: #008080; text-decoration-color: #008080; font-weight: bold\">0.017989</span>      <span style=\"color: #7f7f7f; text-decoration-color: #7f7f7f\">                   </span>\n",
       "<span style=\"color: #7fbfbf; text-decoration-color: #7fbfbf\">           </span>         yahpo/mo/rbv2_super/<span style=\"color: #008080; text-decoration-color: #008080; font-weight: bold\">1053</span>/<span style=\"color: #800080; text-decoration-color: #800080; font-style: italic\">None</span>             NaN        NaN      <span style=\"color: #008080; text-decoration-color: #008080; font-weight: bold\">0.005830</span>      <span style=\"color: #7f7f7f; text-decoration-color: #7f7f7f\">                   </span>\n",
       "<span style=\"color: #7fbfbf; text-decoration-color: #7fbfbf\">           </span>         yahpo/mo/rbv2_super/<span style=\"color: #008080; text-decoration-color: #008080; font-weight: bold\">1457</span>/<span style=\"color: #800080; text-decoration-color: #800080; font-style: italic\">None</span>             NaN        NaN      <span style=\"color: #008080; text-decoration-color: #008080; font-weight: bold\">0.000074</span>      <span style=\"color: #7f7f7f; text-decoration-color: #7f7f7f\">                   </span>\n",
       "<span style=\"color: #7fbfbf; text-decoration-color: #7fbfbf\">           </span>         yahpo/mo/rbv2_super/<span style=\"color: #008080; text-decoration-color: #008080; font-weight: bold\">6</span>/<span style=\"color: #800080; text-decoration-color: #800080; font-style: italic\">None</span>                NaN        NaN      <span style=\"color: #008080; text-decoration-color: #008080; font-weight: bold\">0.000088</span>      <span style=\"color: #7f7f7f; text-decoration-color: #7f7f7f\">                   </span>\n",
       "<span style=\"color: #7fbfbf; text-decoration-color: #7fbfbf\">           </span>         yahpo/mo/rbv2_xgboost/<span style=\"color: #008080; text-decoration-color: #008080; font-weight: bold\">12</span>/<span style=\"color: #800080; text-decoration-color: #800080; font-style: italic\">None</span>        <span style=\"color: #008080; text-decoration-color: #008080; font-weight: bold\">0.040141</span>        NaN      <span style=\"color: #008080; text-decoration-color: #008080; font-weight: bold\">0.000009</span>      <span style=\"color: #7f7f7f; text-decoration-color: #7f7f7f\">                   </span>\n",
       "<span style=\"color: #7fbfbf; text-decoration-color: #7fbfbf\">           </span>         yahpo/mo/rbv2_xgboost/<span style=\"color: #008080; text-decoration-color: #008080; font-weight: bold\">182</span>/<span style=\"color: #800080; text-decoration-color: #800080; font-style: italic\">None</span>       <span style=\"color: #008080; text-decoration-color: #008080; font-weight: bold\">0.010498</span>        NaN      <span style=\"color: #008080; text-decoration-color: #008080; font-weight: bold\">0.000003</span>      <span style=\"color: #7f7f7f; text-decoration-color: #7f7f7f\">                   </span>\n",
       "<span style=\"color: #7fbfbf; text-decoration-color: #7fbfbf\">           </span>         yahpo/mo/rbv2_xgboost/<span style=\"color: #008080; text-decoration-color: #008080; font-weight: bold\">28</span>/<span style=\"color: #800080; text-decoration-color: #800080; font-style: italic\">None</span>        <span style=\"color: #008080; text-decoration-color: #008080; font-weight: bold\">0.007840</span>        NaN      <span style=\"color: #008080; text-decoration-color: #008080; font-weight: bold\">0.000001</span>      <span style=\"color: #7f7f7f; text-decoration-color: #7f7f7f\">                   </span>\n",
       "</pre>\n"
      ],
      "text/plain": [
       "\u001b[2;36m[19:02:13]\u001b[0m\u001b[2;36m \u001b[0m\u001b[34mINFO    \u001b[0m Lost following experiments: optimizer_id                     Nevergrad-DE   \u001b]8;id=465727;file:///home/numina/Documents/repos/CARP-S-Experiments/lib/CARP-S/carps/analysis/run_autorank.py\u001b\\\u001b[2mrun_autorank.py\u001b[0m\u001b]8;;\u001b\\\u001b[2m:\u001b[0m\u001b]8;id=281386;file:///home/numina/Documents/repos/CARP-S-Experiments/lib/CARP-S/carps/analysis/run_autorank.py#113\u001b\\\u001b[2m113\u001b[0m\u001b]8;;\u001b\\\n",
       "\u001b[2;36m           \u001b[0m         Optuna-MO  RandomSearch                                                     \u001b[2m                   \u001b[0m\n",
       "\u001b[2;36m           \u001b[0m         problem_id                                                                  \u001b[2m                   \u001b[0m\n",
       "\u001b[2;36m           \u001b[0m         yahpo/mo/iaml_ranger/\u001b[1;36m1067\u001b[0m/\u001b[3;35mNone\u001b[0m       \u001b[1;36m0.336826\u001b[0m        NaN      \u001b[1;36m0.217303\u001b[0m      \u001b[2m                   \u001b[0m\n",
       "\u001b[2;36m           \u001b[0m         yahpo/mo/iaml_ranger/\u001b[1;36m1489\u001b[0m/\u001b[3;35mNone\u001b[0m       \u001b[1;36m0.174604\u001b[0m        NaN      \u001b[1;36m0.004866\u001b[0m      \u001b[2m                   \u001b[0m\n",
       "\u001b[2;36m           \u001b[0m         yahpo/mo/iaml_super/\u001b[1;36m1067\u001b[0m/\u001b[3;35mNone\u001b[0m             NaN        NaN      \u001b[1;36m0.000075\u001b[0m      \u001b[2m                   \u001b[0m\n",
       "\u001b[2;36m           \u001b[0m         yahpo/mo/iaml_xgboost/\u001b[1;36m1489\u001b[0m/\u001b[3;35mNone\u001b[0m      \u001b[1;36m0.203513\u001b[0m        NaN      \u001b[1;36m0.000394\u001b[0m      \u001b[2m                   \u001b[0m\n",
       "\u001b[2;36m           \u001b[0m         yahpo/mo/rbv2_ranger/\u001b[1;36m375\u001b[0m/\u001b[3;35mNone\u001b[0m        \u001b[1;36m0.218806\u001b[0m        NaN      \u001b[1;36m0.049281\u001b[0m      \u001b[2m                   \u001b[0m\n",
       "\u001b[2;36m           \u001b[0m         yahpo/mo/rbv2_ranger/\u001b[1;36m40979\u001b[0m/\u001b[3;35mNone\u001b[0m      \u001b[1;36m0.197883\u001b[0m        NaN      \u001b[1;36m0.067001\u001b[0m      \u001b[2m                   \u001b[0m\n",
       "\u001b[2;36m           \u001b[0m         yahpo/mo/rbv2_ranger/\u001b[1;36m6\u001b[0m/\u001b[3;35mNone\u001b[0m          \u001b[1;36m0.110805\u001b[0m        NaN      \u001b[1;36m0.017989\u001b[0m      \u001b[2m                   \u001b[0m\n",
       "\u001b[2;36m           \u001b[0m         yahpo/mo/rbv2_super/\u001b[1;36m1053\u001b[0m/\u001b[3;35mNone\u001b[0m             NaN        NaN      \u001b[1;36m0.005830\u001b[0m      \u001b[2m                   \u001b[0m\n",
       "\u001b[2;36m           \u001b[0m         yahpo/mo/rbv2_super/\u001b[1;36m1457\u001b[0m/\u001b[3;35mNone\u001b[0m             NaN        NaN      \u001b[1;36m0.000074\u001b[0m      \u001b[2m                   \u001b[0m\n",
       "\u001b[2;36m           \u001b[0m         yahpo/mo/rbv2_super/\u001b[1;36m6\u001b[0m/\u001b[3;35mNone\u001b[0m                NaN        NaN      \u001b[1;36m0.000088\u001b[0m      \u001b[2m                   \u001b[0m\n",
       "\u001b[2;36m           \u001b[0m         yahpo/mo/rbv2_xgboost/\u001b[1;36m12\u001b[0m/\u001b[3;35mNone\u001b[0m        \u001b[1;36m0.040141\u001b[0m        NaN      \u001b[1;36m0.000009\u001b[0m      \u001b[2m                   \u001b[0m\n",
       "\u001b[2;36m           \u001b[0m         yahpo/mo/rbv2_xgboost/\u001b[1;36m182\u001b[0m/\u001b[3;35mNone\u001b[0m       \u001b[1;36m0.010498\u001b[0m        NaN      \u001b[1;36m0.000003\u001b[0m      \u001b[2m                   \u001b[0m\n",
       "\u001b[2;36m           \u001b[0m         yahpo/mo/rbv2_xgboost/\u001b[1;36m28\u001b[0m/\u001b[3;35mNone\u001b[0m        \u001b[1;36m0.007840\u001b[0m        NaN      \u001b[1;36m0.000001\u001b[0m      \u001b[2m                   \u001b[0m\n"
      ]
     },
     "metadata": {},
     "output_type": "display_data"
    },
    {
     "name": "stdout",
     "output_type": "stream",
     "text": [
      "Rejecting null hypothesis that data is normal for column Nevergrad-DE (p=0.000000<0.016667)\n",
      "Rejecting null hypothesis that data is normal for column Optuna-MO (p=0.000000<0.016667)\n",
      "Rejecting null hypothesis that data is normal for column RandomSearch (p=0.000000<0.016667)\n",
      "Using Friedman test as omnibus test\n",
      "Rejecting null hypothesis that there is no difference between the distributions (p=0.000019)\n",
      "Using Nemenyi post-hoc test. Differences are significant,if the distance between the mean ranks is greater than the critical distance.\n",
      "              meanrank    median       mad  ci_lower  ci_upper effect_size  \\\n",
      "Nevergrad-DE  1.641304  0.007414  0.007061  0.001766   0.02972         0.0   \n",
      "Optuna-MO     2.032609  0.008520  0.008455  0.003011  0.048084   -0.095737   \n",
      "RandomSearch  2.326087  0.010582  0.010227  0.003702  0.028433   -0.243195   \n",
      "\n",
      "               magnitude  \n",
      "Nevergrad-DE  negligible  \n",
      "Optuna-MO     negligible  \n",
      "RandomSearch       small  \n"
     ]
    },
    {
     "name": "stderr",
     "output_type": "stream",
     "text": [
      "/home/numina/micromamba/envs/carpsexp/lib/python3.11/site-packages/autorank/_util.py:432: FutureWarning: Series.__getitem__ treating keys as positions is deprecated. In a future version, integer keys will always be treated as labels (consistent with DataFrame behavior). To access a value by position, use `ser.iloc[pos]`\n",
      "  if abs(sorted_ranks[i] - sorted_ranks[j]) <= critical_difference:\n"
     ]
    },
    {
     "data": {
      "text/html": [
       "<pre style=\"white-space:pre;overflow-x:auto;line-height:normal;font-family:Menlo,'DejaVu Sans Mono',consolas,'Courier New',monospace\"><span style=\"color: #7fbfbf; text-decoration-color: #7fbfbf\">[19:02:14] </span><span style=\"color: #000080; text-decoration-color: #000080\">INFO    </span> Lost following experiments: optimizer_id                      Nevergrad-DE  <a href=\"file:///home/numina/Documents/repos/CARP-S-Experiments/lib/CARP-S/carps/analysis/run_autorank.py\" target=\"_blank\"><span style=\"color: #7f7f7f; text-decoration-color: #7f7f7f\">run_autorank.py</span></a><span style=\"color: #7f7f7f; text-decoration-color: #7f7f7f\">:</span><a href=\"file:///home/numina/Documents/repos/CARP-S-Experiments/lib/CARP-S/carps/analysis/run_autorank.py#113\" target=\"_blank\"><span style=\"color: #7f7f7f; text-decoration-color: #7f7f7f\">113</span></a>\n",
       "<span style=\"color: #7fbfbf; text-decoration-color: #7fbfbf\">           </span>         Optuna-MO  RandomSearch                                                     <span style=\"color: #7f7f7f; text-decoration-color: #7f7f7f\">                   </span>\n",
       "<span style=\"color: #7fbfbf; text-decoration-color: #7fbfbf\">           </span>         problem_id                                                                  <span style=\"color: #7f7f7f; text-decoration-color: #7f7f7f\">                   </span>\n",
       "<span style=\"color: #7fbfbf; text-decoration-color: #7fbfbf\">           </span>         yahpo/mo/iaml_ranger/<span style=\"color: #008080; text-decoration-color: #008080; font-weight: bold\">1067</span>/<span style=\"color: #800080; text-decoration-color: #800080; font-style: italic\">None</span>        <span style=\"color: #008080; text-decoration-color: #008080; font-weight: bold\">0.336826</span>        NaN      <span style=\"color: #008080; text-decoration-color: #008080; font-weight: bold\">0.217303</span>     <span style=\"color: #7f7f7f; text-decoration-color: #7f7f7f\">                   </span>\n",
       "<span style=\"color: #7fbfbf; text-decoration-color: #7fbfbf\">           </span>         yahpo/mo/iaml_ranger/<span style=\"color: #008080; text-decoration-color: #008080; font-weight: bold\">1489</span>/<span style=\"color: #800080; text-decoration-color: #800080; font-style: italic\">None</span>        <span style=\"color: #008080; text-decoration-color: #008080; font-weight: bold\">0.174604</span>        NaN      <span style=\"color: #008080; text-decoration-color: #008080; font-weight: bold\">0.004866</span>     <span style=\"color: #7f7f7f; text-decoration-color: #7f7f7f\">                   </span>\n",
       "<span style=\"color: #7fbfbf; text-decoration-color: #7fbfbf\">           </span>         yahpo/mo/iaml_super/<span style=\"color: #008080; text-decoration-color: #008080; font-weight: bold\">1067</span>/<span style=\"color: #800080; text-decoration-color: #800080; font-style: italic\">None</span>              NaN        NaN      <span style=\"color: #008080; text-decoration-color: #008080; font-weight: bold\">0.000075</span>     <span style=\"color: #7f7f7f; text-decoration-color: #7f7f7f\">                   </span>\n",
       "<span style=\"color: #7fbfbf; text-decoration-color: #7fbfbf\">           </span>         yahpo/mo/iaml_super/<span style=\"color: #008080; text-decoration-color: #008080; font-weight: bold\">1489</span>/<span style=\"color: #800080; text-decoration-color: #800080; font-style: italic\">None</span>              NaN        NaN      <span style=\"color: #008080; text-decoration-color: #008080; font-weight: bold\">0.000240</span>     <span style=\"color: #7f7f7f; text-decoration-color: #7f7f7f\">                   </span>\n",
       "<span style=\"color: #7fbfbf; text-decoration-color: #7fbfbf\">           </span>         yahpo/mo/iaml_xgboost/<span style=\"color: #008080; text-decoration-color: #008080; font-weight: bold\">40981</span>/<span style=\"color: #800080; text-decoration-color: #800080; font-style: italic\">None</span>      <span style=\"color: #008080; text-decoration-color: #008080; font-weight: bold\">0.201979</span>        NaN      <span style=\"color: #008080; text-decoration-color: #008080; font-weight: bold\">0.001476</span>     <span style=\"color: #7f7f7f; text-decoration-color: #7f7f7f\">                   </span>\n",
       "<span style=\"color: #7fbfbf; text-decoration-color: #7fbfbf\">           </span>         yahpo/mo/rbv2_ranger/<span style=\"color: #008080; text-decoration-color: #008080; font-weight: bold\">375</span>/<span style=\"color: #800080; text-decoration-color: #800080; font-style: italic\">None</span>         <span style=\"color: #008080; text-decoration-color: #008080; font-weight: bold\">0.218806</span>        NaN      <span style=\"color: #008080; text-decoration-color: #008080; font-weight: bold\">0.049281</span>     <span style=\"color: #7f7f7f; text-decoration-color: #7f7f7f\">                   </span>\n",
       "<span style=\"color: #7fbfbf; text-decoration-color: #7fbfbf\">           </span>         yahpo/mo/rbv2_ranger/<span style=\"color: #008080; text-decoration-color: #008080; font-weight: bold\">40979</span>/<span style=\"color: #800080; text-decoration-color: #800080; font-style: italic\">None</span>       <span style=\"color: #008080; text-decoration-color: #008080; font-weight: bold\">0.197883</span>        NaN      <span style=\"color: #008080; text-decoration-color: #008080; font-weight: bold\">0.067001</span>     <span style=\"color: #7f7f7f; text-decoration-color: #7f7f7f\">                   </span>\n",
       "<span style=\"color: #7fbfbf; text-decoration-color: #7fbfbf\">           </span>         yahpo/mo/rbv2_ranger/<span style=\"color: #008080; text-decoration-color: #008080; font-weight: bold\">6</span>/<span style=\"color: #800080; text-decoration-color: #800080; font-style: italic\">None</span>           <span style=\"color: #008080; text-decoration-color: #008080; font-weight: bold\">0.110805</span>        NaN      <span style=\"color: #008080; text-decoration-color: #008080; font-weight: bold\">0.017989</span>     <span style=\"color: #7f7f7f; text-decoration-color: #7f7f7f\">                   </span>\n",
       "<span style=\"color: #7fbfbf; text-decoration-color: #7fbfbf\">           </span>         yahpo/mo/rbv2_super/<span style=\"color: #008080; text-decoration-color: #008080; font-weight: bold\">1457</span>/<span style=\"color: #800080; text-decoration-color: #800080; font-style: italic\">None</span>              NaN        NaN      <span style=\"color: #008080; text-decoration-color: #008080; font-weight: bold\">0.000074</span>     <span style=\"color: #7f7f7f; text-decoration-color: #7f7f7f\">                   </span>\n",
       "<span style=\"color: #7fbfbf; text-decoration-color: #7fbfbf\">           </span>         yahpo/mo/rbv2_super/<span style=\"color: #008080; text-decoration-color: #008080; font-weight: bold\">6</span>/<span style=\"color: #800080; text-decoration-color: #800080; font-style: italic\">None</span>                 NaN        NaN      <span style=\"color: #008080; text-decoration-color: #008080; font-weight: bold\">0.000088</span>     <span style=\"color: #7f7f7f; text-decoration-color: #7f7f7f\">                   </span>\n",
       "<span style=\"color: #7fbfbf; text-decoration-color: #7fbfbf\">           </span>         yahpo/mo/rbv2_xgboost/<span style=\"color: #008080; text-decoration-color: #008080; font-weight: bold\">12</span>/<span style=\"color: #800080; text-decoration-color: #800080; font-style: italic\">None</span>         <span style=\"color: #008080; text-decoration-color: #008080; font-weight: bold\">0.040141</span>        NaN      <span style=\"color: #008080; text-decoration-color: #008080; font-weight: bold\">0.000009</span>     <span style=\"color: #7f7f7f; text-decoration-color: #7f7f7f\">                   </span>\n",
       "<span style=\"color: #7fbfbf; text-decoration-color: #7fbfbf\">           </span>         yahpo/mo/rbv2_xgboost/<span style=\"color: #008080; text-decoration-color: #008080; font-weight: bold\">182</span>/<span style=\"color: #800080; text-decoration-color: #800080; font-style: italic\">None</span>        <span style=\"color: #008080; text-decoration-color: #008080; font-weight: bold\">0.010498</span>        NaN      <span style=\"color: #008080; text-decoration-color: #008080; font-weight: bold\">0.000003</span>     <span style=\"color: #7f7f7f; text-decoration-color: #7f7f7f\">                   </span>\n",
       "</pre>\n"
      ],
      "text/plain": [
       "\u001b[2;36m[19:02:14]\u001b[0m\u001b[2;36m \u001b[0m\u001b[34mINFO    \u001b[0m Lost following experiments: optimizer_id                      Nevergrad-DE  \u001b]8;id=732534;file:///home/numina/Documents/repos/CARP-S-Experiments/lib/CARP-S/carps/analysis/run_autorank.py\u001b\\\u001b[2mrun_autorank.py\u001b[0m\u001b]8;;\u001b\\\u001b[2m:\u001b[0m\u001b]8;id=138183;file:///home/numina/Documents/repos/CARP-S-Experiments/lib/CARP-S/carps/analysis/run_autorank.py#113\u001b\\\u001b[2m113\u001b[0m\u001b]8;;\u001b\\\n",
       "\u001b[2;36m           \u001b[0m         Optuna-MO  RandomSearch                                                     \u001b[2m                   \u001b[0m\n",
       "\u001b[2;36m           \u001b[0m         problem_id                                                                  \u001b[2m                   \u001b[0m\n",
       "\u001b[2;36m           \u001b[0m         yahpo/mo/iaml_ranger/\u001b[1;36m1067\u001b[0m/\u001b[3;35mNone\u001b[0m        \u001b[1;36m0.336826\u001b[0m        NaN      \u001b[1;36m0.217303\u001b[0m     \u001b[2m                   \u001b[0m\n",
       "\u001b[2;36m           \u001b[0m         yahpo/mo/iaml_ranger/\u001b[1;36m1489\u001b[0m/\u001b[3;35mNone\u001b[0m        \u001b[1;36m0.174604\u001b[0m        NaN      \u001b[1;36m0.004866\u001b[0m     \u001b[2m                   \u001b[0m\n",
       "\u001b[2;36m           \u001b[0m         yahpo/mo/iaml_super/\u001b[1;36m1067\u001b[0m/\u001b[3;35mNone\u001b[0m              NaN        NaN      \u001b[1;36m0.000075\u001b[0m     \u001b[2m                   \u001b[0m\n",
       "\u001b[2;36m           \u001b[0m         yahpo/mo/iaml_super/\u001b[1;36m1489\u001b[0m/\u001b[3;35mNone\u001b[0m              NaN        NaN      \u001b[1;36m0.000240\u001b[0m     \u001b[2m                   \u001b[0m\n",
       "\u001b[2;36m           \u001b[0m         yahpo/mo/iaml_xgboost/\u001b[1;36m40981\u001b[0m/\u001b[3;35mNone\u001b[0m      \u001b[1;36m0.201979\u001b[0m        NaN      \u001b[1;36m0.001476\u001b[0m     \u001b[2m                   \u001b[0m\n",
       "\u001b[2;36m           \u001b[0m         yahpo/mo/rbv2_ranger/\u001b[1;36m375\u001b[0m/\u001b[3;35mNone\u001b[0m         \u001b[1;36m0.218806\u001b[0m        NaN      \u001b[1;36m0.049281\u001b[0m     \u001b[2m                   \u001b[0m\n",
       "\u001b[2;36m           \u001b[0m         yahpo/mo/rbv2_ranger/\u001b[1;36m40979\u001b[0m/\u001b[3;35mNone\u001b[0m       \u001b[1;36m0.197883\u001b[0m        NaN      \u001b[1;36m0.067001\u001b[0m     \u001b[2m                   \u001b[0m\n",
       "\u001b[2;36m           \u001b[0m         yahpo/mo/rbv2_ranger/\u001b[1;36m6\u001b[0m/\u001b[3;35mNone\u001b[0m           \u001b[1;36m0.110805\u001b[0m        NaN      \u001b[1;36m0.017989\u001b[0m     \u001b[2m                   \u001b[0m\n",
       "\u001b[2;36m           \u001b[0m         yahpo/mo/rbv2_super/\u001b[1;36m1457\u001b[0m/\u001b[3;35mNone\u001b[0m              NaN        NaN      \u001b[1;36m0.000074\u001b[0m     \u001b[2m                   \u001b[0m\n",
       "\u001b[2;36m           \u001b[0m         yahpo/mo/rbv2_super/\u001b[1;36m6\u001b[0m/\u001b[3;35mNone\u001b[0m                 NaN        NaN      \u001b[1;36m0.000088\u001b[0m     \u001b[2m                   \u001b[0m\n",
       "\u001b[2;36m           \u001b[0m         yahpo/mo/rbv2_xgboost/\u001b[1;36m12\u001b[0m/\u001b[3;35mNone\u001b[0m         \u001b[1;36m0.040141\u001b[0m        NaN      \u001b[1;36m0.000009\u001b[0m     \u001b[2m                   \u001b[0m\n",
       "\u001b[2;36m           \u001b[0m         yahpo/mo/rbv2_xgboost/\u001b[1;36m182\u001b[0m/\u001b[3;35mNone\u001b[0m        \u001b[1;36m0.010498\u001b[0m        NaN      \u001b[1;36m0.000003\u001b[0m     \u001b[2m                   \u001b[0m\n"
      ]
     },
     "metadata": {},
     "output_type": "display_data"
    },
    {
     "name": "stdout",
     "output_type": "stream",
     "text": [
      "Rejecting null hypothesis that data is normal for column Nevergrad-DE (p=0.000000<0.016667)\n",
      "Rejecting null hypothesis that data is normal for column Optuna-MO (p=0.000000<0.016667)\n",
      "Rejecting null hypothesis that data is normal for column RandomSearch (p=0.000000<0.016667)\n",
      "Using Friedman test as omnibus test\n",
      "Rejecting null hypothesis that there is no difference between the distributions (p=0.000056)\n",
      "Using Nemenyi post-hoc test. Differences are significant,if the distance between the mean ranks is greater than the critical distance.\n",
      "              meanrank    median       mad  ci_lower  ci_upper effect_size  \\\n",
      "Nevergrad-DE  1.673913  0.007875  0.007668  0.002514  0.037349         0.0   \n",
      "Optuna-MO     2.000000  0.008520  0.008486  0.003648  0.052336   -0.053728   \n",
      "RandomSearch  2.326087  0.011087  0.010794  0.005525  0.051639   -0.231358   \n",
      "\n",
      "               magnitude  \n",
      "Nevergrad-DE  negligible  \n",
      "Optuna-MO     negligible  \n",
      "RandomSearch       small  \n"
     ]
    },
    {
     "name": "stderr",
     "output_type": "stream",
     "text": [
      "/home/numina/micromamba/envs/carpsexp/lib/python3.11/site-packages/autorank/_util.py:432: FutureWarning: Series.__getitem__ treating keys as positions is deprecated. In a future version, integer keys will always be treated as labels (consistent with DataFrame behavior). To access a value by position, use `ser.iloc[pos]`\n",
      "  if abs(sorted_ranks[i] - sorted_ranks[j]) <= critical_difference:\n"
     ]
    },
    {
     "data": {
      "text/html": [
       "<pre style=\"white-space:pre;overflow-x:auto;line-height:normal;font-family:Menlo,'DejaVu Sans Mono',consolas,'Courier New',monospace\"><span style=\"color: #7fbfbf; text-decoration-color: #7fbfbf\">[19:02:16] </span><span style=\"color: #000080; text-decoration-color: #000080\">INFO    </span> Lost following experiments: optimizer_id                      Nevergrad-DE  <a href=\"file:///home/numina/Documents/repos/CARP-S-Experiments/lib/CARP-S/carps/analysis/run_autorank.py\" target=\"_blank\"><span style=\"color: #7f7f7f; text-decoration-color: #7f7f7f\">run_autorank.py</span></a><span style=\"color: #7f7f7f; text-decoration-color: #7f7f7f\">:</span><a href=\"file:///home/numina/Documents/repos/CARP-S-Experiments/lib/CARP-S/carps/analysis/run_autorank.py#113\" target=\"_blank\"><span style=\"color: #7f7f7f; text-decoration-color: #7f7f7f\">113</span></a>\n",
       "<span style=\"color: #7fbfbf; text-decoration-color: #7fbfbf\">           </span>         Optuna-MO  RandomSearch                                                     <span style=\"color: #7f7f7f; text-decoration-color: #7f7f7f\">                   </span>\n",
       "<span style=\"color: #7fbfbf; text-decoration-color: #7fbfbf\">           </span>         problem_id                                                                  <span style=\"color: #7f7f7f; text-decoration-color: #7f7f7f\">                   </span>\n",
       "<span style=\"color: #7fbfbf; text-decoration-color: #7fbfbf\">           </span>         yahpo/mo/iaml_super/<span style=\"color: #008080; text-decoration-color: #008080; font-weight: bold\">1067</span>/<span style=\"color: #800080; text-decoration-color: #800080; font-style: italic\">None</span>              NaN        NaN      <span style=\"color: #008080; text-decoration-color: #008080; font-weight: bold\">0.000075</span>     <span style=\"color: #7f7f7f; text-decoration-color: #7f7f7f\">                   </span>\n",
       "<span style=\"color: #7fbfbf; text-decoration-color: #7fbfbf\">           </span>         yahpo/mo/iaml_super/<span style=\"color: #008080; text-decoration-color: #008080; font-weight: bold\">1489</span>/<span style=\"color: #800080; text-decoration-color: #800080; font-style: italic\">None</span>              NaN        NaN      <span style=\"color: #008080; text-decoration-color: #008080; font-weight: bold\">0.000240</span>     <span style=\"color: #7f7f7f; text-decoration-color: #7f7f7f\">                   </span>\n",
       "<span style=\"color: #7fbfbf; text-decoration-color: #7fbfbf\">           </span>         yahpo/mo/iaml_xgboost/<span style=\"color: #008080; text-decoration-color: #008080; font-weight: bold\">1489</span>/<span style=\"color: #800080; text-decoration-color: #800080; font-style: italic\">None</span>       <span style=\"color: #008080; text-decoration-color: #008080; font-weight: bold\">0.203513</span>        NaN      <span style=\"color: #008080; text-decoration-color: #008080; font-weight: bold\">0.000394</span>     <span style=\"color: #7f7f7f; text-decoration-color: #7f7f7f\">                   </span>\n",
       "<span style=\"color: #7fbfbf; text-decoration-color: #7fbfbf\">           </span>         yahpo/mo/iaml_xgboost/<span style=\"color: #008080; text-decoration-color: #008080; font-weight: bold\">40981</span>/<span style=\"color: #800080; text-decoration-color: #800080; font-style: italic\">None</span>      <span style=\"color: #008080; text-decoration-color: #008080; font-weight: bold\">0.201979</span>        NaN      <span style=\"color: #008080; text-decoration-color: #008080; font-weight: bold\">0.001476</span>     <span style=\"color: #7f7f7f; text-decoration-color: #7f7f7f\">                   </span>\n",
       "<span style=\"color: #7fbfbf; text-decoration-color: #7fbfbf\">           </span>         yahpo/mo/rbv2_ranger/<span style=\"color: #008080; text-decoration-color: #008080; font-weight: bold\">375</span>/<span style=\"color: #800080; text-decoration-color: #800080; font-style: italic\">None</span>         <span style=\"color: #008080; text-decoration-color: #008080; font-weight: bold\">0.218806</span>        NaN      <span style=\"color: #008080; text-decoration-color: #008080; font-weight: bold\">0.049281</span>     <span style=\"color: #7f7f7f; text-decoration-color: #7f7f7f\">                   </span>\n",
       "<span style=\"color: #7fbfbf; text-decoration-color: #7fbfbf\">           </span>         yahpo/mo/rbv2_ranger/<span style=\"color: #008080; text-decoration-color: #008080; font-weight: bold\">40979</span>/<span style=\"color: #800080; text-decoration-color: #800080; font-style: italic\">None</span>       <span style=\"color: #008080; text-decoration-color: #008080; font-weight: bold\">0.197883</span>        NaN      <span style=\"color: #008080; text-decoration-color: #008080; font-weight: bold\">0.067001</span>     <span style=\"color: #7f7f7f; text-decoration-color: #7f7f7f\">                   </span>\n",
       "<span style=\"color: #7fbfbf; text-decoration-color: #7fbfbf\">           </span>         yahpo/mo/rbv2_ranger/<span style=\"color: #008080; text-decoration-color: #008080; font-weight: bold\">6</span>/<span style=\"color: #800080; text-decoration-color: #800080; font-style: italic\">None</span>           <span style=\"color: #008080; text-decoration-color: #008080; font-weight: bold\">0.110805</span>        NaN      <span style=\"color: #008080; text-decoration-color: #008080; font-weight: bold\">0.017989</span>     <span style=\"color: #7f7f7f; text-decoration-color: #7f7f7f\">                   </span>\n",
       "<span style=\"color: #7fbfbf; text-decoration-color: #7fbfbf\">           </span>         yahpo/mo/rbv2_super/<span style=\"color: #008080; text-decoration-color: #008080; font-weight: bold\">1053</span>/<span style=\"color: #800080; text-decoration-color: #800080; font-style: italic\">None</span>              NaN        NaN      <span style=\"color: #008080; text-decoration-color: #008080; font-weight: bold\">0.005830</span>     <span style=\"color: #7f7f7f; text-decoration-color: #7f7f7f\">                   </span>\n",
       "<span style=\"color: #7fbfbf; text-decoration-color: #7fbfbf\">           </span>         yahpo/mo/rbv2_super/<span style=\"color: #008080; text-decoration-color: #008080; font-weight: bold\">1457</span>/<span style=\"color: #800080; text-decoration-color: #800080; font-style: italic\">None</span>              NaN        NaN      <span style=\"color: #008080; text-decoration-color: #008080; font-weight: bold\">0.000074</span>     <span style=\"color: #7f7f7f; text-decoration-color: #7f7f7f\">                   </span>\n",
       "<span style=\"color: #7fbfbf; text-decoration-color: #7fbfbf\">           </span>         yahpo/mo/rbv2_super/<span style=\"color: #008080; text-decoration-color: #008080; font-weight: bold\">6</span>/<span style=\"color: #800080; text-decoration-color: #800080; font-style: italic\">None</span>                 NaN        NaN      <span style=\"color: #008080; text-decoration-color: #008080; font-weight: bold\">0.000088</span>     <span style=\"color: #7f7f7f; text-decoration-color: #7f7f7f\">                   </span>\n",
       "<span style=\"color: #7fbfbf; text-decoration-color: #7fbfbf\">           </span>         yahpo/mo/rbv2_xgboost/<span style=\"color: #008080; text-decoration-color: #008080; font-weight: bold\">12</span>/<span style=\"color: #800080; text-decoration-color: #800080; font-style: italic\">None</span>         <span style=\"color: #008080; text-decoration-color: #008080; font-weight: bold\">0.040141</span>        NaN      <span style=\"color: #008080; text-decoration-color: #008080; font-weight: bold\">0.000009</span>     <span style=\"color: #7f7f7f; text-decoration-color: #7f7f7f\">                   </span>\n",
       "<span style=\"color: #7fbfbf; text-decoration-color: #7fbfbf\">           </span>         yahpo/mo/rbv2_xgboost/<span style=\"color: #008080; text-decoration-color: #008080; font-weight: bold\">28</span>/<span style=\"color: #800080; text-decoration-color: #800080; font-style: italic\">None</span>         <span style=\"color: #008080; text-decoration-color: #008080; font-weight: bold\">0.007840</span>        NaN      <span style=\"color: #008080; text-decoration-color: #008080; font-weight: bold\">0.000001</span>     <span style=\"color: #7f7f7f; text-decoration-color: #7f7f7f\">                   </span>\n",
       "</pre>\n"
      ],
      "text/plain": [
       "\u001b[2;36m[19:02:16]\u001b[0m\u001b[2;36m \u001b[0m\u001b[34mINFO    \u001b[0m Lost following experiments: optimizer_id                      Nevergrad-DE  \u001b]8;id=459031;file:///home/numina/Documents/repos/CARP-S-Experiments/lib/CARP-S/carps/analysis/run_autorank.py\u001b\\\u001b[2mrun_autorank.py\u001b[0m\u001b]8;;\u001b\\\u001b[2m:\u001b[0m\u001b]8;id=132697;file:///home/numina/Documents/repos/CARP-S-Experiments/lib/CARP-S/carps/analysis/run_autorank.py#113\u001b\\\u001b[2m113\u001b[0m\u001b]8;;\u001b\\\n",
       "\u001b[2;36m           \u001b[0m         Optuna-MO  RandomSearch                                                     \u001b[2m                   \u001b[0m\n",
       "\u001b[2;36m           \u001b[0m         problem_id                                                                  \u001b[2m                   \u001b[0m\n",
       "\u001b[2;36m           \u001b[0m         yahpo/mo/iaml_super/\u001b[1;36m1067\u001b[0m/\u001b[3;35mNone\u001b[0m              NaN        NaN      \u001b[1;36m0.000075\u001b[0m     \u001b[2m                   \u001b[0m\n",
       "\u001b[2;36m           \u001b[0m         yahpo/mo/iaml_super/\u001b[1;36m1489\u001b[0m/\u001b[3;35mNone\u001b[0m              NaN        NaN      \u001b[1;36m0.000240\u001b[0m     \u001b[2m                   \u001b[0m\n",
       "\u001b[2;36m           \u001b[0m         yahpo/mo/iaml_xgboost/\u001b[1;36m1489\u001b[0m/\u001b[3;35mNone\u001b[0m       \u001b[1;36m0.203513\u001b[0m        NaN      \u001b[1;36m0.000394\u001b[0m     \u001b[2m                   \u001b[0m\n",
       "\u001b[2;36m           \u001b[0m         yahpo/mo/iaml_xgboost/\u001b[1;36m40981\u001b[0m/\u001b[3;35mNone\u001b[0m      \u001b[1;36m0.201979\u001b[0m        NaN      \u001b[1;36m0.001476\u001b[0m     \u001b[2m                   \u001b[0m\n",
       "\u001b[2;36m           \u001b[0m         yahpo/mo/rbv2_ranger/\u001b[1;36m375\u001b[0m/\u001b[3;35mNone\u001b[0m         \u001b[1;36m0.218806\u001b[0m        NaN      \u001b[1;36m0.049281\u001b[0m     \u001b[2m                   \u001b[0m\n",
       "\u001b[2;36m           \u001b[0m         yahpo/mo/rbv2_ranger/\u001b[1;36m40979\u001b[0m/\u001b[3;35mNone\u001b[0m       \u001b[1;36m0.197883\u001b[0m        NaN      \u001b[1;36m0.067001\u001b[0m     \u001b[2m                   \u001b[0m\n",
       "\u001b[2;36m           \u001b[0m         yahpo/mo/rbv2_ranger/\u001b[1;36m6\u001b[0m/\u001b[3;35mNone\u001b[0m           \u001b[1;36m0.110805\u001b[0m        NaN      \u001b[1;36m0.017989\u001b[0m     \u001b[2m                   \u001b[0m\n",
       "\u001b[2;36m           \u001b[0m         yahpo/mo/rbv2_super/\u001b[1;36m1053\u001b[0m/\u001b[3;35mNone\u001b[0m              NaN        NaN      \u001b[1;36m0.005830\u001b[0m     \u001b[2m                   \u001b[0m\n",
       "\u001b[2;36m           \u001b[0m         yahpo/mo/rbv2_super/\u001b[1;36m1457\u001b[0m/\u001b[3;35mNone\u001b[0m              NaN        NaN      \u001b[1;36m0.000074\u001b[0m     \u001b[2m                   \u001b[0m\n",
       "\u001b[2;36m           \u001b[0m         yahpo/mo/rbv2_super/\u001b[1;36m6\u001b[0m/\u001b[3;35mNone\u001b[0m                 NaN        NaN      \u001b[1;36m0.000088\u001b[0m     \u001b[2m                   \u001b[0m\n",
       "\u001b[2;36m           \u001b[0m         yahpo/mo/rbv2_xgboost/\u001b[1;36m12\u001b[0m/\u001b[3;35mNone\u001b[0m         \u001b[1;36m0.040141\u001b[0m        NaN      \u001b[1;36m0.000009\u001b[0m     \u001b[2m                   \u001b[0m\n",
       "\u001b[2;36m           \u001b[0m         yahpo/mo/rbv2_xgboost/\u001b[1;36m28\u001b[0m/\u001b[3;35mNone\u001b[0m         \u001b[1;36m0.007840\u001b[0m        NaN      \u001b[1;36m0.000001\u001b[0m     \u001b[2m                   \u001b[0m\n"
      ]
     },
     "metadata": {},
     "output_type": "display_data"
    },
    {
     "name": "stdout",
     "output_type": "stream",
     "text": [
      "Rejecting null hypothesis that data is normal for column Nevergrad-DE (p=0.000000<0.016667)\n",
      "Rejecting null hypothesis that data is normal for column Optuna-MO (p=0.000000<0.016667)\n",
      "Rejecting null hypothesis that data is normal for column RandomSearch (p=0.000000<0.016667)\n",
      "Using Friedman test as omnibus test\n",
      "Rejecting null hypothesis that there is no difference between the distributions (p=0.000055)\n",
      "Using Nemenyi post-hoc test. Differences are significant,if the distance between the mean ranks is greater than the critical distance.\n",
      "              meanrank    median       mad  ci_lower  ci_upper effect_size  \\\n",
      "Nevergrad-DE  1.655914  0.007491  0.007289   0.00182  0.037349         0.0   \n",
      "Optuna-MO     2.043011  0.009795  0.009762  0.003648  0.051167   -0.180373   \n",
      "RandomSearch  2.301075  0.011200    0.0111  0.005451  0.047586   -0.266407   \n",
      "\n",
      "               magnitude  \n",
      "Nevergrad-DE  negligible  \n",
      "Optuna-MO     negligible  \n",
      "RandomSearch       small  \n"
     ]
    },
    {
     "name": "stderr",
     "output_type": "stream",
     "text": [
      "/home/numina/micromamba/envs/carpsexp/lib/python3.11/site-packages/autorank/_util.py:432: FutureWarning: Series.__getitem__ treating keys as positions is deprecated. In a future version, integer keys will always be treated as labels (consistent with DataFrame behavior). To access a value by position, use `ser.iloc[pos]`\n",
      "  if abs(sorted_ranks[i] - sorted_ranks[j]) <= critical_difference:\n"
     ]
    },
    {
     "data": {
      "text/html": [
       "<pre style=\"white-space:pre;overflow-x:auto;line-height:normal;font-family:Menlo,'DejaVu Sans Mono',consolas,'Courier New',monospace\"><span style=\"color: #7fbfbf; text-decoration-color: #7fbfbf\">[19:02:17] </span><span style=\"color: #000080; text-decoration-color: #000080\">INFO    </span> Lost following experiments: optimizer_id                      Nevergrad-DE  <a href=\"file:///home/numina/Documents/repos/CARP-S-Experiments/lib/CARP-S/carps/analysis/run_autorank.py\" target=\"_blank\"><span style=\"color: #7f7f7f; text-decoration-color: #7f7f7f\">run_autorank.py</span></a><span style=\"color: #7f7f7f; text-decoration-color: #7f7f7f\">:</span><a href=\"file:///home/numina/Documents/repos/CARP-S-Experiments/lib/CARP-S/carps/analysis/run_autorank.py#113\" target=\"_blank\"><span style=\"color: #7f7f7f; text-decoration-color: #7f7f7f\">113</span></a>\n",
       "<span style=\"color: #7fbfbf; text-decoration-color: #7fbfbf\">           </span>         Optuna-MO  RandomSearch                                                     <span style=\"color: #7f7f7f; text-decoration-color: #7f7f7f\">                   </span>\n",
       "<span style=\"color: #7fbfbf; text-decoration-color: #7fbfbf\">           </span>         problem_id                                                                  <span style=\"color: #7f7f7f; text-decoration-color: #7f7f7f\">                   </span>\n",
       "<span style=\"color: #7fbfbf; text-decoration-color: #7fbfbf\">           </span>         yahpo/mo/iaml_ranger/<span style=\"color: #008080; text-decoration-color: #008080; font-weight: bold\">1067</span>/<span style=\"color: #800080; text-decoration-color: #800080; font-style: italic\">None</span>        <span style=\"color: #008080; text-decoration-color: #008080; font-weight: bold\">0.336826</span>        NaN      <span style=\"color: #008080; text-decoration-color: #008080; font-weight: bold\">0.217303</span>     <span style=\"color: #7f7f7f; text-decoration-color: #7f7f7f\">                   </span>\n",
       "<span style=\"color: #7fbfbf; text-decoration-color: #7fbfbf\">           </span>         yahpo/mo/iaml_ranger/<span style=\"color: #008080; text-decoration-color: #008080; font-weight: bold\">1489</span>/<span style=\"color: #800080; text-decoration-color: #800080; font-style: italic\">None</span>        <span style=\"color: #008080; text-decoration-color: #008080; font-weight: bold\">0.174604</span>        NaN      <span style=\"color: #008080; text-decoration-color: #008080; font-weight: bold\">0.004866</span>     <span style=\"color: #7f7f7f; text-decoration-color: #7f7f7f\">                   </span>\n",
       "<span style=\"color: #7fbfbf; text-decoration-color: #7fbfbf\">           </span>         yahpo/mo/iaml_super/<span style=\"color: #008080; text-decoration-color: #008080; font-weight: bold\">1067</span>/<span style=\"color: #800080; text-decoration-color: #800080; font-style: italic\">None</span>              NaN        NaN      <span style=\"color: #008080; text-decoration-color: #008080; font-weight: bold\">0.000075</span>     <span style=\"color: #7f7f7f; text-decoration-color: #7f7f7f\">                   </span>\n",
       "<span style=\"color: #7fbfbf; text-decoration-color: #7fbfbf\">           </span>         yahpo/mo/iaml_super/<span style=\"color: #008080; text-decoration-color: #008080; font-weight: bold\">1489</span>/<span style=\"color: #800080; text-decoration-color: #800080; font-style: italic\">None</span>              NaN        NaN      <span style=\"color: #008080; text-decoration-color: #008080; font-weight: bold\">0.000240</span>     <span style=\"color: #7f7f7f; text-decoration-color: #7f7f7f\">                   </span>\n",
       "<span style=\"color: #7fbfbf; text-decoration-color: #7fbfbf\">           </span>         yahpo/mo/iaml_xgboost/<span style=\"color: #008080; text-decoration-color: #008080; font-weight: bold\">1489</span>/<span style=\"color: #800080; text-decoration-color: #800080; font-style: italic\">None</span>       <span style=\"color: #008080; text-decoration-color: #008080; font-weight: bold\">0.203513</span>        NaN      <span style=\"color: #008080; text-decoration-color: #008080; font-weight: bold\">0.000394</span>     <span style=\"color: #7f7f7f; text-decoration-color: #7f7f7f\">                   </span>\n",
       "<span style=\"color: #7fbfbf; text-decoration-color: #7fbfbf\">           </span>         yahpo/mo/iaml_xgboost/<span style=\"color: #008080; text-decoration-color: #008080; font-weight: bold\">40981</span>/<span style=\"color: #800080; text-decoration-color: #800080; font-style: italic\">None</span>      <span style=\"color: #008080; text-decoration-color: #008080; font-weight: bold\">0.201979</span>        NaN      <span style=\"color: #008080; text-decoration-color: #008080; font-weight: bold\">0.001476</span>     <span style=\"color: #7f7f7f; text-decoration-color: #7f7f7f\">                   </span>\n",
       "<span style=\"color: #7fbfbf; text-decoration-color: #7fbfbf\">           </span>         yahpo/mo/rbv2_ranger/<span style=\"color: #008080; text-decoration-color: #008080; font-weight: bold\">375</span>/<span style=\"color: #800080; text-decoration-color: #800080; font-style: italic\">None</span>         <span style=\"color: #008080; text-decoration-color: #008080; font-weight: bold\">0.218806</span>        NaN      <span style=\"color: #008080; text-decoration-color: #008080; font-weight: bold\">0.049281</span>     <span style=\"color: #7f7f7f; text-decoration-color: #7f7f7f\">                   </span>\n",
       "<span style=\"color: #7fbfbf; text-decoration-color: #7fbfbf\">           </span>         yahpo/mo/rbv2_ranger/<span style=\"color: #008080; text-decoration-color: #008080; font-weight: bold\">40979</span>/<span style=\"color: #800080; text-decoration-color: #800080; font-style: italic\">None</span>       <span style=\"color: #008080; text-decoration-color: #008080; font-weight: bold\">0.197883</span>        NaN      <span style=\"color: #008080; text-decoration-color: #008080; font-weight: bold\">0.067001</span>     <span style=\"color: #7f7f7f; text-decoration-color: #7f7f7f\">                   </span>\n",
       "<span style=\"color: #7fbfbf; text-decoration-color: #7fbfbf\">           </span>         yahpo/mo/rbv2_super/<span style=\"color: #008080; text-decoration-color: #008080; font-weight: bold\">1053</span>/<span style=\"color: #800080; text-decoration-color: #800080; font-style: italic\">None</span>              NaN        NaN      <span style=\"color: #008080; text-decoration-color: #008080; font-weight: bold\">0.005830</span>     <span style=\"color: #7f7f7f; text-decoration-color: #7f7f7f\">                   </span>\n",
       "<span style=\"color: #7fbfbf; text-decoration-color: #7fbfbf\">           </span>         yahpo/mo/rbv2_super/<span style=\"color: #008080; text-decoration-color: #008080; font-weight: bold\">1457</span>/<span style=\"color: #800080; text-decoration-color: #800080; font-style: italic\">None</span>              NaN        NaN      <span style=\"color: #008080; text-decoration-color: #008080; font-weight: bold\">0.000074</span>     <span style=\"color: #7f7f7f; text-decoration-color: #7f7f7f\">                   </span>\n",
       "<span style=\"color: #7fbfbf; text-decoration-color: #7fbfbf\">           </span>         yahpo/mo/rbv2_super/<span style=\"color: #008080; text-decoration-color: #008080; font-weight: bold\">6</span>/<span style=\"color: #800080; text-decoration-color: #800080; font-style: italic\">None</span>                 NaN        NaN      <span style=\"color: #008080; text-decoration-color: #008080; font-weight: bold\">0.000088</span>     <span style=\"color: #7f7f7f; text-decoration-color: #7f7f7f\">                   </span>\n",
       "<span style=\"color: #7fbfbf; text-decoration-color: #7fbfbf\">           </span>         yahpo/mo/rbv2_xgboost/<span style=\"color: #008080; text-decoration-color: #008080; font-weight: bold\">12</span>/<span style=\"color: #800080; text-decoration-color: #800080; font-style: italic\">None</span>         <span style=\"color: #008080; text-decoration-color: #008080; font-weight: bold\">0.040141</span>        NaN      <span style=\"color: #008080; text-decoration-color: #008080; font-weight: bold\">0.000009</span>     <span style=\"color: #7f7f7f; text-decoration-color: #7f7f7f\">                   </span>\n",
       "</pre>\n"
      ],
      "text/plain": [
       "\u001b[2;36m[19:02:17]\u001b[0m\u001b[2;36m \u001b[0m\u001b[34mINFO    \u001b[0m Lost following experiments: optimizer_id                      Nevergrad-DE  \u001b]8;id=302718;file:///home/numina/Documents/repos/CARP-S-Experiments/lib/CARP-S/carps/analysis/run_autorank.py\u001b\\\u001b[2mrun_autorank.py\u001b[0m\u001b]8;;\u001b\\\u001b[2m:\u001b[0m\u001b]8;id=27127;file:///home/numina/Documents/repos/CARP-S-Experiments/lib/CARP-S/carps/analysis/run_autorank.py#113\u001b\\\u001b[2m113\u001b[0m\u001b]8;;\u001b\\\n",
       "\u001b[2;36m           \u001b[0m         Optuna-MO  RandomSearch                                                     \u001b[2m                   \u001b[0m\n",
       "\u001b[2;36m           \u001b[0m         problem_id                                                                  \u001b[2m                   \u001b[0m\n",
       "\u001b[2;36m           \u001b[0m         yahpo/mo/iaml_ranger/\u001b[1;36m1067\u001b[0m/\u001b[3;35mNone\u001b[0m        \u001b[1;36m0.336826\u001b[0m        NaN      \u001b[1;36m0.217303\u001b[0m     \u001b[2m                   \u001b[0m\n",
       "\u001b[2;36m           \u001b[0m         yahpo/mo/iaml_ranger/\u001b[1;36m1489\u001b[0m/\u001b[3;35mNone\u001b[0m        \u001b[1;36m0.174604\u001b[0m        NaN      \u001b[1;36m0.004866\u001b[0m     \u001b[2m                   \u001b[0m\n",
       "\u001b[2;36m           \u001b[0m         yahpo/mo/iaml_super/\u001b[1;36m1067\u001b[0m/\u001b[3;35mNone\u001b[0m              NaN        NaN      \u001b[1;36m0.000075\u001b[0m     \u001b[2m                   \u001b[0m\n",
       "\u001b[2;36m           \u001b[0m         yahpo/mo/iaml_super/\u001b[1;36m1489\u001b[0m/\u001b[3;35mNone\u001b[0m              NaN        NaN      \u001b[1;36m0.000240\u001b[0m     \u001b[2m                   \u001b[0m\n",
       "\u001b[2;36m           \u001b[0m         yahpo/mo/iaml_xgboost/\u001b[1;36m1489\u001b[0m/\u001b[3;35mNone\u001b[0m       \u001b[1;36m0.203513\u001b[0m        NaN      \u001b[1;36m0.000394\u001b[0m     \u001b[2m                   \u001b[0m\n",
       "\u001b[2;36m           \u001b[0m         yahpo/mo/iaml_xgboost/\u001b[1;36m40981\u001b[0m/\u001b[3;35mNone\u001b[0m      \u001b[1;36m0.201979\u001b[0m        NaN      \u001b[1;36m0.001476\u001b[0m     \u001b[2m                   \u001b[0m\n",
       "\u001b[2;36m           \u001b[0m         yahpo/mo/rbv2_ranger/\u001b[1;36m375\u001b[0m/\u001b[3;35mNone\u001b[0m         \u001b[1;36m0.218806\u001b[0m        NaN      \u001b[1;36m0.049281\u001b[0m     \u001b[2m                   \u001b[0m\n",
       "\u001b[2;36m           \u001b[0m         yahpo/mo/rbv2_ranger/\u001b[1;36m40979\u001b[0m/\u001b[3;35mNone\u001b[0m       \u001b[1;36m0.197883\u001b[0m        NaN      \u001b[1;36m0.067001\u001b[0m     \u001b[2m                   \u001b[0m\n",
       "\u001b[2;36m           \u001b[0m         yahpo/mo/rbv2_super/\u001b[1;36m1053\u001b[0m/\u001b[3;35mNone\u001b[0m              NaN        NaN      \u001b[1;36m0.005830\u001b[0m     \u001b[2m                   \u001b[0m\n",
       "\u001b[2;36m           \u001b[0m         yahpo/mo/rbv2_super/\u001b[1;36m1457\u001b[0m/\u001b[3;35mNone\u001b[0m              NaN        NaN      \u001b[1;36m0.000074\u001b[0m     \u001b[2m                   \u001b[0m\n",
       "\u001b[2;36m           \u001b[0m         yahpo/mo/rbv2_super/\u001b[1;36m6\u001b[0m/\u001b[3;35mNone\u001b[0m                 NaN        NaN      \u001b[1;36m0.000088\u001b[0m     \u001b[2m                   \u001b[0m\n",
       "\u001b[2;36m           \u001b[0m         yahpo/mo/rbv2_xgboost/\u001b[1;36m12\u001b[0m/\u001b[3;35mNone\u001b[0m         \u001b[1;36m0.040141\u001b[0m        NaN      \u001b[1;36m0.000009\u001b[0m     \u001b[2m                   \u001b[0m\n"
      ]
     },
     "metadata": {},
     "output_type": "display_data"
    },
    {
     "name": "stdout",
     "output_type": "stream",
     "text": [
      "Rejecting null hypothesis that data is normal for column Nevergrad-DE (p=0.000000<0.016667)\n",
      "Rejecting null hypothesis that data is normal for column Optuna-MO (p=0.000000<0.016667)\n",
      "Rejecting null hypothesis that data is normal for column RandomSearch (p=0.000000<0.016667)\n",
      "Using Friedman test as omnibus test\n",
      "Rejecting null hypothesis that there is no difference between the distributions (p=0.000058)\n",
      "Using Nemenyi post-hoc test. Differences are significant,if the distance between the mean ranks is greater than the critical distance.\n",
      "              meanrank    median       mad  ci_lower  ci_upper effect_size  \\\n",
      "Nevergrad-DE  1.632184  0.007352   0.00715  0.001766   0.03076         0.0   \n",
      "Optuna-MO     2.080460  0.008597   0.00856  0.003011  0.050737   -0.106412   \n",
      "RandomSearch  2.287356  0.010683  0.010583  0.002854  0.045352   -0.248752   \n",
      "\n",
      "               magnitude  \n",
      "Nevergrad-DE  negligible  \n",
      "Optuna-MO     negligible  \n",
      "RandomSearch       small  \n"
     ]
    },
    {
     "name": "stderr",
     "output_type": "stream",
     "text": [
      "/home/numina/micromamba/envs/carpsexp/lib/python3.11/site-packages/autorank/_util.py:432: FutureWarning: Series.__getitem__ treating keys as positions is deprecated. In a future version, integer keys will always be treated as labels (consistent with DataFrame behavior). To access a value by position, use `ser.iloc[pos]`\n",
      "  if abs(sorted_ranks[i] - sorted_ranks[j]) <= critical_difference:\n"
     ]
    },
    {
     "data": {
      "text/html": [
       "<pre style=\"white-space:pre;overflow-x:auto;line-height:normal;font-family:Menlo,'DejaVu Sans Mono',consolas,'Courier New',monospace\"><span style=\"color: #7fbfbf; text-decoration-color: #7fbfbf\">[19:02:18] </span><span style=\"color: #000080; text-decoration-color: #000080\">INFO    </span> Lost following experiments: optimizer_id                      Nevergrad-DE  <a href=\"file:///home/numina/Documents/repos/CARP-S-Experiments/lib/CARP-S/carps/analysis/run_autorank.py\" target=\"_blank\"><span style=\"color: #7f7f7f; text-decoration-color: #7f7f7f\">run_autorank.py</span></a><span style=\"color: #7f7f7f; text-decoration-color: #7f7f7f\">:</span><a href=\"file:///home/numina/Documents/repos/CARP-S-Experiments/lib/CARP-S/carps/analysis/run_autorank.py#113\" target=\"_blank\"><span style=\"color: #7f7f7f; text-decoration-color: #7f7f7f\">113</span></a>\n",
       "<span style=\"color: #7fbfbf; text-decoration-color: #7fbfbf\">           </span>         Optuna-MO  RandomSearch                                                     <span style=\"color: #7f7f7f; text-decoration-color: #7f7f7f\">                   </span>\n",
       "<span style=\"color: #7fbfbf; text-decoration-color: #7fbfbf\">           </span>         problem_id                                                                  <span style=\"color: #7f7f7f; text-decoration-color: #7f7f7f\">                   </span>\n",
       "<span style=\"color: #7fbfbf; text-decoration-color: #7fbfbf\">           </span>         yahpo/mo/iaml_ranger/<span style=\"color: #008080; text-decoration-color: #008080; font-weight: bold\">1067</span>/<span style=\"color: #800080; text-decoration-color: #800080; font-style: italic\">None</span>        <span style=\"color: #008080; text-decoration-color: #008080; font-weight: bold\">0.336826</span>        NaN      <span style=\"color: #008080; text-decoration-color: #008080; font-weight: bold\">0.217303</span>     <span style=\"color: #7f7f7f; text-decoration-color: #7f7f7f\">                   </span>\n",
       "<span style=\"color: #7fbfbf; text-decoration-color: #7fbfbf\">           </span>         yahpo/mo/iaml_super/<span style=\"color: #008080; text-decoration-color: #008080; font-weight: bold\">1067</span>/<span style=\"color: #800080; text-decoration-color: #800080; font-style: italic\">None</span>              NaN        NaN      <span style=\"color: #008080; text-decoration-color: #008080; font-weight: bold\">0.000075</span>     <span style=\"color: #7f7f7f; text-decoration-color: #7f7f7f\">                   </span>\n",
       "<span style=\"color: #7fbfbf; text-decoration-color: #7fbfbf\">           </span>         yahpo/mo/iaml_super/<span style=\"color: #008080; text-decoration-color: #008080; font-weight: bold\">1489</span>/<span style=\"color: #800080; text-decoration-color: #800080; font-style: italic\">None</span>              NaN        NaN      <span style=\"color: #008080; text-decoration-color: #008080; font-weight: bold\">0.000240</span>     <span style=\"color: #7f7f7f; text-decoration-color: #7f7f7f\">                   </span>\n",
       "<span style=\"color: #7fbfbf; text-decoration-color: #7fbfbf\">           </span>         yahpo/mo/iaml_xgboost/<span style=\"color: #008080; text-decoration-color: #008080; font-weight: bold\">40981</span>/<span style=\"color: #800080; text-decoration-color: #800080; font-style: italic\">None</span>      <span style=\"color: #008080; text-decoration-color: #008080; font-weight: bold\">0.201979</span>        NaN      <span style=\"color: #008080; text-decoration-color: #008080; font-weight: bold\">0.001476</span>     <span style=\"color: #7f7f7f; text-decoration-color: #7f7f7f\">                   </span>\n",
       "<span style=\"color: #7fbfbf; text-decoration-color: #7fbfbf\">           </span>         yahpo/mo/rbv2_ranger/<span style=\"color: #008080; text-decoration-color: #008080; font-weight: bold\">375</span>/<span style=\"color: #800080; text-decoration-color: #800080; font-style: italic\">None</span>         <span style=\"color: #008080; text-decoration-color: #008080; font-weight: bold\">0.218806</span>        NaN      <span style=\"color: #008080; text-decoration-color: #008080; font-weight: bold\">0.049281</span>     <span style=\"color: #7f7f7f; text-decoration-color: #7f7f7f\">                   </span>\n",
       "<span style=\"color: #7fbfbf; text-decoration-color: #7fbfbf\">           </span>         yahpo/mo/rbv2_ranger/<span style=\"color: #008080; text-decoration-color: #008080; font-weight: bold\">6</span>/<span style=\"color: #800080; text-decoration-color: #800080; font-style: italic\">None</span>           <span style=\"color: #008080; text-decoration-color: #008080; font-weight: bold\">0.110805</span>        NaN      <span style=\"color: #008080; text-decoration-color: #008080; font-weight: bold\">0.017989</span>     <span style=\"color: #7f7f7f; text-decoration-color: #7f7f7f\">                   </span>\n",
       "<span style=\"color: #7fbfbf; text-decoration-color: #7fbfbf\">           </span>         yahpo/mo/rbv2_super/<span style=\"color: #008080; text-decoration-color: #008080; font-weight: bold\">1053</span>/<span style=\"color: #800080; text-decoration-color: #800080; font-style: italic\">None</span>              NaN        NaN      <span style=\"color: #008080; text-decoration-color: #008080; font-weight: bold\">0.005830</span>     <span style=\"color: #7f7f7f; text-decoration-color: #7f7f7f\">                   </span>\n",
       "<span style=\"color: #7fbfbf; text-decoration-color: #7fbfbf\">           </span>         yahpo/mo/rbv2_super/<span style=\"color: #008080; text-decoration-color: #008080; font-weight: bold\">1457</span>/<span style=\"color: #800080; text-decoration-color: #800080; font-style: italic\">None</span>              NaN        NaN      <span style=\"color: #008080; text-decoration-color: #008080; font-weight: bold\">0.000074</span>     <span style=\"color: #7f7f7f; text-decoration-color: #7f7f7f\">                   </span>\n",
       "<span style=\"color: #7fbfbf; text-decoration-color: #7fbfbf\">           </span>         yahpo/mo/rbv2_super/<span style=\"color: #008080; text-decoration-color: #008080; font-weight: bold\">6</span>/<span style=\"color: #800080; text-decoration-color: #800080; font-style: italic\">None</span>                 NaN        NaN      <span style=\"color: #008080; text-decoration-color: #008080; font-weight: bold\">0.000088</span>     <span style=\"color: #7f7f7f; text-decoration-color: #7f7f7f\">                   </span>\n",
       "<span style=\"color: #7fbfbf; text-decoration-color: #7fbfbf\">           </span>         yahpo/mo/rbv2_xgboost/<span style=\"color: #008080; text-decoration-color: #008080; font-weight: bold\">12</span>/<span style=\"color: #800080; text-decoration-color: #800080; font-style: italic\">None</span>         <span style=\"color: #008080; text-decoration-color: #008080; font-weight: bold\">0.040141</span>        NaN      <span style=\"color: #008080; text-decoration-color: #008080; font-weight: bold\">0.000009</span>     <span style=\"color: #7f7f7f; text-decoration-color: #7f7f7f\">                   </span>\n",
       "<span style=\"color: #7fbfbf; text-decoration-color: #7fbfbf\">           </span>         yahpo/mo/rbv2_xgboost/<span style=\"color: #008080; text-decoration-color: #008080; font-weight: bold\">182</span>/<span style=\"color: #800080; text-decoration-color: #800080; font-style: italic\">None</span>        <span style=\"color: #008080; text-decoration-color: #008080; font-weight: bold\">0.010498</span>        NaN      <span style=\"color: #008080; text-decoration-color: #008080; font-weight: bold\">0.000003</span>     <span style=\"color: #7f7f7f; text-decoration-color: #7f7f7f\">                   </span>\n",
       "<span style=\"color: #7fbfbf; text-decoration-color: #7fbfbf\">           </span>         yahpo/mo/rbv2_xgboost/<span style=\"color: #008080; text-decoration-color: #008080; font-weight: bold\">28</span>/<span style=\"color: #800080; text-decoration-color: #800080; font-style: italic\">None</span>         <span style=\"color: #008080; text-decoration-color: #008080; font-weight: bold\">0.007840</span>        NaN      <span style=\"color: #008080; text-decoration-color: #008080; font-weight: bold\">0.000001</span>     <span style=\"color: #7f7f7f; text-decoration-color: #7f7f7f\">                   </span>\n",
       "</pre>\n"
      ],
      "text/plain": [
       "\u001b[2;36m[19:02:18]\u001b[0m\u001b[2;36m \u001b[0m\u001b[34mINFO    \u001b[0m Lost following experiments: optimizer_id                      Nevergrad-DE  \u001b]8;id=769547;file:///home/numina/Documents/repos/CARP-S-Experiments/lib/CARP-S/carps/analysis/run_autorank.py\u001b\\\u001b[2mrun_autorank.py\u001b[0m\u001b]8;;\u001b\\\u001b[2m:\u001b[0m\u001b]8;id=317224;file:///home/numina/Documents/repos/CARP-S-Experiments/lib/CARP-S/carps/analysis/run_autorank.py#113\u001b\\\u001b[2m113\u001b[0m\u001b]8;;\u001b\\\n",
       "\u001b[2;36m           \u001b[0m         Optuna-MO  RandomSearch                                                     \u001b[2m                   \u001b[0m\n",
       "\u001b[2;36m           \u001b[0m         problem_id                                                                  \u001b[2m                   \u001b[0m\n",
       "\u001b[2;36m           \u001b[0m         yahpo/mo/iaml_ranger/\u001b[1;36m1067\u001b[0m/\u001b[3;35mNone\u001b[0m        \u001b[1;36m0.336826\u001b[0m        NaN      \u001b[1;36m0.217303\u001b[0m     \u001b[2m                   \u001b[0m\n",
       "\u001b[2;36m           \u001b[0m         yahpo/mo/iaml_super/\u001b[1;36m1067\u001b[0m/\u001b[3;35mNone\u001b[0m              NaN        NaN      \u001b[1;36m0.000075\u001b[0m     \u001b[2m                   \u001b[0m\n",
       "\u001b[2;36m           \u001b[0m         yahpo/mo/iaml_super/\u001b[1;36m1489\u001b[0m/\u001b[3;35mNone\u001b[0m              NaN        NaN      \u001b[1;36m0.000240\u001b[0m     \u001b[2m                   \u001b[0m\n",
       "\u001b[2;36m           \u001b[0m         yahpo/mo/iaml_xgboost/\u001b[1;36m40981\u001b[0m/\u001b[3;35mNone\u001b[0m      \u001b[1;36m0.201979\u001b[0m        NaN      \u001b[1;36m0.001476\u001b[0m     \u001b[2m                   \u001b[0m\n",
       "\u001b[2;36m           \u001b[0m         yahpo/mo/rbv2_ranger/\u001b[1;36m375\u001b[0m/\u001b[3;35mNone\u001b[0m         \u001b[1;36m0.218806\u001b[0m        NaN      \u001b[1;36m0.049281\u001b[0m     \u001b[2m                   \u001b[0m\n",
       "\u001b[2;36m           \u001b[0m         yahpo/mo/rbv2_ranger/\u001b[1;36m6\u001b[0m/\u001b[3;35mNone\u001b[0m           \u001b[1;36m0.110805\u001b[0m        NaN      \u001b[1;36m0.017989\u001b[0m     \u001b[2m                   \u001b[0m\n",
       "\u001b[2;36m           \u001b[0m         yahpo/mo/rbv2_super/\u001b[1;36m1053\u001b[0m/\u001b[3;35mNone\u001b[0m              NaN        NaN      \u001b[1;36m0.005830\u001b[0m     \u001b[2m                   \u001b[0m\n",
       "\u001b[2;36m           \u001b[0m         yahpo/mo/rbv2_super/\u001b[1;36m1457\u001b[0m/\u001b[3;35mNone\u001b[0m              NaN        NaN      \u001b[1;36m0.000074\u001b[0m     \u001b[2m                   \u001b[0m\n",
       "\u001b[2;36m           \u001b[0m         yahpo/mo/rbv2_super/\u001b[1;36m6\u001b[0m/\u001b[3;35mNone\u001b[0m                 NaN        NaN      \u001b[1;36m0.000088\u001b[0m     \u001b[2m                   \u001b[0m\n",
       "\u001b[2;36m           \u001b[0m         yahpo/mo/rbv2_xgboost/\u001b[1;36m12\u001b[0m/\u001b[3;35mNone\u001b[0m         \u001b[1;36m0.040141\u001b[0m        NaN      \u001b[1;36m0.000009\u001b[0m     \u001b[2m                   \u001b[0m\n",
       "\u001b[2;36m           \u001b[0m         yahpo/mo/rbv2_xgboost/\u001b[1;36m182\u001b[0m/\u001b[3;35mNone\u001b[0m        \u001b[1;36m0.010498\u001b[0m        NaN      \u001b[1;36m0.000003\u001b[0m     \u001b[2m                   \u001b[0m\n",
       "\u001b[2;36m           \u001b[0m         yahpo/mo/rbv2_xgboost/\u001b[1;36m28\u001b[0m/\u001b[3;35mNone\u001b[0m         \u001b[1;36m0.007840\u001b[0m        NaN      \u001b[1;36m0.000001\u001b[0m     \u001b[2m                   \u001b[0m\n"
      ]
     },
     "metadata": {},
     "output_type": "display_data"
    },
    {
     "name": "stdout",
     "output_type": "stream",
     "text": [
      "Rejecting null hypothesis that data is normal for column Nevergrad-DE (p=0.000000<0.016667)\n",
      "Rejecting null hypothesis that data is normal for column Optuna-MO (p=0.000000<0.016667)\n",
      "Rejecting null hypothesis that data is normal for column RandomSearch (p=0.000000<0.016667)\n",
      "Using Friedman test as omnibus test\n",
      "Rejecting null hypothesis that there is no difference between the distributions (p=0.000062)\n",
      "Using Nemenyi post-hoc test. Differences are significant,if the distance between the mean ranks is greater than the critical distance.\n",
      "              meanrank    median       mad  ci_lower  ci_upper effect_size  \\\n",
      "Nevergrad-DE  1.647727  0.007535  0.007213  0.002514  0.044524         0.0   \n",
      "Optuna-MO     2.045455  0.009641   0.00949  0.004782  0.051167    -0.16853   \n",
      "RandomSearch  2.306818  0.011705  0.010872  0.005525  0.060729   -0.304841   \n",
      "\n",
      "               magnitude  \n",
      "Nevergrad-DE  negligible  \n",
      "Optuna-MO     negligible  \n",
      "RandomSearch       small  \n"
     ]
    },
    {
     "name": "stderr",
     "output_type": "stream",
     "text": [
      "/home/numina/micromamba/envs/carpsexp/lib/python3.11/site-packages/autorank/_util.py:432: FutureWarning: Series.__getitem__ treating keys as positions is deprecated. In a future version, integer keys will always be treated as labels (consistent with DataFrame behavior). To access a value by position, use `ser.iloc[pos]`\n",
      "  if abs(sorted_ranks[i] - sorted_ranks[j]) <= critical_difference:\n"
     ]
    },
    {
     "data": {
      "text/html": [
       "<pre style=\"white-space:pre;overflow-x:auto;line-height:normal;font-family:Menlo,'DejaVu Sans Mono',consolas,'Courier New',monospace\"><span style=\"color: #7fbfbf; text-decoration-color: #7fbfbf\">[19:02:19] </span><span style=\"color: #000080; text-decoration-color: #000080\">INFO    </span> Lost following experiments: optimizer_id                      Nevergrad-DE  <a href=\"file:///home/numina/Documents/repos/CARP-S-Experiments/lib/CARP-S/carps/analysis/run_autorank.py\" target=\"_blank\"><span style=\"color: #7f7f7f; text-decoration-color: #7f7f7f\">run_autorank.py</span></a><span style=\"color: #7f7f7f; text-decoration-color: #7f7f7f\">:</span><a href=\"file:///home/numina/Documents/repos/CARP-S-Experiments/lib/CARP-S/carps/analysis/run_autorank.py#113\" target=\"_blank\"><span style=\"color: #7f7f7f; text-decoration-color: #7f7f7f\">113</span></a>\n",
       "<span style=\"color: #7fbfbf; text-decoration-color: #7fbfbf\">           </span>         Optuna-MO  RandomSearch                                                     <span style=\"color: #7f7f7f; text-decoration-color: #7f7f7f\">                   </span>\n",
       "<span style=\"color: #7fbfbf; text-decoration-color: #7fbfbf\">           </span>         problem_id                                                                  <span style=\"color: #7f7f7f; text-decoration-color: #7f7f7f\">                   </span>\n",
       "<span style=\"color: #7fbfbf; text-decoration-color: #7fbfbf\">           </span>         yahpo/mo/iaml_ranger/<span style=\"color: #008080; text-decoration-color: #008080; font-weight: bold\">1067</span>/<span style=\"color: #800080; text-decoration-color: #800080; font-style: italic\">None</span>        <span style=\"color: #008080; text-decoration-color: #008080; font-weight: bold\">0.336826</span>        NaN      <span style=\"color: #008080; text-decoration-color: #008080; font-weight: bold\">0.217303</span>     <span style=\"color: #7f7f7f; text-decoration-color: #7f7f7f\">                   </span>\n",
       "<span style=\"color: #7fbfbf; text-decoration-color: #7fbfbf\">           </span>         yahpo/mo/iaml_ranger/<span style=\"color: #008080; text-decoration-color: #008080; font-weight: bold\">1489</span>/<span style=\"color: #800080; text-decoration-color: #800080; font-style: italic\">None</span>        <span style=\"color: #008080; text-decoration-color: #008080; font-weight: bold\">0.174604</span>        NaN      <span style=\"color: #008080; text-decoration-color: #008080; font-weight: bold\">0.004866</span>     <span style=\"color: #7f7f7f; text-decoration-color: #7f7f7f\">                   </span>\n",
       "<span style=\"color: #7fbfbf; text-decoration-color: #7fbfbf\">           </span>         yahpo/mo/iaml_super/<span style=\"color: #008080; text-decoration-color: #008080; font-weight: bold\">1067</span>/<span style=\"color: #800080; text-decoration-color: #800080; font-style: italic\">None</span>              NaN        NaN      <span style=\"color: #008080; text-decoration-color: #008080; font-weight: bold\">0.000075</span>     <span style=\"color: #7f7f7f; text-decoration-color: #7f7f7f\">                   </span>\n",
       "<span style=\"color: #7fbfbf; text-decoration-color: #7fbfbf\">           </span>         yahpo/mo/iaml_super/<span style=\"color: #008080; text-decoration-color: #008080; font-weight: bold\">1489</span>/<span style=\"color: #800080; text-decoration-color: #800080; font-style: italic\">None</span>              NaN        NaN      <span style=\"color: #008080; text-decoration-color: #008080; font-weight: bold\">0.000240</span>     <span style=\"color: #7f7f7f; text-decoration-color: #7f7f7f\">                   </span>\n",
       "<span style=\"color: #7fbfbf; text-decoration-color: #7fbfbf\">           </span>         yahpo/mo/iaml_xgboost/<span style=\"color: #008080; text-decoration-color: #008080; font-weight: bold\">1489</span>/<span style=\"color: #800080; text-decoration-color: #800080; font-style: italic\">None</span>       <span style=\"color: #008080; text-decoration-color: #008080; font-weight: bold\">0.203513</span>        NaN      <span style=\"color: #008080; text-decoration-color: #008080; font-weight: bold\">0.000394</span>     <span style=\"color: #7f7f7f; text-decoration-color: #7f7f7f\">                   </span>\n",
       "<span style=\"color: #7fbfbf; text-decoration-color: #7fbfbf\">           </span>         yahpo/mo/iaml_xgboost/<span style=\"color: #008080; text-decoration-color: #008080; font-weight: bold\">40981</span>/<span style=\"color: #800080; text-decoration-color: #800080; font-style: italic\">None</span>      <span style=\"color: #008080; text-decoration-color: #008080; font-weight: bold\">0.201979</span>        NaN      <span style=\"color: #008080; text-decoration-color: #008080; font-weight: bold\">0.001476</span>     <span style=\"color: #7f7f7f; text-decoration-color: #7f7f7f\">                   </span>\n",
       "<span style=\"color: #7fbfbf; text-decoration-color: #7fbfbf\">           </span>         yahpo/mo/rbv2_ranger/<span style=\"color: #008080; text-decoration-color: #008080; font-weight: bold\">375</span>/<span style=\"color: #800080; text-decoration-color: #800080; font-style: italic\">None</span>         <span style=\"color: #008080; text-decoration-color: #008080; font-weight: bold\">0.218806</span>        NaN      <span style=\"color: #008080; text-decoration-color: #008080; font-weight: bold\">0.049281</span>     <span style=\"color: #7f7f7f; text-decoration-color: #7f7f7f\">                   </span>\n",
       "<span style=\"color: #7fbfbf; text-decoration-color: #7fbfbf\">           </span>         yahpo/mo/rbv2_ranger/<span style=\"color: #008080; text-decoration-color: #008080; font-weight: bold\">40979</span>/<span style=\"color: #800080; text-decoration-color: #800080; font-style: italic\">None</span>       <span style=\"color: #008080; text-decoration-color: #008080; font-weight: bold\">0.197883</span>        NaN      <span style=\"color: #008080; text-decoration-color: #008080; font-weight: bold\">0.067001</span>     <span style=\"color: #7f7f7f; text-decoration-color: #7f7f7f\">                   </span>\n",
       "<span style=\"color: #7fbfbf; text-decoration-color: #7fbfbf\">           </span>         yahpo/mo/rbv2_ranger/<span style=\"color: #008080; text-decoration-color: #008080; font-weight: bold\">6</span>/<span style=\"color: #800080; text-decoration-color: #800080; font-style: italic\">None</span>           <span style=\"color: #008080; text-decoration-color: #008080; font-weight: bold\">0.110805</span>        NaN      <span style=\"color: #008080; text-decoration-color: #008080; font-weight: bold\">0.017989</span>     <span style=\"color: #7f7f7f; text-decoration-color: #7f7f7f\">                   </span>\n",
       "<span style=\"color: #7fbfbf; text-decoration-color: #7fbfbf\">           </span>         yahpo/mo/rbv2_super/<span style=\"color: #008080; text-decoration-color: #008080; font-weight: bold\">1053</span>/<span style=\"color: #800080; text-decoration-color: #800080; font-style: italic\">None</span>              NaN        NaN      <span style=\"color: #008080; text-decoration-color: #008080; font-weight: bold\">0.005830</span>     <span style=\"color: #7f7f7f; text-decoration-color: #7f7f7f\">                   </span>\n",
       "<span style=\"color: #7fbfbf; text-decoration-color: #7fbfbf\">           </span>         yahpo/mo/rbv2_super/<span style=\"color: #008080; text-decoration-color: #008080; font-weight: bold\">1457</span>/<span style=\"color: #800080; text-decoration-color: #800080; font-style: italic\">None</span>              NaN        NaN      <span style=\"color: #008080; text-decoration-color: #008080; font-weight: bold\">0.000074</span>     <span style=\"color: #7f7f7f; text-decoration-color: #7f7f7f\">                   </span>\n",
       "<span style=\"color: #7fbfbf; text-decoration-color: #7fbfbf\">           </span>         yahpo/mo/rbv2_xgboost/<span style=\"color: #008080; text-decoration-color: #008080; font-weight: bold\">182</span>/<span style=\"color: #800080; text-decoration-color: #800080; font-style: italic\">None</span>        <span style=\"color: #008080; text-decoration-color: #008080; font-weight: bold\">0.010498</span>        NaN      <span style=\"color: #008080; text-decoration-color: #008080; font-weight: bold\">0.000003</span>     <span style=\"color: #7f7f7f; text-decoration-color: #7f7f7f\">                   </span>\n",
       "</pre>\n"
      ],
      "text/plain": [
       "\u001b[2;36m[19:02:19]\u001b[0m\u001b[2;36m \u001b[0m\u001b[34mINFO    \u001b[0m Lost following experiments: optimizer_id                      Nevergrad-DE  \u001b]8;id=811246;file:///home/numina/Documents/repos/CARP-S-Experiments/lib/CARP-S/carps/analysis/run_autorank.py\u001b\\\u001b[2mrun_autorank.py\u001b[0m\u001b]8;;\u001b\\\u001b[2m:\u001b[0m\u001b]8;id=131857;file:///home/numina/Documents/repos/CARP-S-Experiments/lib/CARP-S/carps/analysis/run_autorank.py#113\u001b\\\u001b[2m113\u001b[0m\u001b]8;;\u001b\\\n",
       "\u001b[2;36m           \u001b[0m         Optuna-MO  RandomSearch                                                     \u001b[2m                   \u001b[0m\n",
       "\u001b[2;36m           \u001b[0m         problem_id                                                                  \u001b[2m                   \u001b[0m\n",
       "\u001b[2;36m           \u001b[0m         yahpo/mo/iaml_ranger/\u001b[1;36m1067\u001b[0m/\u001b[3;35mNone\u001b[0m        \u001b[1;36m0.336826\u001b[0m        NaN      \u001b[1;36m0.217303\u001b[0m     \u001b[2m                   \u001b[0m\n",
       "\u001b[2;36m           \u001b[0m         yahpo/mo/iaml_ranger/\u001b[1;36m1489\u001b[0m/\u001b[3;35mNone\u001b[0m        \u001b[1;36m0.174604\u001b[0m        NaN      \u001b[1;36m0.004866\u001b[0m     \u001b[2m                   \u001b[0m\n",
       "\u001b[2;36m           \u001b[0m         yahpo/mo/iaml_super/\u001b[1;36m1067\u001b[0m/\u001b[3;35mNone\u001b[0m              NaN        NaN      \u001b[1;36m0.000075\u001b[0m     \u001b[2m                   \u001b[0m\n",
       "\u001b[2;36m           \u001b[0m         yahpo/mo/iaml_super/\u001b[1;36m1489\u001b[0m/\u001b[3;35mNone\u001b[0m              NaN        NaN      \u001b[1;36m0.000240\u001b[0m     \u001b[2m                   \u001b[0m\n",
       "\u001b[2;36m           \u001b[0m         yahpo/mo/iaml_xgboost/\u001b[1;36m1489\u001b[0m/\u001b[3;35mNone\u001b[0m       \u001b[1;36m0.203513\u001b[0m        NaN      \u001b[1;36m0.000394\u001b[0m     \u001b[2m                   \u001b[0m\n",
       "\u001b[2;36m           \u001b[0m         yahpo/mo/iaml_xgboost/\u001b[1;36m40981\u001b[0m/\u001b[3;35mNone\u001b[0m      \u001b[1;36m0.201979\u001b[0m        NaN      \u001b[1;36m0.001476\u001b[0m     \u001b[2m                   \u001b[0m\n",
       "\u001b[2;36m           \u001b[0m         yahpo/mo/rbv2_ranger/\u001b[1;36m375\u001b[0m/\u001b[3;35mNone\u001b[0m         \u001b[1;36m0.218806\u001b[0m        NaN      \u001b[1;36m0.049281\u001b[0m     \u001b[2m                   \u001b[0m\n",
       "\u001b[2;36m           \u001b[0m         yahpo/mo/rbv2_ranger/\u001b[1;36m40979\u001b[0m/\u001b[3;35mNone\u001b[0m       \u001b[1;36m0.197883\u001b[0m        NaN      \u001b[1;36m0.067001\u001b[0m     \u001b[2m                   \u001b[0m\n",
       "\u001b[2;36m           \u001b[0m         yahpo/mo/rbv2_ranger/\u001b[1;36m6\u001b[0m/\u001b[3;35mNone\u001b[0m           \u001b[1;36m0.110805\u001b[0m        NaN      \u001b[1;36m0.017989\u001b[0m     \u001b[2m                   \u001b[0m\n",
       "\u001b[2;36m           \u001b[0m         yahpo/mo/rbv2_super/\u001b[1;36m1053\u001b[0m/\u001b[3;35mNone\u001b[0m              NaN        NaN      \u001b[1;36m0.005830\u001b[0m     \u001b[2m                   \u001b[0m\n",
       "\u001b[2;36m           \u001b[0m         yahpo/mo/rbv2_super/\u001b[1;36m1457\u001b[0m/\u001b[3;35mNone\u001b[0m              NaN        NaN      \u001b[1;36m0.000074\u001b[0m     \u001b[2m                   \u001b[0m\n",
       "\u001b[2;36m           \u001b[0m         yahpo/mo/rbv2_xgboost/\u001b[1;36m182\u001b[0m/\u001b[3;35mNone\u001b[0m        \u001b[1;36m0.010498\u001b[0m        NaN      \u001b[1;36m0.000003\u001b[0m     \u001b[2m                   \u001b[0m\n"
      ]
     },
     "metadata": {},
     "output_type": "display_data"
    },
    {
     "name": "stdout",
     "output_type": "stream",
     "text": [
      "Rejecting null hypothesis that data is normal for column Nevergrad-DE (p=0.000000<0.016667)\n",
      "Rejecting null hypothesis that data is normal for column Optuna-MO (p=0.000000<0.016667)\n",
      "Rejecting null hypothesis that data is normal for column RandomSearch (p=0.000000<0.016667)\n",
      "Using Friedman test as omnibus test\n",
      "Rejecting null hypothesis that there is no difference between the distributions (p=0.000019)\n",
      "Using Nemenyi post-hoc test. Differences are significant,if the distance between the mean ranks is greater than the critical distance.\n",
      "              meanrank    median       mad  ci_lower  ci_upper effect_size  \\\n",
      "Nevergrad-DE  1.611111  0.007414  0.006987  0.002486  0.046377         0.0   \n",
      "Optuna-MO     2.000000  0.009226  0.009102  0.003648  0.052571   -0.150638   \n",
      "RandomSearch  2.388889  0.010828  0.010229  0.005519  0.060899   -0.262903   \n",
      "\n",
      "               magnitude  \n",
      "Nevergrad-DE  negligible  \n",
      "Optuna-MO     negligible  \n",
      "RandomSearch       small  \n"
     ]
    },
    {
     "name": "stderr",
     "output_type": "stream",
     "text": [
      "/home/numina/micromamba/envs/carpsexp/lib/python3.11/site-packages/autorank/_util.py:432: FutureWarning: Series.__getitem__ treating keys as positions is deprecated. In a future version, integer keys will always be treated as labels (consistent with DataFrame behavior). To access a value by position, use `ser.iloc[pos]`\n",
      "  if abs(sorted_ranks[i] - sorted_ranks[j]) <= critical_difference:\n"
     ]
    },
    {
     "data": {
      "text/html": [
       "<pre style=\"white-space:pre;overflow-x:auto;line-height:normal;font-family:Menlo,'DejaVu Sans Mono',consolas,'Courier New',monospace\"><span style=\"color: #7fbfbf; text-decoration-color: #7fbfbf\">[19:02:21] </span><span style=\"color: #000080; text-decoration-color: #000080\">INFO    </span> Lost following experiments: optimizer_id                     Nevergrad-DE   <a href=\"file:///home/numina/Documents/repos/CARP-S-Experiments/lib/CARP-S/carps/analysis/run_autorank.py\" target=\"_blank\"><span style=\"color: #7f7f7f; text-decoration-color: #7f7f7f\">run_autorank.py</span></a><span style=\"color: #7f7f7f; text-decoration-color: #7f7f7f\">:</span><a href=\"file:///home/numina/Documents/repos/CARP-S-Experiments/lib/CARP-S/carps/analysis/run_autorank.py#113\" target=\"_blank\"><span style=\"color: #7f7f7f; text-decoration-color: #7f7f7f\">113</span></a>\n",
       "<span style=\"color: #7fbfbf; text-decoration-color: #7fbfbf\">           </span>         Optuna-MO  RandomSearch                                                     <span style=\"color: #7f7f7f; text-decoration-color: #7f7f7f\">                   </span>\n",
       "<span style=\"color: #7fbfbf; text-decoration-color: #7fbfbf\">           </span>         problem_id                                                                  <span style=\"color: #7f7f7f; text-decoration-color: #7f7f7f\">                   </span>\n",
       "<span style=\"color: #7fbfbf; text-decoration-color: #7fbfbf\">           </span>         yahpo/mo/iaml_ranger/<span style=\"color: #008080; text-decoration-color: #008080; font-weight: bold\">1067</span>/<span style=\"color: #800080; text-decoration-color: #800080; font-style: italic\">None</span>       <span style=\"color: #008080; text-decoration-color: #008080; font-weight: bold\">0.336826</span>        NaN      <span style=\"color: #008080; text-decoration-color: #008080; font-weight: bold\">0.217303</span>      <span style=\"color: #7f7f7f; text-decoration-color: #7f7f7f\">                   </span>\n",
       "<span style=\"color: #7fbfbf; text-decoration-color: #7fbfbf\">           </span>         yahpo/mo/iaml_ranger/<span style=\"color: #008080; text-decoration-color: #008080; font-weight: bold\">1489</span>/<span style=\"color: #800080; text-decoration-color: #800080; font-style: italic\">None</span>       <span style=\"color: #008080; text-decoration-color: #008080; font-weight: bold\">0.174604</span>        NaN      <span style=\"color: #008080; text-decoration-color: #008080; font-weight: bold\">0.004866</span>      <span style=\"color: #7f7f7f; text-decoration-color: #7f7f7f\">                   </span>\n",
       "<span style=\"color: #7fbfbf; text-decoration-color: #7fbfbf\">           </span>         yahpo/mo/iaml_super/<span style=\"color: #008080; text-decoration-color: #008080; font-weight: bold\">1489</span>/<span style=\"color: #800080; text-decoration-color: #800080; font-style: italic\">None</span>             NaN        NaN      <span style=\"color: #008080; text-decoration-color: #008080; font-weight: bold\">0.000240</span>      <span style=\"color: #7f7f7f; text-decoration-color: #7f7f7f\">                   </span>\n",
       "<span style=\"color: #7fbfbf; text-decoration-color: #7fbfbf\">           </span>         yahpo/mo/iaml_xgboost/<span style=\"color: #008080; text-decoration-color: #008080; font-weight: bold\">1489</span>/<span style=\"color: #800080; text-decoration-color: #800080; font-style: italic\">None</span>      <span style=\"color: #008080; text-decoration-color: #008080; font-weight: bold\">0.203513</span>        NaN      <span style=\"color: #008080; text-decoration-color: #008080; font-weight: bold\">0.000394</span>      <span style=\"color: #7f7f7f; text-decoration-color: #7f7f7f\">                   </span>\n",
       "<span style=\"color: #7fbfbf; text-decoration-color: #7fbfbf\">           </span>         yahpo/mo/rbv2_ranger/<span style=\"color: #008080; text-decoration-color: #008080; font-weight: bold\">40979</span>/<span style=\"color: #800080; text-decoration-color: #800080; font-style: italic\">None</span>      <span style=\"color: #008080; text-decoration-color: #008080; font-weight: bold\">0.197883</span>        NaN      <span style=\"color: #008080; text-decoration-color: #008080; font-weight: bold\">0.067001</span>      <span style=\"color: #7f7f7f; text-decoration-color: #7f7f7f\">                   </span>\n",
       "<span style=\"color: #7fbfbf; text-decoration-color: #7fbfbf\">           </span>         yahpo/mo/rbv2_ranger/<span style=\"color: #008080; text-decoration-color: #008080; font-weight: bold\">6</span>/<span style=\"color: #800080; text-decoration-color: #800080; font-style: italic\">None</span>          <span style=\"color: #008080; text-decoration-color: #008080; font-weight: bold\">0.110805</span>        NaN      <span style=\"color: #008080; text-decoration-color: #008080; font-weight: bold\">0.017989</span>      <span style=\"color: #7f7f7f; text-decoration-color: #7f7f7f\">                   </span>\n",
       "<span style=\"color: #7fbfbf; text-decoration-color: #7fbfbf\">           </span>         yahpo/mo/rbv2_super/<span style=\"color: #008080; text-decoration-color: #008080; font-weight: bold\">1053</span>/<span style=\"color: #800080; text-decoration-color: #800080; font-style: italic\">None</span>             NaN        NaN      <span style=\"color: #008080; text-decoration-color: #008080; font-weight: bold\">0.005830</span>      <span style=\"color: #7f7f7f; text-decoration-color: #7f7f7f\">                   </span>\n",
       "<span style=\"color: #7fbfbf; text-decoration-color: #7fbfbf\">           </span>         yahpo/mo/rbv2_super/<span style=\"color: #008080; text-decoration-color: #008080; font-weight: bold\">1457</span>/<span style=\"color: #800080; text-decoration-color: #800080; font-style: italic\">None</span>             NaN        NaN      <span style=\"color: #008080; text-decoration-color: #008080; font-weight: bold\">0.000074</span>      <span style=\"color: #7f7f7f; text-decoration-color: #7f7f7f\">                   </span>\n",
       "<span style=\"color: #7fbfbf; text-decoration-color: #7fbfbf\">           </span>         yahpo/mo/rbv2_super/<span style=\"color: #008080; text-decoration-color: #008080; font-weight: bold\">6</span>/<span style=\"color: #800080; text-decoration-color: #800080; font-style: italic\">None</span>                NaN        NaN      <span style=\"color: #008080; text-decoration-color: #008080; font-weight: bold\">0.000088</span>      <span style=\"color: #7f7f7f; text-decoration-color: #7f7f7f\">                   </span>\n",
       "<span style=\"color: #7fbfbf; text-decoration-color: #7fbfbf\">           </span>         yahpo/mo/rbv2_xgboost/<span style=\"color: #008080; text-decoration-color: #008080; font-weight: bold\">12</span>/<span style=\"color: #800080; text-decoration-color: #800080; font-style: italic\">None</span>        <span style=\"color: #008080; text-decoration-color: #008080; font-weight: bold\">0.040141</span>        NaN      <span style=\"color: #008080; text-decoration-color: #008080; font-weight: bold\">0.000009</span>      <span style=\"color: #7f7f7f; text-decoration-color: #7f7f7f\">                   </span>\n",
       "<span style=\"color: #7fbfbf; text-decoration-color: #7fbfbf\">           </span>         yahpo/mo/rbv2_xgboost/<span style=\"color: #008080; text-decoration-color: #008080; font-weight: bold\">182</span>/<span style=\"color: #800080; text-decoration-color: #800080; font-style: italic\">None</span>       <span style=\"color: #008080; text-decoration-color: #008080; font-weight: bold\">0.010498</span>        NaN      <span style=\"color: #008080; text-decoration-color: #008080; font-weight: bold\">0.000003</span>      <span style=\"color: #7f7f7f; text-decoration-color: #7f7f7f\">                   </span>\n",
       "<span style=\"color: #7fbfbf; text-decoration-color: #7fbfbf\">           </span>         yahpo/mo/rbv2_xgboost/<span style=\"color: #008080; text-decoration-color: #008080; font-weight: bold\">28</span>/<span style=\"color: #800080; text-decoration-color: #800080; font-style: italic\">None</span>        <span style=\"color: #008080; text-decoration-color: #008080; font-weight: bold\">0.007840</span>        NaN      <span style=\"color: #008080; text-decoration-color: #008080; font-weight: bold\">0.000001</span>      <span style=\"color: #7f7f7f; text-decoration-color: #7f7f7f\">                   </span>\n",
       "</pre>\n"
      ],
      "text/plain": [
       "\u001b[2;36m[19:02:21]\u001b[0m\u001b[2;36m \u001b[0m\u001b[34mINFO    \u001b[0m Lost following experiments: optimizer_id                     Nevergrad-DE   \u001b]8;id=37856;file:///home/numina/Documents/repos/CARP-S-Experiments/lib/CARP-S/carps/analysis/run_autorank.py\u001b\\\u001b[2mrun_autorank.py\u001b[0m\u001b]8;;\u001b\\\u001b[2m:\u001b[0m\u001b]8;id=886623;file:///home/numina/Documents/repos/CARP-S-Experiments/lib/CARP-S/carps/analysis/run_autorank.py#113\u001b\\\u001b[2m113\u001b[0m\u001b]8;;\u001b\\\n",
       "\u001b[2;36m           \u001b[0m         Optuna-MO  RandomSearch                                                     \u001b[2m                   \u001b[0m\n",
       "\u001b[2;36m           \u001b[0m         problem_id                                                                  \u001b[2m                   \u001b[0m\n",
       "\u001b[2;36m           \u001b[0m         yahpo/mo/iaml_ranger/\u001b[1;36m1067\u001b[0m/\u001b[3;35mNone\u001b[0m       \u001b[1;36m0.336826\u001b[0m        NaN      \u001b[1;36m0.217303\u001b[0m      \u001b[2m                   \u001b[0m\n",
       "\u001b[2;36m           \u001b[0m         yahpo/mo/iaml_ranger/\u001b[1;36m1489\u001b[0m/\u001b[3;35mNone\u001b[0m       \u001b[1;36m0.174604\u001b[0m        NaN      \u001b[1;36m0.004866\u001b[0m      \u001b[2m                   \u001b[0m\n",
       "\u001b[2;36m           \u001b[0m         yahpo/mo/iaml_super/\u001b[1;36m1489\u001b[0m/\u001b[3;35mNone\u001b[0m             NaN        NaN      \u001b[1;36m0.000240\u001b[0m      \u001b[2m                   \u001b[0m\n",
       "\u001b[2;36m           \u001b[0m         yahpo/mo/iaml_xgboost/\u001b[1;36m1489\u001b[0m/\u001b[3;35mNone\u001b[0m      \u001b[1;36m0.203513\u001b[0m        NaN      \u001b[1;36m0.000394\u001b[0m      \u001b[2m                   \u001b[0m\n",
       "\u001b[2;36m           \u001b[0m         yahpo/mo/rbv2_ranger/\u001b[1;36m40979\u001b[0m/\u001b[3;35mNone\u001b[0m      \u001b[1;36m0.197883\u001b[0m        NaN      \u001b[1;36m0.067001\u001b[0m      \u001b[2m                   \u001b[0m\n",
       "\u001b[2;36m           \u001b[0m         yahpo/mo/rbv2_ranger/\u001b[1;36m6\u001b[0m/\u001b[3;35mNone\u001b[0m          \u001b[1;36m0.110805\u001b[0m        NaN      \u001b[1;36m0.017989\u001b[0m      \u001b[2m                   \u001b[0m\n",
       "\u001b[2;36m           \u001b[0m         yahpo/mo/rbv2_super/\u001b[1;36m1053\u001b[0m/\u001b[3;35mNone\u001b[0m             NaN        NaN      \u001b[1;36m0.005830\u001b[0m      \u001b[2m                   \u001b[0m\n",
       "\u001b[2;36m           \u001b[0m         yahpo/mo/rbv2_super/\u001b[1;36m1457\u001b[0m/\u001b[3;35mNone\u001b[0m             NaN        NaN      \u001b[1;36m0.000074\u001b[0m      \u001b[2m                   \u001b[0m\n",
       "\u001b[2;36m           \u001b[0m         yahpo/mo/rbv2_super/\u001b[1;36m6\u001b[0m/\u001b[3;35mNone\u001b[0m                NaN        NaN      \u001b[1;36m0.000088\u001b[0m      \u001b[2m                   \u001b[0m\n",
       "\u001b[2;36m           \u001b[0m         yahpo/mo/rbv2_xgboost/\u001b[1;36m12\u001b[0m/\u001b[3;35mNone\u001b[0m        \u001b[1;36m0.040141\u001b[0m        NaN      \u001b[1;36m0.000009\u001b[0m      \u001b[2m                   \u001b[0m\n",
       "\u001b[2;36m           \u001b[0m         yahpo/mo/rbv2_xgboost/\u001b[1;36m182\u001b[0m/\u001b[3;35mNone\u001b[0m       \u001b[1;36m0.010498\u001b[0m        NaN      \u001b[1;36m0.000003\u001b[0m      \u001b[2m                   \u001b[0m\n",
       "\u001b[2;36m           \u001b[0m         yahpo/mo/rbv2_xgboost/\u001b[1;36m28\u001b[0m/\u001b[3;35mNone\u001b[0m        \u001b[1;36m0.007840\u001b[0m        NaN      \u001b[1;36m0.000001\u001b[0m      \u001b[2m                   \u001b[0m\n"
      ]
     },
     "metadata": {},
     "output_type": "display_data"
    },
    {
     "name": "stdout",
     "output_type": "stream",
     "text": [
      "Rejecting null hypothesis that data is normal for column Nevergrad-DE (p=0.000000<0.016667)\n",
      "Rejecting null hypothesis that data is normal for column Optuna-MO (p=0.000000<0.016667)\n",
      "Rejecting null hypothesis that data is normal for column RandomSearch (p=0.000000<0.016667)\n",
      "Using Friedman test as omnibus test\n",
      "Rejecting null hypothesis that there is no difference between the distributions (p=0.001621)\n",
      "Using Nemenyi post-hoc test. Differences are significant,if the distance between the mean ranks is greater than the critical distance.\n",
      "              meanrank    median       mad  ci_lower  ci_upper effect_size  \\\n",
      "Nevergrad-DE  1.684932  0.009913  0.009886  0.003887  0.070285         0.0   \n",
      "Optuna-MO     2.041096  0.023827  0.023491  0.004907  0.070068   -0.520744   \n",
      "RandomSearch  2.273973  0.015528  0.014663  0.005525  0.073889   -0.302839   \n",
      "\n",
      "               magnitude  \n",
      "Nevergrad-DE  negligible  \n",
      "Optuna-MO         medium  \n",
      "RandomSearch       small  \n"
     ]
    },
    {
     "name": "stderr",
     "output_type": "stream",
     "text": [
      "/home/numina/micromamba/envs/carpsexp/lib/python3.11/site-packages/autorank/_util.py:432: FutureWarning: Series.__getitem__ treating keys as positions is deprecated. In a future version, integer keys will always be treated as labels (consistent with DataFrame behavior). To access a value by position, use `ser.iloc[pos]`\n",
      "  if abs(sorted_ranks[i] - sorted_ranks[j]) <= critical_difference:\n"
     ]
    },
    {
     "data": {
      "text/html": [
       "<pre style=\"white-space:pre;overflow-x:auto;line-height:normal;font-family:Menlo,'DejaVu Sans Mono',consolas,'Courier New',monospace\"><span style=\"color: #7fbfbf; text-decoration-color: #7fbfbf\">[19:02:22] </span><span style=\"color: #000080; text-decoration-color: #000080\">INFO    </span> Lost following experiments: optimizer_id                      Nevergrad-DE  <a href=\"file:///home/numina/Documents/repos/CARP-S-Experiments/lib/CARP-S/carps/analysis/run_autorank.py\" target=\"_blank\"><span style=\"color: #7f7f7f; text-decoration-color: #7f7f7f\">run_autorank.py</span></a><span style=\"color: #7f7f7f; text-decoration-color: #7f7f7f\">:</span><a href=\"file:///home/numina/Documents/repos/CARP-S-Experiments/lib/CARP-S/carps/analysis/run_autorank.py#113\" target=\"_blank\"><span style=\"color: #7f7f7f; text-decoration-color: #7f7f7f\">113</span></a>\n",
       "<span style=\"color: #7fbfbf; text-decoration-color: #7fbfbf\">           </span>         Optuna-MO  RandomSearch                                                     <span style=\"color: #7f7f7f; text-decoration-color: #7f7f7f\">                   </span>\n",
       "<span style=\"color: #7fbfbf; text-decoration-color: #7fbfbf\">           </span>         problem_id                                                                  <span style=\"color: #7f7f7f; text-decoration-color: #7f7f7f\">                   </span>\n",
       "<span style=\"color: #7fbfbf; text-decoration-color: #7fbfbf\">           </span>         yahpo/mo/iaml_ranger/<span style=\"color: #008080; text-decoration-color: #008080; font-weight: bold\">1067</span>/<span style=\"color: #800080; text-decoration-color: #800080; font-style: italic\">None</span>        <span style=\"color: #008080; text-decoration-color: #008080; font-weight: bold\">0.336826</span>        NaN      <span style=\"color: #008080; text-decoration-color: #008080; font-weight: bold\">0.217303</span>     <span style=\"color: #7f7f7f; text-decoration-color: #7f7f7f\">                   </span>\n",
       "<span style=\"color: #7fbfbf; text-decoration-color: #7fbfbf\">           </span>         yahpo/mo/iaml_ranger/<span style=\"color: #008080; text-decoration-color: #008080; font-weight: bold\">1489</span>/<span style=\"color: #800080; text-decoration-color: #800080; font-style: italic\">None</span>        <span style=\"color: #008080; text-decoration-color: #008080; font-weight: bold\">0.174604</span>        NaN      <span style=\"color: #008080; text-decoration-color: #008080; font-weight: bold\">0.004866</span>     <span style=\"color: #7f7f7f; text-decoration-color: #7f7f7f\">                   </span>\n",
       "<span style=\"color: #7fbfbf; text-decoration-color: #7fbfbf\">           </span>         yahpo/mo/iaml_xgboost/<span style=\"color: #008080; text-decoration-color: #008080; font-weight: bold\">1489</span>/<span style=\"color: #800080; text-decoration-color: #800080; font-style: italic\">None</span>       <span style=\"color: #008080; text-decoration-color: #008080; font-weight: bold\">0.203513</span>        NaN      <span style=\"color: #008080; text-decoration-color: #008080; font-weight: bold\">0.000394</span>     <span style=\"color: #7f7f7f; text-decoration-color: #7f7f7f\">                   </span>\n",
       "<span style=\"color: #7fbfbf; text-decoration-color: #7fbfbf\">           </span>         yahpo/mo/iaml_xgboost/<span style=\"color: #008080; text-decoration-color: #008080; font-weight: bold\">40981</span>/<span style=\"color: #800080; text-decoration-color: #800080; font-style: italic\">None</span>      <span style=\"color: #008080; text-decoration-color: #008080; font-weight: bold\">0.201979</span>        NaN      <span style=\"color: #008080; text-decoration-color: #008080; font-weight: bold\">0.001476</span>     <span style=\"color: #7f7f7f; text-decoration-color: #7f7f7f\">                   </span>\n",
       "<span style=\"color: #7fbfbf; text-decoration-color: #7fbfbf\">           </span>         yahpo/mo/rbv2_ranger/<span style=\"color: #008080; text-decoration-color: #008080; font-weight: bold\">375</span>/<span style=\"color: #800080; text-decoration-color: #800080; font-style: italic\">None</span>         <span style=\"color: #008080; text-decoration-color: #008080; font-weight: bold\">0.218806</span>        NaN      <span style=\"color: #008080; text-decoration-color: #008080; font-weight: bold\">0.049281</span>     <span style=\"color: #7f7f7f; text-decoration-color: #7f7f7f\">                   </span>\n",
       "<span style=\"color: #7fbfbf; text-decoration-color: #7fbfbf\">           </span>         yahpo/mo/rbv2_ranger/<span style=\"color: #008080; text-decoration-color: #008080; font-weight: bold\">40979</span>/<span style=\"color: #800080; text-decoration-color: #800080; font-style: italic\">None</span>       <span style=\"color: #008080; text-decoration-color: #008080; font-weight: bold\">0.197883</span>        NaN      <span style=\"color: #008080; text-decoration-color: #008080; font-weight: bold\">0.067001</span>     <span style=\"color: #7f7f7f; text-decoration-color: #7f7f7f\">                   </span>\n",
       "<span style=\"color: #7fbfbf; text-decoration-color: #7fbfbf\">           </span>         yahpo/mo/rbv2_ranger/<span style=\"color: #008080; text-decoration-color: #008080; font-weight: bold\">6</span>/<span style=\"color: #800080; text-decoration-color: #800080; font-style: italic\">None</span>           <span style=\"color: #008080; text-decoration-color: #008080; font-weight: bold\">0.110805</span>        NaN      <span style=\"color: #008080; text-decoration-color: #008080; font-weight: bold\">0.017989</span>     <span style=\"color: #7f7f7f; text-decoration-color: #7f7f7f\">                   </span>\n",
       "<span style=\"color: #7fbfbf; text-decoration-color: #7fbfbf\">           </span>         yahpo/mo/rbv2_super/<span style=\"color: #008080; text-decoration-color: #008080; font-weight: bold\">1053</span>/<span style=\"color: #800080; text-decoration-color: #800080; font-style: italic\">None</span>              NaN        NaN      <span style=\"color: #008080; text-decoration-color: #008080; font-weight: bold\">0.005830</span>     <span style=\"color: #7f7f7f; text-decoration-color: #7f7f7f\">                   </span>\n",
       "<span style=\"color: #7fbfbf; text-decoration-color: #7fbfbf\">           </span>         yahpo/mo/rbv2_super/<span style=\"color: #008080; text-decoration-color: #008080; font-weight: bold\">1457</span>/<span style=\"color: #800080; text-decoration-color: #800080; font-style: italic\">None</span>              NaN        NaN      <span style=\"color: #008080; text-decoration-color: #008080; font-weight: bold\">0.000074</span>     <span style=\"color: #7f7f7f; text-decoration-color: #7f7f7f\">                   </span>\n",
       "<span style=\"color: #7fbfbf; text-decoration-color: #7fbfbf\">           </span>         yahpo/mo/rbv2_super/<span style=\"color: #008080; text-decoration-color: #008080; font-weight: bold\">6</span>/<span style=\"color: #800080; text-decoration-color: #800080; font-style: italic\">None</span>                 NaN        NaN      <span style=\"color: #008080; text-decoration-color: #008080; font-weight: bold\">0.000088</span>     <span style=\"color: #7f7f7f; text-decoration-color: #7f7f7f\">                   </span>\n",
       "<span style=\"color: #7fbfbf; text-decoration-color: #7fbfbf\">           </span>         yahpo/mo/rbv2_xgboost/<span style=\"color: #008080; text-decoration-color: #008080; font-weight: bold\">182</span>/<span style=\"color: #800080; text-decoration-color: #800080; font-style: italic\">None</span>        <span style=\"color: #008080; text-decoration-color: #008080; font-weight: bold\">0.010498</span>        NaN      <span style=\"color: #008080; text-decoration-color: #008080; font-weight: bold\">0.000003</span>     <span style=\"color: #7f7f7f; text-decoration-color: #7f7f7f\">                   </span>\n",
       "</pre>\n"
      ],
      "text/plain": [
       "\u001b[2;36m[19:02:22]\u001b[0m\u001b[2;36m \u001b[0m\u001b[34mINFO    \u001b[0m Lost following experiments: optimizer_id                      Nevergrad-DE  \u001b]8;id=558943;file:///home/numina/Documents/repos/CARP-S-Experiments/lib/CARP-S/carps/analysis/run_autorank.py\u001b\\\u001b[2mrun_autorank.py\u001b[0m\u001b]8;;\u001b\\\u001b[2m:\u001b[0m\u001b]8;id=334337;file:///home/numina/Documents/repos/CARP-S-Experiments/lib/CARP-S/carps/analysis/run_autorank.py#113\u001b\\\u001b[2m113\u001b[0m\u001b]8;;\u001b\\\n",
       "\u001b[2;36m           \u001b[0m         Optuna-MO  RandomSearch                                                     \u001b[2m                   \u001b[0m\n",
       "\u001b[2;36m           \u001b[0m         problem_id                                                                  \u001b[2m                   \u001b[0m\n",
       "\u001b[2;36m           \u001b[0m         yahpo/mo/iaml_ranger/\u001b[1;36m1067\u001b[0m/\u001b[3;35mNone\u001b[0m        \u001b[1;36m0.336826\u001b[0m        NaN      \u001b[1;36m0.217303\u001b[0m     \u001b[2m                   \u001b[0m\n",
       "\u001b[2;36m           \u001b[0m         yahpo/mo/iaml_ranger/\u001b[1;36m1489\u001b[0m/\u001b[3;35mNone\u001b[0m        \u001b[1;36m0.174604\u001b[0m        NaN      \u001b[1;36m0.004866\u001b[0m     \u001b[2m                   \u001b[0m\n",
       "\u001b[2;36m           \u001b[0m         yahpo/mo/iaml_xgboost/\u001b[1;36m1489\u001b[0m/\u001b[3;35mNone\u001b[0m       \u001b[1;36m0.203513\u001b[0m        NaN      \u001b[1;36m0.000394\u001b[0m     \u001b[2m                   \u001b[0m\n",
       "\u001b[2;36m           \u001b[0m         yahpo/mo/iaml_xgboost/\u001b[1;36m40981\u001b[0m/\u001b[3;35mNone\u001b[0m      \u001b[1;36m0.201979\u001b[0m        NaN      \u001b[1;36m0.001476\u001b[0m     \u001b[2m                   \u001b[0m\n",
       "\u001b[2;36m           \u001b[0m         yahpo/mo/rbv2_ranger/\u001b[1;36m375\u001b[0m/\u001b[3;35mNone\u001b[0m         \u001b[1;36m0.218806\u001b[0m        NaN      \u001b[1;36m0.049281\u001b[0m     \u001b[2m                   \u001b[0m\n",
       "\u001b[2;36m           \u001b[0m         yahpo/mo/rbv2_ranger/\u001b[1;36m40979\u001b[0m/\u001b[3;35mNone\u001b[0m       \u001b[1;36m0.197883\u001b[0m        NaN      \u001b[1;36m0.067001\u001b[0m     \u001b[2m                   \u001b[0m\n",
       "\u001b[2;36m           \u001b[0m         yahpo/mo/rbv2_ranger/\u001b[1;36m6\u001b[0m/\u001b[3;35mNone\u001b[0m           \u001b[1;36m0.110805\u001b[0m        NaN      \u001b[1;36m0.017989\u001b[0m     \u001b[2m                   \u001b[0m\n",
       "\u001b[2;36m           \u001b[0m         yahpo/mo/rbv2_super/\u001b[1;36m1053\u001b[0m/\u001b[3;35mNone\u001b[0m              NaN        NaN      \u001b[1;36m0.005830\u001b[0m     \u001b[2m                   \u001b[0m\n",
       "\u001b[2;36m           \u001b[0m         yahpo/mo/rbv2_super/\u001b[1;36m1457\u001b[0m/\u001b[3;35mNone\u001b[0m              NaN        NaN      \u001b[1;36m0.000074\u001b[0m     \u001b[2m                   \u001b[0m\n",
       "\u001b[2;36m           \u001b[0m         yahpo/mo/rbv2_super/\u001b[1;36m6\u001b[0m/\u001b[3;35mNone\u001b[0m                 NaN        NaN      \u001b[1;36m0.000088\u001b[0m     \u001b[2m                   \u001b[0m\n",
       "\u001b[2;36m           \u001b[0m         yahpo/mo/rbv2_xgboost/\u001b[1;36m182\u001b[0m/\u001b[3;35mNone\u001b[0m        \u001b[1;36m0.010498\u001b[0m        NaN      \u001b[1;36m0.000003\u001b[0m     \u001b[2m                   \u001b[0m\n"
      ]
     },
     "metadata": {},
     "output_type": "display_data"
    },
    {
     "name": "stdout",
     "output_type": "stream",
     "text": [
      "Rejecting null hypothesis that data is normal for column Nevergrad-DE (p=0.000000<0.016667)\n",
      "Rejecting null hypothesis that data is normal for column Optuna-MO (p=0.000000<0.016667)\n",
      "Rejecting null hypothesis that data is normal for column RandomSearch (p=0.000000<0.016667)\n",
      "Using Friedman test as omnibus test\n",
      "Rejecting null hypothesis that there is no difference between the distributions (p=0.000070)\n",
      "Using Nemenyi post-hoc test. Differences are significant,if the distance between the mean ranks is greater than the critical distance.\n",
      "              meanrank    median       mad  ci_lower  ci_upper effect_size  \\\n",
      "Nevergrad-DE  1.620253  0.007084  0.006598  0.001017   0.02417         0.0   \n",
      "Optuna-MO     2.075949  0.007520  0.007312  0.001679  0.033073   -0.042228   \n",
      "RandomSearch  2.303797  0.009791  0.008878  0.002452  0.024613   -0.233356   \n",
      "\n",
      "               magnitude  \n",
      "Nevergrad-DE  negligible  \n",
      "Optuna-MO     negligible  \n",
      "RandomSearch       small  \n"
     ]
    },
    {
     "name": "stderr",
     "output_type": "stream",
     "text": [
      "/home/numina/micromamba/envs/carpsexp/lib/python3.11/site-packages/autorank/_util.py:432: FutureWarning: Series.__getitem__ treating keys as positions is deprecated. In a future version, integer keys will always be treated as labels (consistent with DataFrame behavior). To access a value by position, use `ser.iloc[pos]`\n",
      "  if abs(sorted_ranks[i] - sorted_ranks[j]) <= critical_difference:\n"
     ]
    },
    {
     "data": {
      "text/html": [
       "<pre style=\"white-space:pre;overflow-x:auto;line-height:normal;font-family:Menlo,'DejaVu Sans Mono',consolas,'Courier New',monospace\"><span style=\"color: #7fbfbf; text-decoration-color: #7fbfbf\">[19:02:23] </span><span style=\"color: #000080; text-decoration-color: #000080\">INFO    </span> Lost following experiments: optimizer_id                      Nevergrad-DE  <a href=\"file:///home/numina/Documents/repos/CARP-S-Experiments/lib/CARP-S/carps/analysis/run_autorank.py\" target=\"_blank\"><span style=\"color: #7f7f7f; text-decoration-color: #7f7f7f\">run_autorank.py</span></a><span style=\"color: #7f7f7f; text-decoration-color: #7f7f7f\">:</span><a href=\"file:///home/numina/Documents/repos/CARP-S-Experiments/lib/CARP-S/carps/analysis/run_autorank.py#113\" target=\"_blank\"><span style=\"color: #7f7f7f; text-decoration-color: #7f7f7f\">113</span></a>\n",
       "<span style=\"color: #7fbfbf; text-decoration-color: #7fbfbf\">           </span>         Optuna-MO  RandomSearch                                                     <span style=\"color: #7f7f7f; text-decoration-color: #7f7f7f\">                   </span>\n",
       "<span style=\"color: #7fbfbf; text-decoration-color: #7fbfbf\">           </span>         problem_id                                                                  <span style=\"color: #7f7f7f; text-decoration-color: #7f7f7f\">                   </span>\n",
       "<span style=\"color: #7fbfbf; text-decoration-color: #7fbfbf\">           </span>         yahpo/mo/iaml_ranger/<span style=\"color: #008080; text-decoration-color: #008080; font-weight: bold\">1489</span>/<span style=\"color: #800080; text-decoration-color: #800080; font-style: italic\">None</span>        <span style=\"color: #008080; text-decoration-color: #008080; font-weight: bold\">0.174604</span>        NaN      <span style=\"color: #008080; text-decoration-color: #008080; font-weight: bold\">0.004866</span>     <span style=\"color: #7f7f7f; text-decoration-color: #7f7f7f\">                   </span>\n",
       "<span style=\"color: #7fbfbf; text-decoration-color: #7fbfbf\">           </span>         yahpo/mo/iaml_super/<span style=\"color: #008080; text-decoration-color: #008080; font-weight: bold\">1067</span>/<span style=\"color: #800080; text-decoration-color: #800080; font-style: italic\">None</span>              NaN        NaN      <span style=\"color: #008080; text-decoration-color: #008080; font-weight: bold\">0.000075</span>     <span style=\"color: #7f7f7f; text-decoration-color: #7f7f7f\">                   </span>\n",
       "<span style=\"color: #7fbfbf; text-decoration-color: #7fbfbf\">           </span>         yahpo/mo/iaml_super/<span style=\"color: #008080; text-decoration-color: #008080; font-weight: bold\">1489</span>/<span style=\"color: #800080; text-decoration-color: #800080; font-style: italic\">None</span>              NaN        NaN      <span style=\"color: #008080; text-decoration-color: #008080; font-weight: bold\">0.000240</span>     <span style=\"color: #7f7f7f; text-decoration-color: #7f7f7f\">                   </span>\n",
       "<span style=\"color: #7fbfbf; text-decoration-color: #7fbfbf\">           </span>         yahpo/mo/iaml_xgboost/<span style=\"color: #008080; text-decoration-color: #008080; font-weight: bold\">40981</span>/<span style=\"color: #800080; text-decoration-color: #800080; font-style: italic\">None</span>      <span style=\"color: #008080; text-decoration-color: #008080; font-weight: bold\">0.201979</span>        NaN      <span style=\"color: #008080; text-decoration-color: #008080; font-weight: bold\">0.001476</span>     <span style=\"color: #7f7f7f; text-decoration-color: #7f7f7f\">                   </span>\n",
       "<span style=\"color: #7fbfbf; text-decoration-color: #7fbfbf\">           </span>         yahpo/mo/rbv2_ranger/<span style=\"color: #008080; text-decoration-color: #008080; font-weight: bold\">375</span>/<span style=\"color: #800080; text-decoration-color: #800080; font-style: italic\">None</span>         <span style=\"color: #008080; text-decoration-color: #008080; font-weight: bold\">0.218806</span>        NaN      <span style=\"color: #008080; text-decoration-color: #008080; font-weight: bold\">0.049281</span>     <span style=\"color: #7f7f7f; text-decoration-color: #7f7f7f\">                   </span>\n",
       "<span style=\"color: #7fbfbf; text-decoration-color: #7fbfbf\">           </span>         yahpo/mo/rbv2_ranger/<span style=\"color: #008080; text-decoration-color: #008080; font-weight: bold\">40979</span>/<span style=\"color: #800080; text-decoration-color: #800080; font-style: italic\">None</span>       <span style=\"color: #008080; text-decoration-color: #008080; font-weight: bold\">0.197883</span>        NaN      <span style=\"color: #008080; text-decoration-color: #008080; font-weight: bold\">0.067001</span>     <span style=\"color: #7f7f7f; text-decoration-color: #7f7f7f\">                   </span>\n",
       "<span style=\"color: #7fbfbf; text-decoration-color: #7fbfbf\">           </span>         yahpo/mo/rbv2_super/<span style=\"color: #008080; text-decoration-color: #008080; font-weight: bold\">6</span>/<span style=\"color: #800080; text-decoration-color: #800080; font-style: italic\">None</span>                 NaN        NaN      <span style=\"color: #008080; text-decoration-color: #008080; font-weight: bold\">0.000088</span>     <span style=\"color: #7f7f7f; text-decoration-color: #7f7f7f\">                   </span>\n",
       "<span style=\"color: #7fbfbf; text-decoration-color: #7fbfbf\">           </span>         yahpo/mo/rbv2_xgboost/<span style=\"color: #008080; text-decoration-color: #008080; font-weight: bold\">12</span>/<span style=\"color: #800080; text-decoration-color: #800080; font-style: italic\">None</span>         <span style=\"color: #008080; text-decoration-color: #008080; font-weight: bold\">0.040141</span>        NaN      <span style=\"color: #008080; text-decoration-color: #008080; font-weight: bold\">0.000009</span>     <span style=\"color: #7f7f7f; text-decoration-color: #7f7f7f\">                   </span>\n",
       "<span style=\"color: #7fbfbf; text-decoration-color: #7fbfbf\">           </span>         yahpo/mo/rbv2_xgboost/<span style=\"color: #008080; text-decoration-color: #008080; font-weight: bold\">28</span>/<span style=\"color: #800080; text-decoration-color: #800080; font-style: italic\">None</span>         <span style=\"color: #008080; text-decoration-color: #008080; font-weight: bold\">0.007840</span>        NaN      <span style=\"color: #008080; text-decoration-color: #008080; font-weight: bold\">0.000001</span>     <span style=\"color: #7f7f7f; text-decoration-color: #7f7f7f\">                   </span>\n",
       "</pre>\n"
      ],
      "text/plain": [
       "\u001b[2;36m[19:02:23]\u001b[0m\u001b[2;36m \u001b[0m\u001b[34mINFO    \u001b[0m Lost following experiments: optimizer_id                      Nevergrad-DE  \u001b]8;id=696826;file:///home/numina/Documents/repos/CARP-S-Experiments/lib/CARP-S/carps/analysis/run_autorank.py\u001b\\\u001b[2mrun_autorank.py\u001b[0m\u001b]8;;\u001b\\\u001b[2m:\u001b[0m\u001b]8;id=12773;file:///home/numina/Documents/repos/CARP-S-Experiments/lib/CARP-S/carps/analysis/run_autorank.py#113\u001b\\\u001b[2m113\u001b[0m\u001b]8;;\u001b\\\n",
       "\u001b[2;36m           \u001b[0m         Optuna-MO  RandomSearch                                                     \u001b[2m                   \u001b[0m\n",
       "\u001b[2;36m           \u001b[0m         problem_id                                                                  \u001b[2m                   \u001b[0m\n",
       "\u001b[2;36m           \u001b[0m         yahpo/mo/iaml_ranger/\u001b[1;36m1489\u001b[0m/\u001b[3;35mNone\u001b[0m        \u001b[1;36m0.174604\u001b[0m        NaN      \u001b[1;36m0.004866\u001b[0m     \u001b[2m                   \u001b[0m\n",
       "\u001b[2;36m           \u001b[0m         yahpo/mo/iaml_super/\u001b[1;36m1067\u001b[0m/\u001b[3;35mNone\u001b[0m              NaN        NaN      \u001b[1;36m0.000075\u001b[0m     \u001b[2m                   \u001b[0m\n",
       "\u001b[2;36m           \u001b[0m         yahpo/mo/iaml_super/\u001b[1;36m1489\u001b[0m/\u001b[3;35mNone\u001b[0m              NaN        NaN      \u001b[1;36m0.000240\u001b[0m     \u001b[2m                   \u001b[0m\n",
       "\u001b[2;36m           \u001b[0m         yahpo/mo/iaml_xgboost/\u001b[1;36m40981\u001b[0m/\u001b[3;35mNone\u001b[0m      \u001b[1;36m0.201979\u001b[0m        NaN      \u001b[1;36m0.001476\u001b[0m     \u001b[2m                   \u001b[0m\n",
       "\u001b[2;36m           \u001b[0m         yahpo/mo/rbv2_ranger/\u001b[1;36m375\u001b[0m/\u001b[3;35mNone\u001b[0m         \u001b[1;36m0.218806\u001b[0m        NaN      \u001b[1;36m0.049281\u001b[0m     \u001b[2m                   \u001b[0m\n",
       "\u001b[2;36m           \u001b[0m         yahpo/mo/rbv2_ranger/\u001b[1;36m40979\u001b[0m/\u001b[3;35mNone\u001b[0m       \u001b[1;36m0.197883\u001b[0m        NaN      \u001b[1;36m0.067001\u001b[0m     \u001b[2m                   \u001b[0m\n",
       "\u001b[2;36m           \u001b[0m         yahpo/mo/rbv2_super/\u001b[1;36m6\u001b[0m/\u001b[3;35mNone\u001b[0m                 NaN        NaN      \u001b[1;36m0.000088\u001b[0m     \u001b[2m                   \u001b[0m\n",
       "\u001b[2;36m           \u001b[0m         yahpo/mo/rbv2_xgboost/\u001b[1;36m12\u001b[0m/\u001b[3;35mNone\u001b[0m         \u001b[1;36m0.040141\u001b[0m        NaN      \u001b[1;36m0.000009\u001b[0m     \u001b[2m                   \u001b[0m\n",
       "\u001b[2;36m           \u001b[0m         yahpo/mo/rbv2_xgboost/\u001b[1;36m28\u001b[0m/\u001b[3;35mNone\u001b[0m         \u001b[1;36m0.007840\u001b[0m        NaN      \u001b[1;36m0.000001\u001b[0m     \u001b[2m                   \u001b[0m\n"
      ]
     },
     "metadata": {},
     "output_type": "display_data"
    },
    {
     "name": "stdout",
     "output_type": "stream",
     "text": [
      "Rejecting null hypothesis that data is normal for column Nevergrad-DE (p=0.000000<0.016667)\n",
      "Rejecting null hypothesis that data is normal for column Optuna-MO (p=0.000000<0.016667)\n",
      "Rejecting null hypothesis that data is normal for column RandomSearch (p=0.000000<0.016667)\n",
      "Using Friedman test as omnibus test\n",
      "Rejecting null hypothesis that there is no difference between the distributions (p=0.000098)\n",
      "Using Nemenyi post-hoc test. Differences are significant,if the distance between the mean ranks is greater than the critical distance.\n",
      "              meanrank    median       mad  ci_lower  ci_upper effect_size  \\\n",
      "Nevergrad-DE  1.658537  0.007844  0.007784  0.002258  0.064612         0.0   \n",
      "Optuna-MO     2.012195  0.009641  0.009606  0.003549  0.053638   -0.138652   \n",
      "RandomSearch  2.329268  0.011087   0.01099  0.005451  0.068263   -0.229704   \n",
      "\n",
      "               magnitude  \n",
      "Nevergrad-DE  negligible  \n",
      "Optuna-MO     negligible  \n",
      "RandomSearch       small  \n"
     ]
    },
    {
     "name": "stderr",
     "output_type": "stream",
     "text": [
      "/home/numina/micromamba/envs/carpsexp/lib/python3.11/site-packages/autorank/_util.py:432: FutureWarning: Series.__getitem__ treating keys as positions is deprecated. In a future version, integer keys will always be treated as labels (consistent with DataFrame behavior). To access a value by position, use `ser.iloc[pos]`\n",
      "  if abs(sorted_ranks[i] - sorted_ranks[j]) <= critical_difference:\n"
     ]
    },
    {
     "data": {
      "text/html": [
       "<pre style=\"white-space:pre;overflow-x:auto;line-height:normal;font-family:Menlo,'DejaVu Sans Mono',consolas,'Courier New',monospace\"><span style=\"color: #7fbfbf; text-decoration-color: #7fbfbf\">[19:02:24] </span><span style=\"color: #000080; text-decoration-color: #000080\">INFO    </span> Lost following experiments: optimizer_id                      Nevergrad-DE  <a href=\"file:///home/numina/Documents/repos/CARP-S-Experiments/lib/CARP-S/carps/analysis/run_autorank.py\" target=\"_blank\"><span style=\"color: #7f7f7f; text-decoration-color: #7f7f7f\">run_autorank.py</span></a><span style=\"color: #7f7f7f; text-decoration-color: #7f7f7f\">:</span><a href=\"file:///home/numina/Documents/repos/CARP-S-Experiments/lib/CARP-S/carps/analysis/run_autorank.py#113\" target=\"_blank\"><span style=\"color: #7f7f7f; text-decoration-color: #7f7f7f\">113</span></a>\n",
       "<span style=\"color: #7fbfbf; text-decoration-color: #7fbfbf\">           </span>         Optuna-MO  RandomSearch                                                     <span style=\"color: #7f7f7f; text-decoration-color: #7f7f7f\">                   </span>\n",
       "<span style=\"color: #7fbfbf; text-decoration-color: #7fbfbf\">           </span>         problem_id                                                                  <span style=\"color: #7f7f7f; text-decoration-color: #7f7f7f\">                   </span>\n",
       "<span style=\"color: #7fbfbf; text-decoration-color: #7fbfbf\">           </span>         yahpo/mo/iaml_ranger/<span style=\"color: #008080; text-decoration-color: #008080; font-weight: bold\">1067</span>/<span style=\"color: #800080; text-decoration-color: #800080; font-style: italic\">None</span>        <span style=\"color: #008080; text-decoration-color: #008080; font-weight: bold\">0.336826</span>        NaN      <span style=\"color: #008080; text-decoration-color: #008080; font-weight: bold\">0.217303</span>     <span style=\"color: #7f7f7f; text-decoration-color: #7f7f7f\">                   </span>\n",
       "<span style=\"color: #7fbfbf; text-decoration-color: #7fbfbf\">           </span>         yahpo/mo/iaml_super/<span style=\"color: #008080; text-decoration-color: #008080; font-weight: bold\">1489</span>/<span style=\"color: #800080; text-decoration-color: #800080; font-style: italic\">None</span>              NaN        NaN      <span style=\"color: #008080; text-decoration-color: #008080; font-weight: bold\">0.000240</span>     <span style=\"color: #7f7f7f; text-decoration-color: #7f7f7f\">                   </span>\n",
       "<span style=\"color: #7fbfbf; text-decoration-color: #7fbfbf\">           </span>         yahpo/mo/iaml_xgboost/<span style=\"color: #008080; text-decoration-color: #008080; font-weight: bold\">1489</span>/<span style=\"color: #800080; text-decoration-color: #800080; font-style: italic\">None</span>       <span style=\"color: #008080; text-decoration-color: #008080; font-weight: bold\">0.203513</span>        NaN      <span style=\"color: #008080; text-decoration-color: #008080; font-weight: bold\">0.000394</span>     <span style=\"color: #7f7f7f; text-decoration-color: #7f7f7f\">                   </span>\n",
       "<span style=\"color: #7fbfbf; text-decoration-color: #7fbfbf\">           </span>         yahpo/mo/iaml_xgboost/<span style=\"color: #008080; text-decoration-color: #008080; font-weight: bold\">40981</span>/<span style=\"color: #800080; text-decoration-color: #800080; font-style: italic\">None</span>      <span style=\"color: #008080; text-decoration-color: #008080; font-weight: bold\">0.201979</span>        NaN      <span style=\"color: #008080; text-decoration-color: #008080; font-weight: bold\">0.001476</span>     <span style=\"color: #7f7f7f; text-decoration-color: #7f7f7f\">                   </span>\n",
       "<span style=\"color: #7fbfbf; text-decoration-color: #7fbfbf\">           </span>         yahpo/mo/rbv2_ranger/<span style=\"color: #008080; text-decoration-color: #008080; font-weight: bold\">40979</span>/<span style=\"color: #800080; text-decoration-color: #800080; font-style: italic\">None</span>       <span style=\"color: #008080; text-decoration-color: #008080; font-weight: bold\">0.197883</span>        NaN      <span style=\"color: #008080; text-decoration-color: #008080; font-weight: bold\">0.067001</span>     <span style=\"color: #7f7f7f; text-decoration-color: #7f7f7f\">                   </span>\n",
       "<span style=\"color: #7fbfbf; text-decoration-color: #7fbfbf\">           </span>         yahpo/mo/rbv2_ranger/<span style=\"color: #008080; text-decoration-color: #008080; font-weight: bold\">6</span>/<span style=\"color: #800080; text-decoration-color: #800080; font-style: italic\">None</span>           <span style=\"color: #008080; text-decoration-color: #008080; font-weight: bold\">0.110805</span>        NaN      <span style=\"color: #008080; text-decoration-color: #008080; font-weight: bold\">0.017989</span>     <span style=\"color: #7f7f7f; text-decoration-color: #7f7f7f\">                   </span>\n",
       "<span style=\"color: #7fbfbf; text-decoration-color: #7fbfbf\">           </span>         yahpo/mo/rbv2_super/<span style=\"color: #008080; text-decoration-color: #008080; font-weight: bold\">1053</span>/<span style=\"color: #800080; text-decoration-color: #800080; font-style: italic\">None</span>              NaN        NaN      <span style=\"color: #008080; text-decoration-color: #008080; font-weight: bold\">0.005830</span>     <span style=\"color: #7f7f7f; text-decoration-color: #7f7f7f\">                   </span>\n",
       "<span style=\"color: #7fbfbf; text-decoration-color: #7fbfbf\">           </span>         yahpo/mo/rbv2_super/<span style=\"color: #008080; text-decoration-color: #008080; font-weight: bold\">1457</span>/<span style=\"color: #800080; text-decoration-color: #800080; font-style: italic\">None</span>              NaN        NaN      <span style=\"color: #008080; text-decoration-color: #008080; font-weight: bold\">0.000074</span>     <span style=\"color: #7f7f7f; text-decoration-color: #7f7f7f\">                   </span>\n",
       "<span style=\"color: #7fbfbf; text-decoration-color: #7fbfbf\">           </span>         yahpo/mo/rbv2_super/<span style=\"color: #008080; text-decoration-color: #008080; font-weight: bold\">6</span>/<span style=\"color: #800080; text-decoration-color: #800080; font-style: italic\">None</span>                 NaN        NaN      <span style=\"color: #008080; text-decoration-color: #008080; font-weight: bold\">0.000088</span>     <span style=\"color: #7f7f7f; text-decoration-color: #7f7f7f\">                   </span>\n",
       "<span style=\"color: #7fbfbf; text-decoration-color: #7fbfbf\">           </span>         yahpo/mo/rbv2_xgboost/<span style=\"color: #008080; text-decoration-color: #008080; font-weight: bold\">182</span>/<span style=\"color: #800080; text-decoration-color: #800080; font-style: italic\">None</span>        <span style=\"color: #008080; text-decoration-color: #008080; font-weight: bold\">0.010498</span>        NaN      <span style=\"color: #008080; text-decoration-color: #008080; font-weight: bold\">0.000003</span>     <span style=\"color: #7f7f7f; text-decoration-color: #7f7f7f\">                   </span>\n",
       "<span style=\"color: #7fbfbf; text-decoration-color: #7fbfbf\">           </span>         yahpo/mo/rbv2_xgboost/<span style=\"color: #008080; text-decoration-color: #008080; font-weight: bold\">28</span>/<span style=\"color: #800080; text-decoration-color: #800080; font-style: italic\">None</span>         <span style=\"color: #008080; text-decoration-color: #008080; font-weight: bold\">0.007840</span>        NaN      <span style=\"color: #008080; text-decoration-color: #008080; font-weight: bold\">0.000001</span>     <span style=\"color: #7f7f7f; text-decoration-color: #7f7f7f\">                   </span>\n",
       "</pre>\n"
      ],
      "text/plain": [
       "\u001b[2;36m[19:02:24]\u001b[0m\u001b[2;36m \u001b[0m\u001b[34mINFO    \u001b[0m Lost following experiments: optimizer_id                      Nevergrad-DE  \u001b]8;id=191777;file:///home/numina/Documents/repos/CARP-S-Experiments/lib/CARP-S/carps/analysis/run_autorank.py\u001b\\\u001b[2mrun_autorank.py\u001b[0m\u001b]8;;\u001b\\\u001b[2m:\u001b[0m\u001b]8;id=869984;file:///home/numina/Documents/repos/CARP-S-Experiments/lib/CARP-S/carps/analysis/run_autorank.py#113\u001b\\\u001b[2m113\u001b[0m\u001b]8;;\u001b\\\n",
       "\u001b[2;36m           \u001b[0m         Optuna-MO  RandomSearch                                                     \u001b[2m                   \u001b[0m\n",
       "\u001b[2;36m           \u001b[0m         problem_id                                                                  \u001b[2m                   \u001b[0m\n",
       "\u001b[2;36m           \u001b[0m         yahpo/mo/iaml_ranger/\u001b[1;36m1067\u001b[0m/\u001b[3;35mNone\u001b[0m        \u001b[1;36m0.336826\u001b[0m        NaN      \u001b[1;36m0.217303\u001b[0m     \u001b[2m                   \u001b[0m\n",
       "\u001b[2;36m           \u001b[0m         yahpo/mo/iaml_super/\u001b[1;36m1489\u001b[0m/\u001b[3;35mNone\u001b[0m              NaN        NaN      \u001b[1;36m0.000240\u001b[0m     \u001b[2m                   \u001b[0m\n",
       "\u001b[2;36m           \u001b[0m         yahpo/mo/iaml_xgboost/\u001b[1;36m1489\u001b[0m/\u001b[3;35mNone\u001b[0m       \u001b[1;36m0.203513\u001b[0m        NaN      \u001b[1;36m0.000394\u001b[0m     \u001b[2m                   \u001b[0m\n",
       "\u001b[2;36m           \u001b[0m         yahpo/mo/iaml_xgboost/\u001b[1;36m40981\u001b[0m/\u001b[3;35mNone\u001b[0m      \u001b[1;36m0.201979\u001b[0m        NaN      \u001b[1;36m0.001476\u001b[0m     \u001b[2m                   \u001b[0m\n",
       "\u001b[2;36m           \u001b[0m         yahpo/mo/rbv2_ranger/\u001b[1;36m40979\u001b[0m/\u001b[3;35mNone\u001b[0m       \u001b[1;36m0.197883\u001b[0m        NaN      \u001b[1;36m0.067001\u001b[0m     \u001b[2m                   \u001b[0m\n",
       "\u001b[2;36m           \u001b[0m         yahpo/mo/rbv2_ranger/\u001b[1;36m6\u001b[0m/\u001b[3;35mNone\u001b[0m           \u001b[1;36m0.110805\u001b[0m        NaN      \u001b[1;36m0.017989\u001b[0m     \u001b[2m                   \u001b[0m\n",
       "\u001b[2;36m           \u001b[0m         yahpo/mo/rbv2_super/\u001b[1;36m1053\u001b[0m/\u001b[3;35mNone\u001b[0m              NaN        NaN      \u001b[1;36m0.005830\u001b[0m     \u001b[2m                   \u001b[0m\n",
       "\u001b[2;36m           \u001b[0m         yahpo/mo/rbv2_super/\u001b[1;36m1457\u001b[0m/\u001b[3;35mNone\u001b[0m              NaN        NaN      \u001b[1;36m0.000074\u001b[0m     \u001b[2m                   \u001b[0m\n",
       "\u001b[2;36m           \u001b[0m         yahpo/mo/rbv2_super/\u001b[1;36m6\u001b[0m/\u001b[3;35mNone\u001b[0m                 NaN        NaN      \u001b[1;36m0.000088\u001b[0m     \u001b[2m                   \u001b[0m\n",
       "\u001b[2;36m           \u001b[0m         yahpo/mo/rbv2_xgboost/\u001b[1;36m182\u001b[0m/\u001b[3;35mNone\u001b[0m        \u001b[1;36m0.010498\u001b[0m        NaN      \u001b[1;36m0.000003\u001b[0m     \u001b[2m                   \u001b[0m\n",
       "\u001b[2;36m           \u001b[0m         yahpo/mo/rbv2_xgboost/\u001b[1;36m28\u001b[0m/\u001b[3;35mNone\u001b[0m         \u001b[1;36m0.007840\u001b[0m        NaN      \u001b[1;36m0.000001\u001b[0m     \u001b[2m                   \u001b[0m\n"
      ]
     },
     "metadata": {},
     "output_type": "display_data"
    },
    {
     "name": "stdout",
     "output_type": "stream",
     "text": [
      "Rejecting null hypothesis that data is normal for column Nevergrad-DE (p=0.000000<0.016667)\n",
      "Rejecting null hypothesis that data is normal for column Optuna-MO (p=0.000000<0.016667)\n",
      "Rejecting null hypothesis that data is normal for column RandomSearch (p=0.000000<0.016667)\n",
      "Using Friedman test as omnibus test\n",
      "Rejecting null hypothesis that there is no difference between the distributions (p=0.000472)\n",
      "Using Nemenyi post-hoc test. Differences are significant,if the distance between the mean ranks is greater than the critical distance.\n",
      "              meanrank    median       mad  ci_lower  ci_upper effect_size  \\\n",
      "Nevergrad-DE  1.698630  0.008545  0.008241  0.002486  0.070688         0.0   \n",
      "Optuna-MO     1.958904  0.011259  0.011222  0.003011  0.065094   -0.185947   \n",
      "RandomSearch  2.342466  0.011273  0.011086  0.005451   0.07539   -0.188411   \n",
      "\n",
      "               magnitude  \n",
      "Nevergrad-DE  negligible  \n",
      "Optuna-MO     negligible  \n",
      "RandomSearch  negligible  \n"
     ]
    },
    {
     "name": "stderr",
     "output_type": "stream",
     "text": [
      "/home/numina/micromamba/envs/carpsexp/lib/python3.11/site-packages/autorank/_util.py:432: FutureWarning: Series.__getitem__ treating keys as positions is deprecated. In a future version, integer keys will always be treated as labels (consistent with DataFrame behavior). To access a value by position, use `ser.iloc[pos]`\n",
      "  if abs(sorted_ranks[i] - sorted_ranks[j]) <= critical_difference:\n"
     ]
    },
    {
     "data": {
      "text/html": [
       "<pre style=\"white-space:pre;overflow-x:auto;line-height:normal;font-family:Menlo,'DejaVu Sans Mono',consolas,'Courier New',monospace\"><span style=\"color: #7fbfbf; text-decoration-color: #7fbfbf\">[19:02:25] </span><span style=\"color: #000080; text-decoration-color: #000080\">INFO    </span> Lost following experiments: optimizer_id                     Nevergrad-DE   <a href=\"file:///home/numina/Documents/repos/CARP-S-Experiments/lib/CARP-S/carps/analysis/run_autorank.py\" target=\"_blank\"><span style=\"color: #7f7f7f; text-decoration-color: #7f7f7f\">run_autorank.py</span></a><span style=\"color: #7f7f7f; text-decoration-color: #7f7f7f\">:</span><a href=\"file:///home/numina/Documents/repos/CARP-S-Experiments/lib/CARP-S/carps/analysis/run_autorank.py#113\" target=\"_blank\"><span style=\"color: #7f7f7f; text-decoration-color: #7f7f7f\">113</span></a>\n",
       "<span style=\"color: #7fbfbf; text-decoration-color: #7fbfbf\">           </span>         Optuna-MO  RandomSearch                                                     <span style=\"color: #7f7f7f; text-decoration-color: #7f7f7f\">                   </span>\n",
       "<span style=\"color: #7fbfbf; text-decoration-color: #7fbfbf\">           </span>         problem_id                                                                  <span style=\"color: #7f7f7f; text-decoration-color: #7f7f7f\">                   </span>\n",
       "<span style=\"color: #7fbfbf; text-decoration-color: #7fbfbf\">           </span>         yahpo/mo/iaml_ranger/<span style=\"color: #008080; text-decoration-color: #008080; font-weight: bold\">1489</span>/<span style=\"color: #800080; text-decoration-color: #800080; font-style: italic\">None</span>       <span style=\"color: #008080; text-decoration-color: #008080; font-weight: bold\">0.174604</span>        NaN      <span style=\"color: #008080; text-decoration-color: #008080; font-weight: bold\">0.004866</span>      <span style=\"color: #7f7f7f; text-decoration-color: #7f7f7f\">                   </span>\n",
       "<span style=\"color: #7fbfbf; text-decoration-color: #7fbfbf\">           </span>         yahpo/mo/iaml_super/<span style=\"color: #008080; text-decoration-color: #008080; font-weight: bold\">1067</span>/<span style=\"color: #800080; text-decoration-color: #800080; font-style: italic\">None</span>             NaN        NaN      <span style=\"color: #008080; text-decoration-color: #008080; font-weight: bold\">0.000075</span>      <span style=\"color: #7f7f7f; text-decoration-color: #7f7f7f\">                   </span>\n",
       "<span style=\"color: #7fbfbf; text-decoration-color: #7fbfbf\">           </span>         yahpo/mo/iaml_xgboost/<span style=\"color: #008080; text-decoration-color: #008080; font-weight: bold\">1489</span>/<span style=\"color: #800080; text-decoration-color: #800080; font-style: italic\">None</span>      <span style=\"color: #008080; text-decoration-color: #008080; font-weight: bold\">0.203513</span>        NaN      <span style=\"color: #008080; text-decoration-color: #008080; font-weight: bold\">0.000394</span>      <span style=\"color: #7f7f7f; text-decoration-color: #7f7f7f\">                   </span>\n",
       "<span style=\"color: #7fbfbf; text-decoration-color: #7fbfbf\">           </span>         yahpo/mo/rbv2_ranger/<span style=\"color: #008080; text-decoration-color: #008080; font-weight: bold\">375</span>/<span style=\"color: #800080; text-decoration-color: #800080; font-style: italic\">None</span>        <span style=\"color: #008080; text-decoration-color: #008080; font-weight: bold\">0.218806</span>        NaN      <span style=\"color: #008080; text-decoration-color: #008080; font-weight: bold\">0.049281</span>      <span style=\"color: #7f7f7f; text-decoration-color: #7f7f7f\">                   </span>\n",
       "<span style=\"color: #7fbfbf; text-decoration-color: #7fbfbf\">           </span>         yahpo/mo/rbv2_super/<span style=\"color: #008080; text-decoration-color: #008080; font-weight: bold\">1457</span>/<span style=\"color: #800080; text-decoration-color: #800080; font-style: italic\">None</span>             NaN        NaN      <span style=\"color: #008080; text-decoration-color: #008080; font-weight: bold\">0.000074</span>      <span style=\"color: #7f7f7f; text-decoration-color: #7f7f7f\">                   </span>\n",
       "<span style=\"color: #7fbfbf; text-decoration-color: #7fbfbf\">           </span>         yahpo/mo/rbv2_xgboost/<span style=\"color: #008080; text-decoration-color: #008080; font-weight: bold\">12</span>/<span style=\"color: #800080; text-decoration-color: #800080; font-style: italic\">None</span>        <span style=\"color: #008080; text-decoration-color: #008080; font-weight: bold\">0.040141</span>        NaN      <span style=\"color: #008080; text-decoration-color: #008080; font-weight: bold\">0.000009</span>      <span style=\"color: #7f7f7f; text-decoration-color: #7f7f7f\">                   </span>\n",
       "</pre>\n"
      ],
      "text/plain": [
       "\u001b[2;36m[19:02:25]\u001b[0m\u001b[2;36m \u001b[0m\u001b[34mINFO    \u001b[0m Lost following experiments: optimizer_id                     Nevergrad-DE   \u001b]8;id=222890;file:///home/numina/Documents/repos/CARP-S-Experiments/lib/CARP-S/carps/analysis/run_autorank.py\u001b\\\u001b[2mrun_autorank.py\u001b[0m\u001b]8;;\u001b\\\u001b[2m:\u001b[0m\u001b]8;id=269300;file:///home/numina/Documents/repos/CARP-S-Experiments/lib/CARP-S/carps/analysis/run_autorank.py#113\u001b\\\u001b[2m113\u001b[0m\u001b]8;;\u001b\\\n",
       "\u001b[2;36m           \u001b[0m         Optuna-MO  RandomSearch                                                     \u001b[2m                   \u001b[0m\n",
       "\u001b[2;36m           \u001b[0m         problem_id                                                                  \u001b[2m                   \u001b[0m\n",
       "\u001b[2;36m           \u001b[0m         yahpo/mo/iaml_ranger/\u001b[1;36m1489\u001b[0m/\u001b[3;35mNone\u001b[0m       \u001b[1;36m0.174604\u001b[0m        NaN      \u001b[1;36m0.004866\u001b[0m      \u001b[2m                   \u001b[0m\n",
       "\u001b[2;36m           \u001b[0m         yahpo/mo/iaml_super/\u001b[1;36m1067\u001b[0m/\u001b[3;35mNone\u001b[0m             NaN        NaN      \u001b[1;36m0.000075\u001b[0m      \u001b[2m                   \u001b[0m\n",
       "\u001b[2;36m           \u001b[0m         yahpo/mo/iaml_xgboost/\u001b[1;36m1489\u001b[0m/\u001b[3;35mNone\u001b[0m      \u001b[1;36m0.203513\u001b[0m        NaN      \u001b[1;36m0.000394\u001b[0m      \u001b[2m                   \u001b[0m\n",
       "\u001b[2;36m           \u001b[0m         yahpo/mo/rbv2_ranger/\u001b[1;36m375\u001b[0m/\u001b[3;35mNone\u001b[0m        \u001b[1;36m0.218806\u001b[0m        NaN      \u001b[1;36m0.049281\u001b[0m      \u001b[2m                   \u001b[0m\n",
       "\u001b[2;36m           \u001b[0m         yahpo/mo/rbv2_super/\u001b[1;36m1457\u001b[0m/\u001b[3;35mNone\u001b[0m             NaN        NaN      \u001b[1;36m0.000074\u001b[0m      \u001b[2m                   \u001b[0m\n",
       "\u001b[2;36m           \u001b[0m         yahpo/mo/rbv2_xgboost/\u001b[1;36m12\u001b[0m/\u001b[3;35mNone\u001b[0m        \u001b[1;36m0.040141\u001b[0m        NaN      \u001b[1;36m0.000009\u001b[0m      \u001b[2m                   \u001b[0m\n"
      ]
     },
     "metadata": {},
     "output_type": "display_data"
    },
    {
     "name": "stdout",
     "output_type": "stream",
     "text": [
      "Rejecting null hypothesis that data is normal for column Nevergrad-DE (p=0.000000<0.016667)\n",
      "Rejecting null hypothesis that data is normal for column Optuna-MO (p=0.000000<0.016667)\n",
      "Rejecting null hypothesis that data is normal for column RandomSearch (p=0.000000<0.016667)\n",
      "Using Friedman test as omnibus test\n",
      "Rejecting null hypothesis that there is no difference between the distributions (p=0.000017)\n",
      "Using Nemenyi post-hoc test. Differences are significant,if the distance between the mean ranks is greater than the critical distance.\n",
      "              meanrank    median       mad  ci_lower  ci_upper effect_size  \\\n",
      "Nevergrad-DE  1.594937  0.007476  0.007136  0.001327  0.034136         0.0   \n",
      "Optuna-MO     2.075949  0.008468  0.008436  0.002813  0.053638   -0.085711   \n",
      "RandomSearch  2.329114  0.010683  0.010371  0.002854  0.051639   -0.243042   \n",
      "\n",
      "               magnitude  \n",
      "Nevergrad-DE  negligible  \n",
      "Optuna-MO     negligible  \n",
      "RandomSearch       small  \n"
     ]
    },
    {
     "name": "stderr",
     "output_type": "stream",
     "text": [
      "/home/numina/micromamba/envs/carpsexp/lib/python3.11/site-packages/autorank/_util.py:432: FutureWarning: Series.__getitem__ treating keys as positions is deprecated. In a future version, integer keys will always be treated as labels (consistent with DataFrame behavior). To access a value by position, use `ser.iloc[pos]`\n",
      "  if abs(sorted_ranks[i] - sorted_ranks[j]) <= critical_difference:\n"
     ]
    },
    {
     "data": {
      "text/html": [
       "<pre style=\"white-space:pre;overflow-x:auto;line-height:normal;font-family:Menlo,'DejaVu Sans Mono',consolas,'Courier New',monospace\"><span style=\"color: #7fbfbf; text-decoration-color: #7fbfbf\">[19:02:26] </span><span style=\"color: #000080; text-decoration-color: #000080\">INFO    </span> Lost following experiments: optimizer_id                      Nevergrad-DE  <a href=\"file:///home/numina/Documents/repos/CARP-S-Experiments/lib/CARP-S/carps/analysis/run_autorank.py\" target=\"_blank\"><span style=\"color: #7f7f7f; text-decoration-color: #7f7f7f\">run_autorank.py</span></a><span style=\"color: #7f7f7f; text-decoration-color: #7f7f7f\">:</span><a href=\"file:///home/numina/Documents/repos/CARP-S-Experiments/lib/CARP-S/carps/analysis/run_autorank.py#113\" target=\"_blank\"><span style=\"color: #7f7f7f; text-decoration-color: #7f7f7f\">113</span></a>\n",
       "<span style=\"color: #7fbfbf; text-decoration-color: #7fbfbf\">           </span>         Optuna-MO  RandomSearch                                                     <span style=\"color: #7f7f7f; text-decoration-color: #7f7f7f\">                   </span>\n",
       "<span style=\"color: #7fbfbf; text-decoration-color: #7fbfbf\">           </span>         problem_id                                                                  <span style=\"color: #7f7f7f; text-decoration-color: #7f7f7f\">                   </span>\n",
       "<span style=\"color: #7fbfbf; text-decoration-color: #7fbfbf\">           </span>         yahpo/mo/iaml_ranger/<span style=\"color: #008080; text-decoration-color: #008080; font-weight: bold\">1067</span>/<span style=\"color: #800080; text-decoration-color: #800080; font-style: italic\">None</span>        <span style=\"color: #008080; text-decoration-color: #008080; font-weight: bold\">0.336826</span>        NaN      <span style=\"color: #008080; text-decoration-color: #008080; font-weight: bold\">0.217303</span>     <span style=\"color: #7f7f7f; text-decoration-color: #7f7f7f\">                   </span>\n",
       "<span style=\"color: #7fbfbf; text-decoration-color: #7fbfbf\">           </span>         yahpo/mo/iaml_ranger/<span style=\"color: #008080; text-decoration-color: #008080; font-weight: bold\">1489</span>/<span style=\"color: #800080; text-decoration-color: #800080; font-style: italic\">None</span>        <span style=\"color: #008080; text-decoration-color: #008080; font-weight: bold\">0.174604</span>        NaN      <span style=\"color: #008080; text-decoration-color: #008080; font-weight: bold\">0.004866</span>     <span style=\"color: #7f7f7f; text-decoration-color: #7f7f7f\">                   </span>\n",
       "<span style=\"color: #7fbfbf; text-decoration-color: #7fbfbf\">           </span>         yahpo/mo/iaml_super/<span style=\"color: #008080; text-decoration-color: #008080; font-weight: bold\">1489</span>/<span style=\"color: #800080; text-decoration-color: #800080; font-style: italic\">None</span>              NaN        NaN      <span style=\"color: #008080; text-decoration-color: #008080; font-weight: bold\">0.000240</span>     <span style=\"color: #7f7f7f; text-decoration-color: #7f7f7f\">                   </span>\n",
       "<span style=\"color: #7fbfbf; text-decoration-color: #7fbfbf\">           </span>         yahpo/mo/iaml_xgboost/<span style=\"color: #008080; text-decoration-color: #008080; font-weight: bold\">40981</span>/<span style=\"color: #800080; text-decoration-color: #800080; font-style: italic\">None</span>      <span style=\"color: #008080; text-decoration-color: #008080; font-weight: bold\">0.201979</span>        NaN      <span style=\"color: #008080; text-decoration-color: #008080; font-weight: bold\">0.001476</span>     <span style=\"color: #7f7f7f; text-decoration-color: #7f7f7f\">                   </span>\n",
       "<span style=\"color: #7fbfbf; text-decoration-color: #7fbfbf\">           </span>         yahpo/mo/rbv2_ranger/<span style=\"color: #008080; text-decoration-color: #008080; font-weight: bold\">375</span>/<span style=\"color: #800080; text-decoration-color: #800080; font-style: italic\">None</span>         <span style=\"color: #008080; text-decoration-color: #008080; font-weight: bold\">0.218806</span>        NaN      <span style=\"color: #008080; text-decoration-color: #008080; font-weight: bold\">0.049281</span>     <span style=\"color: #7f7f7f; text-decoration-color: #7f7f7f\">                   </span>\n",
       "<span style=\"color: #7fbfbf; text-decoration-color: #7fbfbf\">           </span>         yahpo/mo/rbv2_super/<span style=\"color: #008080; text-decoration-color: #008080; font-weight: bold\">1053</span>/<span style=\"color: #800080; text-decoration-color: #800080; font-style: italic\">None</span>              NaN        NaN      <span style=\"color: #008080; text-decoration-color: #008080; font-weight: bold\">0.005830</span>     <span style=\"color: #7f7f7f; text-decoration-color: #7f7f7f\">                   </span>\n",
       "<span style=\"color: #7fbfbf; text-decoration-color: #7fbfbf\">           </span>         yahpo/mo/rbv2_super/<span style=\"color: #008080; text-decoration-color: #008080; font-weight: bold\">6</span>/<span style=\"color: #800080; text-decoration-color: #800080; font-style: italic\">None</span>                 NaN        NaN      <span style=\"color: #008080; text-decoration-color: #008080; font-weight: bold\">0.000088</span>     <span style=\"color: #7f7f7f; text-decoration-color: #7f7f7f\">                   </span>\n",
       "<span style=\"color: #7fbfbf; text-decoration-color: #7fbfbf\">           </span>         yahpo/mo/rbv2_xgboost/<span style=\"color: #008080; text-decoration-color: #008080; font-weight: bold\">12</span>/<span style=\"color: #800080; text-decoration-color: #800080; font-style: italic\">None</span>         <span style=\"color: #008080; text-decoration-color: #008080; font-weight: bold\">0.040141</span>        NaN      <span style=\"color: #008080; text-decoration-color: #008080; font-weight: bold\">0.000009</span>     <span style=\"color: #7f7f7f; text-decoration-color: #7f7f7f\">                   </span>\n",
       "<span style=\"color: #7fbfbf; text-decoration-color: #7fbfbf\">           </span>         yahpo/mo/rbv2_xgboost/<span style=\"color: #008080; text-decoration-color: #008080; font-weight: bold\">182</span>/<span style=\"color: #800080; text-decoration-color: #800080; font-style: italic\">None</span>        <span style=\"color: #008080; text-decoration-color: #008080; font-weight: bold\">0.010498</span>        NaN      <span style=\"color: #008080; text-decoration-color: #008080; font-weight: bold\">0.000003</span>     <span style=\"color: #7f7f7f; text-decoration-color: #7f7f7f\">                   </span>\n",
       "</pre>\n"
      ],
      "text/plain": [
       "\u001b[2;36m[19:02:26]\u001b[0m\u001b[2;36m \u001b[0m\u001b[34mINFO    \u001b[0m Lost following experiments: optimizer_id                      Nevergrad-DE  \u001b]8;id=152014;file:///home/numina/Documents/repos/CARP-S-Experiments/lib/CARP-S/carps/analysis/run_autorank.py\u001b\\\u001b[2mrun_autorank.py\u001b[0m\u001b]8;;\u001b\\\u001b[2m:\u001b[0m\u001b]8;id=719831;file:///home/numina/Documents/repos/CARP-S-Experiments/lib/CARP-S/carps/analysis/run_autorank.py#113\u001b\\\u001b[2m113\u001b[0m\u001b]8;;\u001b\\\n",
       "\u001b[2;36m           \u001b[0m         Optuna-MO  RandomSearch                                                     \u001b[2m                   \u001b[0m\n",
       "\u001b[2;36m           \u001b[0m         problem_id                                                                  \u001b[2m                   \u001b[0m\n",
       "\u001b[2;36m           \u001b[0m         yahpo/mo/iaml_ranger/\u001b[1;36m1067\u001b[0m/\u001b[3;35mNone\u001b[0m        \u001b[1;36m0.336826\u001b[0m        NaN      \u001b[1;36m0.217303\u001b[0m     \u001b[2m                   \u001b[0m\n",
       "\u001b[2;36m           \u001b[0m         yahpo/mo/iaml_ranger/\u001b[1;36m1489\u001b[0m/\u001b[3;35mNone\u001b[0m        \u001b[1;36m0.174604\u001b[0m        NaN      \u001b[1;36m0.004866\u001b[0m     \u001b[2m                   \u001b[0m\n",
       "\u001b[2;36m           \u001b[0m         yahpo/mo/iaml_super/\u001b[1;36m1489\u001b[0m/\u001b[3;35mNone\u001b[0m              NaN        NaN      \u001b[1;36m0.000240\u001b[0m     \u001b[2m                   \u001b[0m\n",
       "\u001b[2;36m           \u001b[0m         yahpo/mo/iaml_xgboost/\u001b[1;36m40981\u001b[0m/\u001b[3;35mNone\u001b[0m      \u001b[1;36m0.201979\u001b[0m        NaN      \u001b[1;36m0.001476\u001b[0m     \u001b[2m                   \u001b[0m\n",
       "\u001b[2;36m           \u001b[0m         yahpo/mo/rbv2_ranger/\u001b[1;36m375\u001b[0m/\u001b[3;35mNone\u001b[0m         \u001b[1;36m0.218806\u001b[0m        NaN      \u001b[1;36m0.049281\u001b[0m     \u001b[2m                   \u001b[0m\n",
       "\u001b[2;36m           \u001b[0m         yahpo/mo/rbv2_super/\u001b[1;36m1053\u001b[0m/\u001b[3;35mNone\u001b[0m              NaN        NaN      \u001b[1;36m0.005830\u001b[0m     \u001b[2m                   \u001b[0m\n",
       "\u001b[2;36m           \u001b[0m         yahpo/mo/rbv2_super/\u001b[1;36m6\u001b[0m/\u001b[3;35mNone\u001b[0m                 NaN        NaN      \u001b[1;36m0.000088\u001b[0m     \u001b[2m                   \u001b[0m\n",
       "\u001b[2;36m           \u001b[0m         yahpo/mo/rbv2_xgboost/\u001b[1;36m12\u001b[0m/\u001b[3;35mNone\u001b[0m         \u001b[1;36m0.040141\u001b[0m        NaN      \u001b[1;36m0.000009\u001b[0m     \u001b[2m                   \u001b[0m\n",
       "\u001b[2;36m           \u001b[0m         yahpo/mo/rbv2_xgboost/\u001b[1;36m182\u001b[0m/\u001b[3;35mNone\u001b[0m        \u001b[1;36m0.010498\u001b[0m        NaN      \u001b[1;36m0.000003\u001b[0m     \u001b[2m                   \u001b[0m\n"
      ]
     },
     "metadata": {},
     "output_type": "display_data"
    },
    {
     "name": "stdout",
     "output_type": "stream",
     "text": [
      "Rejecting null hypothesis that data is normal for column Nevergrad-DE (p=0.000000<0.016667)\n",
      "Rejecting null hypothesis that data is normal for column Optuna-MO (p=0.000000<0.016667)\n",
      "Rejecting null hypothesis that data is normal for column RandomSearch (p=0.000000<0.016667)\n",
      "Using Friedman test as omnibus test\n",
      "Rejecting null hypothesis that there is no difference between the distributions (p=0.000022)\n",
      "Using Nemenyi post-hoc test. Differences are significant,if the distance between the mean ranks is greater than the critical distance.\n",
      "              meanrank    median       mad  ci_lower  ci_upper effect_size  \\\n",
      "Nevergrad-DE  1.674699  0.007567  0.007355  0.003283  0.037349         0.0   \n",
      "Optuna-MO     1.939759  0.008966   0.00886  0.004782  0.050737   -0.115897   \n",
      "RandomSearch  2.385542  0.011200  0.010888  0.006476  0.047586   -0.263793   \n",
      "\n",
      "               magnitude  \n",
      "Nevergrad-DE  negligible  \n",
      "Optuna-MO     negligible  \n",
      "RandomSearch       small  \n"
     ]
    },
    {
     "name": "stderr",
     "output_type": "stream",
     "text": [
      "/home/numina/micromamba/envs/carpsexp/lib/python3.11/site-packages/autorank/_util.py:432: FutureWarning: Series.__getitem__ treating keys as positions is deprecated. In a future version, integer keys will always be treated as labels (consistent with DataFrame behavior). To access a value by position, use `ser.iloc[pos]`\n",
      "  if abs(sorted_ranks[i] - sorted_ranks[j]) <= critical_difference:\n"
     ]
    },
    {
     "data": {
      "text/html": [
       "<pre style=\"white-space:pre;overflow-x:auto;line-height:normal;font-family:Menlo,'DejaVu Sans Mono',consolas,'Courier New',monospace\"><span style=\"color: #7fbfbf; text-decoration-color: #7fbfbf\">[19:02:27] </span><span style=\"color: #000080; text-decoration-color: #000080\">INFO    </span> Lost following experiments: optimizer_id                      Nevergrad-DE  <a href=\"file:///home/numina/Documents/repos/CARP-S-Experiments/lib/CARP-S/carps/analysis/run_autorank.py\" target=\"_blank\"><span style=\"color: #7f7f7f; text-decoration-color: #7f7f7f\">run_autorank.py</span></a><span style=\"color: #7f7f7f; text-decoration-color: #7f7f7f\">:</span><a href=\"file:///home/numina/Documents/repos/CARP-S-Experiments/lib/CARP-S/carps/analysis/run_autorank.py#113\" target=\"_blank\"><span style=\"color: #7f7f7f; text-decoration-color: #7f7f7f\">113</span></a>\n",
       "<span style=\"color: #7fbfbf; text-decoration-color: #7fbfbf\">           </span>         Optuna-MO  RandomSearch                                                     <span style=\"color: #7f7f7f; text-decoration-color: #7f7f7f\">                   </span>\n",
       "<span style=\"color: #7fbfbf; text-decoration-color: #7fbfbf\">           </span>         problem_id                                                                  <span style=\"color: #7f7f7f; text-decoration-color: #7f7f7f\">                   </span>\n",
       "<span style=\"color: #7fbfbf; text-decoration-color: #7fbfbf\">           </span>         yahpo/mo/iaml_super/<span style=\"color: #008080; text-decoration-color: #008080; font-weight: bold\">1067</span>/<span style=\"color: #800080; text-decoration-color: #800080; font-style: italic\">None</span>              NaN        NaN      <span style=\"color: #008080; text-decoration-color: #008080; font-weight: bold\">0.000075</span>     <span style=\"color: #7f7f7f; text-decoration-color: #7f7f7f\">                   </span>\n",
       "<span style=\"color: #7fbfbf; text-decoration-color: #7fbfbf\">           </span>         yahpo/mo/iaml_xgboost/<span style=\"color: #008080; text-decoration-color: #008080; font-weight: bold\">1489</span>/<span style=\"color: #800080; text-decoration-color: #800080; font-style: italic\">None</span>       <span style=\"color: #008080; text-decoration-color: #008080; font-weight: bold\">0.203513</span>        NaN      <span style=\"color: #008080; text-decoration-color: #008080; font-weight: bold\">0.000394</span>     <span style=\"color: #7f7f7f; text-decoration-color: #7f7f7f\">                   </span>\n",
       "<span style=\"color: #7fbfbf; text-decoration-color: #7fbfbf\">           </span>         yahpo/mo/iaml_xgboost/<span style=\"color: #008080; text-decoration-color: #008080; font-weight: bold\">40981</span>/<span style=\"color: #800080; text-decoration-color: #800080; font-style: italic\">None</span>      <span style=\"color: #008080; text-decoration-color: #008080; font-weight: bold\">0.201979</span>        NaN      <span style=\"color: #008080; text-decoration-color: #008080; font-weight: bold\">0.001476</span>     <span style=\"color: #7f7f7f; text-decoration-color: #7f7f7f\">                   </span>\n",
       "<span style=\"color: #7fbfbf; text-decoration-color: #7fbfbf\">           </span>         yahpo/mo/rbv2_ranger/<span style=\"color: #008080; text-decoration-color: #008080; font-weight: bold\">375</span>/<span style=\"color: #800080; text-decoration-color: #800080; font-style: italic\">None</span>         <span style=\"color: #008080; text-decoration-color: #008080; font-weight: bold\">0.218806</span>        NaN      <span style=\"color: #008080; text-decoration-color: #008080; font-weight: bold\">0.049281</span>     <span style=\"color: #7f7f7f; text-decoration-color: #7f7f7f\">                   </span>\n",
       "<span style=\"color: #7fbfbf; text-decoration-color: #7fbfbf\">           </span>         yahpo/mo/rbv2_ranger/<span style=\"color: #008080; text-decoration-color: #008080; font-weight: bold\">40979</span>/<span style=\"color: #800080; text-decoration-color: #800080; font-style: italic\">None</span>       <span style=\"color: #008080; text-decoration-color: #008080; font-weight: bold\">0.197883</span>        NaN      <span style=\"color: #008080; text-decoration-color: #008080; font-weight: bold\">0.067001</span>     <span style=\"color: #7f7f7f; text-decoration-color: #7f7f7f\">                   </span>\n",
       "<span style=\"color: #7fbfbf; text-decoration-color: #7fbfbf\">           </span>         yahpo/mo/rbv2_ranger/<span style=\"color: #008080; text-decoration-color: #008080; font-weight: bold\">6</span>/<span style=\"color: #800080; text-decoration-color: #800080; font-style: italic\">None</span>           <span style=\"color: #008080; text-decoration-color: #008080; font-weight: bold\">0.110805</span>        NaN      <span style=\"color: #008080; text-decoration-color: #008080; font-weight: bold\">0.017989</span>     <span style=\"color: #7f7f7f; text-decoration-color: #7f7f7f\">                   </span>\n",
       "<span style=\"color: #7fbfbf; text-decoration-color: #7fbfbf\">           </span>         yahpo/mo/rbv2_super/<span style=\"color: #008080; text-decoration-color: #008080; font-weight: bold\">1457</span>/<span style=\"color: #800080; text-decoration-color: #800080; font-style: italic\">None</span>              NaN        NaN      <span style=\"color: #008080; text-decoration-color: #008080; font-weight: bold\">0.000074</span>     <span style=\"color: #7f7f7f; text-decoration-color: #7f7f7f\">                   </span>\n",
       "<span style=\"color: #7fbfbf; text-decoration-color: #7fbfbf\">           </span>         yahpo/mo/rbv2_xgboost/<span style=\"color: #008080; text-decoration-color: #008080; font-weight: bold\">12</span>/<span style=\"color: #800080; text-decoration-color: #800080; font-style: italic\">None</span>         <span style=\"color: #008080; text-decoration-color: #008080; font-weight: bold\">0.040141</span>        NaN      <span style=\"color: #008080; text-decoration-color: #008080; font-weight: bold\">0.000009</span>     <span style=\"color: #7f7f7f; text-decoration-color: #7f7f7f\">                   </span>\n",
       "<span style=\"color: #7fbfbf; text-decoration-color: #7fbfbf\">           </span>         yahpo/mo/rbv2_xgboost/<span style=\"color: #008080; text-decoration-color: #008080; font-weight: bold\">182</span>/<span style=\"color: #800080; text-decoration-color: #800080; font-style: italic\">None</span>        <span style=\"color: #008080; text-decoration-color: #008080; font-weight: bold\">0.010498</span>        NaN      <span style=\"color: #008080; text-decoration-color: #008080; font-weight: bold\">0.000003</span>     <span style=\"color: #7f7f7f; text-decoration-color: #7f7f7f\">                   </span>\n",
       "<span style=\"color: #7fbfbf; text-decoration-color: #7fbfbf\">           </span>         yahpo/mo/rbv2_xgboost/<span style=\"color: #008080; text-decoration-color: #008080; font-weight: bold\">28</span>/<span style=\"color: #800080; text-decoration-color: #800080; font-style: italic\">None</span>         <span style=\"color: #008080; text-decoration-color: #008080; font-weight: bold\">0.007840</span>        NaN      <span style=\"color: #008080; text-decoration-color: #008080; font-weight: bold\">0.000001</span>     <span style=\"color: #7f7f7f; text-decoration-color: #7f7f7f\">                   </span>\n",
       "</pre>\n"
      ],
      "text/plain": [
       "\u001b[2;36m[19:02:27]\u001b[0m\u001b[2;36m \u001b[0m\u001b[34mINFO    \u001b[0m Lost following experiments: optimizer_id                      Nevergrad-DE  \u001b]8;id=602635;file:///home/numina/Documents/repos/CARP-S-Experiments/lib/CARP-S/carps/analysis/run_autorank.py\u001b\\\u001b[2mrun_autorank.py\u001b[0m\u001b]8;;\u001b\\\u001b[2m:\u001b[0m\u001b]8;id=260774;file:///home/numina/Documents/repos/CARP-S-Experiments/lib/CARP-S/carps/analysis/run_autorank.py#113\u001b\\\u001b[2m113\u001b[0m\u001b]8;;\u001b\\\n",
       "\u001b[2;36m           \u001b[0m         Optuna-MO  RandomSearch                                                     \u001b[2m                   \u001b[0m\n",
       "\u001b[2;36m           \u001b[0m         problem_id                                                                  \u001b[2m                   \u001b[0m\n",
       "\u001b[2;36m           \u001b[0m         yahpo/mo/iaml_super/\u001b[1;36m1067\u001b[0m/\u001b[3;35mNone\u001b[0m              NaN        NaN      \u001b[1;36m0.000075\u001b[0m     \u001b[2m                   \u001b[0m\n",
       "\u001b[2;36m           \u001b[0m         yahpo/mo/iaml_xgboost/\u001b[1;36m1489\u001b[0m/\u001b[3;35mNone\u001b[0m       \u001b[1;36m0.203513\u001b[0m        NaN      \u001b[1;36m0.000394\u001b[0m     \u001b[2m                   \u001b[0m\n",
       "\u001b[2;36m           \u001b[0m         yahpo/mo/iaml_xgboost/\u001b[1;36m40981\u001b[0m/\u001b[3;35mNone\u001b[0m      \u001b[1;36m0.201979\u001b[0m        NaN      \u001b[1;36m0.001476\u001b[0m     \u001b[2m                   \u001b[0m\n",
       "\u001b[2;36m           \u001b[0m         yahpo/mo/rbv2_ranger/\u001b[1;36m375\u001b[0m/\u001b[3;35mNone\u001b[0m         \u001b[1;36m0.218806\u001b[0m        NaN      \u001b[1;36m0.049281\u001b[0m     \u001b[2m                   \u001b[0m\n",
       "\u001b[2;36m           \u001b[0m         yahpo/mo/rbv2_ranger/\u001b[1;36m40979\u001b[0m/\u001b[3;35mNone\u001b[0m       \u001b[1;36m0.197883\u001b[0m        NaN      \u001b[1;36m0.067001\u001b[0m     \u001b[2m                   \u001b[0m\n",
       "\u001b[2;36m           \u001b[0m         yahpo/mo/rbv2_ranger/\u001b[1;36m6\u001b[0m/\u001b[3;35mNone\u001b[0m           \u001b[1;36m0.110805\u001b[0m        NaN      \u001b[1;36m0.017989\u001b[0m     \u001b[2m                   \u001b[0m\n",
       "\u001b[2;36m           \u001b[0m         yahpo/mo/rbv2_super/\u001b[1;36m1457\u001b[0m/\u001b[3;35mNone\u001b[0m              NaN        NaN      \u001b[1;36m0.000074\u001b[0m     \u001b[2m                   \u001b[0m\n",
       "\u001b[2;36m           \u001b[0m         yahpo/mo/rbv2_xgboost/\u001b[1;36m12\u001b[0m/\u001b[3;35mNone\u001b[0m         \u001b[1;36m0.040141\u001b[0m        NaN      \u001b[1;36m0.000009\u001b[0m     \u001b[2m                   \u001b[0m\n",
       "\u001b[2;36m           \u001b[0m         yahpo/mo/rbv2_xgboost/\u001b[1;36m182\u001b[0m/\u001b[3;35mNone\u001b[0m        \u001b[1;36m0.010498\u001b[0m        NaN      \u001b[1;36m0.000003\u001b[0m     \u001b[2m                   \u001b[0m\n",
       "\u001b[2;36m           \u001b[0m         yahpo/mo/rbv2_xgboost/\u001b[1;36m28\u001b[0m/\u001b[3;35mNone\u001b[0m         \u001b[1;36m0.007840\u001b[0m        NaN      \u001b[1;36m0.000001\u001b[0m     \u001b[2m                   \u001b[0m\n"
      ]
     },
     "metadata": {},
     "output_type": "display_data"
    },
    {
     "name": "stdout",
     "output_type": "stream",
     "text": [
      "Rejecting null hypothesis that data is normal for column Nevergrad-DE (p=0.000000<0.016667)\n",
      "Rejecting null hypothesis that data is normal for column Optuna-MO (p=0.000000<0.016667)\n",
      "Rejecting null hypothesis that data is normal for column RandomSearch (p=0.000000<0.016667)\n",
      "Using Friedman test as omnibus test\n",
      "Rejecting null hypothesis that there is no difference between the distributions (p=0.000969)\n",
      "Using Nemenyi post-hoc test. Differences are significant,if the distance between the mean ranks is greater than the critical distance.\n",
      "              meanrank    median       mad  ci_lower  ci_upper effect_size  \\\n",
      "Nevergrad-DE  1.710843  0.007352  0.007049  0.001258  0.044524         0.0   \n",
      "Optuna-MO     2.000000  0.008597  0.008504  0.002813  0.053638    -0.10745   \n",
      "RandomSearch  2.289157  0.010482  0.010169  0.002692  0.060729   -0.241238   \n",
      "\n",
      "               magnitude  \n",
      "Nevergrad-DE  negligible  \n",
      "Optuna-MO     negligible  \n",
      "RandomSearch       small  \n"
     ]
    },
    {
     "name": "stderr",
     "output_type": "stream",
     "text": [
      "/home/numina/micromamba/envs/carpsexp/lib/python3.11/site-packages/autorank/_util.py:432: FutureWarning: Series.__getitem__ treating keys as positions is deprecated. In a future version, integer keys will always be treated as labels (consistent with DataFrame behavior). To access a value by position, use `ser.iloc[pos]`\n",
      "  if abs(sorted_ranks[i] - sorted_ranks[j]) <= critical_difference:\n"
     ]
    },
    {
     "data": {
      "text/html": [
       "<pre style=\"white-space:pre;overflow-x:auto;line-height:normal;font-family:Menlo,'DejaVu Sans Mono',consolas,'Courier New',monospace\"><span style=\"color: #7fbfbf; text-decoration-color: #7fbfbf\">[19:02:29] </span><span style=\"color: #000080; text-decoration-color: #000080\">INFO    </span> Lost following experiments: optimizer_id                     Nevergrad-DE   <a href=\"file:///home/numina/Documents/repos/CARP-S-Experiments/lib/CARP-S/carps/analysis/run_autorank.py\" target=\"_blank\"><span style=\"color: #7f7f7f; text-decoration-color: #7f7f7f\">run_autorank.py</span></a><span style=\"color: #7f7f7f; text-decoration-color: #7f7f7f\">:</span><a href=\"file:///home/numina/Documents/repos/CARP-S-Experiments/lib/CARP-S/carps/analysis/run_autorank.py#113\" target=\"_blank\"><span style=\"color: #7f7f7f; text-decoration-color: #7f7f7f\">113</span></a>\n",
       "<span style=\"color: #7fbfbf; text-decoration-color: #7fbfbf\">           </span>         Optuna-MO  RandomSearch                                                     <span style=\"color: #7f7f7f; text-decoration-color: #7f7f7f\">                   </span>\n",
       "<span style=\"color: #7fbfbf; text-decoration-color: #7fbfbf\">           </span>         problem_id                                                                  <span style=\"color: #7f7f7f; text-decoration-color: #7f7f7f\">                   </span>\n",
       "<span style=\"color: #7fbfbf; text-decoration-color: #7fbfbf\">           </span>         yahpo/mo/iaml_ranger/<span style=\"color: #008080; text-decoration-color: #008080; font-weight: bold\">1067</span>/<span style=\"color: #800080; text-decoration-color: #800080; font-style: italic\">None</span>       <span style=\"color: #008080; text-decoration-color: #008080; font-weight: bold\">0.336826</span>        NaN      <span style=\"color: #008080; text-decoration-color: #008080; font-weight: bold\">0.217303</span>      <span style=\"color: #7f7f7f; text-decoration-color: #7f7f7f\">                   </span>\n",
       "<span style=\"color: #7fbfbf; text-decoration-color: #7fbfbf\">           </span>         yahpo/mo/iaml_super/<span style=\"color: #008080; text-decoration-color: #008080; font-weight: bold\">1067</span>/<span style=\"color: #800080; text-decoration-color: #800080; font-style: italic\">None</span>             NaN        NaN      <span style=\"color: #008080; text-decoration-color: #008080; font-weight: bold\">0.000075</span>      <span style=\"color: #7f7f7f; text-decoration-color: #7f7f7f\">                   </span>\n",
       "<span style=\"color: #7fbfbf; text-decoration-color: #7fbfbf\">           </span>         yahpo/mo/iaml_super/<span style=\"color: #008080; text-decoration-color: #008080; font-weight: bold\">1489</span>/<span style=\"color: #800080; text-decoration-color: #800080; font-style: italic\">None</span>             NaN        NaN      <span style=\"color: #008080; text-decoration-color: #008080; font-weight: bold\">0.000240</span>      <span style=\"color: #7f7f7f; text-decoration-color: #7f7f7f\">                   </span>\n",
       "<span style=\"color: #7fbfbf; text-decoration-color: #7fbfbf\">           </span>         yahpo/mo/iaml_xgboost/<span style=\"color: #008080; text-decoration-color: #008080; font-weight: bold\">1489</span>/<span style=\"color: #800080; text-decoration-color: #800080; font-style: italic\">None</span>      <span style=\"color: #008080; text-decoration-color: #008080; font-weight: bold\">0.203513</span>        NaN      <span style=\"color: #008080; text-decoration-color: #008080; font-weight: bold\">0.000394</span>      <span style=\"color: #7f7f7f; text-decoration-color: #7f7f7f\">                   </span>\n",
       "<span style=\"color: #7fbfbf; text-decoration-color: #7fbfbf\">           </span>         yahpo/mo/rbv2_ranger/<span style=\"color: #008080; text-decoration-color: #008080; font-weight: bold\">375</span>/<span style=\"color: #800080; text-decoration-color: #800080; font-style: italic\">None</span>        <span style=\"color: #008080; text-decoration-color: #008080; font-weight: bold\">0.218806</span>        NaN      <span style=\"color: #008080; text-decoration-color: #008080; font-weight: bold\">0.049281</span>      <span style=\"color: #7f7f7f; text-decoration-color: #7f7f7f\">                   </span>\n",
       "<span style=\"color: #7fbfbf; text-decoration-color: #7fbfbf\">           </span>         yahpo/mo/rbv2_ranger/<span style=\"color: #008080; text-decoration-color: #008080; font-weight: bold\">6</span>/<span style=\"color: #800080; text-decoration-color: #800080; font-style: italic\">None</span>          <span style=\"color: #008080; text-decoration-color: #008080; font-weight: bold\">0.110805</span>        NaN      <span style=\"color: #008080; text-decoration-color: #008080; font-weight: bold\">0.017989</span>      <span style=\"color: #7f7f7f; text-decoration-color: #7f7f7f\">                   </span>\n",
       "<span style=\"color: #7fbfbf; text-decoration-color: #7fbfbf\">           </span>         yahpo/mo/rbv2_super/<span style=\"color: #008080; text-decoration-color: #008080; font-weight: bold\">1053</span>/<span style=\"color: #800080; text-decoration-color: #800080; font-style: italic\">None</span>             NaN        NaN      <span style=\"color: #008080; text-decoration-color: #008080; font-weight: bold\">0.005830</span>      <span style=\"color: #7f7f7f; text-decoration-color: #7f7f7f\">                   </span>\n",
       "<span style=\"color: #7fbfbf; text-decoration-color: #7fbfbf\">           </span>         yahpo/mo/rbv2_super/<span style=\"color: #008080; text-decoration-color: #008080; font-weight: bold\">1457</span>/<span style=\"color: #800080; text-decoration-color: #800080; font-style: italic\">None</span>             NaN        NaN      <span style=\"color: #008080; text-decoration-color: #008080; font-weight: bold\">0.000074</span>      <span style=\"color: #7f7f7f; text-decoration-color: #7f7f7f\">                   </span>\n",
       "<span style=\"color: #7fbfbf; text-decoration-color: #7fbfbf\">           </span>         yahpo/mo/rbv2_xgboost/<span style=\"color: #008080; text-decoration-color: #008080; font-weight: bold\">12</span>/<span style=\"color: #800080; text-decoration-color: #800080; font-style: italic\">None</span>        <span style=\"color: #008080; text-decoration-color: #008080; font-weight: bold\">0.040141</span>        NaN      <span style=\"color: #008080; text-decoration-color: #008080; font-weight: bold\">0.000009</span>      <span style=\"color: #7f7f7f; text-decoration-color: #7f7f7f\">                   </span>\n",
       "<span style=\"color: #7fbfbf; text-decoration-color: #7fbfbf\">           </span>         yahpo/mo/rbv2_xgboost/<span style=\"color: #008080; text-decoration-color: #008080; font-weight: bold\">182</span>/<span style=\"color: #800080; text-decoration-color: #800080; font-style: italic\">None</span>       <span style=\"color: #008080; text-decoration-color: #008080; font-weight: bold\">0.010498</span>        NaN      <span style=\"color: #008080; text-decoration-color: #008080; font-weight: bold\">0.000003</span>      <span style=\"color: #7f7f7f; text-decoration-color: #7f7f7f\">                   </span>\n",
       "<span style=\"color: #7fbfbf; text-decoration-color: #7fbfbf\">           </span>         yahpo/mo/rbv2_xgboost/<span style=\"color: #008080; text-decoration-color: #008080; font-weight: bold\">28</span>/<span style=\"color: #800080; text-decoration-color: #800080; font-style: italic\">None</span>        <span style=\"color: #008080; text-decoration-color: #008080; font-weight: bold\">0.007840</span>        NaN      <span style=\"color: #008080; text-decoration-color: #008080; font-weight: bold\">0.000001</span>      <span style=\"color: #7f7f7f; text-decoration-color: #7f7f7f\">                   </span>\n",
       "</pre>\n"
      ],
      "text/plain": [
       "\u001b[2;36m[19:02:29]\u001b[0m\u001b[2;36m \u001b[0m\u001b[34mINFO    \u001b[0m Lost following experiments: optimizer_id                     Nevergrad-DE   \u001b]8;id=436203;file:///home/numina/Documents/repos/CARP-S-Experiments/lib/CARP-S/carps/analysis/run_autorank.py\u001b\\\u001b[2mrun_autorank.py\u001b[0m\u001b]8;;\u001b\\\u001b[2m:\u001b[0m\u001b]8;id=452158;file:///home/numina/Documents/repos/CARP-S-Experiments/lib/CARP-S/carps/analysis/run_autorank.py#113\u001b\\\u001b[2m113\u001b[0m\u001b]8;;\u001b\\\n",
       "\u001b[2;36m           \u001b[0m         Optuna-MO  RandomSearch                                                     \u001b[2m                   \u001b[0m\n",
       "\u001b[2;36m           \u001b[0m         problem_id                                                                  \u001b[2m                   \u001b[0m\n",
       "\u001b[2;36m           \u001b[0m         yahpo/mo/iaml_ranger/\u001b[1;36m1067\u001b[0m/\u001b[3;35mNone\u001b[0m       \u001b[1;36m0.336826\u001b[0m        NaN      \u001b[1;36m0.217303\u001b[0m      \u001b[2m                   \u001b[0m\n",
       "\u001b[2;36m           \u001b[0m         yahpo/mo/iaml_super/\u001b[1;36m1067\u001b[0m/\u001b[3;35mNone\u001b[0m             NaN        NaN      \u001b[1;36m0.000075\u001b[0m      \u001b[2m                   \u001b[0m\n",
       "\u001b[2;36m           \u001b[0m         yahpo/mo/iaml_super/\u001b[1;36m1489\u001b[0m/\u001b[3;35mNone\u001b[0m             NaN        NaN      \u001b[1;36m0.000240\u001b[0m      \u001b[2m                   \u001b[0m\n",
       "\u001b[2;36m           \u001b[0m         yahpo/mo/iaml_xgboost/\u001b[1;36m1489\u001b[0m/\u001b[3;35mNone\u001b[0m      \u001b[1;36m0.203513\u001b[0m        NaN      \u001b[1;36m0.000394\u001b[0m      \u001b[2m                   \u001b[0m\n",
       "\u001b[2;36m           \u001b[0m         yahpo/mo/rbv2_ranger/\u001b[1;36m375\u001b[0m/\u001b[3;35mNone\u001b[0m        \u001b[1;36m0.218806\u001b[0m        NaN      \u001b[1;36m0.049281\u001b[0m      \u001b[2m                   \u001b[0m\n",
       "\u001b[2;36m           \u001b[0m         yahpo/mo/rbv2_ranger/\u001b[1;36m6\u001b[0m/\u001b[3;35mNone\u001b[0m          \u001b[1;36m0.110805\u001b[0m        NaN      \u001b[1;36m0.017989\u001b[0m      \u001b[2m                   \u001b[0m\n",
       "\u001b[2;36m           \u001b[0m         yahpo/mo/rbv2_super/\u001b[1;36m1053\u001b[0m/\u001b[3;35mNone\u001b[0m             NaN        NaN      \u001b[1;36m0.005830\u001b[0m      \u001b[2m                   \u001b[0m\n",
       "\u001b[2;36m           \u001b[0m         yahpo/mo/rbv2_super/\u001b[1;36m1457\u001b[0m/\u001b[3;35mNone\u001b[0m             NaN        NaN      \u001b[1;36m0.000074\u001b[0m      \u001b[2m                   \u001b[0m\n",
       "\u001b[2;36m           \u001b[0m         yahpo/mo/rbv2_xgboost/\u001b[1;36m12\u001b[0m/\u001b[3;35mNone\u001b[0m        \u001b[1;36m0.040141\u001b[0m        NaN      \u001b[1;36m0.000009\u001b[0m      \u001b[2m                   \u001b[0m\n",
       "\u001b[2;36m           \u001b[0m         yahpo/mo/rbv2_xgboost/\u001b[1;36m182\u001b[0m/\u001b[3;35mNone\u001b[0m       \u001b[1;36m0.010498\u001b[0m        NaN      \u001b[1;36m0.000003\u001b[0m      \u001b[2m                   \u001b[0m\n",
       "\u001b[2;36m           \u001b[0m         yahpo/mo/rbv2_xgboost/\u001b[1;36m28\u001b[0m/\u001b[3;35mNone\u001b[0m        \u001b[1;36m0.007840\u001b[0m        NaN      \u001b[1;36m0.000001\u001b[0m      \u001b[2m                   \u001b[0m\n"
      ]
     },
     "metadata": {},
     "output_type": "display_data"
    },
    {
     "name": "stdout",
     "output_type": "stream",
     "text": [
      "Rejecting null hypothesis that data is normal for column Nevergrad-DE (p=0.000000<0.016667)\n",
      "Rejecting null hypothesis that data is normal for column Optuna-MO (p=0.000000<0.016667)\n",
      "Rejecting null hypothesis that data is normal for column RandomSearch (p=0.000000<0.016667)\n",
      "Using Friedman test as omnibus test\n",
      "Rejecting null hypothesis that there is no difference between the distributions (p=0.001919)\n",
      "Using Nemenyi post-hoc test. Differences are significant,if the distance between the mean ranks is greater than the critical distance.\n",
      "              meanrank    median       mad  ci_lower  ci_upper effect_size  \\\n",
      "Nevergrad-DE  1.707317  0.008420  0.008401   0.00182  0.065317         0.0   \n",
      "Optuna-MO     2.036585  0.011295  0.011275  0.003549  0.058713   -0.195057   \n",
      "RandomSearch  2.256098  0.013212  0.013118  0.004708  0.068263   -0.293463   \n",
      "\n",
      "               magnitude  \n",
      "Nevergrad-DE  negligible  \n",
      "Optuna-MO     negligible  \n",
      "RandomSearch       small  \n"
     ]
    },
    {
     "name": "stderr",
     "output_type": "stream",
     "text": [
      "/home/numina/micromamba/envs/carpsexp/lib/python3.11/site-packages/autorank/_util.py:432: FutureWarning: Series.__getitem__ treating keys as positions is deprecated. In a future version, integer keys will always be treated as labels (consistent with DataFrame behavior). To access a value by position, use `ser.iloc[pos]`\n",
      "  if abs(sorted_ranks[i] - sorted_ranks[j]) <= critical_difference:\n"
     ]
    },
    {
     "data": {
      "text/html": [
       "<pre style=\"white-space:pre;overflow-x:auto;line-height:normal;font-family:Menlo,'DejaVu Sans Mono',consolas,'Courier New',monospace\"><span style=\"color: #7fbfbf; text-decoration-color: #7fbfbf\">[19:02:30] </span><span style=\"color: #000080; text-decoration-color: #000080\">INFO    </span> Lost following experiments: optimizer_id                      Nevergrad-DE  <a href=\"file:///home/numina/Documents/repos/CARP-S-Experiments/lib/CARP-S/carps/analysis/run_autorank.py\" target=\"_blank\"><span style=\"color: #7f7f7f; text-decoration-color: #7f7f7f\">run_autorank.py</span></a><span style=\"color: #7f7f7f; text-decoration-color: #7f7f7f\">:</span><a href=\"file:///home/numina/Documents/repos/CARP-S-Experiments/lib/CARP-S/carps/analysis/run_autorank.py#113\" target=\"_blank\"><span style=\"color: #7f7f7f; text-decoration-color: #7f7f7f\">113</span></a>\n",
       "<span style=\"color: #7fbfbf; text-decoration-color: #7fbfbf\">           </span>         Optuna-MO  RandomSearch                                                     <span style=\"color: #7f7f7f; text-decoration-color: #7f7f7f\">                   </span>\n",
       "<span style=\"color: #7fbfbf; text-decoration-color: #7fbfbf\">           </span>         problem_id                                                                  <span style=\"color: #7f7f7f; text-decoration-color: #7f7f7f\">                   </span>\n",
       "<span style=\"color: #7fbfbf; text-decoration-color: #7fbfbf\">           </span>         yahpo/mo/iaml_ranger/<span style=\"color: #008080; text-decoration-color: #008080; font-weight: bold\">1067</span>/<span style=\"color: #800080; text-decoration-color: #800080; font-style: italic\">None</span>        <span style=\"color: #008080; text-decoration-color: #008080; font-weight: bold\">0.336826</span>        NaN      <span style=\"color: #008080; text-decoration-color: #008080; font-weight: bold\">0.217303</span>     <span style=\"color: #7f7f7f; text-decoration-color: #7f7f7f\">                   </span>\n",
       "<span style=\"color: #7fbfbf; text-decoration-color: #7fbfbf\">           </span>         yahpo/mo/iaml_ranger/<span style=\"color: #008080; text-decoration-color: #008080; font-weight: bold\">1489</span>/<span style=\"color: #800080; text-decoration-color: #800080; font-style: italic\">None</span>        <span style=\"color: #008080; text-decoration-color: #008080; font-weight: bold\">0.174604</span>        NaN      <span style=\"color: #008080; text-decoration-color: #008080; font-weight: bold\">0.004866</span>     <span style=\"color: #7f7f7f; text-decoration-color: #7f7f7f\">                   </span>\n",
       "<span style=\"color: #7fbfbf; text-decoration-color: #7fbfbf\">           </span>         yahpo/mo/iaml_super/<span style=\"color: #008080; text-decoration-color: #008080; font-weight: bold\">1067</span>/<span style=\"color: #800080; text-decoration-color: #800080; font-style: italic\">None</span>              NaN        NaN      <span style=\"color: #008080; text-decoration-color: #008080; font-weight: bold\">0.000075</span>     <span style=\"color: #7f7f7f; text-decoration-color: #7f7f7f\">                   </span>\n",
       "<span style=\"color: #7fbfbf; text-decoration-color: #7fbfbf\">           </span>         yahpo/mo/iaml_super/<span style=\"color: #008080; text-decoration-color: #008080; font-weight: bold\">1489</span>/<span style=\"color: #800080; text-decoration-color: #800080; font-style: italic\">None</span>              NaN        NaN      <span style=\"color: #008080; text-decoration-color: #008080; font-weight: bold\">0.000240</span>     <span style=\"color: #7f7f7f; text-decoration-color: #7f7f7f\">                   </span>\n",
       "<span style=\"color: #7fbfbf; text-decoration-color: #7fbfbf\">           </span>         yahpo/mo/iaml_xgboost/<span style=\"color: #008080; text-decoration-color: #008080; font-weight: bold\">1489</span>/<span style=\"color: #800080; text-decoration-color: #800080; font-style: italic\">None</span>       <span style=\"color: #008080; text-decoration-color: #008080; font-weight: bold\">0.203513</span>        NaN      <span style=\"color: #008080; text-decoration-color: #008080; font-weight: bold\">0.000394</span>     <span style=\"color: #7f7f7f; text-decoration-color: #7f7f7f\">                   </span>\n",
       "<span style=\"color: #7fbfbf; text-decoration-color: #7fbfbf\">           </span>         yahpo/mo/iaml_xgboost/<span style=\"color: #008080; text-decoration-color: #008080; font-weight: bold\">40981</span>/<span style=\"color: #800080; text-decoration-color: #800080; font-style: italic\">None</span>      <span style=\"color: #008080; text-decoration-color: #008080; font-weight: bold\">0.201979</span>        NaN      <span style=\"color: #008080; text-decoration-color: #008080; font-weight: bold\">0.001476</span>     <span style=\"color: #7f7f7f; text-decoration-color: #7f7f7f\">                   </span>\n",
       "<span style=\"color: #7fbfbf; text-decoration-color: #7fbfbf\">           </span>         yahpo/mo/rbv2_ranger/<span style=\"color: #008080; text-decoration-color: #008080; font-weight: bold\">40979</span>/<span style=\"color: #800080; text-decoration-color: #800080; font-style: italic\">None</span>       <span style=\"color: #008080; text-decoration-color: #008080; font-weight: bold\">0.197883</span>        NaN      <span style=\"color: #008080; text-decoration-color: #008080; font-weight: bold\">0.067001</span>     <span style=\"color: #7f7f7f; text-decoration-color: #7f7f7f\">                   </span>\n",
       "<span style=\"color: #7fbfbf; text-decoration-color: #7fbfbf\">           </span>         yahpo/mo/rbv2_super/<span style=\"color: #008080; text-decoration-color: #008080; font-weight: bold\">1053</span>/<span style=\"color: #800080; text-decoration-color: #800080; font-style: italic\">None</span>              NaN        NaN      <span style=\"color: #008080; text-decoration-color: #008080; font-weight: bold\">0.005830</span>     <span style=\"color: #7f7f7f; text-decoration-color: #7f7f7f\">                   </span>\n",
       "<span style=\"color: #7fbfbf; text-decoration-color: #7fbfbf\">           </span>         yahpo/mo/rbv2_super/<span style=\"color: #008080; text-decoration-color: #008080; font-weight: bold\">1457</span>/<span style=\"color: #800080; text-decoration-color: #800080; font-style: italic\">None</span>              NaN        NaN      <span style=\"color: #008080; text-decoration-color: #008080; font-weight: bold\">0.000074</span>     <span style=\"color: #7f7f7f; text-decoration-color: #7f7f7f\">                   </span>\n",
       "<span style=\"color: #7fbfbf; text-decoration-color: #7fbfbf\">           </span>         yahpo/mo/rbv2_super/<span style=\"color: #008080; text-decoration-color: #008080; font-weight: bold\">6</span>/<span style=\"color: #800080; text-decoration-color: #800080; font-style: italic\">None</span>                 NaN        NaN      <span style=\"color: #008080; text-decoration-color: #008080; font-weight: bold\">0.000088</span>     <span style=\"color: #7f7f7f; text-decoration-color: #7f7f7f\">                   </span>\n",
       "<span style=\"color: #7fbfbf; text-decoration-color: #7fbfbf\">           </span>         yahpo/mo/rbv2_xgboost/<span style=\"color: #008080; text-decoration-color: #008080; font-weight: bold\">12</span>/<span style=\"color: #800080; text-decoration-color: #800080; font-style: italic\">None</span>         <span style=\"color: #008080; text-decoration-color: #008080; font-weight: bold\">0.040141</span>        NaN      <span style=\"color: #008080; text-decoration-color: #008080; font-weight: bold\">0.000009</span>     <span style=\"color: #7f7f7f; text-decoration-color: #7f7f7f\">                   </span>\n",
       "<span style=\"color: #7fbfbf; text-decoration-color: #7fbfbf\">           </span>         yahpo/mo/rbv2_xgboost/<span style=\"color: #008080; text-decoration-color: #008080; font-weight: bold\">182</span>/<span style=\"color: #800080; text-decoration-color: #800080; font-style: italic\">None</span>        <span style=\"color: #008080; text-decoration-color: #008080; font-weight: bold\">0.010498</span>        NaN      <span style=\"color: #008080; text-decoration-color: #008080; font-weight: bold\">0.000003</span>     <span style=\"color: #7f7f7f; text-decoration-color: #7f7f7f\">                   </span>\n",
       "<span style=\"color: #7fbfbf; text-decoration-color: #7fbfbf\">           </span>         yahpo/mo/rbv2_xgboost/<span style=\"color: #008080; text-decoration-color: #008080; font-weight: bold\">28</span>/<span style=\"color: #800080; text-decoration-color: #800080; font-style: italic\">None</span>         <span style=\"color: #008080; text-decoration-color: #008080; font-weight: bold\">0.007840</span>        NaN      <span style=\"color: #008080; text-decoration-color: #008080; font-weight: bold\">0.000001</span>     <span style=\"color: #7f7f7f; text-decoration-color: #7f7f7f\">                   </span>\n",
       "</pre>\n"
      ],
      "text/plain": [
       "\u001b[2;36m[19:02:30]\u001b[0m\u001b[2;36m \u001b[0m\u001b[34mINFO    \u001b[0m Lost following experiments: optimizer_id                      Nevergrad-DE  \u001b]8;id=93596;file:///home/numina/Documents/repos/CARP-S-Experiments/lib/CARP-S/carps/analysis/run_autorank.py\u001b\\\u001b[2mrun_autorank.py\u001b[0m\u001b]8;;\u001b\\\u001b[2m:\u001b[0m\u001b]8;id=18879;file:///home/numina/Documents/repos/CARP-S-Experiments/lib/CARP-S/carps/analysis/run_autorank.py#113\u001b\\\u001b[2m113\u001b[0m\u001b]8;;\u001b\\\n",
       "\u001b[2;36m           \u001b[0m         Optuna-MO  RandomSearch                                                     \u001b[2m                   \u001b[0m\n",
       "\u001b[2;36m           \u001b[0m         problem_id                                                                  \u001b[2m                   \u001b[0m\n",
       "\u001b[2;36m           \u001b[0m         yahpo/mo/iaml_ranger/\u001b[1;36m1067\u001b[0m/\u001b[3;35mNone\u001b[0m        \u001b[1;36m0.336826\u001b[0m        NaN      \u001b[1;36m0.217303\u001b[0m     \u001b[2m                   \u001b[0m\n",
       "\u001b[2;36m           \u001b[0m         yahpo/mo/iaml_ranger/\u001b[1;36m1489\u001b[0m/\u001b[3;35mNone\u001b[0m        \u001b[1;36m0.174604\u001b[0m        NaN      \u001b[1;36m0.004866\u001b[0m     \u001b[2m                   \u001b[0m\n",
       "\u001b[2;36m           \u001b[0m         yahpo/mo/iaml_super/\u001b[1;36m1067\u001b[0m/\u001b[3;35mNone\u001b[0m              NaN        NaN      \u001b[1;36m0.000075\u001b[0m     \u001b[2m                   \u001b[0m\n",
       "\u001b[2;36m           \u001b[0m         yahpo/mo/iaml_super/\u001b[1;36m1489\u001b[0m/\u001b[3;35mNone\u001b[0m              NaN        NaN      \u001b[1;36m0.000240\u001b[0m     \u001b[2m                   \u001b[0m\n",
       "\u001b[2;36m           \u001b[0m         yahpo/mo/iaml_xgboost/\u001b[1;36m1489\u001b[0m/\u001b[3;35mNone\u001b[0m       \u001b[1;36m0.203513\u001b[0m        NaN      \u001b[1;36m0.000394\u001b[0m     \u001b[2m                   \u001b[0m\n",
       "\u001b[2;36m           \u001b[0m         yahpo/mo/iaml_xgboost/\u001b[1;36m40981\u001b[0m/\u001b[3;35mNone\u001b[0m      \u001b[1;36m0.201979\u001b[0m        NaN      \u001b[1;36m0.001476\u001b[0m     \u001b[2m                   \u001b[0m\n",
       "\u001b[2;36m           \u001b[0m         yahpo/mo/rbv2_ranger/\u001b[1;36m40979\u001b[0m/\u001b[3;35mNone\u001b[0m       \u001b[1;36m0.197883\u001b[0m        NaN      \u001b[1;36m0.067001\u001b[0m     \u001b[2m                   \u001b[0m\n",
       "\u001b[2;36m           \u001b[0m         yahpo/mo/rbv2_super/\u001b[1;36m1053\u001b[0m/\u001b[3;35mNone\u001b[0m              NaN        NaN      \u001b[1;36m0.005830\u001b[0m     \u001b[2m                   \u001b[0m\n",
       "\u001b[2;36m           \u001b[0m         yahpo/mo/rbv2_super/\u001b[1;36m1457\u001b[0m/\u001b[3;35mNone\u001b[0m              NaN        NaN      \u001b[1;36m0.000074\u001b[0m     \u001b[2m                   \u001b[0m\n",
       "\u001b[2;36m           \u001b[0m         yahpo/mo/rbv2_super/\u001b[1;36m6\u001b[0m/\u001b[3;35mNone\u001b[0m                 NaN        NaN      \u001b[1;36m0.000088\u001b[0m     \u001b[2m                   \u001b[0m\n",
       "\u001b[2;36m           \u001b[0m         yahpo/mo/rbv2_xgboost/\u001b[1;36m12\u001b[0m/\u001b[3;35mNone\u001b[0m         \u001b[1;36m0.040141\u001b[0m        NaN      \u001b[1;36m0.000009\u001b[0m     \u001b[2m                   \u001b[0m\n",
       "\u001b[2;36m           \u001b[0m         yahpo/mo/rbv2_xgboost/\u001b[1;36m182\u001b[0m/\u001b[3;35mNone\u001b[0m        \u001b[1;36m0.010498\u001b[0m        NaN      \u001b[1;36m0.000003\u001b[0m     \u001b[2m                   \u001b[0m\n",
       "\u001b[2;36m           \u001b[0m         yahpo/mo/rbv2_xgboost/\u001b[1;36m28\u001b[0m/\u001b[3;35mNone\u001b[0m         \u001b[1;36m0.007840\u001b[0m        NaN      \u001b[1;36m0.000001\u001b[0m     \u001b[2m                   \u001b[0m\n"
      ]
     },
     "metadata": {},
     "output_type": "display_data"
    },
    {
     "name": "stdout",
     "output_type": "stream",
     "text": [
      "Rejecting null hypothesis that data is normal for column Nevergrad-DE (p=0.000000<0.016667)\n",
      "Rejecting null hypothesis that data is normal for column Optuna-MO (p=0.000000<0.016667)\n",
      "Rejecting null hypothesis that data is normal for column RandomSearch (p=0.000000<0.016667)\n",
      "Using Friedman test as omnibus test\n",
      "Rejecting null hypothesis that there is no difference between the distributions (p=0.000041)\n",
      "Using Nemenyi post-hoc test. Differences are significant,if the distance between the mean ranks is greater than the critical distance.\n",
      "              meanrank    median       mad  ci_lower  ci_upper effect_size  \\\n",
      "Nevergrad-DE  1.666667  0.007567  0.007364  0.001766  0.037349         0.0   \n",
      "Optuna-MO     1.962963  0.008597  0.008504  0.003011  0.052336   -0.087345   \n",
      "RandomSearch  2.370370  0.010973  0.010874  0.005451  0.060729   -0.247448   \n",
      "\n",
      "               magnitude  \n",
      "Nevergrad-DE  negligible  \n",
      "Optuna-MO     negligible  \n",
      "RandomSearch       small  \n"
     ]
    },
    {
     "name": "stderr",
     "output_type": "stream",
     "text": [
      "/home/numina/micromamba/envs/carpsexp/lib/python3.11/site-packages/autorank/_util.py:432: FutureWarning: Series.__getitem__ treating keys as positions is deprecated. In a future version, integer keys will always be treated as labels (consistent with DataFrame behavior). To access a value by position, use `ser.iloc[pos]`\n",
      "  if abs(sorted_ranks[i] - sorted_ranks[j]) <= critical_difference:\n"
     ]
    },
    {
     "data": {
      "text/html": [
       "<pre style=\"white-space:pre;overflow-x:auto;line-height:normal;font-family:Menlo,'DejaVu Sans Mono',consolas,'Courier New',monospace\"><span style=\"color: #7fbfbf; text-decoration-color: #7fbfbf\">[19:02:31] </span><span style=\"color: #000080; text-decoration-color: #000080\">INFO    </span> Lost following experiments: optimizer_id                      Nevergrad-DE  <a href=\"file:///home/numina/Documents/repos/CARP-S-Experiments/lib/CARP-S/carps/analysis/run_autorank.py\" target=\"_blank\"><span style=\"color: #7f7f7f; text-decoration-color: #7f7f7f\">run_autorank.py</span></a><span style=\"color: #7f7f7f; text-decoration-color: #7f7f7f\">:</span><a href=\"file:///home/numina/Documents/repos/CARP-S-Experiments/lib/CARP-S/carps/analysis/run_autorank.py#113\" target=\"_blank\"><span style=\"color: #7f7f7f; text-decoration-color: #7f7f7f\">113</span></a>\n",
       "<span style=\"color: #7fbfbf; text-decoration-color: #7fbfbf\">           </span>         Optuna-MO  RandomSearch                                                     <span style=\"color: #7f7f7f; text-decoration-color: #7f7f7f\">                   </span>\n",
       "<span style=\"color: #7fbfbf; text-decoration-color: #7fbfbf\">           </span>         problem_id                                                                  <span style=\"color: #7f7f7f; text-decoration-color: #7f7f7f\">                   </span>\n",
       "<span style=\"color: #7fbfbf; text-decoration-color: #7fbfbf\">           </span>         yahpo/mo/iaml_ranger/<span style=\"color: #008080; text-decoration-color: #008080; font-weight: bold\">1067</span>/<span style=\"color: #800080; text-decoration-color: #800080; font-style: italic\">None</span>        <span style=\"color: #008080; text-decoration-color: #008080; font-weight: bold\">0.336826</span>        NaN      <span style=\"color: #008080; text-decoration-color: #008080; font-weight: bold\">0.217303</span>     <span style=\"color: #7f7f7f; text-decoration-color: #7f7f7f\">                   </span>\n",
       "<span style=\"color: #7fbfbf; text-decoration-color: #7fbfbf\">           </span>         yahpo/mo/iaml_ranger/<span style=\"color: #008080; text-decoration-color: #008080; font-weight: bold\">1489</span>/<span style=\"color: #800080; text-decoration-color: #800080; font-style: italic\">None</span>        <span style=\"color: #008080; text-decoration-color: #008080; font-weight: bold\">0.174604</span>        NaN      <span style=\"color: #008080; text-decoration-color: #008080; font-weight: bold\">0.004866</span>     <span style=\"color: #7f7f7f; text-decoration-color: #7f7f7f\">                   </span>\n",
       "<span style=\"color: #7fbfbf; text-decoration-color: #7fbfbf\">           </span>         yahpo/mo/iaml_super/<span style=\"color: #008080; text-decoration-color: #008080; font-weight: bold\">1067</span>/<span style=\"color: #800080; text-decoration-color: #800080; font-style: italic\">None</span>              NaN        NaN      <span style=\"color: #008080; text-decoration-color: #008080; font-weight: bold\">0.000075</span>     <span style=\"color: #7f7f7f; text-decoration-color: #7f7f7f\">                   </span>\n",
       "<span style=\"color: #7fbfbf; text-decoration-color: #7fbfbf\">           </span>         yahpo/mo/iaml_super/<span style=\"color: #008080; text-decoration-color: #008080; font-weight: bold\">1489</span>/<span style=\"color: #800080; text-decoration-color: #800080; font-style: italic\">None</span>              NaN        NaN      <span style=\"color: #008080; text-decoration-color: #008080; font-weight: bold\">0.000240</span>     <span style=\"color: #7f7f7f; text-decoration-color: #7f7f7f\">                   </span>\n",
       "<span style=\"color: #7fbfbf; text-decoration-color: #7fbfbf\">           </span>         yahpo/mo/iaml_xgboost/<span style=\"color: #008080; text-decoration-color: #008080; font-weight: bold\">1489</span>/<span style=\"color: #800080; text-decoration-color: #800080; font-style: italic\">None</span>       <span style=\"color: #008080; text-decoration-color: #008080; font-weight: bold\">0.203513</span>        NaN      <span style=\"color: #008080; text-decoration-color: #008080; font-weight: bold\">0.000394</span>     <span style=\"color: #7f7f7f; text-decoration-color: #7f7f7f\">                   </span>\n",
       "<span style=\"color: #7fbfbf; text-decoration-color: #7fbfbf\">           </span>         yahpo/mo/iaml_xgboost/<span style=\"color: #008080; text-decoration-color: #008080; font-weight: bold\">40981</span>/<span style=\"color: #800080; text-decoration-color: #800080; font-style: italic\">None</span>      <span style=\"color: #008080; text-decoration-color: #008080; font-weight: bold\">0.201979</span>        NaN      <span style=\"color: #008080; text-decoration-color: #008080; font-weight: bold\">0.001476</span>     <span style=\"color: #7f7f7f; text-decoration-color: #7f7f7f\">                   </span>\n",
       "<span style=\"color: #7fbfbf; text-decoration-color: #7fbfbf\">           </span>         yahpo/mo/rbv2_ranger/<span style=\"color: #008080; text-decoration-color: #008080; font-weight: bold\">375</span>/<span style=\"color: #800080; text-decoration-color: #800080; font-style: italic\">None</span>         <span style=\"color: #008080; text-decoration-color: #008080; font-weight: bold\">0.218806</span>        NaN      <span style=\"color: #008080; text-decoration-color: #008080; font-weight: bold\">0.049281</span>     <span style=\"color: #7f7f7f; text-decoration-color: #7f7f7f\">                   </span>\n",
       "<span style=\"color: #7fbfbf; text-decoration-color: #7fbfbf\">           </span>         yahpo/mo/rbv2_ranger/<span style=\"color: #008080; text-decoration-color: #008080; font-weight: bold\">40979</span>/<span style=\"color: #800080; text-decoration-color: #800080; font-style: italic\">None</span>       <span style=\"color: #008080; text-decoration-color: #008080; font-weight: bold\">0.197883</span>        NaN      <span style=\"color: #008080; text-decoration-color: #008080; font-weight: bold\">0.067001</span>     <span style=\"color: #7f7f7f; text-decoration-color: #7f7f7f\">                   </span>\n",
       "<span style=\"color: #7fbfbf; text-decoration-color: #7fbfbf\">           </span>         yahpo/mo/rbv2_ranger/<span style=\"color: #008080; text-decoration-color: #008080; font-weight: bold\">6</span>/<span style=\"color: #800080; text-decoration-color: #800080; font-style: italic\">None</span>           <span style=\"color: #008080; text-decoration-color: #008080; font-weight: bold\">0.110805</span>        NaN      <span style=\"color: #008080; text-decoration-color: #008080; font-weight: bold\">0.017989</span>     <span style=\"color: #7f7f7f; text-decoration-color: #7f7f7f\">                   </span>\n",
       "<span style=\"color: #7fbfbf; text-decoration-color: #7fbfbf\">           </span>         yahpo/mo/rbv2_super/<span style=\"color: #008080; text-decoration-color: #008080; font-weight: bold\">1053</span>/<span style=\"color: #800080; text-decoration-color: #800080; font-style: italic\">None</span>              NaN        NaN      <span style=\"color: #008080; text-decoration-color: #008080; font-weight: bold\">0.005830</span>     <span style=\"color: #7f7f7f; text-decoration-color: #7f7f7f\">                   </span>\n",
       "<span style=\"color: #7fbfbf; text-decoration-color: #7fbfbf\">           </span>         yahpo/mo/rbv2_super/<span style=\"color: #008080; text-decoration-color: #008080; font-weight: bold\">6</span>/<span style=\"color: #800080; text-decoration-color: #800080; font-style: italic\">None</span>                 NaN        NaN      <span style=\"color: #008080; text-decoration-color: #008080; font-weight: bold\">0.000088</span>     <span style=\"color: #7f7f7f; text-decoration-color: #7f7f7f\">                   </span>\n",
       "<span style=\"color: #7fbfbf; text-decoration-color: #7fbfbf\">           </span>         yahpo/mo/rbv2_xgboost/<span style=\"color: #008080; text-decoration-color: #008080; font-weight: bold\">12</span>/<span style=\"color: #800080; text-decoration-color: #800080; font-style: italic\">None</span>         <span style=\"color: #008080; text-decoration-color: #008080; font-weight: bold\">0.040141</span>        NaN      <span style=\"color: #008080; text-decoration-color: #008080; font-weight: bold\">0.000009</span>     <span style=\"color: #7f7f7f; text-decoration-color: #7f7f7f\">                   </span>\n",
       "<span style=\"color: #7fbfbf; text-decoration-color: #7fbfbf\">           </span>         yahpo/mo/rbv2_xgboost/<span style=\"color: #008080; text-decoration-color: #008080; font-weight: bold\">182</span>/<span style=\"color: #800080; text-decoration-color: #800080; font-style: italic\">None</span>        <span style=\"color: #008080; text-decoration-color: #008080; font-weight: bold\">0.010498</span>        NaN      <span style=\"color: #008080; text-decoration-color: #008080; font-weight: bold\">0.000003</span>     <span style=\"color: #7f7f7f; text-decoration-color: #7f7f7f\">                   </span>\n",
       "</pre>\n"
      ],
      "text/plain": [
       "\u001b[2;36m[19:02:31]\u001b[0m\u001b[2;36m \u001b[0m\u001b[34mINFO    \u001b[0m Lost following experiments: optimizer_id                      Nevergrad-DE  \u001b]8;id=404908;file:///home/numina/Documents/repos/CARP-S-Experiments/lib/CARP-S/carps/analysis/run_autorank.py\u001b\\\u001b[2mrun_autorank.py\u001b[0m\u001b]8;;\u001b\\\u001b[2m:\u001b[0m\u001b]8;id=42262;file:///home/numina/Documents/repos/CARP-S-Experiments/lib/CARP-S/carps/analysis/run_autorank.py#113\u001b\\\u001b[2m113\u001b[0m\u001b]8;;\u001b\\\n",
       "\u001b[2;36m           \u001b[0m         Optuna-MO  RandomSearch                                                     \u001b[2m                   \u001b[0m\n",
       "\u001b[2;36m           \u001b[0m         problem_id                                                                  \u001b[2m                   \u001b[0m\n",
       "\u001b[2;36m           \u001b[0m         yahpo/mo/iaml_ranger/\u001b[1;36m1067\u001b[0m/\u001b[3;35mNone\u001b[0m        \u001b[1;36m0.336826\u001b[0m        NaN      \u001b[1;36m0.217303\u001b[0m     \u001b[2m                   \u001b[0m\n",
       "\u001b[2;36m           \u001b[0m         yahpo/mo/iaml_ranger/\u001b[1;36m1489\u001b[0m/\u001b[3;35mNone\u001b[0m        \u001b[1;36m0.174604\u001b[0m        NaN      \u001b[1;36m0.004866\u001b[0m     \u001b[2m                   \u001b[0m\n",
       "\u001b[2;36m           \u001b[0m         yahpo/mo/iaml_super/\u001b[1;36m1067\u001b[0m/\u001b[3;35mNone\u001b[0m              NaN        NaN      \u001b[1;36m0.000075\u001b[0m     \u001b[2m                   \u001b[0m\n",
       "\u001b[2;36m           \u001b[0m         yahpo/mo/iaml_super/\u001b[1;36m1489\u001b[0m/\u001b[3;35mNone\u001b[0m              NaN        NaN      \u001b[1;36m0.000240\u001b[0m     \u001b[2m                   \u001b[0m\n",
       "\u001b[2;36m           \u001b[0m         yahpo/mo/iaml_xgboost/\u001b[1;36m1489\u001b[0m/\u001b[3;35mNone\u001b[0m       \u001b[1;36m0.203513\u001b[0m        NaN      \u001b[1;36m0.000394\u001b[0m     \u001b[2m                   \u001b[0m\n",
       "\u001b[2;36m           \u001b[0m         yahpo/mo/iaml_xgboost/\u001b[1;36m40981\u001b[0m/\u001b[3;35mNone\u001b[0m      \u001b[1;36m0.201979\u001b[0m        NaN      \u001b[1;36m0.001476\u001b[0m     \u001b[2m                   \u001b[0m\n",
       "\u001b[2;36m           \u001b[0m         yahpo/mo/rbv2_ranger/\u001b[1;36m375\u001b[0m/\u001b[3;35mNone\u001b[0m         \u001b[1;36m0.218806\u001b[0m        NaN      \u001b[1;36m0.049281\u001b[0m     \u001b[2m                   \u001b[0m\n",
       "\u001b[2;36m           \u001b[0m         yahpo/mo/rbv2_ranger/\u001b[1;36m40979\u001b[0m/\u001b[3;35mNone\u001b[0m       \u001b[1;36m0.197883\u001b[0m        NaN      \u001b[1;36m0.067001\u001b[0m     \u001b[2m                   \u001b[0m\n",
       "\u001b[2;36m           \u001b[0m         yahpo/mo/rbv2_ranger/\u001b[1;36m6\u001b[0m/\u001b[3;35mNone\u001b[0m           \u001b[1;36m0.110805\u001b[0m        NaN      \u001b[1;36m0.017989\u001b[0m     \u001b[2m                   \u001b[0m\n",
       "\u001b[2;36m           \u001b[0m         yahpo/mo/rbv2_super/\u001b[1;36m1053\u001b[0m/\u001b[3;35mNone\u001b[0m              NaN        NaN      \u001b[1;36m0.005830\u001b[0m     \u001b[2m                   \u001b[0m\n",
       "\u001b[2;36m           \u001b[0m         yahpo/mo/rbv2_super/\u001b[1;36m6\u001b[0m/\u001b[3;35mNone\u001b[0m                 NaN        NaN      \u001b[1;36m0.000088\u001b[0m     \u001b[2m                   \u001b[0m\n",
       "\u001b[2;36m           \u001b[0m         yahpo/mo/rbv2_xgboost/\u001b[1;36m12\u001b[0m/\u001b[3;35mNone\u001b[0m         \u001b[1;36m0.040141\u001b[0m        NaN      \u001b[1;36m0.000009\u001b[0m     \u001b[2m                   \u001b[0m\n",
       "\u001b[2;36m           \u001b[0m         yahpo/mo/rbv2_xgboost/\u001b[1;36m182\u001b[0m/\u001b[3;35mNone\u001b[0m        \u001b[1;36m0.010498\u001b[0m        NaN      \u001b[1;36m0.000003\u001b[0m     \u001b[2m                   \u001b[0m\n"
      ]
     },
     "metadata": {},
     "output_type": "display_data"
    },
    {
     "name": "stdout",
     "output_type": "stream",
     "text": [
      "Rejecting null hypothesis that data is normal for column Nevergrad-DE (p=0.000000<0.016667)\n",
      "Rejecting null hypothesis that data is normal for column Optuna-MO (p=0.000000<0.016667)\n",
      "Rejecting null hypothesis that data is normal for column RandomSearch (p=0.000000<0.016667)\n",
      "Using Friedman test as omnibus test\n",
      "Rejecting null hypothesis that there is no difference between the distributions (p=0.000446)\n",
      "Using Nemenyi post-hoc test. Differences are significant,if the distance between the mean ranks is greater than the critical distance.\n",
      "              meanrank    median       mad  ci_lower  ci_upper effect_size  \\\n",
      "Nevergrad-DE  1.691358  0.008545  0.008517  0.003887  0.064612         0.0   \n",
      "Optuna-MO     2.000000  0.009992   0.00996  0.004593  0.052571   -0.105373   \n",
      "RandomSearch  2.308642  0.013045  0.012733  0.005525  0.068263   -0.280234   \n",
      "\n",
      "               magnitude  \n",
      "Nevergrad-DE  negligible  \n",
      "Optuna-MO     negligible  \n",
      "RandomSearch       small  \n"
     ]
    },
    {
     "name": "stderr",
     "output_type": "stream",
     "text": [
      "/home/numina/micromamba/envs/carpsexp/lib/python3.11/site-packages/autorank/_util.py:432: FutureWarning: Series.__getitem__ treating keys as positions is deprecated. In a future version, integer keys will always be treated as labels (consistent with DataFrame behavior). To access a value by position, use `ser.iloc[pos]`\n",
      "  if abs(sorted_ranks[i] - sorted_ranks[j]) <= critical_difference:\n"
     ]
    },
    {
     "data": {
      "text/html": [
       "<pre style=\"white-space:pre;overflow-x:auto;line-height:normal;font-family:Menlo,'DejaVu Sans Mono',consolas,'Courier New',monospace\"><span style=\"color: #7fbfbf; text-decoration-color: #7fbfbf\">[19:02:33] </span><span style=\"color: #000080; text-decoration-color: #000080\">INFO    </span> Lost following experiments: optimizer_id                      Nevergrad-DE  <a href=\"file:///home/numina/Documents/repos/CARP-S-Experiments/lib/CARP-S/carps/analysis/run_autorank.py\" target=\"_blank\"><span style=\"color: #7f7f7f; text-decoration-color: #7f7f7f\">run_autorank.py</span></a><span style=\"color: #7f7f7f; text-decoration-color: #7f7f7f\">:</span><a href=\"file:///home/numina/Documents/repos/CARP-S-Experiments/lib/CARP-S/carps/analysis/run_autorank.py#113\" target=\"_blank\"><span style=\"color: #7f7f7f; text-decoration-color: #7f7f7f\">113</span></a>\n",
       "<span style=\"color: #7fbfbf; text-decoration-color: #7fbfbf\">           </span>         Optuna-MO  RandomSearch                                                     <span style=\"color: #7f7f7f; text-decoration-color: #7f7f7f\">                   </span>\n",
       "<span style=\"color: #7fbfbf; text-decoration-color: #7fbfbf\">           </span>         problem_id                                                                  <span style=\"color: #7f7f7f; text-decoration-color: #7f7f7f\">                   </span>\n",
       "<span style=\"color: #7fbfbf; text-decoration-color: #7fbfbf\">           </span>         yahpo/mo/iaml_ranger/<span style=\"color: #008080; text-decoration-color: #008080; font-weight: bold\">1067</span>/<span style=\"color: #800080; text-decoration-color: #800080; font-style: italic\">None</span>        <span style=\"color: #008080; text-decoration-color: #008080; font-weight: bold\">0.336826</span>        NaN      <span style=\"color: #008080; text-decoration-color: #008080; font-weight: bold\">0.217303</span>     <span style=\"color: #7f7f7f; text-decoration-color: #7f7f7f\">                   </span>\n",
       "<span style=\"color: #7fbfbf; text-decoration-color: #7fbfbf\">           </span>         yahpo/mo/iaml_ranger/<span style=\"color: #008080; text-decoration-color: #008080; font-weight: bold\">1489</span>/<span style=\"color: #800080; text-decoration-color: #800080; font-style: italic\">None</span>        <span style=\"color: #008080; text-decoration-color: #008080; font-weight: bold\">0.174604</span>        NaN      <span style=\"color: #008080; text-decoration-color: #008080; font-weight: bold\">0.004866</span>     <span style=\"color: #7f7f7f; text-decoration-color: #7f7f7f\">                   </span>\n",
       "<span style=\"color: #7fbfbf; text-decoration-color: #7fbfbf\">           </span>         yahpo/mo/iaml_super/<span style=\"color: #008080; text-decoration-color: #008080; font-weight: bold\">1067</span>/<span style=\"color: #800080; text-decoration-color: #800080; font-style: italic\">None</span>              NaN        NaN      <span style=\"color: #008080; text-decoration-color: #008080; font-weight: bold\">0.000075</span>     <span style=\"color: #7f7f7f; text-decoration-color: #7f7f7f\">                   </span>\n",
       "<span style=\"color: #7fbfbf; text-decoration-color: #7fbfbf\">           </span>         yahpo/mo/iaml_xgboost/<span style=\"color: #008080; text-decoration-color: #008080; font-weight: bold\">1489</span>/<span style=\"color: #800080; text-decoration-color: #800080; font-style: italic\">None</span>       <span style=\"color: #008080; text-decoration-color: #008080; font-weight: bold\">0.203513</span>        NaN      <span style=\"color: #008080; text-decoration-color: #008080; font-weight: bold\">0.000394</span>     <span style=\"color: #7f7f7f; text-decoration-color: #7f7f7f\">                   </span>\n",
       "<span style=\"color: #7fbfbf; text-decoration-color: #7fbfbf\">           </span>         yahpo/mo/iaml_xgboost/<span style=\"color: #008080; text-decoration-color: #008080; font-weight: bold\">40981</span>/<span style=\"color: #800080; text-decoration-color: #800080; font-style: italic\">None</span>      <span style=\"color: #008080; text-decoration-color: #008080; font-weight: bold\">0.201979</span>        NaN      <span style=\"color: #008080; text-decoration-color: #008080; font-weight: bold\">0.001476</span>     <span style=\"color: #7f7f7f; text-decoration-color: #7f7f7f\">                   </span>\n",
       "<span style=\"color: #7fbfbf; text-decoration-color: #7fbfbf\">           </span>         yahpo/mo/rbv2_ranger/<span style=\"color: #008080; text-decoration-color: #008080; font-weight: bold\">375</span>/<span style=\"color: #800080; text-decoration-color: #800080; font-style: italic\">None</span>         <span style=\"color: #008080; text-decoration-color: #008080; font-weight: bold\">0.218806</span>        NaN      <span style=\"color: #008080; text-decoration-color: #008080; font-weight: bold\">0.049281</span>     <span style=\"color: #7f7f7f; text-decoration-color: #7f7f7f\">                   </span>\n",
       "<span style=\"color: #7fbfbf; text-decoration-color: #7fbfbf\">           </span>         yahpo/mo/rbv2_super/<span style=\"color: #008080; text-decoration-color: #008080; font-weight: bold\">1053</span>/<span style=\"color: #800080; text-decoration-color: #800080; font-style: italic\">None</span>              NaN        NaN      <span style=\"color: #008080; text-decoration-color: #008080; font-weight: bold\">0.005830</span>     <span style=\"color: #7f7f7f; text-decoration-color: #7f7f7f\">                   </span>\n",
       "<span style=\"color: #7fbfbf; text-decoration-color: #7fbfbf\">           </span>         yahpo/mo/rbv2_super/<span style=\"color: #008080; text-decoration-color: #008080; font-weight: bold\">1457</span>/<span style=\"color: #800080; text-decoration-color: #800080; font-style: italic\">None</span>              NaN        NaN      <span style=\"color: #008080; text-decoration-color: #008080; font-weight: bold\">0.000074</span>     <span style=\"color: #7f7f7f; text-decoration-color: #7f7f7f\">                   </span>\n",
       "<span style=\"color: #7fbfbf; text-decoration-color: #7fbfbf\">           </span>         yahpo/mo/rbv2_super/<span style=\"color: #008080; text-decoration-color: #008080; font-weight: bold\">6</span>/<span style=\"color: #800080; text-decoration-color: #800080; font-style: italic\">None</span>                 NaN        NaN      <span style=\"color: #008080; text-decoration-color: #008080; font-weight: bold\">0.000088</span>     <span style=\"color: #7f7f7f; text-decoration-color: #7f7f7f\">                   </span>\n",
       "<span style=\"color: #7fbfbf; text-decoration-color: #7fbfbf\">           </span>         yahpo/mo/rbv2_xgboost/<span style=\"color: #008080; text-decoration-color: #008080; font-weight: bold\">12</span>/<span style=\"color: #800080; text-decoration-color: #800080; font-style: italic\">None</span>         <span style=\"color: #008080; text-decoration-color: #008080; font-weight: bold\">0.040141</span>        NaN      <span style=\"color: #008080; text-decoration-color: #008080; font-weight: bold\">0.000009</span>     <span style=\"color: #7f7f7f; text-decoration-color: #7f7f7f\">                   </span>\n",
       "<span style=\"color: #7fbfbf; text-decoration-color: #7fbfbf\">           </span>         yahpo/mo/rbv2_xgboost/<span style=\"color: #008080; text-decoration-color: #008080; font-weight: bold\">182</span>/<span style=\"color: #800080; text-decoration-color: #800080; font-style: italic\">None</span>        <span style=\"color: #008080; text-decoration-color: #008080; font-weight: bold\">0.010498</span>        NaN      <span style=\"color: #008080; text-decoration-color: #008080; font-weight: bold\">0.000003</span>     <span style=\"color: #7f7f7f; text-decoration-color: #7f7f7f\">                   </span>\n",
       "<span style=\"color: #7fbfbf; text-decoration-color: #7fbfbf\">           </span>         yahpo/mo/rbv2_xgboost/<span style=\"color: #008080; text-decoration-color: #008080; font-weight: bold\">28</span>/<span style=\"color: #800080; text-decoration-color: #800080; font-style: italic\">None</span>         <span style=\"color: #008080; text-decoration-color: #008080; font-weight: bold\">0.007840</span>        NaN      <span style=\"color: #008080; text-decoration-color: #008080; font-weight: bold\">0.000001</span>     <span style=\"color: #7f7f7f; text-decoration-color: #7f7f7f\">                   </span>\n",
       "</pre>\n"
      ],
      "text/plain": [
       "\u001b[2;36m[19:02:33]\u001b[0m\u001b[2;36m \u001b[0m\u001b[34mINFO    \u001b[0m Lost following experiments: optimizer_id                      Nevergrad-DE  \u001b]8;id=154873;file:///home/numina/Documents/repos/CARP-S-Experiments/lib/CARP-S/carps/analysis/run_autorank.py\u001b\\\u001b[2mrun_autorank.py\u001b[0m\u001b]8;;\u001b\\\u001b[2m:\u001b[0m\u001b]8;id=901870;file:///home/numina/Documents/repos/CARP-S-Experiments/lib/CARP-S/carps/analysis/run_autorank.py#113\u001b\\\u001b[2m113\u001b[0m\u001b]8;;\u001b\\\n",
       "\u001b[2;36m           \u001b[0m         Optuna-MO  RandomSearch                                                     \u001b[2m                   \u001b[0m\n",
       "\u001b[2;36m           \u001b[0m         problem_id                                                                  \u001b[2m                   \u001b[0m\n",
       "\u001b[2;36m           \u001b[0m         yahpo/mo/iaml_ranger/\u001b[1;36m1067\u001b[0m/\u001b[3;35mNone\u001b[0m        \u001b[1;36m0.336826\u001b[0m        NaN      \u001b[1;36m0.217303\u001b[0m     \u001b[2m                   \u001b[0m\n",
       "\u001b[2;36m           \u001b[0m         yahpo/mo/iaml_ranger/\u001b[1;36m1489\u001b[0m/\u001b[3;35mNone\u001b[0m        \u001b[1;36m0.174604\u001b[0m        NaN      \u001b[1;36m0.004866\u001b[0m     \u001b[2m                   \u001b[0m\n",
       "\u001b[2;36m           \u001b[0m         yahpo/mo/iaml_super/\u001b[1;36m1067\u001b[0m/\u001b[3;35mNone\u001b[0m              NaN        NaN      \u001b[1;36m0.000075\u001b[0m     \u001b[2m                   \u001b[0m\n",
       "\u001b[2;36m           \u001b[0m         yahpo/mo/iaml_xgboost/\u001b[1;36m1489\u001b[0m/\u001b[3;35mNone\u001b[0m       \u001b[1;36m0.203513\u001b[0m        NaN      \u001b[1;36m0.000394\u001b[0m     \u001b[2m                   \u001b[0m\n",
       "\u001b[2;36m           \u001b[0m         yahpo/mo/iaml_xgboost/\u001b[1;36m40981\u001b[0m/\u001b[3;35mNone\u001b[0m      \u001b[1;36m0.201979\u001b[0m        NaN      \u001b[1;36m0.001476\u001b[0m     \u001b[2m                   \u001b[0m\n",
       "\u001b[2;36m           \u001b[0m         yahpo/mo/rbv2_ranger/\u001b[1;36m375\u001b[0m/\u001b[3;35mNone\u001b[0m         \u001b[1;36m0.218806\u001b[0m        NaN      \u001b[1;36m0.049281\u001b[0m     \u001b[2m                   \u001b[0m\n",
       "\u001b[2;36m           \u001b[0m         yahpo/mo/rbv2_super/\u001b[1;36m1053\u001b[0m/\u001b[3;35mNone\u001b[0m              NaN        NaN      \u001b[1;36m0.005830\u001b[0m     \u001b[2m                   \u001b[0m\n",
       "\u001b[2;36m           \u001b[0m         yahpo/mo/rbv2_super/\u001b[1;36m1457\u001b[0m/\u001b[3;35mNone\u001b[0m              NaN        NaN      \u001b[1;36m0.000074\u001b[0m     \u001b[2m                   \u001b[0m\n",
       "\u001b[2;36m           \u001b[0m         yahpo/mo/rbv2_super/\u001b[1;36m6\u001b[0m/\u001b[3;35mNone\u001b[0m                 NaN        NaN      \u001b[1;36m0.000088\u001b[0m     \u001b[2m                   \u001b[0m\n",
       "\u001b[2;36m           \u001b[0m         yahpo/mo/rbv2_xgboost/\u001b[1;36m12\u001b[0m/\u001b[3;35mNone\u001b[0m         \u001b[1;36m0.040141\u001b[0m        NaN      \u001b[1;36m0.000009\u001b[0m     \u001b[2m                   \u001b[0m\n",
       "\u001b[2;36m           \u001b[0m         yahpo/mo/rbv2_xgboost/\u001b[1;36m182\u001b[0m/\u001b[3;35mNone\u001b[0m        \u001b[1;36m0.010498\u001b[0m        NaN      \u001b[1;36m0.000003\u001b[0m     \u001b[2m                   \u001b[0m\n",
       "\u001b[2;36m           \u001b[0m         yahpo/mo/rbv2_xgboost/\u001b[1;36m28\u001b[0m/\u001b[3;35mNone\u001b[0m         \u001b[1;36m0.007840\u001b[0m        NaN      \u001b[1;36m0.000001\u001b[0m     \u001b[2m                   \u001b[0m\n"
      ]
     },
     "metadata": {},
     "output_type": "display_data"
    },
    {
     "name": "stdout",
     "output_type": "stream",
     "text": [
      "Rejecting null hypothesis that data is normal for column Nevergrad-DE (p=0.000000<0.016667)\n",
      "Rejecting null hypothesis that data is normal for column Optuna-MO (p=0.000000<0.016667)\n",
      "Rejecting null hypothesis that data is normal for column RandomSearch (p=0.000000<0.016667)\n",
      "Using Friedman test as omnibus test\n",
      "Rejecting null hypothesis that there is no difference between the distributions (p=0.000365)\n",
      "Using Nemenyi post-hoc test. Differences are significant,if the distance between the mean ranks is greater than the critical distance.\n",
      "              meanrank    median       mad  ci_lower  ci_upper effect_size  \\\n",
      "Nevergrad-DE  1.710843  0.007491  0.007289  0.002258  0.062983         0.0   \n",
      "Optuna-MO     1.963855  0.009795  0.009765  0.004782  0.064963   -0.180343   \n",
      "RandomSearch  2.325301  0.010683  0.010583  0.005525  0.065524   -0.236921   \n",
      "\n",
      "               magnitude  \n",
      "Nevergrad-DE  negligible  \n",
      "Optuna-MO     negligible  \n",
      "RandomSearch       small  \n"
     ]
    },
    {
     "name": "stderr",
     "output_type": "stream",
     "text": [
      "/home/numina/micromamba/envs/carpsexp/lib/python3.11/site-packages/autorank/_util.py:432: FutureWarning: Series.__getitem__ treating keys as positions is deprecated. In a future version, integer keys will always be treated as labels (consistent with DataFrame behavior). To access a value by position, use `ser.iloc[pos]`\n",
      "  if abs(sorted_ranks[i] - sorted_ranks[j]) <= critical_difference:\n"
     ]
    },
    {
     "data": {
      "text/html": [
       "<pre style=\"white-space:pre;overflow-x:auto;line-height:normal;font-family:Menlo,'DejaVu Sans Mono',consolas,'Courier New',monospace\"><span style=\"color: #7fbfbf; text-decoration-color: #7fbfbf\">[19:02:34] </span><span style=\"color: #000080; text-decoration-color: #000080\">INFO    </span> Lost following experiments: optimizer_id                      Nevergrad-DE  <a href=\"file:///home/numina/Documents/repos/CARP-S-Experiments/lib/CARP-S/carps/analysis/run_autorank.py\" target=\"_blank\"><span style=\"color: #7f7f7f; text-decoration-color: #7f7f7f\">run_autorank.py</span></a><span style=\"color: #7f7f7f; text-decoration-color: #7f7f7f\">:</span><a href=\"file:///home/numina/Documents/repos/CARP-S-Experiments/lib/CARP-S/carps/analysis/run_autorank.py#113\" target=\"_blank\"><span style=\"color: #7f7f7f; text-decoration-color: #7f7f7f\">113</span></a>\n",
       "<span style=\"color: #7fbfbf; text-decoration-color: #7fbfbf\">           </span>         Optuna-MO  RandomSearch                                                     <span style=\"color: #7f7f7f; text-decoration-color: #7f7f7f\">                   </span>\n",
       "<span style=\"color: #7fbfbf; text-decoration-color: #7fbfbf\">           </span>         problem_id                                                                  <span style=\"color: #7f7f7f; text-decoration-color: #7f7f7f\">                   </span>\n",
       "<span style=\"color: #7fbfbf; text-decoration-color: #7fbfbf\">           </span>         yahpo/mo/iaml_ranger/<span style=\"color: #008080; text-decoration-color: #008080; font-weight: bold\">1067</span>/<span style=\"color: #800080; text-decoration-color: #800080; font-style: italic\">None</span>        <span style=\"color: #008080; text-decoration-color: #008080; font-weight: bold\">0.336826</span>        NaN      <span style=\"color: #008080; text-decoration-color: #008080; font-weight: bold\">0.217303</span>     <span style=\"color: #7f7f7f; text-decoration-color: #7f7f7f\">                   </span>\n",
       "<span style=\"color: #7fbfbf; text-decoration-color: #7fbfbf\">           </span>         yahpo/mo/iaml_ranger/<span style=\"color: #008080; text-decoration-color: #008080; font-weight: bold\">1489</span>/<span style=\"color: #800080; text-decoration-color: #800080; font-style: italic\">None</span>        <span style=\"color: #008080; text-decoration-color: #008080; font-weight: bold\">0.174604</span>        NaN      <span style=\"color: #008080; text-decoration-color: #008080; font-weight: bold\">0.004866</span>     <span style=\"color: #7f7f7f; text-decoration-color: #7f7f7f\">                   </span>\n",
       "<span style=\"color: #7fbfbf; text-decoration-color: #7fbfbf\">           </span>         yahpo/mo/iaml_xgboost/<span style=\"color: #008080; text-decoration-color: #008080; font-weight: bold\">40981</span>/<span style=\"color: #800080; text-decoration-color: #800080; font-style: italic\">None</span>      <span style=\"color: #008080; text-decoration-color: #008080; font-weight: bold\">0.201979</span>        NaN      <span style=\"color: #008080; text-decoration-color: #008080; font-weight: bold\">0.001476</span>     <span style=\"color: #7f7f7f; text-decoration-color: #7f7f7f\">                   </span>\n",
       "<span style=\"color: #7fbfbf; text-decoration-color: #7fbfbf\">           </span>         yahpo/mo/rbv2_ranger/<span style=\"color: #008080; text-decoration-color: #008080; font-weight: bold\">375</span>/<span style=\"color: #800080; text-decoration-color: #800080; font-style: italic\">None</span>         <span style=\"color: #008080; text-decoration-color: #008080; font-weight: bold\">0.218806</span>        NaN      <span style=\"color: #008080; text-decoration-color: #008080; font-weight: bold\">0.049281</span>     <span style=\"color: #7f7f7f; text-decoration-color: #7f7f7f\">                   </span>\n",
       "<span style=\"color: #7fbfbf; text-decoration-color: #7fbfbf\">           </span>         yahpo/mo/rbv2_ranger/<span style=\"color: #008080; text-decoration-color: #008080; font-weight: bold\">40979</span>/<span style=\"color: #800080; text-decoration-color: #800080; font-style: italic\">None</span>       <span style=\"color: #008080; text-decoration-color: #008080; font-weight: bold\">0.197883</span>        NaN      <span style=\"color: #008080; text-decoration-color: #008080; font-weight: bold\">0.067001</span>     <span style=\"color: #7f7f7f; text-decoration-color: #7f7f7f\">                   </span>\n",
       "<span style=\"color: #7fbfbf; text-decoration-color: #7fbfbf\">           </span>         yahpo/mo/rbv2_ranger/<span style=\"color: #008080; text-decoration-color: #008080; font-weight: bold\">6</span>/<span style=\"color: #800080; text-decoration-color: #800080; font-style: italic\">None</span>           <span style=\"color: #008080; text-decoration-color: #008080; font-weight: bold\">0.110805</span>        NaN      <span style=\"color: #008080; text-decoration-color: #008080; font-weight: bold\">0.017989</span>     <span style=\"color: #7f7f7f; text-decoration-color: #7f7f7f\">                   </span>\n",
       "<span style=\"color: #7fbfbf; text-decoration-color: #7fbfbf\">           </span>         yahpo/mo/rbv2_super/<span style=\"color: #008080; text-decoration-color: #008080; font-weight: bold\">1053</span>/<span style=\"color: #800080; text-decoration-color: #800080; font-style: italic\">None</span>              NaN        NaN      <span style=\"color: #008080; text-decoration-color: #008080; font-weight: bold\">0.005830</span>     <span style=\"color: #7f7f7f; text-decoration-color: #7f7f7f\">                   </span>\n",
       "<span style=\"color: #7fbfbf; text-decoration-color: #7fbfbf\">           </span>         yahpo/mo/rbv2_super/<span style=\"color: #008080; text-decoration-color: #008080; font-weight: bold\">1457</span>/<span style=\"color: #800080; text-decoration-color: #800080; font-style: italic\">None</span>              NaN        NaN      <span style=\"color: #008080; text-decoration-color: #008080; font-weight: bold\">0.000074</span>     <span style=\"color: #7f7f7f; text-decoration-color: #7f7f7f\">                   </span>\n",
       "<span style=\"color: #7fbfbf; text-decoration-color: #7fbfbf\">           </span>         yahpo/mo/rbv2_super/<span style=\"color: #008080; text-decoration-color: #008080; font-weight: bold\">6</span>/<span style=\"color: #800080; text-decoration-color: #800080; font-style: italic\">None</span>                 NaN        NaN      <span style=\"color: #008080; text-decoration-color: #008080; font-weight: bold\">0.000088</span>     <span style=\"color: #7f7f7f; text-decoration-color: #7f7f7f\">                   </span>\n",
       "<span style=\"color: #7fbfbf; text-decoration-color: #7fbfbf\">           </span>         yahpo/mo/rbv2_xgboost/<span style=\"color: #008080; text-decoration-color: #008080; font-weight: bold\">182</span>/<span style=\"color: #800080; text-decoration-color: #800080; font-style: italic\">None</span>        <span style=\"color: #008080; text-decoration-color: #008080; font-weight: bold\">0.010498</span>        NaN      <span style=\"color: #008080; text-decoration-color: #008080; font-weight: bold\">0.000003</span>     <span style=\"color: #7f7f7f; text-decoration-color: #7f7f7f\">                   </span>\n",
       "<span style=\"color: #7fbfbf; text-decoration-color: #7fbfbf\">           </span>         yahpo/mo/rbv2_xgboost/<span style=\"color: #008080; text-decoration-color: #008080; font-weight: bold\">28</span>/<span style=\"color: #800080; text-decoration-color: #800080; font-style: italic\">None</span>         <span style=\"color: #008080; text-decoration-color: #008080; font-weight: bold\">0.007840</span>        NaN      <span style=\"color: #008080; text-decoration-color: #008080; font-weight: bold\">0.000001</span>     <span style=\"color: #7f7f7f; text-decoration-color: #7f7f7f\">                   </span>\n",
       "</pre>\n"
      ],
      "text/plain": [
       "\u001b[2;36m[19:02:34]\u001b[0m\u001b[2;36m \u001b[0m\u001b[34mINFO    \u001b[0m Lost following experiments: optimizer_id                      Nevergrad-DE  \u001b]8;id=352127;file:///home/numina/Documents/repos/CARP-S-Experiments/lib/CARP-S/carps/analysis/run_autorank.py\u001b\\\u001b[2mrun_autorank.py\u001b[0m\u001b]8;;\u001b\\\u001b[2m:\u001b[0m\u001b]8;id=290411;file:///home/numina/Documents/repos/CARP-S-Experiments/lib/CARP-S/carps/analysis/run_autorank.py#113\u001b\\\u001b[2m113\u001b[0m\u001b]8;;\u001b\\\n",
       "\u001b[2;36m           \u001b[0m         Optuna-MO  RandomSearch                                                     \u001b[2m                   \u001b[0m\n",
       "\u001b[2;36m           \u001b[0m         problem_id                                                                  \u001b[2m                   \u001b[0m\n",
       "\u001b[2;36m           \u001b[0m         yahpo/mo/iaml_ranger/\u001b[1;36m1067\u001b[0m/\u001b[3;35mNone\u001b[0m        \u001b[1;36m0.336826\u001b[0m        NaN      \u001b[1;36m0.217303\u001b[0m     \u001b[2m                   \u001b[0m\n",
       "\u001b[2;36m           \u001b[0m         yahpo/mo/iaml_ranger/\u001b[1;36m1489\u001b[0m/\u001b[3;35mNone\u001b[0m        \u001b[1;36m0.174604\u001b[0m        NaN      \u001b[1;36m0.004866\u001b[0m     \u001b[2m                   \u001b[0m\n",
       "\u001b[2;36m           \u001b[0m         yahpo/mo/iaml_xgboost/\u001b[1;36m40981\u001b[0m/\u001b[3;35mNone\u001b[0m      \u001b[1;36m0.201979\u001b[0m        NaN      \u001b[1;36m0.001476\u001b[0m     \u001b[2m                   \u001b[0m\n",
       "\u001b[2;36m           \u001b[0m         yahpo/mo/rbv2_ranger/\u001b[1;36m375\u001b[0m/\u001b[3;35mNone\u001b[0m         \u001b[1;36m0.218806\u001b[0m        NaN      \u001b[1;36m0.049281\u001b[0m     \u001b[2m                   \u001b[0m\n",
       "\u001b[2;36m           \u001b[0m         yahpo/mo/rbv2_ranger/\u001b[1;36m40979\u001b[0m/\u001b[3;35mNone\u001b[0m       \u001b[1;36m0.197883\u001b[0m        NaN      \u001b[1;36m0.067001\u001b[0m     \u001b[2m                   \u001b[0m\n",
       "\u001b[2;36m           \u001b[0m         yahpo/mo/rbv2_ranger/\u001b[1;36m6\u001b[0m/\u001b[3;35mNone\u001b[0m           \u001b[1;36m0.110805\u001b[0m        NaN      \u001b[1;36m0.017989\u001b[0m     \u001b[2m                   \u001b[0m\n",
       "\u001b[2;36m           \u001b[0m         yahpo/mo/rbv2_super/\u001b[1;36m1053\u001b[0m/\u001b[3;35mNone\u001b[0m              NaN        NaN      \u001b[1;36m0.005830\u001b[0m     \u001b[2m                   \u001b[0m\n",
       "\u001b[2;36m           \u001b[0m         yahpo/mo/rbv2_super/\u001b[1;36m1457\u001b[0m/\u001b[3;35mNone\u001b[0m              NaN        NaN      \u001b[1;36m0.000074\u001b[0m     \u001b[2m                   \u001b[0m\n",
       "\u001b[2;36m           \u001b[0m         yahpo/mo/rbv2_super/\u001b[1;36m6\u001b[0m/\u001b[3;35mNone\u001b[0m                 NaN        NaN      \u001b[1;36m0.000088\u001b[0m     \u001b[2m                   \u001b[0m\n",
       "\u001b[2;36m           \u001b[0m         yahpo/mo/rbv2_xgboost/\u001b[1;36m182\u001b[0m/\u001b[3;35mNone\u001b[0m        \u001b[1;36m0.010498\u001b[0m        NaN      \u001b[1;36m0.000003\u001b[0m     \u001b[2m                   \u001b[0m\n",
       "\u001b[2;36m           \u001b[0m         yahpo/mo/rbv2_xgboost/\u001b[1;36m28\u001b[0m/\u001b[3;35mNone\u001b[0m         \u001b[1;36m0.007840\u001b[0m        NaN      \u001b[1;36m0.000001\u001b[0m     \u001b[2m                   \u001b[0m\n"
      ]
     },
     "metadata": {},
     "output_type": "display_data"
    },
    {
     "name": "stdout",
     "output_type": "stream",
     "text": [
      "Rejecting null hypothesis that data is normal for column Nevergrad-DE (p=0.000000<0.016667)\n",
      "Rejecting null hypothesis that data is normal for column Optuna-MO (p=0.000000<0.016667)\n",
      "Rejecting null hypothesis that data is normal for column RandomSearch (p=0.000000<0.016667)\n",
      "Using Friedman test as omnibus test\n",
      "Rejecting null hypothesis that there is no difference between the distributions (p=0.002447)\n",
      "Using Nemenyi post-hoc test. Differences are significant,if the distance between the mean ranks is greater than the critical distance.\n",
      "              meanrank    median       mad  ci_lower  ci_upper effect_size  \\\n",
      "Nevergrad-DE  1.743590  0.008578  0.008431  0.001327  0.064612         0.0   \n",
      "Optuna-MO     1.961538  0.009641  0.009614  0.003549  0.064963   -0.079285   \n",
      "RandomSearch  2.294872  0.011705  0.011613  0.005451  0.068263   -0.207817   \n",
      "\n",
      "               magnitude  \n",
      "Nevergrad-DE  negligible  \n",
      "Optuna-MO     negligible  \n",
      "RandomSearch       small  \n"
     ]
    },
    {
     "name": "stderr",
     "output_type": "stream",
     "text": [
      "/home/numina/micromamba/envs/carpsexp/lib/python3.11/site-packages/autorank/_util.py:432: FutureWarning: Series.__getitem__ treating keys as positions is deprecated. In a future version, integer keys will always be treated as labels (consistent with DataFrame behavior). To access a value by position, use `ser.iloc[pos]`\n",
      "  if abs(sorted_ranks[i] - sorted_ranks[j]) <= critical_difference:\n"
     ]
    },
    {
     "data": {
      "text/html": [
       "<pre style=\"white-space:pre;overflow-x:auto;line-height:normal;font-family:Menlo,'DejaVu Sans Mono',consolas,'Courier New',monospace\"><span style=\"color: #7fbfbf; text-decoration-color: #7fbfbf\">[19:02:35] </span><span style=\"color: #000080; text-decoration-color: #000080\">INFO    </span> Lost following experiments: optimizer_id                     Nevergrad-DE   <a href=\"file:///home/numina/Documents/repos/CARP-S-Experiments/lib/CARP-S/carps/analysis/run_autorank.py\" target=\"_blank\"><span style=\"color: #7f7f7f; text-decoration-color: #7f7f7f\">run_autorank.py</span></a><span style=\"color: #7f7f7f; text-decoration-color: #7f7f7f\">:</span><a href=\"file:///home/numina/Documents/repos/CARP-S-Experiments/lib/CARP-S/carps/analysis/run_autorank.py#113\" target=\"_blank\"><span style=\"color: #7f7f7f; text-decoration-color: #7f7f7f\">113</span></a>\n",
       "<span style=\"color: #7fbfbf; text-decoration-color: #7fbfbf\">           </span>         Optuna-MO  RandomSearch                                                     <span style=\"color: #7f7f7f; text-decoration-color: #7f7f7f\">                   </span>\n",
       "<span style=\"color: #7fbfbf; text-decoration-color: #7fbfbf\">           </span>         problem_id                                                                  <span style=\"color: #7f7f7f; text-decoration-color: #7f7f7f\">                   </span>\n",
       "<span style=\"color: #7fbfbf; text-decoration-color: #7fbfbf\">           </span>         yahpo/mo/iaml_ranger/<span style=\"color: #008080; text-decoration-color: #008080; font-weight: bold\">1067</span>/<span style=\"color: #800080; text-decoration-color: #800080; font-style: italic\">None</span>       <span style=\"color: #008080; text-decoration-color: #008080; font-weight: bold\">0.336826</span>        NaN      <span style=\"color: #008080; text-decoration-color: #008080; font-weight: bold\">0.217303</span>      <span style=\"color: #7f7f7f; text-decoration-color: #7f7f7f\">                   </span>\n",
       "<span style=\"color: #7fbfbf; text-decoration-color: #7fbfbf\">           </span>         yahpo/mo/iaml_super/<span style=\"color: #008080; text-decoration-color: #008080; font-weight: bold\">1067</span>/<span style=\"color: #800080; text-decoration-color: #800080; font-style: italic\">None</span>             NaN        NaN      <span style=\"color: #008080; text-decoration-color: #008080; font-weight: bold\">0.000075</span>      <span style=\"color: #7f7f7f; text-decoration-color: #7f7f7f\">                   </span>\n",
       "<span style=\"color: #7fbfbf; text-decoration-color: #7fbfbf\">           </span>         yahpo/mo/iaml_super/<span style=\"color: #008080; text-decoration-color: #008080; font-weight: bold\">1489</span>/<span style=\"color: #800080; text-decoration-color: #800080; font-style: italic\">None</span>             NaN        NaN      <span style=\"color: #008080; text-decoration-color: #008080; font-weight: bold\">0.000240</span>      <span style=\"color: #7f7f7f; text-decoration-color: #7f7f7f\">                   </span>\n",
       "<span style=\"color: #7fbfbf; text-decoration-color: #7fbfbf\">           </span>         yahpo/mo/iaml_xgboost/<span style=\"color: #008080; text-decoration-color: #008080; font-weight: bold\">1489</span>/<span style=\"color: #800080; text-decoration-color: #800080; font-style: italic\">None</span>      <span style=\"color: #008080; text-decoration-color: #008080; font-weight: bold\">0.203513</span>        NaN      <span style=\"color: #008080; text-decoration-color: #008080; font-weight: bold\">0.000394</span>      <span style=\"color: #7f7f7f; text-decoration-color: #7f7f7f\">                   </span>\n",
       "<span style=\"color: #7fbfbf; text-decoration-color: #7fbfbf\">           </span>         yahpo/mo/rbv2_ranger/<span style=\"color: #008080; text-decoration-color: #008080; font-weight: bold\">375</span>/<span style=\"color: #800080; text-decoration-color: #800080; font-style: italic\">None</span>        <span style=\"color: #008080; text-decoration-color: #008080; font-weight: bold\">0.218806</span>        NaN      <span style=\"color: #008080; text-decoration-color: #008080; font-weight: bold\">0.049281</span>      <span style=\"color: #7f7f7f; text-decoration-color: #7f7f7f\">                   </span>\n",
       "<span style=\"color: #7fbfbf; text-decoration-color: #7fbfbf\">           </span>         yahpo/mo/rbv2_ranger/<span style=\"color: #008080; text-decoration-color: #008080; font-weight: bold\">40979</span>/<span style=\"color: #800080; text-decoration-color: #800080; font-style: italic\">None</span>      <span style=\"color: #008080; text-decoration-color: #008080; font-weight: bold\">0.197883</span>        NaN      <span style=\"color: #008080; text-decoration-color: #008080; font-weight: bold\">0.067001</span>      <span style=\"color: #7f7f7f; text-decoration-color: #7f7f7f\">                   </span>\n",
       "<span style=\"color: #7fbfbf; text-decoration-color: #7fbfbf\">           </span>         yahpo/mo/rbv2_super/<span style=\"color: #008080; text-decoration-color: #008080; font-weight: bold\">1457</span>/<span style=\"color: #800080; text-decoration-color: #800080; font-style: italic\">None</span>             NaN        NaN      <span style=\"color: #008080; text-decoration-color: #008080; font-weight: bold\">0.000074</span>      <span style=\"color: #7f7f7f; text-decoration-color: #7f7f7f\">                   </span>\n",
       "<span style=\"color: #7fbfbf; text-decoration-color: #7fbfbf\">           </span>         yahpo/mo/rbv2_super/<span style=\"color: #008080; text-decoration-color: #008080; font-weight: bold\">6</span>/<span style=\"color: #800080; text-decoration-color: #800080; font-style: italic\">None</span>                NaN        NaN      <span style=\"color: #008080; text-decoration-color: #008080; font-weight: bold\">0.000088</span>      <span style=\"color: #7f7f7f; text-decoration-color: #7f7f7f\">                   </span>\n",
       "<span style=\"color: #7fbfbf; text-decoration-color: #7fbfbf\">           </span>         yahpo/mo/rbv2_xgboost/<span style=\"color: #008080; text-decoration-color: #008080; font-weight: bold\">12</span>/<span style=\"color: #800080; text-decoration-color: #800080; font-style: italic\">None</span>        <span style=\"color: #008080; text-decoration-color: #008080; font-weight: bold\">0.040141</span>        NaN      <span style=\"color: #008080; text-decoration-color: #008080; font-weight: bold\">0.000009</span>      <span style=\"color: #7f7f7f; text-decoration-color: #7f7f7f\">                   </span>\n",
       "<span style=\"color: #7fbfbf; text-decoration-color: #7fbfbf\">           </span>         yahpo/mo/rbv2_xgboost/<span style=\"color: #008080; text-decoration-color: #008080; font-weight: bold\">28</span>/<span style=\"color: #800080; text-decoration-color: #800080; font-style: italic\">None</span>        <span style=\"color: #008080; text-decoration-color: #008080; font-weight: bold\">0.007840</span>        NaN      <span style=\"color: #008080; text-decoration-color: #008080; font-weight: bold\">0.000001</span>      <span style=\"color: #7f7f7f; text-decoration-color: #7f7f7f\">                   </span>\n",
       "</pre>\n"
      ],
      "text/plain": [
       "\u001b[2;36m[19:02:35]\u001b[0m\u001b[2;36m \u001b[0m\u001b[34mINFO    \u001b[0m Lost following experiments: optimizer_id                     Nevergrad-DE   \u001b]8;id=259620;file:///home/numina/Documents/repos/CARP-S-Experiments/lib/CARP-S/carps/analysis/run_autorank.py\u001b\\\u001b[2mrun_autorank.py\u001b[0m\u001b]8;;\u001b\\\u001b[2m:\u001b[0m\u001b]8;id=843359;file:///home/numina/Documents/repos/CARP-S-Experiments/lib/CARP-S/carps/analysis/run_autorank.py#113\u001b\\\u001b[2m113\u001b[0m\u001b]8;;\u001b\\\n",
       "\u001b[2;36m           \u001b[0m         Optuna-MO  RandomSearch                                                     \u001b[2m                   \u001b[0m\n",
       "\u001b[2;36m           \u001b[0m         problem_id                                                                  \u001b[2m                   \u001b[0m\n",
       "\u001b[2;36m           \u001b[0m         yahpo/mo/iaml_ranger/\u001b[1;36m1067\u001b[0m/\u001b[3;35mNone\u001b[0m       \u001b[1;36m0.336826\u001b[0m        NaN      \u001b[1;36m0.217303\u001b[0m      \u001b[2m                   \u001b[0m\n",
       "\u001b[2;36m           \u001b[0m         yahpo/mo/iaml_super/\u001b[1;36m1067\u001b[0m/\u001b[3;35mNone\u001b[0m             NaN        NaN      \u001b[1;36m0.000075\u001b[0m      \u001b[2m                   \u001b[0m\n",
       "\u001b[2;36m           \u001b[0m         yahpo/mo/iaml_super/\u001b[1;36m1489\u001b[0m/\u001b[3;35mNone\u001b[0m             NaN        NaN      \u001b[1;36m0.000240\u001b[0m      \u001b[2m                   \u001b[0m\n",
       "\u001b[2;36m           \u001b[0m         yahpo/mo/iaml_xgboost/\u001b[1;36m1489\u001b[0m/\u001b[3;35mNone\u001b[0m      \u001b[1;36m0.203513\u001b[0m        NaN      \u001b[1;36m0.000394\u001b[0m      \u001b[2m                   \u001b[0m\n",
       "\u001b[2;36m           \u001b[0m         yahpo/mo/rbv2_ranger/\u001b[1;36m375\u001b[0m/\u001b[3;35mNone\u001b[0m        \u001b[1;36m0.218806\u001b[0m        NaN      \u001b[1;36m0.049281\u001b[0m      \u001b[2m                   \u001b[0m\n",
       "\u001b[2;36m           \u001b[0m         yahpo/mo/rbv2_ranger/\u001b[1;36m40979\u001b[0m/\u001b[3;35mNone\u001b[0m      \u001b[1;36m0.197883\u001b[0m        NaN      \u001b[1;36m0.067001\u001b[0m      \u001b[2m                   \u001b[0m\n",
       "\u001b[2;36m           \u001b[0m         yahpo/mo/rbv2_super/\u001b[1;36m1457\u001b[0m/\u001b[3;35mNone\u001b[0m             NaN        NaN      \u001b[1;36m0.000074\u001b[0m      \u001b[2m                   \u001b[0m\n",
       "\u001b[2;36m           \u001b[0m         yahpo/mo/rbv2_super/\u001b[1;36m6\u001b[0m/\u001b[3;35mNone\u001b[0m                NaN        NaN      \u001b[1;36m0.000088\u001b[0m      \u001b[2m                   \u001b[0m\n",
       "\u001b[2;36m           \u001b[0m         yahpo/mo/rbv2_xgboost/\u001b[1;36m12\u001b[0m/\u001b[3;35mNone\u001b[0m        \u001b[1;36m0.040141\u001b[0m        NaN      \u001b[1;36m0.000009\u001b[0m      \u001b[2m                   \u001b[0m\n",
       "\u001b[2;36m           \u001b[0m         yahpo/mo/rbv2_xgboost/\u001b[1;36m28\u001b[0m/\u001b[3;35mNone\u001b[0m        \u001b[1;36m0.007840\u001b[0m        NaN      \u001b[1;36m0.000001\u001b[0m      \u001b[2m                   \u001b[0m\n"
      ]
     },
     "metadata": {},
     "output_type": "display_data"
    },
    {
     "name": "stdout",
     "output_type": "stream",
     "text": [
      "Rejecting null hypothesis that data is normal for column Nevergrad-DE (p=0.000000<0.016667)\n",
      "Rejecting null hypothesis that data is normal for column Optuna-MO (p=0.000000<0.016667)\n",
      "Rejecting null hypothesis that data is normal for column RandomSearch (p=0.000000<0.016667)\n",
      "Using Friedman test as omnibus test\n",
      "Rejecting null hypothesis that there is no difference between the distributions (p=0.002844)\n",
      "Using Nemenyi post-hoc test. Differences are significant,if the distance between the mean ranks is greater than the critical distance.\n",
      "              meanrank    median       mad  ci_lower  ci_upper effect_size  \\\n",
      "Nevergrad-DE    1.7500  0.007897   0.00764  0.002258  0.037349         0.0   \n",
      "Optuna-MO       1.9625  0.008341   0.00827  0.003549  0.050737   -0.037561   \n",
      "RandomSearch    2.2875  0.010590  0.010234  0.005451  0.047586   -0.201073   \n",
      "\n",
      "               magnitude  \n",
      "Nevergrad-DE  negligible  \n",
      "Optuna-MO     negligible  \n",
      "RandomSearch       small  \n"
     ]
    },
    {
     "name": "stderr",
     "output_type": "stream",
     "text": [
      "/home/numina/micromamba/envs/carpsexp/lib/python3.11/site-packages/autorank/_util.py:432: FutureWarning: Series.__getitem__ treating keys as positions is deprecated. In a future version, integer keys will always be treated as labels (consistent with DataFrame behavior). To access a value by position, use `ser.iloc[pos]`\n",
      "  if abs(sorted_ranks[i] - sorted_ranks[j]) <= critical_difference:\n"
     ]
    },
    {
     "data": {
      "text/html": [
       "<pre style=\"white-space:pre;overflow-x:auto;line-height:normal;font-family:Menlo,'DejaVu Sans Mono',consolas,'Courier New',monospace\"><span style=\"color: #7fbfbf; text-decoration-color: #7fbfbf\">[19:02:36] </span><span style=\"color: #000080; text-decoration-color: #000080\">INFO    </span> Lost following experiments: optimizer_id                      Nevergrad-DE  <a href=\"file:///home/numina/Documents/repos/CARP-S-Experiments/lib/CARP-S/carps/analysis/run_autorank.py\" target=\"_blank\"><span style=\"color: #7f7f7f; text-decoration-color: #7f7f7f\">run_autorank.py</span></a><span style=\"color: #7f7f7f; text-decoration-color: #7f7f7f\">:</span><a href=\"file:///home/numina/Documents/repos/CARP-S-Experiments/lib/CARP-S/carps/analysis/run_autorank.py#113\" target=\"_blank\"><span style=\"color: #7f7f7f; text-decoration-color: #7f7f7f\">113</span></a>\n",
       "<span style=\"color: #7fbfbf; text-decoration-color: #7fbfbf\">           </span>         Optuna-MO  RandomSearch                                                     <span style=\"color: #7f7f7f; text-decoration-color: #7f7f7f\">                   </span>\n",
       "<span style=\"color: #7fbfbf; text-decoration-color: #7fbfbf\">           </span>         problem_id                                                                  <span style=\"color: #7f7f7f; text-decoration-color: #7f7f7f\">                   </span>\n",
       "<span style=\"color: #7fbfbf; text-decoration-color: #7fbfbf\">           </span>         yahpo/mo/iaml_ranger/<span style=\"color: #008080; text-decoration-color: #008080; font-weight: bold\">1067</span>/<span style=\"color: #800080; text-decoration-color: #800080; font-style: italic\">None</span>        <span style=\"color: #008080; text-decoration-color: #008080; font-weight: bold\">0.336826</span>        NaN      <span style=\"color: #008080; text-decoration-color: #008080; font-weight: bold\">0.217303</span>     <span style=\"color: #7f7f7f; text-decoration-color: #7f7f7f\">                   </span>\n",
       "<span style=\"color: #7fbfbf; text-decoration-color: #7fbfbf\">           </span>         yahpo/mo/iaml_ranger/<span style=\"color: #008080; text-decoration-color: #008080; font-weight: bold\">1489</span>/<span style=\"color: #800080; text-decoration-color: #800080; font-style: italic\">None</span>        <span style=\"color: #008080; text-decoration-color: #008080; font-weight: bold\">0.174604</span>        NaN      <span style=\"color: #008080; text-decoration-color: #008080; font-weight: bold\">0.004866</span>     <span style=\"color: #7f7f7f; text-decoration-color: #7f7f7f\">                   </span>\n",
       "<span style=\"color: #7fbfbf; text-decoration-color: #7fbfbf\">           </span>         yahpo/mo/iaml_super/<span style=\"color: #008080; text-decoration-color: #008080; font-weight: bold\">1067</span>/<span style=\"color: #800080; text-decoration-color: #800080; font-style: italic\">None</span>              NaN        NaN      <span style=\"color: #008080; text-decoration-color: #008080; font-weight: bold\">0.000075</span>     <span style=\"color: #7f7f7f; text-decoration-color: #7f7f7f\">                   </span>\n",
       "<span style=\"color: #7fbfbf; text-decoration-color: #7fbfbf\">           </span>         yahpo/mo/iaml_xgboost/<span style=\"color: #008080; text-decoration-color: #008080; font-weight: bold\">1489</span>/<span style=\"color: #800080; text-decoration-color: #800080; font-style: italic\">None</span>       <span style=\"color: #008080; text-decoration-color: #008080; font-weight: bold\">0.203513</span>        NaN      <span style=\"color: #008080; text-decoration-color: #008080; font-weight: bold\">0.000394</span>     <span style=\"color: #7f7f7f; text-decoration-color: #7f7f7f\">                   </span>\n",
       "<span style=\"color: #7fbfbf; text-decoration-color: #7fbfbf\">           </span>         yahpo/mo/iaml_xgboost/<span style=\"color: #008080; text-decoration-color: #008080; font-weight: bold\">40981</span>/<span style=\"color: #800080; text-decoration-color: #800080; font-style: italic\">None</span>      <span style=\"color: #008080; text-decoration-color: #008080; font-weight: bold\">0.201979</span>        NaN      <span style=\"color: #008080; text-decoration-color: #008080; font-weight: bold\">0.001476</span>     <span style=\"color: #7f7f7f; text-decoration-color: #7f7f7f\">                   </span>\n",
       "<span style=\"color: #7fbfbf; text-decoration-color: #7fbfbf\">           </span>         yahpo/mo/rbv2_ranger/<span style=\"color: #008080; text-decoration-color: #008080; font-weight: bold\">375</span>/<span style=\"color: #800080; text-decoration-color: #800080; font-style: italic\">None</span>         <span style=\"color: #008080; text-decoration-color: #008080; font-weight: bold\">0.218806</span>        NaN      <span style=\"color: #008080; text-decoration-color: #008080; font-weight: bold\">0.049281</span>     <span style=\"color: #7f7f7f; text-decoration-color: #7f7f7f\">                   </span>\n",
       "<span style=\"color: #7fbfbf; text-decoration-color: #7fbfbf\">           </span>         yahpo/mo/rbv2_ranger/<span style=\"color: #008080; text-decoration-color: #008080; font-weight: bold\">6</span>/<span style=\"color: #800080; text-decoration-color: #800080; font-style: italic\">None</span>           <span style=\"color: #008080; text-decoration-color: #008080; font-weight: bold\">0.110805</span>        NaN      <span style=\"color: #008080; text-decoration-color: #008080; font-weight: bold\">0.017989</span>     <span style=\"color: #7f7f7f; text-decoration-color: #7f7f7f\">                   </span>\n",
       "<span style=\"color: #7fbfbf; text-decoration-color: #7fbfbf\">           </span>         yahpo/mo/rbv2_super/<span style=\"color: #008080; text-decoration-color: #008080; font-weight: bold\">1053</span>/<span style=\"color: #800080; text-decoration-color: #800080; font-style: italic\">None</span>              NaN        NaN      <span style=\"color: #008080; text-decoration-color: #008080; font-weight: bold\">0.005830</span>     <span style=\"color: #7f7f7f; text-decoration-color: #7f7f7f\">                   </span>\n",
       "<span style=\"color: #7fbfbf; text-decoration-color: #7fbfbf\">           </span>         yahpo/mo/rbv2_super/<span style=\"color: #008080; text-decoration-color: #008080; font-weight: bold\">6</span>/<span style=\"color: #800080; text-decoration-color: #800080; font-style: italic\">None</span>                 NaN        NaN      <span style=\"color: #008080; text-decoration-color: #008080; font-weight: bold\">0.000088</span>     <span style=\"color: #7f7f7f; text-decoration-color: #7f7f7f\">                   </span>\n",
       "<span style=\"color: #7fbfbf; text-decoration-color: #7fbfbf\">           </span>         yahpo/mo/rbv2_xgboost/<span style=\"color: #008080; text-decoration-color: #008080; font-weight: bold\">182</span>/<span style=\"color: #800080; text-decoration-color: #800080; font-style: italic\">None</span>        <span style=\"color: #008080; text-decoration-color: #008080; font-weight: bold\">0.010498</span>        NaN      <span style=\"color: #008080; text-decoration-color: #008080; font-weight: bold\">0.000003</span>     <span style=\"color: #7f7f7f; text-decoration-color: #7f7f7f\">                   </span>\n",
       "<span style=\"color: #7fbfbf; text-decoration-color: #7fbfbf\">           </span>         yahpo/mo/rbv2_xgboost/<span style=\"color: #008080; text-decoration-color: #008080; font-weight: bold\">28</span>/<span style=\"color: #800080; text-decoration-color: #800080; font-style: italic\">None</span>         <span style=\"color: #008080; text-decoration-color: #008080; font-weight: bold\">0.007840</span>        NaN      <span style=\"color: #008080; text-decoration-color: #008080; font-weight: bold\">0.000001</span>     <span style=\"color: #7f7f7f; text-decoration-color: #7f7f7f\">                   </span>\n",
       "</pre>\n"
      ],
      "text/plain": [
       "\u001b[2;36m[19:02:36]\u001b[0m\u001b[2;36m \u001b[0m\u001b[34mINFO    \u001b[0m Lost following experiments: optimizer_id                      Nevergrad-DE  \u001b]8;id=42048;file:///home/numina/Documents/repos/CARP-S-Experiments/lib/CARP-S/carps/analysis/run_autorank.py\u001b\\\u001b[2mrun_autorank.py\u001b[0m\u001b]8;;\u001b\\\u001b[2m:\u001b[0m\u001b]8;id=708556;file:///home/numina/Documents/repos/CARP-S-Experiments/lib/CARP-S/carps/analysis/run_autorank.py#113\u001b\\\u001b[2m113\u001b[0m\u001b]8;;\u001b\\\n",
       "\u001b[2;36m           \u001b[0m         Optuna-MO  RandomSearch                                                     \u001b[2m                   \u001b[0m\n",
       "\u001b[2;36m           \u001b[0m         problem_id                                                                  \u001b[2m                   \u001b[0m\n",
       "\u001b[2;36m           \u001b[0m         yahpo/mo/iaml_ranger/\u001b[1;36m1067\u001b[0m/\u001b[3;35mNone\u001b[0m        \u001b[1;36m0.336826\u001b[0m        NaN      \u001b[1;36m0.217303\u001b[0m     \u001b[2m                   \u001b[0m\n",
       "\u001b[2;36m           \u001b[0m         yahpo/mo/iaml_ranger/\u001b[1;36m1489\u001b[0m/\u001b[3;35mNone\u001b[0m        \u001b[1;36m0.174604\u001b[0m        NaN      \u001b[1;36m0.004866\u001b[0m     \u001b[2m                   \u001b[0m\n",
       "\u001b[2;36m           \u001b[0m         yahpo/mo/iaml_super/\u001b[1;36m1067\u001b[0m/\u001b[3;35mNone\u001b[0m              NaN        NaN      \u001b[1;36m0.000075\u001b[0m     \u001b[2m                   \u001b[0m\n",
       "\u001b[2;36m           \u001b[0m         yahpo/mo/iaml_xgboost/\u001b[1;36m1489\u001b[0m/\u001b[3;35mNone\u001b[0m       \u001b[1;36m0.203513\u001b[0m        NaN      \u001b[1;36m0.000394\u001b[0m     \u001b[2m                   \u001b[0m\n",
       "\u001b[2;36m           \u001b[0m         yahpo/mo/iaml_xgboost/\u001b[1;36m40981\u001b[0m/\u001b[3;35mNone\u001b[0m      \u001b[1;36m0.201979\u001b[0m        NaN      \u001b[1;36m0.001476\u001b[0m     \u001b[2m                   \u001b[0m\n",
       "\u001b[2;36m           \u001b[0m         yahpo/mo/rbv2_ranger/\u001b[1;36m375\u001b[0m/\u001b[3;35mNone\u001b[0m         \u001b[1;36m0.218806\u001b[0m        NaN      \u001b[1;36m0.049281\u001b[0m     \u001b[2m                   \u001b[0m\n",
       "\u001b[2;36m           \u001b[0m         yahpo/mo/rbv2_ranger/\u001b[1;36m6\u001b[0m/\u001b[3;35mNone\u001b[0m           \u001b[1;36m0.110805\u001b[0m        NaN      \u001b[1;36m0.017989\u001b[0m     \u001b[2m                   \u001b[0m\n",
       "\u001b[2;36m           \u001b[0m         yahpo/mo/rbv2_super/\u001b[1;36m1053\u001b[0m/\u001b[3;35mNone\u001b[0m              NaN        NaN      \u001b[1;36m0.005830\u001b[0m     \u001b[2m                   \u001b[0m\n",
       "\u001b[2;36m           \u001b[0m         yahpo/mo/rbv2_super/\u001b[1;36m6\u001b[0m/\u001b[3;35mNone\u001b[0m                 NaN        NaN      \u001b[1;36m0.000088\u001b[0m     \u001b[2m                   \u001b[0m\n",
       "\u001b[2;36m           \u001b[0m         yahpo/mo/rbv2_xgboost/\u001b[1;36m182\u001b[0m/\u001b[3;35mNone\u001b[0m        \u001b[1;36m0.010498\u001b[0m        NaN      \u001b[1;36m0.000003\u001b[0m     \u001b[2m                   \u001b[0m\n",
       "\u001b[2;36m           \u001b[0m         yahpo/mo/rbv2_xgboost/\u001b[1;36m28\u001b[0m/\u001b[3;35mNone\u001b[0m         \u001b[1;36m0.007840\u001b[0m        NaN      \u001b[1;36m0.000001\u001b[0m     \u001b[2m                   \u001b[0m\n"
      ]
     },
     "metadata": {},
     "output_type": "display_data"
    },
    {
     "name": "stdout",
     "output_type": "stream",
     "text": [
      "Rejecting null hypothesis that data is normal for column Nevergrad-DE (p=0.000000<0.016667)\n",
      "Rejecting null hypothesis that data is normal for column Optuna-MO (p=0.000000<0.016667)\n",
      "Rejecting null hypothesis that data is normal for column RandomSearch (p=0.000000<0.016667)\n",
      "Using Friedman test as omnibus test\n",
      "Rejecting null hypothesis that there is no difference between the distributions (p=0.000020)\n",
      "Using Nemenyi post-hoc test. Differences are significant,if the distance between the mean ranks is greater than the critical distance.\n",
      "              meanrank    median       mad  ci_lower  ci_upper effect_size  \\\n",
      "Nevergrad-DE  1.658228  0.007491  0.007125  0.001327  0.065317         0.0   \n",
      "Optuna-MO     1.949367  0.008571  0.008478  0.003011  0.063016   -0.092974   \n",
      "RandomSearch  2.392405  0.010496  0.009696  0.003702   0.07337   -0.238188   \n",
      "\n",
      "               magnitude  \n",
      "Nevergrad-DE  negligible  \n",
      "Optuna-MO     negligible  \n",
      "RandomSearch       small  \n"
     ]
    },
    {
     "name": "stderr",
     "output_type": "stream",
     "text": [
      "/home/numina/micromamba/envs/carpsexp/lib/python3.11/site-packages/autorank/_util.py:432: FutureWarning: Series.__getitem__ treating keys as positions is deprecated. In a future version, integer keys will always be treated as labels (consistent with DataFrame behavior). To access a value by position, use `ser.iloc[pos]`\n",
      "  if abs(sorted_ranks[i] - sorted_ranks[j]) <= critical_difference:\n"
     ]
    },
    {
     "data": {
      "text/html": [
       "<pre style=\"white-space:pre;overflow-x:auto;line-height:normal;font-family:Menlo,'DejaVu Sans Mono',consolas,'Courier New',monospace\"><span style=\"color: #7fbfbf; text-decoration-color: #7fbfbf\">[19:02:37] </span><span style=\"color: #000080; text-decoration-color: #000080\">INFO    </span> Lost following experiments: optimizer_id                     Nevergrad-DE   <a href=\"file:///home/numina/Documents/repos/CARP-S-Experiments/lib/CARP-S/carps/analysis/run_autorank.py\" target=\"_blank\"><span style=\"color: #7f7f7f; text-decoration-color: #7f7f7f\">run_autorank.py</span></a><span style=\"color: #7f7f7f; text-decoration-color: #7f7f7f\">:</span><a href=\"file:///home/numina/Documents/repos/CARP-S-Experiments/lib/CARP-S/carps/analysis/run_autorank.py#113\" target=\"_blank\"><span style=\"color: #7f7f7f; text-decoration-color: #7f7f7f\">113</span></a>\n",
       "<span style=\"color: #7fbfbf; text-decoration-color: #7fbfbf\">           </span>         Optuna-MO  RandomSearch                                                     <span style=\"color: #7f7f7f; text-decoration-color: #7f7f7f\">                   </span>\n",
       "<span style=\"color: #7fbfbf; text-decoration-color: #7fbfbf\">           </span>         problem_id                                                                  <span style=\"color: #7f7f7f; text-decoration-color: #7f7f7f\">                   </span>\n",
       "<span style=\"color: #7fbfbf; text-decoration-color: #7fbfbf\">           </span>         yahpo/mo/iaml_ranger/<span style=\"color: #008080; text-decoration-color: #008080; font-weight: bold\">1067</span>/<span style=\"color: #800080; text-decoration-color: #800080; font-style: italic\">None</span>       <span style=\"color: #008080; text-decoration-color: #008080; font-weight: bold\">0.336826</span>        NaN      <span style=\"color: #008080; text-decoration-color: #008080; font-weight: bold\">0.217303</span>      <span style=\"color: #7f7f7f; text-decoration-color: #7f7f7f\">                   </span>\n",
       "<span style=\"color: #7fbfbf; text-decoration-color: #7fbfbf\">           </span>         yahpo/mo/iaml_ranger/<span style=\"color: #008080; text-decoration-color: #008080; font-weight: bold\">1489</span>/<span style=\"color: #800080; text-decoration-color: #800080; font-style: italic\">None</span>       <span style=\"color: #008080; text-decoration-color: #008080; font-weight: bold\">0.174604</span>        NaN      <span style=\"color: #008080; text-decoration-color: #008080; font-weight: bold\">0.004866</span>      <span style=\"color: #7f7f7f; text-decoration-color: #7f7f7f\">                   </span>\n",
       "<span style=\"color: #7fbfbf; text-decoration-color: #7fbfbf\">           </span>         yahpo/mo/iaml_super/<span style=\"color: #008080; text-decoration-color: #008080; font-weight: bold\">1067</span>/<span style=\"color: #800080; text-decoration-color: #800080; font-style: italic\">None</span>             NaN        NaN      <span style=\"color: #008080; text-decoration-color: #008080; font-weight: bold\">0.000075</span>      <span style=\"color: #7f7f7f; text-decoration-color: #7f7f7f\">                   </span>\n",
       "<span style=\"color: #7fbfbf; text-decoration-color: #7fbfbf\">           </span>         yahpo/mo/iaml_super/<span style=\"color: #008080; text-decoration-color: #008080; font-weight: bold\">1489</span>/<span style=\"color: #800080; text-decoration-color: #800080; font-style: italic\">None</span>             NaN        NaN      <span style=\"color: #008080; text-decoration-color: #008080; font-weight: bold\">0.000240</span>      <span style=\"color: #7f7f7f; text-decoration-color: #7f7f7f\">                   </span>\n",
       "<span style=\"color: #7fbfbf; text-decoration-color: #7fbfbf\">           </span>         yahpo/mo/rbv2_ranger/<span style=\"color: #008080; text-decoration-color: #008080; font-weight: bold\">375</span>/<span style=\"color: #800080; text-decoration-color: #800080; font-style: italic\">None</span>        <span style=\"color: #008080; text-decoration-color: #008080; font-weight: bold\">0.218806</span>        NaN      <span style=\"color: #008080; text-decoration-color: #008080; font-weight: bold\">0.049281</span>      <span style=\"color: #7f7f7f; text-decoration-color: #7f7f7f\">                   </span>\n",
       "<span style=\"color: #7fbfbf; text-decoration-color: #7fbfbf\">           </span>         yahpo/mo/rbv2_ranger/<span style=\"color: #008080; text-decoration-color: #008080; font-weight: bold\">40979</span>/<span style=\"color: #800080; text-decoration-color: #800080; font-style: italic\">None</span>      <span style=\"color: #008080; text-decoration-color: #008080; font-weight: bold\">0.197883</span>        NaN      <span style=\"color: #008080; text-decoration-color: #008080; font-weight: bold\">0.067001</span>      <span style=\"color: #7f7f7f; text-decoration-color: #7f7f7f\">                   </span>\n",
       "<span style=\"color: #7fbfbf; text-decoration-color: #7fbfbf\">           </span>         yahpo/mo/rbv2_ranger/<span style=\"color: #008080; text-decoration-color: #008080; font-weight: bold\">6</span>/<span style=\"color: #800080; text-decoration-color: #800080; font-style: italic\">None</span>          <span style=\"color: #008080; text-decoration-color: #008080; font-weight: bold\">0.110805</span>        NaN      <span style=\"color: #008080; text-decoration-color: #008080; font-weight: bold\">0.017989</span>      <span style=\"color: #7f7f7f; text-decoration-color: #7f7f7f\">                   </span>\n",
       "<span style=\"color: #7fbfbf; text-decoration-color: #7fbfbf\">           </span>         yahpo/mo/rbv2_super/<span style=\"color: #008080; text-decoration-color: #008080; font-weight: bold\">1053</span>/<span style=\"color: #800080; text-decoration-color: #800080; font-style: italic\">None</span>             NaN        NaN      <span style=\"color: #008080; text-decoration-color: #008080; font-weight: bold\">0.005830</span>      <span style=\"color: #7f7f7f; text-decoration-color: #7f7f7f\">                   </span>\n",
       "<span style=\"color: #7fbfbf; text-decoration-color: #7fbfbf\">           </span>         yahpo/mo/rbv2_super/<span style=\"color: #008080; text-decoration-color: #008080; font-weight: bold\">1457</span>/<span style=\"color: #800080; text-decoration-color: #800080; font-style: italic\">None</span>             NaN        NaN      <span style=\"color: #008080; text-decoration-color: #008080; font-weight: bold\">0.000074</span>      <span style=\"color: #7f7f7f; text-decoration-color: #7f7f7f\">                   </span>\n",
       "<span style=\"color: #7fbfbf; text-decoration-color: #7fbfbf\">           </span>         yahpo/mo/rbv2_xgboost/<span style=\"color: #008080; text-decoration-color: #008080; font-weight: bold\">12</span>/<span style=\"color: #800080; text-decoration-color: #800080; font-style: italic\">None</span>        <span style=\"color: #008080; text-decoration-color: #008080; font-weight: bold\">0.040141</span>        NaN      <span style=\"color: #008080; text-decoration-color: #008080; font-weight: bold\">0.000009</span>      <span style=\"color: #7f7f7f; text-decoration-color: #7f7f7f\">                   </span>\n",
       "<span style=\"color: #7fbfbf; text-decoration-color: #7fbfbf\">           </span>         yahpo/mo/rbv2_xgboost/<span style=\"color: #008080; text-decoration-color: #008080; font-weight: bold\">28</span>/<span style=\"color: #800080; text-decoration-color: #800080; font-style: italic\">None</span>        <span style=\"color: #008080; text-decoration-color: #008080; font-weight: bold\">0.007840</span>        NaN      <span style=\"color: #008080; text-decoration-color: #008080; font-weight: bold\">0.000001</span>      <span style=\"color: #7f7f7f; text-decoration-color: #7f7f7f\">                   </span>\n",
       "</pre>\n"
      ],
      "text/plain": [
       "\u001b[2;36m[19:02:37]\u001b[0m\u001b[2;36m \u001b[0m\u001b[34mINFO    \u001b[0m Lost following experiments: optimizer_id                     Nevergrad-DE   \u001b]8;id=782422;file:///home/numina/Documents/repos/CARP-S-Experiments/lib/CARP-S/carps/analysis/run_autorank.py\u001b\\\u001b[2mrun_autorank.py\u001b[0m\u001b]8;;\u001b\\\u001b[2m:\u001b[0m\u001b]8;id=646445;file:///home/numina/Documents/repos/CARP-S-Experiments/lib/CARP-S/carps/analysis/run_autorank.py#113\u001b\\\u001b[2m113\u001b[0m\u001b]8;;\u001b\\\n",
       "\u001b[2;36m           \u001b[0m         Optuna-MO  RandomSearch                                                     \u001b[2m                   \u001b[0m\n",
       "\u001b[2;36m           \u001b[0m         problem_id                                                                  \u001b[2m                   \u001b[0m\n",
       "\u001b[2;36m           \u001b[0m         yahpo/mo/iaml_ranger/\u001b[1;36m1067\u001b[0m/\u001b[3;35mNone\u001b[0m       \u001b[1;36m0.336826\u001b[0m        NaN      \u001b[1;36m0.217303\u001b[0m      \u001b[2m                   \u001b[0m\n",
       "\u001b[2;36m           \u001b[0m         yahpo/mo/iaml_ranger/\u001b[1;36m1489\u001b[0m/\u001b[3;35mNone\u001b[0m       \u001b[1;36m0.174604\u001b[0m        NaN      \u001b[1;36m0.004866\u001b[0m      \u001b[2m                   \u001b[0m\n",
       "\u001b[2;36m           \u001b[0m         yahpo/mo/iaml_super/\u001b[1;36m1067\u001b[0m/\u001b[3;35mNone\u001b[0m             NaN        NaN      \u001b[1;36m0.000075\u001b[0m      \u001b[2m                   \u001b[0m\n",
       "\u001b[2;36m           \u001b[0m         yahpo/mo/iaml_super/\u001b[1;36m1489\u001b[0m/\u001b[3;35mNone\u001b[0m             NaN        NaN      \u001b[1;36m0.000240\u001b[0m      \u001b[2m                   \u001b[0m\n",
       "\u001b[2;36m           \u001b[0m         yahpo/mo/rbv2_ranger/\u001b[1;36m375\u001b[0m/\u001b[3;35mNone\u001b[0m        \u001b[1;36m0.218806\u001b[0m        NaN      \u001b[1;36m0.049281\u001b[0m      \u001b[2m                   \u001b[0m\n",
       "\u001b[2;36m           \u001b[0m         yahpo/mo/rbv2_ranger/\u001b[1;36m40979\u001b[0m/\u001b[3;35mNone\u001b[0m      \u001b[1;36m0.197883\u001b[0m        NaN      \u001b[1;36m0.067001\u001b[0m      \u001b[2m                   \u001b[0m\n",
       "\u001b[2;36m           \u001b[0m         yahpo/mo/rbv2_ranger/\u001b[1;36m6\u001b[0m/\u001b[3;35mNone\u001b[0m          \u001b[1;36m0.110805\u001b[0m        NaN      \u001b[1;36m0.017989\u001b[0m      \u001b[2m                   \u001b[0m\n",
       "\u001b[2;36m           \u001b[0m         yahpo/mo/rbv2_super/\u001b[1;36m1053\u001b[0m/\u001b[3;35mNone\u001b[0m             NaN        NaN      \u001b[1;36m0.005830\u001b[0m      \u001b[2m                   \u001b[0m\n",
       "\u001b[2;36m           \u001b[0m         yahpo/mo/rbv2_super/\u001b[1;36m1457\u001b[0m/\u001b[3;35mNone\u001b[0m             NaN        NaN      \u001b[1;36m0.000074\u001b[0m      \u001b[2m                   \u001b[0m\n",
       "\u001b[2;36m           \u001b[0m         yahpo/mo/rbv2_xgboost/\u001b[1;36m12\u001b[0m/\u001b[3;35mNone\u001b[0m        \u001b[1;36m0.040141\u001b[0m        NaN      \u001b[1;36m0.000009\u001b[0m      \u001b[2m                   \u001b[0m\n",
       "\u001b[2;36m           \u001b[0m         yahpo/mo/rbv2_xgboost/\u001b[1;36m28\u001b[0m/\u001b[3;35mNone\u001b[0m        \u001b[1;36m0.007840\u001b[0m        NaN      \u001b[1;36m0.000001\u001b[0m      \u001b[2m                   \u001b[0m\n"
      ]
     },
     "metadata": {},
     "output_type": "display_data"
    },
    {
     "name": "stdout",
     "output_type": "stream",
     "text": [
      "Rejecting null hypothesis that data is normal for column Nevergrad-DE (p=0.000000<0.016667)\n",
      "Rejecting null hypothesis that data is normal for column Optuna-MO (p=0.000000<0.016667)\n",
      "Rejecting null hypothesis that data is normal for column RandomSearch (p=0.000000<0.016667)\n",
      "Using Friedman test as omnibus test\n",
      "Rejecting null hypothesis that there is no difference between the distributions (p=0.000122)\n",
      "Using Nemenyi post-hoc test. Differences are significant,if the distance between the mean ranks is greater than the critical distance.\n",
      "              meanrank    median       mad  ci_lower  ci_upper effect_size  \\\n",
      "Nevergrad-DE    1.6375  0.008980  0.008952   0.00182  0.044524         0.0   \n",
      "Optuna-MO       2.0625  0.011295  0.011268  0.003549  0.052571   -0.153469   \n",
      "RandomSearch    2.3000  0.012591   0.01245  0.003702  0.060729    -0.22461   \n",
      "\n",
      "               magnitude  \n",
      "Nevergrad-DE  negligible  \n",
      "Optuna-MO     negligible  \n",
      "RandomSearch       small  \n"
     ]
    },
    {
     "name": "stderr",
     "output_type": "stream",
     "text": [
      "/home/numina/micromamba/envs/carpsexp/lib/python3.11/site-packages/autorank/_util.py:432: FutureWarning: Series.__getitem__ treating keys as positions is deprecated. In a future version, integer keys will always be treated as labels (consistent with DataFrame behavior). To access a value by position, use `ser.iloc[pos]`\n",
      "  if abs(sorted_ranks[i] - sorted_ranks[j]) <= critical_difference:\n"
     ]
    },
    {
     "data": {
      "text/html": [
       "<pre style=\"white-space:pre;overflow-x:auto;line-height:normal;font-family:Menlo,'DejaVu Sans Mono',consolas,'Courier New',monospace\"><span style=\"color: #7fbfbf; text-decoration-color: #7fbfbf\">[19:02:38] </span><span style=\"color: #000080; text-decoration-color: #000080\">INFO    </span> Lost following experiments: optimizer_id                      Nevergrad-DE  <a href=\"file:///home/numina/Documents/repos/CARP-S-Experiments/lib/CARP-S/carps/analysis/run_autorank.py\" target=\"_blank\"><span style=\"color: #7f7f7f; text-decoration-color: #7f7f7f\">run_autorank.py</span></a><span style=\"color: #7f7f7f; text-decoration-color: #7f7f7f\">:</span><a href=\"file:///home/numina/Documents/repos/CARP-S-Experiments/lib/CARP-S/carps/analysis/run_autorank.py#113\" target=\"_blank\"><span style=\"color: #7f7f7f; text-decoration-color: #7f7f7f\">113</span></a>\n",
       "<span style=\"color: #7fbfbf; text-decoration-color: #7fbfbf\">           </span>         Optuna-MO  RandomSearch                                                     <span style=\"color: #7f7f7f; text-decoration-color: #7f7f7f\">                   </span>\n",
       "<span style=\"color: #7fbfbf; text-decoration-color: #7fbfbf\">           </span>         problem_id                                                                  <span style=\"color: #7f7f7f; text-decoration-color: #7f7f7f\">                   </span>\n",
       "<span style=\"color: #7fbfbf; text-decoration-color: #7fbfbf\">           </span>         yahpo/mo/iaml_ranger/<span style=\"color: #008080; text-decoration-color: #008080; font-weight: bold\">1067</span>/<span style=\"color: #800080; text-decoration-color: #800080; font-style: italic\">None</span>        <span style=\"color: #008080; text-decoration-color: #008080; font-weight: bold\">0.336826</span>        NaN      <span style=\"color: #008080; text-decoration-color: #008080; font-weight: bold\">0.217303</span>     <span style=\"color: #7f7f7f; text-decoration-color: #7f7f7f\">                   </span>\n",
       "<span style=\"color: #7fbfbf; text-decoration-color: #7fbfbf\">           </span>         yahpo/mo/iaml_ranger/<span style=\"color: #008080; text-decoration-color: #008080; font-weight: bold\">1489</span>/<span style=\"color: #800080; text-decoration-color: #800080; font-style: italic\">None</span>        <span style=\"color: #008080; text-decoration-color: #008080; font-weight: bold\">0.174604</span>        NaN      <span style=\"color: #008080; text-decoration-color: #008080; font-weight: bold\">0.004866</span>     <span style=\"color: #7f7f7f; text-decoration-color: #7f7f7f\">                   </span>\n",
       "<span style=\"color: #7fbfbf; text-decoration-color: #7fbfbf\">           </span>         yahpo/mo/iaml_super/<span style=\"color: #008080; text-decoration-color: #008080; font-weight: bold\">1067</span>/<span style=\"color: #800080; text-decoration-color: #800080; font-style: italic\">None</span>              NaN        NaN      <span style=\"color: #008080; text-decoration-color: #008080; font-weight: bold\">0.000075</span>     <span style=\"color: #7f7f7f; text-decoration-color: #7f7f7f\">                   </span>\n",
       "<span style=\"color: #7fbfbf; text-decoration-color: #7fbfbf\">           </span>         yahpo/mo/iaml_super/<span style=\"color: #008080; text-decoration-color: #008080; font-weight: bold\">1489</span>/<span style=\"color: #800080; text-decoration-color: #800080; font-style: italic\">None</span>              NaN        NaN      <span style=\"color: #008080; text-decoration-color: #008080; font-weight: bold\">0.000240</span>     <span style=\"color: #7f7f7f; text-decoration-color: #7f7f7f\">                   </span>\n",
       "<span style=\"color: #7fbfbf; text-decoration-color: #7fbfbf\">           </span>         yahpo/mo/iaml_xgboost/<span style=\"color: #008080; text-decoration-color: #008080; font-weight: bold\">1489</span>/<span style=\"color: #800080; text-decoration-color: #800080; font-style: italic\">None</span>       <span style=\"color: #008080; text-decoration-color: #008080; font-weight: bold\">0.203513</span>        NaN      <span style=\"color: #008080; text-decoration-color: #008080; font-weight: bold\">0.000394</span>     <span style=\"color: #7f7f7f; text-decoration-color: #7f7f7f\">                   </span>\n",
       "<span style=\"color: #7fbfbf; text-decoration-color: #7fbfbf\">           </span>         yahpo/mo/iaml_xgboost/<span style=\"color: #008080; text-decoration-color: #008080; font-weight: bold\">40981</span>/<span style=\"color: #800080; text-decoration-color: #800080; font-style: italic\">None</span>      <span style=\"color: #008080; text-decoration-color: #008080; font-weight: bold\">0.201979</span>        NaN      <span style=\"color: #008080; text-decoration-color: #008080; font-weight: bold\">0.001476</span>     <span style=\"color: #7f7f7f; text-decoration-color: #7f7f7f\">                   </span>\n",
       "<span style=\"color: #7fbfbf; text-decoration-color: #7fbfbf\">           </span>         yahpo/mo/rbv2_ranger/<span style=\"color: #008080; text-decoration-color: #008080; font-weight: bold\">40979</span>/<span style=\"color: #800080; text-decoration-color: #800080; font-style: italic\">None</span>       <span style=\"color: #008080; text-decoration-color: #008080; font-weight: bold\">0.197883</span>        NaN      <span style=\"color: #008080; text-decoration-color: #008080; font-weight: bold\">0.067001</span>     <span style=\"color: #7f7f7f; text-decoration-color: #7f7f7f\">                   </span>\n",
       "<span style=\"color: #7fbfbf; text-decoration-color: #7fbfbf\">           </span>         yahpo/mo/rbv2_ranger/<span style=\"color: #008080; text-decoration-color: #008080; font-weight: bold\">6</span>/<span style=\"color: #800080; text-decoration-color: #800080; font-style: italic\">None</span>           <span style=\"color: #008080; text-decoration-color: #008080; font-weight: bold\">0.110805</span>        NaN      <span style=\"color: #008080; text-decoration-color: #008080; font-weight: bold\">0.017989</span>     <span style=\"color: #7f7f7f; text-decoration-color: #7f7f7f\">                   </span>\n",
       "<span style=\"color: #7fbfbf; text-decoration-color: #7fbfbf\">           </span>         yahpo/mo/rbv2_super/<span style=\"color: #008080; text-decoration-color: #008080; font-weight: bold\">1053</span>/<span style=\"color: #800080; text-decoration-color: #800080; font-style: italic\">None</span>              NaN        NaN      <span style=\"color: #008080; text-decoration-color: #008080; font-weight: bold\">0.005830</span>     <span style=\"color: #7f7f7f; text-decoration-color: #7f7f7f\">                   </span>\n",
       "<span style=\"color: #7fbfbf; text-decoration-color: #7fbfbf\">           </span>         yahpo/mo/rbv2_super/<span style=\"color: #008080; text-decoration-color: #008080; font-weight: bold\">6</span>/<span style=\"color: #800080; text-decoration-color: #800080; font-style: italic\">None</span>                 NaN        NaN      <span style=\"color: #008080; text-decoration-color: #008080; font-weight: bold\">0.000088</span>     <span style=\"color: #7f7f7f; text-decoration-color: #7f7f7f\">                   </span>\n",
       "<span style=\"color: #7fbfbf; text-decoration-color: #7fbfbf\">           </span>         yahpo/mo/rbv2_xgboost/<span style=\"color: #008080; text-decoration-color: #008080; font-weight: bold\">182</span>/<span style=\"color: #800080; text-decoration-color: #800080; font-style: italic\">None</span>        <span style=\"color: #008080; text-decoration-color: #008080; font-weight: bold\">0.010498</span>        NaN      <span style=\"color: #008080; text-decoration-color: #008080; font-weight: bold\">0.000003</span>     <span style=\"color: #7f7f7f; text-decoration-color: #7f7f7f\">                   </span>\n",
       "<span style=\"color: #7fbfbf; text-decoration-color: #7fbfbf\">           </span>         yahpo/mo/rbv2_xgboost/<span style=\"color: #008080; text-decoration-color: #008080; font-weight: bold\">28</span>/<span style=\"color: #800080; text-decoration-color: #800080; font-style: italic\">None</span>         <span style=\"color: #008080; text-decoration-color: #008080; font-weight: bold\">0.007840</span>        NaN      <span style=\"color: #008080; text-decoration-color: #008080; font-weight: bold\">0.000001</span>     <span style=\"color: #7f7f7f; text-decoration-color: #7f7f7f\">                   </span>\n",
       "</pre>\n"
      ],
      "text/plain": [
       "\u001b[2;36m[19:02:38]\u001b[0m\u001b[2;36m \u001b[0m\u001b[34mINFO    \u001b[0m Lost following experiments: optimizer_id                      Nevergrad-DE  \u001b]8;id=718374;file:///home/numina/Documents/repos/CARP-S-Experiments/lib/CARP-S/carps/analysis/run_autorank.py\u001b\\\u001b[2mrun_autorank.py\u001b[0m\u001b]8;;\u001b\\\u001b[2m:\u001b[0m\u001b]8;id=925821;file:///home/numina/Documents/repos/CARP-S-Experiments/lib/CARP-S/carps/analysis/run_autorank.py#113\u001b\\\u001b[2m113\u001b[0m\u001b]8;;\u001b\\\n",
       "\u001b[2;36m           \u001b[0m         Optuna-MO  RandomSearch                                                     \u001b[2m                   \u001b[0m\n",
       "\u001b[2;36m           \u001b[0m         problem_id                                                                  \u001b[2m                   \u001b[0m\n",
       "\u001b[2;36m           \u001b[0m         yahpo/mo/iaml_ranger/\u001b[1;36m1067\u001b[0m/\u001b[3;35mNone\u001b[0m        \u001b[1;36m0.336826\u001b[0m        NaN      \u001b[1;36m0.217303\u001b[0m     \u001b[2m                   \u001b[0m\n",
       "\u001b[2;36m           \u001b[0m         yahpo/mo/iaml_ranger/\u001b[1;36m1489\u001b[0m/\u001b[3;35mNone\u001b[0m        \u001b[1;36m0.174604\u001b[0m        NaN      \u001b[1;36m0.004866\u001b[0m     \u001b[2m                   \u001b[0m\n",
       "\u001b[2;36m           \u001b[0m         yahpo/mo/iaml_super/\u001b[1;36m1067\u001b[0m/\u001b[3;35mNone\u001b[0m              NaN        NaN      \u001b[1;36m0.000075\u001b[0m     \u001b[2m                   \u001b[0m\n",
       "\u001b[2;36m           \u001b[0m         yahpo/mo/iaml_super/\u001b[1;36m1489\u001b[0m/\u001b[3;35mNone\u001b[0m              NaN        NaN      \u001b[1;36m0.000240\u001b[0m     \u001b[2m                   \u001b[0m\n",
       "\u001b[2;36m           \u001b[0m         yahpo/mo/iaml_xgboost/\u001b[1;36m1489\u001b[0m/\u001b[3;35mNone\u001b[0m       \u001b[1;36m0.203513\u001b[0m        NaN      \u001b[1;36m0.000394\u001b[0m     \u001b[2m                   \u001b[0m\n",
       "\u001b[2;36m           \u001b[0m         yahpo/mo/iaml_xgboost/\u001b[1;36m40981\u001b[0m/\u001b[3;35mNone\u001b[0m      \u001b[1;36m0.201979\u001b[0m        NaN      \u001b[1;36m0.001476\u001b[0m     \u001b[2m                   \u001b[0m\n",
       "\u001b[2;36m           \u001b[0m         yahpo/mo/rbv2_ranger/\u001b[1;36m40979\u001b[0m/\u001b[3;35mNone\u001b[0m       \u001b[1;36m0.197883\u001b[0m        NaN      \u001b[1;36m0.067001\u001b[0m     \u001b[2m                   \u001b[0m\n",
       "\u001b[2;36m           \u001b[0m         yahpo/mo/rbv2_ranger/\u001b[1;36m6\u001b[0m/\u001b[3;35mNone\u001b[0m           \u001b[1;36m0.110805\u001b[0m        NaN      \u001b[1;36m0.017989\u001b[0m     \u001b[2m                   \u001b[0m\n",
       "\u001b[2;36m           \u001b[0m         yahpo/mo/rbv2_super/\u001b[1;36m1053\u001b[0m/\u001b[3;35mNone\u001b[0m              NaN        NaN      \u001b[1;36m0.005830\u001b[0m     \u001b[2m                   \u001b[0m\n",
       "\u001b[2;36m           \u001b[0m         yahpo/mo/rbv2_super/\u001b[1;36m6\u001b[0m/\u001b[3;35mNone\u001b[0m                 NaN        NaN      \u001b[1;36m0.000088\u001b[0m     \u001b[2m                   \u001b[0m\n",
       "\u001b[2;36m           \u001b[0m         yahpo/mo/rbv2_xgboost/\u001b[1;36m182\u001b[0m/\u001b[3;35mNone\u001b[0m        \u001b[1;36m0.010498\u001b[0m        NaN      \u001b[1;36m0.000003\u001b[0m     \u001b[2m                   \u001b[0m\n",
       "\u001b[2;36m           \u001b[0m         yahpo/mo/rbv2_xgboost/\u001b[1;36m28\u001b[0m/\u001b[3;35mNone\u001b[0m         \u001b[1;36m0.007840\u001b[0m        NaN      \u001b[1;36m0.000001\u001b[0m     \u001b[2m                   \u001b[0m\n"
      ]
     },
     "metadata": {},
     "output_type": "display_data"
    },
    {
     "name": "stdout",
     "output_type": "stream",
     "text": [
      "Rejecting null hypothesis that data is normal for column Nevergrad-DE (p=0.000000<0.016667)\n",
      "Rejecting null hypothesis that data is normal for column Optuna-MO (p=0.000000<0.016667)\n",
      "Rejecting null hypothesis that data is normal for column RandomSearch (p=0.000000<0.016667)\n",
      "Using Friedman test as omnibus test\n",
      "Rejecting null hypothesis that there is no difference between the distributions (p=0.001382)\n",
      "Using Nemenyi post-hoc test. Differences are significant,if the distance between the mean ranks is greater than the critical distance.\n",
      "              meanrank    median       mad  ci_lower  ci_upper effect_size  \\\n",
      "Nevergrad-DE  1.701299  0.007503  0.007476  0.002258  0.065317         0.0   \n",
      "Optuna-MO     2.012987  0.009992  0.009962  0.003549  0.058713   -0.190646   \n",
      "RandomSearch  2.285714  0.012136  0.012108  0.004708   0.07337   -0.310561   \n",
      "\n",
      "               magnitude  \n",
      "Nevergrad-DE  negligible  \n",
      "Optuna-MO     negligible  \n",
      "RandomSearch       small  \n"
     ]
    },
    {
     "name": "stderr",
     "output_type": "stream",
     "text": [
      "/home/numina/micromamba/envs/carpsexp/lib/python3.11/site-packages/autorank/_util.py:432: FutureWarning: Series.__getitem__ treating keys as positions is deprecated. In a future version, integer keys will always be treated as labels (consistent with DataFrame behavior). To access a value by position, use `ser.iloc[pos]`\n",
      "  if abs(sorted_ranks[i] - sorted_ranks[j]) <= critical_difference:\n"
     ]
    },
    {
     "data": {
      "text/html": [
       "<pre style=\"white-space:pre;overflow-x:auto;line-height:normal;font-family:Menlo,'DejaVu Sans Mono',consolas,'Courier New',monospace\"><span style=\"color: #7fbfbf; text-decoration-color: #7fbfbf\">[19:02:40] </span><span style=\"color: #000080; text-decoration-color: #000080\">INFO    </span> Lost following experiments: optimizer_id                     Nevergrad-DE   <a href=\"file:///home/numina/Documents/repos/CARP-S-Experiments/lib/CARP-S/carps/analysis/run_autorank.py\" target=\"_blank\"><span style=\"color: #7f7f7f; text-decoration-color: #7f7f7f\">run_autorank.py</span></a><span style=\"color: #7f7f7f; text-decoration-color: #7f7f7f\">:</span><a href=\"file:///home/numina/Documents/repos/CARP-S-Experiments/lib/CARP-S/carps/analysis/run_autorank.py#113\" target=\"_blank\"><span style=\"color: #7f7f7f; text-decoration-color: #7f7f7f\">113</span></a>\n",
       "<span style=\"color: #7fbfbf; text-decoration-color: #7fbfbf\">           </span>         Optuna-MO  RandomSearch                                                     <span style=\"color: #7f7f7f; text-decoration-color: #7f7f7f\">                   </span>\n",
       "<span style=\"color: #7fbfbf; text-decoration-color: #7fbfbf\">           </span>         problem_id                                                                  <span style=\"color: #7f7f7f; text-decoration-color: #7f7f7f\">                   </span>\n",
       "<span style=\"color: #7fbfbf; text-decoration-color: #7fbfbf\">           </span>         yahpo/mo/iaml_ranger/<span style=\"color: #008080; text-decoration-color: #008080; font-weight: bold\">1067</span>/<span style=\"color: #800080; text-decoration-color: #800080; font-style: italic\">None</span>       <span style=\"color: #008080; text-decoration-color: #008080; font-weight: bold\">0.336826</span>        NaN      <span style=\"color: #008080; text-decoration-color: #008080; font-weight: bold\">0.217303</span>      <span style=\"color: #7f7f7f; text-decoration-color: #7f7f7f\">                   </span>\n",
       "<span style=\"color: #7fbfbf; text-decoration-color: #7fbfbf\">           </span>         yahpo/mo/iaml_super/<span style=\"color: #008080; text-decoration-color: #008080; font-weight: bold\">1067</span>/<span style=\"color: #800080; text-decoration-color: #800080; font-style: italic\">None</span>             NaN        NaN      <span style=\"color: #008080; text-decoration-color: #008080; font-weight: bold\">0.000075</span>      <span style=\"color: #7f7f7f; text-decoration-color: #7f7f7f\">                   </span>\n",
       "<span style=\"color: #7fbfbf; text-decoration-color: #7fbfbf\">           </span>         yahpo/mo/rbv2_ranger/<span style=\"color: #008080; text-decoration-color: #008080; font-weight: bold\">375</span>/<span style=\"color: #800080; text-decoration-color: #800080; font-style: italic\">None</span>        <span style=\"color: #008080; text-decoration-color: #008080; font-weight: bold\">0.218806</span>        NaN      <span style=\"color: #008080; text-decoration-color: #008080; font-weight: bold\">0.049281</span>      <span style=\"color: #7f7f7f; text-decoration-color: #7f7f7f\">                   </span>\n",
       "<span style=\"color: #7fbfbf; text-decoration-color: #7fbfbf\">           </span>         yahpo/mo/rbv2_ranger/<span style=\"color: #008080; text-decoration-color: #008080; font-weight: bold\">40979</span>/<span style=\"color: #800080; text-decoration-color: #800080; font-style: italic\">None</span>      <span style=\"color: #008080; text-decoration-color: #008080; font-weight: bold\">0.197883</span>        NaN      <span style=\"color: #008080; text-decoration-color: #008080; font-weight: bold\">0.067001</span>      <span style=\"color: #7f7f7f; text-decoration-color: #7f7f7f\">                   </span>\n",
       "<span style=\"color: #7fbfbf; text-decoration-color: #7fbfbf\">           </span>         yahpo/mo/rbv2_ranger/<span style=\"color: #008080; text-decoration-color: #008080; font-weight: bold\">6</span>/<span style=\"color: #800080; text-decoration-color: #800080; font-style: italic\">None</span>          <span style=\"color: #008080; text-decoration-color: #008080; font-weight: bold\">0.110805</span>        NaN      <span style=\"color: #008080; text-decoration-color: #008080; font-weight: bold\">0.017989</span>      <span style=\"color: #7f7f7f; text-decoration-color: #7f7f7f\">                   </span>\n",
       "<span style=\"color: #7fbfbf; text-decoration-color: #7fbfbf\">           </span>         yahpo/mo/rbv2_super/<span style=\"color: #008080; text-decoration-color: #008080; font-weight: bold\">1053</span>/<span style=\"color: #800080; text-decoration-color: #800080; font-style: italic\">None</span>             NaN        NaN      <span style=\"color: #008080; text-decoration-color: #008080; font-weight: bold\">0.005830</span>      <span style=\"color: #7f7f7f; text-decoration-color: #7f7f7f\">                   </span>\n",
       "<span style=\"color: #7fbfbf; text-decoration-color: #7fbfbf\">           </span>         yahpo/mo/rbv2_super/<span style=\"color: #008080; text-decoration-color: #008080; font-weight: bold\">1457</span>/<span style=\"color: #800080; text-decoration-color: #800080; font-style: italic\">None</span>             NaN        NaN      <span style=\"color: #008080; text-decoration-color: #008080; font-weight: bold\">0.000074</span>      <span style=\"color: #7f7f7f; text-decoration-color: #7f7f7f\">                   </span>\n",
       "<span style=\"color: #7fbfbf; text-decoration-color: #7fbfbf\">           </span>         yahpo/mo/rbv2_xgboost/<span style=\"color: #008080; text-decoration-color: #008080; font-weight: bold\">12</span>/<span style=\"color: #800080; text-decoration-color: #800080; font-style: italic\">None</span>        <span style=\"color: #008080; text-decoration-color: #008080; font-weight: bold\">0.040141</span>        NaN      <span style=\"color: #008080; text-decoration-color: #008080; font-weight: bold\">0.000009</span>      <span style=\"color: #7f7f7f; text-decoration-color: #7f7f7f\">                   </span>\n",
       "<span style=\"color: #7fbfbf; text-decoration-color: #7fbfbf\">           </span>         yahpo/mo/rbv2_xgboost/<span style=\"color: #008080; text-decoration-color: #008080; font-weight: bold\">182</span>/<span style=\"color: #800080; text-decoration-color: #800080; font-style: italic\">None</span>       <span style=\"color: #008080; text-decoration-color: #008080; font-weight: bold\">0.010498</span>        NaN      <span style=\"color: #008080; text-decoration-color: #008080; font-weight: bold\">0.000003</span>      <span style=\"color: #7f7f7f; text-decoration-color: #7f7f7f\">                   </span>\n",
       "</pre>\n"
      ],
      "text/plain": [
       "\u001b[2;36m[19:02:40]\u001b[0m\u001b[2;36m \u001b[0m\u001b[34mINFO    \u001b[0m Lost following experiments: optimizer_id                     Nevergrad-DE   \u001b]8;id=521954;file:///home/numina/Documents/repos/CARP-S-Experiments/lib/CARP-S/carps/analysis/run_autorank.py\u001b\\\u001b[2mrun_autorank.py\u001b[0m\u001b]8;;\u001b\\\u001b[2m:\u001b[0m\u001b]8;id=628710;file:///home/numina/Documents/repos/CARP-S-Experiments/lib/CARP-S/carps/analysis/run_autorank.py#113\u001b\\\u001b[2m113\u001b[0m\u001b]8;;\u001b\\\n",
       "\u001b[2;36m           \u001b[0m         Optuna-MO  RandomSearch                                                     \u001b[2m                   \u001b[0m\n",
       "\u001b[2;36m           \u001b[0m         problem_id                                                                  \u001b[2m                   \u001b[0m\n",
       "\u001b[2;36m           \u001b[0m         yahpo/mo/iaml_ranger/\u001b[1;36m1067\u001b[0m/\u001b[3;35mNone\u001b[0m       \u001b[1;36m0.336826\u001b[0m        NaN      \u001b[1;36m0.217303\u001b[0m      \u001b[2m                   \u001b[0m\n",
       "\u001b[2;36m           \u001b[0m         yahpo/mo/iaml_super/\u001b[1;36m1067\u001b[0m/\u001b[3;35mNone\u001b[0m             NaN        NaN      \u001b[1;36m0.000075\u001b[0m      \u001b[2m                   \u001b[0m\n",
       "\u001b[2;36m           \u001b[0m         yahpo/mo/rbv2_ranger/\u001b[1;36m375\u001b[0m/\u001b[3;35mNone\u001b[0m        \u001b[1;36m0.218806\u001b[0m        NaN      \u001b[1;36m0.049281\u001b[0m      \u001b[2m                   \u001b[0m\n",
       "\u001b[2;36m           \u001b[0m         yahpo/mo/rbv2_ranger/\u001b[1;36m40979\u001b[0m/\u001b[3;35mNone\u001b[0m      \u001b[1;36m0.197883\u001b[0m        NaN      \u001b[1;36m0.067001\u001b[0m      \u001b[2m                   \u001b[0m\n",
       "\u001b[2;36m           \u001b[0m         yahpo/mo/rbv2_ranger/\u001b[1;36m6\u001b[0m/\u001b[3;35mNone\u001b[0m          \u001b[1;36m0.110805\u001b[0m        NaN      \u001b[1;36m0.017989\u001b[0m      \u001b[2m                   \u001b[0m\n",
       "\u001b[2;36m           \u001b[0m         yahpo/mo/rbv2_super/\u001b[1;36m1053\u001b[0m/\u001b[3;35mNone\u001b[0m             NaN        NaN      \u001b[1;36m0.005830\u001b[0m      \u001b[2m                   \u001b[0m\n",
       "\u001b[2;36m           \u001b[0m         yahpo/mo/rbv2_super/\u001b[1;36m1457\u001b[0m/\u001b[3;35mNone\u001b[0m             NaN        NaN      \u001b[1;36m0.000074\u001b[0m      \u001b[2m                   \u001b[0m\n",
       "\u001b[2;36m           \u001b[0m         yahpo/mo/rbv2_xgboost/\u001b[1;36m12\u001b[0m/\u001b[3;35mNone\u001b[0m        \u001b[1;36m0.040141\u001b[0m        NaN      \u001b[1;36m0.000009\u001b[0m      \u001b[2m                   \u001b[0m\n",
       "\u001b[2;36m           \u001b[0m         yahpo/mo/rbv2_xgboost/\u001b[1;36m182\u001b[0m/\u001b[3;35mNone\u001b[0m       \u001b[1;36m0.010498\u001b[0m        NaN      \u001b[1;36m0.000003\u001b[0m      \u001b[2m                   \u001b[0m\n"
      ]
     },
     "metadata": {},
     "output_type": "display_data"
    },
    {
     "name": "stdout",
     "output_type": "stream",
     "text": [
      "Rejecting null hypothesis that data is normal for column Nevergrad-DE (p=0.000000<0.016667)\n",
      "Rejecting null hypothesis that data is normal for column Optuna-MO (p=0.000000<0.016667)\n",
      "Rejecting null hypothesis that data is normal for column RandomSearch (p=0.000000<0.016667)\n",
      "Using Friedman test as omnibus test\n",
      "Rejecting null hypothesis that there is no difference between the distributions (p=0.000044)\n",
      "Using Nemenyi post-hoc test. Differences are significant,if the distance between the mean ranks is greater than the critical distance.\n",
      "              meanrank    median       mad  ci_lower  ci_upper effect_size  \\\n",
      "Nevergrad-DE  1.654321  0.007567  0.007355  0.001327  0.037349         0.0   \n",
      "Optuna-MO     1.987654  0.008966  0.008933  0.003011  0.051167   -0.115337   \n",
      "RandomSearch  2.358025  0.010683  0.010371  0.003702  0.047586   -0.233821   \n",
      "\n",
      "               magnitude  \n",
      "Nevergrad-DE  negligible  \n",
      "Optuna-MO     negligible  \n",
      "RandomSearch       small  \n"
     ]
    },
    {
     "name": "stderr",
     "output_type": "stream",
     "text": [
      "/home/numina/micromamba/envs/carpsexp/lib/python3.11/site-packages/autorank/_util.py:432: FutureWarning: Series.__getitem__ treating keys as positions is deprecated. In a future version, integer keys will always be treated as labels (consistent with DataFrame behavior). To access a value by position, use `ser.iloc[pos]`\n",
      "  if abs(sorted_ranks[i] - sorted_ranks[j]) <= critical_difference:\n"
     ]
    },
    {
     "data": {
      "text/html": [
       "<pre style=\"white-space:pre;overflow-x:auto;line-height:normal;font-family:Menlo,'DejaVu Sans Mono',consolas,'Courier New',monospace\"><span style=\"color: #7fbfbf; text-decoration-color: #7fbfbf\">[19:02:41] </span><span style=\"color: #000080; text-decoration-color: #000080\">INFO    </span> Lost following experiments: optimizer_id                      Nevergrad-DE  <a href=\"file:///home/numina/Documents/repos/CARP-S-Experiments/lib/CARP-S/carps/analysis/run_autorank.py\" target=\"_blank\"><span style=\"color: #7f7f7f; text-decoration-color: #7f7f7f\">run_autorank.py</span></a><span style=\"color: #7f7f7f; text-decoration-color: #7f7f7f\">:</span><a href=\"file:///home/numina/Documents/repos/CARP-S-Experiments/lib/CARP-S/carps/analysis/run_autorank.py#113\" target=\"_blank\"><span style=\"color: #7f7f7f; text-decoration-color: #7f7f7f\">113</span></a>\n",
       "<span style=\"color: #7fbfbf; text-decoration-color: #7fbfbf\">           </span>         Optuna-MO  RandomSearch                                                     <span style=\"color: #7f7f7f; text-decoration-color: #7f7f7f\">                   </span>\n",
       "<span style=\"color: #7fbfbf; text-decoration-color: #7fbfbf\">           </span>         problem_id                                                                  <span style=\"color: #7f7f7f; text-decoration-color: #7f7f7f\">                   </span>\n",
       "<span style=\"color: #7fbfbf; text-decoration-color: #7fbfbf\">           </span>         yahpo/mo/iaml_ranger/<span style=\"color: #008080; text-decoration-color: #008080; font-weight: bold\">1067</span>/<span style=\"color: #800080; text-decoration-color: #800080; font-style: italic\">None</span>        <span style=\"color: #008080; text-decoration-color: #008080; font-weight: bold\">0.336826</span>        NaN      <span style=\"color: #008080; text-decoration-color: #008080; font-weight: bold\">0.217303</span>     <span style=\"color: #7f7f7f; text-decoration-color: #7f7f7f\">                   </span>\n",
       "<span style=\"color: #7fbfbf; text-decoration-color: #7fbfbf\">           </span>         yahpo/mo/iaml_super/<span style=\"color: #008080; text-decoration-color: #008080; font-weight: bold\">1067</span>/<span style=\"color: #800080; text-decoration-color: #800080; font-style: italic\">None</span>              NaN        NaN      <span style=\"color: #008080; text-decoration-color: #008080; font-weight: bold\">0.000075</span>     <span style=\"color: #7f7f7f; text-decoration-color: #7f7f7f\">                   </span>\n",
       "<span style=\"color: #7fbfbf; text-decoration-color: #7fbfbf\">           </span>         yahpo/mo/iaml_super/<span style=\"color: #008080; text-decoration-color: #008080; font-weight: bold\">1489</span>/<span style=\"color: #800080; text-decoration-color: #800080; font-style: italic\">None</span>              NaN        NaN      <span style=\"color: #008080; text-decoration-color: #008080; font-weight: bold\">0.000240</span>     <span style=\"color: #7f7f7f; text-decoration-color: #7f7f7f\">                   </span>\n",
       "<span style=\"color: #7fbfbf; text-decoration-color: #7fbfbf\">           </span>         yahpo/mo/iaml_xgboost/<span style=\"color: #008080; text-decoration-color: #008080; font-weight: bold\">1489</span>/<span style=\"color: #800080; text-decoration-color: #800080; font-style: italic\">None</span>       <span style=\"color: #008080; text-decoration-color: #008080; font-weight: bold\">0.203513</span>        NaN      <span style=\"color: #008080; text-decoration-color: #008080; font-weight: bold\">0.000394</span>     <span style=\"color: #7f7f7f; text-decoration-color: #7f7f7f\">                   </span>\n",
       "<span style=\"color: #7fbfbf; text-decoration-color: #7fbfbf\">           </span>         yahpo/mo/iaml_xgboost/<span style=\"color: #008080; text-decoration-color: #008080; font-weight: bold\">40981</span>/<span style=\"color: #800080; text-decoration-color: #800080; font-style: italic\">None</span>      <span style=\"color: #008080; text-decoration-color: #008080; font-weight: bold\">0.201979</span>        NaN      <span style=\"color: #008080; text-decoration-color: #008080; font-weight: bold\">0.001476</span>     <span style=\"color: #7f7f7f; text-decoration-color: #7f7f7f\">                   </span>\n",
       "<span style=\"color: #7fbfbf; text-decoration-color: #7fbfbf\">           </span>         yahpo/mo/rbv2_ranger/<span style=\"color: #008080; text-decoration-color: #008080; font-weight: bold\">375</span>/<span style=\"color: #800080; text-decoration-color: #800080; font-style: italic\">None</span>         <span style=\"color: #008080; text-decoration-color: #008080; font-weight: bold\">0.218806</span>        NaN      <span style=\"color: #008080; text-decoration-color: #008080; font-weight: bold\">0.049281</span>     <span style=\"color: #7f7f7f; text-decoration-color: #7f7f7f\">                   </span>\n",
       "<span style=\"color: #7fbfbf; text-decoration-color: #7fbfbf\">           </span>         yahpo/mo/rbv2_ranger/<span style=\"color: #008080; text-decoration-color: #008080; font-weight: bold\">40979</span>/<span style=\"color: #800080; text-decoration-color: #800080; font-style: italic\">None</span>       <span style=\"color: #008080; text-decoration-color: #008080; font-weight: bold\">0.197883</span>        NaN      <span style=\"color: #008080; text-decoration-color: #008080; font-weight: bold\">0.067001</span>     <span style=\"color: #7f7f7f; text-decoration-color: #7f7f7f\">                   </span>\n",
       "<span style=\"color: #7fbfbf; text-decoration-color: #7fbfbf\">           </span>         yahpo/mo/rbv2_ranger/<span style=\"color: #008080; text-decoration-color: #008080; font-weight: bold\">6</span>/<span style=\"color: #800080; text-decoration-color: #800080; font-style: italic\">None</span>           <span style=\"color: #008080; text-decoration-color: #008080; font-weight: bold\">0.110805</span>        NaN      <span style=\"color: #008080; text-decoration-color: #008080; font-weight: bold\">0.017989</span>     <span style=\"color: #7f7f7f; text-decoration-color: #7f7f7f\">                   </span>\n",
       "<span style=\"color: #7fbfbf; text-decoration-color: #7fbfbf\">           </span>         yahpo/mo/rbv2_super/<span style=\"color: #008080; text-decoration-color: #008080; font-weight: bold\">1457</span>/<span style=\"color: #800080; text-decoration-color: #800080; font-style: italic\">None</span>              NaN        NaN      <span style=\"color: #008080; text-decoration-color: #008080; font-weight: bold\">0.000074</span>     <span style=\"color: #7f7f7f; text-decoration-color: #7f7f7f\">                   </span>\n",
       "<span style=\"color: #7fbfbf; text-decoration-color: #7fbfbf\">           </span>         yahpo/mo/rbv2_xgboost/<span style=\"color: #008080; text-decoration-color: #008080; font-weight: bold\">12</span>/<span style=\"color: #800080; text-decoration-color: #800080; font-style: italic\">None</span>         <span style=\"color: #008080; text-decoration-color: #008080; font-weight: bold\">0.040141</span>        NaN      <span style=\"color: #008080; text-decoration-color: #008080; font-weight: bold\">0.000009</span>     <span style=\"color: #7f7f7f; text-decoration-color: #7f7f7f\">                   </span>\n",
       "<span style=\"color: #7fbfbf; text-decoration-color: #7fbfbf\">           </span>         yahpo/mo/rbv2_xgboost/<span style=\"color: #008080; text-decoration-color: #008080; font-weight: bold\">182</span>/<span style=\"color: #800080; text-decoration-color: #800080; font-style: italic\">None</span>        <span style=\"color: #008080; text-decoration-color: #008080; font-weight: bold\">0.010498</span>        NaN      <span style=\"color: #008080; text-decoration-color: #008080; font-weight: bold\">0.000003</span>     <span style=\"color: #7f7f7f; text-decoration-color: #7f7f7f\">                   </span>\n",
       "<span style=\"color: #7fbfbf; text-decoration-color: #7fbfbf\">           </span>         yahpo/mo/rbv2_xgboost/<span style=\"color: #008080; text-decoration-color: #008080; font-weight: bold\">28</span>/<span style=\"color: #800080; text-decoration-color: #800080; font-style: italic\">None</span>         <span style=\"color: #008080; text-decoration-color: #008080; font-weight: bold\">0.007840</span>        NaN      <span style=\"color: #008080; text-decoration-color: #008080; font-weight: bold\">0.000001</span>     <span style=\"color: #7f7f7f; text-decoration-color: #7f7f7f\">                   </span>\n",
       "</pre>\n"
      ],
      "text/plain": [
       "\u001b[2;36m[19:02:41]\u001b[0m\u001b[2;36m \u001b[0m\u001b[34mINFO    \u001b[0m Lost following experiments: optimizer_id                      Nevergrad-DE  \u001b]8;id=903880;file:///home/numina/Documents/repos/CARP-S-Experiments/lib/CARP-S/carps/analysis/run_autorank.py\u001b\\\u001b[2mrun_autorank.py\u001b[0m\u001b]8;;\u001b\\\u001b[2m:\u001b[0m\u001b]8;id=725191;file:///home/numina/Documents/repos/CARP-S-Experiments/lib/CARP-S/carps/analysis/run_autorank.py#113\u001b\\\u001b[2m113\u001b[0m\u001b]8;;\u001b\\\n",
       "\u001b[2;36m           \u001b[0m         Optuna-MO  RandomSearch                                                     \u001b[2m                   \u001b[0m\n",
       "\u001b[2;36m           \u001b[0m         problem_id                                                                  \u001b[2m                   \u001b[0m\n",
       "\u001b[2;36m           \u001b[0m         yahpo/mo/iaml_ranger/\u001b[1;36m1067\u001b[0m/\u001b[3;35mNone\u001b[0m        \u001b[1;36m0.336826\u001b[0m        NaN      \u001b[1;36m0.217303\u001b[0m     \u001b[2m                   \u001b[0m\n",
       "\u001b[2;36m           \u001b[0m         yahpo/mo/iaml_super/\u001b[1;36m1067\u001b[0m/\u001b[3;35mNone\u001b[0m              NaN        NaN      \u001b[1;36m0.000075\u001b[0m     \u001b[2m                   \u001b[0m\n",
       "\u001b[2;36m           \u001b[0m         yahpo/mo/iaml_super/\u001b[1;36m1489\u001b[0m/\u001b[3;35mNone\u001b[0m              NaN        NaN      \u001b[1;36m0.000240\u001b[0m     \u001b[2m                   \u001b[0m\n",
       "\u001b[2;36m           \u001b[0m         yahpo/mo/iaml_xgboost/\u001b[1;36m1489\u001b[0m/\u001b[3;35mNone\u001b[0m       \u001b[1;36m0.203513\u001b[0m        NaN      \u001b[1;36m0.000394\u001b[0m     \u001b[2m                   \u001b[0m\n",
       "\u001b[2;36m           \u001b[0m         yahpo/mo/iaml_xgboost/\u001b[1;36m40981\u001b[0m/\u001b[3;35mNone\u001b[0m      \u001b[1;36m0.201979\u001b[0m        NaN      \u001b[1;36m0.001476\u001b[0m     \u001b[2m                   \u001b[0m\n",
       "\u001b[2;36m           \u001b[0m         yahpo/mo/rbv2_ranger/\u001b[1;36m375\u001b[0m/\u001b[3;35mNone\u001b[0m         \u001b[1;36m0.218806\u001b[0m        NaN      \u001b[1;36m0.049281\u001b[0m     \u001b[2m                   \u001b[0m\n",
       "\u001b[2;36m           \u001b[0m         yahpo/mo/rbv2_ranger/\u001b[1;36m40979\u001b[0m/\u001b[3;35mNone\u001b[0m       \u001b[1;36m0.197883\u001b[0m        NaN      \u001b[1;36m0.067001\u001b[0m     \u001b[2m                   \u001b[0m\n",
       "\u001b[2;36m           \u001b[0m         yahpo/mo/rbv2_ranger/\u001b[1;36m6\u001b[0m/\u001b[3;35mNone\u001b[0m           \u001b[1;36m0.110805\u001b[0m        NaN      \u001b[1;36m0.017989\u001b[0m     \u001b[2m                   \u001b[0m\n",
       "\u001b[2;36m           \u001b[0m         yahpo/mo/rbv2_super/\u001b[1;36m1457\u001b[0m/\u001b[3;35mNone\u001b[0m              NaN        NaN      \u001b[1;36m0.000074\u001b[0m     \u001b[2m                   \u001b[0m\n",
       "\u001b[2;36m           \u001b[0m         yahpo/mo/rbv2_xgboost/\u001b[1;36m12\u001b[0m/\u001b[3;35mNone\u001b[0m         \u001b[1;36m0.040141\u001b[0m        NaN      \u001b[1;36m0.000009\u001b[0m     \u001b[2m                   \u001b[0m\n",
       "\u001b[2;36m           \u001b[0m         yahpo/mo/rbv2_xgboost/\u001b[1;36m182\u001b[0m/\u001b[3;35mNone\u001b[0m        \u001b[1;36m0.010498\u001b[0m        NaN      \u001b[1;36m0.000003\u001b[0m     \u001b[2m                   \u001b[0m\n",
       "\u001b[2;36m           \u001b[0m         yahpo/mo/rbv2_xgboost/\u001b[1;36m28\u001b[0m/\u001b[3;35mNone\u001b[0m         \u001b[1;36m0.007840\u001b[0m        NaN      \u001b[1;36m0.000001\u001b[0m     \u001b[2m                   \u001b[0m\n"
      ]
     },
     "metadata": {},
     "output_type": "display_data"
    },
    {
     "name": "stdout",
     "output_type": "stream",
     "text": [
      "Rejecting null hypothesis that data is normal for column Nevergrad-DE (p=0.000000<0.016667)\n",
      "Rejecting null hypothesis that data is normal for column Optuna-MO (p=0.000000<0.016667)\n",
      "Rejecting null hypothesis that data is normal for column RandomSearch (p=0.000000<0.016667)\n",
      "Using Friedman test as omnibus test\n",
      "Rejecting null hypothesis that there is no difference between the distributions (p=0.000064)\n",
      "Using Nemenyi post-hoc test. Differences are significant,if the distance between the mean ranks is greater than the critical distance.\n",
      "              meanrank    median       mad  ci_lower  ci_upper effect_size  \\\n",
      "Nevergrad-DE  1.670886  0.008228  0.008208  0.002258  0.070688         0.0   \n",
      "Optuna-MO     1.962025  0.009487  0.009472  0.003648  0.065094   -0.095763   \n",
      "RandomSearch  2.367089  0.011200  0.011172  0.004708   0.07539   -0.204484   \n",
      "\n",
      "               magnitude  \n",
      "Nevergrad-DE  negligible  \n",
      "Optuna-MO     negligible  \n",
      "RandomSearch       small  \n"
     ]
    },
    {
     "name": "stderr",
     "output_type": "stream",
     "text": [
      "/home/numina/micromamba/envs/carpsexp/lib/python3.11/site-packages/autorank/_util.py:432: FutureWarning: Series.__getitem__ treating keys as positions is deprecated. In a future version, integer keys will always be treated as labels (consistent with DataFrame behavior). To access a value by position, use `ser.iloc[pos]`\n",
      "  if abs(sorted_ranks[i] - sorted_ranks[j]) <= critical_difference:\n"
     ]
    },
    {
     "data": {
      "text/html": [
       "<pre style=\"white-space:pre;overflow-x:auto;line-height:normal;font-family:Menlo,'DejaVu Sans Mono',consolas,'Courier New',monospace\"><span style=\"color: #7fbfbf; text-decoration-color: #7fbfbf\">[19:02:42] </span><span style=\"color: #000080; text-decoration-color: #000080\">INFO    </span> Lost following experiments: optimizer_id                     Nevergrad-DE   <a href=\"file:///home/numina/Documents/repos/CARP-S-Experiments/lib/CARP-S/carps/analysis/run_autorank.py\" target=\"_blank\"><span style=\"color: #7f7f7f; text-decoration-color: #7f7f7f\">run_autorank.py</span></a><span style=\"color: #7f7f7f; text-decoration-color: #7f7f7f\">:</span><a href=\"file:///home/numina/Documents/repos/CARP-S-Experiments/lib/CARP-S/carps/analysis/run_autorank.py#113\" target=\"_blank\"><span style=\"color: #7f7f7f; text-decoration-color: #7f7f7f\">113</span></a>\n",
       "<span style=\"color: #7fbfbf; text-decoration-color: #7fbfbf\">           </span>         Optuna-MO  RandomSearch                                                     <span style=\"color: #7f7f7f; text-decoration-color: #7f7f7f\">                   </span>\n",
       "<span style=\"color: #7fbfbf; text-decoration-color: #7fbfbf\">           </span>         problem_id                                                                  <span style=\"color: #7f7f7f; text-decoration-color: #7f7f7f\">                   </span>\n",
       "<span style=\"color: #7fbfbf; text-decoration-color: #7fbfbf\">           </span>         yahpo/mo/iaml_ranger/<span style=\"color: #008080; text-decoration-color: #008080; font-weight: bold\">1067</span>/<span style=\"color: #800080; text-decoration-color: #800080; font-style: italic\">None</span>       <span style=\"color: #008080; text-decoration-color: #008080; font-weight: bold\">0.336826</span>        NaN      <span style=\"color: #008080; text-decoration-color: #008080; font-weight: bold\">0.217303</span>      <span style=\"color: #7f7f7f; text-decoration-color: #7f7f7f\">                   </span>\n",
       "<span style=\"color: #7fbfbf; text-decoration-color: #7fbfbf\">           </span>         yahpo/mo/iaml_ranger/<span style=\"color: #008080; text-decoration-color: #008080; font-weight: bold\">1489</span>/<span style=\"color: #800080; text-decoration-color: #800080; font-style: italic\">None</span>       <span style=\"color: #008080; text-decoration-color: #008080; font-weight: bold\">0.174604</span>        NaN      <span style=\"color: #008080; text-decoration-color: #008080; font-weight: bold\">0.004866</span>      <span style=\"color: #7f7f7f; text-decoration-color: #7f7f7f\">                   </span>\n",
       "<span style=\"color: #7fbfbf; text-decoration-color: #7fbfbf\">           </span>         yahpo/mo/iaml_super/<span style=\"color: #008080; text-decoration-color: #008080; font-weight: bold\">1067</span>/<span style=\"color: #800080; text-decoration-color: #800080; font-style: italic\">None</span>             NaN        NaN      <span style=\"color: #008080; text-decoration-color: #008080; font-weight: bold\">0.000075</span>      <span style=\"color: #7f7f7f; text-decoration-color: #7f7f7f\">                   </span>\n",
       "<span style=\"color: #7fbfbf; text-decoration-color: #7fbfbf\">           </span>         yahpo/mo/iaml_super/<span style=\"color: #008080; text-decoration-color: #008080; font-weight: bold\">1489</span>/<span style=\"color: #800080; text-decoration-color: #800080; font-style: italic\">None</span>             NaN        NaN      <span style=\"color: #008080; text-decoration-color: #008080; font-weight: bold\">0.000240</span>      <span style=\"color: #7f7f7f; text-decoration-color: #7f7f7f\">                   </span>\n",
       "<span style=\"color: #7fbfbf; text-decoration-color: #7fbfbf\">           </span>         yahpo/mo/iaml_xgboost/<span style=\"color: #008080; text-decoration-color: #008080; font-weight: bold\">1489</span>/<span style=\"color: #800080; text-decoration-color: #800080; font-style: italic\">None</span>      <span style=\"color: #008080; text-decoration-color: #008080; font-weight: bold\">0.203513</span>        NaN      <span style=\"color: #008080; text-decoration-color: #008080; font-weight: bold\">0.000394</span>      <span style=\"color: #7f7f7f; text-decoration-color: #7f7f7f\">                   </span>\n",
       "<span style=\"color: #7fbfbf; text-decoration-color: #7fbfbf\">           </span>         yahpo/mo/rbv2_ranger/<span style=\"color: #008080; text-decoration-color: #008080; font-weight: bold\">40979</span>/<span style=\"color: #800080; text-decoration-color: #800080; font-style: italic\">None</span>      <span style=\"color: #008080; text-decoration-color: #008080; font-weight: bold\">0.197883</span>        NaN      <span style=\"color: #008080; text-decoration-color: #008080; font-weight: bold\">0.067001</span>      <span style=\"color: #7f7f7f; text-decoration-color: #7f7f7f\">                   </span>\n",
       "<span style=\"color: #7fbfbf; text-decoration-color: #7fbfbf\">           </span>         yahpo/mo/rbv2_ranger/<span style=\"color: #008080; text-decoration-color: #008080; font-weight: bold\">6</span>/<span style=\"color: #800080; text-decoration-color: #800080; font-style: italic\">None</span>          <span style=\"color: #008080; text-decoration-color: #008080; font-weight: bold\">0.110805</span>        NaN      <span style=\"color: #008080; text-decoration-color: #008080; font-weight: bold\">0.017989</span>      <span style=\"color: #7f7f7f; text-decoration-color: #7f7f7f\">                   </span>\n",
       "<span style=\"color: #7fbfbf; text-decoration-color: #7fbfbf\">           </span>         yahpo/mo/rbv2_super/<span style=\"color: #008080; text-decoration-color: #008080; font-weight: bold\">1053</span>/<span style=\"color: #800080; text-decoration-color: #800080; font-style: italic\">None</span>             NaN        NaN      <span style=\"color: #008080; text-decoration-color: #008080; font-weight: bold\">0.005830</span>      <span style=\"color: #7f7f7f; text-decoration-color: #7f7f7f\">                   </span>\n",
       "<span style=\"color: #7fbfbf; text-decoration-color: #7fbfbf\">           </span>         yahpo/mo/rbv2_super/<span style=\"color: #008080; text-decoration-color: #008080; font-weight: bold\">1457</span>/<span style=\"color: #800080; text-decoration-color: #800080; font-style: italic\">None</span>             NaN        NaN      <span style=\"color: #008080; text-decoration-color: #008080; font-weight: bold\">0.000074</span>      <span style=\"color: #7f7f7f; text-decoration-color: #7f7f7f\">                   </span>\n",
       "<span style=\"color: #7fbfbf; text-decoration-color: #7fbfbf\">           </span>         yahpo/mo/rbv2_super/<span style=\"color: #008080; text-decoration-color: #008080; font-weight: bold\">6</span>/<span style=\"color: #800080; text-decoration-color: #800080; font-style: italic\">None</span>                NaN        NaN      <span style=\"color: #008080; text-decoration-color: #008080; font-weight: bold\">0.000088</span>      <span style=\"color: #7f7f7f; text-decoration-color: #7f7f7f\">                   </span>\n",
       "<span style=\"color: #7fbfbf; text-decoration-color: #7fbfbf\">           </span>         yahpo/mo/rbv2_xgboost/<span style=\"color: #008080; text-decoration-color: #008080; font-weight: bold\">12</span>/<span style=\"color: #800080; text-decoration-color: #800080; font-style: italic\">None</span>        <span style=\"color: #008080; text-decoration-color: #008080; font-weight: bold\">0.040141</span>        NaN      <span style=\"color: #008080; text-decoration-color: #008080; font-weight: bold\">0.000009</span>      <span style=\"color: #7f7f7f; text-decoration-color: #7f7f7f\">                   </span>\n",
       "<span style=\"color: #7fbfbf; text-decoration-color: #7fbfbf\">           </span>         yahpo/mo/rbv2_xgboost/<span style=\"color: #008080; text-decoration-color: #008080; font-weight: bold\">182</span>/<span style=\"color: #800080; text-decoration-color: #800080; font-style: italic\">None</span>       <span style=\"color: #008080; text-decoration-color: #008080; font-weight: bold\">0.010498</span>        NaN      <span style=\"color: #008080; text-decoration-color: #008080; font-weight: bold\">0.000003</span>      <span style=\"color: #7f7f7f; text-decoration-color: #7f7f7f\">                   </span>\n",
       "<span style=\"color: #7fbfbf; text-decoration-color: #7fbfbf\">           </span>         yahpo/mo/rbv2_xgboost/<span style=\"color: #008080; text-decoration-color: #008080; font-weight: bold\">28</span>/<span style=\"color: #800080; text-decoration-color: #800080; font-style: italic\">None</span>        <span style=\"color: #008080; text-decoration-color: #008080; font-weight: bold\">0.007840</span>        NaN      <span style=\"color: #008080; text-decoration-color: #008080; font-weight: bold\">0.000001</span>      <span style=\"color: #7f7f7f; text-decoration-color: #7f7f7f\">                   </span>\n",
       "</pre>\n"
      ],
      "text/plain": [
       "\u001b[2;36m[19:02:42]\u001b[0m\u001b[2;36m \u001b[0m\u001b[34mINFO    \u001b[0m Lost following experiments: optimizer_id                     Nevergrad-DE   \u001b]8;id=150032;file:///home/numina/Documents/repos/CARP-S-Experiments/lib/CARP-S/carps/analysis/run_autorank.py\u001b\\\u001b[2mrun_autorank.py\u001b[0m\u001b]8;;\u001b\\\u001b[2m:\u001b[0m\u001b]8;id=242845;file:///home/numina/Documents/repos/CARP-S-Experiments/lib/CARP-S/carps/analysis/run_autorank.py#113\u001b\\\u001b[2m113\u001b[0m\u001b]8;;\u001b\\\n",
       "\u001b[2;36m           \u001b[0m         Optuna-MO  RandomSearch                                                     \u001b[2m                   \u001b[0m\n",
       "\u001b[2;36m           \u001b[0m         problem_id                                                                  \u001b[2m                   \u001b[0m\n",
       "\u001b[2;36m           \u001b[0m         yahpo/mo/iaml_ranger/\u001b[1;36m1067\u001b[0m/\u001b[3;35mNone\u001b[0m       \u001b[1;36m0.336826\u001b[0m        NaN      \u001b[1;36m0.217303\u001b[0m      \u001b[2m                   \u001b[0m\n",
       "\u001b[2;36m           \u001b[0m         yahpo/mo/iaml_ranger/\u001b[1;36m1489\u001b[0m/\u001b[3;35mNone\u001b[0m       \u001b[1;36m0.174604\u001b[0m        NaN      \u001b[1;36m0.004866\u001b[0m      \u001b[2m                   \u001b[0m\n",
       "\u001b[2;36m           \u001b[0m         yahpo/mo/iaml_super/\u001b[1;36m1067\u001b[0m/\u001b[3;35mNone\u001b[0m             NaN        NaN      \u001b[1;36m0.000075\u001b[0m      \u001b[2m                   \u001b[0m\n",
       "\u001b[2;36m           \u001b[0m         yahpo/mo/iaml_super/\u001b[1;36m1489\u001b[0m/\u001b[3;35mNone\u001b[0m             NaN        NaN      \u001b[1;36m0.000240\u001b[0m      \u001b[2m                   \u001b[0m\n",
       "\u001b[2;36m           \u001b[0m         yahpo/mo/iaml_xgboost/\u001b[1;36m1489\u001b[0m/\u001b[3;35mNone\u001b[0m      \u001b[1;36m0.203513\u001b[0m        NaN      \u001b[1;36m0.000394\u001b[0m      \u001b[2m                   \u001b[0m\n",
       "\u001b[2;36m           \u001b[0m         yahpo/mo/rbv2_ranger/\u001b[1;36m40979\u001b[0m/\u001b[3;35mNone\u001b[0m      \u001b[1;36m0.197883\u001b[0m        NaN      \u001b[1;36m0.067001\u001b[0m      \u001b[2m                   \u001b[0m\n",
       "\u001b[2;36m           \u001b[0m         yahpo/mo/rbv2_ranger/\u001b[1;36m6\u001b[0m/\u001b[3;35mNone\u001b[0m          \u001b[1;36m0.110805\u001b[0m        NaN      \u001b[1;36m0.017989\u001b[0m      \u001b[2m                   \u001b[0m\n",
       "\u001b[2;36m           \u001b[0m         yahpo/mo/rbv2_super/\u001b[1;36m1053\u001b[0m/\u001b[3;35mNone\u001b[0m             NaN        NaN      \u001b[1;36m0.005830\u001b[0m      \u001b[2m                   \u001b[0m\n",
       "\u001b[2;36m           \u001b[0m         yahpo/mo/rbv2_super/\u001b[1;36m1457\u001b[0m/\u001b[3;35mNone\u001b[0m             NaN        NaN      \u001b[1;36m0.000074\u001b[0m      \u001b[2m                   \u001b[0m\n",
       "\u001b[2;36m           \u001b[0m         yahpo/mo/rbv2_super/\u001b[1;36m6\u001b[0m/\u001b[3;35mNone\u001b[0m                NaN        NaN      \u001b[1;36m0.000088\u001b[0m      \u001b[2m                   \u001b[0m\n",
       "\u001b[2;36m           \u001b[0m         yahpo/mo/rbv2_xgboost/\u001b[1;36m12\u001b[0m/\u001b[3;35mNone\u001b[0m        \u001b[1;36m0.040141\u001b[0m        NaN      \u001b[1;36m0.000009\u001b[0m      \u001b[2m                   \u001b[0m\n",
       "\u001b[2;36m           \u001b[0m         yahpo/mo/rbv2_xgboost/\u001b[1;36m182\u001b[0m/\u001b[3;35mNone\u001b[0m       \u001b[1;36m0.010498\u001b[0m        NaN      \u001b[1;36m0.000003\u001b[0m      \u001b[2m                   \u001b[0m\n",
       "\u001b[2;36m           \u001b[0m         yahpo/mo/rbv2_xgboost/\u001b[1;36m28\u001b[0m/\u001b[3;35mNone\u001b[0m        \u001b[1;36m0.007840\u001b[0m        NaN      \u001b[1;36m0.000001\u001b[0m      \u001b[2m                   \u001b[0m\n"
      ]
     },
     "metadata": {},
     "output_type": "display_data"
    },
    {
     "name": "stdout",
     "output_type": "stream",
     "text": [
      "Rejecting null hypothesis that data is normal for column Nevergrad-DE (p=0.000000<0.016667)\n",
      "Rejecting null hypothesis that data is normal for column Optuna-MO (p=0.000000<0.016667)\n",
      "Rejecting null hypothesis that data is normal for column RandomSearch (p=0.000000<0.016667)\n",
      "Using Friedman test as omnibus test\n",
      "Rejecting null hypothesis that there is no difference between the distributions (p=0.000353)\n",
      "Using Nemenyi post-hoc test. Differences are significant,if the distance between the mean ranks is greater than the critical distance.\n",
      "              meanrank    median       mad  ci_lower  ci_upper effect_size  \\\n",
      "Nevergrad-DE  1.696203  0.007567   0.00708  0.002486  0.034136         0.0   \n",
      "Optuna-MO     1.974684  0.008571  0.008362  0.003648  0.058713   -0.087422   \n",
      "RandomSearch  2.329114  0.011200    0.0104  0.005525  0.051639   -0.275487   \n",
      "\n",
      "               magnitude  \n",
      "Nevergrad-DE  negligible  \n",
      "Optuna-MO     negligible  \n",
      "RandomSearch       small  \n"
     ]
    },
    {
     "name": "stderr",
     "output_type": "stream",
     "text": [
      "/home/numina/micromamba/envs/carpsexp/lib/python3.11/site-packages/autorank/_util.py:432: FutureWarning: Series.__getitem__ treating keys as positions is deprecated. In a future version, integer keys will always be treated as labels (consistent with DataFrame behavior). To access a value by position, use `ser.iloc[pos]`\n",
      "  if abs(sorted_ranks[i] - sorted_ranks[j]) <= critical_difference:\n"
     ]
    },
    {
     "data": {
      "text/html": [
       "<pre style=\"white-space:pre;overflow-x:auto;line-height:normal;font-family:Menlo,'DejaVu Sans Mono',consolas,'Courier New',monospace\"><span style=\"color: #7fbfbf; text-decoration-color: #7fbfbf\">[19:02:43] </span><span style=\"color: #000080; text-decoration-color: #000080\">INFO    </span> Lost following experiments: optimizer_id                     Nevergrad-DE   <a href=\"file:///home/numina/Documents/repos/CARP-S-Experiments/lib/CARP-S/carps/analysis/run_autorank.py\" target=\"_blank\"><span style=\"color: #7f7f7f; text-decoration-color: #7f7f7f\">run_autorank.py</span></a><span style=\"color: #7f7f7f; text-decoration-color: #7f7f7f\">:</span><a href=\"file:///home/numina/Documents/repos/CARP-S-Experiments/lib/CARP-S/carps/analysis/run_autorank.py#113\" target=\"_blank\"><span style=\"color: #7f7f7f; text-decoration-color: #7f7f7f\">113</span></a>\n",
       "<span style=\"color: #7fbfbf; text-decoration-color: #7fbfbf\">           </span>         Optuna-MO  RandomSearch                                                     <span style=\"color: #7f7f7f; text-decoration-color: #7f7f7f\">                   </span>\n",
       "<span style=\"color: #7fbfbf; text-decoration-color: #7fbfbf\">           </span>         problem_id                                                                  <span style=\"color: #7f7f7f; text-decoration-color: #7f7f7f\">                   </span>\n",
       "<span style=\"color: #7fbfbf; text-decoration-color: #7fbfbf\">           </span>         yahpo/mo/iaml_ranger/<span style=\"color: #008080; text-decoration-color: #008080; font-weight: bold\">1067</span>/<span style=\"color: #800080; text-decoration-color: #800080; font-style: italic\">None</span>       <span style=\"color: #008080; text-decoration-color: #008080; font-weight: bold\">0.336826</span>        NaN      <span style=\"color: #008080; text-decoration-color: #008080; font-weight: bold\">0.217303</span>      <span style=\"color: #7f7f7f; text-decoration-color: #7f7f7f\">                   </span>\n",
       "<span style=\"color: #7fbfbf; text-decoration-color: #7fbfbf\">           </span>         yahpo/mo/iaml_ranger/<span style=\"color: #008080; text-decoration-color: #008080; font-weight: bold\">1489</span>/<span style=\"color: #800080; text-decoration-color: #800080; font-style: italic\">None</span>       <span style=\"color: #008080; text-decoration-color: #008080; font-weight: bold\">0.174604</span>        NaN      <span style=\"color: #008080; text-decoration-color: #008080; font-weight: bold\">0.004866</span>      <span style=\"color: #7f7f7f; text-decoration-color: #7f7f7f\">                   </span>\n",
       "<span style=\"color: #7fbfbf; text-decoration-color: #7fbfbf\">           </span>         yahpo/mo/iaml_super/<span style=\"color: #008080; text-decoration-color: #008080; font-weight: bold\">1067</span>/<span style=\"color: #800080; text-decoration-color: #800080; font-style: italic\">None</span>             NaN        NaN      <span style=\"color: #008080; text-decoration-color: #008080; font-weight: bold\">0.000075</span>      <span style=\"color: #7f7f7f; text-decoration-color: #7f7f7f\">                   </span>\n",
       "<span style=\"color: #7fbfbf; text-decoration-color: #7fbfbf\">           </span>         yahpo/mo/iaml_super/<span style=\"color: #008080; text-decoration-color: #008080; font-weight: bold\">1489</span>/<span style=\"color: #800080; text-decoration-color: #800080; font-style: italic\">None</span>             NaN        NaN      <span style=\"color: #008080; text-decoration-color: #008080; font-weight: bold\">0.000240</span>      <span style=\"color: #7f7f7f; text-decoration-color: #7f7f7f\">                   </span>\n",
       "<span style=\"color: #7fbfbf; text-decoration-color: #7fbfbf\">           </span>         yahpo/mo/iaml_xgboost/<span style=\"color: #008080; text-decoration-color: #008080; font-weight: bold\">1489</span>/<span style=\"color: #800080; text-decoration-color: #800080; font-style: italic\">None</span>      <span style=\"color: #008080; text-decoration-color: #008080; font-weight: bold\">0.203513</span>        NaN      <span style=\"color: #008080; text-decoration-color: #008080; font-weight: bold\">0.000394</span>      <span style=\"color: #7f7f7f; text-decoration-color: #7f7f7f\">                   </span>\n",
       "<span style=\"color: #7fbfbf; text-decoration-color: #7fbfbf\">           </span>         yahpo/mo/rbv2_ranger/<span style=\"color: #008080; text-decoration-color: #008080; font-weight: bold\">375</span>/<span style=\"color: #800080; text-decoration-color: #800080; font-style: italic\">None</span>        <span style=\"color: #008080; text-decoration-color: #008080; font-weight: bold\">0.218806</span>        NaN      <span style=\"color: #008080; text-decoration-color: #008080; font-weight: bold\">0.049281</span>      <span style=\"color: #7f7f7f; text-decoration-color: #7f7f7f\">                   </span>\n",
       "<span style=\"color: #7fbfbf; text-decoration-color: #7fbfbf\">           </span>         yahpo/mo/rbv2_ranger/<span style=\"color: #008080; text-decoration-color: #008080; font-weight: bold\">40979</span>/<span style=\"color: #800080; text-decoration-color: #800080; font-style: italic\">None</span>      <span style=\"color: #008080; text-decoration-color: #008080; font-weight: bold\">0.197883</span>        NaN      <span style=\"color: #008080; text-decoration-color: #008080; font-weight: bold\">0.067001</span>      <span style=\"color: #7f7f7f; text-decoration-color: #7f7f7f\">                   </span>\n",
       "<span style=\"color: #7fbfbf; text-decoration-color: #7fbfbf\">           </span>         yahpo/mo/rbv2_super/<span style=\"color: #008080; text-decoration-color: #008080; font-weight: bold\">1457</span>/<span style=\"color: #800080; text-decoration-color: #800080; font-style: italic\">None</span>             NaN        NaN      <span style=\"color: #008080; text-decoration-color: #008080; font-weight: bold\">0.000074</span>      <span style=\"color: #7f7f7f; text-decoration-color: #7f7f7f\">                   </span>\n",
       "<span style=\"color: #7fbfbf; text-decoration-color: #7fbfbf\">           </span>         yahpo/mo/rbv2_super/<span style=\"color: #008080; text-decoration-color: #008080; font-weight: bold\">6</span>/<span style=\"color: #800080; text-decoration-color: #800080; font-style: italic\">None</span>                NaN        NaN      <span style=\"color: #008080; text-decoration-color: #008080; font-weight: bold\">0.000088</span>      <span style=\"color: #7f7f7f; text-decoration-color: #7f7f7f\">                   </span>\n",
       "<span style=\"color: #7fbfbf; text-decoration-color: #7fbfbf\">           </span>         yahpo/mo/rbv2_xgboost/<span style=\"color: #008080; text-decoration-color: #008080; font-weight: bold\">12</span>/<span style=\"color: #800080; text-decoration-color: #800080; font-style: italic\">None</span>        <span style=\"color: #008080; text-decoration-color: #008080; font-weight: bold\">0.040141</span>        NaN      <span style=\"color: #008080; text-decoration-color: #008080; font-weight: bold\">0.000009</span>      <span style=\"color: #7f7f7f; text-decoration-color: #7f7f7f\">                   </span>\n",
       "<span style=\"color: #7fbfbf; text-decoration-color: #7fbfbf\">           </span>         yahpo/mo/rbv2_xgboost/<span style=\"color: #008080; text-decoration-color: #008080; font-weight: bold\">182</span>/<span style=\"color: #800080; text-decoration-color: #800080; font-style: italic\">None</span>       <span style=\"color: #008080; text-decoration-color: #008080; font-weight: bold\">0.010498</span>        NaN      <span style=\"color: #008080; text-decoration-color: #008080; font-weight: bold\">0.000003</span>      <span style=\"color: #7f7f7f; text-decoration-color: #7f7f7f\">                   </span>\n",
       "</pre>\n"
      ],
      "text/plain": [
       "\u001b[2;36m[19:02:43]\u001b[0m\u001b[2;36m \u001b[0m\u001b[34mINFO    \u001b[0m Lost following experiments: optimizer_id                     Nevergrad-DE   \u001b]8;id=77176;file:///home/numina/Documents/repos/CARP-S-Experiments/lib/CARP-S/carps/analysis/run_autorank.py\u001b\\\u001b[2mrun_autorank.py\u001b[0m\u001b]8;;\u001b\\\u001b[2m:\u001b[0m\u001b]8;id=32403;file:///home/numina/Documents/repos/CARP-S-Experiments/lib/CARP-S/carps/analysis/run_autorank.py#113\u001b\\\u001b[2m113\u001b[0m\u001b]8;;\u001b\\\n",
       "\u001b[2;36m           \u001b[0m         Optuna-MO  RandomSearch                                                     \u001b[2m                   \u001b[0m\n",
       "\u001b[2;36m           \u001b[0m         problem_id                                                                  \u001b[2m                   \u001b[0m\n",
       "\u001b[2;36m           \u001b[0m         yahpo/mo/iaml_ranger/\u001b[1;36m1067\u001b[0m/\u001b[3;35mNone\u001b[0m       \u001b[1;36m0.336826\u001b[0m        NaN      \u001b[1;36m0.217303\u001b[0m      \u001b[2m                   \u001b[0m\n",
       "\u001b[2;36m           \u001b[0m         yahpo/mo/iaml_ranger/\u001b[1;36m1489\u001b[0m/\u001b[3;35mNone\u001b[0m       \u001b[1;36m0.174604\u001b[0m        NaN      \u001b[1;36m0.004866\u001b[0m      \u001b[2m                   \u001b[0m\n",
       "\u001b[2;36m           \u001b[0m         yahpo/mo/iaml_super/\u001b[1;36m1067\u001b[0m/\u001b[3;35mNone\u001b[0m             NaN        NaN      \u001b[1;36m0.000075\u001b[0m      \u001b[2m                   \u001b[0m\n",
       "\u001b[2;36m           \u001b[0m         yahpo/mo/iaml_super/\u001b[1;36m1489\u001b[0m/\u001b[3;35mNone\u001b[0m             NaN        NaN      \u001b[1;36m0.000240\u001b[0m      \u001b[2m                   \u001b[0m\n",
       "\u001b[2;36m           \u001b[0m         yahpo/mo/iaml_xgboost/\u001b[1;36m1489\u001b[0m/\u001b[3;35mNone\u001b[0m      \u001b[1;36m0.203513\u001b[0m        NaN      \u001b[1;36m0.000394\u001b[0m      \u001b[2m                   \u001b[0m\n",
       "\u001b[2;36m           \u001b[0m         yahpo/mo/rbv2_ranger/\u001b[1;36m375\u001b[0m/\u001b[3;35mNone\u001b[0m        \u001b[1;36m0.218806\u001b[0m        NaN      \u001b[1;36m0.049281\u001b[0m      \u001b[2m                   \u001b[0m\n",
       "\u001b[2;36m           \u001b[0m         yahpo/mo/rbv2_ranger/\u001b[1;36m40979\u001b[0m/\u001b[3;35mNone\u001b[0m      \u001b[1;36m0.197883\u001b[0m        NaN      \u001b[1;36m0.067001\u001b[0m      \u001b[2m                   \u001b[0m\n",
       "\u001b[2;36m           \u001b[0m         yahpo/mo/rbv2_super/\u001b[1;36m1457\u001b[0m/\u001b[3;35mNone\u001b[0m             NaN        NaN      \u001b[1;36m0.000074\u001b[0m      \u001b[2m                   \u001b[0m\n",
       "\u001b[2;36m           \u001b[0m         yahpo/mo/rbv2_super/\u001b[1;36m6\u001b[0m/\u001b[3;35mNone\u001b[0m                NaN        NaN      \u001b[1;36m0.000088\u001b[0m      \u001b[2m                   \u001b[0m\n",
       "\u001b[2;36m           \u001b[0m         yahpo/mo/rbv2_xgboost/\u001b[1;36m12\u001b[0m/\u001b[3;35mNone\u001b[0m        \u001b[1;36m0.040141\u001b[0m        NaN      \u001b[1;36m0.000009\u001b[0m      \u001b[2m                   \u001b[0m\n",
       "\u001b[2;36m           \u001b[0m         yahpo/mo/rbv2_xgboost/\u001b[1;36m182\u001b[0m/\u001b[3;35mNone\u001b[0m       \u001b[1;36m0.010498\u001b[0m        NaN      \u001b[1;36m0.000003\u001b[0m      \u001b[2m                   \u001b[0m\n"
      ]
     },
     "metadata": {},
     "output_type": "display_data"
    },
    {
     "name": "stdout",
     "output_type": "stream",
     "text": [
      "Rejecting null hypothesis that data is normal for column Nevergrad-DE (p=0.000000<0.016667)\n",
      "Rejecting null hypothesis that data is normal for column Optuna-MO (p=0.000000<0.016667)\n",
      "Rejecting null hypothesis that data is normal for column RandomSearch (p=0.000000<0.016667)\n",
      "Using Friedman test as omnibus test\n",
      "Rejecting null hypothesis that there is no difference between the distributions (p=0.000446)\n",
      "Using Nemenyi post-hoc test. Differences are significant,if the distance between the mean ranks is greater than the critical distance.\n",
      "              meanrank    median       mad  ci_lower  ci_upper effect_size  \\\n",
      "Nevergrad-DE  1.691358  0.008184  0.007973   0.00182  0.046377         0.0   \n",
      "Optuna-MO     2.000000  0.008571  0.008478  0.003011  0.053638   -0.031679   \n",
      "RandomSearch  2.308642  0.011200  0.010888  0.004708  0.060899   -0.213183   \n",
      "\n",
      "               magnitude  \n",
      "Nevergrad-DE  negligible  \n",
      "Optuna-MO     negligible  \n",
      "RandomSearch       small  \n"
     ]
    },
    {
     "name": "stderr",
     "output_type": "stream",
     "text": [
      "/home/numina/micromamba/envs/carpsexp/lib/python3.11/site-packages/autorank/_util.py:432: FutureWarning: Series.__getitem__ treating keys as positions is deprecated. In a future version, integer keys will always be treated as labels (consistent with DataFrame behavior). To access a value by position, use `ser.iloc[pos]`\n",
      "  if abs(sorted_ranks[i] - sorted_ranks[j]) <= critical_difference:\n"
     ]
    },
    {
     "data": {
      "text/html": [
       "<pre style=\"white-space:pre;overflow-x:auto;line-height:normal;font-family:Menlo,'DejaVu Sans Mono',consolas,'Courier New',monospace\"><span style=\"color: #7fbfbf; text-decoration-color: #7fbfbf\">[19:02:44] </span><span style=\"color: #000080; text-decoration-color: #000080\">INFO    </span> Lost following experiments: optimizer_id                      Nevergrad-DE  <a href=\"file:///home/numina/Documents/repos/CARP-S-Experiments/lib/CARP-S/carps/analysis/run_autorank.py\" target=\"_blank\"><span style=\"color: #7f7f7f; text-decoration-color: #7f7f7f\">run_autorank.py</span></a><span style=\"color: #7f7f7f; text-decoration-color: #7f7f7f\">:</span><a href=\"file:///home/numina/Documents/repos/CARP-S-Experiments/lib/CARP-S/carps/analysis/run_autorank.py#113\" target=\"_blank\"><span style=\"color: #7f7f7f; text-decoration-color: #7f7f7f\">113</span></a>\n",
       "<span style=\"color: #7fbfbf; text-decoration-color: #7fbfbf\">           </span>         Optuna-MO  RandomSearch                                                     <span style=\"color: #7f7f7f; text-decoration-color: #7f7f7f\">                   </span>\n",
       "<span style=\"color: #7fbfbf; text-decoration-color: #7fbfbf\">           </span>         problem_id                                                                  <span style=\"color: #7f7f7f; text-decoration-color: #7f7f7f\">                   </span>\n",
       "<span style=\"color: #7fbfbf; text-decoration-color: #7fbfbf\">           </span>         yahpo/mo/iaml_ranger/<span style=\"color: #008080; text-decoration-color: #008080; font-weight: bold\">1067</span>/<span style=\"color: #800080; text-decoration-color: #800080; font-style: italic\">None</span>        <span style=\"color: #008080; text-decoration-color: #008080; font-weight: bold\">0.336826</span>        NaN      <span style=\"color: #008080; text-decoration-color: #008080; font-weight: bold\">0.217303</span>     <span style=\"color: #7f7f7f; text-decoration-color: #7f7f7f\">                   </span>\n",
       "<span style=\"color: #7fbfbf; text-decoration-color: #7fbfbf\">           </span>         yahpo/mo/iaml_super/<span style=\"color: #008080; text-decoration-color: #008080; font-weight: bold\">1067</span>/<span style=\"color: #800080; text-decoration-color: #800080; font-style: italic\">None</span>              NaN        NaN      <span style=\"color: #008080; text-decoration-color: #008080; font-weight: bold\">0.000075</span>     <span style=\"color: #7f7f7f; text-decoration-color: #7f7f7f\">                   </span>\n",
       "<span style=\"color: #7fbfbf; text-decoration-color: #7fbfbf\">           </span>         yahpo/mo/iaml_super/<span style=\"color: #008080; text-decoration-color: #008080; font-weight: bold\">1489</span>/<span style=\"color: #800080; text-decoration-color: #800080; font-style: italic\">None</span>              NaN        NaN      <span style=\"color: #008080; text-decoration-color: #008080; font-weight: bold\">0.000240</span>     <span style=\"color: #7f7f7f; text-decoration-color: #7f7f7f\">                   </span>\n",
       "<span style=\"color: #7fbfbf; text-decoration-color: #7fbfbf\">           </span>         yahpo/mo/iaml_xgboost/<span style=\"color: #008080; text-decoration-color: #008080; font-weight: bold\">40981</span>/<span style=\"color: #800080; text-decoration-color: #800080; font-style: italic\">None</span>      <span style=\"color: #008080; text-decoration-color: #008080; font-weight: bold\">0.201979</span>        NaN      <span style=\"color: #008080; text-decoration-color: #008080; font-weight: bold\">0.001476</span>     <span style=\"color: #7f7f7f; text-decoration-color: #7f7f7f\">                   </span>\n",
       "<span style=\"color: #7fbfbf; text-decoration-color: #7fbfbf\">           </span>         yahpo/mo/rbv2_ranger/<span style=\"color: #008080; text-decoration-color: #008080; font-weight: bold\">375</span>/<span style=\"color: #800080; text-decoration-color: #800080; font-style: italic\">None</span>         <span style=\"color: #008080; text-decoration-color: #008080; font-weight: bold\">0.218806</span>        NaN      <span style=\"color: #008080; text-decoration-color: #008080; font-weight: bold\">0.049281</span>     <span style=\"color: #7f7f7f; text-decoration-color: #7f7f7f\">                   </span>\n",
       "<span style=\"color: #7fbfbf; text-decoration-color: #7fbfbf\">           </span>         yahpo/mo/rbv2_ranger/<span style=\"color: #008080; text-decoration-color: #008080; font-weight: bold\">6</span>/<span style=\"color: #800080; text-decoration-color: #800080; font-style: italic\">None</span>           <span style=\"color: #008080; text-decoration-color: #008080; font-weight: bold\">0.110805</span>        NaN      <span style=\"color: #008080; text-decoration-color: #008080; font-weight: bold\">0.017989</span>     <span style=\"color: #7f7f7f; text-decoration-color: #7f7f7f\">                   </span>\n",
       "<span style=\"color: #7fbfbf; text-decoration-color: #7fbfbf\">           </span>         yahpo/mo/rbv2_super/<span style=\"color: #008080; text-decoration-color: #008080; font-weight: bold\">1053</span>/<span style=\"color: #800080; text-decoration-color: #800080; font-style: italic\">None</span>              NaN        NaN      <span style=\"color: #008080; text-decoration-color: #008080; font-weight: bold\">0.005830</span>     <span style=\"color: #7f7f7f; text-decoration-color: #7f7f7f\">                   </span>\n",
       "<span style=\"color: #7fbfbf; text-decoration-color: #7fbfbf\">           </span>         yahpo/mo/rbv2_super/<span style=\"color: #008080; text-decoration-color: #008080; font-weight: bold\">6</span>/<span style=\"color: #800080; text-decoration-color: #800080; font-style: italic\">None</span>                 NaN        NaN      <span style=\"color: #008080; text-decoration-color: #008080; font-weight: bold\">0.000088</span>     <span style=\"color: #7f7f7f; text-decoration-color: #7f7f7f\">                   </span>\n",
       "<span style=\"color: #7fbfbf; text-decoration-color: #7fbfbf\">           </span>         yahpo/mo/rbv2_xgboost/<span style=\"color: #008080; text-decoration-color: #008080; font-weight: bold\">182</span>/<span style=\"color: #800080; text-decoration-color: #800080; font-style: italic\">None</span>        <span style=\"color: #008080; text-decoration-color: #008080; font-weight: bold\">0.010498</span>        NaN      <span style=\"color: #008080; text-decoration-color: #008080; font-weight: bold\">0.000003</span>     <span style=\"color: #7f7f7f; text-decoration-color: #7f7f7f\">                   </span>\n",
       "<span style=\"color: #7fbfbf; text-decoration-color: #7fbfbf\">           </span>         yahpo/mo/rbv2_xgboost/<span style=\"color: #008080; text-decoration-color: #008080; font-weight: bold\">28</span>/<span style=\"color: #800080; text-decoration-color: #800080; font-style: italic\">None</span>         <span style=\"color: #008080; text-decoration-color: #008080; font-weight: bold\">0.007840</span>        NaN      <span style=\"color: #008080; text-decoration-color: #008080; font-weight: bold\">0.000001</span>     <span style=\"color: #7f7f7f; text-decoration-color: #7f7f7f\">                   </span>\n",
       "</pre>\n"
      ],
      "text/plain": [
       "\u001b[2;36m[19:02:44]\u001b[0m\u001b[2;36m \u001b[0m\u001b[34mINFO    \u001b[0m Lost following experiments: optimizer_id                      Nevergrad-DE  \u001b]8;id=576654;file:///home/numina/Documents/repos/CARP-S-Experiments/lib/CARP-S/carps/analysis/run_autorank.py\u001b\\\u001b[2mrun_autorank.py\u001b[0m\u001b]8;;\u001b\\\u001b[2m:\u001b[0m\u001b]8;id=674143;file:///home/numina/Documents/repos/CARP-S-Experiments/lib/CARP-S/carps/analysis/run_autorank.py#113\u001b\\\u001b[2m113\u001b[0m\u001b]8;;\u001b\\\n",
       "\u001b[2;36m           \u001b[0m         Optuna-MO  RandomSearch                                                     \u001b[2m                   \u001b[0m\n",
       "\u001b[2;36m           \u001b[0m         problem_id                                                                  \u001b[2m                   \u001b[0m\n",
       "\u001b[2;36m           \u001b[0m         yahpo/mo/iaml_ranger/\u001b[1;36m1067\u001b[0m/\u001b[3;35mNone\u001b[0m        \u001b[1;36m0.336826\u001b[0m        NaN      \u001b[1;36m0.217303\u001b[0m     \u001b[2m                   \u001b[0m\n",
       "\u001b[2;36m           \u001b[0m         yahpo/mo/iaml_super/\u001b[1;36m1067\u001b[0m/\u001b[3;35mNone\u001b[0m              NaN        NaN      \u001b[1;36m0.000075\u001b[0m     \u001b[2m                   \u001b[0m\n",
       "\u001b[2;36m           \u001b[0m         yahpo/mo/iaml_super/\u001b[1;36m1489\u001b[0m/\u001b[3;35mNone\u001b[0m              NaN        NaN      \u001b[1;36m0.000240\u001b[0m     \u001b[2m                   \u001b[0m\n",
       "\u001b[2;36m           \u001b[0m         yahpo/mo/iaml_xgboost/\u001b[1;36m40981\u001b[0m/\u001b[3;35mNone\u001b[0m      \u001b[1;36m0.201979\u001b[0m        NaN      \u001b[1;36m0.001476\u001b[0m     \u001b[2m                   \u001b[0m\n",
       "\u001b[2;36m           \u001b[0m         yahpo/mo/rbv2_ranger/\u001b[1;36m375\u001b[0m/\u001b[3;35mNone\u001b[0m         \u001b[1;36m0.218806\u001b[0m        NaN      \u001b[1;36m0.049281\u001b[0m     \u001b[2m                   \u001b[0m\n",
       "\u001b[2;36m           \u001b[0m         yahpo/mo/rbv2_ranger/\u001b[1;36m6\u001b[0m/\u001b[3;35mNone\u001b[0m           \u001b[1;36m0.110805\u001b[0m        NaN      \u001b[1;36m0.017989\u001b[0m     \u001b[2m                   \u001b[0m\n",
       "\u001b[2;36m           \u001b[0m         yahpo/mo/rbv2_super/\u001b[1;36m1053\u001b[0m/\u001b[3;35mNone\u001b[0m              NaN        NaN      \u001b[1;36m0.005830\u001b[0m     \u001b[2m                   \u001b[0m\n",
       "\u001b[2;36m           \u001b[0m         yahpo/mo/rbv2_super/\u001b[1;36m6\u001b[0m/\u001b[3;35mNone\u001b[0m                 NaN        NaN      \u001b[1;36m0.000088\u001b[0m     \u001b[2m                   \u001b[0m\n",
       "\u001b[2;36m           \u001b[0m         yahpo/mo/rbv2_xgboost/\u001b[1;36m182\u001b[0m/\u001b[3;35mNone\u001b[0m        \u001b[1;36m0.010498\u001b[0m        NaN      \u001b[1;36m0.000003\u001b[0m     \u001b[2m                   \u001b[0m\n",
       "\u001b[2;36m           \u001b[0m         yahpo/mo/rbv2_xgboost/\u001b[1;36m28\u001b[0m/\u001b[3;35mNone\u001b[0m         \u001b[1;36m0.007840\u001b[0m        NaN      \u001b[1;36m0.000001\u001b[0m     \u001b[2m                   \u001b[0m\n"
      ]
     },
     "metadata": {},
     "output_type": "display_data"
    },
    {
     "name": "stdout",
     "output_type": "stream",
     "text": [
      "Rejecting null hypothesis that data is normal for column Nevergrad-DE (p=0.000000<0.016667)\n",
      "Rejecting null hypothesis that data is normal for column Optuna-MO (p=0.000000<0.016667)\n",
      "Rejecting null hypothesis that data is normal for column RandomSearch (p=0.000000<0.016667)\n",
      "Using Friedman test as omnibus test\n",
      "Rejecting null hypothesis that there is no difference between the distributions (p=0.000195)\n",
      "Using Nemenyi post-hoc test. Differences are significant,if the distance between the mean ranks is greater than the critical distance.\n",
      "              meanrank    median       mad  ci_lower  ci_upper effect_size  \\\n",
      "Nevergrad-DE  1.662651  0.008228  0.008137  0.002486  0.044524         0.0   \n",
      "Optuna-MO     2.036145  0.009992  0.009962  0.004782  0.053638   -0.130823   \n",
      "RandomSearch  2.301205  0.013001  0.012689  0.004708  0.060729   -0.302049   \n",
      "\n",
      "               magnitude  \n",
      "Nevergrad-DE  negligible  \n",
      "Optuna-MO     negligible  \n",
      "RandomSearch       small  \n"
     ]
    },
    {
     "name": "stderr",
     "output_type": "stream",
     "text": [
      "/home/numina/micromamba/envs/carpsexp/lib/python3.11/site-packages/autorank/_util.py:432: FutureWarning: Series.__getitem__ treating keys as positions is deprecated. In a future version, integer keys will always be treated as labels (consistent with DataFrame behavior). To access a value by position, use `ser.iloc[pos]`\n",
      "  if abs(sorted_ranks[i] - sorted_ranks[j]) <= critical_difference:\n"
     ]
    },
    {
     "data": {
      "text/html": [
       "<pre style=\"white-space:pre;overflow-x:auto;line-height:normal;font-family:Menlo,'DejaVu Sans Mono',consolas,'Courier New',monospace\"><span style=\"color: #7fbfbf; text-decoration-color: #7fbfbf\">[19:02:46] </span><span style=\"color: #000080; text-decoration-color: #000080\">INFO    </span> Lost following experiments: optimizer_id                     Nevergrad-DE   <a href=\"file:///home/numina/Documents/repos/CARP-S-Experiments/lib/CARP-S/carps/analysis/run_autorank.py\" target=\"_blank\"><span style=\"color: #7f7f7f; text-decoration-color: #7f7f7f\">run_autorank.py</span></a><span style=\"color: #7f7f7f; text-decoration-color: #7f7f7f\">:</span><a href=\"file:///home/numina/Documents/repos/CARP-S-Experiments/lib/CARP-S/carps/analysis/run_autorank.py#113\" target=\"_blank\"><span style=\"color: #7f7f7f; text-decoration-color: #7f7f7f\">113</span></a>\n",
       "<span style=\"color: #7fbfbf; text-decoration-color: #7fbfbf\">           </span>         Optuna-MO  RandomSearch                                                     <span style=\"color: #7f7f7f; text-decoration-color: #7f7f7f\">                   </span>\n",
       "<span style=\"color: #7fbfbf; text-decoration-color: #7fbfbf\">           </span>         problem_id                                                                  <span style=\"color: #7f7f7f; text-decoration-color: #7f7f7f\">                   </span>\n",
       "<span style=\"color: #7fbfbf; text-decoration-color: #7fbfbf\">           </span>         yahpo/mo/iaml_ranger/<span style=\"color: #008080; text-decoration-color: #008080; font-weight: bold\">1067</span>/<span style=\"color: #800080; text-decoration-color: #800080; font-style: italic\">None</span>       <span style=\"color: #008080; text-decoration-color: #008080; font-weight: bold\">0.336826</span>        NaN      <span style=\"color: #008080; text-decoration-color: #008080; font-weight: bold\">0.217303</span>      <span style=\"color: #7f7f7f; text-decoration-color: #7f7f7f\">                   </span>\n",
       "<span style=\"color: #7fbfbf; text-decoration-color: #7fbfbf\">           </span>         yahpo/mo/iaml_ranger/<span style=\"color: #008080; text-decoration-color: #008080; font-weight: bold\">1489</span>/<span style=\"color: #800080; text-decoration-color: #800080; font-style: italic\">None</span>       <span style=\"color: #008080; text-decoration-color: #008080; font-weight: bold\">0.174604</span>        NaN      <span style=\"color: #008080; text-decoration-color: #008080; font-weight: bold\">0.004866</span>      <span style=\"color: #7f7f7f; text-decoration-color: #7f7f7f\">                   </span>\n",
       "<span style=\"color: #7fbfbf; text-decoration-color: #7fbfbf\">           </span>         yahpo/mo/iaml_super/<span style=\"color: #008080; text-decoration-color: #008080; font-weight: bold\">1067</span>/<span style=\"color: #800080; text-decoration-color: #800080; font-style: italic\">None</span>             NaN        NaN      <span style=\"color: #008080; text-decoration-color: #008080; font-weight: bold\">0.000075</span>      <span style=\"color: #7f7f7f; text-decoration-color: #7f7f7f\">                   </span>\n",
       "<span style=\"color: #7fbfbf; text-decoration-color: #7fbfbf\">           </span>         yahpo/mo/iaml_xgboost/<span style=\"color: #008080; text-decoration-color: #008080; font-weight: bold\">1489</span>/<span style=\"color: #800080; text-decoration-color: #800080; font-style: italic\">None</span>      <span style=\"color: #008080; text-decoration-color: #008080; font-weight: bold\">0.203513</span>        NaN      <span style=\"color: #008080; text-decoration-color: #008080; font-weight: bold\">0.000394</span>      <span style=\"color: #7f7f7f; text-decoration-color: #7f7f7f\">                   </span>\n",
       "<span style=\"color: #7fbfbf; text-decoration-color: #7fbfbf\">           </span>         yahpo/mo/rbv2_ranger/<span style=\"color: #008080; text-decoration-color: #008080; font-weight: bold\">375</span>/<span style=\"color: #800080; text-decoration-color: #800080; font-style: italic\">None</span>        <span style=\"color: #008080; text-decoration-color: #008080; font-weight: bold\">0.218806</span>        NaN      <span style=\"color: #008080; text-decoration-color: #008080; font-weight: bold\">0.049281</span>      <span style=\"color: #7f7f7f; text-decoration-color: #7f7f7f\">                   </span>\n",
       "<span style=\"color: #7fbfbf; text-decoration-color: #7fbfbf\">           </span>         yahpo/mo/rbv2_ranger/<span style=\"color: #008080; text-decoration-color: #008080; font-weight: bold\">40979</span>/<span style=\"color: #800080; text-decoration-color: #800080; font-style: italic\">None</span>      <span style=\"color: #008080; text-decoration-color: #008080; font-weight: bold\">0.197883</span>        NaN      <span style=\"color: #008080; text-decoration-color: #008080; font-weight: bold\">0.067001</span>      <span style=\"color: #7f7f7f; text-decoration-color: #7f7f7f\">                   </span>\n",
       "<span style=\"color: #7fbfbf; text-decoration-color: #7fbfbf\">           </span>         yahpo/mo/rbv2_ranger/<span style=\"color: #008080; text-decoration-color: #008080; font-weight: bold\">6</span>/<span style=\"color: #800080; text-decoration-color: #800080; font-style: italic\">None</span>          <span style=\"color: #008080; text-decoration-color: #008080; font-weight: bold\">0.110805</span>        NaN      <span style=\"color: #008080; text-decoration-color: #008080; font-weight: bold\">0.017989</span>      <span style=\"color: #7f7f7f; text-decoration-color: #7f7f7f\">                   </span>\n",
       "<span style=\"color: #7fbfbf; text-decoration-color: #7fbfbf\">           </span>         yahpo/mo/rbv2_super/<span style=\"color: #008080; text-decoration-color: #008080; font-weight: bold\">1053</span>/<span style=\"color: #800080; text-decoration-color: #800080; font-style: italic\">None</span>             NaN        NaN      <span style=\"color: #008080; text-decoration-color: #008080; font-weight: bold\">0.005830</span>      <span style=\"color: #7f7f7f; text-decoration-color: #7f7f7f\">                   </span>\n",
       "<span style=\"color: #7fbfbf; text-decoration-color: #7fbfbf\">           </span>         yahpo/mo/rbv2_super/<span style=\"color: #008080; text-decoration-color: #008080; font-weight: bold\">6</span>/<span style=\"color: #800080; text-decoration-color: #800080; font-style: italic\">None</span>                NaN        NaN      <span style=\"color: #008080; text-decoration-color: #008080; font-weight: bold\">0.000088</span>      <span style=\"color: #7f7f7f; text-decoration-color: #7f7f7f\">                   </span>\n",
       "<span style=\"color: #7fbfbf; text-decoration-color: #7fbfbf\">           </span>         yahpo/mo/rbv2_xgboost/<span style=\"color: #008080; text-decoration-color: #008080; font-weight: bold\">12</span>/<span style=\"color: #800080; text-decoration-color: #800080; font-style: italic\">None</span>        <span style=\"color: #008080; text-decoration-color: #008080; font-weight: bold\">0.040141</span>        NaN      <span style=\"color: #008080; text-decoration-color: #008080; font-weight: bold\">0.000009</span>      <span style=\"color: #7f7f7f; text-decoration-color: #7f7f7f\">                   </span>\n",
       "<span style=\"color: #7fbfbf; text-decoration-color: #7fbfbf\">           </span>         yahpo/mo/rbv2_xgboost/<span style=\"color: #008080; text-decoration-color: #008080; font-weight: bold\">182</span>/<span style=\"color: #800080; text-decoration-color: #800080; font-style: italic\">None</span>       <span style=\"color: #008080; text-decoration-color: #008080; font-weight: bold\">0.010498</span>        NaN      <span style=\"color: #008080; text-decoration-color: #008080; font-weight: bold\">0.000003</span>      <span style=\"color: #7f7f7f; text-decoration-color: #7f7f7f\">                   </span>\n",
       "<span style=\"color: #7fbfbf; text-decoration-color: #7fbfbf\">           </span>         yahpo/mo/rbv2_xgboost/<span style=\"color: #008080; text-decoration-color: #008080; font-weight: bold\">28</span>/<span style=\"color: #800080; text-decoration-color: #800080; font-style: italic\">None</span>        <span style=\"color: #008080; text-decoration-color: #008080; font-weight: bold\">0.007840</span>        NaN      <span style=\"color: #008080; text-decoration-color: #008080; font-weight: bold\">0.000001</span>      <span style=\"color: #7f7f7f; text-decoration-color: #7f7f7f\">                   </span>\n",
       "</pre>\n"
      ],
      "text/plain": [
       "\u001b[2;36m[19:02:46]\u001b[0m\u001b[2;36m \u001b[0m\u001b[34mINFO    \u001b[0m Lost following experiments: optimizer_id                     Nevergrad-DE   \u001b]8;id=530197;file:///home/numina/Documents/repos/CARP-S-Experiments/lib/CARP-S/carps/analysis/run_autorank.py\u001b\\\u001b[2mrun_autorank.py\u001b[0m\u001b]8;;\u001b\\\u001b[2m:\u001b[0m\u001b]8;id=971210;file:///home/numina/Documents/repos/CARP-S-Experiments/lib/CARP-S/carps/analysis/run_autorank.py#113\u001b\\\u001b[2m113\u001b[0m\u001b]8;;\u001b\\\n",
       "\u001b[2;36m           \u001b[0m         Optuna-MO  RandomSearch                                                     \u001b[2m                   \u001b[0m\n",
       "\u001b[2;36m           \u001b[0m         problem_id                                                                  \u001b[2m                   \u001b[0m\n",
       "\u001b[2;36m           \u001b[0m         yahpo/mo/iaml_ranger/\u001b[1;36m1067\u001b[0m/\u001b[3;35mNone\u001b[0m       \u001b[1;36m0.336826\u001b[0m        NaN      \u001b[1;36m0.217303\u001b[0m      \u001b[2m                   \u001b[0m\n",
       "\u001b[2;36m           \u001b[0m         yahpo/mo/iaml_ranger/\u001b[1;36m1489\u001b[0m/\u001b[3;35mNone\u001b[0m       \u001b[1;36m0.174604\u001b[0m        NaN      \u001b[1;36m0.004866\u001b[0m      \u001b[2m                   \u001b[0m\n",
       "\u001b[2;36m           \u001b[0m         yahpo/mo/iaml_super/\u001b[1;36m1067\u001b[0m/\u001b[3;35mNone\u001b[0m             NaN        NaN      \u001b[1;36m0.000075\u001b[0m      \u001b[2m                   \u001b[0m\n",
       "\u001b[2;36m           \u001b[0m         yahpo/mo/iaml_xgboost/\u001b[1;36m1489\u001b[0m/\u001b[3;35mNone\u001b[0m      \u001b[1;36m0.203513\u001b[0m        NaN      \u001b[1;36m0.000394\u001b[0m      \u001b[2m                   \u001b[0m\n",
       "\u001b[2;36m           \u001b[0m         yahpo/mo/rbv2_ranger/\u001b[1;36m375\u001b[0m/\u001b[3;35mNone\u001b[0m        \u001b[1;36m0.218806\u001b[0m        NaN      \u001b[1;36m0.049281\u001b[0m      \u001b[2m                   \u001b[0m\n",
       "\u001b[2;36m           \u001b[0m         yahpo/mo/rbv2_ranger/\u001b[1;36m40979\u001b[0m/\u001b[3;35mNone\u001b[0m      \u001b[1;36m0.197883\u001b[0m        NaN      \u001b[1;36m0.067001\u001b[0m      \u001b[2m                   \u001b[0m\n",
       "\u001b[2;36m           \u001b[0m         yahpo/mo/rbv2_ranger/\u001b[1;36m6\u001b[0m/\u001b[3;35mNone\u001b[0m          \u001b[1;36m0.110805\u001b[0m        NaN      \u001b[1;36m0.017989\u001b[0m      \u001b[2m                   \u001b[0m\n",
       "\u001b[2;36m           \u001b[0m         yahpo/mo/rbv2_super/\u001b[1;36m1053\u001b[0m/\u001b[3;35mNone\u001b[0m             NaN        NaN      \u001b[1;36m0.005830\u001b[0m      \u001b[2m                   \u001b[0m\n",
       "\u001b[2;36m           \u001b[0m         yahpo/mo/rbv2_super/\u001b[1;36m6\u001b[0m/\u001b[3;35mNone\u001b[0m                NaN        NaN      \u001b[1;36m0.000088\u001b[0m      \u001b[2m                   \u001b[0m\n",
       "\u001b[2;36m           \u001b[0m         yahpo/mo/rbv2_xgboost/\u001b[1;36m12\u001b[0m/\u001b[3;35mNone\u001b[0m        \u001b[1;36m0.040141\u001b[0m        NaN      \u001b[1;36m0.000009\u001b[0m      \u001b[2m                   \u001b[0m\n",
       "\u001b[2;36m           \u001b[0m         yahpo/mo/rbv2_xgboost/\u001b[1;36m182\u001b[0m/\u001b[3;35mNone\u001b[0m       \u001b[1;36m0.010498\u001b[0m        NaN      \u001b[1;36m0.000003\u001b[0m      \u001b[2m                   \u001b[0m\n",
       "\u001b[2;36m           \u001b[0m         yahpo/mo/rbv2_xgboost/\u001b[1;36m28\u001b[0m/\u001b[3;35mNone\u001b[0m        \u001b[1;36m0.007840\u001b[0m        NaN      \u001b[1;36m0.000001\u001b[0m      \u001b[2m                   \u001b[0m\n"
      ]
     },
     "metadata": {},
     "output_type": "display_data"
    },
    {
     "name": "stdout",
     "output_type": "stream",
     "text": [
      "Rejecting null hypothesis that data is normal for column Nevergrad-DE (p=0.000000<0.016667)\n",
      "Rejecting null hypothesis that data is normal for column Optuna-MO (p=0.000000<0.016667)\n",
      "Rejecting null hypothesis that data is normal for column RandomSearch (p=0.000000<0.016667)\n",
      "Using Friedman test as omnibus test\n",
      "Rejecting null hypothesis that there is no difference between the distributions (p=0.000578)\n",
      "Using Nemenyi post-hoc test. Differences are significant,if the distance between the mean ranks is greater than the critical distance.\n",
      "              meanrank    median       mad  ci_lower  ci_upper effect_size  \\\n",
      "Nevergrad-DE  1.746835  0.008545  0.008178  0.002258  0.062983         0.0   \n",
      "Optuna-MO     1.911392  0.009795  0.009762  0.004593  0.058713    -0.09366   \n",
      "RandomSearch  2.341772  0.011273  0.010961  0.005519  0.065524   -0.190317   \n",
      "\n",
      "               magnitude  \n",
      "Nevergrad-DE  negligible  \n",
      "Optuna-MO     negligible  \n",
      "RandomSearch  negligible  \n"
     ]
    },
    {
     "name": "stderr",
     "output_type": "stream",
     "text": [
      "/home/numina/micromamba/envs/carpsexp/lib/python3.11/site-packages/autorank/_util.py:432: FutureWarning: Series.__getitem__ treating keys as positions is deprecated. In a future version, integer keys will always be treated as labels (consistent with DataFrame behavior). To access a value by position, use `ser.iloc[pos]`\n",
      "  if abs(sorted_ranks[i] - sorted_ranks[j]) <= critical_difference:\n"
     ]
    },
    {
     "data": {
      "text/html": [
       "<pre style=\"white-space:pre;overflow-x:auto;line-height:normal;font-family:Menlo,'DejaVu Sans Mono',consolas,'Courier New',monospace\"><span style=\"color: #7fbfbf; text-decoration-color: #7fbfbf\">[19:02:47] </span><span style=\"color: #000080; text-decoration-color: #000080\">INFO    </span> Lost following experiments: optimizer_id                      Nevergrad-DE  <a href=\"file:///home/numina/Documents/repos/CARP-S-Experiments/lib/CARP-S/carps/analysis/run_autorank.py\" target=\"_blank\"><span style=\"color: #7f7f7f; text-decoration-color: #7f7f7f\">run_autorank.py</span></a><span style=\"color: #7f7f7f; text-decoration-color: #7f7f7f\">:</span><a href=\"file:///home/numina/Documents/repos/CARP-S-Experiments/lib/CARP-S/carps/analysis/run_autorank.py#113\" target=\"_blank\"><span style=\"color: #7f7f7f; text-decoration-color: #7f7f7f\">113</span></a>\n",
       "<span style=\"color: #7fbfbf; text-decoration-color: #7fbfbf\">           </span>         Optuna-MO  RandomSearch                                                     <span style=\"color: #7f7f7f; text-decoration-color: #7f7f7f\">                   </span>\n",
       "<span style=\"color: #7fbfbf; text-decoration-color: #7fbfbf\">           </span>         problem_id                                                                  <span style=\"color: #7f7f7f; text-decoration-color: #7f7f7f\">                   </span>\n",
       "<span style=\"color: #7fbfbf; text-decoration-color: #7fbfbf\">           </span>         yahpo/mo/iaml_ranger/<span style=\"color: #008080; text-decoration-color: #008080; font-weight: bold\">1489</span>/<span style=\"color: #800080; text-decoration-color: #800080; font-style: italic\">None</span>        <span style=\"color: #008080; text-decoration-color: #008080; font-weight: bold\">0.174604</span>        NaN      <span style=\"color: #008080; text-decoration-color: #008080; font-weight: bold\">0.004866</span>     <span style=\"color: #7f7f7f; text-decoration-color: #7f7f7f\">                   </span>\n",
       "<span style=\"color: #7fbfbf; text-decoration-color: #7fbfbf\">           </span>         yahpo/mo/iaml_super/<span style=\"color: #008080; text-decoration-color: #008080; font-weight: bold\">1067</span>/<span style=\"color: #800080; text-decoration-color: #800080; font-style: italic\">None</span>              NaN        NaN      <span style=\"color: #008080; text-decoration-color: #008080; font-weight: bold\">0.000075</span>     <span style=\"color: #7f7f7f; text-decoration-color: #7f7f7f\">                   </span>\n",
       "<span style=\"color: #7fbfbf; text-decoration-color: #7fbfbf\">           </span>         yahpo/mo/iaml_super/<span style=\"color: #008080; text-decoration-color: #008080; font-weight: bold\">1489</span>/<span style=\"color: #800080; text-decoration-color: #800080; font-style: italic\">None</span>              NaN        NaN      <span style=\"color: #008080; text-decoration-color: #008080; font-weight: bold\">0.000240</span>     <span style=\"color: #7f7f7f; text-decoration-color: #7f7f7f\">                   </span>\n",
       "<span style=\"color: #7fbfbf; text-decoration-color: #7fbfbf\">           </span>         yahpo/mo/iaml_xgboost/<span style=\"color: #008080; text-decoration-color: #008080; font-weight: bold\">1489</span>/<span style=\"color: #800080; text-decoration-color: #800080; font-style: italic\">None</span>       <span style=\"color: #008080; text-decoration-color: #008080; font-weight: bold\">0.203513</span>        NaN      <span style=\"color: #008080; text-decoration-color: #008080; font-weight: bold\">0.000394</span>     <span style=\"color: #7f7f7f; text-decoration-color: #7f7f7f\">                   </span>\n",
       "<span style=\"color: #7fbfbf; text-decoration-color: #7fbfbf\">           </span>         yahpo/mo/iaml_xgboost/<span style=\"color: #008080; text-decoration-color: #008080; font-weight: bold\">40981</span>/<span style=\"color: #800080; text-decoration-color: #800080; font-style: italic\">None</span>      <span style=\"color: #008080; text-decoration-color: #008080; font-weight: bold\">0.201979</span>        NaN      <span style=\"color: #008080; text-decoration-color: #008080; font-weight: bold\">0.001476</span>     <span style=\"color: #7f7f7f; text-decoration-color: #7f7f7f\">                   </span>\n",
       "<span style=\"color: #7fbfbf; text-decoration-color: #7fbfbf\">           </span>         yahpo/mo/rbv2_ranger/<span style=\"color: #008080; text-decoration-color: #008080; font-weight: bold\">375</span>/<span style=\"color: #800080; text-decoration-color: #800080; font-style: italic\">None</span>         <span style=\"color: #008080; text-decoration-color: #008080; font-weight: bold\">0.218806</span>        NaN      <span style=\"color: #008080; text-decoration-color: #008080; font-weight: bold\">0.049281</span>     <span style=\"color: #7f7f7f; text-decoration-color: #7f7f7f\">                   </span>\n",
       "<span style=\"color: #7fbfbf; text-decoration-color: #7fbfbf\">           </span>         yahpo/mo/rbv2_ranger/<span style=\"color: #008080; text-decoration-color: #008080; font-weight: bold\">40979</span>/<span style=\"color: #800080; text-decoration-color: #800080; font-style: italic\">None</span>       <span style=\"color: #008080; text-decoration-color: #008080; font-weight: bold\">0.197883</span>        NaN      <span style=\"color: #008080; text-decoration-color: #008080; font-weight: bold\">0.067001</span>     <span style=\"color: #7f7f7f; text-decoration-color: #7f7f7f\">                   </span>\n",
       "<span style=\"color: #7fbfbf; text-decoration-color: #7fbfbf\">           </span>         yahpo/mo/rbv2_ranger/<span style=\"color: #008080; text-decoration-color: #008080; font-weight: bold\">6</span>/<span style=\"color: #800080; text-decoration-color: #800080; font-style: italic\">None</span>           <span style=\"color: #008080; text-decoration-color: #008080; font-weight: bold\">0.110805</span>        NaN      <span style=\"color: #008080; text-decoration-color: #008080; font-weight: bold\">0.017989</span>     <span style=\"color: #7f7f7f; text-decoration-color: #7f7f7f\">                   </span>\n",
       "<span style=\"color: #7fbfbf; text-decoration-color: #7fbfbf\">           </span>         yahpo/mo/rbv2_super/<span style=\"color: #008080; text-decoration-color: #008080; font-weight: bold\">1457</span>/<span style=\"color: #800080; text-decoration-color: #800080; font-style: italic\">None</span>              NaN        NaN      <span style=\"color: #008080; text-decoration-color: #008080; font-weight: bold\">0.000074</span>     <span style=\"color: #7f7f7f; text-decoration-color: #7f7f7f\">                   </span>\n",
       "<span style=\"color: #7fbfbf; text-decoration-color: #7fbfbf\">           </span>         yahpo/mo/rbv2_xgboost/<span style=\"color: #008080; text-decoration-color: #008080; font-weight: bold\">182</span>/<span style=\"color: #800080; text-decoration-color: #800080; font-style: italic\">None</span>        <span style=\"color: #008080; text-decoration-color: #008080; font-weight: bold\">0.010498</span>        NaN      <span style=\"color: #008080; text-decoration-color: #008080; font-weight: bold\">0.000003</span>     <span style=\"color: #7f7f7f; text-decoration-color: #7f7f7f\">                   </span>\n",
       "<span style=\"color: #7fbfbf; text-decoration-color: #7fbfbf\">           </span>         yahpo/mo/rbv2_xgboost/<span style=\"color: #008080; text-decoration-color: #008080; font-weight: bold\">28</span>/<span style=\"color: #800080; text-decoration-color: #800080; font-style: italic\">None</span>         <span style=\"color: #008080; text-decoration-color: #008080; font-weight: bold\">0.007840</span>        NaN      <span style=\"color: #008080; text-decoration-color: #008080; font-weight: bold\">0.000001</span>     <span style=\"color: #7f7f7f; text-decoration-color: #7f7f7f\">                   </span>\n",
       "</pre>\n"
      ],
      "text/plain": [
       "\u001b[2;36m[19:02:47]\u001b[0m\u001b[2;36m \u001b[0m\u001b[34mINFO    \u001b[0m Lost following experiments: optimizer_id                      Nevergrad-DE  \u001b]8;id=388080;file:///home/numina/Documents/repos/CARP-S-Experiments/lib/CARP-S/carps/analysis/run_autorank.py\u001b\\\u001b[2mrun_autorank.py\u001b[0m\u001b]8;;\u001b\\\u001b[2m:\u001b[0m\u001b]8;id=24284;file:///home/numina/Documents/repos/CARP-S-Experiments/lib/CARP-S/carps/analysis/run_autorank.py#113\u001b\\\u001b[2m113\u001b[0m\u001b]8;;\u001b\\\n",
       "\u001b[2;36m           \u001b[0m         Optuna-MO  RandomSearch                                                     \u001b[2m                   \u001b[0m\n",
       "\u001b[2;36m           \u001b[0m         problem_id                                                                  \u001b[2m                   \u001b[0m\n",
       "\u001b[2;36m           \u001b[0m         yahpo/mo/iaml_ranger/\u001b[1;36m1489\u001b[0m/\u001b[3;35mNone\u001b[0m        \u001b[1;36m0.174604\u001b[0m        NaN      \u001b[1;36m0.004866\u001b[0m     \u001b[2m                   \u001b[0m\n",
       "\u001b[2;36m           \u001b[0m         yahpo/mo/iaml_super/\u001b[1;36m1067\u001b[0m/\u001b[3;35mNone\u001b[0m              NaN        NaN      \u001b[1;36m0.000075\u001b[0m     \u001b[2m                   \u001b[0m\n",
       "\u001b[2;36m           \u001b[0m         yahpo/mo/iaml_super/\u001b[1;36m1489\u001b[0m/\u001b[3;35mNone\u001b[0m              NaN        NaN      \u001b[1;36m0.000240\u001b[0m     \u001b[2m                   \u001b[0m\n",
       "\u001b[2;36m           \u001b[0m         yahpo/mo/iaml_xgboost/\u001b[1;36m1489\u001b[0m/\u001b[3;35mNone\u001b[0m       \u001b[1;36m0.203513\u001b[0m        NaN      \u001b[1;36m0.000394\u001b[0m     \u001b[2m                   \u001b[0m\n",
       "\u001b[2;36m           \u001b[0m         yahpo/mo/iaml_xgboost/\u001b[1;36m40981\u001b[0m/\u001b[3;35mNone\u001b[0m      \u001b[1;36m0.201979\u001b[0m        NaN      \u001b[1;36m0.001476\u001b[0m     \u001b[2m                   \u001b[0m\n",
       "\u001b[2;36m           \u001b[0m         yahpo/mo/rbv2_ranger/\u001b[1;36m375\u001b[0m/\u001b[3;35mNone\u001b[0m         \u001b[1;36m0.218806\u001b[0m        NaN      \u001b[1;36m0.049281\u001b[0m     \u001b[2m                   \u001b[0m\n",
       "\u001b[2;36m           \u001b[0m         yahpo/mo/rbv2_ranger/\u001b[1;36m40979\u001b[0m/\u001b[3;35mNone\u001b[0m       \u001b[1;36m0.197883\u001b[0m        NaN      \u001b[1;36m0.067001\u001b[0m     \u001b[2m                   \u001b[0m\n",
       "\u001b[2;36m           \u001b[0m         yahpo/mo/rbv2_ranger/\u001b[1;36m6\u001b[0m/\u001b[3;35mNone\u001b[0m           \u001b[1;36m0.110805\u001b[0m        NaN      \u001b[1;36m0.017989\u001b[0m     \u001b[2m                   \u001b[0m\n",
       "\u001b[2;36m           \u001b[0m         yahpo/mo/rbv2_super/\u001b[1;36m1457\u001b[0m/\u001b[3;35mNone\u001b[0m              NaN        NaN      \u001b[1;36m0.000074\u001b[0m     \u001b[2m                   \u001b[0m\n",
       "\u001b[2;36m           \u001b[0m         yahpo/mo/rbv2_xgboost/\u001b[1;36m182\u001b[0m/\u001b[3;35mNone\u001b[0m        \u001b[1;36m0.010498\u001b[0m        NaN      \u001b[1;36m0.000003\u001b[0m     \u001b[2m                   \u001b[0m\n",
       "\u001b[2;36m           \u001b[0m         yahpo/mo/rbv2_xgboost/\u001b[1;36m28\u001b[0m/\u001b[3;35mNone\u001b[0m         \u001b[1;36m0.007840\u001b[0m        NaN      \u001b[1;36m0.000001\u001b[0m     \u001b[2m                   \u001b[0m\n"
      ]
     },
     "metadata": {},
     "output_type": "display_data"
    },
    {
     "name": "stdout",
     "output_type": "stream",
     "text": [
      "Rejecting null hypothesis that data is normal for column Nevergrad-DE (p=0.000000<0.016667)\n",
      "Rejecting null hypothesis that data is normal for column Optuna-MO (p=0.000000<0.016667)\n",
      "Rejecting null hypothesis that data is normal for column RandomSearch (p=0.000000<0.016667)\n",
      "Using Friedman test as omnibus test\n",
      "Rejecting null hypothesis that there is no difference between the distributions (p=0.000786)\n",
      "Using Nemenyi post-hoc test. Differences are significant,if the distance between the mean ranks is greater than the critical distance.\n",
      "              meanrank    median       mad  ci_lower  ci_upper effect_size  \\\n",
      "Nevergrad-DE  1.691358  0.007567  0.007475  0.001327  0.046377         0.0   \n",
      "Optuna-MO     2.024691  0.009487  0.009457   0.00268  0.058713   -0.151929   \n",
      "RandomSearch  2.283951  0.011273  0.011179  0.003702  0.060899   -0.262912   \n",
      "\n",
      "               magnitude  \n",
      "Nevergrad-DE  negligible  \n",
      "Optuna-MO     negligible  \n",
      "RandomSearch       small  \n"
     ]
    },
    {
     "name": "stderr",
     "output_type": "stream",
     "text": [
      "/home/numina/micromamba/envs/carpsexp/lib/python3.11/site-packages/autorank/_util.py:432: FutureWarning: Series.__getitem__ treating keys as positions is deprecated. In a future version, integer keys will always be treated as labels (consistent with DataFrame behavior). To access a value by position, use `ser.iloc[pos]`\n",
      "  if abs(sorted_ranks[i] - sorted_ranks[j]) <= critical_difference:\n"
     ]
    },
    {
     "data": {
      "text/html": [
       "<pre style=\"white-space:pre;overflow-x:auto;line-height:normal;font-family:Menlo,'DejaVu Sans Mono',consolas,'Courier New',monospace\"><span style=\"color: #7fbfbf; text-decoration-color: #7fbfbf\">[19:02:48] </span><span style=\"color: #000080; text-decoration-color: #000080\">INFO    </span> Lost following experiments: optimizer_id                     Nevergrad-DE   <a href=\"file:///home/numina/Documents/repos/CARP-S-Experiments/lib/CARP-S/carps/analysis/run_autorank.py\" target=\"_blank\"><span style=\"color: #7f7f7f; text-decoration-color: #7f7f7f\">run_autorank.py</span></a><span style=\"color: #7f7f7f; text-decoration-color: #7f7f7f\">:</span><a href=\"file:///home/numina/Documents/repos/CARP-S-Experiments/lib/CARP-S/carps/analysis/run_autorank.py#113\" target=\"_blank\"><span style=\"color: #7f7f7f; text-decoration-color: #7f7f7f\">113</span></a>\n",
       "<span style=\"color: #7fbfbf; text-decoration-color: #7fbfbf\">           </span>         Optuna-MO  RandomSearch                                                     <span style=\"color: #7f7f7f; text-decoration-color: #7f7f7f\">                   </span>\n",
       "<span style=\"color: #7fbfbf; text-decoration-color: #7fbfbf\">           </span>         problem_id                                                                  <span style=\"color: #7f7f7f; text-decoration-color: #7f7f7f\">                   </span>\n",
       "<span style=\"color: #7fbfbf; text-decoration-color: #7fbfbf\">           </span>         yahpo/mo/iaml_ranger/<span style=\"color: #008080; text-decoration-color: #008080; font-weight: bold\">1067</span>/<span style=\"color: #800080; text-decoration-color: #800080; font-style: italic\">None</span>       <span style=\"color: #008080; text-decoration-color: #008080; font-weight: bold\">0.336826</span>        NaN      <span style=\"color: #008080; text-decoration-color: #008080; font-weight: bold\">0.217303</span>      <span style=\"color: #7f7f7f; text-decoration-color: #7f7f7f\">                   </span>\n",
       "<span style=\"color: #7fbfbf; text-decoration-color: #7fbfbf\">           </span>         yahpo/mo/iaml_ranger/<span style=\"color: #008080; text-decoration-color: #008080; font-weight: bold\">1489</span>/<span style=\"color: #800080; text-decoration-color: #800080; font-style: italic\">None</span>       <span style=\"color: #008080; text-decoration-color: #008080; font-weight: bold\">0.174604</span>        NaN      <span style=\"color: #008080; text-decoration-color: #008080; font-weight: bold\">0.004866</span>      <span style=\"color: #7f7f7f; text-decoration-color: #7f7f7f\">                   </span>\n",
       "<span style=\"color: #7fbfbf; text-decoration-color: #7fbfbf\">           </span>         yahpo/mo/iaml_super/<span style=\"color: #008080; text-decoration-color: #008080; font-weight: bold\">1067</span>/<span style=\"color: #800080; text-decoration-color: #800080; font-style: italic\">None</span>             NaN        NaN      <span style=\"color: #008080; text-decoration-color: #008080; font-weight: bold\">0.000075</span>      <span style=\"color: #7f7f7f; text-decoration-color: #7f7f7f\">                   </span>\n",
       "<span style=\"color: #7fbfbf; text-decoration-color: #7fbfbf\">           </span>         yahpo/mo/iaml_super/<span style=\"color: #008080; text-decoration-color: #008080; font-weight: bold\">1489</span>/<span style=\"color: #800080; text-decoration-color: #800080; font-style: italic\">None</span>             NaN        NaN      <span style=\"color: #008080; text-decoration-color: #008080; font-weight: bold\">0.000240</span>      <span style=\"color: #7f7f7f; text-decoration-color: #7f7f7f\">                   </span>\n",
       "<span style=\"color: #7fbfbf; text-decoration-color: #7fbfbf\">           </span>         yahpo/mo/rbv2_ranger/<span style=\"color: #008080; text-decoration-color: #008080; font-weight: bold\">40979</span>/<span style=\"color: #800080; text-decoration-color: #800080; font-style: italic\">None</span>      <span style=\"color: #008080; text-decoration-color: #008080; font-weight: bold\">0.197883</span>        NaN      <span style=\"color: #008080; text-decoration-color: #008080; font-weight: bold\">0.067001</span>      <span style=\"color: #7f7f7f; text-decoration-color: #7f7f7f\">                   </span>\n",
       "<span style=\"color: #7fbfbf; text-decoration-color: #7fbfbf\">           </span>         yahpo/mo/rbv2_ranger/<span style=\"color: #008080; text-decoration-color: #008080; font-weight: bold\">6</span>/<span style=\"color: #800080; text-decoration-color: #800080; font-style: italic\">None</span>          <span style=\"color: #008080; text-decoration-color: #008080; font-weight: bold\">0.110805</span>        NaN      <span style=\"color: #008080; text-decoration-color: #008080; font-weight: bold\">0.017989</span>      <span style=\"color: #7f7f7f; text-decoration-color: #7f7f7f\">                   </span>\n",
       "<span style=\"color: #7fbfbf; text-decoration-color: #7fbfbf\">           </span>         yahpo/mo/rbv2_super/<span style=\"color: #008080; text-decoration-color: #008080; font-weight: bold\">1053</span>/<span style=\"color: #800080; text-decoration-color: #800080; font-style: italic\">None</span>             NaN        NaN      <span style=\"color: #008080; text-decoration-color: #008080; font-weight: bold\">0.005830</span>      <span style=\"color: #7f7f7f; text-decoration-color: #7f7f7f\">                   </span>\n",
       "<span style=\"color: #7fbfbf; text-decoration-color: #7fbfbf\">           </span>         yahpo/mo/rbv2_super/<span style=\"color: #008080; text-decoration-color: #008080; font-weight: bold\">6</span>/<span style=\"color: #800080; text-decoration-color: #800080; font-style: italic\">None</span>                NaN        NaN      <span style=\"color: #008080; text-decoration-color: #008080; font-weight: bold\">0.000088</span>      <span style=\"color: #7f7f7f; text-decoration-color: #7f7f7f\">                   </span>\n",
       "<span style=\"color: #7fbfbf; text-decoration-color: #7fbfbf\">           </span>         yahpo/mo/rbv2_xgboost/<span style=\"color: #008080; text-decoration-color: #008080; font-weight: bold\">12</span>/<span style=\"color: #800080; text-decoration-color: #800080; font-style: italic\">None</span>        <span style=\"color: #008080; text-decoration-color: #008080; font-weight: bold\">0.040141</span>        NaN      <span style=\"color: #008080; text-decoration-color: #008080; font-weight: bold\">0.000009</span>      <span style=\"color: #7f7f7f; text-decoration-color: #7f7f7f\">                   </span>\n",
       "</pre>\n"
      ],
      "text/plain": [
       "\u001b[2;36m[19:02:48]\u001b[0m\u001b[2;36m \u001b[0m\u001b[34mINFO    \u001b[0m Lost following experiments: optimizer_id                     Nevergrad-DE   \u001b]8;id=248387;file:///home/numina/Documents/repos/CARP-S-Experiments/lib/CARP-S/carps/analysis/run_autorank.py\u001b\\\u001b[2mrun_autorank.py\u001b[0m\u001b]8;;\u001b\\\u001b[2m:\u001b[0m\u001b]8;id=159815;file:///home/numina/Documents/repos/CARP-S-Experiments/lib/CARP-S/carps/analysis/run_autorank.py#113\u001b\\\u001b[2m113\u001b[0m\u001b]8;;\u001b\\\n",
       "\u001b[2;36m           \u001b[0m         Optuna-MO  RandomSearch                                                     \u001b[2m                   \u001b[0m\n",
       "\u001b[2;36m           \u001b[0m         problem_id                                                                  \u001b[2m                   \u001b[0m\n",
       "\u001b[2;36m           \u001b[0m         yahpo/mo/iaml_ranger/\u001b[1;36m1067\u001b[0m/\u001b[3;35mNone\u001b[0m       \u001b[1;36m0.336826\u001b[0m        NaN      \u001b[1;36m0.217303\u001b[0m      \u001b[2m                   \u001b[0m\n",
       "\u001b[2;36m           \u001b[0m         yahpo/mo/iaml_ranger/\u001b[1;36m1489\u001b[0m/\u001b[3;35mNone\u001b[0m       \u001b[1;36m0.174604\u001b[0m        NaN      \u001b[1;36m0.004866\u001b[0m      \u001b[2m                   \u001b[0m\n",
       "\u001b[2;36m           \u001b[0m         yahpo/mo/iaml_super/\u001b[1;36m1067\u001b[0m/\u001b[3;35mNone\u001b[0m             NaN        NaN      \u001b[1;36m0.000075\u001b[0m      \u001b[2m                   \u001b[0m\n",
       "\u001b[2;36m           \u001b[0m         yahpo/mo/iaml_super/\u001b[1;36m1489\u001b[0m/\u001b[3;35mNone\u001b[0m             NaN        NaN      \u001b[1;36m0.000240\u001b[0m      \u001b[2m                   \u001b[0m\n",
       "\u001b[2;36m           \u001b[0m         yahpo/mo/rbv2_ranger/\u001b[1;36m40979\u001b[0m/\u001b[3;35mNone\u001b[0m      \u001b[1;36m0.197883\u001b[0m        NaN      \u001b[1;36m0.067001\u001b[0m      \u001b[2m                   \u001b[0m\n",
       "\u001b[2;36m           \u001b[0m         yahpo/mo/rbv2_ranger/\u001b[1;36m6\u001b[0m/\u001b[3;35mNone\u001b[0m          \u001b[1;36m0.110805\u001b[0m        NaN      \u001b[1;36m0.017989\u001b[0m      \u001b[2m                   \u001b[0m\n",
       "\u001b[2;36m           \u001b[0m         yahpo/mo/rbv2_super/\u001b[1;36m1053\u001b[0m/\u001b[3;35mNone\u001b[0m             NaN        NaN      \u001b[1;36m0.005830\u001b[0m      \u001b[2m                   \u001b[0m\n",
       "\u001b[2;36m           \u001b[0m         yahpo/mo/rbv2_super/\u001b[1;36m6\u001b[0m/\u001b[3;35mNone\u001b[0m                NaN        NaN      \u001b[1;36m0.000088\u001b[0m      \u001b[2m                   \u001b[0m\n",
       "\u001b[2;36m           \u001b[0m         yahpo/mo/rbv2_xgboost/\u001b[1;36m12\u001b[0m/\u001b[3;35mNone\u001b[0m        \u001b[1;36m0.040141\u001b[0m        NaN      \u001b[1;36m0.000009\u001b[0m      \u001b[2m                   \u001b[0m\n"
      ]
     },
     "metadata": {},
     "output_type": "display_data"
    },
    {
     "name": "stdout",
     "output_type": "stream",
     "text": [
      "Rejecting null hypothesis that data is normal for column Nevergrad-DE (p=0.000000<0.016667)\n",
      "Rejecting null hypothesis that data is normal for column Optuna-MO (p=0.000000<0.016667)\n",
      "Rejecting null hypothesis that data is normal for column RandomSearch (p=0.000000<0.016667)\n",
      "Using Friedman test as omnibus test\n",
      "Rejecting null hypothesis that there is no difference between the distributions (p=0.000098)\n",
      "Using Nemenyi post-hoc test. Differences are significant,if the distance between the mean ranks is greater than the critical distance.\n",
      "              meanrank    median       mad  ci_lower  ci_upper effect_size  \\\n",
      "Nevergrad-DE  1.658537  0.007414  0.007207  0.001766  0.037349         0.0   \n",
      "Optuna-MO     2.012195  0.009226  0.009165  0.004593  0.050737   -0.148254   \n",
      "RandomSearch  2.329268  0.010828  0.010578  0.005451  0.051639    -0.25443   \n",
      "\n",
      "               magnitude  \n",
      "Nevergrad-DE  negligible  \n",
      "Optuna-MO     negligible  \n",
      "RandomSearch       small  \n"
     ]
    },
    {
     "name": "stderr",
     "output_type": "stream",
     "text": [
      "/home/numina/micromamba/envs/carpsexp/lib/python3.11/site-packages/autorank/_util.py:432: FutureWarning: Series.__getitem__ treating keys as positions is deprecated. In a future version, integer keys will always be treated as labels (consistent with DataFrame behavior). To access a value by position, use `ser.iloc[pos]`\n",
      "  if abs(sorted_ranks[i] - sorted_ranks[j]) <= critical_difference:\n"
     ]
    },
    {
     "data": {
      "text/html": [
       "<pre style=\"white-space:pre;overflow-x:auto;line-height:normal;font-family:Menlo,'DejaVu Sans Mono',consolas,'Courier New',monospace\"><span style=\"color: #7fbfbf; text-decoration-color: #7fbfbf\">[19:02:49] </span><span style=\"color: #000080; text-decoration-color: #000080\">INFO    </span> Lost following experiments: optimizer_id                      Nevergrad-DE  <a href=\"file:///home/numina/Documents/repos/CARP-S-Experiments/lib/CARP-S/carps/analysis/run_autorank.py\" target=\"_blank\"><span style=\"color: #7f7f7f; text-decoration-color: #7f7f7f\">run_autorank.py</span></a><span style=\"color: #7f7f7f; text-decoration-color: #7f7f7f\">:</span><a href=\"file:///home/numina/Documents/repos/CARP-S-Experiments/lib/CARP-S/carps/analysis/run_autorank.py#113\" target=\"_blank\"><span style=\"color: #7f7f7f; text-decoration-color: #7f7f7f\">113</span></a>\n",
       "<span style=\"color: #7fbfbf; text-decoration-color: #7fbfbf\">           </span>         Optuna-MO  RandomSearch                                                     <span style=\"color: #7f7f7f; text-decoration-color: #7f7f7f\">                   </span>\n",
       "<span style=\"color: #7fbfbf; text-decoration-color: #7fbfbf\">           </span>         problem_id                                                                  <span style=\"color: #7f7f7f; text-decoration-color: #7f7f7f\">                   </span>\n",
       "<span style=\"color: #7fbfbf; text-decoration-color: #7fbfbf\">           </span>         yahpo/mo/iaml_super/<span style=\"color: #008080; text-decoration-color: #008080; font-weight: bold\">1067</span>/<span style=\"color: #800080; text-decoration-color: #800080; font-style: italic\">None</span>              NaN        NaN      <span style=\"color: #008080; text-decoration-color: #008080; font-weight: bold\">0.000075</span>     <span style=\"color: #7f7f7f; text-decoration-color: #7f7f7f\">                   </span>\n",
       "<span style=\"color: #7fbfbf; text-decoration-color: #7fbfbf\">           </span>         yahpo/mo/iaml_super/<span style=\"color: #008080; text-decoration-color: #008080; font-weight: bold\">1489</span>/<span style=\"color: #800080; text-decoration-color: #800080; font-style: italic\">None</span>              NaN        NaN      <span style=\"color: #008080; text-decoration-color: #008080; font-weight: bold\">0.000240</span>     <span style=\"color: #7f7f7f; text-decoration-color: #7f7f7f\">                   </span>\n",
       "<span style=\"color: #7fbfbf; text-decoration-color: #7fbfbf\">           </span>         yahpo/mo/iaml_xgboost/<span style=\"color: #008080; text-decoration-color: #008080; font-weight: bold\">1489</span>/<span style=\"color: #800080; text-decoration-color: #800080; font-style: italic\">None</span>       <span style=\"color: #008080; text-decoration-color: #008080; font-weight: bold\">0.203513</span>        NaN      <span style=\"color: #008080; text-decoration-color: #008080; font-weight: bold\">0.000394</span>     <span style=\"color: #7f7f7f; text-decoration-color: #7f7f7f\">                   </span>\n",
       "<span style=\"color: #7fbfbf; text-decoration-color: #7fbfbf\">           </span>         yahpo/mo/iaml_xgboost/<span style=\"color: #008080; text-decoration-color: #008080; font-weight: bold\">40981</span>/<span style=\"color: #800080; text-decoration-color: #800080; font-style: italic\">None</span>      <span style=\"color: #008080; text-decoration-color: #008080; font-weight: bold\">0.201979</span>        NaN      <span style=\"color: #008080; text-decoration-color: #008080; font-weight: bold\">0.001476</span>     <span style=\"color: #7f7f7f; text-decoration-color: #7f7f7f\">                   </span>\n",
       "<span style=\"color: #7fbfbf; text-decoration-color: #7fbfbf\">           </span>         yahpo/mo/rbv2_ranger/<span style=\"color: #008080; text-decoration-color: #008080; font-weight: bold\">375</span>/<span style=\"color: #800080; text-decoration-color: #800080; font-style: italic\">None</span>         <span style=\"color: #008080; text-decoration-color: #008080; font-weight: bold\">0.218806</span>        NaN      <span style=\"color: #008080; text-decoration-color: #008080; font-weight: bold\">0.049281</span>     <span style=\"color: #7f7f7f; text-decoration-color: #7f7f7f\">                   </span>\n",
       "<span style=\"color: #7fbfbf; text-decoration-color: #7fbfbf\">           </span>         yahpo/mo/rbv2_ranger/<span style=\"color: #008080; text-decoration-color: #008080; font-weight: bold\">6</span>/<span style=\"color: #800080; text-decoration-color: #800080; font-style: italic\">None</span>           <span style=\"color: #008080; text-decoration-color: #008080; font-weight: bold\">0.110805</span>        NaN      <span style=\"color: #008080; text-decoration-color: #008080; font-weight: bold\">0.017989</span>     <span style=\"color: #7f7f7f; text-decoration-color: #7f7f7f\">                   </span>\n",
       "<span style=\"color: #7fbfbf; text-decoration-color: #7fbfbf\">           </span>         yahpo/mo/rbv2_super/<span style=\"color: #008080; text-decoration-color: #008080; font-weight: bold\">1053</span>/<span style=\"color: #800080; text-decoration-color: #800080; font-style: italic\">None</span>              NaN        NaN      <span style=\"color: #008080; text-decoration-color: #008080; font-weight: bold\">0.005830</span>     <span style=\"color: #7f7f7f; text-decoration-color: #7f7f7f\">                   </span>\n",
       "<span style=\"color: #7fbfbf; text-decoration-color: #7fbfbf\">           </span>         yahpo/mo/rbv2_super/<span style=\"color: #008080; text-decoration-color: #008080; font-weight: bold\">1457</span>/<span style=\"color: #800080; text-decoration-color: #800080; font-style: italic\">None</span>              NaN        NaN      <span style=\"color: #008080; text-decoration-color: #008080; font-weight: bold\">0.000074</span>     <span style=\"color: #7f7f7f; text-decoration-color: #7f7f7f\">                   </span>\n",
       "<span style=\"color: #7fbfbf; text-decoration-color: #7fbfbf\">           </span>         yahpo/mo/rbv2_super/<span style=\"color: #008080; text-decoration-color: #008080; font-weight: bold\">6</span>/<span style=\"color: #800080; text-decoration-color: #800080; font-style: italic\">None</span>                 NaN        NaN      <span style=\"color: #008080; text-decoration-color: #008080; font-weight: bold\">0.000088</span>     <span style=\"color: #7f7f7f; text-decoration-color: #7f7f7f\">                   </span>\n",
       "<span style=\"color: #7fbfbf; text-decoration-color: #7fbfbf\">           </span>         yahpo/mo/rbv2_xgboost/<span style=\"color: #008080; text-decoration-color: #008080; font-weight: bold\">12</span>/<span style=\"color: #800080; text-decoration-color: #800080; font-style: italic\">None</span>         <span style=\"color: #008080; text-decoration-color: #008080; font-weight: bold\">0.040141</span>        NaN      <span style=\"color: #008080; text-decoration-color: #008080; font-weight: bold\">0.000009</span>     <span style=\"color: #7f7f7f; text-decoration-color: #7f7f7f\">                   </span>\n",
       "<span style=\"color: #7fbfbf; text-decoration-color: #7fbfbf\">           </span>         yahpo/mo/rbv2_xgboost/<span style=\"color: #008080; text-decoration-color: #008080; font-weight: bold\">182</span>/<span style=\"color: #800080; text-decoration-color: #800080; font-style: italic\">None</span>        <span style=\"color: #008080; text-decoration-color: #008080; font-weight: bold\">0.010498</span>        NaN      <span style=\"color: #008080; text-decoration-color: #008080; font-weight: bold\">0.000003</span>     <span style=\"color: #7f7f7f; text-decoration-color: #7f7f7f\">                   </span>\n",
       "<span style=\"color: #7fbfbf; text-decoration-color: #7fbfbf\">           </span>         yahpo/mo/rbv2_xgboost/<span style=\"color: #008080; text-decoration-color: #008080; font-weight: bold\">28</span>/<span style=\"color: #800080; text-decoration-color: #800080; font-style: italic\">None</span>         <span style=\"color: #008080; text-decoration-color: #008080; font-weight: bold\">0.007840</span>        NaN      <span style=\"color: #008080; text-decoration-color: #008080; font-weight: bold\">0.000001</span>     <span style=\"color: #7f7f7f; text-decoration-color: #7f7f7f\">                   </span>\n",
       "</pre>\n"
      ],
      "text/plain": [
       "\u001b[2;36m[19:02:49]\u001b[0m\u001b[2;36m \u001b[0m\u001b[34mINFO    \u001b[0m Lost following experiments: optimizer_id                      Nevergrad-DE  \u001b]8;id=74479;file:///home/numina/Documents/repos/CARP-S-Experiments/lib/CARP-S/carps/analysis/run_autorank.py\u001b\\\u001b[2mrun_autorank.py\u001b[0m\u001b]8;;\u001b\\\u001b[2m:\u001b[0m\u001b]8;id=381111;file:///home/numina/Documents/repos/CARP-S-Experiments/lib/CARP-S/carps/analysis/run_autorank.py#113\u001b\\\u001b[2m113\u001b[0m\u001b]8;;\u001b\\\n",
       "\u001b[2;36m           \u001b[0m         Optuna-MO  RandomSearch                                                     \u001b[2m                   \u001b[0m\n",
       "\u001b[2;36m           \u001b[0m         problem_id                                                                  \u001b[2m                   \u001b[0m\n",
       "\u001b[2;36m           \u001b[0m         yahpo/mo/iaml_super/\u001b[1;36m1067\u001b[0m/\u001b[3;35mNone\u001b[0m              NaN        NaN      \u001b[1;36m0.000075\u001b[0m     \u001b[2m                   \u001b[0m\n",
       "\u001b[2;36m           \u001b[0m         yahpo/mo/iaml_super/\u001b[1;36m1489\u001b[0m/\u001b[3;35mNone\u001b[0m              NaN        NaN      \u001b[1;36m0.000240\u001b[0m     \u001b[2m                   \u001b[0m\n",
       "\u001b[2;36m           \u001b[0m         yahpo/mo/iaml_xgboost/\u001b[1;36m1489\u001b[0m/\u001b[3;35mNone\u001b[0m       \u001b[1;36m0.203513\u001b[0m        NaN      \u001b[1;36m0.000394\u001b[0m     \u001b[2m                   \u001b[0m\n",
       "\u001b[2;36m           \u001b[0m         yahpo/mo/iaml_xgboost/\u001b[1;36m40981\u001b[0m/\u001b[3;35mNone\u001b[0m      \u001b[1;36m0.201979\u001b[0m        NaN      \u001b[1;36m0.001476\u001b[0m     \u001b[2m                   \u001b[0m\n",
       "\u001b[2;36m           \u001b[0m         yahpo/mo/rbv2_ranger/\u001b[1;36m375\u001b[0m/\u001b[3;35mNone\u001b[0m         \u001b[1;36m0.218806\u001b[0m        NaN      \u001b[1;36m0.049281\u001b[0m     \u001b[2m                   \u001b[0m\n",
       "\u001b[2;36m           \u001b[0m         yahpo/mo/rbv2_ranger/\u001b[1;36m6\u001b[0m/\u001b[3;35mNone\u001b[0m           \u001b[1;36m0.110805\u001b[0m        NaN      \u001b[1;36m0.017989\u001b[0m     \u001b[2m                   \u001b[0m\n",
       "\u001b[2;36m           \u001b[0m         yahpo/mo/rbv2_super/\u001b[1;36m1053\u001b[0m/\u001b[3;35mNone\u001b[0m              NaN        NaN      \u001b[1;36m0.005830\u001b[0m     \u001b[2m                   \u001b[0m\n",
       "\u001b[2;36m           \u001b[0m         yahpo/mo/rbv2_super/\u001b[1;36m1457\u001b[0m/\u001b[3;35mNone\u001b[0m              NaN        NaN      \u001b[1;36m0.000074\u001b[0m     \u001b[2m                   \u001b[0m\n",
       "\u001b[2;36m           \u001b[0m         yahpo/mo/rbv2_super/\u001b[1;36m6\u001b[0m/\u001b[3;35mNone\u001b[0m                 NaN        NaN      \u001b[1;36m0.000088\u001b[0m     \u001b[2m                   \u001b[0m\n",
       "\u001b[2;36m           \u001b[0m         yahpo/mo/rbv2_xgboost/\u001b[1;36m12\u001b[0m/\u001b[3;35mNone\u001b[0m         \u001b[1;36m0.040141\u001b[0m        NaN      \u001b[1;36m0.000009\u001b[0m     \u001b[2m                   \u001b[0m\n",
       "\u001b[2;36m           \u001b[0m         yahpo/mo/rbv2_xgboost/\u001b[1;36m182\u001b[0m/\u001b[3;35mNone\u001b[0m        \u001b[1;36m0.010498\u001b[0m        NaN      \u001b[1;36m0.000003\u001b[0m     \u001b[2m                   \u001b[0m\n",
       "\u001b[2;36m           \u001b[0m         yahpo/mo/rbv2_xgboost/\u001b[1;36m28\u001b[0m/\u001b[3;35mNone\u001b[0m         \u001b[1;36m0.007840\u001b[0m        NaN      \u001b[1;36m0.000001\u001b[0m     \u001b[2m                   \u001b[0m\n"
      ]
     },
     "metadata": {},
     "output_type": "display_data"
    },
    {
     "name": "stdout",
     "output_type": "stream",
     "text": [
      "Rejecting null hypothesis that data is normal for column Nevergrad-DE (p=0.000000<0.016667)\n",
      "Rejecting null hypothesis that data is normal for column Optuna-MO (p=0.000000<0.016667)\n",
      "Rejecting null hypothesis that data is normal for column RandomSearch (p=0.000000<0.016667)\n",
      "Using Friedman test as omnibus test\n",
      "Rejecting null hypothesis that there is no difference between the distributions (p=0.000142)\n",
      "Using Nemenyi post-hoc test. Differences are significant,if the distance between the mean ranks is greater than the critical distance.\n",
      "              meanrank    median       mad  ci_lower  ci_upper effect_size  \\\n",
      "Nevergrad-DE    1.6500  0.009013  0.008954  0.002486  0.046377         0.0   \n",
      "Optuna-MO       2.0375  0.009641  0.009613  0.003648  0.052571   -0.045585   \n",
      "RandomSearch    2.3125  0.011237  0.010943  0.005519  0.060899    -0.15001   \n",
      "\n",
      "               magnitude  \n",
      "Nevergrad-DE  negligible  \n",
      "Optuna-MO     negligible  \n",
      "RandomSearch  negligible  \n"
     ]
    },
    {
     "name": "stderr",
     "output_type": "stream",
     "text": [
      "/home/numina/micromamba/envs/carpsexp/lib/python3.11/site-packages/autorank/_util.py:432: FutureWarning: Series.__getitem__ treating keys as positions is deprecated. In a future version, integer keys will always be treated as labels (consistent with DataFrame behavior). To access a value by position, use `ser.iloc[pos]`\n",
      "  if abs(sorted_ranks[i] - sorted_ranks[j]) <= critical_difference:\n"
     ]
    },
    {
     "data": {
      "text/html": [
       "<pre style=\"white-space:pre;overflow-x:auto;line-height:normal;font-family:Menlo,'DejaVu Sans Mono',consolas,'Courier New',monospace\"><span style=\"color: #7fbfbf; text-decoration-color: #7fbfbf\">[19:02:50] </span><span style=\"color: #000080; text-decoration-color: #000080\">INFO    </span> Lost following experiments: optimizer_id                     Nevergrad-DE   <a href=\"file:///home/numina/Documents/repos/CARP-S-Experiments/lib/CARP-S/carps/analysis/run_autorank.py\" target=\"_blank\"><span style=\"color: #7f7f7f; text-decoration-color: #7f7f7f\">run_autorank.py</span></a><span style=\"color: #7f7f7f; text-decoration-color: #7f7f7f\">:</span><a href=\"file:///home/numina/Documents/repos/CARP-S-Experiments/lib/CARP-S/carps/analysis/run_autorank.py#113\" target=\"_blank\"><span style=\"color: #7f7f7f; text-decoration-color: #7f7f7f\">113</span></a>\n",
       "<span style=\"color: #7fbfbf; text-decoration-color: #7fbfbf\">           </span>         Optuna-MO  RandomSearch                                                     <span style=\"color: #7f7f7f; text-decoration-color: #7f7f7f\">                   </span>\n",
       "<span style=\"color: #7fbfbf; text-decoration-color: #7fbfbf\">           </span>         problem_id                                                                  <span style=\"color: #7f7f7f; text-decoration-color: #7f7f7f\">                   </span>\n",
       "<span style=\"color: #7fbfbf; text-decoration-color: #7fbfbf\">           </span>         yahpo/mo/iaml_ranger/<span style=\"color: #008080; text-decoration-color: #008080; font-weight: bold\">1067</span>/<span style=\"color: #800080; text-decoration-color: #800080; font-style: italic\">None</span>       <span style=\"color: #008080; text-decoration-color: #008080; font-weight: bold\">0.336826</span>        NaN      <span style=\"color: #008080; text-decoration-color: #008080; font-weight: bold\">0.217303</span>      <span style=\"color: #7f7f7f; text-decoration-color: #7f7f7f\">                   </span>\n",
       "<span style=\"color: #7fbfbf; text-decoration-color: #7fbfbf\">           </span>         yahpo/mo/iaml_ranger/<span style=\"color: #008080; text-decoration-color: #008080; font-weight: bold\">1489</span>/<span style=\"color: #800080; text-decoration-color: #800080; font-style: italic\">None</span>       <span style=\"color: #008080; text-decoration-color: #008080; font-weight: bold\">0.174604</span>        NaN      <span style=\"color: #008080; text-decoration-color: #008080; font-weight: bold\">0.004866</span>      <span style=\"color: #7f7f7f; text-decoration-color: #7f7f7f\">                   </span>\n",
       "<span style=\"color: #7fbfbf; text-decoration-color: #7fbfbf\">           </span>         yahpo/mo/iaml_super/<span style=\"color: #008080; text-decoration-color: #008080; font-weight: bold\">1067</span>/<span style=\"color: #800080; text-decoration-color: #800080; font-style: italic\">None</span>             NaN        NaN      <span style=\"color: #008080; text-decoration-color: #008080; font-weight: bold\">0.000075</span>      <span style=\"color: #7f7f7f; text-decoration-color: #7f7f7f\">                   </span>\n",
       "<span style=\"color: #7fbfbf; text-decoration-color: #7fbfbf\">           </span>         yahpo/mo/iaml_xgboost/<span style=\"color: #008080; text-decoration-color: #008080; font-weight: bold\">1489</span>/<span style=\"color: #800080; text-decoration-color: #800080; font-style: italic\">None</span>      <span style=\"color: #008080; text-decoration-color: #008080; font-weight: bold\">0.203513</span>        NaN      <span style=\"color: #008080; text-decoration-color: #008080; font-weight: bold\">0.000394</span>      <span style=\"color: #7f7f7f; text-decoration-color: #7f7f7f\">                   </span>\n",
       "<span style=\"color: #7fbfbf; text-decoration-color: #7fbfbf\">           </span>         yahpo/mo/rbv2_ranger/<span style=\"color: #008080; text-decoration-color: #008080; font-weight: bold\">375</span>/<span style=\"color: #800080; text-decoration-color: #800080; font-style: italic\">None</span>        <span style=\"color: #008080; text-decoration-color: #008080; font-weight: bold\">0.218806</span>        NaN      <span style=\"color: #008080; text-decoration-color: #008080; font-weight: bold\">0.049281</span>      <span style=\"color: #7f7f7f; text-decoration-color: #7f7f7f\">                   </span>\n",
       "<span style=\"color: #7fbfbf; text-decoration-color: #7fbfbf\">           </span>         yahpo/mo/rbv2_ranger/<span style=\"color: #008080; text-decoration-color: #008080; font-weight: bold\">40979</span>/<span style=\"color: #800080; text-decoration-color: #800080; font-style: italic\">None</span>      <span style=\"color: #008080; text-decoration-color: #008080; font-weight: bold\">0.197883</span>        NaN      <span style=\"color: #008080; text-decoration-color: #008080; font-weight: bold\">0.067001</span>      <span style=\"color: #7f7f7f; text-decoration-color: #7f7f7f\">                   </span>\n",
       "<span style=\"color: #7fbfbf; text-decoration-color: #7fbfbf\">           </span>         yahpo/mo/rbv2_ranger/<span style=\"color: #008080; text-decoration-color: #008080; font-weight: bold\">6</span>/<span style=\"color: #800080; text-decoration-color: #800080; font-style: italic\">None</span>          <span style=\"color: #008080; text-decoration-color: #008080; font-weight: bold\">0.110805</span>        NaN      <span style=\"color: #008080; text-decoration-color: #008080; font-weight: bold\">0.017989</span>      <span style=\"color: #7f7f7f; text-decoration-color: #7f7f7f\">                   </span>\n",
       "<span style=\"color: #7fbfbf; text-decoration-color: #7fbfbf\">           </span>         yahpo/mo/rbv2_super/<span style=\"color: #008080; text-decoration-color: #008080; font-weight: bold\">1457</span>/<span style=\"color: #800080; text-decoration-color: #800080; font-style: italic\">None</span>             NaN        NaN      <span style=\"color: #008080; text-decoration-color: #008080; font-weight: bold\">0.000074</span>      <span style=\"color: #7f7f7f; text-decoration-color: #7f7f7f\">                   </span>\n",
       "<span style=\"color: #7fbfbf; text-decoration-color: #7fbfbf\">           </span>         yahpo/mo/rbv2_super/<span style=\"color: #008080; text-decoration-color: #008080; font-weight: bold\">6</span>/<span style=\"color: #800080; text-decoration-color: #800080; font-style: italic\">None</span>                NaN        NaN      <span style=\"color: #008080; text-decoration-color: #008080; font-weight: bold\">0.000088</span>      <span style=\"color: #7f7f7f; text-decoration-color: #7f7f7f\">                   </span>\n",
       "<span style=\"color: #7fbfbf; text-decoration-color: #7fbfbf\">           </span>         yahpo/mo/rbv2_xgboost/<span style=\"color: #008080; text-decoration-color: #008080; font-weight: bold\">182</span>/<span style=\"color: #800080; text-decoration-color: #800080; font-style: italic\">None</span>       <span style=\"color: #008080; text-decoration-color: #008080; font-weight: bold\">0.010498</span>        NaN      <span style=\"color: #008080; text-decoration-color: #008080; font-weight: bold\">0.000003</span>      <span style=\"color: #7f7f7f; text-decoration-color: #7f7f7f\">                   </span>\n",
       "<span style=\"color: #7fbfbf; text-decoration-color: #7fbfbf\">           </span>         yahpo/mo/rbv2_xgboost/<span style=\"color: #008080; text-decoration-color: #008080; font-weight: bold\">28</span>/<span style=\"color: #800080; text-decoration-color: #800080; font-style: italic\">None</span>        <span style=\"color: #008080; text-decoration-color: #008080; font-weight: bold\">0.007840</span>        NaN      <span style=\"color: #008080; text-decoration-color: #008080; font-weight: bold\">0.000001</span>      <span style=\"color: #7f7f7f; text-decoration-color: #7f7f7f\">                   </span>\n",
       "</pre>\n"
      ],
      "text/plain": [
       "\u001b[2;36m[19:02:50]\u001b[0m\u001b[2;36m \u001b[0m\u001b[34mINFO    \u001b[0m Lost following experiments: optimizer_id                     Nevergrad-DE   \u001b]8;id=394243;file:///home/numina/Documents/repos/CARP-S-Experiments/lib/CARP-S/carps/analysis/run_autorank.py\u001b\\\u001b[2mrun_autorank.py\u001b[0m\u001b]8;;\u001b\\\u001b[2m:\u001b[0m\u001b]8;id=462036;file:///home/numina/Documents/repos/CARP-S-Experiments/lib/CARP-S/carps/analysis/run_autorank.py#113\u001b\\\u001b[2m113\u001b[0m\u001b]8;;\u001b\\\n",
       "\u001b[2;36m           \u001b[0m         Optuna-MO  RandomSearch                                                     \u001b[2m                   \u001b[0m\n",
       "\u001b[2;36m           \u001b[0m         problem_id                                                                  \u001b[2m                   \u001b[0m\n",
       "\u001b[2;36m           \u001b[0m         yahpo/mo/iaml_ranger/\u001b[1;36m1067\u001b[0m/\u001b[3;35mNone\u001b[0m       \u001b[1;36m0.336826\u001b[0m        NaN      \u001b[1;36m0.217303\u001b[0m      \u001b[2m                   \u001b[0m\n",
       "\u001b[2;36m           \u001b[0m         yahpo/mo/iaml_ranger/\u001b[1;36m1489\u001b[0m/\u001b[3;35mNone\u001b[0m       \u001b[1;36m0.174604\u001b[0m        NaN      \u001b[1;36m0.004866\u001b[0m      \u001b[2m                   \u001b[0m\n",
       "\u001b[2;36m           \u001b[0m         yahpo/mo/iaml_super/\u001b[1;36m1067\u001b[0m/\u001b[3;35mNone\u001b[0m             NaN        NaN      \u001b[1;36m0.000075\u001b[0m      \u001b[2m                   \u001b[0m\n",
       "\u001b[2;36m           \u001b[0m         yahpo/mo/iaml_xgboost/\u001b[1;36m1489\u001b[0m/\u001b[3;35mNone\u001b[0m      \u001b[1;36m0.203513\u001b[0m        NaN      \u001b[1;36m0.000394\u001b[0m      \u001b[2m                   \u001b[0m\n",
       "\u001b[2;36m           \u001b[0m         yahpo/mo/rbv2_ranger/\u001b[1;36m375\u001b[0m/\u001b[3;35mNone\u001b[0m        \u001b[1;36m0.218806\u001b[0m        NaN      \u001b[1;36m0.049281\u001b[0m      \u001b[2m                   \u001b[0m\n",
       "\u001b[2;36m           \u001b[0m         yahpo/mo/rbv2_ranger/\u001b[1;36m40979\u001b[0m/\u001b[3;35mNone\u001b[0m      \u001b[1;36m0.197883\u001b[0m        NaN      \u001b[1;36m0.067001\u001b[0m      \u001b[2m                   \u001b[0m\n",
       "\u001b[2;36m           \u001b[0m         yahpo/mo/rbv2_ranger/\u001b[1;36m6\u001b[0m/\u001b[3;35mNone\u001b[0m          \u001b[1;36m0.110805\u001b[0m        NaN      \u001b[1;36m0.017989\u001b[0m      \u001b[2m                   \u001b[0m\n",
       "\u001b[2;36m           \u001b[0m         yahpo/mo/rbv2_super/\u001b[1;36m1457\u001b[0m/\u001b[3;35mNone\u001b[0m             NaN        NaN      \u001b[1;36m0.000074\u001b[0m      \u001b[2m                   \u001b[0m\n",
       "\u001b[2;36m           \u001b[0m         yahpo/mo/rbv2_super/\u001b[1;36m6\u001b[0m/\u001b[3;35mNone\u001b[0m                NaN        NaN      \u001b[1;36m0.000088\u001b[0m      \u001b[2m                   \u001b[0m\n",
       "\u001b[2;36m           \u001b[0m         yahpo/mo/rbv2_xgboost/\u001b[1;36m182\u001b[0m/\u001b[3;35mNone\u001b[0m       \u001b[1;36m0.010498\u001b[0m        NaN      \u001b[1;36m0.000003\u001b[0m      \u001b[2m                   \u001b[0m\n",
       "\u001b[2;36m           \u001b[0m         yahpo/mo/rbv2_xgboost/\u001b[1;36m28\u001b[0m/\u001b[3;35mNone\u001b[0m        \u001b[1;36m0.007840\u001b[0m        NaN      \u001b[1;36m0.000001\u001b[0m      \u001b[2m                   \u001b[0m\n"
      ]
     },
     "metadata": {},
     "output_type": "display_data"
    },
    {
     "name": "stdout",
     "output_type": "stream",
     "text": [
      "Rejecting null hypothesis that data is normal for column Nevergrad-DE (p=0.000000<0.016667)\n",
      "Rejecting null hypothesis that data is normal for column Optuna-MO (p=0.000000<0.016667)\n",
      "Rejecting null hypothesis that data is normal for column RandomSearch (p=0.000000<0.016667)\n",
      "Using Friedman test as omnibus test\n",
      "Rejecting null hypothesis that there is no difference between the distributions (p=0.002854)\n",
      "Using Nemenyi post-hoc test. Differences are significant,if the distance between the mean ranks is greater than the critical distance.\n",
      "              meanrank    median       mad  ci_lower  ci_upper effect_size  \\\n",
      "Nevergrad-DE  1.692308  0.009044  0.009017   0.00182  0.062983         0.0   \n",
      "Optuna-MO     2.089744  0.009739   0.00972  0.003011  0.053638    -0.05002   \n",
      "RandomSearch  2.217949  0.011237  0.011199  0.004708  0.068263   -0.145452   \n",
      "\n",
      "               magnitude  \n",
      "Nevergrad-DE  negligible  \n",
      "Optuna-MO     negligible  \n",
      "RandomSearch  negligible  \n"
     ]
    },
    {
     "name": "stderr",
     "output_type": "stream",
     "text": [
      "/home/numina/micromamba/envs/carpsexp/lib/python3.11/site-packages/autorank/_util.py:432: FutureWarning: Series.__getitem__ treating keys as positions is deprecated. In a future version, integer keys will always be treated as labels (consistent with DataFrame behavior). To access a value by position, use `ser.iloc[pos]`\n",
      "  if abs(sorted_ranks[i] - sorted_ranks[j]) <= critical_difference:\n"
     ]
    },
    {
     "data": {
      "text/html": [
       "<pre style=\"white-space:pre;overflow-x:auto;line-height:normal;font-family:Menlo,'DejaVu Sans Mono',consolas,'Courier New',monospace\"><span style=\"color: #7fbfbf; text-decoration-color: #7fbfbf\">[19:02:51] </span><span style=\"color: #000080; text-decoration-color: #000080\">INFO    </span> Lost following experiments: optimizer_id                      Nevergrad-DE  <a href=\"file:///home/numina/Documents/repos/CARP-S-Experiments/lib/CARP-S/carps/analysis/run_autorank.py\" target=\"_blank\"><span style=\"color: #7f7f7f; text-decoration-color: #7f7f7f\">run_autorank.py</span></a><span style=\"color: #7f7f7f; text-decoration-color: #7f7f7f\">:</span><a href=\"file:///home/numina/Documents/repos/CARP-S-Experiments/lib/CARP-S/carps/analysis/run_autorank.py#113\" target=\"_blank\"><span style=\"color: #7f7f7f; text-decoration-color: #7f7f7f\">113</span></a>\n",
       "<span style=\"color: #7fbfbf; text-decoration-color: #7fbfbf\">           </span>         Optuna-MO  RandomSearch                                                     <span style=\"color: #7f7f7f; text-decoration-color: #7f7f7f\">                   </span>\n",
       "<span style=\"color: #7fbfbf; text-decoration-color: #7fbfbf\">           </span>         problem_id                                                                  <span style=\"color: #7f7f7f; text-decoration-color: #7f7f7f\">                   </span>\n",
       "<span style=\"color: #7fbfbf; text-decoration-color: #7fbfbf\">           </span>         yahpo/mo/iaml_ranger/<span style=\"color: #008080; text-decoration-color: #008080; font-weight: bold\">1489</span>/<span style=\"color: #800080; text-decoration-color: #800080; font-style: italic\">None</span>        <span style=\"color: #008080; text-decoration-color: #008080; font-weight: bold\">0.174604</span>        NaN      <span style=\"color: #008080; text-decoration-color: #008080; font-weight: bold\">0.004866</span>     <span style=\"color: #7f7f7f; text-decoration-color: #7f7f7f\">                   </span>\n",
       "<span style=\"color: #7fbfbf; text-decoration-color: #7fbfbf\">           </span>         yahpo/mo/iaml_super/<span style=\"color: #008080; text-decoration-color: #008080; font-weight: bold\">1067</span>/<span style=\"color: #800080; text-decoration-color: #800080; font-style: italic\">None</span>              NaN        NaN      <span style=\"color: #008080; text-decoration-color: #008080; font-weight: bold\">0.000075</span>     <span style=\"color: #7f7f7f; text-decoration-color: #7f7f7f\">                   </span>\n",
       "<span style=\"color: #7fbfbf; text-decoration-color: #7fbfbf\">           </span>         yahpo/mo/iaml_super/<span style=\"color: #008080; text-decoration-color: #008080; font-weight: bold\">1489</span>/<span style=\"color: #800080; text-decoration-color: #800080; font-style: italic\">None</span>              NaN        NaN      <span style=\"color: #008080; text-decoration-color: #008080; font-weight: bold\">0.000240</span>     <span style=\"color: #7f7f7f; text-decoration-color: #7f7f7f\">                   </span>\n",
       "<span style=\"color: #7fbfbf; text-decoration-color: #7fbfbf\">           </span>         yahpo/mo/iaml_xgboost/<span style=\"color: #008080; text-decoration-color: #008080; font-weight: bold\">1489</span>/<span style=\"color: #800080; text-decoration-color: #800080; font-style: italic\">None</span>       <span style=\"color: #008080; text-decoration-color: #008080; font-weight: bold\">0.203513</span>        NaN      <span style=\"color: #008080; text-decoration-color: #008080; font-weight: bold\">0.000394</span>     <span style=\"color: #7f7f7f; text-decoration-color: #7f7f7f\">                   </span>\n",
       "<span style=\"color: #7fbfbf; text-decoration-color: #7fbfbf\">           </span>         yahpo/mo/iaml_xgboost/<span style=\"color: #008080; text-decoration-color: #008080; font-weight: bold\">40981</span>/<span style=\"color: #800080; text-decoration-color: #800080; font-style: italic\">None</span>      <span style=\"color: #008080; text-decoration-color: #008080; font-weight: bold\">0.201979</span>        NaN      <span style=\"color: #008080; text-decoration-color: #008080; font-weight: bold\">0.001476</span>     <span style=\"color: #7f7f7f; text-decoration-color: #7f7f7f\">                   </span>\n",
       "<span style=\"color: #7fbfbf; text-decoration-color: #7fbfbf\">           </span>         yahpo/mo/rbv2_super/<span style=\"color: #008080; text-decoration-color: #008080; font-weight: bold\">1053</span>/<span style=\"color: #800080; text-decoration-color: #800080; font-style: italic\">None</span>              NaN        NaN      <span style=\"color: #008080; text-decoration-color: #008080; font-weight: bold\">0.005830</span>     <span style=\"color: #7f7f7f; text-decoration-color: #7f7f7f\">                   </span>\n",
       "<span style=\"color: #7fbfbf; text-decoration-color: #7fbfbf\">           </span>         yahpo/mo/rbv2_super/<span style=\"color: #008080; text-decoration-color: #008080; font-weight: bold\">6</span>/<span style=\"color: #800080; text-decoration-color: #800080; font-style: italic\">None</span>                 NaN        NaN      <span style=\"color: #008080; text-decoration-color: #008080; font-weight: bold\">0.000088</span>     <span style=\"color: #7f7f7f; text-decoration-color: #7f7f7f\">                   </span>\n",
       "<span style=\"color: #7fbfbf; text-decoration-color: #7fbfbf\">           </span>         yahpo/mo/rbv2_xgboost/<span style=\"color: #008080; text-decoration-color: #008080; font-weight: bold\">12</span>/<span style=\"color: #800080; text-decoration-color: #800080; font-style: italic\">None</span>         <span style=\"color: #008080; text-decoration-color: #008080; font-weight: bold\">0.040141</span>        NaN      <span style=\"color: #008080; text-decoration-color: #008080; font-weight: bold\">0.000009</span>     <span style=\"color: #7f7f7f; text-decoration-color: #7f7f7f\">                   </span>\n",
       "<span style=\"color: #7fbfbf; text-decoration-color: #7fbfbf\">           </span>         yahpo/mo/rbv2_xgboost/<span style=\"color: #008080; text-decoration-color: #008080; font-weight: bold\">182</span>/<span style=\"color: #800080; text-decoration-color: #800080; font-style: italic\">None</span>        <span style=\"color: #008080; text-decoration-color: #008080; font-weight: bold\">0.010498</span>        NaN      <span style=\"color: #008080; text-decoration-color: #008080; font-weight: bold\">0.000003</span>     <span style=\"color: #7f7f7f; text-decoration-color: #7f7f7f\">                   </span>\n",
       "<span style=\"color: #7fbfbf; text-decoration-color: #7fbfbf\">           </span>         yahpo/mo/rbv2_xgboost/<span style=\"color: #008080; text-decoration-color: #008080; font-weight: bold\">28</span>/<span style=\"color: #800080; text-decoration-color: #800080; font-style: italic\">None</span>         <span style=\"color: #008080; text-decoration-color: #008080; font-weight: bold\">0.007840</span>        NaN      <span style=\"color: #008080; text-decoration-color: #008080; font-weight: bold\">0.000001</span>     <span style=\"color: #7f7f7f; text-decoration-color: #7f7f7f\">                   </span>\n",
       "</pre>\n"
      ],
      "text/plain": [
       "\u001b[2;36m[19:02:51]\u001b[0m\u001b[2;36m \u001b[0m\u001b[34mINFO    \u001b[0m Lost following experiments: optimizer_id                      Nevergrad-DE  \u001b]8;id=763236;file:///home/numina/Documents/repos/CARP-S-Experiments/lib/CARP-S/carps/analysis/run_autorank.py\u001b\\\u001b[2mrun_autorank.py\u001b[0m\u001b]8;;\u001b\\\u001b[2m:\u001b[0m\u001b]8;id=374195;file:///home/numina/Documents/repos/CARP-S-Experiments/lib/CARP-S/carps/analysis/run_autorank.py#113\u001b\\\u001b[2m113\u001b[0m\u001b]8;;\u001b\\\n",
       "\u001b[2;36m           \u001b[0m         Optuna-MO  RandomSearch                                                     \u001b[2m                   \u001b[0m\n",
       "\u001b[2;36m           \u001b[0m         problem_id                                                                  \u001b[2m                   \u001b[0m\n",
       "\u001b[2;36m           \u001b[0m         yahpo/mo/iaml_ranger/\u001b[1;36m1489\u001b[0m/\u001b[3;35mNone\u001b[0m        \u001b[1;36m0.174604\u001b[0m        NaN      \u001b[1;36m0.004866\u001b[0m     \u001b[2m                   \u001b[0m\n",
       "\u001b[2;36m           \u001b[0m         yahpo/mo/iaml_super/\u001b[1;36m1067\u001b[0m/\u001b[3;35mNone\u001b[0m              NaN        NaN      \u001b[1;36m0.000075\u001b[0m     \u001b[2m                   \u001b[0m\n",
       "\u001b[2;36m           \u001b[0m         yahpo/mo/iaml_super/\u001b[1;36m1489\u001b[0m/\u001b[3;35mNone\u001b[0m              NaN        NaN      \u001b[1;36m0.000240\u001b[0m     \u001b[2m                   \u001b[0m\n",
       "\u001b[2;36m           \u001b[0m         yahpo/mo/iaml_xgboost/\u001b[1;36m1489\u001b[0m/\u001b[3;35mNone\u001b[0m       \u001b[1;36m0.203513\u001b[0m        NaN      \u001b[1;36m0.000394\u001b[0m     \u001b[2m                   \u001b[0m\n",
       "\u001b[2;36m           \u001b[0m         yahpo/mo/iaml_xgboost/\u001b[1;36m40981\u001b[0m/\u001b[3;35mNone\u001b[0m      \u001b[1;36m0.201979\u001b[0m        NaN      \u001b[1;36m0.001476\u001b[0m     \u001b[2m                   \u001b[0m\n",
       "\u001b[2;36m           \u001b[0m         yahpo/mo/rbv2_super/\u001b[1;36m1053\u001b[0m/\u001b[3;35mNone\u001b[0m              NaN        NaN      \u001b[1;36m0.005830\u001b[0m     \u001b[2m                   \u001b[0m\n",
       "\u001b[2;36m           \u001b[0m         yahpo/mo/rbv2_super/\u001b[1;36m6\u001b[0m/\u001b[3;35mNone\u001b[0m                 NaN        NaN      \u001b[1;36m0.000088\u001b[0m     \u001b[2m                   \u001b[0m\n",
       "\u001b[2;36m           \u001b[0m         yahpo/mo/rbv2_xgboost/\u001b[1;36m12\u001b[0m/\u001b[3;35mNone\u001b[0m         \u001b[1;36m0.040141\u001b[0m        NaN      \u001b[1;36m0.000009\u001b[0m     \u001b[2m                   \u001b[0m\n",
       "\u001b[2;36m           \u001b[0m         yahpo/mo/rbv2_xgboost/\u001b[1;36m182\u001b[0m/\u001b[3;35mNone\u001b[0m        \u001b[1;36m0.010498\u001b[0m        NaN      \u001b[1;36m0.000003\u001b[0m     \u001b[2m                   \u001b[0m\n",
       "\u001b[2;36m           \u001b[0m         yahpo/mo/rbv2_xgboost/\u001b[1;36m28\u001b[0m/\u001b[3;35mNone\u001b[0m         \u001b[1;36m0.007840\u001b[0m        NaN      \u001b[1;36m0.000001\u001b[0m     \u001b[2m                   \u001b[0m\n"
      ]
     },
     "metadata": {},
     "output_type": "display_data"
    },
    {
     "name": "stdout",
     "output_type": "stream",
     "text": [
      "Rejecting null hypothesis that data is normal for column Nevergrad-DE (p=0.000000<0.016667)\n",
      "Rejecting null hypothesis that data is normal for column Optuna-MO (p=0.000000<0.016667)\n",
      "Rejecting null hypothesis that data is normal for column RandomSearch (p=0.000000<0.016667)\n",
      "Using Friedman test as omnibus test\n",
      "Rejecting null hypothesis that there is no difference between the distributions (p=0.000005)\n",
      "Using Nemenyi post-hoc test. Differences are significant,if the distance between the mean ranks is greater than the critical distance.\n",
      "              meanrank    median       mad  ci_lower  ci_upper effect_size  \\\n",
      "Nevergrad-DE    1.6375  0.007535  0.007213  0.001258  0.034136         0.0   \n",
      "Optuna-MO       1.9500  0.009894  0.009829  0.003648  0.052571   -0.184561   \n",
      "RandomSearch    2.4125  0.011237  0.010881  0.005451  0.051639    -0.27049   \n",
      "\n",
      "               magnitude  \n",
      "Nevergrad-DE  negligible  \n",
      "Optuna-MO     negligible  \n",
      "RandomSearch       small  \n"
     ]
    },
    {
     "name": "stderr",
     "output_type": "stream",
     "text": [
      "/home/numina/micromamba/envs/carpsexp/lib/python3.11/site-packages/autorank/_util.py:432: FutureWarning: Series.__getitem__ treating keys as positions is deprecated. In a future version, integer keys will always be treated as labels (consistent with DataFrame behavior). To access a value by position, use `ser.iloc[pos]`\n",
      "  if abs(sorted_ranks[i] - sorted_ranks[j]) <= critical_difference:\n"
     ]
    },
    {
     "data": {
      "text/html": [
       "<pre style=\"white-space:pre;overflow-x:auto;line-height:normal;font-family:Menlo,'DejaVu Sans Mono',consolas,'Courier New',monospace\"><span style=\"color: #7fbfbf; text-decoration-color: #7fbfbf\">[19:02:52] </span><span style=\"color: #000080; text-decoration-color: #000080\">INFO    </span> Lost following experiments: optimizer_id                     Nevergrad-DE   <a href=\"file:///home/numina/Documents/repos/CARP-S-Experiments/lib/CARP-S/carps/analysis/run_autorank.py\" target=\"_blank\"><span style=\"color: #7f7f7f; text-decoration-color: #7f7f7f\">run_autorank.py</span></a><span style=\"color: #7f7f7f; text-decoration-color: #7f7f7f\">:</span><a href=\"file:///home/numina/Documents/repos/CARP-S-Experiments/lib/CARP-S/carps/analysis/run_autorank.py#113\" target=\"_blank\"><span style=\"color: #7f7f7f; text-decoration-color: #7f7f7f\">113</span></a>\n",
       "<span style=\"color: #7fbfbf; text-decoration-color: #7fbfbf\">           </span>         Optuna-MO  RandomSearch                                                     <span style=\"color: #7f7f7f; text-decoration-color: #7f7f7f\">                   </span>\n",
       "<span style=\"color: #7fbfbf; text-decoration-color: #7fbfbf\">           </span>         problem_id                                                                  <span style=\"color: #7f7f7f; text-decoration-color: #7f7f7f\">                   </span>\n",
       "<span style=\"color: #7fbfbf; text-decoration-color: #7fbfbf\">           </span>         yahpo/mo/iaml_ranger/<span style=\"color: #008080; text-decoration-color: #008080; font-weight: bold\">1067</span>/<span style=\"color: #800080; text-decoration-color: #800080; font-style: italic\">None</span>       <span style=\"color: #008080; text-decoration-color: #008080; font-weight: bold\">0.336826</span>        NaN      <span style=\"color: #008080; text-decoration-color: #008080; font-weight: bold\">0.217303</span>      <span style=\"color: #7f7f7f; text-decoration-color: #7f7f7f\">                   </span>\n",
       "<span style=\"color: #7fbfbf; text-decoration-color: #7fbfbf\">           </span>         yahpo/mo/iaml_ranger/<span style=\"color: #008080; text-decoration-color: #008080; font-weight: bold\">1489</span>/<span style=\"color: #800080; text-decoration-color: #800080; font-style: italic\">None</span>       <span style=\"color: #008080; text-decoration-color: #008080; font-weight: bold\">0.174604</span>        NaN      <span style=\"color: #008080; text-decoration-color: #008080; font-weight: bold\">0.004866</span>      <span style=\"color: #7f7f7f; text-decoration-color: #7f7f7f\">                   </span>\n",
       "<span style=\"color: #7fbfbf; text-decoration-color: #7fbfbf\">           </span>         yahpo/mo/iaml_super/<span style=\"color: #008080; text-decoration-color: #008080; font-weight: bold\">1067</span>/<span style=\"color: #800080; text-decoration-color: #800080; font-style: italic\">None</span>             NaN        NaN      <span style=\"color: #008080; text-decoration-color: #008080; font-weight: bold\">0.000075</span>      <span style=\"color: #7f7f7f; text-decoration-color: #7f7f7f\">                   </span>\n",
       "<span style=\"color: #7fbfbf; text-decoration-color: #7fbfbf\">           </span>         yahpo/mo/iaml_super/<span style=\"color: #008080; text-decoration-color: #008080; font-weight: bold\">1489</span>/<span style=\"color: #800080; text-decoration-color: #800080; font-style: italic\">None</span>             NaN        NaN      <span style=\"color: #008080; text-decoration-color: #008080; font-weight: bold\">0.000240</span>      <span style=\"color: #7f7f7f; text-decoration-color: #7f7f7f\">                   </span>\n",
       "<span style=\"color: #7fbfbf; text-decoration-color: #7fbfbf\">           </span>         yahpo/mo/iaml_xgboost/<span style=\"color: #008080; text-decoration-color: #008080; font-weight: bold\">1489</span>/<span style=\"color: #800080; text-decoration-color: #800080; font-style: italic\">None</span>      <span style=\"color: #008080; text-decoration-color: #008080; font-weight: bold\">0.203513</span>        NaN      <span style=\"color: #008080; text-decoration-color: #008080; font-weight: bold\">0.000394</span>      <span style=\"color: #7f7f7f; text-decoration-color: #7f7f7f\">                   </span>\n",
       "<span style=\"color: #7fbfbf; text-decoration-color: #7fbfbf\">           </span>         yahpo/mo/rbv2_ranger/<span style=\"color: #008080; text-decoration-color: #008080; font-weight: bold\">40979</span>/<span style=\"color: #800080; text-decoration-color: #800080; font-style: italic\">None</span>      <span style=\"color: #008080; text-decoration-color: #008080; font-weight: bold\">0.197883</span>        NaN      <span style=\"color: #008080; text-decoration-color: #008080; font-weight: bold\">0.067001</span>      <span style=\"color: #7f7f7f; text-decoration-color: #7f7f7f\">                   </span>\n",
       "<span style=\"color: #7fbfbf; text-decoration-color: #7fbfbf\">           </span>         yahpo/mo/rbv2_super/<span style=\"color: #008080; text-decoration-color: #008080; font-weight: bold\">1053</span>/<span style=\"color: #800080; text-decoration-color: #800080; font-style: italic\">None</span>             NaN        NaN      <span style=\"color: #008080; text-decoration-color: #008080; font-weight: bold\">0.005830</span>      <span style=\"color: #7f7f7f; text-decoration-color: #7f7f7f\">                   </span>\n",
       "<span style=\"color: #7fbfbf; text-decoration-color: #7fbfbf\">           </span>         yahpo/mo/rbv2_super/<span style=\"color: #008080; text-decoration-color: #008080; font-weight: bold\">1457</span>/<span style=\"color: #800080; text-decoration-color: #800080; font-style: italic\">None</span>             NaN        NaN      <span style=\"color: #008080; text-decoration-color: #008080; font-weight: bold\">0.000074</span>      <span style=\"color: #7f7f7f; text-decoration-color: #7f7f7f\">                   </span>\n",
       "<span style=\"color: #7fbfbf; text-decoration-color: #7fbfbf\">           </span>         yahpo/mo/rbv2_super/<span style=\"color: #008080; text-decoration-color: #008080; font-weight: bold\">6</span>/<span style=\"color: #800080; text-decoration-color: #800080; font-style: italic\">None</span>                NaN        NaN      <span style=\"color: #008080; text-decoration-color: #008080; font-weight: bold\">0.000088</span>      <span style=\"color: #7f7f7f; text-decoration-color: #7f7f7f\">                   </span>\n",
       "<span style=\"color: #7fbfbf; text-decoration-color: #7fbfbf\">           </span>         yahpo/mo/rbv2_xgboost/<span style=\"color: #008080; text-decoration-color: #008080; font-weight: bold\">12</span>/<span style=\"color: #800080; text-decoration-color: #800080; font-style: italic\">None</span>        <span style=\"color: #008080; text-decoration-color: #008080; font-weight: bold\">0.040141</span>        NaN      <span style=\"color: #008080; text-decoration-color: #008080; font-weight: bold\">0.000009</span>      <span style=\"color: #7f7f7f; text-decoration-color: #7f7f7f\">                   </span>\n",
       "<span style=\"color: #7fbfbf; text-decoration-color: #7fbfbf\">           </span>         yahpo/mo/rbv2_xgboost/<span style=\"color: #008080; text-decoration-color: #008080; font-weight: bold\">182</span>/<span style=\"color: #800080; text-decoration-color: #800080; font-style: italic\">None</span>       <span style=\"color: #008080; text-decoration-color: #008080; font-weight: bold\">0.010498</span>        NaN      <span style=\"color: #008080; text-decoration-color: #008080; font-weight: bold\">0.000003</span>      <span style=\"color: #7f7f7f; text-decoration-color: #7f7f7f\">                   </span>\n",
       "<span style=\"color: #7fbfbf; text-decoration-color: #7fbfbf\">           </span>         yahpo/mo/rbv2_xgboost/<span style=\"color: #008080; text-decoration-color: #008080; font-weight: bold\">28</span>/<span style=\"color: #800080; text-decoration-color: #800080; font-style: italic\">None</span>        <span style=\"color: #008080; text-decoration-color: #008080; font-weight: bold\">0.007840</span>        NaN      <span style=\"color: #008080; text-decoration-color: #008080; font-weight: bold\">0.000001</span>      <span style=\"color: #7f7f7f; text-decoration-color: #7f7f7f\">                   </span>\n",
       "</pre>\n"
      ],
      "text/plain": [
       "\u001b[2;36m[19:02:52]\u001b[0m\u001b[2;36m \u001b[0m\u001b[34mINFO    \u001b[0m Lost following experiments: optimizer_id                     Nevergrad-DE   \u001b]8;id=221531;file:///home/numina/Documents/repos/CARP-S-Experiments/lib/CARP-S/carps/analysis/run_autorank.py\u001b\\\u001b[2mrun_autorank.py\u001b[0m\u001b]8;;\u001b\\\u001b[2m:\u001b[0m\u001b]8;id=198636;file:///home/numina/Documents/repos/CARP-S-Experiments/lib/CARP-S/carps/analysis/run_autorank.py#113\u001b\\\u001b[2m113\u001b[0m\u001b]8;;\u001b\\\n",
       "\u001b[2;36m           \u001b[0m         Optuna-MO  RandomSearch                                                     \u001b[2m                   \u001b[0m\n",
       "\u001b[2;36m           \u001b[0m         problem_id                                                                  \u001b[2m                   \u001b[0m\n",
       "\u001b[2;36m           \u001b[0m         yahpo/mo/iaml_ranger/\u001b[1;36m1067\u001b[0m/\u001b[3;35mNone\u001b[0m       \u001b[1;36m0.336826\u001b[0m        NaN      \u001b[1;36m0.217303\u001b[0m      \u001b[2m                   \u001b[0m\n",
       "\u001b[2;36m           \u001b[0m         yahpo/mo/iaml_ranger/\u001b[1;36m1489\u001b[0m/\u001b[3;35mNone\u001b[0m       \u001b[1;36m0.174604\u001b[0m        NaN      \u001b[1;36m0.004866\u001b[0m      \u001b[2m                   \u001b[0m\n",
       "\u001b[2;36m           \u001b[0m         yahpo/mo/iaml_super/\u001b[1;36m1067\u001b[0m/\u001b[3;35mNone\u001b[0m             NaN        NaN      \u001b[1;36m0.000075\u001b[0m      \u001b[2m                   \u001b[0m\n",
       "\u001b[2;36m           \u001b[0m         yahpo/mo/iaml_super/\u001b[1;36m1489\u001b[0m/\u001b[3;35mNone\u001b[0m             NaN        NaN      \u001b[1;36m0.000240\u001b[0m      \u001b[2m                   \u001b[0m\n",
       "\u001b[2;36m           \u001b[0m         yahpo/mo/iaml_xgboost/\u001b[1;36m1489\u001b[0m/\u001b[3;35mNone\u001b[0m      \u001b[1;36m0.203513\u001b[0m        NaN      \u001b[1;36m0.000394\u001b[0m      \u001b[2m                   \u001b[0m\n",
       "\u001b[2;36m           \u001b[0m         yahpo/mo/rbv2_ranger/\u001b[1;36m40979\u001b[0m/\u001b[3;35mNone\u001b[0m      \u001b[1;36m0.197883\u001b[0m        NaN      \u001b[1;36m0.067001\u001b[0m      \u001b[2m                   \u001b[0m\n",
       "\u001b[2;36m           \u001b[0m         yahpo/mo/rbv2_super/\u001b[1;36m1053\u001b[0m/\u001b[3;35mNone\u001b[0m             NaN        NaN      \u001b[1;36m0.005830\u001b[0m      \u001b[2m                   \u001b[0m\n",
       "\u001b[2;36m           \u001b[0m         yahpo/mo/rbv2_super/\u001b[1;36m1457\u001b[0m/\u001b[3;35mNone\u001b[0m             NaN        NaN      \u001b[1;36m0.000074\u001b[0m      \u001b[2m                   \u001b[0m\n",
       "\u001b[2;36m           \u001b[0m         yahpo/mo/rbv2_super/\u001b[1;36m6\u001b[0m/\u001b[3;35mNone\u001b[0m                NaN        NaN      \u001b[1;36m0.000088\u001b[0m      \u001b[2m                   \u001b[0m\n",
       "\u001b[2;36m           \u001b[0m         yahpo/mo/rbv2_xgboost/\u001b[1;36m12\u001b[0m/\u001b[3;35mNone\u001b[0m        \u001b[1;36m0.040141\u001b[0m        NaN      \u001b[1;36m0.000009\u001b[0m      \u001b[2m                   \u001b[0m\n",
       "\u001b[2;36m           \u001b[0m         yahpo/mo/rbv2_xgboost/\u001b[1;36m182\u001b[0m/\u001b[3;35mNone\u001b[0m       \u001b[1;36m0.010498\u001b[0m        NaN      \u001b[1;36m0.000003\u001b[0m      \u001b[2m                   \u001b[0m\n",
       "\u001b[2;36m           \u001b[0m         yahpo/mo/rbv2_xgboost/\u001b[1;36m28\u001b[0m/\u001b[3;35mNone\u001b[0m        \u001b[1;36m0.007840\u001b[0m        NaN      \u001b[1;36m0.000001\u001b[0m      \u001b[2m                   \u001b[0m\n"
      ]
     },
     "metadata": {},
     "output_type": "display_data"
    },
    {
     "name": "stdout",
     "output_type": "stream",
     "text": [
      "Rejecting null hypothesis that data is normal for column Nevergrad-DE (p=0.000000<0.016667)\n",
      "Rejecting null hypothesis that data is normal for column Optuna-MO (p=0.000000<0.016667)\n",
      "Rejecting null hypothesis that data is normal for column RandomSearch (p=0.000000<0.016667)\n",
      "Using Friedman test as omnibus test\n",
      "Rejecting null hypothesis that there is no difference between the distributions (p=0.000132)\n",
      "Using Nemenyi post-hoc test. Differences are significant,if the distance between the mean ranks is greater than the critical distance.\n",
      "              meanrank    median       mad  ci_lower  ci_upper effect_size  \\\n",
      "Nevergrad-DE  1.671053  0.007218  0.007159  0.000963  0.044524         0.0   \n",
      "Optuna-MO     1.973684  0.008584  0.008552  0.002491  0.053638   -0.116769   \n",
      "RandomSearch  2.355263  0.010489  0.010345  0.002461  0.060899   -0.247961   \n",
      "\n",
      "               magnitude  \n",
      "Nevergrad-DE  negligible  \n",
      "Optuna-MO     negligible  \n",
      "RandomSearch       small  \n"
     ]
    },
    {
     "name": "stderr",
     "output_type": "stream",
     "text": [
      "/home/numina/micromamba/envs/carpsexp/lib/python3.11/site-packages/autorank/_util.py:432: FutureWarning: Series.__getitem__ treating keys as positions is deprecated. In a future version, integer keys will always be treated as labels (consistent with DataFrame behavior). To access a value by position, use `ser.iloc[pos]`\n",
      "  if abs(sorted_ranks[i] - sorted_ranks[j]) <= critical_difference:\n"
     ]
    },
    {
     "data": {
      "text/html": [
       "<pre style=\"white-space:pre;overflow-x:auto;line-height:normal;font-family:Menlo,'DejaVu Sans Mono',consolas,'Courier New',monospace\"><span style=\"color: #7fbfbf; text-decoration-color: #7fbfbf\">[19:02:54] </span><span style=\"color: #000080; text-decoration-color: #000080\">INFO    </span> Lost following experiments: optimizer_id                      Nevergrad-DE  <a href=\"file:///home/numina/Documents/repos/CARP-S-Experiments/lib/CARP-S/carps/analysis/run_autorank.py\" target=\"_blank\"><span style=\"color: #7f7f7f; text-decoration-color: #7f7f7f\">run_autorank.py</span></a><span style=\"color: #7f7f7f; text-decoration-color: #7f7f7f\">:</span><a href=\"file:///home/numina/Documents/repos/CARP-S-Experiments/lib/CARP-S/carps/analysis/run_autorank.py#113\" target=\"_blank\"><span style=\"color: #7f7f7f; text-decoration-color: #7f7f7f\">113</span></a>\n",
       "<span style=\"color: #7fbfbf; text-decoration-color: #7fbfbf\">           </span>         Optuna-MO  RandomSearch                                                     <span style=\"color: #7f7f7f; text-decoration-color: #7f7f7f\">                   </span>\n",
       "<span style=\"color: #7fbfbf; text-decoration-color: #7fbfbf\">           </span>         problem_id                                                                  <span style=\"color: #7f7f7f; text-decoration-color: #7f7f7f\">                   </span>\n",
       "<span style=\"color: #7fbfbf; text-decoration-color: #7fbfbf\">           </span>         yahpo/mo/iaml_ranger/<span style=\"color: #008080; text-decoration-color: #008080; font-weight: bold\">1067</span>/<span style=\"color: #800080; text-decoration-color: #800080; font-style: italic\">None</span>        <span style=\"color: #008080; text-decoration-color: #008080; font-weight: bold\">0.336826</span>        NaN      <span style=\"color: #008080; text-decoration-color: #008080; font-weight: bold\">0.217303</span>     <span style=\"color: #7f7f7f; text-decoration-color: #7f7f7f\">                   </span>\n",
       "<span style=\"color: #7fbfbf; text-decoration-color: #7fbfbf\">           </span>         yahpo/mo/iaml_ranger/<span style=\"color: #008080; text-decoration-color: #008080; font-weight: bold\">1489</span>/<span style=\"color: #800080; text-decoration-color: #800080; font-style: italic\">None</span>        <span style=\"color: #008080; text-decoration-color: #008080; font-weight: bold\">0.174604</span>        NaN      <span style=\"color: #008080; text-decoration-color: #008080; font-weight: bold\">0.004866</span>     <span style=\"color: #7f7f7f; text-decoration-color: #7f7f7f\">                   </span>\n",
       "<span style=\"color: #7fbfbf; text-decoration-color: #7fbfbf\">           </span>         yahpo/mo/iaml_super/<span style=\"color: #008080; text-decoration-color: #008080; font-weight: bold\">1067</span>/<span style=\"color: #800080; text-decoration-color: #800080; font-style: italic\">None</span>              NaN        NaN      <span style=\"color: #008080; text-decoration-color: #008080; font-weight: bold\">0.000075</span>     <span style=\"color: #7f7f7f; text-decoration-color: #7f7f7f\">                   </span>\n",
       "<span style=\"color: #7fbfbf; text-decoration-color: #7fbfbf\">           </span>         yahpo/mo/iaml_super/<span style=\"color: #008080; text-decoration-color: #008080; font-weight: bold\">1489</span>/<span style=\"color: #800080; text-decoration-color: #800080; font-style: italic\">None</span>              NaN        NaN      <span style=\"color: #008080; text-decoration-color: #008080; font-weight: bold\">0.000240</span>     <span style=\"color: #7f7f7f; text-decoration-color: #7f7f7f\">                   </span>\n",
       "<span style=\"color: #7fbfbf; text-decoration-color: #7fbfbf\">           </span>         yahpo/mo/iaml_xgboost/<span style=\"color: #008080; text-decoration-color: #008080; font-weight: bold\">1489</span>/<span style=\"color: #800080; text-decoration-color: #800080; font-style: italic\">None</span>       <span style=\"color: #008080; text-decoration-color: #008080; font-weight: bold\">0.203513</span>        NaN      <span style=\"color: #008080; text-decoration-color: #008080; font-weight: bold\">0.000394</span>     <span style=\"color: #7f7f7f; text-decoration-color: #7f7f7f\">                   </span>\n",
       "<span style=\"color: #7fbfbf; text-decoration-color: #7fbfbf\">           </span>         yahpo/mo/iaml_xgboost/<span style=\"color: #008080; text-decoration-color: #008080; font-weight: bold\">40981</span>/<span style=\"color: #800080; text-decoration-color: #800080; font-style: italic\">None</span>      <span style=\"color: #008080; text-decoration-color: #008080; font-weight: bold\">0.201979</span>        NaN      <span style=\"color: #008080; text-decoration-color: #008080; font-weight: bold\">0.001476</span>     <span style=\"color: #7f7f7f; text-decoration-color: #7f7f7f\">                   </span>\n",
       "<span style=\"color: #7fbfbf; text-decoration-color: #7fbfbf\">           </span>         yahpo/mo/rbv2_ranger/<span style=\"color: #008080; text-decoration-color: #008080; font-weight: bold\">375</span>/<span style=\"color: #800080; text-decoration-color: #800080; font-style: italic\">None</span>         <span style=\"color: #008080; text-decoration-color: #008080; font-weight: bold\">0.218806</span>        NaN      <span style=\"color: #008080; text-decoration-color: #008080; font-weight: bold\">0.049281</span>     <span style=\"color: #7f7f7f; text-decoration-color: #7f7f7f\">                   </span>\n",
       "<span style=\"color: #7fbfbf; text-decoration-color: #7fbfbf\">           </span>         yahpo/mo/rbv2_ranger/<span style=\"color: #008080; text-decoration-color: #008080; font-weight: bold\">40979</span>/<span style=\"color: #800080; text-decoration-color: #800080; font-style: italic\">None</span>       <span style=\"color: #008080; text-decoration-color: #008080; font-weight: bold\">0.197883</span>        NaN      <span style=\"color: #008080; text-decoration-color: #008080; font-weight: bold\">0.067001</span>     <span style=\"color: #7f7f7f; text-decoration-color: #7f7f7f\">                   </span>\n",
       "<span style=\"color: #7fbfbf; text-decoration-color: #7fbfbf\">           </span>         yahpo/mo/rbv2_ranger/<span style=\"color: #008080; text-decoration-color: #008080; font-weight: bold\">6</span>/<span style=\"color: #800080; text-decoration-color: #800080; font-style: italic\">None</span>           <span style=\"color: #008080; text-decoration-color: #008080; font-weight: bold\">0.110805</span>        NaN      <span style=\"color: #008080; text-decoration-color: #008080; font-weight: bold\">0.017989</span>     <span style=\"color: #7f7f7f; text-decoration-color: #7f7f7f\">                   </span>\n",
       "<span style=\"color: #7fbfbf; text-decoration-color: #7fbfbf\">           </span>         yahpo/mo/rbv2_super/<span style=\"color: #008080; text-decoration-color: #008080; font-weight: bold\">1457</span>/<span style=\"color: #800080; text-decoration-color: #800080; font-style: italic\">None</span>              NaN        NaN      <span style=\"color: #008080; text-decoration-color: #008080; font-weight: bold\">0.000074</span>     <span style=\"color: #7f7f7f; text-decoration-color: #7f7f7f\">                   </span>\n",
       "<span style=\"color: #7fbfbf; text-decoration-color: #7fbfbf\">           </span>         yahpo/mo/rbv2_super/<span style=\"color: #008080; text-decoration-color: #008080; font-weight: bold\">6</span>/<span style=\"color: #800080; text-decoration-color: #800080; font-style: italic\">None</span>                 NaN        NaN      <span style=\"color: #008080; text-decoration-color: #008080; font-weight: bold\">0.000088</span>     <span style=\"color: #7f7f7f; text-decoration-color: #7f7f7f\">                   </span>\n",
       "<span style=\"color: #7fbfbf; text-decoration-color: #7fbfbf\">           </span>         yahpo/mo/rbv2_xgboost/<span style=\"color: #008080; text-decoration-color: #008080; font-weight: bold\">182</span>/<span style=\"color: #800080; text-decoration-color: #800080; font-style: italic\">None</span>        <span style=\"color: #008080; text-decoration-color: #008080; font-weight: bold\">0.010498</span>        NaN      <span style=\"color: #008080; text-decoration-color: #008080; font-weight: bold\">0.000003</span>     <span style=\"color: #7f7f7f; text-decoration-color: #7f7f7f\">                   </span>\n",
       "<span style=\"color: #7fbfbf; text-decoration-color: #7fbfbf\">           </span>         yahpo/mo/rbv2_xgboost/<span style=\"color: #008080; text-decoration-color: #008080; font-weight: bold\">28</span>/<span style=\"color: #800080; text-decoration-color: #800080; font-style: italic\">None</span>         <span style=\"color: #008080; text-decoration-color: #008080; font-weight: bold\">0.007840</span>        NaN      <span style=\"color: #008080; text-decoration-color: #008080; font-weight: bold\">0.000001</span>     <span style=\"color: #7f7f7f; text-decoration-color: #7f7f7f\">                   </span>\n",
       "</pre>\n"
      ],
      "text/plain": [
       "\u001b[2;36m[19:02:54]\u001b[0m\u001b[2;36m \u001b[0m\u001b[34mINFO    \u001b[0m Lost following experiments: optimizer_id                      Nevergrad-DE  \u001b]8;id=55195;file:///home/numina/Documents/repos/CARP-S-Experiments/lib/CARP-S/carps/analysis/run_autorank.py\u001b\\\u001b[2mrun_autorank.py\u001b[0m\u001b]8;;\u001b\\\u001b[2m:\u001b[0m\u001b]8;id=574042;file:///home/numina/Documents/repos/CARP-S-Experiments/lib/CARP-S/carps/analysis/run_autorank.py#113\u001b\\\u001b[2m113\u001b[0m\u001b]8;;\u001b\\\n",
       "\u001b[2;36m           \u001b[0m         Optuna-MO  RandomSearch                                                     \u001b[2m                   \u001b[0m\n",
       "\u001b[2;36m           \u001b[0m         problem_id                                                                  \u001b[2m                   \u001b[0m\n",
       "\u001b[2;36m           \u001b[0m         yahpo/mo/iaml_ranger/\u001b[1;36m1067\u001b[0m/\u001b[3;35mNone\u001b[0m        \u001b[1;36m0.336826\u001b[0m        NaN      \u001b[1;36m0.217303\u001b[0m     \u001b[2m                   \u001b[0m\n",
       "\u001b[2;36m           \u001b[0m         yahpo/mo/iaml_ranger/\u001b[1;36m1489\u001b[0m/\u001b[3;35mNone\u001b[0m        \u001b[1;36m0.174604\u001b[0m        NaN      \u001b[1;36m0.004866\u001b[0m     \u001b[2m                   \u001b[0m\n",
       "\u001b[2;36m           \u001b[0m         yahpo/mo/iaml_super/\u001b[1;36m1067\u001b[0m/\u001b[3;35mNone\u001b[0m              NaN        NaN      \u001b[1;36m0.000075\u001b[0m     \u001b[2m                   \u001b[0m\n",
       "\u001b[2;36m           \u001b[0m         yahpo/mo/iaml_super/\u001b[1;36m1489\u001b[0m/\u001b[3;35mNone\u001b[0m              NaN        NaN      \u001b[1;36m0.000240\u001b[0m     \u001b[2m                   \u001b[0m\n",
       "\u001b[2;36m           \u001b[0m         yahpo/mo/iaml_xgboost/\u001b[1;36m1489\u001b[0m/\u001b[3;35mNone\u001b[0m       \u001b[1;36m0.203513\u001b[0m        NaN      \u001b[1;36m0.000394\u001b[0m     \u001b[2m                   \u001b[0m\n",
       "\u001b[2;36m           \u001b[0m         yahpo/mo/iaml_xgboost/\u001b[1;36m40981\u001b[0m/\u001b[3;35mNone\u001b[0m      \u001b[1;36m0.201979\u001b[0m        NaN      \u001b[1;36m0.001476\u001b[0m     \u001b[2m                   \u001b[0m\n",
       "\u001b[2;36m           \u001b[0m         yahpo/mo/rbv2_ranger/\u001b[1;36m375\u001b[0m/\u001b[3;35mNone\u001b[0m         \u001b[1;36m0.218806\u001b[0m        NaN      \u001b[1;36m0.049281\u001b[0m     \u001b[2m                   \u001b[0m\n",
       "\u001b[2;36m           \u001b[0m         yahpo/mo/rbv2_ranger/\u001b[1;36m40979\u001b[0m/\u001b[3;35mNone\u001b[0m       \u001b[1;36m0.197883\u001b[0m        NaN      \u001b[1;36m0.067001\u001b[0m     \u001b[2m                   \u001b[0m\n",
       "\u001b[2;36m           \u001b[0m         yahpo/mo/rbv2_ranger/\u001b[1;36m6\u001b[0m/\u001b[3;35mNone\u001b[0m           \u001b[1;36m0.110805\u001b[0m        NaN      \u001b[1;36m0.017989\u001b[0m     \u001b[2m                   \u001b[0m\n",
       "\u001b[2;36m           \u001b[0m         yahpo/mo/rbv2_super/\u001b[1;36m1457\u001b[0m/\u001b[3;35mNone\u001b[0m              NaN        NaN      \u001b[1;36m0.000074\u001b[0m     \u001b[2m                   \u001b[0m\n",
       "\u001b[2;36m           \u001b[0m         yahpo/mo/rbv2_super/\u001b[1;36m6\u001b[0m/\u001b[3;35mNone\u001b[0m                 NaN        NaN      \u001b[1;36m0.000088\u001b[0m     \u001b[2m                   \u001b[0m\n",
       "\u001b[2;36m           \u001b[0m         yahpo/mo/rbv2_xgboost/\u001b[1;36m182\u001b[0m/\u001b[3;35mNone\u001b[0m        \u001b[1;36m0.010498\u001b[0m        NaN      \u001b[1;36m0.000003\u001b[0m     \u001b[2m                   \u001b[0m\n",
       "\u001b[2;36m           \u001b[0m         yahpo/mo/rbv2_xgboost/\u001b[1;36m28\u001b[0m/\u001b[3;35mNone\u001b[0m         \u001b[1;36m0.007840\u001b[0m        NaN      \u001b[1;36m0.000001\u001b[0m     \u001b[2m                   \u001b[0m\n"
      ]
     },
     "metadata": {},
     "output_type": "display_data"
    },
    {
     "name": "stdout",
     "output_type": "stream",
     "text": [
      "Rejecting null hypothesis that data is normal for column Nevergrad-DE (p=0.000000<0.016667)\n",
      "Rejecting null hypothesis that data is normal for column Optuna-MO (p=0.000000<0.016667)\n",
      "Rejecting null hypothesis that data is normal for column RandomSearch (p=0.000000<0.016667)\n",
      "Using Friedman test as omnibus test\n",
      "Rejecting null hypothesis that there is no difference between the distributions (p=0.000076)\n",
      "Using Nemenyi post-hoc test. Differences are significant,if the distance between the mean ranks is greater than the critical distance.\n",
      "              meanrank    median       mad  ci_lower  ci_upper effect_size  \\\n",
      "Nevergrad-DE  1.618421  0.007535  0.007044   0.00182  0.037349         0.0   \n",
      "Optuna-MO     2.065789  0.008520  0.008363  0.003549  0.052336   -0.085913   \n",
      "RandomSearch  2.315789  0.011237  0.010404  0.004708  0.051639   -0.281033   \n",
      "\n",
      "               magnitude  \n",
      "Nevergrad-DE  negligible  \n",
      "Optuna-MO     negligible  \n",
      "RandomSearch       small  \n"
     ]
    },
    {
     "name": "stderr",
     "output_type": "stream",
     "text": [
      "/home/numina/micromamba/envs/carpsexp/lib/python3.11/site-packages/autorank/_util.py:432: FutureWarning: Series.__getitem__ treating keys as positions is deprecated. In a future version, integer keys will always be treated as labels (consistent with DataFrame behavior). To access a value by position, use `ser.iloc[pos]`\n",
      "  if abs(sorted_ranks[i] - sorted_ranks[j]) <= critical_difference:\n"
     ]
    },
    {
     "data": {
      "text/html": [
       "<pre style=\"white-space:pre;overflow-x:auto;line-height:normal;font-family:Menlo,'DejaVu Sans Mono',consolas,'Courier New',monospace\"><span style=\"color: #7fbfbf; text-decoration-color: #7fbfbf\">[19:02:55] </span><span style=\"color: #000080; text-decoration-color: #000080\">INFO    </span> Lost following experiments: optimizer_id                      Nevergrad-DE  <a href=\"file:///home/numina/Documents/repos/CARP-S-Experiments/lib/CARP-S/carps/analysis/run_autorank.py\" target=\"_blank\"><span style=\"color: #7f7f7f; text-decoration-color: #7f7f7f\">run_autorank.py</span></a><span style=\"color: #7f7f7f; text-decoration-color: #7f7f7f\">:</span><a href=\"file:///home/numina/Documents/repos/CARP-S-Experiments/lib/CARP-S/carps/analysis/run_autorank.py#113\" target=\"_blank\"><span style=\"color: #7f7f7f; text-decoration-color: #7f7f7f\">113</span></a>\n",
       "<span style=\"color: #7fbfbf; text-decoration-color: #7fbfbf\">           </span>         Optuna-MO  RandomSearch                                                     <span style=\"color: #7f7f7f; text-decoration-color: #7f7f7f\">                   </span>\n",
       "<span style=\"color: #7fbfbf; text-decoration-color: #7fbfbf\">           </span>         problem_id                                                                  <span style=\"color: #7f7f7f; text-decoration-color: #7f7f7f\">                   </span>\n",
       "<span style=\"color: #7fbfbf; text-decoration-color: #7fbfbf\">           </span>         yahpo/mo/iaml_ranger/<span style=\"color: #008080; text-decoration-color: #008080; font-weight: bold\">1067</span>/<span style=\"color: #800080; text-decoration-color: #800080; font-style: italic\">None</span>        <span style=\"color: #008080; text-decoration-color: #008080; font-weight: bold\">0.336826</span>        NaN      <span style=\"color: #008080; text-decoration-color: #008080; font-weight: bold\">0.217303</span>     <span style=\"color: #7f7f7f; text-decoration-color: #7f7f7f\">                   </span>\n",
       "<span style=\"color: #7fbfbf; text-decoration-color: #7fbfbf\">           </span>         yahpo/mo/iaml_ranger/<span style=\"color: #008080; text-decoration-color: #008080; font-weight: bold\">1489</span>/<span style=\"color: #800080; text-decoration-color: #800080; font-style: italic\">None</span>        <span style=\"color: #008080; text-decoration-color: #008080; font-weight: bold\">0.174604</span>        NaN      <span style=\"color: #008080; text-decoration-color: #008080; font-weight: bold\">0.004866</span>     <span style=\"color: #7f7f7f; text-decoration-color: #7f7f7f\">                   </span>\n",
       "<span style=\"color: #7fbfbf; text-decoration-color: #7fbfbf\">           </span>         yahpo/mo/iaml_super/<span style=\"color: #008080; text-decoration-color: #008080; font-weight: bold\">1489</span>/<span style=\"color: #800080; text-decoration-color: #800080; font-style: italic\">None</span>              NaN        NaN      <span style=\"color: #008080; text-decoration-color: #008080; font-weight: bold\">0.000240</span>     <span style=\"color: #7f7f7f; text-decoration-color: #7f7f7f\">                   </span>\n",
       "<span style=\"color: #7fbfbf; text-decoration-color: #7fbfbf\">           </span>         yahpo/mo/iaml_xgboost/<span style=\"color: #008080; text-decoration-color: #008080; font-weight: bold\">1489</span>/<span style=\"color: #800080; text-decoration-color: #800080; font-style: italic\">None</span>       <span style=\"color: #008080; text-decoration-color: #008080; font-weight: bold\">0.203513</span>        NaN      <span style=\"color: #008080; text-decoration-color: #008080; font-weight: bold\">0.000394</span>     <span style=\"color: #7f7f7f; text-decoration-color: #7f7f7f\">                   </span>\n",
       "<span style=\"color: #7fbfbf; text-decoration-color: #7fbfbf\">           </span>         yahpo/mo/iaml_xgboost/<span style=\"color: #008080; text-decoration-color: #008080; font-weight: bold\">40981</span>/<span style=\"color: #800080; text-decoration-color: #800080; font-style: italic\">None</span>      <span style=\"color: #008080; text-decoration-color: #008080; font-weight: bold\">0.201979</span>        NaN      <span style=\"color: #008080; text-decoration-color: #008080; font-weight: bold\">0.001476</span>     <span style=\"color: #7f7f7f; text-decoration-color: #7f7f7f\">                   </span>\n",
       "<span style=\"color: #7fbfbf; text-decoration-color: #7fbfbf\">           </span>         yahpo/mo/rbv2_ranger/<span style=\"color: #008080; text-decoration-color: #008080; font-weight: bold\">40979</span>/<span style=\"color: #800080; text-decoration-color: #800080; font-style: italic\">None</span>       <span style=\"color: #008080; text-decoration-color: #008080; font-weight: bold\">0.197883</span>        NaN      <span style=\"color: #008080; text-decoration-color: #008080; font-weight: bold\">0.067001</span>     <span style=\"color: #7f7f7f; text-decoration-color: #7f7f7f\">                   </span>\n",
       "<span style=\"color: #7fbfbf; text-decoration-color: #7fbfbf\">           </span>         yahpo/mo/rbv2_ranger/<span style=\"color: #008080; text-decoration-color: #008080; font-weight: bold\">6</span>/<span style=\"color: #800080; text-decoration-color: #800080; font-style: italic\">None</span>           <span style=\"color: #008080; text-decoration-color: #008080; font-weight: bold\">0.110805</span>        NaN      <span style=\"color: #008080; text-decoration-color: #008080; font-weight: bold\">0.017989</span>     <span style=\"color: #7f7f7f; text-decoration-color: #7f7f7f\">                   </span>\n",
       "<span style=\"color: #7fbfbf; text-decoration-color: #7fbfbf\">           </span>         yahpo/mo/rbv2_super/<span style=\"color: #008080; text-decoration-color: #008080; font-weight: bold\">1053</span>/<span style=\"color: #800080; text-decoration-color: #800080; font-style: italic\">None</span>              NaN        NaN      <span style=\"color: #008080; text-decoration-color: #008080; font-weight: bold\">0.005830</span>     <span style=\"color: #7f7f7f; text-decoration-color: #7f7f7f\">                   </span>\n",
       "<span style=\"color: #7fbfbf; text-decoration-color: #7fbfbf\">           </span>         yahpo/mo/rbv2_super/<span style=\"color: #008080; text-decoration-color: #008080; font-weight: bold\">1457</span>/<span style=\"color: #800080; text-decoration-color: #800080; font-style: italic\">None</span>              NaN        NaN      <span style=\"color: #008080; text-decoration-color: #008080; font-weight: bold\">0.000074</span>     <span style=\"color: #7f7f7f; text-decoration-color: #7f7f7f\">                   </span>\n",
       "<span style=\"color: #7fbfbf; text-decoration-color: #7fbfbf\">           </span>         yahpo/mo/rbv2_super/<span style=\"color: #008080; text-decoration-color: #008080; font-weight: bold\">6</span>/<span style=\"color: #800080; text-decoration-color: #800080; font-style: italic\">None</span>                 NaN        NaN      <span style=\"color: #008080; text-decoration-color: #008080; font-weight: bold\">0.000088</span>     <span style=\"color: #7f7f7f; text-decoration-color: #7f7f7f\">                   </span>\n",
       "<span style=\"color: #7fbfbf; text-decoration-color: #7fbfbf\">           </span>         yahpo/mo/rbv2_xgboost/<span style=\"color: #008080; text-decoration-color: #008080; font-weight: bold\">12</span>/<span style=\"color: #800080; text-decoration-color: #800080; font-style: italic\">None</span>         <span style=\"color: #008080; text-decoration-color: #008080; font-weight: bold\">0.040141</span>        NaN      <span style=\"color: #008080; text-decoration-color: #008080; font-weight: bold\">0.000009</span>     <span style=\"color: #7f7f7f; text-decoration-color: #7f7f7f\">                   </span>\n",
       "<span style=\"color: #7fbfbf; text-decoration-color: #7fbfbf\">           </span>         yahpo/mo/rbv2_xgboost/<span style=\"color: #008080; text-decoration-color: #008080; font-weight: bold\">182</span>/<span style=\"color: #800080; text-decoration-color: #800080; font-style: italic\">None</span>        <span style=\"color: #008080; text-decoration-color: #008080; font-weight: bold\">0.010498</span>        NaN      <span style=\"color: #008080; text-decoration-color: #008080; font-weight: bold\">0.000003</span>     <span style=\"color: #7f7f7f; text-decoration-color: #7f7f7f\">                   </span>\n",
       "</pre>\n"
      ],
      "text/plain": [
       "\u001b[2;36m[19:02:55]\u001b[0m\u001b[2;36m \u001b[0m\u001b[34mINFO    \u001b[0m Lost following experiments: optimizer_id                      Nevergrad-DE  \u001b]8;id=997471;file:///home/numina/Documents/repos/CARP-S-Experiments/lib/CARP-S/carps/analysis/run_autorank.py\u001b\\\u001b[2mrun_autorank.py\u001b[0m\u001b]8;;\u001b\\\u001b[2m:\u001b[0m\u001b]8;id=540971;file:///home/numina/Documents/repos/CARP-S-Experiments/lib/CARP-S/carps/analysis/run_autorank.py#113\u001b\\\u001b[2m113\u001b[0m\u001b]8;;\u001b\\\n",
       "\u001b[2;36m           \u001b[0m         Optuna-MO  RandomSearch                                                     \u001b[2m                   \u001b[0m\n",
       "\u001b[2;36m           \u001b[0m         problem_id                                                                  \u001b[2m                   \u001b[0m\n",
       "\u001b[2;36m           \u001b[0m         yahpo/mo/iaml_ranger/\u001b[1;36m1067\u001b[0m/\u001b[3;35mNone\u001b[0m        \u001b[1;36m0.336826\u001b[0m        NaN      \u001b[1;36m0.217303\u001b[0m     \u001b[2m                   \u001b[0m\n",
       "\u001b[2;36m           \u001b[0m         yahpo/mo/iaml_ranger/\u001b[1;36m1489\u001b[0m/\u001b[3;35mNone\u001b[0m        \u001b[1;36m0.174604\u001b[0m        NaN      \u001b[1;36m0.004866\u001b[0m     \u001b[2m                   \u001b[0m\n",
       "\u001b[2;36m           \u001b[0m         yahpo/mo/iaml_super/\u001b[1;36m1489\u001b[0m/\u001b[3;35mNone\u001b[0m              NaN        NaN      \u001b[1;36m0.000240\u001b[0m     \u001b[2m                   \u001b[0m\n",
       "\u001b[2;36m           \u001b[0m         yahpo/mo/iaml_xgboost/\u001b[1;36m1489\u001b[0m/\u001b[3;35mNone\u001b[0m       \u001b[1;36m0.203513\u001b[0m        NaN      \u001b[1;36m0.000394\u001b[0m     \u001b[2m                   \u001b[0m\n",
       "\u001b[2;36m           \u001b[0m         yahpo/mo/iaml_xgboost/\u001b[1;36m40981\u001b[0m/\u001b[3;35mNone\u001b[0m      \u001b[1;36m0.201979\u001b[0m        NaN      \u001b[1;36m0.001476\u001b[0m     \u001b[2m                   \u001b[0m\n",
       "\u001b[2;36m           \u001b[0m         yahpo/mo/rbv2_ranger/\u001b[1;36m40979\u001b[0m/\u001b[3;35mNone\u001b[0m       \u001b[1;36m0.197883\u001b[0m        NaN      \u001b[1;36m0.067001\u001b[0m     \u001b[2m                   \u001b[0m\n",
       "\u001b[2;36m           \u001b[0m         yahpo/mo/rbv2_ranger/\u001b[1;36m6\u001b[0m/\u001b[3;35mNone\u001b[0m           \u001b[1;36m0.110805\u001b[0m        NaN      \u001b[1;36m0.017989\u001b[0m     \u001b[2m                   \u001b[0m\n",
       "\u001b[2;36m           \u001b[0m         yahpo/mo/rbv2_super/\u001b[1;36m1053\u001b[0m/\u001b[3;35mNone\u001b[0m              NaN        NaN      \u001b[1;36m0.005830\u001b[0m     \u001b[2m                   \u001b[0m\n",
       "\u001b[2;36m           \u001b[0m         yahpo/mo/rbv2_super/\u001b[1;36m1457\u001b[0m/\u001b[3;35mNone\u001b[0m              NaN        NaN      \u001b[1;36m0.000074\u001b[0m     \u001b[2m                   \u001b[0m\n",
       "\u001b[2;36m           \u001b[0m         yahpo/mo/rbv2_super/\u001b[1;36m6\u001b[0m/\u001b[3;35mNone\u001b[0m                 NaN        NaN      \u001b[1;36m0.000088\u001b[0m     \u001b[2m                   \u001b[0m\n",
       "\u001b[2;36m           \u001b[0m         yahpo/mo/rbv2_xgboost/\u001b[1;36m12\u001b[0m/\u001b[3;35mNone\u001b[0m         \u001b[1;36m0.040141\u001b[0m        NaN      \u001b[1;36m0.000009\u001b[0m     \u001b[2m                   \u001b[0m\n",
       "\u001b[2;36m           \u001b[0m         yahpo/mo/rbv2_xgboost/\u001b[1;36m182\u001b[0m/\u001b[3;35mNone\u001b[0m        \u001b[1;36m0.010498\u001b[0m        NaN      \u001b[1;36m0.000003\u001b[0m     \u001b[2m                   \u001b[0m\n"
      ]
     },
     "metadata": {},
     "output_type": "display_data"
    },
    {
     "name": "stdout",
     "output_type": "stream",
     "text": [
      "Rejecting null hypothesis that data is normal for column Nevergrad-DE (p=0.000000<0.016667)\n",
      "Rejecting null hypothesis that data is normal for column Optuna-MO (p=0.000000<0.016667)\n",
      "Rejecting null hypothesis that data is normal for column RandomSearch (p=0.000000<0.016667)\n",
      "Using Friedman test as omnibus test\n",
      "Rejecting null hypothesis that there is no difference between the distributions (p=0.002641)\n",
      "Using Nemenyi post-hoc test. Differences are significant,if the distance between the mean ranks is greater than the critical distance.\n",
      "              meanrank    median       mad  ci_lower  ci_upper effect_size  \\\n",
      "Nevergrad-DE  1.708861  0.008545  0.008453  0.002258  0.065317         0.0   \n",
      "Optuna-MO     2.037975  0.009992  0.009962  0.004593  0.058713   -0.105693   \n",
      "RandomSearch  2.253165  0.013001  0.012814  0.006476  0.065524   -0.276927   \n",
      "\n",
      "               magnitude  \n",
      "Nevergrad-DE  negligible  \n",
      "Optuna-MO     negligible  \n",
      "RandomSearch       small  \n"
     ]
    },
    {
     "name": "stderr",
     "output_type": "stream",
     "text": [
      "/home/numina/micromamba/envs/carpsexp/lib/python3.11/site-packages/autorank/_util.py:432: FutureWarning: Series.__getitem__ treating keys as positions is deprecated. In a future version, integer keys will always be treated as labels (consistent with DataFrame behavior). To access a value by position, use `ser.iloc[pos]`\n",
      "  if abs(sorted_ranks[i] - sorted_ranks[j]) <= critical_difference:\n"
     ]
    },
    {
     "data": {
      "text/html": [
       "<pre style=\"white-space:pre;overflow-x:auto;line-height:normal;font-family:Menlo,'DejaVu Sans Mono',consolas,'Courier New',monospace\"><span style=\"color: #7fbfbf; text-decoration-color: #7fbfbf\">[19:02:56] </span><span style=\"color: #000080; text-decoration-color: #000080\">INFO    </span> Lost following experiments: optimizer_id                      Nevergrad-DE  <a href=\"file:///home/numina/Documents/repos/CARP-S-Experiments/lib/CARP-S/carps/analysis/run_autorank.py\" target=\"_blank\"><span style=\"color: #7f7f7f; text-decoration-color: #7f7f7f\">run_autorank.py</span></a><span style=\"color: #7f7f7f; text-decoration-color: #7f7f7f\">:</span><a href=\"file:///home/numina/Documents/repos/CARP-S-Experiments/lib/CARP-S/carps/analysis/run_autorank.py#113\" target=\"_blank\"><span style=\"color: #7f7f7f; text-decoration-color: #7f7f7f\">113</span></a>\n",
       "<span style=\"color: #7fbfbf; text-decoration-color: #7fbfbf\">           </span>         Optuna-MO  RandomSearch                                                     <span style=\"color: #7f7f7f; text-decoration-color: #7f7f7f\">                   </span>\n",
       "<span style=\"color: #7fbfbf; text-decoration-color: #7fbfbf\">           </span>         problem_id                                                                  <span style=\"color: #7f7f7f; text-decoration-color: #7f7f7f\">                   </span>\n",
       "<span style=\"color: #7fbfbf; text-decoration-color: #7fbfbf\">           </span>         yahpo/mo/iaml_ranger/<span style=\"color: #008080; text-decoration-color: #008080; font-weight: bold\">1067</span>/<span style=\"color: #800080; text-decoration-color: #800080; font-style: italic\">None</span>        <span style=\"color: #008080; text-decoration-color: #008080; font-weight: bold\">0.336826</span>        NaN      <span style=\"color: #008080; text-decoration-color: #008080; font-weight: bold\">0.217303</span>     <span style=\"color: #7f7f7f; text-decoration-color: #7f7f7f\">                   </span>\n",
       "<span style=\"color: #7fbfbf; text-decoration-color: #7fbfbf\">           </span>         yahpo/mo/iaml_ranger/<span style=\"color: #008080; text-decoration-color: #008080; font-weight: bold\">1489</span>/<span style=\"color: #800080; text-decoration-color: #800080; font-style: italic\">None</span>        <span style=\"color: #008080; text-decoration-color: #008080; font-weight: bold\">0.174604</span>        NaN      <span style=\"color: #008080; text-decoration-color: #008080; font-weight: bold\">0.004866</span>     <span style=\"color: #7f7f7f; text-decoration-color: #7f7f7f\">                   </span>\n",
       "<span style=\"color: #7fbfbf; text-decoration-color: #7fbfbf\">           </span>         yahpo/mo/iaml_super/<span style=\"color: #008080; text-decoration-color: #008080; font-weight: bold\">1067</span>/<span style=\"color: #800080; text-decoration-color: #800080; font-style: italic\">None</span>              NaN        NaN      <span style=\"color: #008080; text-decoration-color: #008080; font-weight: bold\">0.000075</span>     <span style=\"color: #7f7f7f; text-decoration-color: #7f7f7f\">                   </span>\n",
       "<span style=\"color: #7fbfbf; text-decoration-color: #7fbfbf\">           </span>         yahpo/mo/iaml_super/<span style=\"color: #008080; text-decoration-color: #008080; font-weight: bold\">1489</span>/<span style=\"color: #800080; text-decoration-color: #800080; font-style: italic\">None</span>              NaN        NaN      <span style=\"color: #008080; text-decoration-color: #008080; font-weight: bold\">0.000240</span>     <span style=\"color: #7f7f7f; text-decoration-color: #7f7f7f\">                   </span>\n",
       "<span style=\"color: #7fbfbf; text-decoration-color: #7fbfbf\">           </span>         yahpo/mo/iaml_xgboost/<span style=\"color: #008080; text-decoration-color: #008080; font-weight: bold\">1489</span>/<span style=\"color: #800080; text-decoration-color: #800080; font-style: italic\">None</span>       <span style=\"color: #008080; text-decoration-color: #008080; font-weight: bold\">0.203513</span>        NaN      <span style=\"color: #008080; text-decoration-color: #008080; font-weight: bold\">0.000394</span>     <span style=\"color: #7f7f7f; text-decoration-color: #7f7f7f\">                   </span>\n",
       "<span style=\"color: #7fbfbf; text-decoration-color: #7fbfbf\">           </span>         yahpo/mo/iaml_xgboost/<span style=\"color: #008080; text-decoration-color: #008080; font-weight: bold\">40981</span>/<span style=\"color: #800080; text-decoration-color: #800080; font-style: italic\">None</span>      <span style=\"color: #008080; text-decoration-color: #008080; font-weight: bold\">0.201979</span>        NaN      <span style=\"color: #008080; text-decoration-color: #008080; font-weight: bold\">0.001476</span>     <span style=\"color: #7f7f7f; text-decoration-color: #7f7f7f\">                   </span>\n",
       "<span style=\"color: #7fbfbf; text-decoration-color: #7fbfbf\">           </span>         yahpo/mo/rbv2_ranger/<span style=\"color: #008080; text-decoration-color: #008080; font-weight: bold\">375</span>/<span style=\"color: #800080; text-decoration-color: #800080; font-style: italic\">None</span>         <span style=\"color: #008080; text-decoration-color: #008080; font-weight: bold\">0.218806</span>        NaN      <span style=\"color: #008080; text-decoration-color: #008080; font-weight: bold\">0.049281</span>     <span style=\"color: #7f7f7f; text-decoration-color: #7f7f7f\">                   </span>\n",
       "<span style=\"color: #7fbfbf; text-decoration-color: #7fbfbf\">           </span>         yahpo/mo/rbv2_ranger/<span style=\"color: #008080; text-decoration-color: #008080; font-weight: bold\">6</span>/<span style=\"color: #800080; text-decoration-color: #800080; font-style: italic\">None</span>           <span style=\"color: #008080; text-decoration-color: #008080; font-weight: bold\">0.110805</span>        NaN      <span style=\"color: #008080; text-decoration-color: #008080; font-weight: bold\">0.017989</span>     <span style=\"color: #7f7f7f; text-decoration-color: #7f7f7f\">                   </span>\n",
       "<span style=\"color: #7fbfbf; text-decoration-color: #7fbfbf\">           </span>         yahpo/mo/rbv2_super/<span style=\"color: #008080; text-decoration-color: #008080; font-weight: bold\">1053</span>/<span style=\"color: #800080; text-decoration-color: #800080; font-style: italic\">None</span>              NaN        NaN      <span style=\"color: #008080; text-decoration-color: #008080; font-weight: bold\">0.005830</span>     <span style=\"color: #7f7f7f; text-decoration-color: #7f7f7f\">                   </span>\n",
       "<span style=\"color: #7fbfbf; text-decoration-color: #7fbfbf\">           </span>         yahpo/mo/rbv2_super/<span style=\"color: #008080; text-decoration-color: #008080; font-weight: bold\">1457</span>/<span style=\"color: #800080; text-decoration-color: #800080; font-style: italic\">None</span>              NaN        NaN      <span style=\"color: #008080; text-decoration-color: #008080; font-weight: bold\">0.000074</span>     <span style=\"color: #7f7f7f; text-decoration-color: #7f7f7f\">                   </span>\n",
       "<span style=\"color: #7fbfbf; text-decoration-color: #7fbfbf\">           </span>         yahpo/mo/rbv2_super/<span style=\"color: #008080; text-decoration-color: #008080; font-weight: bold\">6</span>/<span style=\"color: #800080; text-decoration-color: #800080; font-style: italic\">None</span>                 NaN        NaN      <span style=\"color: #008080; text-decoration-color: #008080; font-weight: bold\">0.000088</span>     <span style=\"color: #7f7f7f; text-decoration-color: #7f7f7f\">                   </span>\n",
       "<span style=\"color: #7fbfbf; text-decoration-color: #7fbfbf\">           </span>         yahpo/mo/rbv2_xgboost/<span style=\"color: #008080; text-decoration-color: #008080; font-weight: bold\">12</span>/<span style=\"color: #800080; text-decoration-color: #800080; font-style: italic\">None</span>         <span style=\"color: #008080; text-decoration-color: #008080; font-weight: bold\">0.040141</span>        NaN      <span style=\"color: #008080; text-decoration-color: #008080; font-weight: bold\">0.000009</span>     <span style=\"color: #7f7f7f; text-decoration-color: #7f7f7f\">                   </span>\n",
       "<span style=\"color: #7fbfbf; text-decoration-color: #7fbfbf\">           </span>         yahpo/mo/rbv2_xgboost/<span style=\"color: #008080; text-decoration-color: #008080; font-weight: bold\">182</span>/<span style=\"color: #800080; text-decoration-color: #800080; font-style: italic\">None</span>        <span style=\"color: #008080; text-decoration-color: #008080; font-weight: bold\">0.010498</span>        NaN      <span style=\"color: #008080; text-decoration-color: #008080; font-weight: bold\">0.000003</span>     <span style=\"color: #7f7f7f; text-decoration-color: #7f7f7f\">                   </span>\n",
       "<span style=\"color: #7fbfbf; text-decoration-color: #7fbfbf\">           </span>         yahpo/mo/rbv2_xgboost/<span style=\"color: #008080; text-decoration-color: #008080; font-weight: bold\">28</span>/<span style=\"color: #800080; text-decoration-color: #800080; font-style: italic\">None</span>         <span style=\"color: #008080; text-decoration-color: #008080; font-weight: bold\">0.007840</span>        NaN      <span style=\"color: #008080; text-decoration-color: #008080; font-weight: bold\">0.000001</span>     <span style=\"color: #7f7f7f; text-decoration-color: #7f7f7f\">                   </span>\n",
       "</pre>\n"
      ],
      "text/plain": [
       "\u001b[2;36m[19:02:56]\u001b[0m\u001b[2;36m \u001b[0m\u001b[34mINFO    \u001b[0m Lost following experiments: optimizer_id                      Nevergrad-DE  \u001b]8;id=445357;file:///home/numina/Documents/repos/CARP-S-Experiments/lib/CARP-S/carps/analysis/run_autorank.py\u001b\\\u001b[2mrun_autorank.py\u001b[0m\u001b]8;;\u001b\\\u001b[2m:\u001b[0m\u001b]8;id=984213;file:///home/numina/Documents/repos/CARP-S-Experiments/lib/CARP-S/carps/analysis/run_autorank.py#113\u001b\\\u001b[2m113\u001b[0m\u001b]8;;\u001b\\\n",
       "\u001b[2;36m           \u001b[0m         Optuna-MO  RandomSearch                                                     \u001b[2m                   \u001b[0m\n",
       "\u001b[2;36m           \u001b[0m         problem_id                                                                  \u001b[2m                   \u001b[0m\n",
       "\u001b[2;36m           \u001b[0m         yahpo/mo/iaml_ranger/\u001b[1;36m1067\u001b[0m/\u001b[3;35mNone\u001b[0m        \u001b[1;36m0.336826\u001b[0m        NaN      \u001b[1;36m0.217303\u001b[0m     \u001b[2m                   \u001b[0m\n",
       "\u001b[2;36m           \u001b[0m         yahpo/mo/iaml_ranger/\u001b[1;36m1489\u001b[0m/\u001b[3;35mNone\u001b[0m        \u001b[1;36m0.174604\u001b[0m        NaN      \u001b[1;36m0.004866\u001b[0m     \u001b[2m                   \u001b[0m\n",
       "\u001b[2;36m           \u001b[0m         yahpo/mo/iaml_super/\u001b[1;36m1067\u001b[0m/\u001b[3;35mNone\u001b[0m              NaN        NaN      \u001b[1;36m0.000075\u001b[0m     \u001b[2m                   \u001b[0m\n",
       "\u001b[2;36m           \u001b[0m         yahpo/mo/iaml_super/\u001b[1;36m1489\u001b[0m/\u001b[3;35mNone\u001b[0m              NaN        NaN      \u001b[1;36m0.000240\u001b[0m     \u001b[2m                   \u001b[0m\n",
       "\u001b[2;36m           \u001b[0m         yahpo/mo/iaml_xgboost/\u001b[1;36m1489\u001b[0m/\u001b[3;35mNone\u001b[0m       \u001b[1;36m0.203513\u001b[0m        NaN      \u001b[1;36m0.000394\u001b[0m     \u001b[2m                   \u001b[0m\n",
       "\u001b[2;36m           \u001b[0m         yahpo/mo/iaml_xgboost/\u001b[1;36m40981\u001b[0m/\u001b[3;35mNone\u001b[0m      \u001b[1;36m0.201979\u001b[0m        NaN      \u001b[1;36m0.001476\u001b[0m     \u001b[2m                   \u001b[0m\n",
       "\u001b[2;36m           \u001b[0m         yahpo/mo/rbv2_ranger/\u001b[1;36m375\u001b[0m/\u001b[3;35mNone\u001b[0m         \u001b[1;36m0.218806\u001b[0m        NaN      \u001b[1;36m0.049281\u001b[0m     \u001b[2m                   \u001b[0m\n",
       "\u001b[2;36m           \u001b[0m         yahpo/mo/rbv2_ranger/\u001b[1;36m6\u001b[0m/\u001b[3;35mNone\u001b[0m           \u001b[1;36m0.110805\u001b[0m        NaN      \u001b[1;36m0.017989\u001b[0m     \u001b[2m                   \u001b[0m\n",
       "\u001b[2;36m           \u001b[0m         yahpo/mo/rbv2_super/\u001b[1;36m1053\u001b[0m/\u001b[3;35mNone\u001b[0m              NaN        NaN      \u001b[1;36m0.005830\u001b[0m     \u001b[2m                   \u001b[0m\n",
       "\u001b[2;36m           \u001b[0m         yahpo/mo/rbv2_super/\u001b[1;36m1457\u001b[0m/\u001b[3;35mNone\u001b[0m              NaN        NaN      \u001b[1;36m0.000074\u001b[0m     \u001b[2m                   \u001b[0m\n",
       "\u001b[2;36m           \u001b[0m         yahpo/mo/rbv2_super/\u001b[1;36m6\u001b[0m/\u001b[3;35mNone\u001b[0m                 NaN        NaN      \u001b[1;36m0.000088\u001b[0m     \u001b[2m                   \u001b[0m\n",
       "\u001b[2;36m           \u001b[0m         yahpo/mo/rbv2_xgboost/\u001b[1;36m12\u001b[0m/\u001b[3;35mNone\u001b[0m         \u001b[1;36m0.040141\u001b[0m        NaN      \u001b[1;36m0.000009\u001b[0m     \u001b[2m                   \u001b[0m\n",
       "\u001b[2;36m           \u001b[0m         yahpo/mo/rbv2_xgboost/\u001b[1;36m182\u001b[0m/\u001b[3;35mNone\u001b[0m        \u001b[1;36m0.010498\u001b[0m        NaN      \u001b[1;36m0.000003\u001b[0m     \u001b[2m                   \u001b[0m\n",
       "\u001b[2;36m           \u001b[0m         yahpo/mo/rbv2_xgboost/\u001b[1;36m28\u001b[0m/\u001b[3;35mNone\u001b[0m         \u001b[1;36m0.007840\u001b[0m        NaN      \u001b[1;36m0.000001\u001b[0m     \u001b[2m                   \u001b[0m\n"
      ]
     },
     "metadata": {},
     "output_type": "display_data"
    },
    {
     "name": "stdout",
     "output_type": "stream",
     "text": [
      "Rejecting null hypothesis that data is normal for column Nevergrad-DE (p=0.000000<0.016667)\n",
      "Rejecting null hypothesis that data is normal for column Optuna-MO (p=0.000000<0.016667)\n",
      "Rejecting null hypothesis that data is normal for column RandomSearch (p=0.000000<0.016667)\n",
      "Using Friedman test as omnibus test\n",
      "Rejecting null hypothesis that there is no difference between the distributions (p=0.000042)\n",
      "Using Nemenyi post-hoc test. Differences are significant,if the distance between the mean ranks is greater than the critical distance.\n",
      "              meanrank    median       mad  ci_lower  ci_upper effect_size  \\\n",
      "Nevergrad-DE  1.653846  0.007260  0.006925  0.001017   0.03076         0.0   \n",
      "Optuna-MO     1.974359  0.008341   0.00827  0.001679  0.052571   -0.095565   \n",
      "RandomSearch  2.371795  0.010119  0.009573  0.002692  0.051639   -0.230781   \n",
      "\n",
      "               magnitude  \n",
      "Nevergrad-DE  negligible  \n",
      "Optuna-MO     negligible  \n",
      "RandomSearch       small  \n"
     ]
    },
    {
     "name": "stderr",
     "output_type": "stream",
     "text": [
      "/home/numina/micromamba/envs/carpsexp/lib/python3.11/site-packages/autorank/_util.py:432: FutureWarning: Series.__getitem__ treating keys as positions is deprecated. In a future version, integer keys will always be treated as labels (consistent with DataFrame behavior). To access a value by position, use `ser.iloc[pos]`\n",
      "  if abs(sorted_ranks[i] - sorted_ranks[j]) <= critical_difference:\n"
     ]
    },
    {
     "data": {
      "text/html": [
       "<pre style=\"white-space:pre;overflow-x:auto;line-height:normal;font-family:Menlo,'DejaVu Sans Mono',consolas,'Courier New',monospace\"><span style=\"color: #7fbfbf; text-decoration-color: #7fbfbf\">[19:02:57] </span><span style=\"color: #000080; text-decoration-color: #000080\">INFO    </span> Lost following experiments: optimizer_id                      Nevergrad-DE  <a href=\"file:///home/numina/Documents/repos/CARP-S-Experiments/lib/CARP-S/carps/analysis/run_autorank.py\" target=\"_blank\"><span style=\"color: #7f7f7f; text-decoration-color: #7f7f7f\">run_autorank.py</span></a><span style=\"color: #7f7f7f; text-decoration-color: #7f7f7f\">:</span><a href=\"file:///home/numina/Documents/repos/CARP-S-Experiments/lib/CARP-S/carps/analysis/run_autorank.py#113\" target=\"_blank\"><span style=\"color: #7f7f7f; text-decoration-color: #7f7f7f\">113</span></a>\n",
       "<span style=\"color: #7fbfbf; text-decoration-color: #7fbfbf\">           </span>         Optuna-MO  RandomSearch                                                     <span style=\"color: #7f7f7f; text-decoration-color: #7f7f7f\">                   </span>\n",
       "<span style=\"color: #7fbfbf; text-decoration-color: #7fbfbf\">           </span>         problem_id                                                                  <span style=\"color: #7f7f7f; text-decoration-color: #7f7f7f\">                   </span>\n",
       "<span style=\"color: #7fbfbf; text-decoration-color: #7fbfbf\">           </span>         yahpo/mo/iaml_ranger/<span style=\"color: #008080; text-decoration-color: #008080; font-weight: bold\">1067</span>/<span style=\"color: #800080; text-decoration-color: #800080; font-style: italic\">None</span>        <span style=\"color: #008080; text-decoration-color: #008080; font-weight: bold\">0.336826</span>        NaN      <span style=\"color: #008080; text-decoration-color: #008080; font-weight: bold\">0.217303</span>     <span style=\"color: #7f7f7f; text-decoration-color: #7f7f7f\">                   </span>\n",
       "<span style=\"color: #7fbfbf; text-decoration-color: #7fbfbf\">           </span>         yahpo/mo/iaml_super/<span style=\"color: #008080; text-decoration-color: #008080; font-weight: bold\">1489</span>/<span style=\"color: #800080; text-decoration-color: #800080; font-style: italic\">None</span>              NaN        NaN      <span style=\"color: #008080; text-decoration-color: #008080; font-weight: bold\">0.000240</span>     <span style=\"color: #7f7f7f; text-decoration-color: #7f7f7f\">                   </span>\n",
       "<span style=\"color: #7fbfbf; text-decoration-color: #7fbfbf\">           </span>         yahpo/mo/iaml_xgboost/<span style=\"color: #008080; text-decoration-color: #008080; font-weight: bold\">1489</span>/<span style=\"color: #800080; text-decoration-color: #800080; font-style: italic\">None</span>       <span style=\"color: #008080; text-decoration-color: #008080; font-weight: bold\">0.203513</span>        NaN      <span style=\"color: #008080; text-decoration-color: #008080; font-weight: bold\">0.000394</span>     <span style=\"color: #7f7f7f; text-decoration-color: #7f7f7f\">                   </span>\n",
       "<span style=\"color: #7fbfbf; text-decoration-color: #7fbfbf\">           </span>         yahpo/mo/iaml_xgboost/<span style=\"color: #008080; text-decoration-color: #008080; font-weight: bold\">40981</span>/<span style=\"color: #800080; text-decoration-color: #800080; font-style: italic\">None</span>      <span style=\"color: #008080; text-decoration-color: #008080; font-weight: bold\">0.201979</span>        NaN      <span style=\"color: #008080; text-decoration-color: #008080; font-weight: bold\">0.001476</span>     <span style=\"color: #7f7f7f; text-decoration-color: #7f7f7f\">                   </span>\n",
       "<span style=\"color: #7fbfbf; text-decoration-color: #7fbfbf\">           </span>         yahpo/mo/rbv2_ranger/<span style=\"color: #008080; text-decoration-color: #008080; font-weight: bold\">375</span>/<span style=\"color: #800080; text-decoration-color: #800080; font-style: italic\">None</span>         <span style=\"color: #008080; text-decoration-color: #008080; font-weight: bold\">0.218806</span>        NaN      <span style=\"color: #008080; text-decoration-color: #008080; font-weight: bold\">0.049281</span>     <span style=\"color: #7f7f7f; text-decoration-color: #7f7f7f\">                   </span>\n",
       "<span style=\"color: #7fbfbf; text-decoration-color: #7fbfbf\">           </span>         yahpo/mo/rbv2_ranger/<span style=\"color: #008080; text-decoration-color: #008080; font-weight: bold\">40979</span>/<span style=\"color: #800080; text-decoration-color: #800080; font-style: italic\">None</span>       <span style=\"color: #008080; text-decoration-color: #008080; font-weight: bold\">0.197883</span>        NaN      <span style=\"color: #008080; text-decoration-color: #008080; font-weight: bold\">0.067001</span>     <span style=\"color: #7f7f7f; text-decoration-color: #7f7f7f\">                   </span>\n",
       "<span style=\"color: #7fbfbf; text-decoration-color: #7fbfbf\">           </span>         yahpo/mo/rbv2_ranger/<span style=\"color: #008080; text-decoration-color: #008080; font-weight: bold\">6</span>/<span style=\"color: #800080; text-decoration-color: #800080; font-style: italic\">None</span>           <span style=\"color: #008080; text-decoration-color: #008080; font-weight: bold\">0.110805</span>        NaN      <span style=\"color: #008080; text-decoration-color: #008080; font-weight: bold\">0.017989</span>     <span style=\"color: #7f7f7f; text-decoration-color: #7f7f7f\">                   </span>\n",
       "<span style=\"color: #7fbfbf; text-decoration-color: #7fbfbf\">           </span>         yahpo/mo/rbv2_super/<span style=\"color: #008080; text-decoration-color: #008080; font-weight: bold\">1053</span>/<span style=\"color: #800080; text-decoration-color: #800080; font-style: italic\">None</span>              NaN        NaN      <span style=\"color: #008080; text-decoration-color: #008080; font-weight: bold\">0.005830</span>     <span style=\"color: #7f7f7f; text-decoration-color: #7f7f7f\">                   </span>\n",
       "<span style=\"color: #7fbfbf; text-decoration-color: #7fbfbf\">           </span>         yahpo/mo/rbv2_super/<span style=\"color: #008080; text-decoration-color: #008080; font-weight: bold\">1457</span>/<span style=\"color: #800080; text-decoration-color: #800080; font-style: italic\">None</span>              NaN        NaN      <span style=\"color: #008080; text-decoration-color: #008080; font-weight: bold\">0.000074</span>     <span style=\"color: #7f7f7f; text-decoration-color: #7f7f7f\">                   </span>\n",
       "<span style=\"color: #7fbfbf; text-decoration-color: #7fbfbf\">           </span>         yahpo/mo/rbv2_super/<span style=\"color: #008080; text-decoration-color: #008080; font-weight: bold\">6</span>/<span style=\"color: #800080; text-decoration-color: #800080; font-style: italic\">None</span>                 NaN        NaN      <span style=\"color: #008080; text-decoration-color: #008080; font-weight: bold\">0.000088</span>     <span style=\"color: #7f7f7f; text-decoration-color: #7f7f7f\">                   </span>\n",
       "<span style=\"color: #7fbfbf; text-decoration-color: #7fbfbf\">           </span>         yahpo/mo/rbv2_xgboost/<span style=\"color: #008080; text-decoration-color: #008080; font-weight: bold\">12</span>/<span style=\"color: #800080; text-decoration-color: #800080; font-style: italic\">None</span>         <span style=\"color: #008080; text-decoration-color: #008080; font-weight: bold\">0.040141</span>        NaN      <span style=\"color: #008080; text-decoration-color: #008080; font-weight: bold\">0.000009</span>     <span style=\"color: #7f7f7f; text-decoration-color: #7f7f7f\">                   </span>\n",
       "</pre>\n"
      ],
      "text/plain": [
       "\u001b[2;36m[19:02:57]\u001b[0m\u001b[2;36m \u001b[0m\u001b[34mINFO    \u001b[0m Lost following experiments: optimizer_id                      Nevergrad-DE  \u001b]8;id=487196;file:///home/numina/Documents/repos/CARP-S-Experiments/lib/CARP-S/carps/analysis/run_autorank.py\u001b\\\u001b[2mrun_autorank.py\u001b[0m\u001b]8;;\u001b\\\u001b[2m:\u001b[0m\u001b]8;id=49452;file:///home/numina/Documents/repos/CARP-S-Experiments/lib/CARP-S/carps/analysis/run_autorank.py#113\u001b\\\u001b[2m113\u001b[0m\u001b]8;;\u001b\\\n",
       "\u001b[2;36m           \u001b[0m         Optuna-MO  RandomSearch                                                     \u001b[2m                   \u001b[0m\n",
       "\u001b[2;36m           \u001b[0m         problem_id                                                                  \u001b[2m                   \u001b[0m\n",
       "\u001b[2;36m           \u001b[0m         yahpo/mo/iaml_ranger/\u001b[1;36m1067\u001b[0m/\u001b[3;35mNone\u001b[0m        \u001b[1;36m0.336826\u001b[0m        NaN      \u001b[1;36m0.217303\u001b[0m     \u001b[2m                   \u001b[0m\n",
       "\u001b[2;36m           \u001b[0m         yahpo/mo/iaml_super/\u001b[1;36m1489\u001b[0m/\u001b[3;35mNone\u001b[0m              NaN        NaN      \u001b[1;36m0.000240\u001b[0m     \u001b[2m                   \u001b[0m\n",
       "\u001b[2;36m           \u001b[0m         yahpo/mo/iaml_xgboost/\u001b[1;36m1489\u001b[0m/\u001b[3;35mNone\u001b[0m       \u001b[1;36m0.203513\u001b[0m        NaN      \u001b[1;36m0.000394\u001b[0m     \u001b[2m                   \u001b[0m\n",
       "\u001b[2;36m           \u001b[0m         yahpo/mo/iaml_xgboost/\u001b[1;36m40981\u001b[0m/\u001b[3;35mNone\u001b[0m      \u001b[1;36m0.201979\u001b[0m        NaN      \u001b[1;36m0.001476\u001b[0m     \u001b[2m                   \u001b[0m\n",
       "\u001b[2;36m           \u001b[0m         yahpo/mo/rbv2_ranger/\u001b[1;36m375\u001b[0m/\u001b[3;35mNone\u001b[0m         \u001b[1;36m0.218806\u001b[0m        NaN      \u001b[1;36m0.049281\u001b[0m     \u001b[2m                   \u001b[0m\n",
       "\u001b[2;36m           \u001b[0m         yahpo/mo/rbv2_ranger/\u001b[1;36m40979\u001b[0m/\u001b[3;35mNone\u001b[0m       \u001b[1;36m0.197883\u001b[0m        NaN      \u001b[1;36m0.067001\u001b[0m     \u001b[2m                   \u001b[0m\n",
       "\u001b[2;36m           \u001b[0m         yahpo/mo/rbv2_ranger/\u001b[1;36m6\u001b[0m/\u001b[3;35mNone\u001b[0m           \u001b[1;36m0.110805\u001b[0m        NaN      \u001b[1;36m0.017989\u001b[0m     \u001b[2m                   \u001b[0m\n",
       "\u001b[2;36m           \u001b[0m         yahpo/mo/rbv2_super/\u001b[1;36m1053\u001b[0m/\u001b[3;35mNone\u001b[0m              NaN        NaN      \u001b[1;36m0.005830\u001b[0m     \u001b[2m                   \u001b[0m\n",
       "\u001b[2;36m           \u001b[0m         yahpo/mo/rbv2_super/\u001b[1;36m1457\u001b[0m/\u001b[3;35mNone\u001b[0m              NaN        NaN      \u001b[1;36m0.000074\u001b[0m     \u001b[2m                   \u001b[0m\n",
       "\u001b[2;36m           \u001b[0m         yahpo/mo/rbv2_super/\u001b[1;36m6\u001b[0m/\u001b[3;35mNone\u001b[0m                 NaN        NaN      \u001b[1;36m0.000088\u001b[0m     \u001b[2m                   \u001b[0m\n",
       "\u001b[2;36m           \u001b[0m         yahpo/mo/rbv2_xgboost/\u001b[1;36m12\u001b[0m/\u001b[3;35mNone\u001b[0m         \u001b[1;36m0.040141\u001b[0m        NaN      \u001b[1;36m0.000009\u001b[0m     \u001b[2m                   \u001b[0m\n"
      ]
     },
     "metadata": {},
     "output_type": "display_data"
    },
    {
     "name": "stdout",
     "output_type": "stream",
     "text": [
      "Rejecting null hypothesis that data is normal for column Nevergrad-DE (p=0.000000<0.016667)\n",
      "Rejecting null hypothesis that data is normal for column Optuna-MO (p=0.000000<0.016667)\n",
      "Rejecting null hypothesis that data is normal for column RandomSearch (p=0.000000<0.016667)\n",
      "Using Friedman test as omnibus test\n",
      "Rejecting null hypothesis that there is no difference between the distributions (p=0.000772)\n",
      "Using Nemenyi post-hoc test. Differences are significant,if the distance between the mean ranks is greater than the critical distance.\n",
      "              meanrank    median       mad  ci_lower  ci_upper effect_size  \\\n",
      "Nevergrad-DE  1.717949  0.008206  0.007949  0.002258  0.062983         0.0   \n",
      "Optuna-MO     1.961538  0.009894  0.009829  0.003648  0.052571   -0.127337   \n",
      "RandomSearch  2.320513  0.011555  0.011458  0.005451  0.065524   -0.229036   \n",
      "\n",
      "               magnitude  \n",
      "Nevergrad-DE  negligible  \n",
      "Optuna-MO     negligible  \n",
      "RandomSearch       small  \n"
     ]
    },
    {
     "name": "stderr",
     "output_type": "stream",
     "text": [
      "/home/numina/micromamba/envs/carpsexp/lib/python3.11/site-packages/autorank/_util.py:432: FutureWarning: Series.__getitem__ treating keys as positions is deprecated. In a future version, integer keys will always be treated as labels (consistent with DataFrame behavior). To access a value by position, use `ser.iloc[pos]`\n",
      "  if abs(sorted_ranks[i] - sorted_ranks[j]) <= critical_difference:\n"
     ]
    },
    {
     "data": {
      "text/html": [
       "<pre style=\"white-space:pre;overflow-x:auto;line-height:normal;font-family:Menlo,'DejaVu Sans Mono',consolas,'Courier New',monospace\"><span style=\"color: #7fbfbf; text-decoration-color: #7fbfbf\">[19:02:59] </span><span style=\"color: #000080; text-decoration-color: #000080\">INFO    </span> Lost following experiments: optimizer_id                      Nevergrad-DE  <a href=\"file:///home/numina/Documents/repos/CARP-S-Experiments/lib/CARP-S/carps/analysis/run_autorank.py\" target=\"_blank\"><span style=\"color: #7f7f7f; text-decoration-color: #7f7f7f\">run_autorank.py</span></a><span style=\"color: #7f7f7f; text-decoration-color: #7f7f7f\">:</span><a href=\"file:///home/numina/Documents/repos/CARP-S-Experiments/lib/CARP-S/carps/analysis/run_autorank.py#113\" target=\"_blank\"><span style=\"color: #7f7f7f; text-decoration-color: #7f7f7f\">113</span></a>\n",
       "<span style=\"color: #7fbfbf; text-decoration-color: #7fbfbf\">           </span>         Optuna-MO  RandomSearch                                                     <span style=\"color: #7f7f7f; text-decoration-color: #7f7f7f\">                   </span>\n",
       "<span style=\"color: #7fbfbf; text-decoration-color: #7fbfbf\">           </span>         problem_id                                                                  <span style=\"color: #7f7f7f; text-decoration-color: #7f7f7f\">                   </span>\n",
       "<span style=\"color: #7fbfbf; text-decoration-color: #7fbfbf\">           </span>         yahpo/mo/iaml_ranger/<span style=\"color: #008080; text-decoration-color: #008080; font-weight: bold\">1067</span>/<span style=\"color: #800080; text-decoration-color: #800080; font-style: italic\">None</span>        <span style=\"color: #008080; text-decoration-color: #008080; font-weight: bold\">0.336826</span>        NaN      <span style=\"color: #008080; text-decoration-color: #008080; font-weight: bold\">0.217303</span>     <span style=\"color: #7f7f7f; text-decoration-color: #7f7f7f\">                   </span>\n",
       "<span style=\"color: #7fbfbf; text-decoration-color: #7fbfbf\">           </span>         yahpo/mo/iaml_ranger/<span style=\"color: #008080; text-decoration-color: #008080; font-weight: bold\">1489</span>/<span style=\"color: #800080; text-decoration-color: #800080; font-style: italic\">None</span>        <span style=\"color: #008080; text-decoration-color: #008080; font-weight: bold\">0.174604</span>        NaN      <span style=\"color: #008080; text-decoration-color: #008080; font-weight: bold\">0.004866</span>     <span style=\"color: #7f7f7f; text-decoration-color: #7f7f7f\">                   </span>\n",
       "<span style=\"color: #7fbfbf; text-decoration-color: #7fbfbf\">           </span>         yahpo/mo/iaml_super/<span style=\"color: #008080; text-decoration-color: #008080; font-weight: bold\">1067</span>/<span style=\"color: #800080; text-decoration-color: #800080; font-style: italic\">None</span>              NaN        NaN      <span style=\"color: #008080; text-decoration-color: #008080; font-weight: bold\">0.000075</span>     <span style=\"color: #7f7f7f; text-decoration-color: #7f7f7f\">                   </span>\n",
       "<span style=\"color: #7fbfbf; text-decoration-color: #7fbfbf\">           </span>         yahpo/mo/iaml_super/<span style=\"color: #008080; text-decoration-color: #008080; font-weight: bold\">1489</span>/<span style=\"color: #800080; text-decoration-color: #800080; font-style: italic\">None</span>              NaN        NaN      <span style=\"color: #008080; text-decoration-color: #008080; font-weight: bold\">0.000240</span>     <span style=\"color: #7f7f7f; text-decoration-color: #7f7f7f\">                   </span>\n",
       "<span style=\"color: #7fbfbf; text-decoration-color: #7fbfbf\">           </span>         yahpo/mo/iaml_xgboost/<span style=\"color: #008080; text-decoration-color: #008080; font-weight: bold\">1489</span>/<span style=\"color: #800080; text-decoration-color: #800080; font-style: italic\">None</span>       <span style=\"color: #008080; text-decoration-color: #008080; font-weight: bold\">0.203513</span>        NaN      <span style=\"color: #008080; text-decoration-color: #008080; font-weight: bold\">0.000394</span>     <span style=\"color: #7f7f7f; text-decoration-color: #7f7f7f\">                   </span>\n",
       "<span style=\"color: #7fbfbf; text-decoration-color: #7fbfbf\">           </span>         yahpo/mo/iaml_xgboost/<span style=\"color: #008080; text-decoration-color: #008080; font-weight: bold\">40981</span>/<span style=\"color: #800080; text-decoration-color: #800080; font-style: italic\">None</span>      <span style=\"color: #008080; text-decoration-color: #008080; font-weight: bold\">0.201979</span>        NaN      <span style=\"color: #008080; text-decoration-color: #008080; font-weight: bold\">0.001476</span>     <span style=\"color: #7f7f7f; text-decoration-color: #7f7f7f\">                   </span>\n",
       "<span style=\"color: #7fbfbf; text-decoration-color: #7fbfbf\">           </span>         yahpo/mo/rbv2_ranger/<span style=\"color: #008080; text-decoration-color: #008080; font-weight: bold\">375</span>/<span style=\"color: #800080; text-decoration-color: #800080; font-style: italic\">None</span>         <span style=\"color: #008080; text-decoration-color: #008080; font-weight: bold\">0.218806</span>        NaN      <span style=\"color: #008080; text-decoration-color: #008080; font-weight: bold\">0.049281</span>     <span style=\"color: #7f7f7f; text-decoration-color: #7f7f7f\">                   </span>\n",
       "<span style=\"color: #7fbfbf; text-decoration-color: #7fbfbf\">           </span>         yahpo/mo/rbv2_ranger/<span style=\"color: #008080; text-decoration-color: #008080; font-weight: bold\">40979</span>/<span style=\"color: #800080; text-decoration-color: #800080; font-style: italic\">None</span>       <span style=\"color: #008080; text-decoration-color: #008080; font-weight: bold\">0.197883</span>        NaN      <span style=\"color: #008080; text-decoration-color: #008080; font-weight: bold\">0.067001</span>     <span style=\"color: #7f7f7f; text-decoration-color: #7f7f7f\">                   </span>\n",
       "<span style=\"color: #7fbfbf; text-decoration-color: #7fbfbf\">           </span>         yahpo/mo/rbv2_ranger/<span style=\"color: #008080; text-decoration-color: #008080; font-weight: bold\">6</span>/<span style=\"color: #800080; text-decoration-color: #800080; font-style: italic\">None</span>           <span style=\"color: #008080; text-decoration-color: #008080; font-weight: bold\">0.110805</span>        NaN      <span style=\"color: #008080; text-decoration-color: #008080; font-weight: bold\">0.017989</span>     <span style=\"color: #7f7f7f; text-decoration-color: #7f7f7f\">                   </span>\n",
       "<span style=\"color: #7fbfbf; text-decoration-color: #7fbfbf\">           </span>         yahpo/mo/rbv2_super/<span style=\"color: #008080; text-decoration-color: #008080; font-weight: bold\">1053</span>/<span style=\"color: #800080; text-decoration-color: #800080; font-style: italic\">None</span>              NaN        NaN      <span style=\"color: #008080; text-decoration-color: #008080; font-weight: bold\">0.005830</span>     <span style=\"color: #7f7f7f; text-decoration-color: #7f7f7f\">                   </span>\n",
       "<span style=\"color: #7fbfbf; text-decoration-color: #7fbfbf\">           </span>         yahpo/mo/rbv2_super/<span style=\"color: #008080; text-decoration-color: #008080; font-weight: bold\">1457</span>/<span style=\"color: #800080; text-decoration-color: #800080; font-style: italic\">None</span>              NaN        NaN      <span style=\"color: #008080; text-decoration-color: #008080; font-weight: bold\">0.000074</span>     <span style=\"color: #7f7f7f; text-decoration-color: #7f7f7f\">                   </span>\n",
       "<span style=\"color: #7fbfbf; text-decoration-color: #7fbfbf\">           </span>         yahpo/mo/rbv2_xgboost/<span style=\"color: #008080; text-decoration-color: #008080; font-weight: bold\">12</span>/<span style=\"color: #800080; text-decoration-color: #800080; font-style: italic\">None</span>         <span style=\"color: #008080; text-decoration-color: #008080; font-weight: bold\">0.040141</span>        NaN      <span style=\"color: #008080; text-decoration-color: #008080; font-weight: bold\">0.000009</span>     <span style=\"color: #7f7f7f; text-decoration-color: #7f7f7f\">                   </span>\n",
       "<span style=\"color: #7fbfbf; text-decoration-color: #7fbfbf\">           </span>         yahpo/mo/rbv2_xgboost/<span style=\"color: #008080; text-decoration-color: #008080; font-weight: bold\">182</span>/<span style=\"color: #800080; text-decoration-color: #800080; font-style: italic\">None</span>        <span style=\"color: #008080; text-decoration-color: #008080; font-weight: bold\">0.010498</span>        NaN      <span style=\"color: #008080; text-decoration-color: #008080; font-weight: bold\">0.000003</span>     <span style=\"color: #7f7f7f; text-decoration-color: #7f7f7f\">                   </span>\n",
       "<span style=\"color: #7fbfbf; text-decoration-color: #7fbfbf\">           </span>         yahpo/mo/rbv2_xgboost/<span style=\"color: #008080; text-decoration-color: #008080; font-weight: bold\">28</span>/<span style=\"color: #800080; text-decoration-color: #800080; font-style: italic\">None</span>         <span style=\"color: #008080; text-decoration-color: #008080; font-weight: bold\">0.007840</span>        NaN      <span style=\"color: #008080; text-decoration-color: #008080; font-weight: bold\">0.000001</span>     <span style=\"color: #7f7f7f; text-decoration-color: #7f7f7f\">                   </span>\n",
       "</pre>\n"
      ],
      "text/plain": [
       "\u001b[2;36m[19:02:59]\u001b[0m\u001b[2;36m \u001b[0m\u001b[34mINFO    \u001b[0m Lost following experiments: optimizer_id                      Nevergrad-DE  \u001b]8;id=630597;file:///home/numina/Documents/repos/CARP-S-Experiments/lib/CARP-S/carps/analysis/run_autorank.py\u001b\\\u001b[2mrun_autorank.py\u001b[0m\u001b]8;;\u001b\\\u001b[2m:\u001b[0m\u001b]8;id=881987;file:///home/numina/Documents/repos/CARP-S-Experiments/lib/CARP-S/carps/analysis/run_autorank.py#113\u001b\\\u001b[2m113\u001b[0m\u001b]8;;\u001b\\\n",
       "\u001b[2;36m           \u001b[0m         Optuna-MO  RandomSearch                                                     \u001b[2m                   \u001b[0m\n",
       "\u001b[2;36m           \u001b[0m         problem_id                                                                  \u001b[2m                   \u001b[0m\n",
       "\u001b[2;36m           \u001b[0m         yahpo/mo/iaml_ranger/\u001b[1;36m1067\u001b[0m/\u001b[3;35mNone\u001b[0m        \u001b[1;36m0.336826\u001b[0m        NaN      \u001b[1;36m0.217303\u001b[0m     \u001b[2m                   \u001b[0m\n",
       "\u001b[2;36m           \u001b[0m         yahpo/mo/iaml_ranger/\u001b[1;36m1489\u001b[0m/\u001b[3;35mNone\u001b[0m        \u001b[1;36m0.174604\u001b[0m        NaN      \u001b[1;36m0.004866\u001b[0m     \u001b[2m                   \u001b[0m\n",
       "\u001b[2;36m           \u001b[0m         yahpo/mo/iaml_super/\u001b[1;36m1067\u001b[0m/\u001b[3;35mNone\u001b[0m              NaN        NaN      \u001b[1;36m0.000075\u001b[0m     \u001b[2m                   \u001b[0m\n",
       "\u001b[2;36m           \u001b[0m         yahpo/mo/iaml_super/\u001b[1;36m1489\u001b[0m/\u001b[3;35mNone\u001b[0m              NaN        NaN      \u001b[1;36m0.000240\u001b[0m     \u001b[2m                   \u001b[0m\n",
       "\u001b[2;36m           \u001b[0m         yahpo/mo/iaml_xgboost/\u001b[1;36m1489\u001b[0m/\u001b[3;35mNone\u001b[0m       \u001b[1;36m0.203513\u001b[0m        NaN      \u001b[1;36m0.000394\u001b[0m     \u001b[2m                   \u001b[0m\n",
       "\u001b[2;36m           \u001b[0m         yahpo/mo/iaml_xgboost/\u001b[1;36m40981\u001b[0m/\u001b[3;35mNone\u001b[0m      \u001b[1;36m0.201979\u001b[0m        NaN      \u001b[1;36m0.001476\u001b[0m     \u001b[2m                   \u001b[0m\n",
       "\u001b[2;36m           \u001b[0m         yahpo/mo/rbv2_ranger/\u001b[1;36m375\u001b[0m/\u001b[3;35mNone\u001b[0m         \u001b[1;36m0.218806\u001b[0m        NaN      \u001b[1;36m0.049281\u001b[0m     \u001b[2m                   \u001b[0m\n",
       "\u001b[2;36m           \u001b[0m         yahpo/mo/rbv2_ranger/\u001b[1;36m40979\u001b[0m/\u001b[3;35mNone\u001b[0m       \u001b[1;36m0.197883\u001b[0m        NaN      \u001b[1;36m0.067001\u001b[0m     \u001b[2m                   \u001b[0m\n",
       "\u001b[2;36m           \u001b[0m         yahpo/mo/rbv2_ranger/\u001b[1;36m6\u001b[0m/\u001b[3;35mNone\u001b[0m           \u001b[1;36m0.110805\u001b[0m        NaN      \u001b[1;36m0.017989\u001b[0m     \u001b[2m                   \u001b[0m\n",
       "\u001b[2;36m           \u001b[0m         yahpo/mo/rbv2_super/\u001b[1;36m1053\u001b[0m/\u001b[3;35mNone\u001b[0m              NaN        NaN      \u001b[1;36m0.005830\u001b[0m     \u001b[2m                   \u001b[0m\n",
       "\u001b[2;36m           \u001b[0m         yahpo/mo/rbv2_super/\u001b[1;36m1457\u001b[0m/\u001b[3;35mNone\u001b[0m              NaN        NaN      \u001b[1;36m0.000074\u001b[0m     \u001b[2m                   \u001b[0m\n",
       "\u001b[2;36m           \u001b[0m         yahpo/mo/rbv2_xgboost/\u001b[1;36m12\u001b[0m/\u001b[3;35mNone\u001b[0m         \u001b[1;36m0.040141\u001b[0m        NaN      \u001b[1;36m0.000009\u001b[0m     \u001b[2m                   \u001b[0m\n",
       "\u001b[2;36m           \u001b[0m         yahpo/mo/rbv2_xgboost/\u001b[1;36m182\u001b[0m/\u001b[3;35mNone\u001b[0m        \u001b[1;36m0.010498\u001b[0m        NaN      \u001b[1;36m0.000003\u001b[0m     \u001b[2m                   \u001b[0m\n",
       "\u001b[2;36m           \u001b[0m         yahpo/mo/rbv2_xgboost/\u001b[1;36m28\u001b[0m/\u001b[3;35mNone\u001b[0m         \u001b[1;36m0.007840\u001b[0m        NaN      \u001b[1;36m0.000001\u001b[0m     \u001b[2m                   \u001b[0m\n"
      ]
     },
     "metadata": {},
     "output_type": "display_data"
    },
    {
     "name": "stdout",
     "output_type": "stream",
     "text": [
      "Rejecting null hypothesis that data is normal for column Nevergrad-DE (p=0.000000<0.016667)\n",
      "Rejecting null hypothesis that data is normal for column Optuna-MO (p=0.000000<0.016667)\n",
      "Rejecting null hypothesis that data is normal for column RandomSearch (p=0.000000<0.016667)\n",
      "Using Friedman test as omnibus test\n",
      "Rejecting null hypothesis that there is no difference between the distributions (p=0.001267)\n",
      "Using Nemenyi post-hoc test. Differences are significant,if the distance between the mean ranks is greater than the critical distance.\n",
      "              meanrank    median       mad  ci_lower  ci_upper effect_size  \\\n",
      "Nevergrad-DE  1.697368  0.008056  0.007996   0.00182  0.065317         0.0   \n",
      "Optuna-MO     2.013158  0.009029  0.009001  0.003011  0.058713   -0.077089   \n",
      "RandomSearch  2.289474  0.011237  0.011096  0.003702  0.065524   -0.221856   \n",
      "\n",
      "               magnitude  \n",
      "Nevergrad-DE  negligible  \n",
      "Optuna-MO     negligible  \n",
      "RandomSearch       small  \n"
     ]
    },
    {
     "name": "stderr",
     "output_type": "stream",
     "text": [
      "/home/numina/micromamba/envs/carpsexp/lib/python3.11/site-packages/autorank/_util.py:432: FutureWarning: Series.__getitem__ treating keys as positions is deprecated. In a future version, integer keys will always be treated as labels (consistent with DataFrame behavior). To access a value by position, use `ser.iloc[pos]`\n",
      "  if abs(sorted_ranks[i] - sorted_ranks[j]) <= critical_difference:\n"
     ]
    },
    {
     "data": {
      "text/html": [
       "<pre style=\"white-space:pre;overflow-x:auto;line-height:normal;font-family:Menlo,'DejaVu Sans Mono',consolas,'Courier New',monospace\"><span style=\"color: #7fbfbf; text-decoration-color: #7fbfbf\">[19:03:00] </span><span style=\"color: #000080; text-decoration-color: #000080\">INFO    </span> Lost following experiments: optimizer_id                     Nevergrad-DE   <a href=\"file:///home/numina/Documents/repos/CARP-S-Experiments/lib/CARP-S/carps/analysis/run_autorank.py\" target=\"_blank\"><span style=\"color: #7f7f7f; text-decoration-color: #7f7f7f\">run_autorank.py</span></a><span style=\"color: #7f7f7f; text-decoration-color: #7f7f7f\">:</span><a href=\"file:///home/numina/Documents/repos/CARP-S-Experiments/lib/CARP-S/carps/analysis/run_autorank.py#113\" target=\"_blank\"><span style=\"color: #7f7f7f; text-decoration-color: #7f7f7f\">113</span></a>\n",
       "<span style=\"color: #7fbfbf; text-decoration-color: #7fbfbf\">           </span>         Optuna-MO  RandomSearch                                                     <span style=\"color: #7f7f7f; text-decoration-color: #7f7f7f\">                   </span>\n",
       "<span style=\"color: #7fbfbf; text-decoration-color: #7fbfbf\">           </span>         problem_id                                                                  <span style=\"color: #7f7f7f; text-decoration-color: #7f7f7f\">                   </span>\n",
       "<span style=\"color: #7fbfbf; text-decoration-color: #7fbfbf\">           </span>         yahpo/mo/iaml_ranger/<span style=\"color: #008080; text-decoration-color: #008080; font-weight: bold\">1489</span>/<span style=\"color: #800080; text-decoration-color: #800080; font-style: italic\">None</span>       <span style=\"color: #008080; text-decoration-color: #008080; font-weight: bold\">0.174604</span>        NaN      <span style=\"color: #008080; text-decoration-color: #008080; font-weight: bold\">0.004866</span>      <span style=\"color: #7f7f7f; text-decoration-color: #7f7f7f\">                   </span>\n",
       "<span style=\"color: #7fbfbf; text-decoration-color: #7fbfbf\">           </span>         yahpo/mo/iaml_super/<span style=\"color: #008080; text-decoration-color: #008080; font-weight: bold\">1067</span>/<span style=\"color: #800080; text-decoration-color: #800080; font-style: italic\">None</span>             NaN        NaN      <span style=\"color: #008080; text-decoration-color: #008080; font-weight: bold\">0.000075</span>      <span style=\"color: #7f7f7f; text-decoration-color: #7f7f7f\">                   </span>\n",
       "<span style=\"color: #7fbfbf; text-decoration-color: #7fbfbf\">           </span>         yahpo/mo/iaml_xgboost/<span style=\"color: #008080; text-decoration-color: #008080; font-weight: bold\">1489</span>/<span style=\"color: #800080; text-decoration-color: #800080; font-style: italic\">None</span>      <span style=\"color: #008080; text-decoration-color: #008080; font-weight: bold\">0.203513</span>        NaN      <span style=\"color: #008080; text-decoration-color: #008080; font-weight: bold\">0.000394</span>      <span style=\"color: #7f7f7f; text-decoration-color: #7f7f7f\">                   </span>\n",
       "<span style=\"color: #7fbfbf; text-decoration-color: #7fbfbf\">           </span>         yahpo/mo/rbv2_ranger/<span style=\"color: #008080; text-decoration-color: #008080; font-weight: bold\">375</span>/<span style=\"color: #800080; text-decoration-color: #800080; font-style: italic\">None</span>        <span style=\"color: #008080; text-decoration-color: #008080; font-weight: bold\">0.218806</span>        NaN      <span style=\"color: #008080; text-decoration-color: #008080; font-weight: bold\">0.049281</span>      <span style=\"color: #7f7f7f; text-decoration-color: #7f7f7f\">                   </span>\n",
       "<span style=\"color: #7fbfbf; text-decoration-color: #7fbfbf\">           </span>         yahpo/mo/rbv2_ranger/<span style=\"color: #008080; text-decoration-color: #008080; font-weight: bold\">6</span>/<span style=\"color: #800080; text-decoration-color: #800080; font-style: italic\">None</span>          <span style=\"color: #008080; text-decoration-color: #008080; font-weight: bold\">0.110805</span>        NaN      <span style=\"color: #008080; text-decoration-color: #008080; font-weight: bold\">0.017989</span>      <span style=\"color: #7f7f7f; text-decoration-color: #7f7f7f\">                   </span>\n",
       "<span style=\"color: #7fbfbf; text-decoration-color: #7fbfbf\">           </span>         yahpo/mo/rbv2_super/<span style=\"color: #008080; text-decoration-color: #008080; font-weight: bold\">1053</span>/<span style=\"color: #800080; text-decoration-color: #800080; font-style: italic\">None</span>             NaN        NaN      <span style=\"color: #008080; text-decoration-color: #008080; font-weight: bold\">0.005830</span>      <span style=\"color: #7f7f7f; text-decoration-color: #7f7f7f\">                   </span>\n",
       "<span style=\"color: #7fbfbf; text-decoration-color: #7fbfbf\">           </span>         yahpo/mo/rbv2_super/<span style=\"color: #008080; text-decoration-color: #008080; font-weight: bold\">1457</span>/<span style=\"color: #800080; text-decoration-color: #800080; font-style: italic\">None</span>             NaN        NaN      <span style=\"color: #008080; text-decoration-color: #008080; font-weight: bold\">0.000074</span>      <span style=\"color: #7f7f7f; text-decoration-color: #7f7f7f\">                   </span>\n",
       "<span style=\"color: #7fbfbf; text-decoration-color: #7fbfbf\">           </span>         yahpo/mo/rbv2_super/<span style=\"color: #008080; text-decoration-color: #008080; font-weight: bold\">6</span>/<span style=\"color: #800080; text-decoration-color: #800080; font-style: italic\">None</span>                NaN        NaN      <span style=\"color: #008080; text-decoration-color: #008080; font-weight: bold\">0.000088</span>      <span style=\"color: #7f7f7f; text-decoration-color: #7f7f7f\">                   </span>\n",
       "<span style=\"color: #7fbfbf; text-decoration-color: #7fbfbf\">           </span>         yahpo/mo/rbv2_xgboost/<span style=\"color: #008080; text-decoration-color: #008080; font-weight: bold\">28</span>/<span style=\"color: #800080; text-decoration-color: #800080; font-style: italic\">None</span>        <span style=\"color: #008080; text-decoration-color: #008080; font-weight: bold\">0.007840</span>        NaN      <span style=\"color: #008080; text-decoration-color: #008080; font-weight: bold\">0.000001</span>      <span style=\"color: #7f7f7f; text-decoration-color: #7f7f7f\">                   </span>\n",
       "</pre>\n"
      ],
      "text/plain": [
       "\u001b[2;36m[19:03:00]\u001b[0m\u001b[2;36m \u001b[0m\u001b[34mINFO    \u001b[0m Lost following experiments: optimizer_id                     Nevergrad-DE   \u001b]8;id=114874;file:///home/numina/Documents/repos/CARP-S-Experiments/lib/CARP-S/carps/analysis/run_autorank.py\u001b\\\u001b[2mrun_autorank.py\u001b[0m\u001b]8;;\u001b\\\u001b[2m:\u001b[0m\u001b]8;id=109952;file:///home/numina/Documents/repos/CARP-S-Experiments/lib/CARP-S/carps/analysis/run_autorank.py#113\u001b\\\u001b[2m113\u001b[0m\u001b]8;;\u001b\\\n",
       "\u001b[2;36m           \u001b[0m         Optuna-MO  RandomSearch                                                     \u001b[2m                   \u001b[0m\n",
       "\u001b[2;36m           \u001b[0m         problem_id                                                                  \u001b[2m                   \u001b[0m\n",
       "\u001b[2;36m           \u001b[0m         yahpo/mo/iaml_ranger/\u001b[1;36m1489\u001b[0m/\u001b[3;35mNone\u001b[0m       \u001b[1;36m0.174604\u001b[0m        NaN      \u001b[1;36m0.004866\u001b[0m      \u001b[2m                   \u001b[0m\n",
       "\u001b[2;36m           \u001b[0m         yahpo/mo/iaml_super/\u001b[1;36m1067\u001b[0m/\u001b[3;35mNone\u001b[0m             NaN        NaN      \u001b[1;36m0.000075\u001b[0m      \u001b[2m                   \u001b[0m\n",
       "\u001b[2;36m           \u001b[0m         yahpo/mo/iaml_xgboost/\u001b[1;36m1489\u001b[0m/\u001b[3;35mNone\u001b[0m      \u001b[1;36m0.203513\u001b[0m        NaN      \u001b[1;36m0.000394\u001b[0m      \u001b[2m                   \u001b[0m\n",
       "\u001b[2;36m           \u001b[0m         yahpo/mo/rbv2_ranger/\u001b[1;36m375\u001b[0m/\u001b[3;35mNone\u001b[0m        \u001b[1;36m0.218806\u001b[0m        NaN      \u001b[1;36m0.049281\u001b[0m      \u001b[2m                   \u001b[0m\n",
       "\u001b[2;36m           \u001b[0m         yahpo/mo/rbv2_ranger/\u001b[1;36m6\u001b[0m/\u001b[3;35mNone\u001b[0m          \u001b[1;36m0.110805\u001b[0m        NaN      \u001b[1;36m0.017989\u001b[0m      \u001b[2m                   \u001b[0m\n",
       "\u001b[2;36m           \u001b[0m         yahpo/mo/rbv2_super/\u001b[1;36m1053\u001b[0m/\u001b[3;35mNone\u001b[0m             NaN        NaN      \u001b[1;36m0.005830\u001b[0m      \u001b[2m                   \u001b[0m\n",
       "\u001b[2;36m           \u001b[0m         yahpo/mo/rbv2_super/\u001b[1;36m1457\u001b[0m/\u001b[3;35mNone\u001b[0m             NaN        NaN      \u001b[1;36m0.000074\u001b[0m      \u001b[2m                   \u001b[0m\n",
       "\u001b[2;36m           \u001b[0m         yahpo/mo/rbv2_super/\u001b[1;36m6\u001b[0m/\u001b[3;35mNone\u001b[0m                NaN        NaN      \u001b[1;36m0.000088\u001b[0m      \u001b[2m                   \u001b[0m\n",
       "\u001b[2;36m           \u001b[0m         yahpo/mo/rbv2_xgboost/\u001b[1;36m28\u001b[0m/\u001b[3;35mNone\u001b[0m        \u001b[1;36m0.007840\u001b[0m        NaN      \u001b[1;36m0.000001\u001b[0m      \u001b[2m                   \u001b[0m\n"
      ]
     },
     "metadata": {},
     "output_type": "display_data"
    },
    {
     "name": "stdout",
     "output_type": "stream",
     "text": [
      "Rejecting null hypothesis that data is normal for column Nevergrad-DE (p=0.000000<0.016667)\n",
      "Rejecting null hypothesis that data is normal for column Optuna-MO (p=0.000000<0.016667)\n",
      "Rejecting null hypothesis that data is normal for column RandomSearch (p=0.000000<0.016667)\n",
      "Using Friedman test as omnibus test\n",
      "Rejecting null hypothesis that there is no difference between the distributions (p=0.000586)\n",
      "Using Nemenyi post-hoc test. Differences are significant,if the distance between the mean ranks is greater than the critical distance.\n",
      "              meanrank    median       mad  ci_lower  ci_upper effect_size  \\\n",
      "Nevergrad-DE  1.670886  0.007503  0.007476  0.001327  0.062983         0.0   \n",
      "Optuna-MO     2.050633  0.011259  0.011234  0.003011  0.063016   -0.265502   \n",
      "RandomSearch  2.278481  0.011273  0.011179  0.002692  0.065524   -0.267413   \n",
      "\n",
      "               magnitude  \n",
      "Nevergrad-DE  negligible  \n",
      "Optuna-MO          small  \n",
      "RandomSearch       small  \n"
     ]
    },
    {
     "name": "stderr",
     "output_type": "stream",
     "text": [
      "/home/numina/micromamba/envs/carpsexp/lib/python3.11/site-packages/autorank/_util.py:432: FutureWarning: Series.__getitem__ treating keys as positions is deprecated. In a future version, integer keys will always be treated as labels (consistent with DataFrame behavior). To access a value by position, use `ser.iloc[pos]`\n",
      "  if abs(sorted_ranks[i] - sorted_ranks[j]) <= critical_difference:\n"
     ]
    },
    {
     "data": {
      "text/html": [
       "<pre style=\"white-space:pre;overflow-x:auto;line-height:normal;font-family:Menlo,'DejaVu Sans Mono',consolas,'Courier New',monospace\"><span style=\"color: #7fbfbf; text-decoration-color: #7fbfbf\">[19:03:01] </span><span style=\"color: #000080; text-decoration-color: #000080\">INFO    </span> Lost following experiments: optimizer_id                      Nevergrad-DE  <a href=\"file:///home/numina/Documents/repos/CARP-S-Experiments/lib/CARP-S/carps/analysis/run_autorank.py\" target=\"_blank\"><span style=\"color: #7f7f7f; text-decoration-color: #7f7f7f\">run_autorank.py</span></a><span style=\"color: #7f7f7f; text-decoration-color: #7f7f7f\">:</span><a href=\"file:///home/numina/Documents/repos/CARP-S-Experiments/lib/CARP-S/carps/analysis/run_autorank.py#113\" target=\"_blank\"><span style=\"color: #7f7f7f; text-decoration-color: #7f7f7f\">113</span></a>\n",
       "<span style=\"color: #7fbfbf; text-decoration-color: #7fbfbf\">           </span>         Optuna-MO  RandomSearch                                                     <span style=\"color: #7f7f7f; text-decoration-color: #7f7f7f\">                   </span>\n",
       "<span style=\"color: #7fbfbf; text-decoration-color: #7fbfbf\">           </span>         problem_id                                                                  <span style=\"color: #7f7f7f; text-decoration-color: #7f7f7f\">                   </span>\n",
       "<span style=\"color: #7fbfbf; text-decoration-color: #7fbfbf\">           </span>         yahpo/mo/iaml_ranger/<span style=\"color: #008080; text-decoration-color: #008080; font-weight: bold\">1067</span>/<span style=\"color: #800080; text-decoration-color: #800080; font-style: italic\">None</span>        <span style=\"color: #008080; text-decoration-color: #008080; font-weight: bold\">0.336826</span>        NaN      <span style=\"color: #008080; text-decoration-color: #008080; font-weight: bold\">0.217303</span>     <span style=\"color: #7f7f7f; text-decoration-color: #7f7f7f\">                   </span>\n",
       "<span style=\"color: #7fbfbf; text-decoration-color: #7fbfbf\">           </span>         yahpo/mo/iaml_super/<span style=\"color: #008080; text-decoration-color: #008080; font-weight: bold\">1489</span>/<span style=\"color: #800080; text-decoration-color: #800080; font-style: italic\">None</span>              NaN        NaN      <span style=\"color: #008080; text-decoration-color: #008080; font-weight: bold\">0.000240</span>     <span style=\"color: #7f7f7f; text-decoration-color: #7f7f7f\">                   </span>\n",
       "<span style=\"color: #7fbfbf; text-decoration-color: #7fbfbf\">           </span>         yahpo/mo/iaml_xgboost/<span style=\"color: #008080; text-decoration-color: #008080; font-weight: bold\">40981</span>/<span style=\"color: #800080; text-decoration-color: #800080; font-style: italic\">None</span>      <span style=\"color: #008080; text-decoration-color: #008080; font-weight: bold\">0.201979</span>        NaN      <span style=\"color: #008080; text-decoration-color: #008080; font-weight: bold\">0.001476</span>     <span style=\"color: #7f7f7f; text-decoration-color: #7f7f7f\">                   </span>\n",
       "<span style=\"color: #7fbfbf; text-decoration-color: #7fbfbf\">           </span>         yahpo/mo/rbv2_ranger/<span style=\"color: #008080; text-decoration-color: #008080; font-weight: bold\">375</span>/<span style=\"color: #800080; text-decoration-color: #800080; font-style: italic\">None</span>         <span style=\"color: #008080; text-decoration-color: #008080; font-weight: bold\">0.218806</span>        NaN      <span style=\"color: #008080; text-decoration-color: #008080; font-weight: bold\">0.049281</span>     <span style=\"color: #7f7f7f; text-decoration-color: #7f7f7f\">                   </span>\n",
       "<span style=\"color: #7fbfbf; text-decoration-color: #7fbfbf\">           </span>         yahpo/mo/rbv2_ranger/<span style=\"color: #008080; text-decoration-color: #008080; font-weight: bold\">40979</span>/<span style=\"color: #800080; text-decoration-color: #800080; font-style: italic\">None</span>       <span style=\"color: #008080; text-decoration-color: #008080; font-weight: bold\">0.197883</span>        NaN      <span style=\"color: #008080; text-decoration-color: #008080; font-weight: bold\">0.067001</span>     <span style=\"color: #7f7f7f; text-decoration-color: #7f7f7f\">                   </span>\n",
       "<span style=\"color: #7fbfbf; text-decoration-color: #7fbfbf\">           </span>         yahpo/mo/rbv2_ranger/<span style=\"color: #008080; text-decoration-color: #008080; font-weight: bold\">6</span>/<span style=\"color: #800080; text-decoration-color: #800080; font-style: italic\">None</span>           <span style=\"color: #008080; text-decoration-color: #008080; font-weight: bold\">0.110805</span>        NaN      <span style=\"color: #008080; text-decoration-color: #008080; font-weight: bold\">0.017989</span>     <span style=\"color: #7f7f7f; text-decoration-color: #7f7f7f\">                   </span>\n",
       "<span style=\"color: #7fbfbf; text-decoration-color: #7fbfbf\">           </span>         yahpo/mo/rbv2_super/<span style=\"color: #008080; text-decoration-color: #008080; font-weight: bold\">1053</span>/<span style=\"color: #800080; text-decoration-color: #800080; font-style: italic\">None</span>              NaN        NaN      <span style=\"color: #008080; text-decoration-color: #008080; font-weight: bold\">0.005830</span>     <span style=\"color: #7f7f7f; text-decoration-color: #7f7f7f\">                   </span>\n",
       "<span style=\"color: #7fbfbf; text-decoration-color: #7fbfbf\">           </span>         yahpo/mo/rbv2_super/<span style=\"color: #008080; text-decoration-color: #008080; font-weight: bold\">1457</span>/<span style=\"color: #800080; text-decoration-color: #800080; font-style: italic\">None</span>              NaN        NaN      <span style=\"color: #008080; text-decoration-color: #008080; font-weight: bold\">0.000074</span>     <span style=\"color: #7f7f7f; text-decoration-color: #7f7f7f\">                   </span>\n",
       "<span style=\"color: #7fbfbf; text-decoration-color: #7fbfbf\">           </span>         yahpo/mo/rbv2_xgboost/<span style=\"color: #008080; text-decoration-color: #008080; font-weight: bold\">12</span>/<span style=\"color: #800080; text-decoration-color: #800080; font-style: italic\">None</span>         <span style=\"color: #008080; text-decoration-color: #008080; font-weight: bold\">0.040141</span>        NaN      <span style=\"color: #008080; text-decoration-color: #008080; font-weight: bold\">0.000009</span>     <span style=\"color: #7f7f7f; text-decoration-color: #7f7f7f\">                   </span>\n",
       "<span style=\"color: #7fbfbf; text-decoration-color: #7fbfbf\">           </span>         yahpo/mo/rbv2_xgboost/<span style=\"color: #008080; text-decoration-color: #008080; font-weight: bold\">182</span>/<span style=\"color: #800080; text-decoration-color: #800080; font-style: italic\">None</span>        <span style=\"color: #008080; text-decoration-color: #008080; font-weight: bold\">0.010498</span>        NaN      <span style=\"color: #008080; text-decoration-color: #008080; font-weight: bold\">0.000003</span>     <span style=\"color: #7f7f7f; text-decoration-color: #7f7f7f\">                   </span>\n",
       "<span style=\"color: #7fbfbf; text-decoration-color: #7fbfbf\">           </span>         yahpo/mo/rbv2_xgboost/<span style=\"color: #008080; text-decoration-color: #008080; font-weight: bold\">28</span>/<span style=\"color: #800080; text-decoration-color: #800080; font-style: italic\">None</span>         <span style=\"color: #008080; text-decoration-color: #008080; font-weight: bold\">0.007840</span>        NaN      <span style=\"color: #008080; text-decoration-color: #008080; font-weight: bold\">0.000001</span>     <span style=\"color: #7f7f7f; text-decoration-color: #7f7f7f\">                   </span>\n",
       "</pre>\n"
      ],
      "text/plain": [
       "\u001b[2;36m[19:03:01]\u001b[0m\u001b[2;36m \u001b[0m\u001b[34mINFO    \u001b[0m Lost following experiments: optimizer_id                      Nevergrad-DE  \u001b]8;id=465915;file:///home/numina/Documents/repos/CARP-S-Experiments/lib/CARP-S/carps/analysis/run_autorank.py\u001b\\\u001b[2mrun_autorank.py\u001b[0m\u001b]8;;\u001b\\\u001b[2m:\u001b[0m\u001b]8;id=820701;file:///home/numina/Documents/repos/CARP-S-Experiments/lib/CARP-S/carps/analysis/run_autorank.py#113\u001b\\\u001b[2m113\u001b[0m\u001b]8;;\u001b\\\n",
       "\u001b[2;36m           \u001b[0m         Optuna-MO  RandomSearch                                                     \u001b[2m                   \u001b[0m\n",
       "\u001b[2;36m           \u001b[0m         problem_id                                                                  \u001b[2m                   \u001b[0m\n",
       "\u001b[2;36m           \u001b[0m         yahpo/mo/iaml_ranger/\u001b[1;36m1067\u001b[0m/\u001b[3;35mNone\u001b[0m        \u001b[1;36m0.336826\u001b[0m        NaN      \u001b[1;36m0.217303\u001b[0m     \u001b[2m                   \u001b[0m\n",
       "\u001b[2;36m           \u001b[0m         yahpo/mo/iaml_super/\u001b[1;36m1489\u001b[0m/\u001b[3;35mNone\u001b[0m              NaN        NaN      \u001b[1;36m0.000240\u001b[0m     \u001b[2m                   \u001b[0m\n",
       "\u001b[2;36m           \u001b[0m         yahpo/mo/iaml_xgboost/\u001b[1;36m40981\u001b[0m/\u001b[3;35mNone\u001b[0m      \u001b[1;36m0.201979\u001b[0m        NaN      \u001b[1;36m0.001476\u001b[0m     \u001b[2m                   \u001b[0m\n",
       "\u001b[2;36m           \u001b[0m         yahpo/mo/rbv2_ranger/\u001b[1;36m375\u001b[0m/\u001b[3;35mNone\u001b[0m         \u001b[1;36m0.218806\u001b[0m        NaN      \u001b[1;36m0.049281\u001b[0m     \u001b[2m                   \u001b[0m\n",
       "\u001b[2;36m           \u001b[0m         yahpo/mo/rbv2_ranger/\u001b[1;36m40979\u001b[0m/\u001b[3;35mNone\u001b[0m       \u001b[1;36m0.197883\u001b[0m        NaN      \u001b[1;36m0.067001\u001b[0m     \u001b[2m                   \u001b[0m\n",
       "\u001b[2;36m           \u001b[0m         yahpo/mo/rbv2_ranger/\u001b[1;36m6\u001b[0m/\u001b[3;35mNone\u001b[0m           \u001b[1;36m0.110805\u001b[0m        NaN      \u001b[1;36m0.017989\u001b[0m     \u001b[2m                   \u001b[0m\n",
       "\u001b[2;36m           \u001b[0m         yahpo/mo/rbv2_super/\u001b[1;36m1053\u001b[0m/\u001b[3;35mNone\u001b[0m              NaN        NaN      \u001b[1;36m0.005830\u001b[0m     \u001b[2m                   \u001b[0m\n",
       "\u001b[2;36m           \u001b[0m         yahpo/mo/rbv2_super/\u001b[1;36m1457\u001b[0m/\u001b[3;35mNone\u001b[0m              NaN        NaN      \u001b[1;36m0.000074\u001b[0m     \u001b[2m                   \u001b[0m\n",
       "\u001b[2;36m           \u001b[0m         yahpo/mo/rbv2_xgboost/\u001b[1;36m12\u001b[0m/\u001b[3;35mNone\u001b[0m         \u001b[1;36m0.040141\u001b[0m        NaN      \u001b[1;36m0.000009\u001b[0m     \u001b[2m                   \u001b[0m\n",
       "\u001b[2;36m           \u001b[0m         yahpo/mo/rbv2_xgboost/\u001b[1;36m182\u001b[0m/\u001b[3;35mNone\u001b[0m        \u001b[1;36m0.010498\u001b[0m        NaN      \u001b[1;36m0.000003\u001b[0m     \u001b[2m                   \u001b[0m\n",
       "\u001b[2;36m           \u001b[0m         yahpo/mo/rbv2_xgboost/\u001b[1;36m28\u001b[0m/\u001b[3;35mNone\u001b[0m         \u001b[1;36m0.007840\u001b[0m        NaN      \u001b[1;36m0.000001\u001b[0m     \u001b[2m                   \u001b[0m\n"
      ]
     },
     "metadata": {},
     "output_type": "display_data"
    },
    {
     "name": "stdout",
     "output_type": "stream",
     "text": [
      "Rejecting null hypothesis that data is normal for column Nevergrad-DE (p=0.000000<0.016667)\n",
      "Rejecting null hypothesis that data is normal for column Optuna-MO (p=0.000000<0.016667)\n",
      "Rejecting null hypothesis that data is normal for column RandomSearch (p=0.000000<0.016667)\n",
      "Using Friedman test as omnibus test\n",
      "Rejecting null hypothesis that there is no difference between the distributions (p=0.000075)\n",
      "Using Nemenyi post-hoc test. Differences are significant,if the distance between the mean ranks is greater than the critical distance.\n",
      "              meanrank    median       mad  ci_lower  ci_upper effect_size  \\\n",
      "Nevergrad-DE  1.628205  0.008206  0.008179  0.000963  0.064612         0.0   \n",
      "Optuna-MO     2.051282  0.009894  0.009869   0.00268   0.07138   -0.125585   \n",
      "RandomSearch  2.320513  0.010978  0.010835  0.004708   0.07337   -0.194772   \n",
      "\n",
      "               magnitude  \n",
      "Nevergrad-DE  negligible  \n",
      "Optuna-MO     negligible  \n",
      "RandomSearch  negligible  \n"
     ]
    },
    {
     "name": "stderr",
     "output_type": "stream",
     "text": [
      "/home/numina/micromamba/envs/carpsexp/lib/python3.11/site-packages/autorank/_util.py:432: FutureWarning: Series.__getitem__ treating keys as positions is deprecated. In a future version, integer keys will always be treated as labels (consistent with DataFrame behavior). To access a value by position, use `ser.iloc[pos]`\n",
      "  if abs(sorted_ranks[i] - sorted_ranks[j]) <= critical_difference:\n"
     ]
    },
    {
     "data": {
      "text/html": [
       "<pre style=\"white-space:pre;overflow-x:auto;line-height:normal;font-family:Menlo,'DejaVu Sans Mono',consolas,'Courier New',monospace\"><span style=\"color: #7fbfbf; text-decoration-color: #7fbfbf\">[19:03:02] </span><span style=\"color: #000080; text-decoration-color: #000080\">INFO    </span> Lost following experiments: optimizer_id                     Nevergrad-DE   <a href=\"file:///home/numina/Documents/repos/CARP-S-Experiments/lib/CARP-S/carps/analysis/run_autorank.py\" target=\"_blank\"><span style=\"color: #7f7f7f; text-decoration-color: #7f7f7f\">run_autorank.py</span></a><span style=\"color: #7f7f7f; text-decoration-color: #7f7f7f\">:</span><a href=\"file:///home/numina/Documents/repos/CARP-S-Experiments/lib/CARP-S/carps/analysis/run_autorank.py#113\" target=\"_blank\"><span style=\"color: #7f7f7f; text-decoration-color: #7f7f7f\">113</span></a>\n",
       "<span style=\"color: #7fbfbf; text-decoration-color: #7fbfbf\">           </span>         Optuna-MO  RandomSearch                                                     <span style=\"color: #7f7f7f; text-decoration-color: #7f7f7f\">                   </span>\n",
       "<span style=\"color: #7fbfbf; text-decoration-color: #7fbfbf\">           </span>         problem_id                                                                  <span style=\"color: #7f7f7f; text-decoration-color: #7f7f7f\">                   </span>\n",
       "<span style=\"color: #7fbfbf; text-decoration-color: #7fbfbf\">           </span>         yahpo/mo/iaml_ranger/<span style=\"color: #008080; text-decoration-color: #008080; font-weight: bold\">1067</span>/<span style=\"color: #800080; text-decoration-color: #800080; font-style: italic\">None</span>       <span style=\"color: #008080; text-decoration-color: #008080; font-weight: bold\">0.336826</span>        NaN      <span style=\"color: #008080; text-decoration-color: #008080; font-weight: bold\">0.217303</span>      <span style=\"color: #7f7f7f; text-decoration-color: #7f7f7f\">                   </span>\n",
       "<span style=\"color: #7fbfbf; text-decoration-color: #7fbfbf\">           </span>         yahpo/mo/iaml_ranger/<span style=\"color: #008080; text-decoration-color: #008080; font-weight: bold\">1489</span>/<span style=\"color: #800080; text-decoration-color: #800080; font-style: italic\">None</span>       <span style=\"color: #008080; text-decoration-color: #008080; font-weight: bold\">0.174604</span>        NaN      <span style=\"color: #008080; text-decoration-color: #008080; font-weight: bold\">0.004866</span>      <span style=\"color: #7f7f7f; text-decoration-color: #7f7f7f\">                   </span>\n",
       "<span style=\"color: #7fbfbf; text-decoration-color: #7fbfbf\">           </span>         yahpo/mo/iaml_super/<span style=\"color: #008080; text-decoration-color: #008080; font-weight: bold\">1067</span>/<span style=\"color: #800080; text-decoration-color: #800080; font-style: italic\">None</span>             NaN        NaN      <span style=\"color: #008080; text-decoration-color: #008080; font-weight: bold\">0.000075</span>      <span style=\"color: #7f7f7f; text-decoration-color: #7f7f7f\">                   </span>\n",
       "<span style=\"color: #7fbfbf; text-decoration-color: #7fbfbf\">           </span>         yahpo/mo/iaml_super/<span style=\"color: #008080; text-decoration-color: #008080; font-weight: bold\">1489</span>/<span style=\"color: #800080; text-decoration-color: #800080; font-style: italic\">None</span>             NaN        NaN      <span style=\"color: #008080; text-decoration-color: #008080; font-weight: bold\">0.000240</span>      <span style=\"color: #7f7f7f; text-decoration-color: #7f7f7f\">                   </span>\n",
       "<span style=\"color: #7fbfbf; text-decoration-color: #7fbfbf\">           </span>         yahpo/mo/iaml_xgboost/<span style=\"color: #008080; text-decoration-color: #008080; font-weight: bold\">1489</span>/<span style=\"color: #800080; text-decoration-color: #800080; font-style: italic\">None</span>      <span style=\"color: #008080; text-decoration-color: #008080; font-weight: bold\">0.203513</span>        NaN      <span style=\"color: #008080; text-decoration-color: #008080; font-weight: bold\">0.000394</span>      <span style=\"color: #7f7f7f; text-decoration-color: #7f7f7f\">                   </span>\n",
       "<span style=\"color: #7fbfbf; text-decoration-color: #7fbfbf\">           </span>         yahpo/mo/rbv2_ranger/<span style=\"color: #008080; text-decoration-color: #008080; font-weight: bold\">375</span>/<span style=\"color: #800080; text-decoration-color: #800080; font-style: italic\">None</span>        <span style=\"color: #008080; text-decoration-color: #008080; font-weight: bold\">0.218806</span>        NaN      <span style=\"color: #008080; text-decoration-color: #008080; font-weight: bold\">0.049281</span>      <span style=\"color: #7f7f7f; text-decoration-color: #7f7f7f\">                   </span>\n",
       "<span style=\"color: #7fbfbf; text-decoration-color: #7fbfbf\">           </span>         yahpo/mo/rbv2_ranger/<span style=\"color: #008080; text-decoration-color: #008080; font-weight: bold\">6</span>/<span style=\"color: #800080; text-decoration-color: #800080; font-style: italic\">None</span>          <span style=\"color: #008080; text-decoration-color: #008080; font-weight: bold\">0.110805</span>        NaN      <span style=\"color: #008080; text-decoration-color: #008080; font-weight: bold\">0.017989</span>      <span style=\"color: #7f7f7f; text-decoration-color: #7f7f7f\">                   </span>\n",
       "<span style=\"color: #7fbfbf; text-decoration-color: #7fbfbf\">           </span>         yahpo/mo/rbv2_super/<span style=\"color: #008080; text-decoration-color: #008080; font-weight: bold\">1053</span>/<span style=\"color: #800080; text-decoration-color: #800080; font-style: italic\">None</span>             NaN        NaN      <span style=\"color: #008080; text-decoration-color: #008080; font-weight: bold\">0.005830</span>      <span style=\"color: #7f7f7f; text-decoration-color: #7f7f7f\">                   </span>\n",
       "<span style=\"color: #7fbfbf; text-decoration-color: #7fbfbf\">           </span>         yahpo/mo/rbv2_super/<span style=\"color: #008080; text-decoration-color: #008080; font-weight: bold\">1457</span>/<span style=\"color: #800080; text-decoration-color: #800080; font-style: italic\">None</span>             NaN        NaN      <span style=\"color: #008080; text-decoration-color: #008080; font-weight: bold\">0.000074</span>      <span style=\"color: #7f7f7f; text-decoration-color: #7f7f7f\">                   </span>\n",
       "<span style=\"color: #7fbfbf; text-decoration-color: #7fbfbf\">           </span>         yahpo/mo/rbv2_xgboost/<span style=\"color: #008080; text-decoration-color: #008080; font-weight: bold\">12</span>/<span style=\"color: #800080; text-decoration-color: #800080; font-style: italic\">None</span>        <span style=\"color: #008080; text-decoration-color: #008080; font-weight: bold\">0.040141</span>        NaN      <span style=\"color: #008080; text-decoration-color: #008080; font-weight: bold\">0.000009</span>      <span style=\"color: #7f7f7f; text-decoration-color: #7f7f7f\">                   </span>\n",
       "<span style=\"color: #7fbfbf; text-decoration-color: #7fbfbf\">           </span>         yahpo/mo/rbv2_xgboost/<span style=\"color: #008080; text-decoration-color: #008080; font-weight: bold\">182</span>/<span style=\"color: #800080; text-decoration-color: #800080; font-style: italic\">None</span>       <span style=\"color: #008080; text-decoration-color: #008080; font-weight: bold\">0.010498</span>        NaN      <span style=\"color: #008080; text-decoration-color: #008080; font-weight: bold\">0.000003</span>      <span style=\"color: #7f7f7f; text-decoration-color: #7f7f7f\">                   </span>\n",
       "</pre>\n"
      ],
      "text/plain": [
       "\u001b[2;36m[19:03:02]\u001b[0m\u001b[2;36m \u001b[0m\u001b[34mINFO    \u001b[0m Lost following experiments: optimizer_id                     Nevergrad-DE   \u001b]8;id=702679;file:///home/numina/Documents/repos/CARP-S-Experiments/lib/CARP-S/carps/analysis/run_autorank.py\u001b\\\u001b[2mrun_autorank.py\u001b[0m\u001b]8;;\u001b\\\u001b[2m:\u001b[0m\u001b]8;id=924943;file:///home/numina/Documents/repos/CARP-S-Experiments/lib/CARP-S/carps/analysis/run_autorank.py#113\u001b\\\u001b[2m113\u001b[0m\u001b]8;;\u001b\\\n",
       "\u001b[2;36m           \u001b[0m         Optuna-MO  RandomSearch                                                     \u001b[2m                   \u001b[0m\n",
       "\u001b[2;36m           \u001b[0m         problem_id                                                                  \u001b[2m                   \u001b[0m\n",
       "\u001b[2;36m           \u001b[0m         yahpo/mo/iaml_ranger/\u001b[1;36m1067\u001b[0m/\u001b[3;35mNone\u001b[0m       \u001b[1;36m0.336826\u001b[0m        NaN      \u001b[1;36m0.217303\u001b[0m      \u001b[2m                   \u001b[0m\n",
       "\u001b[2;36m           \u001b[0m         yahpo/mo/iaml_ranger/\u001b[1;36m1489\u001b[0m/\u001b[3;35mNone\u001b[0m       \u001b[1;36m0.174604\u001b[0m        NaN      \u001b[1;36m0.004866\u001b[0m      \u001b[2m                   \u001b[0m\n",
       "\u001b[2;36m           \u001b[0m         yahpo/mo/iaml_super/\u001b[1;36m1067\u001b[0m/\u001b[3;35mNone\u001b[0m             NaN        NaN      \u001b[1;36m0.000075\u001b[0m      \u001b[2m                   \u001b[0m\n",
       "\u001b[2;36m           \u001b[0m         yahpo/mo/iaml_super/\u001b[1;36m1489\u001b[0m/\u001b[3;35mNone\u001b[0m             NaN        NaN      \u001b[1;36m0.000240\u001b[0m      \u001b[2m                   \u001b[0m\n",
       "\u001b[2;36m           \u001b[0m         yahpo/mo/iaml_xgboost/\u001b[1;36m1489\u001b[0m/\u001b[3;35mNone\u001b[0m      \u001b[1;36m0.203513\u001b[0m        NaN      \u001b[1;36m0.000394\u001b[0m      \u001b[2m                   \u001b[0m\n",
       "\u001b[2;36m           \u001b[0m         yahpo/mo/rbv2_ranger/\u001b[1;36m375\u001b[0m/\u001b[3;35mNone\u001b[0m        \u001b[1;36m0.218806\u001b[0m        NaN      \u001b[1;36m0.049281\u001b[0m      \u001b[2m                   \u001b[0m\n",
       "\u001b[2;36m           \u001b[0m         yahpo/mo/rbv2_ranger/\u001b[1;36m6\u001b[0m/\u001b[3;35mNone\u001b[0m          \u001b[1;36m0.110805\u001b[0m        NaN      \u001b[1;36m0.017989\u001b[0m      \u001b[2m                   \u001b[0m\n",
       "\u001b[2;36m           \u001b[0m         yahpo/mo/rbv2_super/\u001b[1;36m1053\u001b[0m/\u001b[3;35mNone\u001b[0m             NaN        NaN      \u001b[1;36m0.005830\u001b[0m      \u001b[2m                   \u001b[0m\n",
       "\u001b[2;36m           \u001b[0m         yahpo/mo/rbv2_super/\u001b[1;36m1457\u001b[0m/\u001b[3;35mNone\u001b[0m             NaN        NaN      \u001b[1;36m0.000074\u001b[0m      \u001b[2m                   \u001b[0m\n",
       "\u001b[2;36m           \u001b[0m         yahpo/mo/rbv2_xgboost/\u001b[1;36m12\u001b[0m/\u001b[3;35mNone\u001b[0m        \u001b[1;36m0.040141\u001b[0m        NaN      \u001b[1;36m0.000009\u001b[0m      \u001b[2m                   \u001b[0m\n",
       "\u001b[2;36m           \u001b[0m         yahpo/mo/rbv2_xgboost/\u001b[1;36m182\u001b[0m/\u001b[3;35mNone\u001b[0m       \u001b[1;36m0.010498\u001b[0m        NaN      \u001b[1;36m0.000003\u001b[0m      \u001b[2m                   \u001b[0m\n"
      ]
     },
     "metadata": {},
     "output_type": "display_data"
    },
    {
     "name": "stdout",
     "output_type": "stream",
     "text": [
      "Rejecting null hypothesis that data is normal for column Nevergrad-DE (p=0.000000<0.016667)\n",
      "Rejecting null hypothesis that data is normal for column Optuna-MO (p=0.000000<0.016667)\n",
      "Rejecting null hypothesis that data is normal for column RandomSearch (p=0.000000<0.016667)\n",
      "Using Friedman test as omnibus test\n",
      "Rejecting null hypothesis that there is no difference between the distributions (p=0.000206)\n",
      "Using Nemenyi post-hoc test. Differences are significant,if the distance between the mean ranks is greater than the critical distance.\n",
      "              meanrank    median       mad  ci_lower  ci_upper effect_size  \\\n",
      "Nevergrad-DE    1.6625  0.007875  0.007668  0.002486  0.064612         0.0   \n",
      "Optuna-MO       2.0250  0.008781  0.008748  0.003549  0.063016    -0.07427   \n",
      "RandomSearch    2.3125  0.011123  0.010673  0.005451  0.060899   -0.235728   \n",
      "\n",
      "               magnitude  \n",
      "Nevergrad-DE  negligible  \n",
      "Optuna-MO     negligible  \n",
      "RandomSearch       small  \n"
     ]
    },
    {
     "name": "stderr",
     "output_type": "stream",
     "text": [
      "/home/numina/micromamba/envs/carpsexp/lib/python3.11/site-packages/autorank/_util.py:432: FutureWarning: Series.__getitem__ treating keys as positions is deprecated. In a future version, integer keys will always be treated as labels (consistent with DataFrame behavior). To access a value by position, use `ser.iloc[pos]`\n",
      "  if abs(sorted_ranks[i] - sorted_ranks[j]) <= critical_difference:\n"
     ]
    },
    {
     "data": {
      "text/html": [
       "<pre style=\"white-space:pre;overflow-x:auto;line-height:normal;font-family:Menlo,'DejaVu Sans Mono',consolas,'Courier New',monospace\"><span style=\"color: #7fbfbf; text-decoration-color: #7fbfbf\">[19:03:03] </span><span style=\"color: #000080; text-decoration-color: #000080\">INFO    </span> Lost following experiments: optimizer_id                      Nevergrad-DE  <a href=\"file:///home/numina/Documents/repos/CARP-S-Experiments/lib/CARP-S/carps/analysis/run_autorank.py\" target=\"_blank\"><span style=\"color: #7f7f7f; text-decoration-color: #7f7f7f\">run_autorank.py</span></a><span style=\"color: #7f7f7f; text-decoration-color: #7f7f7f\">:</span><a href=\"file:///home/numina/Documents/repos/CARP-S-Experiments/lib/CARP-S/carps/analysis/run_autorank.py#113\" target=\"_blank\"><span style=\"color: #7f7f7f; text-decoration-color: #7f7f7f\">113</span></a>\n",
       "<span style=\"color: #7fbfbf; text-decoration-color: #7fbfbf\">           </span>         Optuna-MO  RandomSearch                                                     <span style=\"color: #7f7f7f; text-decoration-color: #7f7f7f\">                   </span>\n",
       "<span style=\"color: #7fbfbf; text-decoration-color: #7fbfbf\">           </span>         problem_id                                                                  <span style=\"color: #7f7f7f; text-decoration-color: #7f7f7f\">                   </span>\n",
       "<span style=\"color: #7fbfbf; text-decoration-color: #7fbfbf\">           </span>         yahpo/mo/iaml_ranger/<span style=\"color: #008080; text-decoration-color: #008080; font-weight: bold\">1067</span>/<span style=\"color: #800080; text-decoration-color: #800080; font-style: italic\">None</span>        <span style=\"color: #008080; text-decoration-color: #008080; font-weight: bold\">0.336826</span>        NaN      <span style=\"color: #008080; text-decoration-color: #008080; font-weight: bold\">0.217303</span>     <span style=\"color: #7f7f7f; text-decoration-color: #7f7f7f\">                   </span>\n",
       "<span style=\"color: #7fbfbf; text-decoration-color: #7fbfbf\">           </span>         yahpo/mo/iaml_ranger/<span style=\"color: #008080; text-decoration-color: #008080; font-weight: bold\">1489</span>/<span style=\"color: #800080; text-decoration-color: #800080; font-style: italic\">None</span>        <span style=\"color: #008080; text-decoration-color: #008080; font-weight: bold\">0.174604</span>        NaN      <span style=\"color: #008080; text-decoration-color: #008080; font-weight: bold\">0.004866</span>     <span style=\"color: #7f7f7f; text-decoration-color: #7f7f7f\">                   </span>\n",
       "<span style=\"color: #7fbfbf; text-decoration-color: #7fbfbf\">           </span>         yahpo/mo/iaml_super/<span style=\"color: #008080; text-decoration-color: #008080; font-weight: bold\">1067</span>/<span style=\"color: #800080; text-decoration-color: #800080; font-style: italic\">None</span>              NaN        NaN      <span style=\"color: #008080; text-decoration-color: #008080; font-weight: bold\">0.000075</span>     <span style=\"color: #7f7f7f; text-decoration-color: #7f7f7f\">                   </span>\n",
       "<span style=\"color: #7fbfbf; text-decoration-color: #7fbfbf\">           </span>         yahpo/mo/iaml_xgboost/<span style=\"color: #008080; text-decoration-color: #008080; font-weight: bold\">40981</span>/<span style=\"color: #800080; text-decoration-color: #800080; font-style: italic\">None</span>      <span style=\"color: #008080; text-decoration-color: #008080; font-weight: bold\">0.201979</span>        NaN      <span style=\"color: #008080; text-decoration-color: #008080; font-weight: bold\">0.001476</span>     <span style=\"color: #7f7f7f; text-decoration-color: #7f7f7f\">                   </span>\n",
       "<span style=\"color: #7fbfbf; text-decoration-color: #7fbfbf\">           </span>         yahpo/mo/rbv2_ranger/<span style=\"color: #008080; text-decoration-color: #008080; font-weight: bold\">375</span>/<span style=\"color: #800080; text-decoration-color: #800080; font-style: italic\">None</span>         <span style=\"color: #008080; text-decoration-color: #008080; font-weight: bold\">0.218806</span>        NaN      <span style=\"color: #008080; text-decoration-color: #008080; font-weight: bold\">0.049281</span>     <span style=\"color: #7f7f7f; text-decoration-color: #7f7f7f\">                   </span>\n",
       "<span style=\"color: #7fbfbf; text-decoration-color: #7fbfbf\">           </span>         yahpo/mo/rbv2_ranger/<span style=\"color: #008080; text-decoration-color: #008080; font-weight: bold\">40979</span>/<span style=\"color: #800080; text-decoration-color: #800080; font-style: italic\">None</span>       <span style=\"color: #008080; text-decoration-color: #008080; font-weight: bold\">0.197883</span>        NaN      <span style=\"color: #008080; text-decoration-color: #008080; font-weight: bold\">0.067001</span>     <span style=\"color: #7f7f7f; text-decoration-color: #7f7f7f\">                   </span>\n",
       "<span style=\"color: #7fbfbf; text-decoration-color: #7fbfbf\">           </span>         yahpo/mo/rbv2_super/<span style=\"color: #008080; text-decoration-color: #008080; font-weight: bold\">6</span>/<span style=\"color: #800080; text-decoration-color: #800080; font-style: italic\">None</span>                 NaN        NaN      <span style=\"color: #008080; text-decoration-color: #008080; font-weight: bold\">0.000088</span>     <span style=\"color: #7f7f7f; text-decoration-color: #7f7f7f\">                   </span>\n",
       "<span style=\"color: #7fbfbf; text-decoration-color: #7fbfbf\">           </span>         yahpo/mo/rbv2_xgboost/<span style=\"color: #008080; text-decoration-color: #008080; font-weight: bold\">12</span>/<span style=\"color: #800080; text-decoration-color: #800080; font-style: italic\">None</span>         <span style=\"color: #008080; text-decoration-color: #008080; font-weight: bold\">0.040141</span>        NaN      <span style=\"color: #008080; text-decoration-color: #008080; font-weight: bold\">0.000009</span>     <span style=\"color: #7f7f7f; text-decoration-color: #7f7f7f\">                   </span>\n",
       "<span style=\"color: #7fbfbf; text-decoration-color: #7fbfbf\">           </span>         yahpo/mo/rbv2_xgboost/<span style=\"color: #008080; text-decoration-color: #008080; font-weight: bold\">182</span>/<span style=\"color: #800080; text-decoration-color: #800080; font-style: italic\">None</span>        <span style=\"color: #008080; text-decoration-color: #008080; font-weight: bold\">0.010498</span>        NaN      <span style=\"color: #008080; text-decoration-color: #008080; font-weight: bold\">0.000003</span>     <span style=\"color: #7f7f7f; text-decoration-color: #7f7f7f\">                   </span>\n",
       "<span style=\"color: #7fbfbf; text-decoration-color: #7fbfbf\">           </span>         yahpo/mo/rbv2_xgboost/<span style=\"color: #008080; text-decoration-color: #008080; font-weight: bold\">28</span>/<span style=\"color: #800080; text-decoration-color: #800080; font-style: italic\">None</span>         <span style=\"color: #008080; text-decoration-color: #008080; font-weight: bold\">0.007840</span>        NaN      <span style=\"color: #008080; text-decoration-color: #008080; font-weight: bold\">0.000001</span>     <span style=\"color: #7f7f7f; text-decoration-color: #7f7f7f\">                   </span>\n",
       "</pre>\n"
      ],
      "text/plain": [
       "\u001b[2;36m[19:03:03]\u001b[0m\u001b[2;36m \u001b[0m\u001b[34mINFO    \u001b[0m Lost following experiments: optimizer_id                      Nevergrad-DE  \u001b]8;id=916192;file:///home/numina/Documents/repos/CARP-S-Experiments/lib/CARP-S/carps/analysis/run_autorank.py\u001b\\\u001b[2mrun_autorank.py\u001b[0m\u001b]8;;\u001b\\\u001b[2m:\u001b[0m\u001b]8;id=902873;file:///home/numina/Documents/repos/CARP-S-Experiments/lib/CARP-S/carps/analysis/run_autorank.py#113\u001b\\\u001b[2m113\u001b[0m\u001b]8;;\u001b\\\n",
       "\u001b[2;36m           \u001b[0m         Optuna-MO  RandomSearch                                                     \u001b[2m                   \u001b[0m\n",
       "\u001b[2;36m           \u001b[0m         problem_id                                                                  \u001b[2m                   \u001b[0m\n",
       "\u001b[2;36m           \u001b[0m         yahpo/mo/iaml_ranger/\u001b[1;36m1067\u001b[0m/\u001b[3;35mNone\u001b[0m        \u001b[1;36m0.336826\u001b[0m        NaN      \u001b[1;36m0.217303\u001b[0m     \u001b[2m                   \u001b[0m\n",
       "\u001b[2;36m           \u001b[0m         yahpo/mo/iaml_ranger/\u001b[1;36m1489\u001b[0m/\u001b[3;35mNone\u001b[0m        \u001b[1;36m0.174604\u001b[0m        NaN      \u001b[1;36m0.004866\u001b[0m     \u001b[2m                   \u001b[0m\n",
       "\u001b[2;36m           \u001b[0m         yahpo/mo/iaml_super/\u001b[1;36m1067\u001b[0m/\u001b[3;35mNone\u001b[0m              NaN        NaN      \u001b[1;36m0.000075\u001b[0m     \u001b[2m                   \u001b[0m\n",
       "\u001b[2;36m           \u001b[0m         yahpo/mo/iaml_xgboost/\u001b[1;36m40981\u001b[0m/\u001b[3;35mNone\u001b[0m      \u001b[1;36m0.201979\u001b[0m        NaN      \u001b[1;36m0.001476\u001b[0m     \u001b[2m                   \u001b[0m\n",
       "\u001b[2;36m           \u001b[0m         yahpo/mo/rbv2_ranger/\u001b[1;36m375\u001b[0m/\u001b[3;35mNone\u001b[0m         \u001b[1;36m0.218806\u001b[0m        NaN      \u001b[1;36m0.049281\u001b[0m     \u001b[2m                   \u001b[0m\n",
       "\u001b[2;36m           \u001b[0m         yahpo/mo/rbv2_ranger/\u001b[1;36m40979\u001b[0m/\u001b[3;35mNone\u001b[0m       \u001b[1;36m0.197883\u001b[0m        NaN      \u001b[1;36m0.067001\u001b[0m     \u001b[2m                   \u001b[0m\n",
       "\u001b[2;36m           \u001b[0m         yahpo/mo/rbv2_super/\u001b[1;36m6\u001b[0m/\u001b[3;35mNone\u001b[0m                 NaN        NaN      \u001b[1;36m0.000088\u001b[0m     \u001b[2m                   \u001b[0m\n",
       "\u001b[2;36m           \u001b[0m         yahpo/mo/rbv2_xgboost/\u001b[1;36m12\u001b[0m/\u001b[3;35mNone\u001b[0m         \u001b[1;36m0.040141\u001b[0m        NaN      \u001b[1;36m0.000009\u001b[0m     \u001b[2m                   \u001b[0m\n",
       "\u001b[2;36m           \u001b[0m         yahpo/mo/rbv2_xgboost/\u001b[1;36m182\u001b[0m/\u001b[3;35mNone\u001b[0m        \u001b[1;36m0.010498\u001b[0m        NaN      \u001b[1;36m0.000003\u001b[0m     \u001b[2m                   \u001b[0m\n",
       "\u001b[2;36m           \u001b[0m         yahpo/mo/rbv2_xgboost/\u001b[1;36m28\u001b[0m/\u001b[3;35mNone\u001b[0m         \u001b[1;36m0.007840\u001b[0m        NaN      \u001b[1;36m0.000001\u001b[0m     \u001b[2m                   \u001b[0m\n"
      ]
     },
     "metadata": {},
     "output_type": "display_data"
    },
    {
     "name": "stdout",
     "output_type": "stream",
     "text": [
      "Rejecting null hypothesis that data is normal for column Nevergrad-DE (p=0.000000<0.016667)\n",
      "Rejecting null hypothesis that data is normal for column Optuna-MO (p=0.000000<0.016667)\n",
      "Rejecting null hypothesis that data is normal for column RandomSearch (p=0.000000<0.016667)\n",
      "Using Friedman test as omnibus test\n",
      "Rejecting null hypothesis that there is no difference between the distributions (p=0.000133)\n",
      "Using Nemenyi post-hoc test. Differences are significant,if the distance between the mean ranks is greater than the critical distance.\n",
      "              meanrank    median       mad  ci_lower  ci_upper effect_size  \\\n",
      "Nevergrad-DE  1.658537  0.007844  0.007586  0.002258  0.037349         0.0   \n",
      "Optuna-MO     2.024390  0.009226  0.009157  0.003648  0.052571   -0.110899   \n",
      "RandomSearch  2.317073  0.011237  0.010404  0.004708  0.051639   -0.251354   \n",
      "\n",
      "               magnitude  \n",
      "Nevergrad-DE  negligible  \n",
      "Optuna-MO     negligible  \n",
      "RandomSearch       small  \n"
     ]
    },
    {
     "name": "stderr",
     "output_type": "stream",
     "text": [
      "/home/numina/micromamba/envs/carpsexp/lib/python3.11/site-packages/autorank/_util.py:432: FutureWarning: Series.__getitem__ treating keys as positions is deprecated. In a future version, integer keys will always be treated as labels (consistent with DataFrame behavior). To access a value by position, use `ser.iloc[pos]`\n",
      "  if abs(sorted_ranks[i] - sorted_ranks[j]) <= critical_difference:\n"
     ]
    },
    {
     "data": {
      "text/html": [
       "<pre style=\"white-space:pre;overflow-x:auto;line-height:normal;font-family:Menlo,'DejaVu Sans Mono',consolas,'Courier New',monospace\"><span style=\"color: #7fbfbf; text-decoration-color: #7fbfbf\">[19:03:04] </span><span style=\"color: #000080; text-decoration-color: #000080\">INFO    </span> Lost following experiments: optimizer_id                      Nevergrad-DE  <a href=\"file:///home/numina/Documents/repos/CARP-S-Experiments/lib/CARP-S/carps/analysis/run_autorank.py\" target=\"_blank\"><span style=\"color: #7f7f7f; text-decoration-color: #7f7f7f\">run_autorank.py</span></a><span style=\"color: #7f7f7f; text-decoration-color: #7f7f7f\">:</span><a href=\"file:///home/numina/Documents/repos/CARP-S-Experiments/lib/CARP-S/carps/analysis/run_autorank.py#113\" target=\"_blank\"><span style=\"color: #7f7f7f; text-decoration-color: #7f7f7f\">113</span></a>\n",
       "<span style=\"color: #7fbfbf; text-decoration-color: #7fbfbf\">           </span>         Optuna-MO  RandomSearch                                                     <span style=\"color: #7f7f7f; text-decoration-color: #7f7f7f\">                   </span>\n",
       "<span style=\"color: #7fbfbf; text-decoration-color: #7fbfbf\">           </span>         problem_id                                                                  <span style=\"color: #7f7f7f; text-decoration-color: #7f7f7f\">                   </span>\n",
       "<span style=\"color: #7fbfbf; text-decoration-color: #7fbfbf\">           </span>         yahpo/mo/iaml_ranger/<span style=\"color: #008080; text-decoration-color: #008080; font-weight: bold\">1489</span>/<span style=\"color: #800080; text-decoration-color: #800080; font-style: italic\">None</span>        <span style=\"color: #008080; text-decoration-color: #008080; font-weight: bold\">0.174604</span>        NaN      <span style=\"color: #008080; text-decoration-color: #008080; font-weight: bold\">0.004866</span>     <span style=\"color: #7f7f7f; text-decoration-color: #7f7f7f\">                   </span>\n",
       "<span style=\"color: #7fbfbf; text-decoration-color: #7fbfbf\">           </span>         yahpo/mo/iaml_super/<span style=\"color: #008080; text-decoration-color: #008080; font-weight: bold\">1067</span>/<span style=\"color: #800080; text-decoration-color: #800080; font-style: italic\">None</span>              NaN        NaN      <span style=\"color: #008080; text-decoration-color: #008080; font-weight: bold\">0.000075</span>     <span style=\"color: #7f7f7f; text-decoration-color: #7f7f7f\">                   </span>\n",
       "<span style=\"color: #7fbfbf; text-decoration-color: #7fbfbf\">           </span>         yahpo/mo/iaml_xgboost/<span style=\"color: #008080; text-decoration-color: #008080; font-weight: bold\">1489</span>/<span style=\"color: #800080; text-decoration-color: #800080; font-style: italic\">None</span>       <span style=\"color: #008080; text-decoration-color: #008080; font-weight: bold\">0.203513</span>        NaN      <span style=\"color: #008080; text-decoration-color: #008080; font-weight: bold\">0.000394</span>     <span style=\"color: #7f7f7f; text-decoration-color: #7f7f7f\">                   </span>\n",
       "<span style=\"color: #7fbfbf; text-decoration-color: #7fbfbf\">           </span>         yahpo/mo/iaml_xgboost/<span style=\"color: #008080; text-decoration-color: #008080; font-weight: bold\">40981</span>/<span style=\"color: #800080; text-decoration-color: #800080; font-style: italic\">None</span>      <span style=\"color: #008080; text-decoration-color: #008080; font-weight: bold\">0.201979</span>        NaN      <span style=\"color: #008080; text-decoration-color: #008080; font-weight: bold\">0.001476</span>     <span style=\"color: #7f7f7f; text-decoration-color: #7f7f7f\">                   </span>\n",
       "<span style=\"color: #7fbfbf; text-decoration-color: #7fbfbf\">           </span>         yahpo/mo/rbv2_ranger/<span style=\"color: #008080; text-decoration-color: #008080; font-weight: bold\">6</span>/<span style=\"color: #800080; text-decoration-color: #800080; font-style: italic\">None</span>           <span style=\"color: #008080; text-decoration-color: #008080; font-weight: bold\">0.110805</span>        NaN      <span style=\"color: #008080; text-decoration-color: #008080; font-weight: bold\">0.017989</span>     <span style=\"color: #7f7f7f; text-decoration-color: #7f7f7f\">                   </span>\n",
       "<span style=\"color: #7fbfbf; text-decoration-color: #7fbfbf\">           </span>         yahpo/mo/rbv2_super/<span style=\"color: #008080; text-decoration-color: #008080; font-weight: bold\">1053</span>/<span style=\"color: #800080; text-decoration-color: #800080; font-style: italic\">None</span>              NaN        NaN      <span style=\"color: #008080; text-decoration-color: #008080; font-weight: bold\">0.005830</span>     <span style=\"color: #7f7f7f; text-decoration-color: #7f7f7f\">                   </span>\n",
       "<span style=\"color: #7fbfbf; text-decoration-color: #7fbfbf\">           </span>         yahpo/mo/rbv2_super/<span style=\"color: #008080; text-decoration-color: #008080; font-weight: bold\">6</span>/<span style=\"color: #800080; text-decoration-color: #800080; font-style: italic\">None</span>                 NaN        NaN      <span style=\"color: #008080; text-decoration-color: #008080; font-weight: bold\">0.000088</span>     <span style=\"color: #7f7f7f; text-decoration-color: #7f7f7f\">                   </span>\n",
       "<span style=\"color: #7fbfbf; text-decoration-color: #7fbfbf\">           </span>         yahpo/mo/rbv2_xgboost/<span style=\"color: #008080; text-decoration-color: #008080; font-weight: bold\">12</span>/<span style=\"color: #800080; text-decoration-color: #800080; font-style: italic\">None</span>         <span style=\"color: #008080; text-decoration-color: #008080; font-weight: bold\">0.040141</span>        NaN      <span style=\"color: #008080; text-decoration-color: #008080; font-weight: bold\">0.000009</span>     <span style=\"color: #7f7f7f; text-decoration-color: #7f7f7f\">                   </span>\n",
       "<span style=\"color: #7fbfbf; text-decoration-color: #7fbfbf\">           </span>         yahpo/mo/rbv2_xgboost/<span style=\"color: #008080; text-decoration-color: #008080; font-weight: bold\">28</span>/<span style=\"color: #800080; text-decoration-color: #800080; font-style: italic\">None</span>         <span style=\"color: #008080; text-decoration-color: #008080; font-weight: bold\">0.007840</span>        NaN      <span style=\"color: #008080; text-decoration-color: #008080; font-weight: bold\">0.000001</span>     <span style=\"color: #7f7f7f; text-decoration-color: #7f7f7f\">                   </span>\n",
       "</pre>\n"
      ],
      "text/plain": [
       "\u001b[2;36m[19:03:04]\u001b[0m\u001b[2;36m \u001b[0m\u001b[34mINFO    \u001b[0m Lost following experiments: optimizer_id                      Nevergrad-DE  \u001b]8;id=293738;file:///home/numina/Documents/repos/CARP-S-Experiments/lib/CARP-S/carps/analysis/run_autorank.py\u001b\\\u001b[2mrun_autorank.py\u001b[0m\u001b]8;;\u001b\\\u001b[2m:\u001b[0m\u001b]8;id=202906;file:///home/numina/Documents/repos/CARP-S-Experiments/lib/CARP-S/carps/analysis/run_autorank.py#113\u001b\\\u001b[2m113\u001b[0m\u001b]8;;\u001b\\\n",
       "\u001b[2;36m           \u001b[0m         Optuna-MO  RandomSearch                                                     \u001b[2m                   \u001b[0m\n",
       "\u001b[2;36m           \u001b[0m         problem_id                                                                  \u001b[2m                   \u001b[0m\n",
       "\u001b[2;36m           \u001b[0m         yahpo/mo/iaml_ranger/\u001b[1;36m1489\u001b[0m/\u001b[3;35mNone\u001b[0m        \u001b[1;36m0.174604\u001b[0m        NaN      \u001b[1;36m0.004866\u001b[0m     \u001b[2m                   \u001b[0m\n",
       "\u001b[2;36m           \u001b[0m         yahpo/mo/iaml_super/\u001b[1;36m1067\u001b[0m/\u001b[3;35mNone\u001b[0m              NaN        NaN      \u001b[1;36m0.000075\u001b[0m     \u001b[2m                   \u001b[0m\n",
       "\u001b[2;36m           \u001b[0m         yahpo/mo/iaml_xgboost/\u001b[1;36m1489\u001b[0m/\u001b[3;35mNone\u001b[0m       \u001b[1;36m0.203513\u001b[0m        NaN      \u001b[1;36m0.000394\u001b[0m     \u001b[2m                   \u001b[0m\n",
       "\u001b[2;36m           \u001b[0m         yahpo/mo/iaml_xgboost/\u001b[1;36m40981\u001b[0m/\u001b[3;35mNone\u001b[0m      \u001b[1;36m0.201979\u001b[0m        NaN      \u001b[1;36m0.001476\u001b[0m     \u001b[2m                   \u001b[0m\n",
       "\u001b[2;36m           \u001b[0m         yahpo/mo/rbv2_ranger/\u001b[1;36m6\u001b[0m/\u001b[3;35mNone\u001b[0m           \u001b[1;36m0.110805\u001b[0m        NaN      \u001b[1;36m0.017989\u001b[0m     \u001b[2m                   \u001b[0m\n",
       "\u001b[2;36m           \u001b[0m         yahpo/mo/rbv2_super/\u001b[1;36m1053\u001b[0m/\u001b[3;35mNone\u001b[0m              NaN        NaN      \u001b[1;36m0.005830\u001b[0m     \u001b[2m                   \u001b[0m\n",
       "\u001b[2;36m           \u001b[0m         yahpo/mo/rbv2_super/\u001b[1;36m6\u001b[0m/\u001b[3;35mNone\u001b[0m                 NaN        NaN      \u001b[1;36m0.000088\u001b[0m     \u001b[2m                   \u001b[0m\n",
       "\u001b[2;36m           \u001b[0m         yahpo/mo/rbv2_xgboost/\u001b[1;36m12\u001b[0m/\u001b[3;35mNone\u001b[0m         \u001b[1;36m0.040141\u001b[0m        NaN      \u001b[1;36m0.000009\u001b[0m     \u001b[2m                   \u001b[0m\n",
       "\u001b[2;36m           \u001b[0m         yahpo/mo/rbv2_xgboost/\u001b[1;36m28\u001b[0m/\u001b[3;35mNone\u001b[0m         \u001b[1;36m0.007840\u001b[0m        NaN      \u001b[1;36m0.000001\u001b[0m     \u001b[2m                   \u001b[0m\n"
      ]
     },
     "metadata": {},
     "output_type": "display_data"
    },
    {
     "name": "stdout",
     "output_type": "stream",
     "text": [
      "Rejecting null hypothesis that data is normal for column Nevergrad-DE (p=0.000000<0.016667)\n",
      "Rejecting null hypothesis that data is normal for column Optuna-MO (p=0.000000<0.016667)\n",
      "Rejecting null hypothesis that data is normal for column RandomSearch (p=0.000000<0.016667)\n",
      "Using Friedman test as omnibus test\n",
      "Rejecting null hypothesis that there is no difference between the distributions (p=0.003366)\n",
      "Using Nemenyi post-hoc test. Differences are significant,if the distance between the mean ranks is greater than the critical distance.\n",
      "              meanrank    median       mad  ci_lower  ci_upper effect_size  \\\n",
      "Nevergrad-DE  1.741176  0.007567  0.007364  0.002486  0.044524         0.0   \n",
      "Optuna-MO     2.000000  0.008597   0.00856  0.003011  0.052336   -0.087015   \n",
      "RandomSearch  2.258824  0.011200    0.0111  0.005451  0.060729   -0.260192   \n",
      "\n",
      "               magnitude  \n",
      "Nevergrad-DE  negligible  \n",
      "Optuna-MO     negligible  \n",
      "RandomSearch       small  \n"
     ]
    },
    {
     "name": "stderr",
     "output_type": "stream",
     "text": [
      "/home/numina/micromamba/envs/carpsexp/lib/python3.11/site-packages/autorank/_util.py:432: FutureWarning: Series.__getitem__ treating keys as positions is deprecated. In a future version, integer keys will always be treated as labels (consistent with DataFrame behavior). To access a value by position, use `ser.iloc[pos]`\n",
      "  if abs(sorted_ranks[i] - sorted_ranks[j]) <= critical_difference:\n"
     ]
    },
    {
     "data": {
      "text/html": [
       "<pre style=\"white-space:pre;overflow-x:auto;line-height:normal;font-family:Menlo,'DejaVu Sans Mono',consolas,'Courier New',monospace\"><span style=\"color: #7fbfbf; text-decoration-color: #7fbfbf\">[19:03:06] </span><span style=\"color: #000080; text-decoration-color: #000080\">INFO    </span> Lost following experiments: optimizer_id                      Nevergrad-DE  <a href=\"file:///home/numina/Documents/repos/CARP-S-Experiments/lib/CARP-S/carps/analysis/run_autorank.py\" target=\"_blank\"><span style=\"color: #7f7f7f; text-decoration-color: #7f7f7f\">run_autorank.py</span></a><span style=\"color: #7f7f7f; text-decoration-color: #7f7f7f\">:</span><a href=\"file:///home/numina/Documents/repos/CARP-S-Experiments/lib/CARP-S/carps/analysis/run_autorank.py#113\" target=\"_blank\"><span style=\"color: #7f7f7f; text-decoration-color: #7f7f7f\">113</span></a>\n",
       "<span style=\"color: #7fbfbf; text-decoration-color: #7fbfbf\">           </span>         Optuna-MO  RandomSearch                                                     <span style=\"color: #7f7f7f; text-decoration-color: #7f7f7f\">                   </span>\n",
       "<span style=\"color: #7fbfbf; text-decoration-color: #7fbfbf\">           </span>         problem_id                                                                  <span style=\"color: #7f7f7f; text-decoration-color: #7f7f7f\">                   </span>\n",
       "<span style=\"color: #7fbfbf; text-decoration-color: #7fbfbf\">           </span>         yahpo/mo/iaml_ranger/<span style=\"color: #008080; text-decoration-color: #008080; font-weight: bold\">1067</span>/<span style=\"color: #800080; text-decoration-color: #800080; font-style: italic\">None</span>        <span style=\"color: #008080; text-decoration-color: #008080; font-weight: bold\">0.336826</span>        NaN      <span style=\"color: #008080; text-decoration-color: #008080; font-weight: bold\">0.217303</span>     <span style=\"color: #7f7f7f; text-decoration-color: #7f7f7f\">                   </span>\n",
       "<span style=\"color: #7fbfbf; text-decoration-color: #7fbfbf\">           </span>         yahpo/mo/iaml_super/<span style=\"color: #008080; text-decoration-color: #008080; font-weight: bold\">1067</span>/<span style=\"color: #800080; text-decoration-color: #800080; font-style: italic\">None</span>              NaN        NaN      <span style=\"color: #008080; text-decoration-color: #008080; font-weight: bold\">0.000075</span>     <span style=\"color: #7f7f7f; text-decoration-color: #7f7f7f\">                   </span>\n",
       "<span style=\"color: #7fbfbf; text-decoration-color: #7fbfbf\">           </span>         yahpo/mo/iaml_super/<span style=\"color: #008080; text-decoration-color: #008080; font-weight: bold\">1489</span>/<span style=\"color: #800080; text-decoration-color: #800080; font-style: italic\">None</span>              NaN        NaN      <span style=\"color: #008080; text-decoration-color: #008080; font-weight: bold\">0.000240</span>     <span style=\"color: #7f7f7f; text-decoration-color: #7f7f7f\">                   </span>\n",
       "<span style=\"color: #7fbfbf; text-decoration-color: #7fbfbf\">           </span>         yahpo/mo/iaml_xgboost/<span style=\"color: #008080; text-decoration-color: #008080; font-weight: bold\">40981</span>/<span style=\"color: #800080; text-decoration-color: #800080; font-style: italic\">None</span>      <span style=\"color: #008080; text-decoration-color: #008080; font-weight: bold\">0.201979</span>        NaN      <span style=\"color: #008080; text-decoration-color: #008080; font-weight: bold\">0.001476</span>     <span style=\"color: #7f7f7f; text-decoration-color: #7f7f7f\">                   </span>\n",
       "<span style=\"color: #7fbfbf; text-decoration-color: #7fbfbf\">           </span>         yahpo/mo/rbv2_ranger/<span style=\"color: #008080; text-decoration-color: #008080; font-weight: bold\">375</span>/<span style=\"color: #800080; text-decoration-color: #800080; font-style: italic\">None</span>         <span style=\"color: #008080; text-decoration-color: #008080; font-weight: bold\">0.218806</span>        NaN      <span style=\"color: #008080; text-decoration-color: #008080; font-weight: bold\">0.049281</span>     <span style=\"color: #7f7f7f; text-decoration-color: #7f7f7f\">                   </span>\n",
       "<span style=\"color: #7fbfbf; text-decoration-color: #7fbfbf\">           </span>         yahpo/mo/rbv2_ranger/<span style=\"color: #008080; text-decoration-color: #008080; font-weight: bold\">40979</span>/<span style=\"color: #800080; text-decoration-color: #800080; font-style: italic\">None</span>       <span style=\"color: #008080; text-decoration-color: #008080; font-weight: bold\">0.197883</span>        NaN      <span style=\"color: #008080; text-decoration-color: #008080; font-weight: bold\">0.067001</span>     <span style=\"color: #7f7f7f; text-decoration-color: #7f7f7f\">                   </span>\n",
       "<span style=\"color: #7fbfbf; text-decoration-color: #7fbfbf\">           </span>         yahpo/mo/rbv2_ranger/<span style=\"color: #008080; text-decoration-color: #008080; font-weight: bold\">6</span>/<span style=\"color: #800080; text-decoration-color: #800080; font-style: italic\">None</span>           <span style=\"color: #008080; text-decoration-color: #008080; font-weight: bold\">0.110805</span>        NaN      <span style=\"color: #008080; text-decoration-color: #008080; font-weight: bold\">0.017989</span>     <span style=\"color: #7f7f7f; text-decoration-color: #7f7f7f\">                   </span>\n",
       "<span style=\"color: #7fbfbf; text-decoration-color: #7fbfbf\">           </span>         yahpo/mo/rbv2_super/<span style=\"color: #008080; text-decoration-color: #008080; font-weight: bold\">1457</span>/<span style=\"color: #800080; text-decoration-color: #800080; font-style: italic\">None</span>              NaN        NaN      <span style=\"color: #008080; text-decoration-color: #008080; font-weight: bold\">0.000074</span>     <span style=\"color: #7f7f7f; text-decoration-color: #7f7f7f\">                   </span>\n",
       "<span style=\"color: #7fbfbf; text-decoration-color: #7fbfbf\">           </span>         yahpo/mo/rbv2_super/<span style=\"color: #008080; text-decoration-color: #008080; font-weight: bold\">6</span>/<span style=\"color: #800080; text-decoration-color: #800080; font-style: italic\">None</span>                 NaN        NaN      <span style=\"color: #008080; text-decoration-color: #008080; font-weight: bold\">0.000088</span>     <span style=\"color: #7f7f7f; text-decoration-color: #7f7f7f\">                   </span>\n",
       "<span style=\"color: #7fbfbf; text-decoration-color: #7fbfbf\">           </span>         yahpo/mo/rbv2_xgboost/<span style=\"color: #008080; text-decoration-color: #008080; font-weight: bold\">182</span>/<span style=\"color: #800080; text-decoration-color: #800080; font-style: italic\">None</span>        <span style=\"color: #008080; text-decoration-color: #008080; font-weight: bold\">0.010498</span>        NaN      <span style=\"color: #008080; text-decoration-color: #008080; font-weight: bold\">0.000003</span>     <span style=\"color: #7f7f7f; text-decoration-color: #7f7f7f\">                   </span>\n",
       "</pre>\n"
      ],
      "text/plain": [
       "\u001b[2;36m[19:03:06]\u001b[0m\u001b[2;36m \u001b[0m\u001b[34mINFO    \u001b[0m Lost following experiments: optimizer_id                      Nevergrad-DE  \u001b]8;id=705652;file:///home/numina/Documents/repos/CARP-S-Experiments/lib/CARP-S/carps/analysis/run_autorank.py\u001b\\\u001b[2mrun_autorank.py\u001b[0m\u001b]8;;\u001b\\\u001b[2m:\u001b[0m\u001b]8;id=131495;file:///home/numina/Documents/repos/CARP-S-Experiments/lib/CARP-S/carps/analysis/run_autorank.py#113\u001b\\\u001b[2m113\u001b[0m\u001b]8;;\u001b\\\n",
       "\u001b[2;36m           \u001b[0m         Optuna-MO  RandomSearch                                                     \u001b[2m                   \u001b[0m\n",
       "\u001b[2;36m           \u001b[0m         problem_id                                                                  \u001b[2m                   \u001b[0m\n",
       "\u001b[2;36m           \u001b[0m         yahpo/mo/iaml_ranger/\u001b[1;36m1067\u001b[0m/\u001b[3;35mNone\u001b[0m        \u001b[1;36m0.336826\u001b[0m        NaN      \u001b[1;36m0.217303\u001b[0m     \u001b[2m                   \u001b[0m\n",
       "\u001b[2;36m           \u001b[0m         yahpo/mo/iaml_super/\u001b[1;36m1067\u001b[0m/\u001b[3;35mNone\u001b[0m              NaN        NaN      \u001b[1;36m0.000075\u001b[0m     \u001b[2m                   \u001b[0m\n",
       "\u001b[2;36m           \u001b[0m         yahpo/mo/iaml_super/\u001b[1;36m1489\u001b[0m/\u001b[3;35mNone\u001b[0m              NaN        NaN      \u001b[1;36m0.000240\u001b[0m     \u001b[2m                   \u001b[0m\n",
       "\u001b[2;36m           \u001b[0m         yahpo/mo/iaml_xgboost/\u001b[1;36m40981\u001b[0m/\u001b[3;35mNone\u001b[0m      \u001b[1;36m0.201979\u001b[0m        NaN      \u001b[1;36m0.001476\u001b[0m     \u001b[2m                   \u001b[0m\n",
       "\u001b[2;36m           \u001b[0m         yahpo/mo/rbv2_ranger/\u001b[1;36m375\u001b[0m/\u001b[3;35mNone\u001b[0m         \u001b[1;36m0.218806\u001b[0m        NaN      \u001b[1;36m0.049281\u001b[0m     \u001b[2m                   \u001b[0m\n",
       "\u001b[2;36m           \u001b[0m         yahpo/mo/rbv2_ranger/\u001b[1;36m40979\u001b[0m/\u001b[3;35mNone\u001b[0m       \u001b[1;36m0.197883\u001b[0m        NaN      \u001b[1;36m0.067001\u001b[0m     \u001b[2m                   \u001b[0m\n",
       "\u001b[2;36m           \u001b[0m         yahpo/mo/rbv2_ranger/\u001b[1;36m6\u001b[0m/\u001b[3;35mNone\u001b[0m           \u001b[1;36m0.110805\u001b[0m        NaN      \u001b[1;36m0.017989\u001b[0m     \u001b[2m                   \u001b[0m\n",
       "\u001b[2;36m           \u001b[0m         yahpo/mo/rbv2_super/\u001b[1;36m1457\u001b[0m/\u001b[3;35mNone\u001b[0m              NaN        NaN      \u001b[1;36m0.000074\u001b[0m     \u001b[2m                   \u001b[0m\n",
       "\u001b[2;36m           \u001b[0m         yahpo/mo/rbv2_super/\u001b[1;36m6\u001b[0m/\u001b[3;35mNone\u001b[0m                 NaN        NaN      \u001b[1;36m0.000088\u001b[0m     \u001b[2m                   \u001b[0m\n",
       "\u001b[2;36m           \u001b[0m         yahpo/mo/rbv2_xgboost/\u001b[1;36m182\u001b[0m/\u001b[3;35mNone\u001b[0m        \u001b[1;36m0.010498\u001b[0m        NaN      \u001b[1;36m0.000003\u001b[0m     \u001b[2m                   \u001b[0m\n"
      ]
     },
     "metadata": {},
     "output_type": "display_data"
    },
    {
     "name": "stdout",
     "output_type": "stream",
     "text": [
      "Rejecting null hypothesis that data is normal for column Nevergrad-DE (p=0.000000<0.016667)\n",
      "Rejecting null hypothesis that data is normal for column Optuna-MO (p=0.000000<0.016667)\n",
      "Rejecting null hypothesis that data is normal for column RandomSearch (p=0.000000<0.016667)\n",
      "Using Friedman test as omnibus test\n",
      "Rejecting null hypothesis that there is no difference between the distributions (p=0.000188)\n",
      "Using Nemenyi post-hoc test. Differences are significant,if the distance between the mean ranks is greater than the critical distance.\n",
      "              meanrank    median       mad  ci_lower  ci_upper effect_size  \\\n",
      "Nevergrad-DE  1.682353  0.007503  0.007291  0.002258  0.046377         0.0   \n",
      "Optuna-MO     2.000000  0.009487   0.00945  0.004593  0.053638   -0.158516   \n",
      "RandomSearch  2.317647  0.011200  0.010888  0.005519  0.060899   -0.269132   \n",
      "\n",
      "               magnitude  \n",
      "Nevergrad-DE  negligible  \n",
      "Optuna-MO     negligible  \n",
      "RandomSearch       small  \n"
     ]
    },
    {
     "name": "stderr",
     "output_type": "stream",
     "text": [
      "/home/numina/micromamba/envs/carpsexp/lib/python3.11/site-packages/autorank/_util.py:432: FutureWarning: Series.__getitem__ treating keys as positions is deprecated. In a future version, integer keys will always be treated as labels (consistent with DataFrame behavior). To access a value by position, use `ser.iloc[pos]`\n",
      "  if abs(sorted_ranks[i] - sorted_ranks[j]) <= critical_difference:\n"
     ]
    },
    {
     "data": {
      "text/html": [
       "<pre style=\"white-space:pre;overflow-x:auto;line-height:normal;font-family:Menlo,'DejaVu Sans Mono',consolas,'Courier New',monospace\"><span style=\"color: #7fbfbf; text-decoration-color: #7fbfbf\">[19:03:07] </span><span style=\"color: #000080; text-decoration-color: #000080\">INFO    </span> Lost following experiments: optimizer_id                      Nevergrad-DE  <a href=\"file:///home/numina/Documents/repos/CARP-S-Experiments/lib/CARP-S/carps/analysis/run_autorank.py\" target=\"_blank\"><span style=\"color: #7f7f7f; text-decoration-color: #7f7f7f\">run_autorank.py</span></a><span style=\"color: #7f7f7f; text-decoration-color: #7f7f7f\">:</span><a href=\"file:///home/numina/Documents/repos/CARP-S-Experiments/lib/CARP-S/carps/analysis/run_autorank.py#113\" target=\"_blank\"><span style=\"color: #7f7f7f; text-decoration-color: #7f7f7f\">113</span></a>\n",
       "<span style=\"color: #7fbfbf; text-decoration-color: #7fbfbf\">           </span>         Optuna-MO  RandomSearch                                                     <span style=\"color: #7f7f7f; text-decoration-color: #7f7f7f\">                   </span>\n",
       "<span style=\"color: #7fbfbf; text-decoration-color: #7fbfbf\">           </span>         problem_id                                                                  <span style=\"color: #7f7f7f; text-decoration-color: #7f7f7f\">                   </span>\n",
       "<span style=\"color: #7fbfbf; text-decoration-color: #7fbfbf\">           </span>         yahpo/mo/iaml_ranger/<span style=\"color: #008080; text-decoration-color: #008080; font-weight: bold\">1067</span>/<span style=\"color: #800080; text-decoration-color: #800080; font-style: italic\">None</span>        <span style=\"color: #008080; text-decoration-color: #008080; font-weight: bold\">0.336826</span>        NaN      <span style=\"color: #008080; text-decoration-color: #008080; font-weight: bold\">0.217303</span>     <span style=\"color: #7f7f7f; text-decoration-color: #7f7f7f\">                   </span>\n",
       "<span style=\"color: #7fbfbf; text-decoration-color: #7fbfbf\">           </span>         yahpo/mo/iaml_super/<span style=\"color: #008080; text-decoration-color: #008080; font-weight: bold\">1067</span>/<span style=\"color: #800080; text-decoration-color: #800080; font-style: italic\">None</span>              NaN        NaN      <span style=\"color: #008080; text-decoration-color: #008080; font-weight: bold\">0.000075</span>     <span style=\"color: #7f7f7f; text-decoration-color: #7f7f7f\">                   </span>\n",
       "<span style=\"color: #7fbfbf; text-decoration-color: #7fbfbf\">           </span>         yahpo/mo/iaml_super/<span style=\"color: #008080; text-decoration-color: #008080; font-weight: bold\">1489</span>/<span style=\"color: #800080; text-decoration-color: #800080; font-style: italic\">None</span>              NaN        NaN      <span style=\"color: #008080; text-decoration-color: #008080; font-weight: bold\">0.000240</span>     <span style=\"color: #7f7f7f; text-decoration-color: #7f7f7f\">                   </span>\n",
       "<span style=\"color: #7fbfbf; text-decoration-color: #7fbfbf\">           </span>         yahpo/mo/iaml_xgboost/<span style=\"color: #008080; text-decoration-color: #008080; font-weight: bold\">1489</span>/<span style=\"color: #800080; text-decoration-color: #800080; font-style: italic\">None</span>       <span style=\"color: #008080; text-decoration-color: #008080; font-weight: bold\">0.203513</span>        NaN      <span style=\"color: #008080; text-decoration-color: #008080; font-weight: bold\">0.000394</span>     <span style=\"color: #7f7f7f; text-decoration-color: #7f7f7f\">                   </span>\n",
       "<span style=\"color: #7fbfbf; text-decoration-color: #7fbfbf\">           </span>         yahpo/mo/iaml_xgboost/<span style=\"color: #008080; text-decoration-color: #008080; font-weight: bold\">40981</span>/<span style=\"color: #800080; text-decoration-color: #800080; font-style: italic\">None</span>      <span style=\"color: #008080; text-decoration-color: #008080; font-weight: bold\">0.201979</span>        NaN      <span style=\"color: #008080; text-decoration-color: #008080; font-weight: bold\">0.001476</span>     <span style=\"color: #7f7f7f; text-decoration-color: #7f7f7f\">                   </span>\n",
       "<span style=\"color: #7fbfbf; text-decoration-color: #7fbfbf\">           </span>         yahpo/mo/rbv2_ranger/<span style=\"color: #008080; text-decoration-color: #008080; font-weight: bold\">375</span>/<span style=\"color: #800080; text-decoration-color: #800080; font-style: italic\">None</span>         <span style=\"color: #008080; text-decoration-color: #008080; font-weight: bold\">0.218806</span>        NaN      <span style=\"color: #008080; text-decoration-color: #008080; font-weight: bold\">0.049281</span>     <span style=\"color: #7f7f7f; text-decoration-color: #7f7f7f\">                   </span>\n",
       "<span style=\"color: #7fbfbf; text-decoration-color: #7fbfbf\">           </span>         yahpo/mo/rbv2_ranger/<span style=\"color: #008080; text-decoration-color: #008080; font-weight: bold\">40979</span>/<span style=\"color: #800080; text-decoration-color: #800080; font-style: italic\">None</span>       <span style=\"color: #008080; text-decoration-color: #008080; font-weight: bold\">0.197883</span>        NaN      <span style=\"color: #008080; text-decoration-color: #008080; font-weight: bold\">0.067001</span>     <span style=\"color: #7f7f7f; text-decoration-color: #7f7f7f\">                   </span>\n",
       "<span style=\"color: #7fbfbf; text-decoration-color: #7fbfbf\">           </span>         yahpo/mo/rbv2_ranger/<span style=\"color: #008080; text-decoration-color: #008080; font-weight: bold\">6</span>/<span style=\"color: #800080; text-decoration-color: #800080; font-style: italic\">None</span>           <span style=\"color: #008080; text-decoration-color: #008080; font-weight: bold\">0.110805</span>        NaN      <span style=\"color: #008080; text-decoration-color: #008080; font-weight: bold\">0.017989</span>     <span style=\"color: #7f7f7f; text-decoration-color: #7f7f7f\">                   </span>\n",
       "<span style=\"color: #7fbfbf; text-decoration-color: #7fbfbf\">           </span>         yahpo/mo/rbv2_super/<span style=\"color: #008080; text-decoration-color: #008080; font-weight: bold\">1457</span>/<span style=\"color: #800080; text-decoration-color: #800080; font-style: italic\">None</span>              NaN        NaN      <span style=\"color: #008080; text-decoration-color: #008080; font-weight: bold\">0.000074</span>     <span style=\"color: #7f7f7f; text-decoration-color: #7f7f7f\">                   </span>\n",
       "<span style=\"color: #7fbfbf; text-decoration-color: #7fbfbf\">           </span>         yahpo/mo/rbv2_xgboost/<span style=\"color: #008080; text-decoration-color: #008080; font-weight: bold\">12</span>/<span style=\"color: #800080; text-decoration-color: #800080; font-style: italic\">None</span>         <span style=\"color: #008080; text-decoration-color: #008080; font-weight: bold\">0.040141</span>        NaN      <span style=\"color: #008080; text-decoration-color: #008080; font-weight: bold\">0.000009</span>     <span style=\"color: #7f7f7f; text-decoration-color: #7f7f7f\">                   </span>\n",
       "<span style=\"color: #7fbfbf; text-decoration-color: #7fbfbf\">           </span>         yahpo/mo/rbv2_xgboost/<span style=\"color: #008080; text-decoration-color: #008080; font-weight: bold\">182</span>/<span style=\"color: #800080; text-decoration-color: #800080; font-style: italic\">None</span>        <span style=\"color: #008080; text-decoration-color: #008080; font-weight: bold\">0.010498</span>        NaN      <span style=\"color: #008080; text-decoration-color: #008080; font-weight: bold\">0.000003</span>     <span style=\"color: #7f7f7f; text-decoration-color: #7f7f7f\">                   </span>\n",
       "<span style=\"color: #7fbfbf; text-decoration-color: #7fbfbf\">           </span>         yahpo/mo/rbv2_xgboost/<span style=\"color: #008080; text-decoration-color: #008080; font-weight: bold\">28</span>/<span style=\"color: #800080; text-decoration-color: #800080; font-style: italic\">None</span>         <span style=\"color: #008080; text-decoration-color: #008080; font-weight: bold\">0.007840</span>        NaN      <span style=\"color: #008080; text-decoration-color: #008080; font-weight: bold\">0.000001</span>     <span style=\"color: #7f7f7f; text-decoration-color: #7f7f7f\">                   </span>\n",
       "</pre>\n"
      ],
      "text/plain": [
       "\u001b[2;36m[19:03:07]\u001b[0m\u001b[2;36m \u001b[0m\u001b[34mINFO    \u001b[0m Lost following experiments: optimizer_id                      Nevergrad-DE  \u001b]8;id=401721;file:///home/numina/Documents/repos/CARP-S-Experiments/lib/CARP-S/carps/analysis/run_autorank.py\u001b\\\u001b[2mrun_autorank.py\u001b[0m\u001b]8;;\u001b\\\u001b[2m:\u001b[0m\u001b]8;id=685082;file:///home/numina/Documents/repos/CARP-S-Experiments/lib/CARP-S/carps/analysis/run_autorank.py#113\u001b\\\u001b[2m113\u001b[0m\u001b]8;;\u001b\\\n",
       "\u001b[2;36m           \u001b[0m         Optuna-MO  RandomSearch                                                     \u001b[2m                   \u001b[0m\n",
       "\u001b[2;36m           \u001b[0m         problem_id                                                                  \u001b[2m                   \u001b[0m\n",
       "\u001b[2;36m           \u001b[0m         yahpo/mo/iaml_ranger/\u001b[1;36m1067\u001b[0m/\u001b[3;35mNone\u001b[0m        \u001b[1;36m0.336826\u001b[0m        NaN      \u001b[1;36m0.217303\u001b[0m     \u001b[2m                   \u001b[0m\n",
       "\u001b[2;36m           \u001b[0m         yahpo/mo/iaml_super/\u001b[1;36m1067\u001b[0m/\u001b[3;35mNone\u001b[0m              NaN        NaN      \u001b[1;36m0.000075\u001b[0m     \u001b[2m                   \u001b[0m\n",
       "\u001b[2;36m           \u001b[0m         yahpo/mo/iaml_super/\u001b[1;36m1489\u001b[0m/\u001b[3;35mNone\u001b[0m              NaN        NaN      \u001b[1;36m0.000240\u001b[0m     \u001b[2m                   \u001b[0m\n",
       "\u001b[2;36m           \u001b[0m         yahpo/mo/iaml_xgboost/\u001b[1;36m1489\u001b[0m/\u001b[3;35mNone\u001b[0m       \u001b[1;36m0.203513\u001b[0m        NaN      \u001b[1;36m0.000394\u001b[0m     \u001b[2m                   \u001b[0m\n",
       "\u001b[2;36m           \u001b[0m         yahpo/mo/iaml_xgboost/\u001b[1;36m40981\u001b[0m/\u001b[3;35mNone\u001b[0m      \u001b[1;36m0.201979\u001b[0m        NaN      \u001b[1;36m0.001476\u001b[0m     \u001b[2m                   \u001b[0m\n",
       "\u001b[2;36m           \u001b[0m         yahpo/mo/rbv2_ranger/\u001b[1;36m375\u001b[0m/\u001b[3;35mNone\u001b[0m         \u001b[1;36m0.218806\u001b[0m        NaN      \u001b[1;36m0.049281\u001b[0m     \u001b[2m                   \u001b[0m\n",
       "\u001b[2;36m           \u001b[0m         yahpo/mo/rbv2_ranger/\u001b[1;36m40979\u001b[0m/\u001b[3;35mNone\u001b[0m       \u001b[1;36m0.197883\u001b[0m        NaN      \u001b[1;36m0.067001\u001b[0m     \u001b[2m                   \u001b[0m\n",
       "\u001b[2;36m           \u001b[0m         yahpo/mo/rbv2_ranger/\u001b[1;36m6\u001b[0m/\u001b[3;35mNone\u001b[0m           \u001b[1;36m0.110805\u001b[0m        NaN      \u001b[1;36m0.017989\u001b[0m     \u001b[2m                   \u001b[0m\n",
       "\u001b[2;36m           \u001b[0m         yahpo/mo/rbv2_super/\u001b[1;36m1457\u001b[0m/\u001b[3;35mNone\u001b[0m              NaN        NaN      \u001b[1;36m0.000074\u001b[0m     \u001b[2m                   \u001b[0m\n",
       "\u001b[2;36m           \u001b[0m         yahpo/mo/rbv2_xgboost/\u001b[1;36m12\u001b[0m/\u001b[3;35mNone\u001b[0m         \u001b[1;36m0.040141\u001b[0m        NaN      \u001b[1;36m0.000009\u001b[0m     \u001b[2m                   \u001b[0m\n",
       "\u001b[2;36m           \u001b[0m         yahpo/mo/rbv2_xgboost/\u001b[1;36m182\u001b[0m/\u001b[3;35mNone\u001b[0m        \u001b[1;36m0.010498\u001b[0m        NaN      \u001b[1;36m0.000003\u001b[0m     \u001b[2m                   \u001b[0m\n",
       "\u001b[2;36m           \u001b[0m         yahpo/mo/rbv2_xgboost/\u001b[1;36m28\u001b[0m/\u001b[3;35mNone\u001b[0m         \u001b[1;36m0.007840\u001b[0m        NaN      \u001b[1;36m0.000001\u001b[0m     \u001b[2m                   \u001b[0m\n"
      ]
     },
     "metadata": {},
     "output_type": "display_data"
    },
    {
     "name": "stdout",
     "output_type": "stream",
     "text": [
      "Rejecting null hypothesis that data is normal for column Nevergrad-DE (p=0.000000<0.016667)\n",
      "Rejecting null hypothesis that data is normal for column Optuna-MO (p=0.000000<0.016667)\n",
      "Rejecting null hypothesis that data is normal for column RandomSearch (p=0.000000<0.016667)\n",
      "Using Friedman test as omnibus test\n",
      "Rejecting null hypothesis that there is no difference between the distributions (p=0.000097)\n",
      "Using Nemenyi post-hoc test. Differences are significant,if the distance between the mean ranks is greater than the critical distance.\n",
      "              meanrank    median       mad  ci_lower  ci_upper effect_size  \\\n",
      "Nevergrad-DE  1.628205  0.007218  0.006934  0.001131  0.034136         0.0   \n",
      "Optuna-MO     2.064103  0.008584  0.008552  0.002491  0.052336   -0.118288   \n",
      "RandomSearch  2.307692  0.010200    0.0096  0.002461  0.047586   -0.240151   \n",
      "\n",
      "               magnitude  \n",
      "Nevergrad-DE  negligible  \n",
      "Optuna-MO     negligible  \n",
      "RandomSearch       small  \n"
     ]
    },
    {
     "name": "stderr",
     "output_type": "stream",
     "text": [
      "/home/numina/micromamba/envs/carpsexp/lib/python3.11/site-packages/autorank/_util.py:432: FutureWarning: Series.__getitem__ treating keys as positions is deprecated. In a future version, integer keys will always be treated as labels (consistent with DataFrame behavior). To access a value by position, use `ser.iloc[pos]`\n",
      "  if abs(sorted_ranks[i] - sorted_ranks[j]) <= critical_difference:\n"
     ]
    },
    {
     "data": {
      "text/html": [
       "<pre style=\"white-space:pre;overflow-x:auto;line-height:normal;font-family:Menlo,'DejaVu Sans Mono',consolas,'Courier New',monospace\"><span style=\"color: #7fbfbf; text-decoration-color: #7fbfbf\">[19:03:08] </span><span style=\"color: #000080; text-decoration-color: #000080\">INFO    </span> Lost following experiments: optimizer_id                      Nevergrad-DE  <a href=\"file:///home/numina/Documents/repos/CARP-S-Experiments/lib/CARP-S/carps/analysis/run_autorank.py\" target=\"_blank\"><span style=\"color: #7f7f7f; text-decoration-color: #7f7f7f\">run_autorank.py</span></a><span style=\"color: #7f7f7f; text-decoration-color: #7f7f7f\">:</span><a href=\"file:///home/numina/Documents/repos/CARP-S-Experiments/lib/CARP-S/carps/analysis/run_autorank.py#113\" target=\"_blank\"><span style=\"color: #7f7f7f; text-decoration-color: #7f7f7f\">113</span></a>\n",
       "<span style=\"color: #7fbfbf; text-decoration-color: #7fbfbf\">           </span>         Optuna-MO  RandomSearch                                                     <span style=\"color: #7f7f7f; text-decoration-color: #7f7f7f\">                   </span>\n",
       "<span style=\"color: #7fbfbf; text-decoration-color: #7fbfbf\">           </span>         problem_id                                                                  <span style=\"color: #7f7f7f; text-decoration-color: #7f7f7f\">                   </span>\n",
       "<span style=\"color: #7fbfbf; text-decoration-color: #7fbfbf\">           </span>         yahpo/mo/iaml_ranger/<span style=\"color: #008080; text-decoration-color: #008080; font-weight: bold\">1067</span>/<span style=\"color: #800080; text-decoration-color: #800080; font-style: italic\">None</span>        <span style=\"color: #008080; text-decoration-color: #008080; font-weight: bold\">0.336826</span>        NaN      <span style=\"color: #008080; text-decoration-color: #008080; font-weight: bold\">0.217303</span>     <span style=\"color: #7f7f7f; text-decoration-color: #7f7f7f\">                   </span>\n",
       "<span style=\"color: #7fbfbf; text-decoration-color: #7fbfbf\">           </span>         yahpo/mo/iaml_ranger/<span style=\"color: #008080; text-decoration-color: #008080; font-weight: bold\">1489</span>/<span style=\"color: #800080; text-decoration-color: #800080; font-style: italic\">None</span>        <span style=\"color: #008080; text-decoration-color: #008080; font-weight: bold\">0.174604</span>        NaN      <span style=\"color: #008080; text-decoration-color: #008080; font-weight: bold\">0.004866</span>     <span style=\"color: #7f7f7f; text-decoration-color: #7f7f7f\">                   </span>\n",
       "<span style=\"color: #7fbfbf; text-decoration-color: #7fbfbf\">           </span>         yahpo/mo/iaml_super/<span style=\"color: #008080; text-decoration-color: #008080; font-weight: bold\">1067</span>/<span style=\"color: #800080; text-decoration-color: #800080; font-style: italic\">None</span>              NaN        NaN      <span style=\"color: #008080; text-decoration-color: #008080; font-weight: bold\">0.000075</span>     <span style=\"color: #7f7f7f; text-decoration-color: #7f7f7f\">                   </span>\n",
       "<span style=\"color: #7fbfbf; text-decoration-color: #7fbfbf\">           </span>         yahpo/mo/iaml_super/<span style=\"color: #008080; text-decoration-color: #008080; font-weight: bold\">1489</span>/<span style=\"color: #800080; text-decoration-color: #800080; font-style: italic\">None</span>              NaN        NaN      <span style=\"color: #008080; text-decoration-color: #008080; font-weight: bold\">0.000240</span>     <span style=\"color: #7f7f7f; text-decoration-color: #7f7f7f\">                   </span>\n",
       "<span style=\"color: #7fbfbf; text-decoration-color: #7fbfbf\">           </span>         yahpo/mo/iaml_xgboost/<span style=\"color: #008080; text-decoration-color: #008080; font-weight: bold\">1489</span>/<span style=\"color: #800080; text-decoration-color: #800080; font-style: italic\">None</span>       <span style=\"color: #008080; text-decoration-color: #008080; font-weight: bold\">0.203513</span>        NaN      <span style=\"color: #008080; text-decoration-color: #008080; font-weight: bold\">0.000394</span>     <span style=\"color: #7f7f7f; text-decoration-color: #7f7f7f\">                   </span>\n",
       "<span style=\"color: #7fbfbf; text-decoration-color: #7fbfbf\">           </span>         yahpo/mo/iaml_xgboost/<span style=\"color: #008080; text-decoration-color: #008080; font-weight: bold\">40981</span>/<span style=\"color: #800080; text-decoration-color: #800080; font-style: italic\">None</span>      <span style=\"color: #008080; text-decoration-color: #008080; font-weight: bold\">0.201979</span>        NaN      <span style=\"color: #008080; text-decoration-color: #008080; font-weight: bold\">0.001476</span>     <span style=\"color: #7f7f7f; text-decoration-color: #7f7f7f\">                   </span>\n",
       "<span style=\"color: #7fbfbf; text-decoration-color: #7fbfbf\">           </span>         yahpo/mo/rbv2_ranger/<span style=\"color: #008080; text-decoration-color: #008080; font-weight: bold\">40979</span>/<span style=\"color: #800080; text-decoration-color: #800080; font-style: italic\">None</span>       <span style=\"color: #008080; text-decoration-color: #008080; font-weight: bold\">0.197883</span>        NaN      <span style=\"color: #008080; text-decoration-color: #008080; font-weight: bold\">0.067001</span>     <span style=\"color: #7f7f7f; text-decoration-color: #7f7f7f\">                   </span>\n",
       "<span style=\"color: #7fbfbf; text-decoration-color: #7fbfbf\">           </span>         yahpo/mo/rbv2_ranger/<span style=\"color: #008080; text-decoration-color: #008080; font-weight: bold\">6</span>/<span style=\"color: #800080; text-decoration-color: #800080; font-style: italic\">None</span>           <span style=\"color: #008080; text-decoration-color: #008080; font-weight: bold\">0.110805</span>        NaN      <span style=\"color: #008080; text-decoration-color: #008080; font-weight: bold\">0.017989</span>     <span style=\"color: #7f7f7f; text-decoration-color: #7f7f7f\">                   </span>\n",
       "<span style=\"color: #7fbfbf; text-decoration-color: #7fbfbf\">           </span>         yahpo/mo/rbv2_super/<span style=\"color: #008080; text-decoration-color: #008080; font-weight: bold\">1053</span>/<span style=\"color: #800080; text-decoration-color: #800080; font-style: italic\">None</span>              NaN        NaN      <span style=\"color: #008080; text-decoration-color: #008080; font-weight: bold\">0.005830</span>     <span style=\"color: #7f7f7f; text-decoration-color: #7f7f7f\">                   </span>\n",
       "<span style=\"color: #7fbfbf; text-decoration-color: #7fbfbf\">           </span>         yahpo/mo/rbv2_super/<span style=\"color: #008080; text-decoration-color: #008080; font-weight: bold\">6</span>/<span style=\"color: #800080; text-decoration-color: #800080; font-style: italic\">None</span>                 NaN        NaN      <span style=\"color: #008080; text-decoration-color: #008080; font-weight: bold\">0.000088</span>     <span style=\"color: #7f7f7f; text-decoration-color: #7f7f7f\">                   </span>\n",
       "<span style=\"color: #7fbfbf; text-decoration-color: #7fbfbf\">           </span>         yahpo/mo/rbv2_xgboost/<span style=\"color: #008080; text-decoration-color: #008080; font-weight: bold\">12</span>/<span style=\"color: #800080; text-decoration-color: #800080; font-style: italic\">None</span>         <span style=\"color: #008080; text-decoration-color: #008080; font-weight: bold\">0.040141</span>        NaN      <span style=\"color: #008080; text-decoration-color: #008080; font-weight: bold\">0.000009</span>     <span style=\"color: #7f7f7f; text-decoration-color: #7f7f7f\">                   </span>\n",
       "</pre>\n"
      ],
      "text/plain": [
       "\u001b[2;36m[19:03:08]\u001b[0m\u001b[2;36m \u001b[0m\u001b[34mINFO    \u001b[0m Lost following experiments: optimizer_id                      Nevergrad-DE  \u001b]8;id=327342;file:///home/numina/Documents/repos/CARP-S-Experiments/lib/CARP-S/carps/analysis/run_autorank.py\u001b\\\u001b[2mrun_autorank.py\u001b[0m\u001b]8;;\u001b\\\u001b[2m:\u001b[0m\u001b]8;id=998346;file:///home/numina/Documents/repos/CARP-S-Experiments/lib/CARP-S/carps/analysis/run_autorank.py#113\u001b\\\u001b[2m113\u001b[0m\u001b]8;;\u001b\\\n",
       "\u001b[2;36m           \u001b[0m         Optuna-MO  RandomSearch                                                     \u001b[2m                   \u001b[0m\n",
       "\u001b[2;36m           \u001b[0m         problem_id                                                                  \u001b[2m                   \u001b[0m\n",
       "\u001b[2;36m           \u001b[0m         yahpo/mo/iaml_ranger/\u001b[1;36m1067\u001b[0m/\u001b[3;35mNone\u001b[0m        \u001b[1;36m0.336826\u001b[0m        NaN      \u001b[1;36m0.217303\u001b[0m     \u001b[2m                   \u001b[0m\n",
       "\u001b[2;36m           \u001b[0m         yahpo/mo/iaml_ranger/\u001b[1;36m1489\u001b[0m/\u001b[3;35mNone\u001b[0m        \u001b[1;36m0.174604\u001b[0m        NaN      \u001b[1;36m0.004866\u001b[0m     \u001b[2m                   \u001b[0m\n",
       "\u001b[2;36m           \u001b[0m         yahpo/mo/iaml_super/\u001b[1;36m1067\u001b[0m/\u001b[3;35mNone\u001b[0m              NaN        NaN      \u001b[1;36m0.000075\u001b[0m     \u001b[2m                   \u001b[0m\n",
       "\u001b[2;36m           \u001b[0m         yahpo/mo/iaml_super/\u001b[1;36m1489\u001b[0m/\u001b[3;35mNone\u001b[0m              NaN        NaN      \u001b[1;36m0.000240\u001b[0m     \u001b[2m                   \u001b[0m\n",
       "\u001b[2;36m           \u001b[0m         yahpo/mo/iaml_xgboost/\u001b[1;36m1489\u001b[0m/\u001b[3;35mNone\u001b[0m       \u001b[1;36m0.203513\u001b[0m        NaN      \u001b[1;36m0.000394\u001b[0m     \u001b[2m                   \u001b[0m\n",
       "\u001b[2;36m           \u001b[0m         yahpo/mo/iaml_xgboost/\u001b[1;36m40981\u001b[0m/\u001b[3;35mNone\u001b[0m      \u001b[1;36m0.201979\u001b[0m        NaN      \u001b[1;36m0.001476\u001b[0m     \u001b[2m                   \u001b[0m\n",
       "\u001b[2;36m           \u001b[0m         yahpo/mo/rbv2_ranger/\u001b[1;36m40979\u001b[0m/\u001b[3;35mNone\u001b[0m       \u001b[1;36m0.197883\u001b[0m        NaN      \u001b[1;36m0.067001\u001b[0m     \u001b[2m                   \u001b[0m\n",
       "\u001b[2;36m           \u001b[0m         yahpo/mo/rbv2_ranger/\u001b[1;36m6\u001b[0m/\u001b[3;35mNone\u001b[0m           \u001b[1;36m0.110805\u001b[0m        NaN      \u001b[1;36m0.017989\u001b[0m     \u001b[2m                   \u001b[0m\n",
       "\u001b[2;36m           \u001b[0m         yahpo/mo/rbv2_super/\u001b[1;36m1053\u001b[0m/\u001b[3;35mNone\u001b[0m              NaN        NaN      \u001b[1;36m0.005830\u001b[0m     \u001b[2m                   \u001b[0m\n",
       "\u001b[2;36m           \u001b[0m         yahpo/mo/rbv2_super/\u001b[1;36m6\u001b[0m/\u001b[3;35mNone\u001b[0m                 NaN        NaN      \u001b[1;36m0.000088\u001b[0m     \u001b[2m                   \u001b[0m\n",
       "\u001b[2;36m           \u001b[0m         yahpo/mo/rbv2_xgboost/\u001b[1;36m12\u001b[0m/\u001b[3;35mNone\u001b[0m         \u001b[1;36m0.040141\u001b[0m        NaN      \u001b[1;36m0.000009\u001b[0m     \u001b[2m                   \u001b[0m\n"
      ]
     },
     "metadata": {},
     "output_type": "display_data"
    },
    {
     "name": "stdout",
     "output_type": "stream",
     "text": [
      "Rejecting null hypothesis that data is normal for column Nevergrad-DE (p=0.000000<0.016667)\n",
      "Rejecting null hypothesis that data is normal for column Optuna-MO (p=0.000000<0.016667)\n",
      "Rejecting null hypothesis that data is normal for column RandomSearch (p=0.000000<0.016667)\n",
      "Using Friedman test as omnibus test\n",
      "Rejecting null hypothesis that there is no difference between the distributions (p=0.000055)\n",
      "Using Nemenyi post-hoc test. Differences are significant,if the distance between the mean ranks is greater than the critical distance.\n",
      "              meanrank    median       mad  ci_lower  ci_upper effect_size  \\\n",
      "Nevergrad-DE      1.65  0.007529  0.007382  0.002258  0.044524         0.0   \n",
      "Optuna-MO         2.00  0.010626  0.010591  0.004593  0.052336   -0.228806   \n",
      "RandomSearch      2.35  0.012569  0.012107  0.005519  0.060899   -0.339016   \n",
      "\n",
      "               magnitude  \n",
      "Nevergrad-DE  negligible  \n",
      "Optuna-MO          small  \n",
      "RandomSearch       small  \n"
     ]
    },
    {
     "name": "stderr",
     "output_type": "stream",
     "text": [
      "/home/numina/micromamba/envs/carpsexp/lib/python3.11/site-packages/autorank/_util.py:432: FutureWarning: Series.__getitem__ treating keys as positions is deprecated. In a future version, integer keys will always be treated as labels (consistent with DataFrame behavior). To access a value by position, use `ser.iloc[pos]`\n",
      "  if abs(sorted_ranks[i] - sorted_ranks[j]) <= critical_difference:\n"
     ]
    },
    {
     "data": {
      "text/html": [
       "<pre style=\"white-space:pre;overflow-x:auto;line-height:normal;font-family:Menlo,'DejaVu Sans Mono',consolas,'Courier New',monospace\"><span style=\"color: #7fbfbf; text-decoration-color: #7fbfbf\">[19:03:09] </span><span style=\"color: #000080; text-decoration-color: #000080\">INFO    </span> Lost following experiments: optimizer_id                     Nevergrad-DE   <a href=\"file:///home/numina/Documents/repos/CARP-S-Experiments/lib/CARP-S/carps/analysis/run_autorank.py\" target=\"_blank\"><span style=\"color: #7f7f7f; text-decoration-color: #7f7f7f\">run_autorank.py</span></a><span style=\"color: #7f7f7f; text-decoration-color: #7f7f7f\">:</span><a href=\"file:///home/numina/Documents/repos/CARP-S-Experiments/lib/CARP-S/carps/analysis/run_autorank.py#113\" target=\"_blank\"><span style=\"color: #7f7f7f; text-decoration-color: #7f7f7f\">113</span></a>\n",
       "<span style=\"color: #7fbfbf; text-decoration-color: #7fbfbf\">           </span>         Optuna-MO  RandomSearch                                                     <span style=\"color: #7f7f7f; text-decoration-color: #7f7f7f\">                   </span>\n",
       "<span style=\"color: #7fbfbf; text-decoration-color: #7fbfbf\">           </span>         problem_id                                                                  <span style=\"color: #7f7f7f; text-decoration-color: #7f7f7f\">                   </span>\n",
       "<span style=\"color: #7fbfbf; text-decoration-color: #7fbfbf\">           </span>         yahpo/mo/iaml_ranger/<span style=\"color: #008080; text-decoration-color: #008080; font-weight: bold\">1489</span>/<span style=\"color: #800080; text-decoration-color: #800080; font-style: italic\">None</span>       <span style=\"color: #008080; text-decoration-color: #008080; font-weight: bold\">0.174604</span>        NaN      <span style=\"color: #008080; text-decoration-color: #008080; font-weight: bold\">0.004866</span>      <span style=\"color: #7f7f7f; text-decoration-color: #7f7f7f\">                   </span>\n",
       "<span style=\"color: #7fbfbf; text-decoration-color: #7fbfbf\">           </span>         yahpo/mo/iaml_super/<span style=\"color: #008080; text-decoration-color: #008080; font-weight: bold\">1067</span>/<span style=\"color: #800080; text-decoration-color: #800080; font-style: italic\">None</span>             NaN        NaN      <span style=\"color: #008080; text-decoration-color: #008080; font-weight: bold\">0.000075</span>      <span style=\"color: #7f7f7f; text-decoration-color: #7f7f7f\">                   </span>\n",
       "<span style=\"color: #7fbfbf; text-decoration-color: #7fbfbf\">           </span>         yahpo/mo/iaml_xgboost/<span style=\"color: #008080; text-decoration-color: #008080; font-weight: bold\">1489</span>/<span style=\"color: #800080; text-decoration-color: #800080; font-style: italic\">None</span>      <span style=\"color: #008080; text-decoration-color: #008080; font-weight: bold\">0.203513</span>        NaN      <span style=\"color: #008080; text-decoration-color: #008080; font-weight: bold\">0.000394</span>      <span style=\"color: #7f7f7f; text-decoration-color: #7f7f7f\">                   </span>\n",
       "<span style=\"color: #7fbfbf; text-decoration-color: #7fbfbf\">           </span>         yahpo/mo/rbv2_ranger/<span style=\"color: #008080; text-decoration-color: #008080; font-weight: bold\">375</span>/<span style=\"color: #800080; text-decoration-color: #800080; font-style: italic\">None</span>        <span style=\"color: #008080; text-decoration-color: #008080; font-weight: bold\">0.218806</span>        NaN      <span style=\"color: #008080; text-decoration-color: #008080; font-weight: bold\">0.049281</span>      <span style=\"color: #7f7f7f; text-decoration-color: #7f7f7f\">                   </span>\n",
       "<span style=\"color: #7fbfbf; text-decoration-color: #7fbfbf\">           </span>         yahpo/mo/rbv2_ranger/<span style=\"color: #008080; text-decoration-color: #008080; font-weight: bold\">40979</span>/<span style=\"color: #800080; text-decoration-color: #800080; font-style: italic\">None</span>      <span style=\"color: #008080; text-decoration-color: #008080; font-weight: bold\">0.197883</span>        NaN      <span style=\"color: #008080; text-decoration-color: #008080; font-weight: bold\">0.067001</span>      <span style=\"color: #7f7f7f; text-decoration-color: #7f7f7f\">                   </span>\n",
       "<span style=\"color: #7fbfbf; text-decoration-color: #7fbfbf\">           </span>         yahpo/mo/rbv2_ranger/<span style=\"color: #008080; text-decoration-color: #008080; font-weight: bold\">6</span>/<span style=\"color: #800080; text-decoration-color: #800080; font-style: italic\">None</span>          <span style=\"color: #008080; text-decoration-color: #008080; font-weight: bold\">0.110805</span>        NaN      <span style=\"color: #008080; text-decoration-color: #008080; font-weight: bold\">0.017989</span>      <span style=\"color: #7f7f7f; text-decoration-color: #7f7f7f\">                   </span>\n",
       "<span style=\"color: #7fbfbf; text-decoration-color: #7fbfbf\">           </span>         yahpo/mo/rbv2_super/<span style=\"color: #008080; text-decoration-color: #008080; font-weight: bold\">1053</span>/<span style=\"color: #800080; text-decoration-color: #800080; font-style: italic\">None</span>             NaN        NaN      <span style=\"color: #008080; text-decoration-color: #008080; font-weight: bold\">0.005830</span>      <span style=\"color: #7f7f7f; text-decoration-color: #7f7f7f\">                   </span>\n",
       "<span style=\"color: #7fbfbf; text-decoration-color: #7fbfbf\">           </span>         yahpo/mo/rbv2_super/<span style=\"color: #008080; text-decoration-color: #008080; font-weight: bold\">1457</span>/<span style=\"color: #800080; text-decoration-color: #800080; font-style: italic\">None</span>             NaN        NaN      <span style=\"color: #008080; text-decoration-color: #008080; font-weight: bold\">0.000074</span>      <span style=\"color: #7f7f7f; text-decoration-color: #7f7f7f\">                   </span>\n",
       "<span style=\"color: #7fbfbf; text-decoration-color: #7fbfbf\">           </span>         yahpo/mo/rbv2_xgboost/<span style=\"color: #008080; text-decoration-color: #008080; font-weight: bold\">12</span>/<span style=\"color: #800080; text-decoration-color: #800080; font-style: italic\">None</span>        <span style=\"color: #008080; text-decoration-color: #008080; font-weight: bold\">0.040141</span>        NaN      <span style=\"color: #008080; text-decoration-color: #008080; font-weight: bold\">0.000009</span>      <span style=\"color: #7f7f7f; text-decoration-color: #7f7f7f\">                   </span>\n",
       "<span style=\"color: #7fbfbf; text-decoration-color: #7fbfbf\">           </span>         yahpo/mo/rbv2_xgboost/<span style=\"color: #008080; text-decoration-color: #008080; font-weight: bold\">182</span>/<span style=\"color: #800080; text-decoration-color: #800080; font-style: italic\">None</span>       <span style=\"color: #008080; text-decoration-color: #008080; font-weight: bold\">0.010498</span>        NaN      <span style=\"color: #008080; text-decoration-color: #008080; font-weight: bold\">0.000003</span>      <span style=\"color: #7f7f7f; text-decoration-color: #7f7f7f\">                   </span>\n",
       "<span style=\"color: #7fbfbf; text-decoration-color: #7fbfbf\">           </span>         yahpo/mo/rbv2_xgboost/<span style=\"color: #008080; text-decoration-color: #008080; font-weight: bold\">28</span>/<span style=\"color: #800080; text-decoration-color: #800080; font-style: italic\">None</span>        <span style=\"color: #008080; text-decoration-color: #008080; font-weight: bold\">0.007840</span>        NaN      <span style=\"color: #008080; text-decoration-color: #008080; font-weight: bold\">0.000001</span>      <span style=\"color: #7f7f7f; text-decoration-color: #7f7f7f\">                   </span>\n",
       "</pre>\n"
      ],
      "text/plain": [
       "\u001b[2;36m[19:03:09]\u001b[0m\u001b[2;36m \u001b[0m\u001b[34mINFO    \u001b[0m Lost following experiments: optimizer_id                     Nevergrad-DE   \u001b]8;id=551475;file:///home/numina/Documents/repos/CARP-S-Experiments/lib/CARP-S/carps/analysis/run_autorank.py\u001b\\\u001b[2mrun_autorank.py\u001b[0m\u001b]8;;\u001b\\\u001b[2m:\u001b[0m\u001b]8;id=691148;file:///home/numina/Documents/repos/CARP-S-Experiments/lib/CARP-S/carps/analysis/run_autorank.py#113\u001b\\\u001b[2m113\u001b[0m\u001b]8;;\u001b\\\n",
       "\u001b[2;36m           \u001b[0m         Optuna-MO  RandomSearch                                                     \u001b[2m                   \u001b[0m\n",
       "\u001b[2;36m           \u001b[0m         problem_id                                                                  \u001b[2m                   \u001b[0m\n",
       "\u001b[2;36m           \u001b[0m         yahpo/mo/iaml_ranger/\u001b[1;36m1489\u001b[0m/\u001b[3;35mNone\u001b[0m       \u001b[1;36m0.174604\u001b[0m        NaN      \u001b[1;36m0.004866\u001b[0m      \u001b[2m                   \u001b[0m\n",
       "\u001b[2;36m           \u001b[0m         yahpo/mo/iaml_super/\u001b[1;36m1067\u001b[0m/\u001b[3;35mNone\u001b[0m             NaN        NaN      \u001b[1;36m0.000075\u001b[0m      \u001b[2m                   \u001b[0m\n",
       "\u001b[2;36m           \u001b[0m         yahpo/mo/iaml_xgboost/\u001b[1;36m1489\u001b[0m/\u001b[3;35mNone\u001b[0m      \u001b[1;36m0.203513\u001b[0m        NaN      \u001b[1;36m0.000394\u001b[0m      \u001b[2m                   \u001b[0m\n",
       "\u001b[2;36m           \u001b[0m         yahpo/mo/rbv2_ranger/\u001b[1;36m375\u001b[0m/\u001b[3;35mNone\u001b[0m        \u001b[1;36m0.218806\u001b[0m        NaN      \u001b[1;36m0.049281\u001b[0m      \u001b[2m                   \u001b[0m\n",
       "\u001b[2;36m           \u001b[0m         yahpo/mo/rbv2_ranger/\u001b[1;36m40979\u001b[0m/\u001b[3;35mNone\u001b[0m      \u001b[1;36m0.197883\u001b[0m        NaN      \u001b[1;36m0.067001\u001b[0m      \u001b[2m                   \u001b[0m\n",
       "\u001b[2;36m           \u001b[0m         yahpo/mo/rbv2_ranger/\u001b[1;36m6\u001b[0m/\u001b[3;35mNone\u001b[0m          \u001b[1;36m0.110805\u001b[0m        NaN      \u001b[1;36m0.017989\u001b[0m      \u001b[2m                   \u001b[0m\n",
       "\u001b[2;36m           \u001b[0m         yahpo/mo/rbv2_super/\u001b[1;36m1053\u001b[0m/\u001b[3;35mNone\u001b[0m             NaN        NaN      \u001b[1;36m0.005830\u001b[0m      \u001b[2m                   \u001b[0m\n",
       "\u001b[2;36m           \u001b[0m         yahpo/mo/rbv2_super/\u001b[1;36m1457\u001b[0m/\u001b[3;35mNone\u001b[0m             NaN        NaN      \u001b[1;36m0.000074\u001b[0m      \u001b[2m                   \u001b[0m\n",
       "\u001b[2;36m           \u001b[0m         yahpo/mo/rbv2_xgboost/\u001b[1;36m12\u001b[0m/\u001b[3;35mNone\u001b[0m        \u001b[1;36m0.040141\u001b[0m        NaN      \u001b[1;36m0.000009\u001b[0m      \u001b[2m                   \u001b[0m\n",
       "\u001b[2;36m           \u001b[0m         yahpo/mo/rbv2_xgboost/\u001b[1;36m182\u001b[0m/\u001b[3;35mNone\u001b[0m       \u001b[1;36m0.010498\u001b[0m        NaN      \u001b[1;36m0.000003\u001b[0m      \u001b[2m                   \u001b[0m\n",
       "\u001b[2;36m           \u001b[0m         yahpo/mo/rbv2_xgboost/\u001b[1;36m28\u001b[0m/\u001b[3;35mNone\u001b[0m        \u001b[1;36m0.007840\u001b[0m        NaN      \u001b[1;36m0.000001\u001b[0m      \u001b[2m                   \u001b[0m\n"
      ]
     },
     "metadata": {},
     "output_type": "display_data"
    },
    {
     "name": "stdout",
     "output_type": "stream",
     "text": [
      "Rejecting null hypothesis that data is normal for column Nevergrad-DE (p=0.000000<0.016667)\n",
      "Rejecting null hypothesis that data is normal for column Optuna-MO (p=0.000000<0.016667)\n",
      "Rejecting null hypothesis that data is normal for column RandomSearch (p=0.000000<0.016667)\n",
      "Using Friedman test as omnibus test\n",
      "Rejecting null hypothesis that there is no difference between the distributions (p=0.000340)\n",
      "Using Nemenyi post-hoc test. Differences are significant,if the distance between the mean ranks is greater than the critical distance.\n",
      "              meanrank    median       mad  ci_lower  ci_upper effect_size  \\\n",
      "Nevergrad-DE  1.657895  0.007484  0.007162  0.001258  0.037349         0.0   \n",
      "Optuna-MO     2.039474  0.009894  0.009795  0.003011  0.058713   -0.189477   \n",
      "RandomSearch  2.302632  0.011087  0.010469  0.003702  0.051639   -0.270959   \n",
      "\n",
      "               magnitude  \n",
      "Nevergrad-DE  negligible  \n",
      "Optuna-MO     negligible  \n",
      "RandomSearch       small  \n"
     ]
    },
    {
     "name": "stderr",
     "output_type": "stream",
     "text": [
      "/home/numina/micromamba/envs/carpsexp/lib/python3.11/site-packages/autorank/_util.py:432: FutureWarning: Series.__getitem__ treating keys as positions is deprecated. In a future version, integer keys will always be treated as labels (consistent with DataFrame behavior). To access a value by position, use `ser.iloc[pos]`\n",
      "  if abs(sorted_ranks[i] - sorted_ranks[j]) <= critical_difference:\n"
     ]
    },
    {
     "data": {
      "text/html": [
       "<pre style=\"white-space:pre;overflow-x:auto;line-height:normal;font-family:Menlo,'DejaVu Sans Mono',consolas,'Courier New',monospace\"><span style=\"color: #7fbfbf; text-decoration-color: #7fbfbf\">[19:03:10] </span><span style=\"color: #000080; text-decoration-color: #000080\">INFO    </span> Lost following experiments: optimizer_id                      Nevergrad-DE  <a href=\"file:///home/numina/Documents/repos/CARP-S-Experiments/lib/CARP-S/carps/analysis/run_autorank.py\" target=\"_blank\"><span style=\"color: #7f7f7f; text-decoration-color: #7f7f7f\">run_autorank.py</span></a><span style=\"color: #7f7f7f; text-decoration-color: #7f7f7f\">:</span><a href=\"file:///home/numina/Documents/repos/CARP-S-Experiments/lib/CARP-S/carps/analysis/run_autorank.py#113\" target=\"_blank\"><span style=\"color: #7f7f7f; text-decoration-color: #7f7f7f\">113</span></a>\n",
       "<span style=\"color: #7fbfbf; text-decoration-color: #7fbfbf\">           </span>         Optuna-MO  RandomSearch                                                     <span style=\"color: #7f7f7f; text-decoration-color: #7f7f7f\">                   </span>\n",
       "<span style=\"color: #7fbfbf; text-decoration-color: #7fbfbf\">           </span>         problem_id                                                                  <span style=\"color: #7f7f7f; text-decoration-color: #7f7f7f\">                   </span>\n",
       "<span style=\"color: #7fbfbf; text-decoration-color: #7fbfbf\">           </span>         yahpo/mo/iaml_ranger/<span style=\"color: #008080; text-decoration-color: #008080; font-weight: bold\">1067</span>/<span style=\"color: #800080; text-decoration-color: #800080; font-style: italic\">None</span>        <span style=\"color: #008080; text-decoration-color: #008080; font-weight: bold\">0.336826</span>        NaN      <span style=\"color: #008080; text-decoration-color: #008080; font-weight: bold\">0.217303</span>     <span style=\"color: #7f7f7f; text-decoration-color: #7f7f7f\">                   </span>\n",
       "<span style=\"color: #7fbfbf; text-decoration-color: #7fbfbf\">           </span>         yahpo/mo/iaml_ranger/<span style=\"color: #008080; text-decoration-color: #008080; font-weight: bold\">1489</span>/<span style=\"color: #800080; text-decoration-color: #800080; font-style: italic\">None</span>        <span style=\"color: #008080; text-decoration-color: #008080; font-weight: bold\">0.174604</span>        NaN      <span style=\"color: #008080; text-decoration-color: #008080; font-weight: bold\">0.004866</span>     <span style=\"color: #7f7f7f; text-decoration-color: #7f7f7f\">                   </span>\n",
       "<span style=\"color: #7fbfbf; text-decoration-color: #7fbfbf\">           </span>         yahpo/mo/iaml_super/<span style=\"color: #008080; text-decoration-color: #008080; font-weight: bold\">1067</span>/<span style=\"color: #800080; text-decoration-color: #800080; font-style: italic\">None</span>              NaN        NaN      <span style=\"color: #008080; text-decoration-color: #008080; font-weight: bold\">0.000075</span>     <span style=\"color: #7f7f7f; text-decoration-color: #7f7f7f\">                   </span>\n",
       "<span style=\"color: #7fbfbf; text-decoration-color: #7fbfbf\">           </span>         yahpo/mo/iaml_super/<span style=\"color: #008080; text-decoration-color: #008080; font-weight: bold\">1489</span>/<span style=\"color: #800080; text-decoration-color: #800080; font-style: italic\">None</span>              NaN        NaN      <span style=\"color: #008080; text-decoration-color: #008080; font-weight: bold\">0.000240</span>     <span style=\"color: #7f7f7f; text-decoration-color: #7f7f7f\">                   </span>\n",
       "<span style=\"color: #7fbfbf; text-decoration-color: #7fbfbf\">           </span>         yahpo/mo/iaml_xgboost/<span style=\"color: #008080; text-decoration-color: #008080; font-weight: bold\">40981</span>/<span style=\"color: #800080; text-decoration-color: #800080; font-style: italic\">None</span>      <span style=\"color: #008080; text-decoration-color: #008080; font-weight: bold\">0.201979</span>        NaN      <span style=\"color: #008080; text-decoration-color: #008080; font-weight: bold\">0.001476</span>     <span style=\"color: #7f7f7f; text-decoration-color: #7f7f7f\">                   </span>\n",
       "<span style=\"color: #7fbfbf; text-decoration-color: #7fbfbf\">           </span>         yahpo/mo/rbv2_ranger/<span style=\"color: #008080; text-decoration-color: #008080; font-weight: bold\">375</span>/<span style=\"color: #800080; text-decoration-color: #800080; font-style: italic\">None</span>         <span style=\"color: #008080; text-decoration-color: #008080; font-weight: bold\">0.218806</span>        NaN      <span style=\"color: #008080; text-decoration-color: #008080; font-weight: bold\">0.049281</span>     <span style=\"color: #7f7f7f; text-decoration-color: #7f7f7f\">                   </span>\n",
       "<span style=\"color: #7fbfbf; text-decoration-color: #7fbfbf\">           </span>         yahpo/mo/rbv2_ranger/<span style=\"color: #008080; text-decoration-color: #008080; font-weight: bold\">6</span>/<span style=\"color: #800080; text-decoration-color: #800080; font-style: italic\">None</span>           <span style=\"color: #008080; text-decoration-color: #008080; font-weight: bold\">0.110805</span>        NaN      <span style=\"color: #008080; text-decoration-color: #008080; font-weight: bold\">0.017989</span>     <span style=\"color: #7f7f7f; text-decoration-color: #7f7f7f\">                   </span>\n",
       "<span style=\"color: #7fbfbf; text-decoration-color: #7fbfbf\">           </span>         yahpo/mo/rbv2_super/<span style=\"color: #008080; text-decoration-color: #008080; font-weight: bold\">1053</span>/<span style=\"color: #800080; text-decoration-color: #800080; font-style: italic\">None</span>              NaN        NaN      <span style=\"color: #008080; text-decoration-color: #008080; font-weight: bold\">0.005830</span>     <span style=\"color: #7f7f7f; text-decoration-color: #7f7f7f\">                   </span>\n",
       "<span style=\"color: #7fbfbf; text-decoration-color: #7fbfbf\">           </span>         yahpo/mo/rbv2_super/<span style=\"color: #008080; text-decoration-color: #008080; font-weight: bold\">1457</span>/<span style=\"color: #800080; text-decoration-color: #800080; font-style: italic\">None</span>              NaN        NaN      <span style=\"color: #008080; text-decoration-color: #008080; font-weight: bold\">0.000074</span>     <span style=\"color: #7f7f7f; text-decoration-color: #7f7f7f\">                   </span>\n",
       "<span style=\"color: #7fbfbf; text-decoration-color: #7fbfbf\">           </span>         yahpo/mo/rbv2_super/<span style=\"color: #008080; text-decoration-color: #008080; font-weight: bold\">6</span>/<span style=\"color: #800080; text-decoration-color: #800080; font-style: italic\">None</span>                 NaN        NaN      <span style=\"color: #008080; text-decoration-color: #008080; font-weight: bold\">0.000088</span>     <span style=\"color: #7f7f7f; text-decoration-color: #7f7f7f\">                   </span>\n",
       "<span style=\"color: #7fbfbf; text-decoration-color: #7fbfbf\">           </span>         yahpo/mo/rbv2_xgboost/<span style=\"color: #008080; text-decoration-color: #008080; font-weight: bold\">28</span>/<span style=\"color: #800080; text-decoration-color: #800080; font-style: italic\">None</span>         <span style=\"color: #008080; text-decoration-color: #008080; font-weight: bold\">0.007840</span>        NaN      <span style=\"color: #008080; text-decoration-color: #008080; font-weight: bold\">0.000001</span>     <span style=\"color: #7f7f7f; text-decoration-color: #7f7f7f\">                   </span>\n",
       "</pre>\n"
      ],
      "text/plain": [
       "\u001b[2;36m[19:03:10]\u001b[0m\u001b[2;36m \u001b[0m\u001b[34mINFO    \u001b[0m Lost following experiments: optimizer_id                      Nevergrad-DE  \u001b]8;id=639287;file:///home/numina/Documents/repos/CARP-S-Experiments/lib/CARP-S/carps/analysis/run_autorank.py\u001b\\\u001b[2mrun_autorank.py\u001b[0m\u001b]8;;\u001b\\\u001b[2m:\u001b[0m\u001b]8;id=719515;file:///home/numina/Documents/repos/CARP-S-Experiments/lib/CARP-S/carps/analysis/run_autorank.py#113\u001b\\\u001b[2m113\u001b[0m\u001b]8;;\u001b\\\n",
       "\u001b[2;36m           \u001b[0m         Optuna-MO  RandomSearch                                                     \u001b[2m                   \u001b[0m\n",
       "\u001b[2;36m           \u001b[0m         problem_id                                                                  \u001b[2m                   \u001b[0m\n",
       "\u001b[2;36m           \u001b[0m         yahpo/mo/iaml_ranger/\u001b[1;36m1067\u001b[0m/\u001b[3;35mNone\u001b[0m        \u001b[1;36m0.336826\u001b[0m        NaN      \u001b[1;36m0.217303\u001b[0m     \u001b[2m                   \u001b[0m\n",
       "\u001b[2;36m           \u001b[0m         yahpo/mo/iaml_ranger/\u001b[1;36m1489\u001b[0m/\u001b[3;35mNone\u001b[0m        \u001b[1;36m0.174604\u001b[0m        NaN      \u001b[1;36m0.004866\u001b[0m     \u001b[2m                   \u001b[0m\n",
       "\u001b[2;36m           \u001b[0m         yahpo/mo/iaml_super/\u001b[1;36m1067\u001b[0m/\u001b[3;35mNone\u001b[0m              NaN        NaN      \u001b[1;36m0.000075\u001b[0m     \u001b[2m                   \u001b[0m\n",
       "\u001b[2;36m           \u001b[0m         yahpo/mo/iaml_super/\u001b[1;36m1489\u001b[0m/\u001b[3;35mNone\u001b[0m              NaN        NaN      \u001b[1;36m0.000240\u001b[0m     \u001b[2m                   \u001b[0m\n",
       "\u001b[2;36m           \u001b[0m         yahpo/mo/iaml_xgboost/\u001b[1;36m40981\u001b[0m/\u001b[3;35mNone\u001b[0m      \u001b[1;36m0.201979\u001b[0m        NaN      \u001b[1;36m0.001476\u001b[0m     \u001b[2m                   \u001b[0m\n",
       "\u001b[2;36m           \u001b[0m         yahpo/mo/rbv2_ranger/\u001b[1;36m375\u001b[0m/\u001b[3;35mNone\u001b[0m         \u001b[1;36m0.218806\u001b[0m        NaN      \u001b[1;36m0.049281\u001b[0m     \u001b[2m                   \u001b[0m\n",
       "\u001b[2;36m           \u001b[0m         yahpo/mo/rbv2_ranger/\u001b[1;36m6\u001b[0m/\u001b[3;35mNone\u001b[0m           \u001b[1;36m0.110805\u001b[0m        NaN      \u001b[1;36m0.017989\u001b[0m     \u001b[2m                   \u001b[0m\n",
       "\u001b[2;36m           \u001b[0m         yahpo/mo/rbv2_super/\u001b[1;36m1053\u001b[0m/\u001b[3;35mNone\u001b[0m              NaN        NaN      \u001b[1;36m0.005830\u001b[0m     \u001b[2m                   \u001b[0m\n",
       "\u001b[2;36m           \u001b[0m         yahpo/mo/rbv2_super/\u001b[1;36m1457\u001b[0m/\u001b[3;35mNone\u001b[0m              NaN        NaN      \u001b[1;36m0.000074\u001b[0m     \u001b[2m                   \u001b[0m\n",
       "\u001b[2;36m           \u001b[0m         yahpo/mo/rbv2_super/\u001b[1;36m6\u001b[0m/\u001b[3;35mNone\u001b[0m                 NaN        NaN      \u001b[1;36m0.000088\u001b[0m     \u001b[2m                   \u001b[0m\n",
       "\u001b[2;36m           \u001b[0m         yahpo/mo/rbv2_xgboost/\u001b[1;36m28\u001b[0m/\u001b[3;35mNone\u001b[0m         \u001b[1;36m0.007840\u001b[0m        NaN      \u001b[1;36m0.000001\u001b[0m     \u001b[2m                   \u001b[0m\n"
      ]
     },
     "metadata": {},
     "output_type": "display_data"
    },
    {
     "name": "stdout",
     "output_type": "stream",
     "text": [
      "Rejecting null hypothesis that data is normal for column Nevergrad-DE (p=0.000000<0.016667)\n",
      "Rejecting null hypothesis that data is normal for column Optuna-MO (p=0.000000<0.016667)\n",
      "Rejecting null hypothesis that data is normal for column RandomSearch (p=0.000000<0.016667)\n",
      "Using Friedman test as omnibus test\n",
      "Rejecting null hypothesis that there is no difference between the distributions (p=0.000703)\n",
      "Using Nemenyi post-hoc test. Differences are significant,if the distance between the mean ranks is greater than the critical distance.\n",
      "              meanrank    median       mad  ci_lower  ci_upper effect_size  \\\n",
      "Nevergrad-DE  1.714286  0.007476  0.007264  0.001327  0.034136         0.0   \n",
      "Optuna-MO     1.961039  0.008571  0.008534  0.003549  0.051167   -0.093206   \n",
      "RandomSearch  2.324675  0.010683  0.010583  0.002854  0.051639   -0.238346   \n",
      "\n",
      "               magnitude  \n",
      "Nevergrad-DE  negligible  \n",
      "Optuna-MO     negligible  \n",
      "RandomSearch       small  \n"
     ]
    },
    {
     "name": "stderr",
     "output_type": "stream",
     "text": [
      "/home/numina/micromamba/envs/carpsexp/lib/python3.11/site-packages/autorank/_util.py:432: FutureWarning: Series.__getitem__ treating keys as positions is deprecated. In a future version, integer keys will always be treated as labels (consistent with DataFrame behavior). To access a value by position, use `ser.iloc[pos]`\n",
      "  if abs(sorted_ranks[i] - sorted_ranks[j]) <= critical_difference:\n"
     ]
    },
    {
     "data": {
      "text/html": [
       "<pre style=\"white-space:pre;overflow-x:auto;line-height:normal;font-family:Menlo,'DejaVu Sans Mono',consolas,'Courier New',monospace\"><span style=\"color: #7fbfbf; text-decoration-color: #7fbfbf\">[19:03:12] </span><span style=\"color: #000080; text-decoration-color: #000080\">INFO    </span> Lost following experiments: optimizer_id                      Nevergrad-DE  <a href=\"file:///home/numina/Documents/repos/CARP-S-Experiments/lib/CARP-S/carps/analysis/run_autorank.py\" target=\"_blank\"><span style=\"color: #7f7f7f; text-decoration-color: #7f7f7f\">run_autorank.py</span></a><span style=\"color: #7f7f7f; text-decoration-color: #7f7f7f\">:</span><a href=\"file:///home/numina/Documents/repos/CARP-S-Experiments/lib/CARP-S/carps/analysis/run_autorank.py#113\" target=\"_blank\"><span style=\"color: #7f7f7f; text-decoration-color: #7f7f7f\">113</span></a>\n",
       "<span style=\"color: #7fbfbf; text-decoration-color: #7fbfbf\">           </span>         Optuna-MO  RandomSearch                                                     <span style=\"color: #7f7f7f; text-decoration-color: #7f7f7f\">                   </span>\n",
       "<span style=\"color: #7fbfbf; text-decoration-color: #7fbfbf\">           </span>         problem_id                                                                  <span style=\"color: #7f7f7f; text-decoration-color: #7f7f7f\">                   </span>\n",
       "<span style=\"color: #7fbfbf; text-decoration-color: #7fbfbf\">           </span>         yahpo/mo/iaml_ranger/<span style=\"color: #008080; text-decoration-color: #008080; font-weight: bold\">1067</span>/<span style=\"color: #800080; text-decoration-color: #800080; font-style: italic\">None</span>        <span style=\"color: #008080; text-decoration-color: #008080; font-weight: bold\">0.336826</span>        NaN      <span style=\"color: #008080; text-decoration-color: #008080; font-weight: bold\">0.217303</span>     <span style=\"color: #7f7f7f; text-decoration-color: #7f7f7f\">                   </span>\n",
       "<span style=\"color: #7fbfbf; text-decoration-color: #7fbfbf\">           </span>         yahpo/mo/iaml_super/<span style=\"color: #008080; text-decoration-color: #008080; font-weight: bold\">1067</span>/<span style=\"color: #800080; text-decoration-color: #800080; font-style: italic\">None</span>              NaN        NaN      <span style=\"color: #008080; text-decoration-color: #008080; font-weight: bold\">0.000075</span>     <span style=\"color: #7f7f7f; text-decoration-color: #7f7f7f\">                   </span>\n",
       "<span style=\"color: #7fbfbf; text-decoration-color: #7fbfbf\">           </span>         yahpo/mo/iaml_xgboost/<span style=\"color: #008080; text-decoration-color: #008080; font-weight: bold\">1489</span>/<span style=\"color: #800080; text-decoration-color: #800080; font-style: italic\">None</span>       <span style=\"color: #008080; text-decoration-color: #008080; font-weight: bold\">0.203513</span>        NaN      <span style=\"color: #008080; text-decoration-color: #008080; font-weight: bold\">0.000394</span>     <span style=\"color: #7f7f7f; text-decoration-color: #7f7f7f\">                   </span>\n",
       "<span style=\"color: #7fbfbf; text-decoration-color: #7fbfbf\">           </span>         yahpo/mo/iaml_xgboost/<span style=\"color: #008080; text-decoration-color: #008080; font-weight: bold\">40981</span>/<span style=\"color: #800080; text-decoration-color: #800080; font-style: italic\">None</span>      <span style=\"color: #008080; text-decoration-color: #008080; font-weight: bold\">0.201979</span>        NaN      <span style=\"color: #008080; text-decoration-color: #008080; font-weight: bold\">0.001476</span>     <span style=\"color: #7f7f7f; text-decoration-color: #7f7f7f\">                   </span>\n",
       "<span style=\"color: #7fbfbf; text-decoration-color: #7fbfbf\">           </span>         yahpo/mo/rbv2_ranger/<span style=\"color: #008080; text-decoration-color: #008080; font-weight: bold\">375</span>/<span style=\"color: #800080; text-decoration-color: #800080; font-style: italic\">None</span>         <span style=\"color: #008080; text-decoration-color: #008080; font-weight: bold\">0.218806</span>        NaN      <span style=\"color: #008080; text-decoration-color: #008080; font-weight: bold\">0.049281</span>     <span style=\"color: #7f7f7f; text-decoration-color: #7f7f7f\">                   </span>\n",
       "<span style=\"color: #7fbfbf; text-decoration-color: #7fbfbf\">           </span>         yahpo/mo/rbv2_ranger/<span style=\"color: #008080; text-decoration-color: #008080; font-weight: bold\">6</span>/<span style=\"color: #800080; text-decoration-color: #800080; font-style: italic\">None</span>           <span style=\"color: #008080; text-decoration-color: #008080; font-weight: bold\">0.110805</span>        NaN      <span style=\"color: #008080; text-decoration-color: #008080; font-weight: bold\">0.017989</span>     <span style=\"color: #7f7f7f; text-decoration-color: #7f7f7f\">                   </span>\n",
       "<span style=\"color: #7fbfbf; text-decoration-color: #7fbfbf\">           </span>         yahpo/mo/rbv2_super/<span style=\"color: #008080; text-decoration-color: #008080; font-weight: bold\">6</span>/<span style=\"color: #800080; text-decoration-color: #800080; font-style: italic\">None</span>                 NaN        NaN      <span style=\"color: #008080; text-decoration-color: #008080; font-weight: bold\">0.000088</span>     <span style=\"color: #7f7f7f; text-decoration-color: #7f7f7f\">                   </span>\n",
       "<span style=\"color: #7fbfbf; text-decoration-color: #7fbfbf\">           </span>         yahpo/mo/rbv2_xgboost/<span style=\"color: #008080; text-decoration-color: #008080; font-weight: bold\">12</span>/<span style=\"color: #800080; text-decoration-color: #800080; font-style: italic\">None</span>         <span style=\"color: #008080; text-decoration-color: #008080; font-weight: bold\">0.040141</span>        NaN      <span style=\"color: #008080; text-decoration-color: #008080; font-weight: bold\">0.000009</span>     <span style=\"color: #7f7f7f; text-decoration-color: #7f7f7f\">                   </span>\n",
       "<span style=\"color: #7fbfbf; text-decoration-color: #7fbfbf\">           </span>         yahpo/mo/rbv2_xgboost/<span style=\"color: #008080; text-decoration-color: #008080; font-weight: bold\">182</span>/<span style=\"color: #800080; text-decoration-color: #800080; font-style: italic\">None</span>        <span style=\"color: #008080; text-decoration-color: #008080; font-weight: bold\">0.010498</span>        NaN      <span style=\"color: #008080; text-decoration-color: #008080; font-weight: bold\">0.000003</span>     <span style=\"color: #7f7f7f; text-decoration-color: #7f7f7f\">                   </span>\n",
       "<span style=\"color: #7fbfbf; text-decoration-color: #7fbfbf\">           </span>         yahpo/mo/rbv2_xgboost/<span style=\"color: #008080; text-decoration-color: #008080; font-weight: bold\">28</span>/<span style=\"color: #800080; text-decoration-color: #800080; font-style: italic\">None</span>         <span style=\"color: #008080; text-decoration-color: #008080; font-weight: bold\">0.007840</span>        NaN      <span style=\"color: #008080; text-decoration-color: #008080; font-weight: bold\">0.000001</span>     <span style=\"color: #7f7f7f; text-decoration-color: #7f7f7f\">                   </span>\n",
       "</pre>\n"
      ],
      "text/plain": [
       "\u001b[2;36m[19:03:12]\u001b[0m\u001b[2;36m \u001b[0m\u001b[34mINFO    \u001b[0m Lost following experiments: optimizer_id                      Nevergrad-DE  \u001b]8;id=444844;file:///home/numina/Documents/repos/CARP-S-Experiments/lib/CARP-S/carps/analysis/run_autorank.py\u001b\\\u001b[2mrun_autorank.py\u001b[0m\u001b]8;;\u001b\\\u001b[2m:\u001b[0m\u001b]8;id=406073;file:///home/numina/Documents/repos/CARP-S-Experiments/lib/CARP-S/carps/analysis/run_autorank.py#113\u001b\\\u001b[2m113\u001b[0m\u001b]8;;\u001b\\\n",
       "\u001b[2;36m           \u001b[0m         Optuna-MO  RandomSearch                                                     \u001b[2m                   \u001b[0m\n",
       "\u001b[2;36m           \u001b[0m         problem_id                                                                  \u001b[2m                   \u001b[0m\n",
       "\u001b[2;36m           \u001b[0m         yahpo/mo/iaml_ranger/\u001b[1;36m1067\u001b[0m/\u001b[3;35mNone\u001b[0m        \u001b[1;36m0.336826\u001b[0m        NaN      \u001b[1;36m0.217303\u001b[0m     \u001b[2m                   \u001b[0m\n",
       "\u001b[2;36m           \u001b[0m         yahpo/mo/iaml_super/\u001b[1;36m1067\u001b[0m/\u001b[3;35mNone\u001b[0m              NaN        NaN      \u001b[1;36m0.000075\u001b[0m     \u001b[2m                   \u001b[0m\n",
       "\u001b[2;36m           \u001b[0m         yahpo/mo/iaml_xgboost/\u001b[1;36m1489\u001b[0m/\u001b[3;35mNone\u001b[0m       \u001b[1;36m0.203513\u001b[0m        NaN      \u001b[1;36m0.000394\u001b[0m     \u001b[2m                   \u001b[0m\n",
       "\u001b[2;36m           \u001b[0m         yahpo/mo/iaml_xgboost/\u001b[1;36m40981\u001b[0m/\u001b[3;35mNone\u001b[0m      \u001b[1;36m0.201979\u001b[0m        NaN      \u001b[1;36m0.001476\u001b[0m     \u001b[2m                   \u001b[0m\n",
       "\u001b[2;36m           \u001b[0m         yahpo/mo/rbv2_ranger/\u001b[1;36m375\u001b[0m/\u001b[3;35mNone\u001b[0m         \u001b[1;36m0.218806\u001b[0m        NaN      \u001b[1;36m0.049281\u001b[0m     \u001b[2m                   \u001b[0m\n",
       "\u001b[2;36m           \u001b[0m         yahpo/mo/rbv2_ranger/\u001b[1;36m6\u001b[0m/\u001b[3;35mNone\u001b[0m           \u001b[1;36m0.110805\u001b[0m        NaN      \u001b[1;36m0.017989\u001b[0m     \u001b[2m                   \u001b[0m\n",
       "\u001b[2;36m           \u001b[0m         yahpo/mo/rbv2_super/\u001b[1;36m6\u001b[0m/\u001b[3;35mNone\u001b[0m                 NaN        NaN      \u001b[1;36m0.000088\u001b[0m     \u001b[2m                   \u001b[0m\n",
       "\u001b[2;36m           \u001b[0m         yahpo/mo/rbv2_xgboost/\u001b[1;36m12\u001b[0m/\u001b[3;35mNone\u001b[0m         \u001b[1;36m0.040141\u001b[0m        NaN      \u001b[1;36m0.000009\u001b[0m     \u001b[2m                   \u001b[0m\n",
       "\u001b[2;36m           \u001b[0m         yahpo/mo/rbv2_xgboost/\u001b[1;36m182\u001b[0m/\u001b[3;35mNone\u001b[0m        \u001b[1;36m0.010498\u001b[0m        NaN      \u001b[1;36m0.000003\u001b[0m     \u001b[2m                   \u001b[0m\n",
       "\u001b[2;36m           \u001b[0m         yahpo/mo/rbv2_xgboost/\u001b[1;36m28\u001b[0m/\u001b[3;35mNone\u001b[0m         \u001b[1;36m0.007840\u001b[0m        NaN      \u001b[1;36m0.000001\u001b[0m     \u001b[2m                   \u001b[0m\n"
      ]
     },
     "metadata": {},
     "output_type": "display_data"
    },
    {
     "name": "stdout",
     "output_type": "stream",
     "text": [
      "Rejecting null hypothesis that data is normal for column Nevergrad-DE (p=0.000000<0.016667)\n",
      "Rejecting null hypothesis that data is normal for column Optuna-MO (p=0.000000<0.016667)\n",
      "Rejecting null hypothesis that data is normal for column RandomSearch (p=0.000000<0.016667)\n",
      "Using Friedman test as omnibus test\n",
      "Rejecting null hypothesis that there is no difference between the distributions (p=0.000031)\n",
      "Using Nemenyi post-hoc test. Differences are significant,if the distance between the mean ranks is greater than the critical distance.\n",
      "              meanrank    median       mad  ci_lower  ci_upper effect_size  \\\n",
      "Nevergrad-DE  1.643678  0.007352  0.007049  0.001258   0.03076         0.0   \n",
      "Optuna-MO     2.022989  0.008966  0.008873   0.00268  0.052571   -0.135797   \n",
      "RandomSearch  2.333333  0.010496  0.010097  0.003702  0.045352   -0.243499   \n",
      "\n",
      "               magnitude  \n",
      "Nevergrad-DE  negligible  \n",
      "Optuna-MO     negligible  \n",
      "RandomSearch       small  \n"
     ]
    },
    {
     "name": "stderr",
     "output_type": "stream",
     "text": [
      "/home/numina/micromamba/envs/carpsexp/lib/python3.11/site-packages/autorank/_util.py:432: FutureWarning: Series.__getitem__ treating keys as positions is deprecated. In a future version, integer keys will always be treated as labels (consistent with DataFrame behavior). To access a value by position, use `ser.iloc[pos]`\n",
      "  if abs(sorted_ranks[i] - sorted_ranks[j]) <= critical_difference:\n"
     ]
    },
    {
     "data": {
      "text/html": [
       "<pre style=\"white-space:pre;overflow-x:auto;line-height:normal;font-family:Menlo,'DejaVu Sans Mono',consolas,'Courier New',monospace\"><span style=\"color: #7fbfbf; text-decoration-color: #7fbfbf\">[19:03:13] </span><span style=\"color: #000080; text-decoration-color: #000080\">INFO    </span> Lost following experiments: optimizer_id                      Nevergrad-DE  <a href=\"file:///home/numina/Documents/repos/CARP-S-Experiments/lib/CARP-S/carps/analysis/run_autorank.py\" target=\"_blank\"><span style=\"color: #7f7f7f; text-decoration-color: #7f7f7f\">run_autorank.py</span></a><span style=\"color: #7f7f7f; text-decoration-color: #7f7f7f\">:</span><a href=\"file:///home/numina/Documents/repos/CARP-S-Experiments/lib/CARP-S/carps/analysis/run_autorank.py#113\" target=\"_blank\"><span style=\"color: #7f7f7f; text-decoration-color: #7f7f7f\">113</span></a>\n",
       "<span style=\"color: #7fbfbf; text-decoration-color: #7fbfbf\">           </span>         Optuna-MO  RandomSearch                                                     <span style=\"color: #7f7f7f; text-decoration-color: #7f7f7f\">                   </span>\n",
       "<span style=\"color: #7fbfbf; text-decoration-color: #7fbfbf\">           </span>         problem_id                                                                  <span style=\"color: #7f7f7f; text-decoration-color: #7f7f7f\">                   </span>\n",
       "<span style=\"color: #7fbfbf; text-decoration-color: #7fbfbf\">           </span>         yahpo/mo/iaml_ranger/<span style=\"color: #008080; text-decoration-color: #008080; font-weight: bold\">1067</span>/<span style=\"color: #800080; text-decoration-color: #800080; font-style: italic\">None</span>        <span style=\"color: #008080; text-decoration-color: #008080; font-weight: bold\">0.336826</span>        NaN      <span style=\"color: #008080; text-decoration-color: #008080; font-weight: bold\">0.217303</span>     <span style=\"color: #7f7f7f; text-decoration-color: #7f7f7f\">                   </span>\n",
       "<span style=\"color: #7fbfbf; text-decoration-color: #7fbfbf\">           </span>         yahpo/mo/iaml_ranger/<span style=\"color: #008080; text-decoration-color: #008080; font-weight: bold\">1489</span>/<span style=\"color: #800080; text-decoration-color: #800080; font-style: italic\">None</span>        <span style=\"color: #008080; text-decoration-color: #008080; font-weight: bold\">0.174604</span>        NaN      <span style=\"color: #008080; text-decoration-color: #008080; font-weight: bold\">0.004866</span>     <span style=\"color: #7f7f7f; text-decoration-color: #7f7f7f\">                   </span>\n",
       "<span style=\"color: #7fbfbf; text-decoration-color: #7fbfbf\">           </span>         yahpo/mo/iaml_super/<span style=\"color: #008080; text-decoration-color: #008080; font-weight: bold\">1067</span>/<span style=\"color: #800080; text-decoration-color: #800080; font-style: italic\">None</span>              NaN        NaN      <span style=\"color: #008080; text-decoration-color: #008080; font-weight: bold\">0.000075</span>     <span style=\"color: #7f7f7f; text-decoration-color: #7f7f7f\">                   </span>\n",
       "<span style=\"color: #7fbfbf; text-decoration-color: #7fbfbf\">           </span>         yahpo/mo/iaml_super/<span style=\"color: #008080; text-decoration-color: #008080; font-weight: bold\">1489</span>/<span style=\"color: #800080; text-decoration-color: #800080; font-style: italic\">None</span>              NaN        NaN      <span style=\"color: #008080; text-decoration-color: #008080; font-weight: bold\">0.000240</span>     <span style=\"color: #7f7f7f; text-decoration-color: #7f7f7f\">                   </span>\n",
       "<span style=\"color: #7fbfbf; text-decoration-color: #7fbfbf\">           </span>         yahpo/mo/iaml_xgboost/<span style=\"color: #008080; text-decoration-color: #008080; font-weight: bold\">1489</span>/<span style=\"color: #800080; text-decoration-color: #800080; font-style: italic\">None</span>       <span style=\"color: #008080; text-decoration-color: #008080; font-weight: bold\">0.203513</span>        NaN      <span style=\"color: #008080; text-decoration-color: #008080; font-weight: bold\">0.000394</span>     <span style=\"color: #7f7f7f; text-decoration-color: #7f7f7f\">                   </span>\n",
       "<span style=\"color: #7fbfbf; text-decoration-color: #7fbfbf\">           </span>         yahpo/mo/iaml_xgboost/<span style=\"color: #008080; text-decoration-color: #008080; font-weight: bold\">40981</span>/<span style=\"color: #800080; text-decoration-color: #800080; font-style: italic\">None</span>      <span style=\"color: #008080; text-decoration-color: #008080; font-weight: bold\">0.201979</span>        NaN      <span style=\"color: #008080; text-decoration-color: #008080; font-weight: bold\">0.001476</span>     <span style=\"color: #7f7f7f; text-decoration-color: #7f7f7f\">                   </span>\n",
       "<span style=\"color: #7fbfbf; text-decoration-color: #7fbfbf\">           </span>         yahpo/mo/rbv2_ranger/<span style=\"color: #008080; text-decoration-color: #008080; font-weight: bold\">375</span>/<span style=\"color: #800080; text-decoration-color: #800080; font-style: italic\">None</span>         <span style=\"color: #008080; text-decoration-color: #008080; font-weight: bold\">0.218806</span>        NaN      <span style=\"color: #008080; text-decoration-color: #008080; font-weight: bold\">0.049281</span>     <span style=\"color: #7f7f7f; text-decoration-color: #7f7f7f\">                   </span>\n",
       "<span style=\"color: #7fbfbf; text-decoration-color: #7fbfbf\">           </span>         yahpo/mo/rbv2_ranger/<span style=\"color: #008080; text-decoration-color: #008080; font-weight: bold\">40979</span>/<span style=\"color: #800080; text-decoration-color: #800080; font-style: italic\">None</span>       <span style=\"color: #008080; text-decoration-color: #008080; font-weight: bold\">0.197883</span>        NaN      <span style=\"color: #008080; text-decoration-color: #008080; font-weight: bold\">0.067001</span>     <span style=\"color: #7f7f7f; text-decoration-color: #7f7f7f\">                   </span>\n",
       "<span style=\"color: #7fbfbf; text-decoration-color: #7fbfbf\">           </span>         yahpo/mo/rbv2_super/<span style=\"color: #008080; text-decoration-color: #008080; font-weight: bold\">1053</span>/<span style=\"color: #800080; text-decoration-color: #800080; font-style: italic\">None</span>              NaN        NaN      <span style=\"color: #008080; text-decoration-color: #008080; font-weight: bold\">0.005830</span>     <span style=\"color: #7f7f7f; text-decoration-color: #7f7f7f\">                   </span>\n",
       "<span style=\"color: #7fbfbf; text-decoration-color: #7fbfbf\">           </span>         yahpo/mo/rbv2_super/<span style=\"color: #008080; text-decoration-color: #008080; font-weight: bold\">1457</span>/<span style=\"color: #800080; text-decoration-color: #800080; font-style: italic\">None</span>              NaN        NaN      <span style=\"color: #008080; text-decoration-color: #008080; font-weight: bold\">0.000074</span>     <span style=\"color: #7f7f7f; text-decoration-color: #7f7f7f\">                   </span>\n",
       "<span style=\"color: #7fbfbf; text-decoration-color: #7fbfbf\">           </span>         yahpo/mo/rbv2_xgboost/<span style=\"color: #008080; text-decoration-color: #008080; font-weight: bold\">12</span>/<span style=\"color: #800080; text-decoration-color: #800080; font-style: italic\">None</span>         <span style=\"color: #008080; text-decoration-color: #008080; font-weight: bold\">0.040141</span>        NaN      <span style=\"color: #008080; text-decoration-color: #008080; font-weight: bold\">0.000009</span>     <span style=\"color: #7f7f7f; text-decoration-color: #7f7f7f\">                   </span>\n",
       "<span style=\"color: #7fbfbf; text-decoration-color: #7fbfbf\">           </span>         yahpo/mo/rbv2_xgboost/<span style=\"color: #008080; text-decoration-color: #008080; font-weight: bold\">182</span>/<span style=\"color: #800080; text-decoration-color: #800080; font-style: italic\">None</span>        <span style=\"color: #008080; text-decoration-color: #008080; font-weight: bold\">0.010498</span>        NaN      <span style=\"color: #008080; text-decoration-color: #008080; font-weight: bold\">0.000003</span>     <span style=\"color: #7f7f7f; text-decoration-color: #7f7f7f\">                   </span>\n",
       "<span style=\"color: #7fbfbf; text-decoration-color: #7fbfbf\">           </span>         yahpo/mo/rbv2_xgboost/<span style=\"color: #008080; text-decoration-color: #008080; font-weight: bold\">28</span>/<span style=\"color: #800080; text-decoration-color: #800080; font-style: italic\">None</span>         <span style=\"color: #008080; text-decoration-color: #008080; font-weight: bold\">0.007840</span>        NaN      <span style=\"color: #008080; text-decoration-color: #008080; font-weight: bold\">0.000001</span>     <span style=\"color: #7f7f7f; text-decoration-color: #7f7f7f\">                   </span>\n",
       "</pre>\n"
      ],
      "text/plain": [
       "\u001b[2;36m[19:03:13]\u001b[0m\u001b[2;36m \u001b[0m\u001b[34mINFO    \u001b[0m Lost following experiments: optimizer_id                      Nevergrad-DE  \u001b]8;id=586154;file:///home/numina/Documents/repos/CARP-S-Experiments/lib/CARP-S/carps/analysis/run_autorank.py\u001b\\\u001b[2mrun_autorank.py\u001b[0m\u001b]8;;\u001b\\\u001b[2m:\u001b[0m\u001b]8;id=807709;file:///home/numina/Documents/repos/CARP-S-Experiments/lib/CARP-S/carps/analysis/run_autorank.py#113\u001b\\\u001b[2m113\u001b[0m\u001b]8;;\u001b\\\n",
       "\u001b[2;36m           \u001b[0m         Optuna-MO  RandomSearch                                                     \u001b[2m                   \u001b[0m\n",
       "\u001b[2;36m           \u001b[0m         problem_id                                                                  \u001b[2m                   \u001b[0m\n",
       "\u001b[2;36m           \u001b[0m         yahpo/mo/iaml_ranger/\u001b[1;36m1067\u001b[0m/\u001b[3;35mNone\u001b[0m        \u001b[1;36m0.336826\u001b[0m        NaN      \u001b[1;36m0.217303\u001b[0m     \u001b[2m                   \u001b[0m\n",
       "\u001b[2;36m           \u001b[0m         yahpo/mo/iaml_ranger/\u001b[1;36m1489\u001b[0m/\u001b[3;35mNone\u001b[0m        \u001b[1;36m0.174604\u001b[0m        NaN      \u001b[1;36m0.004866\u001b[0m     \u001b[2m                   \u001b[0m\n",
       "\u001b[2;36m           \u001b[0m         yahpo/mo/iaml_super/\u001b[1;36m1067\u001b[0m/\u001b[3;35mNone\u001b[0m              NaN        NaN      \u001b[1;36m0.000075\u001b[0m     \u001b[2m                   \u001b[0m\n",
       "\u001b[2;36m           \u001b[0m         yahpo/mo/iaml_super/\u001b[1;36m1489\u001b[0m/\u001b[3;35mNone\u001b[0m              NaN        NaN      \u001b[1;36m0.000240\u001b[0m     \u001b[2m                   \u001b[0m\n",
       "\u001b[2;36m           \u001b[0m         yahpo/mo/iaml_xgboost/\u001b[1;36m1489\u001b[0m/\u001b[3;35mNone\u001b[0m       \u001b[1;36m0.203513\u001b[0m        NaN      \u001b[1;36m0.000394\u001b[0m     \u001b[2m                   \u001b[0m\n",
       "\u001b[2;36m           \u001b[0m         yahpo/mo/iaml_xgboost/\u001b[1;36m40981\u001b[0m/\u001b[3;35mNone\u001b[0m      \u001b[1;36m0.201979\u001b[0m        NaN      \u001b[1;36m0.001476\u001b[0m     \u001b[2m                   \u001b[0m\n",
       "\u001b[2;36m           \u001b[0m         yahpo/mo/rbv2_ranger/\u001b[1;36m375\u001b[0m/\u001b[3;35mNone\u001b[0m         \u001b[1;36m0.218806\u001b[0m        NaN      \u001b[1;36m0.049281\u001b[0m     \u001b[2m                   \u001b[0m\n",
       "\u001b[2;36m           \u001b[0m         yahpo/mo/rbv2_ranger/\u001b[1;36m40979\u001b[0m/\u001b[3;35mNone\u001b[0m       \u001b[1;36m0.197883\u001b[0m        NaN      \u001b[1;36m0.067001\u001b[0m     \u001b[2m                   \u001b[0m\n",
       "\u001b[2;36m           \u001b[0m         yahpo/mo/rbv2_super/\u001b[1;36m1053\u001b[0m/\u001b[3;35mNone\u001b[0m              NaN        NaN      \u001b[1;36m0.005830\u001b[0m     \u001b[2m                   \u001b[0m\n",
       "\u001b[2;36m           \u001b[0m         yahpo/mo/rbv2_super/\u001b[1;36m1457\u001b[0m/\u001b[3;35mNone\u001b[0m              NaN        NaN      \u001b[1;36m0.000074\u001b[0m     \u001b[2m                   \u001b[0m\n",
       "\u001b[2;36m           \u001b[0m         yahpo/mo/rbv2_xgboost/\u001b[1;36m12\u001b[0m/\u001b[3;35mNone\u001b[0m         \u001b[1;36m0.040141\u001b[0m        NaN      \u001b[1;36m0.000009\u001b[0m     \u001b[2m                   \u001b[0m\n",
       "\u001b[2;36m           \u001b[0m         yahpo/mo/rbv2_xgboost/\u001b[1;36m182\u001b[0m/\u001b[3;35mNone\u001b[0m        \u001b[1;36m0.010498\u001b[0m        NaN      \u001b[1;36m0.000003\u001b[0m     \u001b[2m                   \u001b[0m\n",
       "\u001b[2;36m           \u001b[0m         yahpo/mo/rbv2_xgboost/\u001b[1;36m28\u001b[0m/\u001b[3;35mNone\u001b[0m         \u001b[1;36m0.007840\u001b[0m        NaN      \u001b[1;36m0.000001\u001b[0m     \u001b[2m                   \u001b[0m\n"
      ]
     },
     "metadata": {},
     "output_type": "display_data"
    },
    {
     "name": "stdout",
     "output_type": "stream",
     "text": [
      "Rejecting null hypothesis that data is normal for column Nevergrad-DE (p=0.000000<0.016667)\n",
      "Rejecting null hypothesis that data is normal for column Optuna-MO (p=0.000000<0.016667)\n",
      "Rejecting null hypothesis that data is normal for column RandomSearch (p=0.000000<0.016667)\n",
      "Using Friedman test as omnibus test\n",
      "Rejecting null hypothesis that there is no difference between the distributions (p=0.000137)\n",
      "Using Nemenyi post-hoc test. Differences are significant,if the distance between the mean ranks is greater than the critical distance.\n",
      "              meanrank    median       mad  ci_lower  ci_upper effect_size  \\\n",
      "Nevergrad-DE  1.717647  0.008545  0.008333  0.003887  0.064612         0.0   \n",
      "Optuna-MO     1.929412  0.009795  0.009702  0.004852  0.052571   -0.093261   \n",
      "RandomSearch  2.352941  0.013045  0.012646  0.007458  0.068263   -0.283457   \n",
      "\n",
      "               magnitude  \n",
      "Nevergrad-DE  negligible  \n",
      "Optuna-MO     negligible  \n",
      "RandomSearch       small  \n"
     ]
    },
    {
     "name": "stderr",
     "output_type": "stream",
     "text": [
      "/home/numina/micromamba/envs/carpsexp/lib/python3.11/site-packages/autorank/_util.py:432: FutureWarning: Series.__getitem__ treating keys as positions is deprecated. In a future version, integer keys will always be treated as labels (consistent with DataFrame behavior). To access a value by position, use `ser.iloc[pos]`\n",
      "  if abs(sorted_ranks[i] - sorted_ranks[j]) <= critical_difference:\n"
     ]
    },
    {
     "data": {
      "text/html": [
       "<pre style=\"white-space:pre;overflow-x:auto;line-height:normal;font-family:Menlo,'DejaVu Sans Mono',consolas,'Courier New',monospace\"><span style=\"color: #7fbfbf; text-decoration-color: #7fbfbf\">[19:03:14] </span><span style=\"color: #000080; text-decoration-color: #000080\">INFO    </span> Lost following experiments: optimizer_id                     Nevergrad-DE   <a href=\"file:///home/numina/Documents/repos/CARP-S-Experiments/lib/CARP-S/carps/analysis/run_autorank.py\" target=\"_blank\"><span style=\"color: #7f7f7f; text-decoration-color: #7f7f7f\">run_autorank.py</span></a><span style=\"color: #7f7f7f; text-decoration-color: #7f7f7f\">:</span><a href=\"file:///home/numina/Documents/repos/CARP-S-Experiments/lib/CARP-S/carps/analysis/run_autorank.py#113\" target=\"_blank\"><span style=\"color: #7f7f7f; text-decoration-color: #7f7f7f\">113</span></a>\n",
       "<span style=\"color: #7fbfbf; text-decoration-color: #7fbfbf\">           </span>         Optuna-MO  RandomSearch                                                     <span style=\"color: #7f7f7f; text-decoration-color: #7f7f7f\">                   </span>\n",
       "<span style=\"color: #7fbfbf; text-decoration-color: #7fbfbf\">           </span>         problem_id                                                                  <span style=\"color: #7f7f7f; text-decoration-color: #7f7f7f\">                   </span>\n",
       "<span style=\"color: #7fbfbf; text-decoration-color: #7fbfbf\">           </span>         yahpo/mo/iaml_ranger/<span style=\"color: #008080; text-decoration-color: #008080; font-weight: bold\">1067</span>/<span style=\"color: #800080; text-decoration-color: #800080; font-style: italic\">None</span>       <span style=\"color: #008080; text-decoration-color: #008080; font-weight: bold\">0.336826</span>        NaN      <span style=\"color: #008080; text-decoration-color: #008080; font-weight: bold\">0.217303</span>      <span style=\"color: #7f7f7f; text-decoration-color: #7f7f7f\">                   </span>\n",
       "<span style=\"color: #7fbfbf; text-decoration-color: #7fbfbf\">           </span>         yahpo/mo/iaml_ranger/<span style=\"color: #008080; text-decoration-color: #008080; font-weight: bold\">1489</span>/<span style=\"color: #800080; text-decoration-color: #800080; font-style: italic\">None</span>       <span style=\"color: #008080; text-decoration-color: #008080; font-weight: bold\">0.174604</span>        NaN      <span style=\"color: #008080; text-decoration-color: #008080; font-weight: bold\">0.004866</span>      <span style=\"color: #7f7f7f; text-decoration-color: #7f7f7f\">                   </span>\n",
       "<span style=\"color: #7fbfbf; text-decoration-color: #7fbfbf\">           </span>         yahpo/mo/iaml_super/<span style=\"color: #008080; text-decoration-color: #008080; font-weight: bold\">1067</span>/<span style=\"color: #800080; text-decoration-color: #800080; font-style: italic\">None</span>             NaN        NaN      <span style=\"color: #008080; text-decoration-color: #008080; font-weight: bold\">0.000075</span>      <span style=\"color: #7f7f7f; text-decoration-color: #7f7f7f\">                   </span>\n",
       "<span style=\"color: #7fbfbf; text-decoration-color: #7fbfbf\">           </span>         yahpo/mo/iaml_xgboost/<span style=\"color: #008080; text-decoration-color: #008080; font-weight: bold\">1489</span>/<span style=\"color: #800080; text-decoration-color: #800080; font-style: italic\">None</span>      <span style=\"color: #008080; text-decoration-color: #008080; font-weight: bold\">0.203513</span>        NaN      <span style=\"color: #008080; text-decoration-color: #008080; font-weight: bold\">0.000394</span>      <span style=\"color: #7f7f7f; text-decoration-color: #7f7f7f\">                   </span>\n",
       "<span style=\"color: #7fbfbf; text-decoration-color: #7fbfbf\">           </span>         yahpo/mo/rbv2_ranger/<span style=\"color: #008080; text-decoration-color: #008080; font-weight: bold\">375</span>/<span style=\"color: #800080; text-decoration-color: #800080; font-style: italic\">None</span>        <span style=\"color: #008080; text-decoration-color: #008080; font-weight: bold\">0.218806</span>        NaN      <span style=\"color: #008080; text-decoration-color: #008080; font-weight: bold\">0.049281</span>      <span style=\"color: #7f7f7f; text-decoration-color: #7f7f7f\">                   </span>\n",
       "<span style=\"color: #7fbfbf; text-decoration-color: #7fbfbf\">           </span>         yahpo/mo/rbv2_ranger/<span style=\"color: #008080; text-decoration-color: #008080; font-weight: bold\">40979</span>/<span style=\"color: #800080; text-decoration-color: #800080; font-style: italic\">None</span>      <span style=\"color: #008080; text-decoration-color: #008080; font-weight: bold\">0.197883</span>        NaN      <span style=\"color: #008080; text-decoration-color: #008080; font-weight: bold\">0.067001</span>      <span style=\"color: #7f7f7f; text-decoration-color: #7f7f7f\">                   </span>\n",
       "<span style=\"color: #7fbfbf; text-decoration-color: #7fbfbf\">           </span>         yahpo/mo/rbv2_ranger/<span style=\"color: #008080; text-decoration-color: #008080; font-weight: bold\">6</span>/<span style=\"color: #800080; text-decoration-color: #800080; font-style: italic\">None</span>          <span style=\"color: #008080; text-decoration-color: #008080; font-weight: bold\">0.110805</span>        NaN      <span style=\"color: #008080; text-decoration-color: #008080; font-weight: bold\">0.017989</span>      <span style=\"color: #7f7f7f; text-decoration-color: #7f7f7f\">                   </span>\n",
       "<span style=\"color: #7fbfbf; text-decoration-color: #7fbfbf\">           </span>         yahpo/mo/rbv2_super/<span style=\"color: #008080; text-decoration-color: #008080; font-weight: bold\">1053</span>/<span style=\"color: #800080; text-decoration-color: #800080; font-style: italic\">None</span>             NaN        NaN      <span style=\"color: #008080; text-decoration-color: #008080; font-weight: bold\">0.005830</span>      <span style=\"color: #7f7f7f; text-decoration-color: #7f7f7f\">                   </span>\n",
       "<span style=\"color: #7fbfbf; text-decoration-color: #7fbfbf\">           </span>         yahpo/mo/rbv2_super/<span style=\"color: #008080; text-decoration-color: #008080; font-weight: bold\">1457</span>/<span style=\"color: #800080; text-decoration-color: #800080; font-style: italic\">None</span>             NaN        NaN      <span style=\"color: #008080; text-decoration-color: #008080; font-weight: bold\">0.000074</span>      <span style=\"color: #7f7f7f; text-decoration-color: #7f7f7f\">                   </span>\n",
       "<span style=\"color: #7fbfbf; text-decoration-color: #7fbfbf\">           </span>         yahpo/mo/rbv2_super/<span style=\"color: #008080; text-decoration-color: #008080; font-weight: bold\">6</span>/<span style=\"color: #800080; text-decoration-color: #800080; font-style: italic\">None</span>                NaN        NaN      <span style=\"color: #008080; text-decoration-color: #008080; font-weight: bold\">0.000088</span>      <span style=\"color: #7f7f7f; text-decoration-color: #7f7f7f\">                   </span>\n",
       "<span style=\"color: #7fbfbf; text-decoration-color: #7fbfbf\">           </span>         yahpo/mo/rbv2_xgboost/<span style=\"color: #008080; text-decoration-color: #008080; font-weight: bold\">12</span>/<span style=\"color: #800080; text-decoration-color: #800080; font-style: italic\">None</span>        <span style=\"color: #008080; text-decoration-color: #008080; font-weight: bold\">0.040141</span>        NaN      <span style=\"color: #008080; text-decoration-color: #008080; font-weight: bold\">0.000009</span>      <span style=\"color: #7f7f7f; text-decoration-color: #7f7f7f\">                   </span>\n",
       "<span style=\"color: #7fbfbf; text-decoration-color: #7fbfbf\">           </span>         yahpo/mo/rbv2_xgboost/<span style=\"color: #008080; text-decoration-color: #008080; font-weight: bold\">28</span>/<span style=\"color: #800080; text-decoration-color: #800080; font-style: italic\">None</span>        <span style=\"color: #008080; text-decoration-color: #008080; font-weight: bold\">0.007840</span>        NaN      <span style=\"color: #008080; text-decoration-color: #008080; font-weight: bold\">0.000001</span>      <span style=\"color: #7f7f7f; text-decoration-color: #7f7f7f\">                   </span>\n",
       "</pre>\n"
      ],
      "text/plain": [
       "\u001b[2;36m[19:03:14]\u001b[0m\u001b[2;36m \u001b[0m\u001b[34mINFO    \u001b[0m Lost following experiments: optimizer_id                     Nevergrad-DE   \u001b]8;id=488865;file:///home/numina/Documents/repos/CARP-S-Experiments/lib/CARP-S/carps/analysis/run_autorank.py\u001b\\\u001b[2mrun_autorank.py\u001b[0m\u001b]8;;\u001b\\\u001b[2m:\u001b[0m\u001b]8;id=728723;file:///home/numina/Documents/repos/CARP-S-Experiments/lib/CARP-S/carps/analysis/run_autorank.py#113\u001b\\\u001b[2m113\u001b[0m\u001b]8;;\u001b\\\n",
       "\u001b[2;36m           \u001b[0m         Optuna-MO  RandomSearch                                                     \u001b[2m                   \u001b[0m\n",
       "\u001b[2;36m           \u001b[0m         problem_id                                                                  \u001b[2m                   \u001b[0m\n",
       "\u001b[2;36m           \u001b[0m         yahpo/mo/iaml_ranger/\u001b[1;36m1067\u001b[0m/\u001b[3;35mNone\u001b[0m       \u001b[1;36m0.336826\u001b[0m        NaN      \u001b[1;36m0.217303\u001b[0m      \u001b[2m                   \u001b[0m\n",
       "\u001b[2;36m           \u001b[0m         yahpo/mo/iaml_ranger/\u001b[1;36m1489\u001b[0m/\u001b[3;35mNone\u001b[0m       \u001b[1;36m0.174604\u001b[0m        NaN      \u001b[1;36m0.004866\u001b[0m      \u001b[2m                   \u001b[0m\n",
       "\u001b[2;36m           \u001b[0m         yahpo/mo/iaml_super/\u001b[1;36m1067\u001b[0m/\u001b[3;35mNone\u001b[0m             NaN        NaN      \u001b[1;36m0.000075\u001b[0m      \u001b[2m                   \u001b[0m\n",
       "\u001b[2;36m           \u001b[0m         yahpo/mo/iaml_xgboost/\u001b[1;36m1489\u001b[0m/\u001b[3;35mNone\u001b[0m      \u001b[1;36m0.203513\u001b[0m        NaN      \u001b[1;36m0.000394\u001b[0m      \u001b[2m                   \u001b[0m\n",
       "\u001b[2;36m           \u001b[0m         yahpo/mo/rbv2_ranger/\u001b[1;36m375\u001b[0m/\u001b[3;35mNone\u001b[0m        \u001b[1;36m0.218806\u001b[0m        NaN      \u001b[1;36m0.049281\u001b[0m      \u001b[2m                   \u001b[0m\n",
       "\u001b[2;36m           \u001b[0m         yahpo/mo/rbv2_ranger/\u001b[1;36m40979\u001b[0m/\u001b[3;35mNone\u001b[0m      \u001b[1;36m0.197883\u001b[0m        NaN      \u001b[1;36m0.067001\u001b[0m      \u001b[2m                   \u001b[0m\n",
       "\u001b[2;36m           \u001b[0m         yahpo/mo/rbv2_ranger/\u001b[1;36m6\u001b[0m/\u001b[3;35mNone\u001b[0m          \u001b[1;36m0.110805\u001b[0m        NaN      \u001b[1;36m0.017989\u001b[0m      \u001b[2m                   \u001b[0m\n",
       "\u001b[2;36m           \u001b[0m         yahpo/mo/rbv2_super/\u001b[1;36m1053\u001b[0m/\u001b[3;35mNone\u001b[0m             NaN        NaN      \u001b[1;36m0.005830\u001b[0m      \u001b[2m                   \u001b[0m\n",
       "\u001b[2;36m           \u001b[0m         yahpo/mo/rbv2_super/\u001b[1;36m1457\u001b[0m/\u001b[3;35mNone\u001b[0m             NaN        NaN      \u001b[1;36m0.000074\u001b[0m      \u001b[2m                   \u001b[0m\n",
       "\u001b[2;36m           \u001b[0m         yahpo/mo/rbv2_super/\u001b[1;36m6\u001b[0m/\u001b[3;35mNone\u001b[0m                NaN        NaN      \u001b[1;36m0.000088\u001b[0m      \u001b[2m                   \u001b[0m\n",
       "\u001b[2;36m           \u001b[0m         yahpo/mo/rbv2_xgboost/\u001b[1;36m12\u001b[0m/\u001b[3;35mNone\u001b[0m        \u001b[1;36m0.040141\u001b[0m        NaN      \u001b[1;36m0.000009\u001b[0m      \u001b[2m                   \u001b[0m\n",
       "\u001b[2;36m           \u001b[0m         yahpo/mo/rbv2_xgboost/\u001b[1;36m28\u001b[0m/\u001b[3;35mNone\u001b[0m        \u001b[1;36m0.007840\u001b[0m        NaN      \u001b[1;36m0.000001\u001b[0m      \u001b[2m                   \u001b[0m\n"
      ]
     },
     "metadata": {},
     "output_type": "display_data"
    },
    {
     "name": "stdout",
     "output_type": "stream",
     "text": [
      "Rejecting null hypothesis that data is normal for column Nevergrad-DE (p=0.000000<0.016667)\n",
      "Rejecting null hypothesis that data is normal for column Optuna-MO (p=0.000000<0.016667)\n",
      "Rejecting null hypothesis that data is normal for column RandomSearch (p=0.000000<0.016667)\n",
      "Using Friedman test as omnibus test\n",
      "Rejecting null hypothesis that there is no difference between the distributions (p=0.002263)\n",
      "Using Nemenyi post-hoc test. Differences are significant,if the distance between the mean ranks is greater than the critical distance.\n",
      "              meanrank    median       mad  ci_lower  ci_upper effect_size  \\\n",
      "Nevergrad-DE  1.701299  0.007491    0.0074  0.001327  0.044524         0.0   \n",
      "Optuna-MO     2.038961  0.008966  0.008933  0.002813  0.053638   -0.121237   \n",
      "RandomSearch  2.259740  0.011200    0.0111  0.002461  0.060729   -0.265182   \n",
      "\n",
      "               magnitude  \n",
      "Nevergrad-DE  negligible  \n",
      "Optuna-MO     negligible  \n",
      "RandomSearch       small  \n"
     ]
    },
    {
     "name": "stderr",
     "output_type": "stream",
     "text": [
      "/home/numina/micromamba/envs/carpsexp/lib/python3.11/site-packages/autorank/_util.py:432: FutureWarning: Series.__getitem__ treating keys as positions is deprecated. In a future version, integer keys will always be treated as labels (consistent with DataFrame behavior). To access a value by position, use `ser.iloc[pos]`\n",
      "  if abs(sorted_ranks[i] - sorted_ranks[j]) <= critical_difference:\n"
     ]
    },
    {
     "data": {
      "text/html": [
       "<pre style=\"white-space:pre;overflow-x:auto;line-height:normal;font-family:Menlo,'DejaVu Sans Mono',consolas,'Courier New',monospace\"><span style=\"color: #7fbfbf; text-decoration-color: #7fbfbf\">[19:03:16] </span><span style=\"color: #000080; text-decoration-color: #000080\">INFO    </span> Lost following experiments: optimizer_id                      Nevergrad-DE  <a href=\"file:///home/numina/Documents/repos/CARP-S-Experiments/lib/CARP-S/carps/analysis/run_autorank.py\" target=\"_blank\"><span style=\"color: #7f7f7f; text-decoration-color: #7f7f7f\">run_autorank.py</span></a><span style=\"color: #7f7f7f; text-decoration-color: #7f7f7f\">:</span><a href=\"file:///home/numina/Documents/repos/CARP-S-Experiments/lib/CARP-S/carps/analysis/run_autorank.py#113\" target=\"_blank\"><span style=\"color: #7f7f7f; text-decoration-color: #7f7f7f\">113</span></a>\n",
       "<span style=\"color: #7fbfbf; text-decoration-color: #7fbfbf\">           </span>         Optuna-MO  RandomSearch                                                     <span style=\"color: #7f7f7f; text-decoration-color: #7f7f7f\">                   </span>\n",
       "<span style=\"color: #7fbfbf; text-decoration-color: #7fbfbf\">           </span>         problem_id                                                                  <span style=\"color: #7f7f7f; text-decoration-color: #7f7f7f\">                   </span>\n",
       "<span style=\"color: #7fbfbf; text-decoration-color: #7fbfbf\">           </span>         yahpo/mo/iaml_ranger/<span style=\"color: #008080; text-decoration-color: #008080; font-weight: bold\">1489</span>/<span style=\"color: #800080; text-decoration-color: #800080; font-style: italic\">None</span>        <span style=\"color: #008080; text-decoration-color: #008080; font-weight: bold\">0.174604</span>        NaN      <span style=\"color: #008080; text-decoration-color: #008080; font-weight: bold\">0.004866</span>     <span style=\"color: #7f7f7f; text-decoration-color: #7f7f7f\">                   </span>\n",
       "<span style=\"color: #7fbfbf; text-decoration-color: #7fbfbf\">           </span>         yahpo/mo/iaml_super/<span style=\"color: #008080; text-decoration-color: #008080; font-weight: bold\">1489</span>/<span style=\"color: #800080; text-decoration-color: #800080; font-style: italic\">None</span>              NaN        NaN      <span style=\"color: #008080; text-decoration-color: #008080; font-weight: bold\">0.000240</span>     <span style=\"color: #7f7f7f; text-decoration-color: #7f7f7f\">                   </span>\n",
       "<span style=\"color: #7fbfbf; text-decoration-color: #7fbfbf\">           </span>         yahpo/mo/iaml_xgboost/<span style=\"color: #008080; text-decoration-color: #008080; font-weight: bold\">1489</span>/<span style=\"color: #800080; text-decoration-color: #800080; font-style: italic\">None</span>       <span style=\"color: #008080; text-decoration-color: #008080; font-weight: bold\">0.203513</span>        NaN      <span style=\"color: #008080; text-decoration-color: #008080; font-weight: bold\">0.000394</span>     <span style=\"color: #7f7f7f; text-decoration-color: #7f7f7f\">                   </span>\n",
       "<span style=\"color: #7fbfbf; text-decoration-color: #7fbfbf\">           </span>         yahpo/mo/iaml_xgboost/<span style=\"color: #008080; text-decoration-color: #008080; font-weight: bold\">40981</span>/<span style=\"color: #800080; text-decoration-color: #800080; font-style: italic\">None</span>      <span style=\"color: #008080; text-decoration-color: #008080; font-weight: bold\">0.201979</span>        NaN      <span style=\"color: #008080; text-decoration-color: #008080; font-weight: bold\">0.001476</span>     <span style=\"color: #7f7f7f; text-decoration-color: #7f7f7f\">                   </span>\n",
       "<span style=\"color: #7fbfbf; text-decoration-color: #7fbfbf\">           </span>         yahpo/mo/rbv2_ranger/<span style=\"color: #008080; text-decoration-color: #008080; font-weight: bold\">6</span>/<span style=\"color: #800080; text-decoration-color: #800080; font-style: italic\">None</span>           <span style=\"color: #008080; text-decoration-color: #008080; font-weight: bold\">0.110805</span>        NaN      <span style=\"color: #008080; text-decoration-color: #008080; font-weight: bold\">0.017989</span>     <span style=\"color: #7f7f7f; text-decoration-color: #7f7f7f\">                   </span>\n",
       "<span style=\"color: #7fbfbf; text-decoration-color: #7fbfbf\">           </span>         yahpo/mo/rbv2_super/<span style=\"color: #008080; text-decoration-color: #008080; font-weight: bold\">1053</span>/<span style=\"color: #800080; text-decoration-color: #800080; font-style: italic\">None</span>              NaN        NaN      <span style=\"color: #008080; text-decoration-color: #008080; font-weight: bold\">0.005830</span>     <span style=\"color: #7f7f7f; text-decoration-color: #7f7f7f\">                   </span>\n",
       "<span style=\"color: #7fbfbf; text-decoration-color: #7fbfbf\">           </span>         yahpo/mo/rbv2_super/<span style=\"color: #008080; text-decoration-color: #008080; font-weight: bold\">1457</span>/<span style=\"color: #800080; text-decoration-color: #800080; font-style: italic\">None</span>              NaN        NaN      <span style=\"color: #008080; text-decoration-color: #008080; font-weight: bold\">0.000074</span>     <span style=\"color: #7f7f7f; text-decoration-color: #7f7f7f\">                   </span>\n",
       "<span style=\"color: #7fbfbf; text-decoration-color: #7fbfbf\">           </span>         yahpo/mo/rbv2_xgboost/<span style=\"color: #008080; text-decoration-color: #008080; font-weight: bold\">12</span>/<span style=\"color: #800080; text-decoration-color: #800080; font-style: italic\">None</span>         <span style=\"color: #008080; text-decoration-color: #008080; font-weight: bold\">0.040141</span>        NaN      <span style=\"color: #008080; text-decoration-color: #008080; font-weight: bold\">0.000009</span>     <span style=\"color: #7f7f7f; text-decoration-color: #7f7f7f\">                   </span>\n",
       "<span style=\"color: #7fbfbf; text-decoration-color: #7fbfbf\">           </span>         yahpo/mo/rbv2_xgboost/<span style=\"color: #008080; text-decoration-color: #008080; font-weight: bold\">182</span>/<span style=\"color: #800080; text-decoration-color: #800080; font-style: italic\">None</span>        <span style=\"color: #008080; text-decoration-color: #008080; font-weight: bold\">0.010498</span>        NaN      <span style=\"color: #008080; text-decoration-color: #008080; font-weight: bold\">0.000003</span>     <span style=\"color: #7f7f7f; text-decoration-color: #7f7f7f\">                   </span>\n",
       "<span style=\"color: #7fbfbf; text-decoration-color: #7fbfbf\">           </span>         yahpo/mo/rbv2_xgboost/<span style=\"color: #008080; text-decoration-color: #008080; font-weight: bold\">28</span>/<span style=\"color: #800080; text-decoration-color: #800080; font-style: italic\">None</span>         <span style=\"color: #008080; text-decoration-color: #008080; font-weight: bold\">0.007840</span>        NaN      <span style=\"color: #008080; text-decoration-color: #008080; font-weight: bold\">0.000001</span>     <span style=\"color: #7f7f7f; text-decoration-color: #7f7f7f\">                   </span>\n",
       "</pre>\n"
      ],
      "text/plain": [
       "\u001b[2;36m[19:03:16]\u001b[0m\u001b[2;36m \u001b[0m\u001b[34mINFO    \u001b[0m Lost following experiments: optimizer_id                      Nevergrad-DE  \u001b]8;id=633789;file:///home/numina/Documents/repos/CARP-S-Experiments/lib/CARP-S/carps/analysis/run_autorank.py\u001b\\\u001b[2mrun_autorank.py\u001b[0m\u001b]8;;\u001b\\\u001b[2m:\u001b[0m\u001b]8;id=3162;file:///home/numina/Documents/repos/CARP-S-Experiments/lib/CARP-S/carps/analysis/run_autorank.py#113\u001b\\\u001b[2m113\u001b[0m\u001b]8;;\u001b\\\n",
       "\u001b[2;36m           \u001b[0m         Optuna-MO  RandomSearch                                                     \u001b[2m                   \u001b[0m\n",
       "\u001b[2;36m           \u001b[0m         problem_id                                                                  \u001b[2m                   \u001b[0m\n",
       "\u001b[2;36m           \u001b[0m         yahpo/mo/iaml_ranger/\u001b[1;36m1489\u001b[0m/\u001b[3;35mNone\u001b[0m        \u001b[1;36m0.174604\u001b[0m        NaN      \u001b[1;36m0.004866\u001b[0m     \u001b[2m                   \u001b[0m\n",
       "\u001b[2;36m           \u001b[0m         yahpo/mo/iaml_super/\u001b[1;36m1489\u001b[0m/\u001b[3;35mNone\u001b[0m              NaN        NaN      \u001b[1;36m0.000240\u001b[0m     \u001b[2m                   \u001b[0m\n",
       "\u001b[2;36m           \u001b[0m         yahpo/mo/iaml_xgboost/\u001b[1;36m1489\u001b[0m/\u001b[3;35mNone\u001b[0m       \u001b[1;36m0.203513\u001b[0m        NaN      \u001b[1;36m0.000394\u001b[0m     \u001b[2m                   \u001b[0m\n",
       "\u001b[2;36m           \u001b[0m         yahpo/mo/iaml_xgboost/\u001b[1;36m40981\u001b[0m/\u001b[3;35mNone\u001b[0m      \u001b[1;36m0.201979\u001b[0m        NaN      \u001b[1;36m0.001476\u001b[0m     \u001b[2m                   \u001b[0m\n",
       "\u001b[2;36m           \u001b[0m         yahpo/mo/rbv2_ranger/\u001b[1;36m6\u001b[0m/\u001b[3;35mNone\u001b[0m           \u001b[1;36m0.110805\u001b[0m        NaN      \u001b[1;36m0.017989\u001b[0m     \u001b[2m                   \u001b[0m\n",
       "\u001b[2;36m           \u001b[0m         yahpo/mo/rbv2_super/\u001b[1;36m1053\u001b[0m/\u001b[3;35mNone\u001b[0m              NaN        NaN      \u001b[1;36m0.005830\u001b[0m     \u001b[2m                   \u001b[0m\n",
       "\u001b[2;36m           \u001b[0m         yahpo/mo/rbv2_super/\u001b[1;36m1457\u001b[0m/\u001b[3;35mNone\u001b[0m              NaN        NaN      \u001b[1;36m0.000074\u001b[0m     \u001b[2m                   \u001b[0m\n",
       "\u001b[2;36m           \u001b[0m         yahpo/mo/rbv2_xgboost/\u001b[1;36m12\u001b[0m/\u001b[3;35mNone\u001b[0m         \u001b[1;36m0.040141\u001b[0m        NaN      \u001b[1;36m0.000009\u001b[0m     \u001b[2m                   \u001b[0m\n",
       "\u001b[2;36m           \u001b[0m         yahpo/mo/rbv2_xgboost/\u001b[1;36m182\u001b[0m/\u001b[3;35mNone\u001b[0m        \u001b[1;36m0.010498\u001b[0m        NaN      \u001b[1;36m0.000003\u001b[0m     \u001b[2m                   \u001b[0m\n",
       "\u001b[2;36m           \u001b[0m         yahpo/mo/rbv2_xgboost/\u001b[1;36m28\u001b[0m/\u001b[3;35mNone\u001b[0m         \u001b[1;36m0.007840\u001b[0m        NaN      \u001b[1;36m0.000001\u001b[0m     \u001b[2m                   \u001b[0m\n"
      ]
     },
     "metadata": {},
     "output_type": "display_data"
    },
    {
     "name": "stdout",
     "output_type": "stream",
     "text": [
      "Rejecting null hypothesis that data is normal for column Nevergrad-DE (p=0.000000<0.016667)\n",
      "Rejecting null hypothesis that data is normal for column Optuna-MO (p=0.000000<0.016667)\n",
      "Rejecting null hypothesis that data is normal for column RandomSearch (p=0.000000<0.016667)\n",
      "Using Friedman test as omnibus test\n",
      "Rejecting null hypothesis that there is no difference between the distributions (p=0.000546)\n",
      "Using Nemenyi post-hoc test. Differences are significant,if the distance between the mean ranks is greater than the critical distance.\n",
      "              meanrank    median       mad  ci_lower  ci_upper effect_size  \\\n",
      "Nevergrad-DE    1.6875  0.007897   0.00764  0.002486  0.062983         0.0   \n",
      "Optuna-MO       2.0125  0.009894  0.009862  0.004593  0.058713   -0.152642   \n",
      "RandomSearch    2.3000  0.011555  0.011411  0.005519  0.060899   -0.254032   \n",
      "\n",
      "               magnitude  \n",
      "Nevergrad-DE  negligible  \n",
      "Optuna-MO     negligible  \n",
      "RandomSearch       small  \n"
     ]
    },
    {
     "name": "stderr",
     "output_type": "stream",
     "text": [
      "/home/numina/micromamba/envs/carpsexp/lib/python3.11/site-packages/autorank/_util.py:432: FutureWarning: Series.__getitem__ treating keys as positions is deprecated. In a future version, integer keys will always be treated as labels (consistent with DataFrame behavior). To access a value by position, use `ser.iloc[pos]`\n",
      "  if abs(sorted_ranks[i] - sorted_ranks[j]) <= critical_difference:\n"
     ]
    },
    {
     "data": {
      "text/html": [
       "<pre style=\"white-space:pre;overflow-x:auto;line-height:normal;font-family:Menlo,'DejaVu Sans Mono',consolas,'Courier New',monospace\"><span style=\"color: #7fbfbf; text-decoration-color: #7fbfbf\">[19:03:17] </span><span style=\"color: #000080; text-decoration-color: #000080\">INFO    </span> Lost following experiments: optimizer_id                     Nevergrad-DE   <a href=\"file:///home/numina/Documents/repos/CARP-S-Experiments/lib/CARP-S/carps/analysis/run_autorank.py\" target=\"_blank\"><span style=\"color: #7f7f7f; text-decoration-color: #7f7f7f\">run_autorank.py</span></a><span style=\"color: #7f7f7f; text-decoration-color: #7f7f7f\">:</span><a href=\"file:///home/numina/Documents/repos/CARP-S-Experiments/lib/CARP-S/carps/analysis/run_autorank.py#113\" target=\"_blank\"><span style=\"color: #7f7f7f; text-decoration-color: #7f7f7f\">113</span></a>\n",
       "<span style=\"color: #7fbfbf; text-decoration-color: #7fbfbf\">           </span>         Optuna-MO  RandomSearch                                                     <span style=\"color: #7f7f7f; text-decoration-color: #7f7f7f\">                   </span>\n",
       "<span style=\"color: #7fbfbf; text-decoration-color: #7fbfbf\">           </span>         problem_id                                                                  <span style=\"color: #7f7f7f; text-decoration-color: #7f7f7f\">                   </span>\n",
       "<span style=\"color: #7fbfbf; text-decoration-color: #7fbfbf\">           </span>         yahpo/mo/iaml_ranger/<span style=\"color: #008080; text-decoration-color: #008080; font-weight: bold\">1067</span>/<span style=\"color: #800080; text-decoration-color: #800080; font-style: italic\">None</span>       <span style=\"color: #008080; text-decoration-color: #008080; font-weight: bold\">0.336826</span>        NaN      <span style=\"color: #008080; text-decoration-color: #008080; font-weight: bold\">0.217303</span>      <span style=\"color: #7f7f7f; text-decoration-color: #7f7f7f\">                   </span>\n",
       "<span style=\"color: #7fbfbf; text-decoration-color: #7fbfbf\">           </span>         yahpo/mo/iaml_ranger/<span style=\"color: #008080; text-decoration-color: #008080; font-weight: bold\">1489</span>/<span style=\"color: #800080; text-decoration-color: #800080; font-style: italic\">None</span>       <span style=\"color: #008080; text-decoration-color: #008080; font-weight: bold\">0.174604</span>        NaN      <span style=\"color: #008080; text-decoration-color: #008080; font-weight: bold\">0.004866</span>      <span style=\"color: #7f7f7f; text-decoration-color: #7f7f7f\">                   </span>\n",
       "<span style=\"color: #7fbfbf; text-decoration-color: #7fbfbf\">           </span>         yahpo/mo/iaml_super/<span style=\"color: #008080; text-decoration-color: #008080; font-weight: bold\">1067</span>/<span style=\"color: #800080; text-decoration-color: #800080; font-style: italic\">None</span>             NaN        NaN      <span style=\"color: #008080; text-decoration-color: #008080; font-weight: bold\">0.000075</span>      <span style=\"color: #7f7f7f; text-decoration-color: #7f7f7f\">                   </span>\n",
       "<span style=\"color: #7fbfbf; text-decoration-color: #7fbfbf\">           </span>         yahpo/mo/iaml_super/<span style=\"color: #008080; text-decoration-color: #008080; font-weight: bold\">1489</span>/<span style=\"color: #800080; text-decoration-color: #800080; font-style: italic\">None</span>             NaN        NaN      <span style=\"color: #008080; text-decoration-color: #008080; font-weight: bold\">0.000240</span>      <span style=\"color: #7f7f7f; text-decoration-color: #7f7f7f\">                   </span>\n",
       "<span style=\"color: #7fbfbf; text-decoration-color: #7fbfbf\">           </span>         yahpo/mo/iaml_xgboost/<span style=\"color: #008080; text-decoration-color: #008080; font-weight: bold\">1489</span>/<span style=\"color: #800080; text-decoration-color: #800080; font-style: italic\">None</span>      <span style=\"color: #008080; text-decoration-color: #008080; font-weight: bold\">0.203513</span>        NaN      <span style=\"color: #008080; text-decoration-color: #008080; font-weight: bold\">0.000394</span>      <span style=\"color: #7f7f7f; text-decoration-color: #7f7f7f\">                   </span>\n",
       "<span style=\"color: #7fbfbf; text-decoration-color: #7fbfbf\">           </span>         yahpo/mo/rbv2_ranger/<span style=\"color: #008080; text-decoration-color: #008080; font-weight: bold\">375</span>/<span style=\"color: #800080; text-decoration-color: #800080; font-style: italic\">None</span>        <span style=\"color: #008080; text-decoration-color: #008080; font-weight: bold\">0.218806</span>        NaN      <span style=\"color: #008080; text-decoration-color: #008080; font-weight: bold\">0.049281</span>      <span style=\"color: #7f7f7f; text-decoration-color: #7f7f7f\">                   </span>\n",
       "<span style=\"color: #7fbfbf; text-decoration-color: #7fbfbf\">           </span>         yahpo/mo/rbv2_ranger/<span style=\"color: #008080; text-decoration-color: #008080; font-weight: bold\">40979</span>/<span style=\"color: #800080; text-decoration-color: #800080; font-style: italic\">None</span>      <span style=\"color: #008080; text-decoration-color: #008080; font-weight: bold\">0.197883</span>        NaN      <span style=\"color: #008080; text-decoration-color: #008080; font-weight: bold\">0.067001</span>      <span style=\"color: #7f7f7f; text-decoration-color: #7f7f7f\">                   </span>\n",
       "<span style=\"color: #7fbfbf; text-decoration-color: #7fbfbf\">           </span>         yahpo/mo/rbv2_ranger/<span style=\"color: #008080; text-decoration-color: #008080; font-weight: bold\">6</span>/<span style=\"color: #800080; text-decoration-color: #800080; font-style: italic\">None</span>          <span style=\"color: #008080; text-decoration-color: #008080; font-weight: bold\">0.110805</span>        NaN      <span style=\"color: #008080; text-decoration-color: #008080; font-weight: bold\">0.017989</span>      <span style=\"color: #7f7f7f; text-decoration-color: #7f7f7f\">                   </span>\n",
       "<span style=\"color: #7fbfbf; text-decoration-color: #7fbfbf\">           </span>         yahpo/mo/rbv2_super/<span style=\"color: #008080; text-decoration-color: #008080; font-weight: bold\">1457</span>/<span style=\"color: #800080; text-decoration-color: #800080; font-style: italic\">None</span>             NaN        NaN      <span style=\"color: #008080; text-decoration-color: #008080; font-weight: bold\">0.000074</span>      <span style=\"color: #7f7f7f; text-decoration-color: #7f7f7f\">                   </span>\n",
       "<span style=\"color: #7fbfbf; text-decoration-color: #7fbfbf\">           </span>         yahpo/mo/rbv2_super/<span style=\"color: #008080; text-decoration-color: #008080; font-weight: bold\">6</span>/<span style=\"color: #800080; text-decoration-color: #800080; font-style: italic\">None</span>                NaN        NaN      <span style=\"color: #008080; text-decoration-color: #008080; font-weight: bold\">0.000088</span>      <span style=\"color: #7f7f7f; text-decoration-color: #7f7f7f\">                   </span>\n",
       "<span style=\"color: #7fbfbf; text-decoration-color: #7fbfbf\">           </span>         yahpo/mo/rbv2_xgboost/<span style=\"color: #008080; text-decoration-color: #008080; font-weight: bold\">182</span>/<span style=\"color: #800080; text-decoration-color: #800080; font-style: italic\">None</span>       <span style=\"color: #008080; text-decoration-color: #008080; font-weight: bold\">0.010498</span>        NaN      <span style=\"color: #008080; text-decoration-color: #008080; font-weight: bold\">0.000003</span>      <span style=\"color: #7f7f7f; text-decoration-color: #7f7f7f\">                   </span>\n",
       "<span style=\"color: #7fbfbf; text-decoration-color: #7fbfbf\">           </span>         yahpo/mo/rbv2_xgboost/<span style=\"color: #008080; text-decoration-color: #008080; font-weight: bold\">28</span>/<span style=\"color: #800080; text-decoration-color: #800080; font-style: italic\">None</span>        <span style=\"color: #008080; text-decoration-color: #008080; font-weight: bold\">0.007840</span>        NaN      <span style=\"color: #008080; text-decoration-color: #008080; font-weight: bold\">0.000001</span>      <span style=\"color: #7f7f7f; text-decoration-color: #7f7f7f\">                   </span>\n",
       "</pre>\n"
      ],
      "text/plain": [
       "\u001b[2;36m[19:03:17]\u001b[0m\u001b[2;36m \u001b[0m\u001b[34mINFO    \u001b[0m Lost following experiments: optimizer_id                     Nevergrad-DE   \u001b]8;id=899354;file:///home/numina/Documents/repos/CARP-S-Experiments/lib/CARP-S/carps/analysis/run_autorank.py\u001b\\\u001b[2mrun_autorank.py\u001b[0m\u001b]8;;\u001b\\\u001b[2m:\u001b[0m\u001b]8;id=554995;file:///home/numina/Documents/repos/CARP-S-Experiments/lib/CARP-S/carps/analysis/run_autorank.py#113\u001b\\\u001b[2m113\u001b[0m\u001b]8;;\u001b\\\n",
       "\u001b[2;36m           \u001b[0m         Optuna-MO  RandomSearch                                                     \u001b[2m                   \u001b[0m\n",
       "\u001b[2;36m           \u001b[0m         problem_id                                                                  \u001b[2m                   \u001b[0m\n",
       "\u001b[2;36m           \u001b[0m         yahpo/mo/iaml_ranger/\u001b[1;36m1067\u001b[0m/\u001b[3;35mNone\u001b[0m       \u001b[1;36m0.336826\u001b[0m        NaN      \u001b[1;36m0.217303\u001b[0m      \u001b[2m                   \u001b[0m\n",
       "\u001b[2;36m           \u001b[0m         yahpo/mo/iaml_ranger/\u001b[1;36m1489\u001b[0m/\u001b[3;35mNone\u001b[0m       \u001b[1;36m0.174604\u001b[0m        NaN      \u001b[1;36m0.004866\u001b[0m      \u001b[2m                   \u001b[0m\n",
       "\u001b[2;36m           \u001b[0m         yahpo/mo/iaml_super/\u001b[1;36m1067\u001b[0m/\u001b[3;35mNone\u001b[0m             NaN        NaN      \u001b[1;36m0.000075\u001b[0m      \u001b[2m                   \u001b[0m\n",
       "\u001b[2;36m           \u001b[0m         yahpo/mo/iaml_super/\u001b[1;36m1489\u001b[0m/\u001b[3;35mNone\u001b[0m             NaN        NaN      \u001b[1;36m0.000240\u001b[0m      \u001b[2m                   \u001b[0m\n",
       "\u001b[2;36m           \u001b[0m         yahpo/mo/iaml_xgboost/\u001b[1;36m1489\u001b[0m/\u001b[3;35mNone\u001b[0m      \u001b[1;36m0.203513\u001b[0m        NaN      \u001b[1;36m0.000394\u001b[0m      \u001b[2m                   \u001b[0m\n",
       "\u001b[2;36m           \u001b[0m         yahpo/mo/rbv2_ranger/\u001b[1;36m375\u001b[0m/\u001b[3;35mNone\u001b[0m        \u001b[1;36m0.218806\u001b[0m        NaN      \u001b[1;36m0.049281\u001b[0m      \u001b[2m                   \u001b[0m\n",
       "\u001b[2;36m           \u001b[0m         yahpo/mo/rbv2_ranger/\u001b[1;36m40979\u001b[0m/\u001b[3;35mNone\u001b[0m      \u001b[1;36m0.197883\u001b[0m        NaN      \u001b[1;36m0.067001\u001b[0m      \u001b[2m                   \u001b[0m\n",
       "\u001b[2;36m           \u001b[0m         yahpo/mo/rbv2_ranger/\u001b[1;36m6\u001b[0m/\u001b[3;35mNone\u001b[0m          \u001b[1;36m0.110805\u001b[0m        NaN      \u001b[1;36m0.017989\u001b[0m      \u001b[2m                   \u001b[0m\n",
       "\u001b[2;36m           \u001b[0m         yahpo/mo/rbv2_super/\u001b[1;36m1457\u001b[0m/\u001b[3;35mNone\u001b[0m             NaN        NaN      \u001b[1;36m0.000074\u001b[0m      \u001b[2m                   \u001b[0m\n",
       "\u001b[2;36m           \u001b[0m         yahpo/mo/rbv2_super/\u001b[1;36m6\u001b[0m/\u001b[3;35mNone\u001b[0m                NaN        NaN      \u001b[1;36m0.000088\u001b[0m      \u001b[2m                   \u001b[0m\n",
       "\u001b[2;36m           \u001b[0m         yahpo/mo/rbv2_xgboost/\u001b[1;36m182\u001b[0m/\u001b[3;35mNone\u001b[0m       \u001b[1;36m0.010498\u001b[0m        NaN      \u001b[1;36m0.000003\u001b[0m      \u001b[2m                   \u001b[0m\n",
       "\u001b[2;36m           \u001b[0m         yahpo/mo/rbv2_xgboost/\u001b[1;36m28\u001b[0m/\u001b[3;35mNone\u001b[0m        \u001b[1;36m0.007840\u001b[0m        NaN      \u001b[1;36m0.000001\u001b[0m      \u001b[2m                   \u001b[0m\n"
      ]
     },
     "metadata": {},
     "output_type": "display_data"
    },
    {
     "name": "stdout",
     "output_type": "stream",
     "text": [
      "Rejecting null hypothesis that data is normal for column Nevergrad-DE (p=0.000000<0.016667)\n",
      "Rejecting null hypothesis that data is normal for column Optuna-MO (p=0.000000<0.016667)\n",
      "Rejecting null hypothesis that data is normal for column RandomSearch (p=0.000000<0.016667)\n",
      "Using Friedman test as omnibus test\n",
      "Rejecting null hypothesis that there is no difference between the distributions (p=0.003504)\n",
      "Using Nemenyi post-hoc test. Differences are significant,if the distance between the mean ranks is greater than the critical distance.\n",
      "              meanrank    median       mad  ci_lower  ci_upper effect_size  \\\n",
      "Nevergrad-DE  1.807692  0.008578  0.008321  0.003283  0.064612         0.0   \n",
      "Optuna-MO     1.884615  0.009641  0.009576  0.004593  0.053638   -0.079914   \n",
      "RandomSearch  2.307692  0.013190  0.012591  0.007458   0.07337   -0.291523   \n",
      "\n",
      "               magnitude  \n",
      "Nevergrad-DE  negligible  \n",
      "Optuna-MO     negligible  \n",
      "RandomSearch       small  \n"
     ]
    },
    {
     "name": "stderr",
     "output_type": "stream",
     "text": [
      "/home/numina/micromamba/envs/carpsexp/lib/python3.11/site-packages/autorank/_util.py:432: FutureWarning: Series.__getitem__ treating keys as positions is deprecated. In a future version, integer keys will always be treated as labels (consistent with DataFrame behavior). To access a value by position, use `ser.iloc[pos]`\n",
      "  if abs(sorted_ranks[i] - sorted_ranks[j]) <= critical_difference:\n"
     ]
    },
    {
     "data": {
      "text/html": [
       "<pre style=\"white-space:pre;overflow-x:auto;line-height:normal;font-family:Menlo,'DejaVu Sans Mono',consolas,'Courier New',monospace\"><span style=\"color: #7fbfbf; text-decoration-color: #7fbfbf\">[19:03:18] </span><span style=\"color: #000080; text-decoration-color: #000080\">INFO    </span> Lost following experiments: optimizer_id                      Nevergrad-DE  <a href=\"file:///home/numina/Documents/repos/CARP-S-Experiments/lib/CARP-S/carps/analysis/run_autorank.py\" target=\"_blank\"><span style=\"color: #7f7f7f; text-decoration-color: #7f7f7f\">run_autorank.py</span></a><span style=\"color: #7f7f7f; text-decoration-color: #7f7f7f\">:</span><a href=\"file:///home/numina/Documents/repos/CARP-S-Experiments/lib/CARP-S/carps/analysis/run_autorank.py#113\" target=\"_blank\"><span style=\"color: #7f7f7f; text-decoration-color: #7f7f7f\">113</span></a>\n",
       "<span style=\"color: #7fbfbf; text-decoration-color: #7fbfbf\">           </span>         Optuna-MO  RandomSearch                                                     <span style=\"color: #7f7f7f; text-decoration-color: #7f7f7f\">                   </span>\n",
       "<span style=\"color: #7fbfbf; text-decoration-color: #7fbfbf\">           </span>         problem_id                                                                  <span style=\"color: #7f7f7f; text-decoration-color: #7f7f7f\">                   </span>\n",
       "<span style=\"color: #7fbfbf; text-decoration-color: #7fbfbf\">           </span>         yahpo/mo/iaml_ranger/<span style=\"color: #008080; text-decoration-color: #008080; font-weight: bold\">1067</span>/<span style=\"color: #800080; text-decoration-color: #800080; font-style: italic\">None</span>        <span style=\"color: #008080; text-decoration-color: #008080; font-weight: bold\">0.336826</span>        NaN      <span style=\"color: #008080; text-decoration-color: #008080; font-weight: bold\">0.217303</span>     <span style=\"color: #7f7f7f; text-decoration-color: #7f7f7f\">                   </span>\n",
       "<span style=\"color: #7fbfbf; text-decoration-color: #7fbfbf\">           </span>         yahpo/mo/iaml_ranger/<span style=\"color: #008080; text-decoration-color: #008080; font-weight: bold\">1489</span>/<span style=\"color: #800080; text-decoration-color: #800080; font-style: italic\">None</span>        <span style=\"color: #008080; text-decoration-color: #008080; font-weight: bold\">0.174604</span>        NaN      <span style=\"color: #008080; text-decoration-color: #008080; font-weight: bold\">0.004866</span>     <span style=\"color: #7f7f7f; text-decoration-color: #7f7f7f\">                   </span>\n",
       "<span style=\"color: #7fbfbf; text-decoration-color: #7fbfbf\">           </span>         yahpo/mo/iaml_super/<span style=\"color: #008080; text-decoration-color: #008080; font-weight: bold\">1067</span>/<span style=\"color: #800080; text-decoration-color: #800080; font-style: italic\">None</span>              NaN        NaN      <span style=\"color: #008080; text-decoration-color: #008080; font-weight: bold\">0.000075</span>     <span style=\"color: #7f7f7f; text-decoration-color: #7f7f7f\">                   </span>\n",
       "<span style=\"color: #7fbfbf; text-decoration-color: #7fbfbf\">           </span>         yahpo/mo/iaml_xgboost/<span style=\"color: #008080; text-decoration-color: #008080; font-weight: bold\">40981</span>/<span style=\"color: #800080; text-decoration-color: #800080; font-style: italic\">None</span>      <span style=\"color: #008080; text-decoration-color: #008080; font-weight: bold\">0.201979</span>        NaN      <span style=\"color: #008080; text-decoration-color: #008080; font-weight: bold\">0.001476</span>     <span style=\"color: #7f7f7f; text-decoration-color: #7f7f7f\">                   </span>\n",
       "<span style=\"color: #7fbfbf; text-decoration-color: #7fbfbf\">           </span>         yahpo/mo/rbv2_ranger/<span style=\"color: #008080; text-decoration-color: #008080; font-weight: bold\">375</span>/<span style=\"color: #800080; text-decoration-color: #800080; font-style: italic\">None</span>         <span style=\"color: #008080; text-decoration-color: #008080; font-weight: bold\">0.218806</span>        NaN      <span style=\"color: #008080; text-decoration-color: #008080; font-weight: bold\">0.049281</span>     <span style=\"color: #7f7f7f; text-decoration-color: #7f7f7f\">                   </span>\n",
       "<span style=\"color: #7fbfbf; text-decoration-color: #7fbfbf\">           </span>         yahpo/mo/rbv2_ranger/<span style=\"color: #008080; text-decoration-color: #008080; font-weight: bold\">6</span>/<span style=\"color: #800080; text-decoration-color: #800080; font-style: italic\">None</span>           <span style=\"color: #008080; text-decoration-color: #008080; font-weight: bold\">0.110805</span>        NaN      <span style=\"color: #008080; text-decoration-color: #008080; font-weight: bold\">0.017989</span>     <span style=\"color: #7f7f7f; text-decoration-color: #7f7f7f\">                   </span>\n",
       "<span style=\"color: #7fbfbf; text-decoration-color: #7fbfbf\">           </span>         yahpo/mo/rbv2_super/<span style=\"color: #008080; text-decoration-color: #008080; font-weight: bold\">1053</span>/<span style=\"color: #800080; text-decoration-color: #800080; font-style: italic\">None</span>              NaN        NaN      <span style=\"color: #008080; text-decoration-color: #008080; font-weight: bold\">0.005830</span>     <span style=\"color: #7f7f7f; text-decoration-color: #7f7f7f\">                   </span>\n",
       "<span style=\"color: #7fbfbf; text-decoration-color: #7fbfbf\">           </span>         yahpo/mo/rbv2_super/<span style=\"color: #008080; text-decoration-color: #008080; font-weight: bold\">1457</span>/<span style=\"color: #800080; text-decoration-color: #800080; font-style: italic\">None</span>              NaN        NaN      <span style=\"color: #008080; text-decoration-color: #008080; font-weight: bold\">0.000074</span>     <span style=\"color: #7f7f7f; text-decoration-color: #7f7f7f\">                   </span>\n",
       "<span style=\"color: #7fbfbf; text-decoration-color: #7fbfbf\">           </span>         yahpo/mo/rbv2_super/<span style=\"color: #008080; text-decoration-color: #008080; font-weight: bold\">6</span>/<span style=\"color: #800080; text-decoration-color: #800080; font-style: italic\">None</span>                 NaN        NaN      <span style=\"color: #008080; text-decoration-color: #008080; font-weight: bold\">0.000088</span>     <span style=\"color: #7f7f7f; text-decoration-color: #7f7f7f\">                   </span>\n",
       "<span style=\"color: #7fbfbf; text-decoration-color: #7fbfbf\">           </span>         yahpo/mo/rbv2_xgboost/<span style=\"color: #008080; text-decoration-color: #008080; font-weight: bold\">12</span>/<span style=\"color: #800080; text-decoration-color: #800080; font-style: italic\">None</span>         <span style=\"color: #008080; text-decoration-color: #008080; font-weight: bold\">0.040141</span>        NaN      <span style=\"color: #008080; text-decoration-color: #008080; font-weight: bold\">0.000009</span>     <span style=\"color: #7f7f7f; text-decoration-color: #7f7f7f\">                   </span>\n",
       "<span style=\"color: #7fbfbf; text-decoration-color: #7fbfbf\">           </span>         yahpo/mo/rbv2_xgboost/<span style=\"color: #008080; text-decoration-color: #008080; font-weight: bold\">182</span>/<span style=\"color: #800080; text-decoration-color: #800080; font-style: italic\">None</span>        <span style=\"color: #008080; text-decoration-color: #008080; font-weight: bold\">0.010498</span>        NaN      <span style=\"color: #008080; text-decoration-color: #008080; font-weight: bold\">0.000003</span>     <span style=\"color: #7f7f7f; text-decoration-color: #7f7f7f\">                   </span>\n",
       "<span style=\"color: #7fbfbf; text-decoration-color: #7fbfbf\">           </span>         yahpo/mo/rbv2_xgboost/<span style=\"color: #008080; text-decoration-color: #008080; font-weight: bold\">28</span>/<span style=\"color: #800080; text-decoration-color: #800080; font-style: italic\">None</span>         <span style=\"color: #008080; text-decoration-color: #008080; font-weight: bold\">0.007840</span>        NaN      <span style=\"color: #008080; text-decoration-color: #008080; font-weight: bold\">0.000001</span>     <span style=\"color: #7f7f7f; text-decoration-color: #7f7f7f\">                   </span>\n",
       "</pre>\n"
      ],
      "text/plain": [
       "\u001b[2;36m[19:03:18]\u001b[0m\u001b[2;36m \u001b[0m\u001b[34mINFO    \u001b[0m Lost following experiments: optimizer_id                      Nevergrad-DE  \u001b]8;id=485449;file:///home/numina/Documents/repos/CARP-S-Experiments/lib/CARP-S/carps/analysis/run_autorank.py\u001b\\\u001b[2mrun_autorank.py\u001b[0m\u001b]8;;\u001b\\\u001b[2m:\u001b[0m\u001b]8;id=457927;file:///home/numina/Documents/repos/CARP-S-Experiments/lib/CARP-S/carps/analysis/run_autorank.py#113\u001b\\\u001b[2m113\u001b[0m\u001b]8;;\u001b\\\n",
       "\u001b[2;36m           \u001b[0m         Optuna-MO  RandomSearch                                                     \u001b[2m                   \u001b[0m\n",
       "\u001b[2;36m           \u001b[0m         problem_id                                                                  \u001b[2m                   \u001b[0m\n",
       "\u001b[2;36m           \u001b[0m         yahpo/mo/iaml_ranger/\u001b[1;36m1067\u001b[0m/\u001b[3;35mNone\u001b[0m        \u001b[1;36m0.336826\u001b[0m        NaN      \u001b[1;36m0.217303\u001b[0m     \u001b[2m                   \u001b[0m\n",
       "\u001b[2;36m           \u001b[0m         yahpo/mo/iaml_ranger/\u001b[1;36m1489\u001b[0m/\u001b[3;35mNone\u001b[0m        \u001b[1;36m0.174604\u001b[0m        NaN      \u001b[1;36m0.004866\u001b[0m     \u001b[2m                   \u001b[0m\n",
       "\u001b[2;36m           \u001b[0m         yahpo/mo/iaml_super/\u001b[1;36m1067\u001b[0m/\u001b[3;35mNone\u001b[0m              NaN        NaN      \u001b[1;36m0.000075\u001b[0m     \u001b[2m                   \u001b[0m\n",
       "\u001b[2;36m           \u001b[0m         yahpo/mo/iaml_xgboost/\u001b[1;36m40981\u001b[0m/\u001b[3;35mNone\u001b[0m      \u001b[1;36m0.201979\u001b[0m        NaN      \u001b[1;36m0.001476\u001b[0m     \u001b[2m                   \u001b[0m\n",
       "\u001b[2;36m           \u001b[0m         yahpo/mo/rbv2_ranger/\u001b[1;36m375\u001b[0m/\u001b[3;35mNone\u001b[0m         \u001b[1;36m0.218806\u001b[0m        NaN      \u001b[1;36m0.049281\u001b[0m     \u001b[2m                   \u001b[0m\n",
       "\u001b[2;36m           \u001b[0m         yahpo/mo/rbv2_ranger/\u001b[1;36m6\u001b[0m/\u001b[3;35mNone\u001b[0m           \u001b[1;36m0.110805\u001b[0m        NaN      \u001b[1;36m0.017989\u001b[0m     \u001b[2m                   \u001b[0m\n",
       "\u001b[2;36m           \u001b[0m         yahpo/mo/rbv2_super/\u001b[1;36m1053\u001b[0m/\u001b[3;35mNone\u001b[0m              NaN        NaN      \u001b[1;36m0.005830\u001b[0m     \u001b[2m                   \u001b[0m\n",
       "\u001b[2;36m           \u001b[0m         yahpo/mo/rbv2_super/\u001b[1;36m1457\u001b[0m/\u001b[3;35mNone\u001b[0m              NaN        NaN      \u001b[1;36m0.000074\u001b[0m     \u001b[2m                   \u001b[0m\n",
       "\u001b[2;36m           \u001b[0m         yahpo/mo/rbv2_super/\u001b[1;36m6\u001b[0m/\u001b[3;35mNone\u001b[0m                 NaN        NaN      \u001b[1;36m0.000088\u001b[0m     \u001b[2m                   \u001b[0m\n",
       "\u001b[2;36m           \u001b[0m         yahpo/mo/rbv2_xgboost/\u001b[1;36m12\u001b[0m/\u001b[3;35mNone\u001b[0m         \u001b[1;36m0.040141\u001b[0m        NaN      \u001b[1;36m0.000009\u001b[0m     \u001b[2m                   \u001b[0m\n",
       "\u001b[2;36m           \u001b[0m         yahpo/mo/rbv2_xgboost/\u001b[1;36m182\u001b[0m/\u001b[3;35mNone\u001b[0m        \u001b[1;36m0.010498\u001b[0m        NaN      \u001b[1;36m0.000003\u001b[0m     \u001b[2m                   \u001b[0m\n",
       "\u001b[2;36m           \u001b[0m         yahpo/mo/rbv2_xgboost/\u001b[1;36m28\u001b[0m/\u001b[3;35mNone\u001b[0m         \u001b[1;36m0.007840\u001b[0m        NaN      \u001b[1;36m0.000001\u001b[0m     \u001b[2m                   \u001b[0m\n"
      ]
     },
     "metadata": {},
     "output_type": "display_data"
    },
    {
     "name": "stdout",
     "output_type": "stream",
     "text": [
      "Rejecting null hypothesis that data is normal for column Nevergrad-DE (p=0.000000<0.016667)\n",
      "Rejecting null hypothesis that data is normal for column Optuna-MO (p=0.000000<0.016667)\n",
      "Rejecting null hypothesis that data is normal for column RandomSearch (p=0.000000<0.016667)\n",
      "Using Friedman test as omnibus test\n",
      "Rejecting null hypothesis that there is no difference between the distributions (p=0.000127)\n",
      "Using Nemenyi post-hoc test. Differences are significant,if the distance between the mean ranks is greater than the critical distance.\n",
      "              meanrank    median       mad  ci_lower  ci_upper effect_size  \\\n",
      "Nevergrad-DE  1.645570  0.007503  0.007412  0.001258   0.03076         0.0   \n",
      "Optuna-MO     2.037975  0.008966  0.008935  0.002813  0.053638   -0.120181   \n",
      "RandomSearch  2.316456  0.010683  0.010496  0.003702  0.051639   -0.236084   \n",
      "\n",
      "               magnitude  \n",
      "Nevergrad-DE  negligible  \n",
      "Optuna-MO     negligible  \n",
      "RandomSearch       small  \n"
     ]
    },
    {
     "name": "stderr",
     "output_type": "stream",
     "text": [
      "/home/numina/micromamba/envs/carpsexp/lib/python3.11/site-packages/autorank/_util.py:432: FutureWarning: Series.__getitem__ treating keys as positions is deprecated. In a future version, integer keys will always be treated as labels (consistent with DataFrame behavior). To access a value by position, use `ser.iloc[pos]`\n",
      "  if abs(sorted_ranks[i] - sorted_ranks[j]) <= critical_difference:\n"
     ]
    }
   ],
   "source": [
    "from autorank._util import get_sorted_rank_groups, RankResult\n",
    "from carps.analysis.plot_ranking import calc_critical_difference\n",
    "\n",
    "rank_results = {}\n",
    "for (scenario, set_id), gdf in _df.groupby(by=[\"scenario\", \"set\"]):\n",
    "    perf_col: str = \"trial_value__cost_inc_norm\"\n",
    "    identifier = f\"{scenario}_{set_id}\"\n",
    "    result = calc_critical_difference(gdf, identifier=identifier, figsize=(8, 3), perf_col=perf_col, plot_diagram=False)\n",
    "    sorted_ranks, names, groups = get_sorted_rank_groups(result, reverse=False)\n",
    "    rank_results[(scenario, set_id)] = result"
   ]
  },
  {
   "cell_type": "code",
   "execution_count": null,
   "metadata": {},
   "outputs": [
    {
     "data": {
      "text/html": [
       "<div>\n",
       "<style scoped>\n",
       "    .dataframe tbody tr th:only-of-type {\n",
       "        vertical-align: middle;\n",
       "    }\n",
       "\n",
       "    .dataframe tbody tr th {\n",
       "        vertical-align: top;\n",
       "    }\n",
       "\n",
       "    .dataframe thead th {\n",
       "        text-align: right;\n",
       "    }\n",
       "</style>\n",
       "<table border=\"1\" class=\"dataframe\">\n",
       "  <thead>\n",
       "    <tr style=\"text-align: right;\">\n",
       "      <th></th>\n",
       "      <th>scenario</th>\n",
       "      <th>set</th>\n",
       "      <th>optimizer_id</th>\n",
       "      <th>meanrank</th>\n",
       "      <th>order</th>\n",
       "    </tr>\n",
       "  </thead>\n",
       "  <tbody>\n",
       "    <tr>\n",
       "      <th>0</th>\n",
       "      <td>multi-objective</td>\n",
       "      <td>split_0_seed_0_subset_dev</td>\n",
       "      <td>Nevergrad-DE</td>\n",
       "      <td>1.633333</td>\n",
       "      <td>1</td>\n",
       "    </tr>\n",
       "    <tr>\n",
       "      <th>1</th>\n",
       "      <td>multi-objective</td>\n",
       "      <td>split_0_seed_0_subset_dev</td>\n",
       "      <td>Optuna-MO</td>\n",
       "      <td>2.077778</td>\n",
       "      <td>2</td>\n",
       "    </tr>\n",
       "    <tr>\n",
       "      <th>2</th>\n",
       "      <td>multi-objective</td>\n",
       "      <td>split_0_seed_0_subset_dev</td>\n",
       "      <td>RandomSearch</td>\n",
       "      <td>2.288889</td>\n",
       "      <td>3</td>\n",
       "    </tr>\n",
       "    <tr>\n",
       "      <th>3</th>\n",
       "      <td>multi-objective</td>\n",
       "      <td>split_0_seed_0_subset_test</td>\n",
       "      <td>Nevergrad-DE</td>\n",
       "      <td>1.673684</td>\n",
       "      <td>1</td>\n",
       "    </tr>\n",
       "    <tr>\n",
       "      <th>4</th>\n",
       "      <td>multi-objective</td>\n",
       "      <td>split_0_seed_0_subset_test</td>\n",
       "      <td>Optuna-MO</td>\n",
       "      <td>2.031579</td>\n",
       "      <td>2</td>\n",
       "    </tr>\n",
       "    <tr>\n",
       "      <th>...</th>\n",
       "      <td>...</td>\n",
       "      <td>...</td>\n",
       "      <td>...</td>\n",
       "      <td>...</td>\n",
       "      <td>...</td>\n",
       "    </tr>\n",
       "    <tr>\n",
       "      <th>175</th>\n",
       "      <td>multi-objective</td>\n",
       "      <td>split_5_seed_4_subset_dev</td>\n",
       "      <td>Optuna-MO</td>\n",
       "      <td>1.884615</td>\n",
       "      <td>2</td>\n",
       "    </tr>\n",
       "    <tr>\n",
       "      <th>176</th>\n",
       "      <td>multi-objective</td>\n",
       "      <td>split_5_seed_4_subset_dev</td>\n",
       "      <td>RandomSearch</td>\n",
       "      <td>2.307692</td>\n",
       "      <td>3</td>\n",
       "    </tr>\n",
       "    <tr>\n",
       "      <th>177</th>\n",
       "      <td>multi-objective</td>\n",
       "      <td>split_5_seed_4_subset_test</td>\n",
       "      <td>Nevergrad-DE</td>\n",
       "      <td>1.645570</td>\n",
       "      <td>1</td>\n",
       "    </tr>\n",
       "    <tr>\n",
       "      <th>178</th>\n",
       "      <td>multi-objective</td>\n",
       "      <td>split_5_seed_4_subset_test</td>\n",
       "      <td>Optuna-MO</td>\n",
       "      <td>2.037975</td>\n",
       "      <td>2</td>\n",
       "    </tr>\n",
       "    <tr>\n",
       "      <th>179</th>\n",
       "      <td>multi-objective</td>\n",
       "      <td>split_5_seed_4_subset_test</td>\n",
       "      <td>RandomSearch</td>\n",
       "      <td>2.316456</td>\n",
       "      <td>3</td>\n",
       "    </tr>\n",
       "  </tbody>\n",
       "</table>\n",
       "<p>180 rows × 5 columns</p>\n",
       "</div>"
      ],
      "text/plain": [
       "            scenario                         set  optimizer_id  meanrank  \\\n",
       "0    multi-objective   split_0_seed_0_subset_dev  Nevergrad-DE  1.633333   \n",
       "1    multi-objective   split_0_seed_0_subset_dev     Optuna-MO  2.077778   \n",
       "2    multi-objective   split_0_seed_0_subset_dev  RandomSearch  2.288889   \n",
       "3    multi-objective  split_0_seed_0_subset_test  Nevergrad-DE  1.673684   \n",
       "4    multi-objective  split_0_seed_0_subset_test     Optuna-MO  2.031579   \n",
       "..               ...                         ...           ...       ...   \n",
       "175  multi-objective   split_5_seed_4_subset_dev     Optuna-MO  1.884615   \n",
       "176  multi-objective   split_5_seed_4_subset_dev  RandomSearch  2.307692   \n",
       "177  multi-objective  split_5_seed_4_subset_test  Nevergrad-DE  1.645570   \n",
       "178  multi-objective  split_5_seed_4_subset_test     Optuna-MO  2.037975   \n",
       "179  multi-objective  split_5_seed_4_subset_test  RandomSearch  2.316456   \n",
       "\n",
       "     order  \n",
       "0        1  \n",
       "1        2  \n",
       "2        3  \n",
       "3        1  \n",
       "4        2  \n",
       "..     ...  \n",
       "175      2  \n",
       "176      3  \n",
       "177      1  \n",
       "178      2  \n",
       "179      3  \n",
       "\n",
       "[180 rows x 5 columns]"
      ]
     },
     "execution_count": 9,
     "metadata": {},
     "output_type": "execute_result"
    }
   ],
   "source": [
    "R = []\n",
    "for i, (k, v) in enumerate(rank_results.items()):\n",
    "    d = pd.DataFrame({\n",
    "        \"scenario\": k[0],\n",
    "        \"set\": k[1],\n",
    "        **v.rankdf[\"meanrank\"]\n",
    "    }, index=[i]\n",
    "    ).melt(id_vars=[\"scenario\", \"set\"], var_name=\"optimizer_id\", value_name=\"meanrank\")\n",
    "    d[\"order\"] = d.rank(method=\"max\", numeric_only=True).astype(int)\n",
    "    R.append(d)\n",
    "    # break\n",
    "\n",
    "df_rank = pd.concat(R).reset_index(drop=True)\n",
    "df_rank = df_rank[df_rank[\"set\"] != \"full\"]\n",
    "def rename(x: str) -> str:\n",
    "    if x in [\"dev\", \"test\"]:\n",
    "        return f\"discrepancy_{x}\"\n",
    "    return x\n",
    "df_rank[\"set\"] = df_rank[\"set\"].apply(rename)\n",
    "df_rank"
   ]
  },
  {
   "cell_type": "code",
   "execution_count": null,
   "metadata": {},
   "outputs": [
    {
     "data": {
      "text/plain": [
       "{('multi-objective', 'split_0_seed_0'): False,\n",
       " ('multi-objective', 'split_0_seed_1'): False,\n",
       " ('multi-objective', 'split_0_seed_2'): False,\n",
       " ('multi-objective', 'split_0_seed_3'): False,\n",
       " ('multi-objective', 'split_0_seed_4'): False,\n",
       " ('multi-objective', 'split_1_seed_0'): False,\n",
       " ('multi-objective', 'split_1_seed_1'): False,\n",
       " ('multi-objective', 'split_1_seed_2'): False,\n",
       " ('multi-objective', 'split_1_seed_3'): False,\n",
       " ('multi-objective', 'split_1_seed_4'): False,\n",
       " ('multi-objective', 'split_2_seed_0'): False,\n",
       " ('multi-objective', 'split_2_seed_1'): False,\n",
       " ('multi-objective', 'split_2_seed_2'): False,\n",
       " ('multi-objective', 'split_2_seed_3'): False,\n",
       " ('multi-objective', 'split_2_seed_4'): False,\n",
       " ('multi-objective', 'split_3_seed_0'): False,\n",
       " ('multi-objective', 'split_3_seed_1'): False,\n",
       " ('multi-objective', 'split_3_seed_2'): False,\n",
       " ('multi-objective', 'split_3_seed_3'): False,\n",
       " ('multi-objective', 'split_3_seed_4'): False,\n",
       " ('multi-objective', 'split_4_seed_0'): False,\n",
       " ('multi-objective', 'split_4_seed_1'): False,\n",
       " ('multi-objective', 'split_4_seed_2'): False,\n",
       " ('multi-objective', 'split_4_seed_3'): False,\n",
       " ('multi-objective', 'split_4_seed_4'): False,\n",
       " ('multi-objective', 'split_5_seed_0'): False,\n",
       " ('multi-objective', 'split_5_seed_1'): False,\n",
       " ('multi-objective', 'split_5_seed_2'): False,\n",
       " ('multi-objective', 'split_5_seed_3'): False,\n",
       " ('multi-objective', 'split_5_seed_4'): False}"
      ]
     },
     "execution_count": 10,
     "metadata": {},
     "output_type": "execute_result"
    }
   ],
   "source": [
    "\n",
    "original_optimizers = {\n",
    "    \"blackbox\": [\"RandomSearch\", \"SMAC3-BlackBoxFacade\", \"Nevergrad-CMA-ES\"],\n",
    "    \"multi-objective\": [\"RandomSearch\", \"Optuna-MO\", \"Nevergrad-DE\"],\n",
    "    \"multi-fidelity\": [\"SMAC3-Hyperband\", \"SMAC3-MultiFidelityFacade\", \"DEHB\"],\n",
    "    \"multi-fidelity-objective\": [\"RandomSearch\", \"SMAC3-MOMF-GP\", \"Nevergrad-DE\"],\n",
    "}\n",
    "\n",
    "\n",
    "is_different = {}\n",
    "for scenario, gdf in df_rank.groupby(by=\"scenario\"):\n",
    "    set_origins = gdf[\"set\"].apply(lambda x: \"_\".join(x.split(\"_\")[:-2])).unique()   \n",
    "    for set_origin in set_origins:\n",
    "        origs = original_optimizers[scenario]\n",
    "        df_dev = gdf[gdf[\"set\"] == f\"{set_origin}_subset_dev\"]\n",
    "        df_test = gdf[gdf[\"set\"] == f\"{set_origin}_subset_test\"]\n",
    "        order_dev = []\n",
    "        order_test = []\n",
    "        for orig in origs:\n",
    "            order_dev.append(df_dev[df_dev[\"optimizer_id\"] == orig][\"order\"].values[0])\n",
    "            order_test.append(df_test[df_test[\"optimizer_id\"] == orig][\"order\"].values[0])\n",
    "        _is_different = order_dev != order_test\n",
    "        is_different[(scenario, set_origin)] = _is_different\n",
    "is_different"
   ]
  },
  {
   "cell_type": "code",
   "execution_count": null,
   "metadata": {},
   "outputs": [
    {
     "ename": "ValueError",
     "evalue": "'RandomSearch' is not in list",
     "output_type": "error",
     "traceback": [
      "\u001b[0;31m---------------------------------------------------------------------------\u001b[0m",
      "\u001b[0;31mValueError\u001b[0m                                Traceback (most recent call last)",
      "Cell \u001b[0;32mIn[7], line 30\u001b[0m\n\u001b[1;32m     28\u001b[0m R \u001b[38;5;241m=\u001b[39m gdf\u001b[38;5;241m.\u001b[39mpivot_table(index\u001b[38;5;241m=\u001b[39m\u001b[38;5;124m\"\u001b[39m\u001b[38;5;124mset\u001b[39m\u001b[38;5;124m\"\u001b[39m, columns\u001b[38;5;241m=\u001b[39m\u001b[38;5;124m\"\u001b[39m\u001b[38;5;124moptimizer_id\u001b[39m\u001b[38;5;124m\"\u001b[39m, values\u001b[38;5;241m=\u001b[39m\u001b[38;5;124m\"\u001b[39m\u001b[38;5;124morder\u001b[39m\u001b[38;5;124m\"\u001b[39m)\u001b[38;5;241m.\u001b[39mmap(\u001b[38;5;28mint\u001b[39m)\n\u001b[1;32m     29\u001b[0m origs \u001b[38;5;241m=\u001b[39m original_optimizers[scenario]\n\u001b[0;32m---> 30\u001b[0m \u001b[43morigs\u001b[49m\u001b[38;5;241;43m.\u001b[39;49m\u001b[43msort\u001b[49m\u001b[43m(\u001b[49m\u001b[43mkey\u001b[49m\u001b[38;5;241;43m=\u001b[39;49m\u001b[38;5;28;43;01mlambda\u001b[39;49;00m\u001b[43m \u001b[49m\u001b[43mx\u001b[49m\u001b[43m:\u001b[49m\u001b[43m \u001b[49m\u001b[43msorter\u001b[49m\u001b[38;5;241;43m.\u001b[39;49m\u001b[43mindex\u001b[49m\u001b[43m(\u001b[49m\u001b[43mx\u001b[49m\u001b[43m)\u001b[49m\u001b[43m)\u001b[49m\n\u001b[1;32m     31\u001b[0m cols \u001b[38;5;241m=\u001b[39m origs \u001b[38;5;241m+\u001b[39m [c \u001b[38;5;28;01mfor\u001b[39;00m c \u001b[38;5;129;01min\u001b[39;00m R\u001b[38;5;241m.\u001b[39mcolumns \u001b[38;5;28;01mif\u001b[39;00m c \u001b[38;5;129;01mnot\u001b[39;00m \u001b[38;5;129;01min\u001b[39;00m original_optimizers[scenario]]\n\u001b[1;32m     32\u001b[0m R \u001b[38;5;241m=\u001b[39m R[cols]\n",
      "Cell \u001b[0;32mIn[7], line 30\u001b[0m, in \u001b[0;36m<lambda>\u001b[0;34m(x)\u001b[0m\n\u001b[1;32m     28\u001b[0m R \u001b[38;5;241m=\u001b[39m gdf\u001b[38;5;241m.\u001b[39mpivot_table(index\u001b[38;5;241m=\u001b[39m\u001b[38;5;124m\"\u001b[39m\u001b[38;5;124mset\u001b[39m\u001b[38;5;124m\"\u001b[39m, columns\u001b[38;5;241m=\u001b[39m\u001b[38;5;124m\"\u001b[39m\u001b[38;5;124moptimizer_id\u001b[39m\u001b[38;5;124m\"\u001b[39m, values\u001b[38;5;241m=\u001b[39m\u001b[38;5;124m\"\u001b[39m\u001b[38;5;124morder\u001b[39m\u001b[38;5;124m\"\u001b[39m)\u001b[38;5;241m.\u001b[39mmap(\u001b[38;5;28mint\u001b[39m)\n\u001b[1;32m     29\u001b[0m origs \u001b[38;5;241m=\u001b[39m original_optimizers[scenario]\n\u001b[0;32m---> 30\u001b[0m origs\u001b[38;5;241m.\u001b[39msort(key\u001b[38;5;241m=\u001b[39m\u001b[38;5;28;01mlambda\u001b[39;00m x: \u001b[43msorter\u001b[49m\u001b[38;5;241;43m.\u001b[39;49m\u001b[43mindex\u001b[49m\u001b[43m(\u001b[49m\u001b[43mx\u001b[49m\u001b[43m)\u001b[49m)\n\u001b[1;32m     31\u001b[0m cols \u001b[38;5;241m=\u001b[39m origs \u001b[38;5;241m+\u001b[39m [c \u001b[38;5;28;01mfor\u001b[39;00m c \u001b[38;5;129;01min\u001b[39;00m R\u001b[38;5;241m.\u001b[39mcolumns \u001b[38;5;28;01mif\u001b[39;00m c \u001b[38;5;129;01mnot\u001b[39;00m \u001b[38;5;129;01min\u001b[39;00m original_optimizers[scenario]]\n\u001b[1;32m     32\u001b[0m R \u001b[38;5;241m=\u001b[39m R[cols]\n",
      "\u001b[0;31mValueError\u001b[0m: 'RandomSearch' is not in list"
     ]
    }
   ],
   "source": [
    "import pandas as pd\n",
    "import numpy as np\n",
    "\n",
    "\n",
    "\n",
    "fn_template = \"ranks_per_set_{scenario}.csv\"\n",
    "\n",
    "decimal_places = 2\n",
    "\n",
    "final_str = r\"\"\"\n",
    "\\begin{{table}}[h]\n",
    "    \\caption{{{caption}}}\n",
    "    \\label{{{label}}}\n",
    "    \\centering\n",
    "    %\\resizebox{{0.4\\textwidth}}{{!}}{{\n",
    "    {table_string}\n",
    "    %}}\n",
    "\\end{{table}}\n",
    "\"\"\"\n",
    "\n",
    "float_format = lambda x: (\"{:0.\" + str(decimal_places) + \"f}\").format(x) if not np.isnan(x) else \"-\"\n",
    "\n",
    "\n",
    "for scenario, gdf in df_rank.groupby(\"scenario\"):\n",
    "    fn = fn_template.format(scenario=scenario)\n",
    "    sorter = gdf[gdf[\"set\"]==\"dev\"].sort_values(\"meanrank\")[\"optimizer_id\"].to_list()\n",
    "\n",
    "    R = gdf.pivot_table(index=\"set\", columns=\"optimizer_id\", values=\"order\").map(int)\n",
    "    origs = original_optimizers[scenario]\n",
    "    origs.sort(key=lambda x: sorter.index(x))\n",
    "    cols = origs + [c for c in R.columns if c not in original_optimizers[scenario]]\n",
    "    R = R[cols]\n",
    "\n",
    "\n",
    "    MR = gdf.pivot_table(index=\"set\", columns=\"optimizer_id\", values=\"meanrank\").map(lambda x: f\"{x:.2f}\" if not isinstance(x, str) else x)\n",
    "    MR = MR[cols]\n",
    "    for i, ((idx, row), (idx2, row2)) in enumerate(zip(MR.iterrows(), R.iterrows())):\n",
    "        for j in range(len(row)):\n",
    "            row.iloc[j] = row.iloc[j] + f\" ({int(row2.iloc[j])})\"\n",
    "\n",
    "    print(MR)\n",
    "    # table_str = MR.to_latex(float_format=float_format, na_rep=\"-\").strip()\n",
    "    # caption = f\"Mean Ranking for Scenario {scenario}\"\n",
    "    # label = f\"tab:ranking_validation_{scenario}\"\n",
    "    # table_str = final_str.format(table_string=table_str, label=label, caption=caption)\n",
    "    # table_str = table_str.replace(\"_\", \"\\_\")\n",
    "\n",
    "    # with open(fn + \".tex\", \"w\") as file:\n",
    "    #     file.write(table_str)\n",
    "    # print(table_str)"
   ]
  },
  {
   "cell_type": "code",
   "execution_count": null,
   "metadata": {},
   "outputs": [],
   "source": [
    "# from pathlib import Path\n",
    "# import pandas as pd\n",
    "# import numpy as np\n",
    "# from sklearn.model_selection import StratifiedShuffleSplit, ShuffleSplit\n",
    "# from carps.utils.pareto_front import pareto\n",
    "\n",
    "# def read_set(fn: Path) -> pd.DataFrame:\n",
    "#     df = pd.read_csv(fn)\n",
    "#     df[\"problem_id\"] = df[\"problem_id\"].apply(lambda x: \"bbob/\" + x if x.startswith(\"noiseless\") else x)\n",
    "#     df[\"benchmark_id\"] = df[\"problem_id\"].apply(lambda x: x.split(\"/\")[0])\n",
    "#     df = df.melt(id_vars=[\"problem_id\", \"benchmark_id\"], value_vars=p_cols, var_name=\"optimizer_id\", value_name=\"performance\")    \n",
    "#     return df\n",
    "\n",
    "# performance_fn = Path(\"/scratch/hpc-prf-intexml/cbenjamins/repos/CARP-S-Experiments/lib/CARP-S/subselection/data/BB/default/df_crit.csv\")\n",
    "# performance = pd.read_csv(performance_fn)\n",
    "# performance[\"problem_id\"] = performance[\"problem_id\"].apply(lambda x: \"bbob/\" + x if x.startswith(\"noiseless\") else x)\n",
    "# problem_ids = list(performance[\"problem_id\"])\n",
    "# n_problems = len(problem_ids)\n",
    "# subset_size = 30\n",
    "\n",
    "# rankings = []\n",
    "\n",
    "# performance[\"benchmark_id\"] = performance[\"problem_id\"].apply(lambda x: x.split(\"/\")[0])\n",
    "# p_cols = [c for c in performance.columns if c not in [\"problem_id\", \"benchmark_id\"]]\n",
    "# performance = performance.melt(id_vars=[\"problem_id\", \"benchmark_id\"], value_vars=p_cols, var_name=\"optimizer_id\", value_name=\"performance\")\n",
    "\n",
    "\n",
    "# path_subset_dev = performance_fn.parent / f\"subset_{subset_size}.csv\"\n",
    "# subset_dev = read_set(path_subset_dev)\n",
    "\n",
    "# path_subset_test = performance_fn.parent / f\"subset_complement_subset_{subset_size}.csv\"\n",
    "# subset_test = read_set(path_subset_test)\n",
    "\n",
    "# problem_ids_dev = subset_dev[\"problem_id\"].to_list()\n",
    "# problem_ids_test = subset_test[\"problem_id\"].to_list()\n",
    "\n",
    "# seeds = np.arange(0, 10)\n",
    "# performance[\"benchmark_id\"] = performance[\"problem_id\"].apply(lambda x: x.split(\"/\")[0])\n",
    "# benchmark_ids = list(performance[\"benchmark_id\"].unique())\n",
    "\n",
    "\n",
    "# def add_rank(df: pd.DataFrame) -> pd.DataFrame:\n",
    "#     D = []\n",
    "#     for problem_id, gdf in df.groupby([\"problem_id\"]):\n",
    "#         pivot = gdf.pivot(index=[\"problem_id\", \"benchmark_id\"], columns=\"optimizer_id\", values=\"performance\").reset_index()\n",
    "#         if not all([p in pivot.columns for p in p_cols]):\n",
    "#             print(gdf.columns)\n",
    "#             continue\n",
    "#         rank = pivot[p_cols].rank(axis=1).melt(value_vars=p_cols, var_name=\"optimizer_id\", value_name=\"rank\")\n",
    "#         gdf = pd.merge(gdf, rank, on=[\"optimizer_id\"])\n",
    "#         D.append(gdf)\n",
    "#     D = pd.concat(D).reset_index(drop=True)\n",
    "#     return D\n",
    "\n",
    "# def get_ranking(df: pd.DataFrame, set_id: str, split: int = -1, seed: int = -1) -> pd.DataFrame:\n",
    "#     df = add_rank(df)\n",
    "#     df[\"set\"] = set_id\n",
    "#     df[\"split\"] = split\n",
    "#     df[\"seed\"] = seed\n",
    "#     return df\n",
    "\n",
    "\n",
    "# rankings = []\n",
    "\n",
    "# aggregate_func = np.mean\n",
    "\n",
    "# mean_ranking_full = get_ranking(performance, \"full\")\n",
    "# rankings.append(mean_ranking_full)\n",
    "\n",
    "# mean_ranking_dev = get_ranking(subset_dev, \"discrepancy_dev\")\n",
    "# rankings.append(mean_ranking_dev)\n",
    "\n",
    "# mean_ranking_test = get_ranking(subset_test, \"discrepancy_test\")\n",
    "# rankings.append(mean_ranking_test)  \n",
    "\n",
    "# n_splits = n_problems // (subset_size * 2)\n",
    "# print(n_splits)\n",
    "# X = performance.values\n",
    "# y = performance[\"benchmark_id\"].to_numpy()\n",
    "\n",
    "# split_classes = [StratifiedShuffleSplit, ShuffleSplit]\n",
    "\n",
    "# # for split_class in split_classes:\n",
    "# #     for seed in seeds:\n",
    "# #         sss = StratifiedShuffleSplit(n_splits=n_splits, test_size=0.5, random_state=seed)\n",
    "# #         sss.get_n_splits(X, y)\n",
    "# #         for i, (train_index, test_index) in enumerate(sss.split(X, y)):\n",
    "# #             D_dev = performance.iloc[train_index]\n",
    "# #             D_dev = get_ranking(D_dev, f\"{split_class.__name__}_dev\", i, seed)\n",
    "# #             rankings.append(D_dev)\n",
    "\n",
    "# #             D_test = performance.iloc[test_index]\n",
    "# #             D_test = get_ranking(D_dev, f\"{split_class.__name__}_dev\", i, seed)\n",
    "# #             rankings.append(D_test)\n",
    "\n",
    "\n",
    "# df_ranking = pd.concat(rankings).reset_index(drop=True)"
   ]
  },
  {
   "cell_type": "code",
   "execution_count": null,
   "metadata": {},
   "outputs": [],
   "source": [
    "# import seaborn as sns\n",
    "# import matplotlib.pyplot as plt\n",
    "\n",
    "# sns.set_style(\"whitegrid\")\n",
    "# sns.set_palette(\"colorblind\")\n",
    "\n",
    "# gdf = df_ranking\n",
    "# fig = plt.figure(figsize=(10,4))\n",
    "# ax = fig.add_subplot(111)\n",
    "# ax = sns.violinplot(data=gdf, x=\"optimizer_id\", y=\"rank\", hue=\"set\", cut=0, ax=ax)\n",
    "# # ax.set_title(f\"use_mean: {gid}\")\n",
    "# plt.show()"
   ]
  },
  {
   "cell_type": "code",
   "execution_count": null,
   "metadata": {},
   "outputs": [],
   "source": [
    "# gdf = df_ranking\n",
    "# fig = plt.figure(figsize=(10,4))\n",
    "# ax = fig.add_subplot(111)\n",
    "# ax = sns.histplot(data=gdf, x=\"performance\", hue=\"optimizer_id\", ax=ax,  element=\"step\")\n",
    "# ax = fig.add_subplot(211)\n",
    "# ax = sns.histplot(data=gdf, x=\"rank\", hue=\"optimizer_id\", ax=ax,  element=\"step\")\n",
    "# # ax.set_title(f\"use_mean: {gid}\")\n",
    "# plt.show()"
   ]
  },
  {
   "cell_type": "code",
   "execution_count": null,
   "metadata": {},
   "outputs": [],
   "source": [
    "# def distance_bhattacharaya(p, q):\n",
    "#     return -np.log(np.sum(np.sqrt(p*q)))\n",
    "\n",
    "# def distance_kullback_leibler(p, q):\n",
    "#     return np.sum(p * np.log(p / q))\n",
    "\n",
    "# # Performance\n",
    "# distances = {}\n",
    "# bin_edges = None\n",
    "# for gid, gdf in df_ranking.groupby([\"optimizer_id\", \"set\"]):\n",
    "#     values = gdf[\"performance\"].values\n",
    "#     q = np.histogram(values, bins=20, range=[0,1], density=True)\n",
    "#     bin_edges = q[1]\n",
    "#     distances[gid] = q[0]\n",
    "\n",
    "# distributions = pd.DataFrame(distances).T\n",
    "# distributions.index.name = (\"optimizer_id\", \"set\")\n",
    "# distributions = distributions.reset_index(names=[\"optimizer_id\", \"set\"])\n",
    "# # print(distributions.columns)\n",
    "\n",
    "# dist = {}\n",
    "# for gid, gdf in distributions.groupby(by=[\"optimizer_id\", \"set\"]):\n",
    "#     for gid2, gdf2 in distributions.groupby(by=[\"optimizer_id\", \"set\"]):\n",
    "#         if gid[0] != gid2[0]:\n",
    "#             continue\n",
    "#         p = gdf.iloc[0].values[2:].astype(float)\n",
    "#         q = gdf2.iloc[0].values[2:].astype(float)\n",
    "#         d = distance_bhattacharaya(p, q)\n",
    "#         # print(f\"{gid} vs {gid2}: {d}\")\n",
    "#         dist[(gid, gid2)] = d\n",
    "\n",
    "# heatmaps = {}\n",
    "# n_sets = distributions[\"set\"].nunique()\n",
    "# sets = distributions[\"set\"].unique()\n",
    "# for ((opt, set_id), (opt, set_id2)), distance in dist.items():\n",
    "#     # print(f\"{opt} {set_id} vs {set_id2}: {distance}\") \n",
    "#     if not opt in heatmaps:\n",
    "#         heatmaps[opt] = np.zeros((n_sets, n_sets))\n",
    "#     heatmaps[opt][np.where(sets == set_id)[0][0], np.where(sets == set_id2)[0][0]] = distance\n",
    "\n",
    "# fig = plt.figure(figsize=(12, 4))\n",
    "# axes = fig.subplots(1, len(heatmaps), sharex=True, sharey=True)\n",
    "# for i, (opt, heatmap) in enumerate(heatmaps.items()):\n",
    "#     ax = axes[i]\n",
    "#     sns.heatmap(heatmap, ax=ax, xticklabels=sets, yticklabels=sets)\n",
    "#     ax.set_title(opt)\n",
    "# plt.show()"
   ]
  },
  {
   "cell_type": "code",
   "execution_count": null,
   "metadata": {},
   "outputs": [],
   "source": [
    "\n",
    "\n",
    " \n",
    "# for use_mean in [False]:\n",
    "#     aggregate_func = lambda x: x\n",
    "#     if use_mean:\n",
    "#         aggregate_func = np.mean\n",
    "\n",
    "    \n",
    "\n",
    "#     mean_ranking_full = performance[p_cols].rank(axis=1).apply(aggregate_func)\n",
    "#     mean_ranking_full = performance[p_cols]\n",
    "#     mean_ranking_full[\"problem_id\"] = performance[\"problem_id\"] if not use_mean else \"mean_problem\"\n",
    "#     mean_ranking_full[\"set\"] = \"full\"\n",
    "#     mean_ranking_full[\"split\"] = -1\n",
    "#     mean_ranking_full[\"seed\"] = -1\n",
    "#     mean_ranking_full[\"use_mean\"] = use_mean\n",
    "#     mean_ranking_full = melt(mean_ranking_full)\n",
    "#     mean_ranking_full = add_performance(mean_ranking_full)\n",
    "    \n",
    "\n",
    "#     mean_ranking_dev = subset_dev[p_cols].rank(axis=1).apply(aggregate_func)\n",
    "#     mean_ranking_dev[\"problem_id\"] = subset_dev[\"problem_id\"] if not use_mean else \"mean_problem\"\n",
    "#     mean_ranking_dev[\"set\"] = \"discrepancy_dev\"\n",
    "#     mean_ranking_dev[\"split\"] = -1\n",
    "#     mean_ranking_dev[\"seed\"] = -1\n",
    "#     mean_ranking_dev[\"use_mean\"] = use_mean\n",
    "#     mean_ranking_dev = melt(mean_ranking_dev)\n",
    "#     mean_ranking_dev = add_performance(mean_ranking_dev)\n",
    "\n",
    "#     mean_ranking_test = subset_test[p_cols].rank(axis=1).apply(aggregate_func)\n",
    "#     mean_ranking_test[\"problem_id\"] = subset_test[\"problem_id\"] if not use_mean else \"mean_problem\"\n",
    "#     mean_ranking_test[\"set\"] = \"discrepancy_test\"\n",
    "#     mean_ranking_test[\"split\"] = -1\n",
    "#     mean_ranking_test[\"seed\"] = -1\n",
    "#     mean_ranking_test[\"use_mean\"] = use_mean\n",
    "#     mean_ranking_test = melt(mean_ranking_test)\n",
    "#     mean_ranking_test = add_performance(mean_ranking_test)\n",
    "\n",
    "#     # easiest\n",
    "#     costs = performance[p_cols].values\n",
    "#     ids = pareto(-costs)\n",
    "#     pareto_performance = performance.iloc[ids]\n",
    "#     mean_ranking_pareto_easiest = pareto_performance[p_cols].rank(axis=1).apply(aggregate_func)\n",
    "#     mean_ranking_pareto_easiest[\"problem_id\"] = pareto_performance[\"problem_id\"] if not use_mean else \"mean_problem\"\n",
    "#     mean_ranking_pareto_easiest[\"set\"] = \"pareto_full_easiest\"\n",
    "#     mean_ranking_pareto_easiest[\"split\"] = -1\n",
    "#     mean_ranking_pareto_easiest[\"seed\"] = -1\n",
    "#     mean_ranking_pareto_easiest[\"use_mean\"] = use_mean\n",
    "#     mean_ranking_pareto_easiest = melt(mean_ranking_pareto_easiest)\n",
    "#     mean_ranking_pareto_easiest = add_performance(mean_ranking_pareto_easiest)\n",
    "\n",
    "#     # hardest\n",
    "#     costs = performance[p_cols].values\n",
    "#     ids = pareto(costs)\n",
    "#     pareto_performance = performance.iloc[ids]\n",
    "#     mean_ranking_pareto_hardest = pareto_performance[p_cols].rank(axis=1).apply(aggregate_func)\n",
    "#     mean_ranking_pareto_hardest[\"problem_id\"] = pareto_performance[\"problem_id\"] if not use_mean else \"mean_problem\"\n",
    "#     mean_ranking_pareto_hardest[\"set\"] = \"pareto_full_hardest\"\n",
    "#     mean_ranking_pareto_hardest[\"split\"] = -1\n",
    "#     mean_ranking_pareto_hardest[\"seed\"] = -1\n",
    "#     mean_ranking_pareto_hardest[\"use_mean\"] = use_mean\n",
    "#     mean_ranking_pareto_hardest = melt(mean_ranking_pareto_hardest)\n",
    "#     mean_ranking_pareto_hardest = add_performance(mean_ranking_pareto_hardest)\n",
    "\n",
    "\n",
    "\n",
    "#     ranking = []\n",
    "#     ranking.append(mean_ranking_full)\n",
    "#     ranking.append(mean_ranking_dev)\n",
    "#     ranking.append(mean_ranking_test)\n",
    "#     ranking.append(mean_ranking_pareto_easiest)\n",
    "#     ranking.append(mean_ranking_pareto_hardest)\n",
    "\n",
    "#     n_splits = n_problems // (subset_size * 2)\n",
    "#     print(n_splits)\n",
    "#     X = performance.values\n",
    "#     y = performance[\"benchmark_id\"].to_numpy()\n",
    "\n",
    "#     split_classes = [StratifiedShuffleSplit, ShuffleSplit]\n",
    "\n",
    "#     for split_class in split_classes:\n",
    "#         for seed in seeds:\n",
    "#             sss = StratifiedShuffleSplit(n_splits=n_splits, test_size=0.5, random_state=seed)\n",
    "#             sss.get_n_splits(X, y)\n",
    "#             for i, (train_index, test_index) in enumerate(sss.split(X, y)):\n",
    "#                 D_dev = performance.iloc[train_index][p_cols].rank(axis=1).apply(aggregate_func)\n",
    "#                 D_dev[\"problem_id\"] = performance.iloc[train_index][\"problem_id\"] if not use_mean else \"mean_problem\"\n",
    "#                 D_dev[\"set\"] = f\"{split_class.__name__}_dev\"\n",
    "#                 D_dev[\"split\"] = i\n",
    "#                 D_dev[\"seed\"] = seed\n",
    "#                 D_dev[\"use_mean\"] = use_mean\n",
    "#                 D_dev = melt(D_dev)\n",
    "#                 D_dev = add_performance(D_dev)\n",
    "                \n",
    "#                 D_test = performance.iloc[test_index][p_cols].rank(axis=1).apply(aggregate_func)\n",
    "#                 D_test[\"problem_id\"] = performance.iloc[test_index][\"problem_id\"] if not use_mean else \"mean_problem\"\n",
    "#                 D_test[\"set\"] = f\"{split_class.__name__}_test\"\n",
    "#                 D_test[\"split\"] = i\n",
    "#                 D_test[\"seed\"] = seed\n",
    "#                 D_test[\"use_mean\"] = use_mean\n",
    "#                 D_test = melt(D_test)\n",
    "#                 D_test = add_performance(D_test)\n",
    "#                 ranking.extend([D_dev, D_test])\n",
    "\n",
    "#     df_ranking = pd.DataFrame(ranking) if use_mean else pd.concat(ranking).reset_index(drop=True)\n",
    "#     df_ranking = df_ranking.melt(id_vars=[\"set\", \"split\", \"seed\", \"problem_id\", \"use_mean\"], value_vars=p_cols, var_name=\"optimizer_id\", value_name=\"rank\")\n",
    "#     rankings.append(df_ranking)\n",
    "\n",
    "# df_ranking = pd.concat(rankings).reset_index(drop=True)\n",
    "# df_ranking\n"
   ]
  }
 ],
 "metadata": {
  "kernelspec": {
   "display_name": "carpsexp",
   "language": "python",
   "name": "python3"
  },
  "language_info": {
   "codemirror_mode": {
    "name": "ipython",
    "version": 3
   },
   "file_extension": ".py",
   "mimetype": "text/x-python",
   "name": "python",
   "nbconvert_exporter": "python",
   "pygments_lexer": "ipython3",
   "version": "3.11.8"
  }
 },
 "nbformat": 4,
 "nbformat_minor": 2
}
