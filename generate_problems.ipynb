{
 "cells": [
  {
   "cell_type": "code",
   "execution_count": 5,
   "metadata": {},
   "outputs": [],
   "source": [
    "from pathlib import Path\n",
    "\n",
    "seeds = range(1, 11)\n",
    "\n",
    "# Config should match Problem init\n",
    "\n",
    "base_path = Path(\"smacbenchmarking/configs/problem\")\n",
    "\n",
    "# Problem ids\n",
    "benchmark_id_bbob = \"BBOB\""
   ]
  },
  {
   "attachments": {},
   "cell_type": "markdown",
   "metadata": {},
   "source": [
    "# BBOB"
   ]
  },
  {
   "cell_type": "code",
   "execution_count": 6,
   "metadata": {},
   "outputs": [
    {
     "name": "stdout",
     "output_type": "stream",
     "text": [
      "{'benchmark_id': 'BBOB', 'problem_id': 'noiseless/4/1/0', 'problem': {'_target_': 'smacbenchmarking.benchmarks.bbob.BBOBProblem', 'dimension': 4, 'fid': 1, 'instance': 0, 'seed': '${seed}'}, 'task': {'n_trials': 100, 'n_objectives': 1}}\n",
      "{'benchmark_id': 'BBOB', 'problem_id': 'noiseless/4/2/0', 'problem': {'_target_': 'smacbenchmarking.benchmarks.bbob.BBOBProblem', 'dimension': 4, 'fid': 2, 'instance': 0, 'seed': '${seed}'}, 'task': {'n_trials': 100, 'n_objectives': 1}}\n",
      "{'benchmark_id': 'BBOB', 'problem_id': 'noiseless/4/3/0', 'problem': {'_target_': 'smacbenchmarking.benchmarks.bbob.BBOBProblem', 'dimension': 4, 'fid': 3, 'instance': 0, 'seed': '${seed}'}, 'task': {'n_trials': 100, 'n_objectives': 1}}\n",
      "{'benchmark_id': 'BBOB', 'problem_id': 'noiseless/4/4/0', 'problem': {'_target_': 'smacbenchmarking.benchmarks.bbob.BBOBProblem', 'dimension': 4, 'fid': 4, 'instance': 0, 'seed': '${seed}'}, 'task': {'n_trials': 100, 'n_objectives': 1}}\n",
      "{'benchmark_id': 'BBOB', 'problem_id': 'noiseless/4/5/0', 'problem': {'_target_': 'smacbenchmarking.benchmarks.bbob.BBOBProblem', 'dimension': 4, 'fid': 5, 'instance': 0, 'seed': '${seed}'}, 'task': {'n_trials': 100, 'n_objectives': 1}}\n",
      "{'benchmark_id': 'BBOB', 'problem_id': 'noiseless/4/6/0', 'problem': {'_target_': 'smacbenchmarking.benchmarks.bbob.BBOBProblem', 'dimension': 4, 'fid': 6, 'instance': 0, 'seed': '${seed}'}, 'task': {'n_trials': 100, 'n_objectives': 1}}\n",
      "{'benchmark_id': 'BBOB', 'problem_id': 'noiseless/4/7/0', 'problem': {'_target_': 'smacbenchmarking.benchmarks.bbob.BBOBProblem', 'dimension': 4, 'fid': 7, 'instance': 0, 'seed': '${seed}'}, 'task': {'n_trials': 100, 'n_objectives': 1}}\n",
      "{'benchmark_id': 'BBOB', 'problem_id': 'noiseless/4/8/0', 'problem': {'_target_': 'smacbenchmarking.benchmarks.bbob.BBOBProblem', 'dimension': 4, 'fid': 8, 'instance': 0, 'seed': '${seed}'}, 'task': {'n_trials': 100, 'n_objectives': 1}}\n",
      "{'benchmark_id': 'BBOB', 'problem_id': 'noiseless/4/9/0', 'problem': {'_target_': 'smacbenchmarking.benchmarks.bbob.BBOBProblem', 'dimension': 4, 'fid': 9, 'instance': 0, 'seed': '${seed}'}, 'task': {'n_trials': 100, 'n_objectives': 1}}\n",
      "{'benchmark_id': 'BBOB', 'problem_id': 'noiseless/4/10/0', 'problem': {'_target_': 'smacbenchmarking.benchmarks.bbob.BBOBProblem', 'dimension': 4, 'fid': 10, 'instance': 0, 'seed': '${seed}'}, 'task': {'n_trials': 100, 'n_objectives': 1}}\n",
      "{'benchmark_id': 'BBOB', 'problem_id': 'noiseless/4/11/0', 'problem': {'_target_': 'smacbenchmarking.benchmarks.bbob.BBOBProblem', 'dimension': 4, 'fid': 11, 'instance': 0, 'seed': '${seed}'}, 'task': {'n_trials': 100, 'n_objectives': 1}}\n",
      "{'benchmark_id': 'BBOB', 'problem_id': 'noiseless/4/12/0', 'problem': {'_target_': 'smacbenchmarking.benchmarks.bbob.BBOBProblem', 'dimension': 4, 'fid': 12, 'instance': 0, 'seed': '${seed}'}, 'task': {'n_trials': 100, 'n_objectives': 1}}\n",
      "{'benchmark_id': 'BBOB', 'problem_id': 'noiseless/4/13/0', 'problem': {'_target_': 'smacbenchmarking.benchmarks.bbob.BBOBProblem', 'dimension': 4, 'fid': 13, 'instance': 0, 'seed': '${seed}'}, 'task': {'n_trials': 100, 'n_objectives': 1}}\n",
      "{'benchmark_id': 'BBOB', 'problem_id': 'noiseless/4/14/0', 'problem': {'_target_': 'smacbenchmarking.benchmarks.bbob.BBOBProblem', 'dimension': 4, 'fid': 14, 'instance': 0, 'seed': '${seed}'}, 'task': {'n_trials': 100, 'n_objectives': 1}}\n",
      "{'benchmark_id': 'BBOB', 'problem_id': 'noiseless/4/15/0', 'problem': {'_target_': 'smacbenchmarking.benchmarks.bbob.BBOBProblem', 'dimension': 4, 'fid': 15, 'instance': 0, 'seed': '${seed}'}, 'task': {'n_trials': 100, 'n_objectives': 1}}\n",
      "{'benchmark_id': 'BBOB', 'problem_id': 'noiseless/4/16/0', 'problem': {'_target_': 'smacbenchmarking.benchmarks.bbob.BBOBProblem', 'dimension': 4, 'fid': 16, 'instance': 0, 'seed': '${seed}'}, 'task': {'n_trials': 100, 'n_objectives': 1}}\n",
      "{'benchmark_id': 'BBOB', 'problem_id': 'noiseless/4/17/0', 'problem': {'_target_': 'smacbenchmarking.benchmarks.bbob.BBOBProblem', 'dimension': 4, 'fid': 17, 'instance': 0, 'seed': '${seed}'}, 'task': {'n_trials': 100, 'n_objectives': 1}}\n",
      "{'benchmark_id': 'BBOB', 'problem_id': 'noiseless/4/18/0', 'problem': {'_target_': 'smacbenchmarking.benchmarks.bbob.BBOBProblem', 'dimension': 4, 'fid': 18, 'instance': 0, 'seed': '${seed}'}, 'task': {'n_trials': 100, 'n_objectives': 1}}\n",
      "{'benchmark_id': 'BBOB', 'problem_id': 'noiseless/4/19/0', 'problem': {'_target_': 'smacbenchmarking.benchmarks.bbob.BBOBProblem', 'dimension': 4, 'fid': 19, 'instance': 0, 'seed': '${seed}'}, 'task': {'n_trials': 100, 'n_objectives': 1}}\n",
      "{'benchmark_id': 'BBOB', 'problem_id': 'noiseless/4/20/0', 'problem': {'_target_': 'smacbenchmarking.benchmarks.bbob.BBOBProblem', 'dimension': 4, 'fid': 20, 'instance': 0, 'seed': '${seed}'}, 'task': {'n_trials': 100, 'n_objectives': 1}}\n",
      "{'benchmark_id': 'BBOB', 'problem_id': 'noiseless/4/21/0', 'problem': {'_target_': 'smacbenchmarking.benchmarks.bbob.BBOBProblem', 'dimension': 4, 'fid': 21, 'instance': 0, 'seed': '${seed}'}, 'task': {'n_trials': 100, 'n_objectives': 1}}\n",
      "{'benchmark_id': 'BBOB', 'problem_id': 'noiseless/4/22/0', 'problem': {'_target_': 'smacbenchmarking.benchmarks.bbob.BBOBProblem', 'dimension': 4, 'fid': 22, 'instance': 0, 'seed': '${seed}'}, 'task': {'n_trials': 100, 'n_objectives': 1}}\n",
      "{'benchmark_id': 'BBOB', 'problem_id': 'noiseless/4/23/0', 'problem': {'_target_': 'smacbenchmarking.benchmarks.bbob.BBOBProblem', 'dimension': 4, 'fid': 23, 'instance': 0, 'seed': '${seed}'}, 'task': {'n_trials': 100, 'n_objectives': 1}}\n",
      "{'benchmark_id': 'BBOB', 'problem_id': 'noiseless/4/24/0', 'problem': {'_target_': 'smacbenchmarking.benchmarks.bbob.BBOBProblem', 'dimension': 4, 'fid': 24, 'instance': 0, 'seed': '${seed}'}, 'task': {'n_trials': 100, 'n_objectives': 1}}\n"
     ]
    }
   ],
   "source": [
    "# BBOB\n",
    "from omegaconf import DictConfig, OmegaConf\n",
    "\n",
    "import shutil\n",
    "\n",
    "target_path = base_path / benchmark_id_bbob\n",
    "if target_path.is_dir():\n",
    "    shutil.rmtree(str(target_path))\n",
    "target_path.mkdir(parents=True, exist_ok=True)\n",
    "\n",
    "problem_class = \"smacbenchmarking.benchmarks.bbob.BBOBProblem\"\n",
    "\n",
    "fids = list(range(1, 25))\n",
    "instances = [0]\n",
    "dimensions = [4]\n",
    "n_trials = {\n",
    "    4: 100,\n",
    "}\n",
    "\n",
    "for fid in fids:\n",
    "    for inst in instances:\n",
    "        for dim in dimensions:\n",
    "            problem_id = f\"noiseless/{dim}/{fid}/{inst}\"\n",
    "            cfg = DictConfig({\n",
    "                \"benchmark_id\": benchmark_id_bbob,\n",
    "                \"problem_id\": problem_id,\n",
    "                \"problem\": {\n",
    "                    # \"problem_class\": {\n",
    "                        \"_target_\": problem_class,\n",
    "                        \"dimension\": dim,\n",
    "                        \"fid\": fid,\n",
    "                        \"instance\": inst,\n",
    "                        \"seed\": \"${seed}\",  # get the seed from global cfg                      \n",
    "                    # },\n",
    "                },\n",
    "                \"task\": {\n",
    "                    \"n_trials\": n_trials[dim],\n",
    "                    \"n_objectives\": 1,\n",
    "                }\n",
    "            \n",
    "            })\n",
    "            fn = target_path / f\"cfg_{dim}_{fid}_{dim}_{inst}.yaml\"\n",
    "            yaml_str = OmegaConf.to_yaml(cfg=cfg)\n",
    "            yaml_str = \"# @package _global_\\n\" + yaml_str\n",
    "            fn.write_text(yaml_str)\n",
    "            print(cfg)\n",
    "\n"
   ]
  }
 ],
 "metadata": {
  "kernelspec": {
   "display_name": "Python 3",
   "language": "python",
   "name": "python3"
  },
  "language_info": {
   "codemirror_mode": {
    "name": "ipython",
    "version": 3
   },
   "file_extension": ".py",
   "mimetype": "text/x-python",
   "name": "python",
   "nbconvert_exporter": "python",
   "pygments_lexer": "ipython3",
   "version": "3.11.4"
  },
  "orig_nbformat": 4
 },
 "nbformat": 4,
 "nbformat_minor": 2
}
