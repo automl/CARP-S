{
 "cells": [
  {
   "cell_type": "code",
   "execution_count": null,
   "metadata": {},
   "outputs": [],
   "source": [
    "from pathlib import Path\n",
    "\n",
    "seeds = range(1, 11)\n",
    "\n",
    "# Config should match Problem init\n",
    "\n",
    "base_path = Path(\"smacbenchmarking/configs/problem\")\n",
    "\n",
    "# Problem ids\n",
    "benchmark_id_bbob = \"BBOB\""
   ]
  },
  {
   "attachments": {},
   "cell_type": "markdown",
   "metadata": {},
   "source": [
    "# BBOB"
   ]
  },
  {
   "cell_type": "code",
   "execution_count": null,
   "metadata": {},
   "outputs": [],
   "source": [
    "# BBOB\n",
    "from omegaconf import DictConfig, OmegaConf\n",
    "\n",
    "import shutil\n",
    "\n",
    "target_path = base_path / benchmark_id_bbob\n",
    "if target_path.is_dir():\n",
    "    shutil.rmtree(str(target_path))\n",
    "target_path.mkdir(parents=True, exist_ok=True)\n",
    "\n",
    "problem_class = \"smacbenchmarking.benchmarks.bbob.BBOBProblem\"\n",
    "\n",
    "fids = list(range(1, 25))\n",
    "instances = [0]\n",
    "dimensions = [4]\n",
    "n_trials = {\n",
    "    4: 100,\n",
    "}\n",
    "\n",
    "for fid in fids:\n",
    "    for inst in instances:\n",
    "        for dim in dimensions:\n",
    "            problem_id = f\"noiseless/{dim}/{fid}/{inst}\"\n",
    "            cfg = DictConfig({\n",
    "                \"benchmark_id\": benchmark_id_bbob,\n",
    "                \"problem_id\": problem_id,\n",
    "                \"problem\": {\n",
    "                    # \"problem_class\": {\n",
    "                        \"_target_\": problem_class,\n",
    "                        \"dimension\": dim,\n",
    "                        \"fid\": fid,\n",
    "                        \"instance\": inst,\n",
    "                        \"seed\": \"${seed}\",  # get the seed from global cfg                      \n",
    "                    # },\n",
    "                },\n",
    "                \"task\": {\n",
    "                    \"n_trials\": n_trials[dim],\n",
    "                    \"n_objectives\": 1,\n",
    "                }\n",
    "            \n",
    "            })\n",
    "            fn = target_path / f\"cfg_{dim}_{fid}_{dim}_{inst}.yaml\"\n",
    "            yaml_str = OmegaConf.to_yaml(cfg=cfg)\n",
    "            yaml_str = \"# @package _global_\\n\" + yaml_str\n",
    "            fn.write_text(yaml_str)\n",
    "            print(cfg)\n",
    "\n"
   ]
  },
  {
   "cell_type": "markdown",
   "source": [
    "# YAHPO"
   ],
   "metadata": {
    "collapsed": false
   }
  },
  {
   "cell_type": "code",
   "execution_count": null,
   "outputs": [],
   "source": [],
   "metadata": {
    "collapsed": false
   }
  }
 ],
 "metadata": {
  "kernelspec": {
   "display_name": "Python 3",
   "language": "python",
   "name": "python3"
  },
  "language_info": {
   "codemirror_mode": {
    "name": "ipython",
    "version": 3
   },
   "file_extension": ".py",
   "mimetype": "text/x-python",
   "name": "python",
   "nbconvert_exporter": "python",
   "pygments_lexer": "ipython3",
   "version": "3.11.4"
  },
  "orig_nbformat": 4
 },
 "nbformat": 4,
 "nbformat_minor": 2
}
