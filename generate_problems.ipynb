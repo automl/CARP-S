{
 "cells": [
  {
   "cell_type": "code",
   "execution_count": null,
   "metadata": {},
   "outputs": [],
   "source": [
    "seeds = range(1, 11)\n",
    "\n",
    "# Config should match Problem init"
   ]
  },
  {
   "attachments": {},
   "cell_type": "markdown",
   "metadata": {},
   "source": [
    "# BBOB"
   ]
  },
  {
   "cell_type": "code",
   "execution_count": 10,
   "metadata": {},
   "outputs": [
    {
     "name": "stdout",
     "output_type": "stream",
     "text": [
      "{'problem_class': {'_target_': 'smacbenchmarking.benchmarks.bbob.BBOBProblem', 'dimension': 4, 'fid': 1, 'instance': 0, 'seed': '${seed}'}}\n",
      "{'problem_class': {'_target_': 'smacbenchmarking.benchmarks.bbob.BBOBProblem', 'dimension': 4, 'fid': 2, 'instance': 0, 'seed': '${seed}'}}\n",
      "{'problem_class': {'_target_': 'smacbenchmarking.benchmarks.bbob.BBOBProblem', 'dimension': 4, 'fid': 3, 'instance': 0, 'seed': '${seed}'}}\n",
      "{'problem_class': {'_target_': 'smacbenchmarking.benchmarks.bbob.BBOBProblem', 'dimension': 4, 'fid': 4, 'instance': 0, 'seed': '${seed}'}}\n",
      "{'problem_class': {'_target_': 'smacbenchmarking.benchmarks.bbob.BBOBProblem', 'dimension': 4, 'fid': 5, 'instance': 0, 'seed': '${seed}'}}\n",
      "{'problem_class': {'_target_': 'smacbenchmarking.benchmarks.bbob.BBOBProblem', 'dimension': 4, 'fid': 6, 'instance': 0, 'seed': '${seed}'}}\n",
      "{'problem_class': {'_target_': 'smacbenchmarking.benchmarks.bbob.BBOBProblem', 'dimension': 4, 'fid': 7, 'instance': 0, 'seed': '${seed}'}}\n",
      "{'problem_class': {'_target_': 'smacbenchmarking.benchmarks.bbob.BBOBProblem', 'dimension': 4, 'fid': 8, 'instance': 0, 'seed': '${seed}'}}\n",
      "{'problem_class': {'_target_': 'smacbenchmarking.benchmarks.bbob.BBOBProblem', 'dimension': 4, 'fid': 9, 'instance': 0, 'seed': '${seed}'}}\n",
      "{'problem_class': {'_target_': 'smacbenchmarking.benchmarks.bbob.BBOBProblem', 'dimension': 4, 'fid': 10, 'instance': 0, 'seed': '${seed}'}}\n",
      "{'problem_class': {'_target_': 'smacbenchmarking.benchmarks.bbob.BBOBProblem', 'dimension': 4, 'fid': 11, 'instance': 0, 'seed': '${seed}'}}\n",
      "{'problem_class': {'_target_': 'smacbenchmarking.benchmarks.bbob.BBOBProblem', 'dimension': 4, 'fid': 12, 'instance': 0, 'seed': '${seed}'}}\n",
      "{'problem_class': {'_target_': 'smacbenchmarking.benchmarks.bbob.BBOBProblem', 'dimension': 4, 'fid': 13, 'instance': 0, 'seed': '${seed}'}}\n",
      "{'problem_class': {'_target_': 'smacbenchmarking.benchmarks.bbob.BBOBProblem', 'dimension': 4, 'fid': 14, 'instance': 0, 'seed': '${seed}'}}\n",
      "{'problem_class': {'_target_': 'smacbenchmarking.benchmarks.bbob.BBOBProblem', 'dimension': 4, 'fid': 15, 'instance': 0, 'seed': '${seed}'}}\n",
      "{'problem_class': {'_target_': 'smacbenchmarking.benchmarks.bbob.BBOBProblem', 'dimension': 4, 'fid': 16, 'instance': 0, 'seed': '${seed}'}}\n",
      "{'problem_class': {'_target_': 'smacbenchmarking.benchmarks.bbob.BBOBProblem', 'dimension': 4, 'fid': 17, 'instance': 0, 'seed': '${seed}'}}\n",
      "{'problem_class': {'_target_': 'smacbenchmarking.benchmarks.bbob.BBOBProblem', 'dimension': 4, 'fid': 18, 'instance': 0, 'seed': '${seed}'}}\n",
      "{'problem_class': {'_target_': 'smacbenchmarking.benchmarks.bbob.BBOBProblem', 'dimension': 4, 'fid': 19, 'instance': 0, 'seed': '${seed}'}}\n",
      "{'problem_class': {'_target_': 'smacbenchmarking.benchmarks.bbob.BBOBProblem', 'dimension': 4, 'fid': 20, 'instance': 0, 'seed': '${seed}'}}\n",
      "{'problem_class': {'_target_': 'smacbenchmarking.benchmarks.bbob.BBOBProblem', 'dimension': 4, 'fid': 21, 'instance': 0, 'seed': '${seed}'}}\n",
      "{'problem_class': {'_target_': 'smacbenchmarking.benchmarks.bbob.BBOBProblem', 'dimension': 4, 'fid': 22, 'instance': 0, 'seed': '${seed}'}}\n",
      "{'problem_class': {'_target_': 'smacbenchmarking.benchmarks.bbob.BBOBProblem', 'dimension': 4, 'fid': 23, 'instance': 0, 'seed': '${seed}'}}\n",
      "{'problem_class': {'_target_': 'smacbenchmarking.benchmarks.bbob.BBOBProblem', 'dimension': 4, 'fid': 24, 'instance': 0, 'seed': '${seed}'}}\n"
     ]
    }
   ],
   "source": [
    "# BBOB\n",
    "from omegaconf import DictConfig, OmegaConf\n",
    "from pathlib import Path\n",
    "import shutil\n",
    "\n",
    "target_path = Path(\"smacbenchmarking/benchmarks/configs/bbob/problems/\")\n",
    "shutil.rmtree(str(target_path))\n",
    "target_path.mkdir(parents=True, exist_ok=True)\n",
    "\n",
    "problem_class = \"smacbenchmarking.benchmarks.bbob.BBOBProblem\"\n",
    "\n",
    "fids = list(range(1, 25))\n",
    "instances = [0]\n",
    "dimensions = [4]\n",
    "\n",
    "for fid in fids:\n",
    "    for inst in instances:\n",
    "        for dim in dimensions:\n",
    "            cfg = DictConfig({\n",
    "                \"problem_class\": {\n",
    "                    \"_target_\": problem_class,\n",
    "                    \"dimension\": dim,\n",
    "                    \"fid\": fid,\n",
    "                    \"instance\": inst,\n",
    "                    \"seed\": \"${seed}\",  # get the seed from global cfg                      \n",
    "                }\n",
    "            })\n",
    "            fn = target_path / f\"{dim}_{fid}_{dim}_{inst}.yaml\"\n",
    "            yaml_str = OmegaConf.to_yaml(cfg=cfg)\n",
    "            fn.write_text(yaml_str)\n",
    "            print(cfg)\n",
    "\n"
   ]
  }
 ],
 "metadata": {
  "kernelspec": {
   "display_name": "Python 3",
   "language": "python",
   "name": "python3"
  },
  "language_info": {
   "codemirror_mode": {
    "name": "ipython",
    "version": 3
   },
   "file_extension": ".py",
   "mimetype": "text/x-python",
   "name": "python",
   "nbconvert_exporter": "python",
   "pygments_lexer": "ipython3",
   "version": "3.11.4"
  },
  "orig_nbformat": 4
 },
 "nbformat": 4,
 "nbformat_minor": 2
}
