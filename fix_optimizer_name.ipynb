{
 "cells": [
  {
   "cell_type": "code",
   "execution_count": 5,
   "metadata": {},
   "outputs": [],
   "source": [
    "from pathlib import Path\n",
    "from omegaconf import OmegaConf\n",
    "from multiprocessing import Pool\n",
    "\n",
    "optimizer_id = \"SMAC3-1.4-BlackBoxFacade\"\n",
    "new_optimizer_id = \"SMAC3-1.4-MultiFidelityFacade\"\n",
    "\n",
    "rundir = Path(\"runs/SMAC3-1.4-MultiFidelityFacade\")\n",
    "config_fns = list(rundir.glob(\"**/config.yaml\"))\n",
    "\n",
    "def fix_name(config_fn: Path) -> None:\n",
    "    cfg = OmegaConf.load(config_fn)\n",
    "    cfg.optimizer_id = new_optimizer_id\n",
    "    OmegaConf.save(cfg, config_fn)\n",
    "\n",
    "with Pool(processes=4) as pool:\n",
    "    pool.map(fix_name, config_fns)\n"
   ]
  },
  {
   "cell_type": "code",
   "execution_count": null,
   "metadata": {},
   "outputs": [],
   "source": [
    "# Fix HPOB Problem names\n",
    "from pathlib import Path\n",
    "from omegaconf import OmegaConf\n",
    "from multiprocessing import Pool\n",
    "\n",
    "optimizer_id = \"SMAC3-1.4-BlackBoxFacade\"\n",
    "new_optimizer_id = \"SMAC3-1.4-MultiFidelityFacade\"\n",
    "\n",
    "rundir = Path(\"runs\")\n",
    "config_fns = list(rundir.glob(\"**/config.yaml\"))\n",
    "\n",
    "def fix_name(config_fn: Path) -> None:\n",
    "    cfg = OmegaConf.load(config_fn)\n",
    "    cfg.optimizer_id = new_optimizer_id\n",
    "    OmegaConf.save(cfg, config_fn)\n",
    "\n",
    "with Pool(processes=4) as pool:\n",
    "    pool.map(fix_name, config_fns)"
   ]
  }
 ],
 "metadata": {
  "kernelspec": {
   "display_name": "carpsexp",
   "language": "python",
   "name": "python3"
  },
  "language_info": {
   "codemirror_mode": {
    "name": "ipython",
    "version": 3
   },
   "file_extension": ".py",
   "mimetype": "text/x-python",
   "name": "python",
   "nbconvert_exporter": "python",
   "pygments_lexer": "ipython3",
   "version": "3.10.14"
  }
 },
 "nbformat": 4,
 "nbformat_minor": 2
}
