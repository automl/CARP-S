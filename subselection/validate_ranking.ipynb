{
 "cells": [
  {
   "cell_type": "markdown",
   "metadata": {},
   "source": [
    "# Validate Ranking\n",
    "It is important that the ranking between the subsets, dev and test (and X), stay consistent.\n",
    "Therefore we calulcate the ranking (via statistical tests/autorank) for those sets and compare.\n",
    "\n",
    "## Prequisites\n",
    "Full data needed (full set on which the subselection is performed on).\n",
    "Run this notebook for each scenario as defined in the next code cell.\n",
    "It generates Latex tables."
   ]
  },
  {
   "cell_type": "markdown",
   "metadata": {},
   "source": [
    "## Define Scenario"
   ]
  },
  {
   "cell_type": "code",
   "execution_count": 1,
   "metadata": {},
   "outputs": [],
   "source": [
    "# subsets = [\"BBfull\", \"BBsubset\"]\n",
    "# scenario = \"blackbox\"\n",
    "# optimizer_ids = [\"RandomSearch\", \"SMAC3-BlackBoxFacade\", \"Nevergrad-CMA-ES\"]\n",
    "\n",
    "# subsets = [\"MOfull\", \"MOsubset\"]\n",
    "# scenario = \"multiobjective\"\n",
    "# optimizer_ids = [\"RandomSearch\", \"Optuna-MO\", \"Nevergrad-DE\"]\n",
    "\n",
    "# subsets = [\"MFfull\", \"MFsubset\"]\n",
    "# scenario = \"multifidelity\"\n",
    "# optimizer_ids = [\"SMAC3-Hyperband\", \"SMAC3-MultiFidelityFacade\", \"DEHB\"]\n",
    "from __future__ import annotations\n",
    "\n",
    "subsets = [\"MOMFfull\", \"MOMFsubset\"]\n",
    "scenario = \"MOMF\"\n",
    "optimizer_ids = [\"RandomSearch\", \"SMAC3-MOMF-GP\", \"Nevergrad-DE\"]"
   ]
  },
  {
   "cell_type": "markdown",
   "metadata": {},
   "source": [
    "## Load Data\n",
    "Load the full set and the subset data"
   ]
  },
  {
   "cell_type": "code",
   "execution_count": 2,
   "metadata": {},
   "outputs": [
    {
     "name": "stdout",
     "output_type": "stream",
     "text": [
      "loading MOMFfull\n",
      "loading MOMFsubset\n"
     ]
    },
    {
     "data": {
      "text/html": [
       "<pre style=\"white-space:pre;overflow-x:auto;line-height:normal;font-family:Menlo,'DejaVu Sans Mono',consolas,'Courier New',monospace\"><span style=\"color: #7fbfbf; text-decoration-color: #7fbfbf\">[10:32:07] </span><span style=\"color: #000080; text-decoration-color: #000080\">INFO    </span> Start normalization<span style=\"color: #808000; text-decoration-color: #808000\">...</span>                                                       <a href=\"file:///scratch/hpc-prf-intexml/cbenjamins/repos/CARP-S-Experiments/lib/CARP-S/carps/analysis/gather_data.py\" target=\"_blank\"><span style=\"color: #7f7f7f; text-decoration-color: #7f7f7f\">gather_data.py</span></a><span style=\"color: #7f7f7f; text-decoration-color: #7f7f7f\">:</span><a href=\"file:///scratch/hpc-prf-intexml/cbenjamins/repos/CARP-S-Experiments/lib/CARP-S/carps/analysis/gather_data.py#357\" target=\"_blank\"><span style=\"color: #7f7f7f; text-decoration-color: #7f7f7f\">357</span></a>\n",
       "</pre>\n"
      ],
      "text/plain": [
       "\u001b[2;36m[10:32:07]\u001b[0m\u001b[2;36m \u001b[0m\u001b[34mINFO    \u001b[0m Start normalization\u001b[33m...\u001b[0m                                                       \u001b]8;id=864071;file:///scratch/hpc-prf-intexml/cbenjamins/repos/CARP-S-Experiments/lib/CARP-S/carps/analysis/gather_data.py\u001b\\\u001b[2mgather_data.py\u001b[0m\u001b]8;;\u001b\\\u001b[2m:\u001b[0m\u001b]8;id=997121;file:///scratch/hpc-prf-intexml/cbenjamins/repos/CARP-S-Experiments/lib/CARP-S/carps/analysis/gather_data.py#357\u001b\\\u001b[2m357\u001b[0m\u001b]8;;\u001b\\\n"
      ]
     },
     "metadata": {},
     "output_type": "display_data"
    },
    {
     "data": {
      "text/html": [
       "<pre style=\"white-space:pre;overflow-x:auto;line-height:normal;font-family:Menlo,'DejaVu Sans Mono',consolas,'Courier New',monospace\"><span style=\"color: #7fbfbf; text-decoration-color: #7fbfbf\">           </span><span style=\"color: #000080; text-decoration-color: #000080\">INFO    </span> Normalize n_trials<span style=\"color: #808000; text-decoration-color: #808000\">...</span>                                                        <a href=\"file:///scratch/hpc-prf-intexml/cbenjamins/repos/CARP-S-Experiments/lib/CARP-S/carps/analysis/gather_data.py\" target=\"_blank\"><span style=\"color: #7f7f7f; text-decoration-color: #7f7f7f\">gather_data.py</span></a><span style=\"color: #7f7f7f; text-decoration-color: #7f7f7f\">:</span><a href=\"file:///scratch/hpc-prf-intexml/cbenjamins/repos/CARP-S-Experiments/lib/CARP-S/carps/analysis/gather_data.py#358\" target=\"_blank\"><span style=\"color: #7f7f7f; text-decoration-color: #7f7f7f\">358</span></a>\n",
       "</pre>\n"
      ],
      "text/plain": [
       "\u001b[2;36m          \u001b[0m\u001b[2;36m \u001b[0m\u001b[34mINFO    \u001b[0m Normalize n_trials\u001b[33m...\u001b[0m                                                        \u001b]8;id=700773;file:///scratch/hpc-prf-intexml/cbenjamins/repos/CARP-S-Experiments/lib/CARP-S/carps/analysis/gather_data.py\u001b\\\u001b[2mgather_data.py\u001b[0m\u001b]8;;\u001b\\\u001b[2m:\u001b[0m\u001b]8;id=866643;file:///scratch/hpc-prf-intexml/cbenjamins/repos/CARP-S-Experiments/lib/CARP-S/carps/analysis/gather_data.py#358\u001b\\\u001b[2m358\u001b[0m\u001b]8;;\u001b\\\n"
      ]
     },
     "metadata": {},
     "output_type": "display_data"
    },
    {
     "data": {
      "text/html": [
       "<pre style=\"white-space:pre;overflow-x:auto;line-height:normal;font-family:Menlo,'DejaVu Sans Mono',consolas,'Courier New',monospace\"><span style=\"color: #7fbfbf; text-decoration-color: #7fbfbf\">[10:32:09] </span><span style=\"color: #000080; text-decoration-color: #000080\">INFO    </span> Normalize cost<span style=\"color: #808000; text-decoration-color: #808000\">...</span>                                                            <a href=\"file:///scratch/hpc-prf-intexml/cbenjamins/repos/CARP-S-Experiments/lib/CARP-S/carps/analysis/gather_data.py\" target=\"_blank\"><span style=\"color: #7f7f7f; text-decoration-color: #7f7f7f\">gather_data.py</span></a><span style=\"color: #7f7f7f; text-decoration-color: #7f7f7f\">:</span><a href=\"file:///scratch/hpc-prf-intexml/cbenjamins/repos/CARP-S-Experiments/lib/CARP-S/carps/analysis/gather_data.py#360\" target=\"_blank\"><span style=\"color: #7f7f7f; text-decoration-color: #7f7f7f\">360</span></a>\n",
       "</pre>\n"
      ],
      "text/plain": [
       "\u001b[2;36m[10:32:09]\u001b[0m\u001b[2;36m \u001b[0m\u001b[34mINFO    \u001b[0m Normalize cost\u001b[33m...\u001b[0m                                                            \u001b]8;id=914466;file:///scratch/hpc-prf-intexml/cbenjamins/repos/CARP-S-Experiments/lib/CARP-S/carps/analysis/gather_data.py\u001b\\\u001b[2mgather_data.py\u001b[0m\u001b]8;;\u001b\\\u001b[2m:\u001b[0m\u001b]8;id=906466;file:///scratch/hpc-prf-intexml/cbenjamins/repos/CARP-S-Experiments/lib/CARP-S/carps/analysis/gather_data.py#360\u001b\\\u001b[2m360\u001b[0m\u001b]8;;\u001b\\\n"
      ]
     },
     "metadata": {},
     "output_type": "display_data"
    },
    {
     "data": {
      "text/html": [
       "<pre style=\"white-space:pre;overflow-x:auto;line-height:normal;font-family:Menlo,'DejaVu Sans Mono',consolas,'Courier New',monospace\"><span style=\"color: #7fbfbf; text-decoration-color: #7fbfbf\">           </span><span style=\"color: #000080; text-decoration-color: #000080\">INFO    </span> Calc normalized incumbent cost<span style=\"color: #808000; text-decoration-color: #808000\">...</span>                                            <a href=\"file:///scratch/hpc-prf-intexml/cbenjamins/repos/CARP-S-Experiments/lib/CARP-S/carps/analysis/gather_data.py\" target=\"_blank\"><span style=\"color: #7f7f7f; text-decoration-color: #7f7f7f\">gather_data.py</span></a><span style=\"color: #7f7f7f; text-decoration-color: #7f7f7f\">:</span><a href=\"file:///scratch/hpc-prf-intexml/cbenjamins/repos/CARP-S-Experiments/lib/CARP-S/carps/analysis/gather_data.py#369\" target=\"_blank\"><span style=\"color: #7f7f7f; text-decoration-color: #7f7f7f\">369</span></a>\n",
       "</pre>\n"
      ],
      "text/plain": [
       "\u001b[2;36m          \u001b[0m\u001b[2;36m \u001b[0m\u001b[34mINFO    \u001b[0m Calc normalized incumbent cost\u001b[33m...\u001b[0m                                            \u001b]8;id=86304;file:///scratch/hpc-prf-intexml/cbenjamins/repos/CARP-S-Experiments/lib/CARP-S/carps/analysis/gather_data.py\u001b\\\u001b[2mgather_data.py\u001b[0m\u001b]8;;\u001b\\\u001b[2m:\u001b[0m\u001b]8;id=808689;file:///scratch/hpc-prf-intexml/cbenjamins/repos/CARP-S-Experiments/lib/CARP-S/carps/analysis/gather_data.py#369\u001b\\\u001b[2m369\u001b[0m\u001b]8;;\u001b\\\n"
      ]
     },
     "metadata": {},
     "output_type": "display_data"
    },
    {
     "data": {
      "text/html": [
       "<pre style=\"white-space:pre;overflow-x:auto;line-height:normal;font-family:Menlo,'DejaVu Sans Mono',consolas,'Courier New',monospace\"><span style=\"color: #7fbfbf; text-decoration-color: #7fbfbf\">           </span><span style=\"color: #000080; text-decoration-color: #000080\">INFO    </span> Normalize time<span style=\"color: #808000; text-decoration-color: #808000\">...</span>                                                            <a href=\"file:///scratch/hpc-prf-intexml/cbenjamins/repos/CARP-S-Experiments/lib/CARP-S/carps/analysis/gather_data.py\" target=\"_blank\"><span style=\"color: #7f7f7f; text-decoration-color: #7f7f7f\">gather_data.py</span></a><span style=\"color: #7f7f7f; text-decoration-color: #7f7f7f\">:</span><a href=\"file:///scratch/hpc-prf-intexml/cbenjamins/repos/CARP-S-Experiments/lib/CARP-S/carps/analysis/gather_data.py#375\" target=\"_blank\"><span style=\"color: #7f7f7f; text-decoration-color: #7f7f7f\">375</span></a>\n",
       "</pre>\n"
      ],
      "text/plain": [
       "\u001b[2;36m          \u001b[0m\u001b[2;36m \u001b[0m\u001b[34mINFO    \u001b[0m Normalize time\u001b[33m...\u001b[0m                                                            \u001b]8;id=30747;file:///scratch/hpc-prf-intexml/cbenjamins/repos/CARP-S-Experiments/lib/CARP-S/carps/analysis/gather_data.py\u001b\\\u001b[2mgather_data.py\u001b[0m\u001b]8;;\u001b\\\u001b[2m:\u001b[0m\u001b]8;id=880672;file:///scratch/hpc-prf-intexml/cbenjamins/repos/CARP-S-Experiments/lib/CARP-S/carps/analysis/gather_data.py#375\u001b\\\u001b[2m375\u001b[0m\u001b]8;;\u001b\\\n"
      ]
     },
     "metadata": {},
     "output_type": "display_data"
    },
    {
     "data": {
      "text/html": [
       "<pre style=\"white-space:pre;overflow-x:auto;line-height:normal;font-family:Menlo,'DejaVu Sans Mono',consolas,'Courier New',monospace\"><span style=\"color: #7fbfbf; text-decoration-color: #7fbfbf\">[10:32:10] </span><span style=\"color: #000080; text-decoration-color: #000080\">INFO    </span> Done.                                                                        <a href=\"file:///scratch/hpc-prf-intexml/cbenjamins/repos/CARP-S-Experiments/lib/CARP-S/carps/analysis/gather_data.py\" target=\"_blank\"><span style=\"color: #7f7f7f; text-decoration-color: #7f7f7f\">gather_data.py</span></a><span style=\"color: #7f7f7f; text-decoration-color: #7f7f7f\">:</span><a href=\"file:///scratch/hpc-prf-intexml/cbenjamins/repos/CARP-S-Experiments/lib/CARP-S/carps/analysis/gather_data.py#378\" target=\"_blank\"><span style=\"color: #7f7f7f; text-decoration-color: #7f7f7f\">378</span></a>\n",
       "</pre>\n"
      ],
      "text/plain": [
       "\u001b[2;36m[10:32:10]\u001b[0m\u001b[2;36m \u001b[0m\u001b[34mINFO    \u001b[0m Done.                                                                        \u001b]8;id=574265;file:///scratch/hpc-prf-intexml/cbenjamins/repos/CARP-S-Experiments/lib/CARP-S/carps/analysis/gather_data.py\u001b\\\u001b[2mgather_data.py\u001b[0m\u001b]8;;\u001b\\\u001b[2m:\u001b[0m\u001b]8;id=592801;file:///scratch/hpc-prf-intexml/cbenjamins/repos/CARP-S-Experiments/lib/CARP-S/carps/analysis/gather_data.py#378\u001b\\\u001b[2m378\u001b[0m\u001b]8;;\u001b\\\n"
      ]
     },
     "metadata": {},
     "output_type": "display_data"
    }
   ],
   "source": [
    "import pandas as pd\n",
    "from carps.analysis.gather_data import load_set, normalize_logs\n",
    "\n",
    "paths = {\n",
    "    \"BBfull\": {\n",
    "        \"full\": [\n",
    "        \"../runs/SMAC3-BlackBoxFacade\",\n",
    "        \"../runs/RandomSearch\",\n",
    "        \"../runs/Nevergrad-CMA-ES\",\n",
    "    ]},\n",
    "    \"MFfull\": {\n",
    "        \"full\": [\n",
    "        \"../runs/SMAC3-Hyperband\",\n",
    "        \"../runs/DEHB\",\n",
    "        \"../runs/SMAC3-MultiFidelityFacade\",\n",
    "    ]},\n",
    "    \"MOfull\": {\n",
    "        \"full\": [\n",
    "        \"../runs_MO/Optuna-MO\",\n",
    "        \"../runs_MO/RandomSearch\",\n",
    "        \"../runs_MO/Nevergrad-DE\",\n",
    "    ]},\n",
    "    \"MOMFfull\": {\n",
    "        \"full\": [\n",
    "        \"../runs_MOMF/SMAC3-MOMF-GP\",\n",
    "        \"../runs_MOMF/RandomSearch\",\n",
    "        \"../runs_MOMF/Nevergrad-DE\",\n",
    "    ]},\n",
    "    \"BBsubset\": {\n",
    "        \"dev\": [\"../runs_subset_BB/dev\"],\n",
    "        \"test\": [\"../runs_subset_BB/test\"],\n",
    "    },\n",
    "    \"MFsubset\": {\n",
    "        \"dev\": [\"../runs_subset_MF/dev\"],\n",
    "        \"test\": [\"../runs_subset_MF/test\"],\n",
    "    },\n",
    "    \"MOsubset\": {\n",
    "        \"dev\": [\"../runs_subset_MO/dev\"],\n",
    "        \"test\": [\"../runs_subset_MO/test\"],\n",
    "    },\n",
    "    \"MOMFsubset\": {\n",
    "        \"dev\": [\"../runs_subset_MOMF/dev\"],\n",
    "        \"test\": [\"../runs_subset_MOMF/test\"],\n",
    "    },\n",
    "}\n",
    "\n",
    "\n",
    "D = []\n",
    "for subset in subsets:\n",
    "    print(\"loading\", subset)\n",
    "    loaded = [load_set(paths=ps, set_id=set_id) for set_id, ps in paths[subset].items()]\n",
    "    df = pd.concat([d for d, _ in loaded]).reset_index(drop=True)\n",
    "    df = df[df[\"optimizer_id\"].isin(optimizer_ids)]\n",
    "    D.append(df)\n",
    "df = pd.concat(D).reset_index(drop=True)\n",
    "df = normalize_logs(df)\n",
    "del D"
   ]
  },
  {
   "cell_type": "markdown",
   "metadata": {},
   "source": [
    "## Calc Ranks per Set\n",
    "With autorank"
   ]
  },
  {
   "cell_type": "code",
   "execution_count": 5,
   "metadata": {},
   "outputs": [
    {
     "data": {
      "text/html": [
       "<pre style=\"white-space:pre;overflow-x:auto;line-height:normal;font-family:Menlo,'DejaVu Sans Mono',consolas,'Courier New',monospace\"><span style=\"color: #7fbfbf; text-decoration-color: #7fbfbf\">[10:33:32] </span><span style=\"color: #000080; text-decoration-color: #000080\">INFO    </span> Lost following experiments: Empty DataFrame                                 <a href=\"file:///scratch/hpc-prf-intexml/cbenjamins/repos/CARP-S-Experiments/lib/CARP-S/carps/analysis/run_autorank.py\" target=\"_blank\"><span style=\"color: #7f7f7f; text-decoration-color: #7f7f7f\">run_autorank.py</span></a><span style=\"color: #7f7f7f; text-decoration-color: #7f7f7f\">:</span><a href=\"file:///scratch/hpc-prf-intexml/cbenjamins/repos/CARP-S-Experiments/lib/CARP-S/carps/analysis/run_autorank.py#113\" target=\"_blank\"><span style=\"color: #7f7f7f; text-decoration-color: #7f7f7f\">113</span></a>\n",
       "<span style=\"color: #7fbfbf; text-decoration-color: #7fbfbf\">           </span>         Columns: <span style=\"font-weight: bold\">[</span>Nevergrad-DE, RandomSearch, SMAC3-MOMF-GP<span style=\"font-weight: bold\">]</span>                        <span style=\"color: #7f7f7f; text-decoration-color: #7f7f7f\">                   </span>\n",
       "<span style=\"color: #7fbfbf; text-decoration-color: #7fbfbf\">           </span>         Index: <span style=\"font-weight: bold\">[]</span>                                                                   <span style=\"color: #7f7f7f; text-decoration-color: #7f7f7f\">                   </span>\n",
       "</pre>\n"
      ],
      "text/plain": [
       "\u001b[2;36m[10:33:32]\u001b[0m\u001b[2;36m \u001b[0m\u001b[34mINFO    \u001b[0m Lost following experiments: Empty DataFrame                                 \u001b]8;id=574360;file:///scratch/hpc-prf-intexml/cbenjamins/repos/CARP-S-Experiments/lib/CARP-S/carps/analysis/run_autorank.py\u001b\\\u001b[2mrun_autorank.py\u001b[0m\u001b]8;;\u001b\\\u001b[2m:\u001b[0m\u001b]8;id=84419;file:///scratch/hpc-prf-intexml/cbenjamins/repos/CARP-S-Experiments/lib/CARP-S/carps/analysis/run_autorank.py#113\u001b\\\u001b[2m113\u001b[0m\u001b]8;;\u001b\\\n",
       "\u001b[2;36m           \u001b[0m         Columns: \u001b[1m[\u001b[0mNevergrad-DE, RandomSearch, SMAC3-MOMF-GP\u001b[1m]\u001b[0m                        \u001b[2m                   \u001b[0m\n",
       "\u001b[2;36m           \u001b[0m         Index: \u001b[1m[\u001b[0m\u001b[1m]\u001b[0m                                                                   \u001b[2m                   \u001b[0m\n"
      ]
     },
     "metadata": {},
     "output_type": "display_data"
    },
    {
     "data": {
      "text/html": [
       "<pre style=\"white-space:pre;overflow-x:auto;line-height:normal;font-family:Menlo,'DejaVu Sans Mono',consolas,'Courier New',monospace\"><span style=\"color: #7fbfbf; text-decoration-color: #7fbfbf\">[10:33:34] </span><span style=\"color: #000080; text-decoration-color: #000080\">INFO    </span> Lost following experiments: optimizer_id                                    <a href=\"file:///scratch/hpc-prf-intexml/cbenjamins/repos/CARP-S-Experiments/lib/CARP-S/carps/analysis/run_autorank.py\" target=\"_blank\"><span style=\"color: #7f7f7f; text-decoration-color: #7f7f7f\">run_autorank.py</span></a><span style=\"color: #7f7f7f; text-decoration-color: #7f7f7f\">:</span><a href=\"file:///scratch/hpc-prf-intexml/cbenjamins/repos/CARP-S-Experiments/lib/CARP-S/carps/analysis/run_autorank.py#113\" target=\"_blank\"><span style=\"color: #7f7f7f; text-decoration-color: #7f7f7f\">113</span></a>\n",
       "<span style=\"color: #7fbfbf; text-decoration-color: #7fbfbf\">           </span>         Nevergrad-DE  RandomSearch  \\                                               <span style=\"color: #7f7f7f; text-decoration-color: #7f7f7f\">                   </span>\n",
       "<span style=\"color: #7fbfbf; text-decoration-color: #7fbfbf\">           </span>         problem_id                                                                  <span style=\"color: #7f7f7f; text-decoration-color: #7f7f7f\">                   </span>\n",
       "<span style=\"color: #7fbfbf; text-decoration-color: #7fbfbf\">           </span>         yahpo/MOMF/repl/rbv2_super/<span style=\"color: #008080; text-decoration-color: #008080; font-weight: bold\">1053</span>/repl                     NaN      <span style=\"color: #008080; text-decoration-color: #008080; font-weight: bold\">0.004430</span>  <span style=\"color: #7f7f7f; text-decoration-color: #7f7f7f\">                   </span>\n",
       "<span style=\"color: #7fbfbf; text-decoration-color: #7fbfbf\">           </span>         yahpo/MOMF/repl/rbv2_super/<span style=\"color: #008080; text-decoration-color: #008080; font-weight: bold\">1457</span>/repl                     NaN      <span style=\"color: #008080; text-decoration-color: #008080; font-weight: bold\">0.000087</span>  <span style=\"color: #7f7f7f; text-decoration-color: #7f7f7f\">                   </span>\n",
       "<span style=\"color: #7fbfbf; text-decoration-color: #7fbfbf\">           </span>         yahpo/MOMF/repl/rbv2_super/<span style=\"color: #008080; text-decoration-color: #008080; font-weight: bold\">6</span>/repl                        NaN      <span style=\"color: #008080; text-decoration-color: #008080; font-weight: bold\">0.000169</span>  <span style=\"color: #7f7f7f; text-decoration-color: #7f7f7f\">                   </span>\n",
       "<span style=\"color: #7fbfbf; text-decoration-color: #7fbfbf\">           </span>         yahpo/MOMF/trainsize/iaml_super/<span style=\"color: #008080; text-decoration-color: #008080; font-weight: bold\">1067</span>/trainsize           NaN      <span style=\"color: #008080; text-decoration-color: #008080; font-weight: bold\">0.001271</span>  <span style=\"color: #7f7f7f; text-decoration-color: #7f7f7f\">                   </span>\n",
       "<span style=\"color: #7fbfbf; text-decoration-color: #7fbfbf\">           </span>         yahpo/MOMF/trainsize/iaml_super/<span style=\"color: #008080; text-decoration-color: #008080; font-weight: bold\">1489</span>/trainsize           NaN      <span style=\"color: #008080; text-decoration-color: #008080; font-weight: bold\">0.001388</span>  <span style=\"color: #7f7f7f; text-decoration-color: #7f7f7f\">                   </span>\n",
       "<span style=\"color: #7fbfbf; text-decoration-color: #7fbfbf\">           </span>         yahpo/MOMF/trainsize/rbv2_super/<span style=\"color: #008080; text-decoration-color: #008080; font-weight: bold\">1053</span>/trainsize           NaN      <span style=\"color: #008080; text-decoration-color: #008080; font-weight: bold\">0.005711</span>  <span style=\"color: #7f7f7f; text-decoration-color: #7f7f7f\">                   </span>\n",
       "<span style=\"color: #7fbfbf; text-decoration-color: #7fbfbf\">           </span>         yahpo/MOMF/trainsize/rbv2_super/<span style=\"color: #008080; text-decoration-color: #008080; font-weight: bold\">1457</span>/trainsize           NaN      <span style=\"color: #008080; text-decoration-color: #008080; font-weight: bold\">0.000181</span>  <span style=\"color: #7f7f7f; text-decoration-color: #7f7f7f\">                   </span>\n",
       "<span style=\"color: #7fbfbf; text-decoration-color: #7fbfbf\">           </span>         yahpo/MOMF/trainsize/rbv2_super/<span style=\"color: #008080; text-decoration-color: #008080; font-weight: bold\">6</span>/trainsize              NaN      <span style=\"color: #008080; text-decoration-color: #008080; font-weight: bold\">0.000202</span>  <span style=\"color: #7f7f7f; text-decoration-color: #7f7f7f\">                   </span>\n",
       "<span style=\"color: #7fbfbf; text-decoration-color: #7fbfbf\">           </span>                                                                                     <span style=\"color: #7f7f7f; text-decoration-color: #7f7f7f\">                   </span>\n",
       "<span style=\"color: #7fbfbf; text-decoration-color: #7fbfbf\">           </span>         optimizer_id                                    SMAC3-MOMF-GP               <span style=\"color: #7f7f7f; text-decoration-color: #7f7f7f\">                   </span>\n",
       "<span style=\"color: #7fbfbf; text-decoration-color: #7fbfbf\">           </span>         problem_id                                                                  <span style=\"color: #7f7f7f; text-decoration-color: #7f7f7f\">                   </span>\n",
       "<span style=\"color: #7fbfbf; text-decoration-color: #7fbfbf\">           </span>         yahpo/MOMF/repl/rbv2_super/<span style=\"color: #008080; text-decoration-color: #008080; font-weight: bold\">1053</span>/repl                 <span style=\"color: #008080; text-decoration-color: #008080; font-weight: bold\">0.103002</span>               <span style=\"color: #7f7f7f; text-decoration-color: #7f7f7f\">                   </span>\n",
       "<span style=\"color: #7fbfbf; text-decoration-color: #7fbfbf\">           </span>         yahpo/MOMF/repl/rbv2_super/<span style=\"color: #008080; text-decoration-color: #008080; font-weight: bold\">1457</span>/repl                 <span style=\"color: #008080; text-decoration-color: #008080; font-weight: bold\">0.005367</span>               <span style=\"color: #7f7f7f; text-decoration-color: #7f7f7f\">                   </span>\n",
       "<span style=\"color: #7fbfbf; text-decoration-color: #7fbfbf\">           </span>         yahpo/MOMF/repl/rbv2_super/<span style=\"color: #008080; text-decoration-color: #008080; font-weight: bold\">6</span>/repl                    <span style=\"color: #008080; text-decoration-color: #008080; font-weight: bold\">0.030871</span>               <span style=\"color: #7f7f7f; text-decoration-color: #7f7f7f\">                   </span>\n",
       "<span style=\"color: #7fbfbf; text-decoration-color: #7fbfbf\">           </span>         yahpo/MOMF/trainsize/iaml_super/<span style=\"color: #008080; text-decoration-color: #008080; font-weight: bold\">1067</span>/trainsize       <span style=\"color: #008080; text-decoration-color: #008080; font-weight: bold\">0.001150</span>               <span style=\"color: #7f7f7f; text-decoration-color: #7f7f7f\">                   </span>\n",
       "<span style=\"color: #7fbfbf; text-decoration-color: #7fbfbf\">           </span>         yahpo/MOMF/trainsize/iaml_super/<span style=\"color: #008080; text-decoration-color: #008080; font-weight: bold\">1489</span>/trainsize       <span style=\"color: #008080; text-decoration-color: #008080; font-weight: bold\">0.001545</span>               <span style=\"color: #7f7f7f; text-decoration-color: #7f7f7f\">                   </span>\n",
       "<span style=\"color: #7fbfbf; text-decoration-color: #7fbfbf\">           </span>         yahpo/MOMF/trainsize/rbv2_super/<span style=\"color: #008080; text-decoration-color: #008080; font-weight: bold\">1053</span>/trainsize       <span style=\"color: #008080; text-decoration-color: #008080; font-weight: bold\">0.006786</span>               <span style=\"color: #7f7f7f; text-decoration-color: #7f7f7f\">                   </span>\n",
       "<span style=\"color: #7fbfbf; text-decoration-color: #7fbfbf\">           </span>         yahpo/MOMF/trainsize/rbv2_super/<span style=\"color: #008080; text-decoration-color: #008080; font-weight: bold\">1457</span>/trainsize       <span style=\"color: #008080; text-decoration-color: #008080; font-weight: bold\">0.000050</span>               <span style=\"color: #7f7f7f; text-decoration-color: #7f7f7f\">                   </span>\n",
       "<span style=\"color: #7fbfbf; text-decoration-color: #7fbfbf\">           </span>         yahpo/MOMF/trainsize/rbv2_super/<span style=\"color: #008080; text-decoration-color: #008080; font-weight: bold\">6</span>/trainsize          <span style=\"color: #008080; text-decoration-color: #008080; font-weight: bold\">0.000118</span>               <span style=\"color: #7f7f7f; text-decoration-color: #7f7f7f\">                   </span>\n",
       "</pre>\n"
      ],
      "text/plain": [
       "\u001b[2;36m[10:33:34]\u001b[0m\u001b[2;36m \u001b[0m\u001b[34mINFO    \u001b[0m Lost following experiments: optimizer_id                                    \u001b]8;id=493133;file:///scratch/hpc-prf-intexml/cbenjamins/repos/CARP-S-Experiments/lib/CARP-S/carps/analysis/run_autorank.py\u001b\\\u001b[2mrun_autorank.py\u001b[0m\u001b]8;;\u001b\\\u001b[2m:\u001b[0m\u001b]8;id=528321;file:///scratch/hpc-prf-intexml/cbenjamins/repos/CARP-S-Experiments/lib/CARP-S/carps/analysis/run_autorank.py#113\u001b\\\u001b[2m113\u001b[0m\u001b]8;;\u001b\\\n",
       "\u001b[2;36m           \u001b[0m         Nevergrad-DE  RandomSearch  \\                                               \u001b[2m                   \u001b[0m\n",
       "\u001b[2;36m           \u001b[0m         problem_id                                                                  \u001b[2m                   \u001b[0m\n",
       "\u001b[2;36m           \u001b[0m         yahpo/MOMF/repl/rbv2_super/\u001b[1;36m1053\u001b[0m/repl                     NaN      \u001b[1;36m0.004430\u001b[0m  \u001b[2m                   \u001b[0m\n",
       "\u001b[2;36m           \u001b[0m         yahpo/MOMF/repl/rbv2_super/\u001b[1;36m1457\u001b[0m/repl                     NaN      \u001b[1;36m0.000087\u001b[0m  \u001b[2m                   \u001b[0m\n",
       "\u001b[2;36m           \u001b[0m         yahpo/MOMF/repl/rbv2_super/\u001b[1;36m6\u001b[0m/repl                        NaN      \u001b[1;36m0.000169\u001b[0m  \u001b[2m                   \u001b[0m\n",
       "\u001b[2;36m           \u001b[0m         yahpo/MOMF/trainsize/iaml_super/\u001b[1;36m1067\u001b[0m/trainsize           NaN      \u001b[1;36m0.001271\u001b[0m  \u001b[2m                   \u001b[0m\n",
       "\u001b[2;36m           \u001b[0m         yahpo/MOMF/trainsize/iaml_super/\u001b[1;36m1489\u001b[0m/trainsize           NaN      \u001b[1;36m0.001388\u001b[0m  \u001b[2m                   \u001b[0m\n",
       "\u001b[2;36m           \u001b[0m         yahpo/MOMF/trainsize/rbv2_super/\u001b[1;36m1053\u001b[0m/trainsize           NaN      \u001b[1;36m0.005711\u001b[0m  \u001b[2m                   \u001b[0m\n",
       "\u001b[2;36m           \u001b[0m         yahpo/MOMF/trainsize/rbv2_super/\u001b[1;36m1457\u001b[0m/trainsize           NaN      \u001b[1;36m0.000181\u001b[0m  \u001b[2m                   \u001b[0m\n",
       "\u001b[2;36m           \u001b[0m         yahpo/MOMF/trainsize/rbv2_super/\u001b[1;36m6\u001b[0m/trainsize              NaN      \u001b[1;36m0.000202\u001b[0m  \u001b[2m                   \u001b[0m\n",
       "\u001b[2;36m           \u001b[0m                                                                                     \u001b[2m                   \u001b[0m\n",
       "\u001b[2;36m           \u001b[0m         optimizer_id                                    SMAC3-MOMF-GP               \u001b[2m                   \u001b[0m\n",
       "\u001b[2;36m           \u001b[0m         problem_id                                                                  \u001b[2m                   \u001b[0m\n",
       "\u001b[2;36m           \u001b[0m         yahpo/MOMF/repl/rbv2_super/\u001b[1;36m1053\u001b[0m/repl                 \u001b[1;36m0.103002\u001b[0m               \u001b[2m                   \u001b[0m\n",
       "\u001b[2;36m           \u001b[0m         yahpo/MOMF/repl/rbv2_super/\u001b[1;36m1457\u001b[0m/repl                 \u001b[1;36m0.005367\u001b[0m               \u001b[2m                   \u001b[0m\n",
       "\u001b[2;36m           \u001b[0m         yahpo/MOMF/repl/rbv2_super/\u001b[1;36m6\u001b[0m/repl                    \u001b[1;36m0.030871\u001b[0m               \u001b[2m                   \u001b[0m\n",
       "\u001b[2;36m           \u001b[0m         yahpo/MOMF/trainsize/iaml_super/\u001b[1;36m1067\u001b[0m/trainsize       \u001b[1;36m0.001150\u001b[0m               \u001b[2m                   \u001b[0m\n",
       "\u001b[2;36m           \u001b[0m         yahpo/MOMF/trainsize/iaml_super/\u001b[1;36m1489\u001b[0m/trainsize       \u001b[1;36m0.001545\u001b[0m               \u001b[2m                   \u001b[0m\n",
       "\u001b[2;36m           \u001b[0m         yahpo/MOMF/trainsize/rbv2_super/\u001b[1;36m1053\u001b[0m/trainsize       \u001b[1;36m0.006786\u001b[0m               \u001b[2m                   \u001b[0m\n",
       "\u001b[2;36m           \u001b[0m         yahpo/MOMF/trainsize/rbv2_super/\u001b[1;36m1457\u001b[0m/trainsize       \u001b[1;36m0.000050\u001b[0m               \u001b[2m                   \u001b[0m\n",
       "\u001b[2;36m           \u001b[0m         yahpo/MOMF/trainsize/rbv2_super/\u001b[1;36m6\u001b[0m/trainsize          \u001b[1;36m0.000118\u001b[0m               \u001b[2m                   \u001b[0m\n"
      ]
     },
     "metadata": {},
     "output_type": "display_data"
    },
    {
     "data": {
      "text/html": [
       "<pre style=\"white-space:pre;overflow-x:auto;line-height:normal;font-family:Menlo,'DejaVu Sans Mono',consolas,'Courier New',monospace\"><span style=\"color: #7fbfbf; text-decoration-color: #7fbfbf\">           </span><span style=\"color: #000080; text-decoration-color: #000080\">INFO    </span> Lost following experiments: Empty DataFrame                                 <a href=\"file:///scratch/hpc-prf-intexml/cbenjamins/repos/CARP-S-Experiments/lib/CARP-S/carps/analysis/run_autorank.py\" target=\"_blank\"><span style=\"color: #7f7f7f; text-decoration-color: #7f7f7f\">run_autorank.py</span></a><span style=\"color: #7f7f7f; text-decoration-color: #7f7f7f\">:</span><a href=\"file:///scratch/hpc-prf-intexml/cbenjamins/repos/CARP-S-Experiments/lib/CARP-S/carps/analysis/run_autorank.py#113\" target=\"_blank\"><span style=\"color: #7f7f7f; text-decoration-color: #7f7f7f\">113</span></a>\n",
       "<span style=\"color: #7fbfbf; text-decoration-color: #7fbfbf\">           </span>         Columns: <span style=\"font-weight: bold\">[</span>Nevergrad-DE, RandomSearch, SMAC3-MOMF-GP<span style=\"font-weight: bold\">]</span>                        <span style=\"color: #7f7f7f; text-decoration-color: #7f7f7f\">                   </span>\n",
       "<span style=\"color: #7fbfbf; text-decoration-color: #7fbfbf\">           </span>         Index: <span style=\"font-weight: bold\">[]</span>                                                                   <span style=\"color: #7f7f7f; text-decoration-color: #7f7f7f\">                   </span>\n",
       "</pre>\n"
      ],
      "text/plain": [
       "\u001b[2;36m          \u001b[0m\u001b[2;36m \u001b[0m\u001b[34mINFO    \u001b[0m Lost following experiments: Empty DataFrame                                 \u001b]8;id=702522;file:///scratch/hpc-prf-intexml/cbenjamins/repos/CARP-S-Experiments/lib/CARP-S/carps/analysis/run_autorank.py\u001b\\\u001b[2mrun_autorank.py\u001b[0m\u001b]8;;\u001b\\\u001b[2m:\u001b[0m\u001b]8;id=723403;file:///scratch/hpc-prf-intexml/cbenjamins/repos/CARP-S-Experiments/lib/CARP-S/carps/analysis/run_autorank.py#113\u001b\\\u001b[2m113\u001b[0m\u001b]8;;\u001b\\\n",
       "\u001b[2;36m           \u001b[0m         Columns: \u001b[1m[\u001b[0mNevergrad-DE, RandomSearch, SMAC3-MOMF-GP\u001b[1m]\u001b[0m                        \u001b[2m                   \u001b[0m\n",
       "\u001b[2;36m           \u001b[0m         Index: \u001b[1m[\u001b[0m\u001b[1m]\u001b[0m                                                                   \u001b[2m                   \u001b[0m\n"
      ]
     },
     "metadata": {},
     "output_type": "display_data"
    }
   ],
   "source": [
    "%%capture --no-display\n",
    "\n",
    "from autorank._util import get_sorted_rank_groups\n",
    "from carps.analysis.run_autorank import calc_critical_difference\n",
    "\n",
    "perf_col: str = \"trial_value__cost_inc_norm\"\n",
    "\n",
    "ranks_per_set = []\n",
    "for set_id, gdf in df.groupby(\"set\"):\n",
    "    print(set_id)\n",
    "    identifier = f\"{scenario}_{set_id}\"\n",
    "    result = calc_critical_difference(gdf, identifier=identifier, figsize=(8, 3), perf_col=perf_col, plot_diagram=False)\n",
    "    sorted_ranks, names, groups = get_sorted_rank_groups(result, reverse=False)\n",
    "    sorted_ranks[\"set_id\"] = set_id\n",
    "    ranks_per_set.append(sorted_ranks)\n",
    "    print(sorted_ranks, names, groups)"
   ]
  },
  {
   "cell_type": "markdown",
   "metadata": {},
   "source": [
    "## Convert into DataFrame/table\n",
    "And save to file"
   ]
  },
  {
   "cell_type": "code",
   "execution_count": 6,
   "metadata": {},
   "outputs": [
    {
     "data": {
      "text/html": [
       "<div>\n",
       "<style scoped>\n",
       "    .dataframe tbody tr th:only-of-type {\n",
       "        vertical-align: middle;\n",
       "    }\n",
       "\n",
       "    .dataframe tbody tr th {\n",
       "        vertical-align: top;\n",
       "    }\n",
       "\n",
       "    .dataframe thead th {\n",
       "        text-align: right;\n",
       "    }\n",
       "</style>\n",
       "<table border=\"1\" class=\"dataframe\">\n",
       "  <thead>\n",
       "    <tr style=\"text-align: right;\">\n",
       "      <th></th>\n",
       "      <th>set_id</th>\n",
       "      <th>SMAC3-MOMF-GP</th>\n",
       "      <th>RandomSearch</th>\n",
       "      <th>Nevergrad-DE</th>\n",
       "    </tr>\n",
       "  </thead>\n",
       "  <tbody>\n",
       "    <tr>\n",
       "      <th>meanrank</th>\n",
       "      <td>dev</td>\n",
       "      <td>1.555556</td>\n",
       "      <td>1.777778</td>\n",
       "      <td>2.666667</td>\n",
       "    </tr>\n",
       "    <tr>\n",
       "      <th>meanrank</th>\n",
       "      <td>full</td>\n",
       "      <td>1.629630</td>\n",
       "      <td>1.777778</td>\n",
       "      <td>2.592593</td>\n",
       "    </tr>\n",
       "    <tr>\n",
       "      <th>meanrank</th>\n",
       "      <td>test</td>\n",
       "      <td>1.444444</td>\n",
       "      <td>2.000000</td>\n",
       "      <td>2.555556</td>\n",
       "    </tr>\n",
       "  </tbody>\n",
       "</table>\n",
       "</div>"
      ],
      "text/plain": [
       "         set_id  SMAC3-MOMF-GP  RandomSearch  Nevergrad-DE\n",
       "meanrank    dev       1.555556      1.777778      2.666667\n",
       "meanrank   full       1.629630      1.777778      2.592593\n",
       "meanrank   test       1.444444      2.000000      2.555556"
      ]
     },
     "execution_count": 6,
     "metadata": {},
     "output_type": "execute_result"
    }
   ],
   "source": [
    "df_ranks_per_set = pd.DataFrame(ranks_per_set)\n",
    "df_t = pd.DataFrame([{r[\"set_id\"]: list(r.index[:3])} for r in ranks_per_set])\n",
    "new_cols = [\"set_id\"] + [c for c in df_ranks_per_set.columns if c != \"set_id\"]\n",
    "df_ranks_per_set = df_ranks_per_set[new_cols]\n",
    "df_ranks_per_set.to_csv(f\"ranks_per_set_{scenario}.csv\", index=False)\n",
    "df_ranks_per_set"
   ]
  },
  {
   "cell_type": "markdown",
   "metadata": {},
   "source": [
    "## Generate latex tables"
   ]
  },
  {
   "cell_type": "code",
   "execution_count": 7,
   "metadata": {},
   "outputs": [
    {
     "name": "stdout",
     "output_type": "stream",
     "text": [
      "\n",
      "\\begin{table}[h]\n",
      "    \\caption{Mean Ranking for Scenario blackbox}\n",
      "    \\label{tab:ranking_validation_blackbox}\n",
      "    \\centering\n",
      "    %\\resizebox{0.4\\textwidth}{!}{\n",
      "    \\begin{tabular}{llll}\n",
      "\\toprule\n",
      " & SMAC3-BlackBoxFacade & RandomSearch & Nevergrad-CMA-ES \\\\\n",
      "set &  &  &  \\\\\n",
      "\\midrule\n",
      "full & 1.37 (1) & 2.19 (2) & 2.43 (3) \\\\\n",
      "dev & 1.23 (1) & 2.08 (2) & 2.68 (3) \\\\\n",
      "test & 1.18 (1) & 2.12 (2) & 2.70 (3) \\\\\n",
      "\\bottomrule\n",
      "\\end{tabular}\n",
      "    %}\n",
      "\\end{table}\n",
      "\n",
      "\n",
      "\\begin{table}[h]\n",
      "    \\caption{Mean Ranking for Scenario MOMF}\n",
      "    \\label{tab:ranking_validation_MOMF}\n",
      "    \\centering\n",
      "    %\\resizebox{0.4\\textwidth}{!}{\n",
      "    \\begin{tabular}{llll}\n",
      "\\toprule\n",
      " & SMAC3-MOMF-GP & RandomSearch & Nevergrad-DE \\\\\n",
      "set &  &  &  \\\\\n",
      "\\midrule\n",
      "full & 1.63 (1) & 1.78 (2) & 2.59 (3) \\\\\n",
      "dev & 1.56 (1) & 1.78 (2) & 2.67 (3) \\\\\n",
      "test & 1.44 (1) & 2.00 (2) & 2.56 (3) \\\\\n",
      "\\bottomrule\n",
      "\\end{tabular}\n",
      "    %}\n",
      "\\end{table}\n",
      "\n",
      "\n",
      "\\begin{table}[h]\n",
      "    \\caption{Mean Ranking for Scenario multifidelity}\n",
      "    \\label{tab:ranking_validation_multifidelity}\n",
      "    \\centering\n",
      "    %\\resizebox{0.4\\textwidth}{!}{\n",
      "    \\begin{tabular}{llll}\n",
      "\\toprule\n",
      " & SMAC3-MultiFidelityFacade & DEHB & SMAC3-Hyperband \\\\\n",
      "set &  &  &  \\\\\n",
      "\\midrule\n",
      "full & 1.29 (1) & 2.16 (2) & 2.55 (3) \\\\\n",
      "dev & 1.35 (1) & 2.23 (2) & 2.42 (3) \\\\\n",
      "test & 1.57 (1) & 2.15 (2) & 2.27 (3) \\\\\n",
      "\\bottomrule\n",
      "\\end{tabular}\n",
      "    %}\n",
      "\\end{table}\n",
      "\n",
      "\n",
      "\\begin{table}[h]\n",
      "    \\caption{Mean Ranking for Scenario multiobjective}\n",
      "    \\label{tab:ranking_validation_multiobjective}\n",
      "    \\centering\n",
      "    %\\resizebox{0.4\\textwidth}{!}{\n",
      "    \\begin{tabular}{llll}\n",
      "\\toprule\n",
      " & Nevergrad-DE & Optuna-MO & RandomSearch \\\\\n",
      "set &  &  &  \\\\\n",
      "\\midrule\n",
      "full & 1.67 (1) & 2.01 (2) & 2.32 (3) \\\\\n",
      "dev & 1.50 (1) & 1.70 (2) & 2.80 (3) \\\\\n",
      "test & 1.80 (1) & 2.00 (2) & 2.20 (3) \\\\\n",
      "\\bottomrule\n",
      "\\end{tabular}\n",
      "    %}\n",
      "\\end{table}\n",
      "\n"
     ]
    }
   ],
   "source": [
    "from pathlib import Path\n",
    "\n",
    "import numpy as np\n",
    "import pandas as pd\n",
    "\n",
    "fns = [\"ranks_per_set_blackbox.csv\", \"ranks_per_set_MOMF.csv\", \"ranks_per_set_multifidelity.csv\", \"ranks_per_set_multiobjective.csv\"]\n",
    "data = []\n",
    "decimal_places = 2\n",
    "sorter = [\"full\", \"dev\", \"test\"]\n",
    "\n",
    "final_str = r\"\"\"\n",
    "\\begin{{table}}[h]\n",
    "    \\caption{{{caption}}}\n",
    "    \\label{{{label}}}\n",
    "    \\centering\n",
    "    %\\resizebox{{0.4\\textwidth}}{{!}}{{\n",
    "    {table_string}\n",
    "    %}}\n",
    "\\end{{table}}\n",
    "\"\"\"\n",
    "\n",
    "float_format = lambda x: (\"{:0.\" + str(decimal_places) + \"f}\").format(x) if not np.isnan(x) else \"-\"\n",
    "for fn in fns:\n",
    "    if not Path(fn).is_file():\n",
    "        continue\n",
    "    df = pd.read_csv(fn)\n",
    "\n",
    "    df = df.sort_values(by=\"set_id\", key=lambda column: column.map(lambda e: sorter.index(e)))\n",
    "    df = df.set_index(\"set_id\")\n",
    "    df = df.map(lambda x: f\"{x:.2f}\" if not isinstance(x, str) else x)\n",
    "    ranks = df.T.rank().T\n",
    "    for _i, ((_idx, row), (_idx2, row2)) in enumerate(zip(df.iterrows(), ranks.iterrows(), strict=False)):\n",
    "        for j in range(len(row)):\n",
    "            row.iloc[j] = row.iloc[j] + f\" ({int(row2.iloc[j])})\"\n",
    "    scenario = fn.split(\"_\")[-1].split(\".\")[0]\n",
    "\n",
    "    df.index.name = \"set\"\n",
    "\n",
    "    table_str = df.to_latex(float_format=float_format, na_rep=\"-\").strip()\n",
    "    caption = f\"Mean Ranking for Scenario {scenario}\"\n",
    "    label = f\"tab:ranking_validation_{scenario}\"\n",
    "    table_str = final_str.format(table_string=table_str, label=label, caption=caption)\n",
    "\n",
    "    with open(fn + \".tex\", \"w\") as file:\n",
    "        file.write(table_str)\n",
    "    print(table_str)"
   ]
  }
 ],
 "metadata": {
  "kernelspec": {
   "display_name": "carpsexp",
   "language": "python",
   "name": "python3"
  },
  "language_info": {
   "codemirror_mode": {
    "name": "ipython",
    "version": 3
   },
   "file_extension": ".py",
   "mimetype": "text/x-python",
   "name": "python",
   "nbconvert_exporter": "python",
   "pygments_lexer": "ipython3",
   "version": "3.10.14"
  }
 },
 "nbformat": 4,
 "nbformat_minor": 2
}
