{
 "cells": [
  {
   "cell_type": "code",
   "execution_count": 1,
   "metadata": {},
   "outputs": [
    {
     "name": "stdout",
     "output_type": "stream",
     "text": [
      "loading BBfull\n",
      "loading BBsubset\n"
     ]
    },
    {
     "data": {
      "text/html": [
       "<pre style=\"white-space:pre;overflow-x:auto;line-height:normal;font-family:Menlo,'DejaVu Sans Mono',consolas,'Courier New',monospace\"><span style=\"color: #7fbfbf; text-decoration-color: #7fbfbf\">[09:04:51] </span><span style=\"color: #000080; text-decoration-color: #000080\">INFO    </span> Start normalization<span style=\"color: #808000; text-decoration-color: #808000\">...</span>                                                       <a href=\"file:///scratch/hpc-prf-intexml/cbenjamins/repos/CARP-S-Experiments/lib/CARP-S/carps/analysis/gather_data.py\" target=\"_blank\"><span style=\"color: #7f7f7f; text-decoration-color: #7f7f7f\">gather_data.py</span></a><span style=\"color: #7f7f7f; text-decoration-color: #7f7f7f\">:</span><a href=\"file:///scratch/hpc-prf-intexml/cbenjamins/repos/CARP-S-Experiments/lib/CARP-S/carps/analysis/gather_data.py#359\" target=\"_blank\"><span style=\"color: #7f7f7f; text-decoration-color: #7f7f7f\">359</span></a>\n",
       "</pre>\n"
      ],
      "text/plain": [
       "\u001b[2;36m[09:04:51]\u001b[0m\u001b[2;36m \u001b[0m\u001b[34mINFO    \u001b[0m Start normalization\u001b[33m...\u001b[0m                                                       \u001b]8;id=445268;file:///scratch/hpc-prf-intexml/cbenjamins/repos/CARP-S-Experiments/lib/CARP-S/carps/analysis/gather_data.py\u001b\\\u001b[2mgather_data.py\u001b[0m\u001b]8;;\u001b\\\u001b[2m:\u001b[0m\u001b]8;id=373107;file:///scratch/hpc-prf-intexml/cbenjamins/repos/CARP-S-Experiments/lib/CARP-S/carps/analysis/gather_data.py#359\u001b\\\u001b[2m359\u001b[0m\u001b]8;;\u001b\\\n"
      ]
     },
     "metadata": {},
     "output_type": "display_data"
    },
    {
     "data": {
      "text/html": [
       "<pre style=\"white-space:pre;overflow-x:auto;line-height:normal;font-family:Menlo,'DejaVu Sans Mono',consolas,'Courier New',monospace\"><span style=\"color: #7fbfbf; text-decoration-color: #7fbfbf\">           </span><span style=\"color: #000080; text-decoration-color: #000080\">INFO    </span> Normalize n_trials<span style=\"color: #808000; text-decoration-color: #808000\">...</span>                                                        <a href=\"file:///scratch/hpc-prf-intexml/cbenjamins/repos/CARP-S-Experiments/lib/CARP-S/carps/analysis/gather_data.py\" target=\"_blank\"><span style=\"color: #7f7f7f; text-decoration-color: #7f7f7f\">gather_data.py</span></a><span style=\"color: #7f7f7f; text-decoration-color: #7f7f7f\">:</span><a href=\"file:///scratch/hpc-prf-intexml/cbenjamins/repos/CARP-S-Experiments/lib/CARP-S/carps/analysis/gather_data.py#360\" target=\"_blank\"><span style=\"color: #7f7f7f; text-decoration-color: #7f7f7f\">360</span></a>\n",
       "</pre>\n"
      ],
      "text/plain": [
       "\u001b[2;36m          \u001b[0m\u001b[2;36m \u001b[0m\u001b[34mINFO    \u001b[0m Normalize n_trials\u001b[33m...\u001b[0m                                                        \u001b]8;id=567570;file:///scratch/hpc-prf-intexml/cbenjamins/repos/CARP-S-Experiments/lib/CARP-S/carps/analysis/gather_data.py\u001b\\\u001b[2mgather_data.py\u001b[0m\u001b]8;;\u001b\\\u001b[2m:\u001b[0m\u001b]8;id=148316;file:///scratch/hpc-prf-intexml/cbenjamins/repos/CARP-S-Experiments/lib/CARP-S/carps/analysis/gather_data.py#360\u001b\\\u001b[2m360\u001b[0m\u001b]8;;\u001b\\\n"
      ]
     },
     "metadata": {},
     "output_type": "display_data"
    },
    {
     "data": {
      "text/html": [
       "<pre style=\"white-space:pre;overflow-x:auto;line-height:normal;font-family:Menlo,'DejaVu Sans Mono',consolas,'Courier New',monospace\"><span style=\"color: #7fbfbf; text-decoration-color: #7fbfbf\">[09:05:17] </span><span style=\"color: #000080; text-decoration-color: #000080\">INFO    </span> Normalize cost<span style=\"color: #808000; text-decoration-color: #808000\">...</span>                                                            <a href=\"file:///scratch/hpc-prf-intexml/cbenjamins/repos/CARP-S-Experiments/lib/CARP-S/carps/analysis/gather_data.py\" target=\"_blank\"><span style=\"color: #7f7f7f; text-decoration-color: #7f7f7f\">gather_data.py</span></a><span style=\"color: #7f7f7f; text-decoration-color: #7f7f7f\">:</span><a href=\"file:///scratch/hpc-prf-intexml/cbenjamins/repos/CARP-S-Experiments/lib/CARP-S/carps/analysis/gather_data.py#362\" target=\"_blank\"><span style=\"color: #7f7f7f; text-decoration-color: #7f7f7f\">362</span></a>\n",
       "</pre>\n"
      ],
      "text/plain": [
       "\u001b[2;36m[09:05:17]\u001b[0m\u001b[2;36m \u001b[0m\u001b[34mINFO    \u001b[0m Normalize cost\u001b[33m...\u001b[0m                                                            \u001b]8;id=503720;file:///scratch/hpc-prf-intexml/cbenjamins/repos/CARP-S-Experiments/lib/CARP-S/carps/analysis/gather_data.py\u001b\\\u001b[2mgather_data.py\u001b[0m\u001b]8;;\u001b\\\u001b[2m:\u001b[0m\u001b]8;id=527508;file:///scratch/hpc-prf-intexml/cbenjamins/repos/CARP-S-Experiments/lib/CARP-S/carps/analysis/gather_data.py#362\u001b\\\u001b[2m362\u001b[0m\u001b]8;;\u001b\\\n"
      ]
     },
     "metadata": {},
     "output_type": "display_data"
    },
    {
     "data": {
      "text/html": [
       "<pre style=\"white-space:pre;overflow-x:auto;line-height:normal;font-family:Menlo,'DejaVu Sans Mono',consolas,'Courier New',monospace\"><span style=\"color: #7fbfbf; text-decoration-color: #7fbfbf\">[09:05:43] </span><span style=\"color: #000080; text-decoration-color: #000080\">INFO    </span> Calc normalized incumbent cost<span style=\"color: #808000; text-decoration-color: #808000\">...</span>                                            <a href=\"file:///scratch/hpc-prf-intexml/cbenjamins/repos/CARP-S-Experiments/lib/CARP-S/carps/analysis/gather_data.py\" target=\"_blank\"><span style=\"color: #7f7f7f; text-decoration-color: #7f7f7f\">gather_data.py</span></a><span style=\"color: #7f7f7f; text-decoration-color: #7f7f7f\">:</span><a href=\"file:///scratch/hpc-prf-intexml/cbenjamins/repos/CARP-S-Experiments/lib/CARP-S/carps/analysis/gather_data.py#371\" target=\"_blank\"><span style=\"color: #7f7f7f; text-decoration-color: #7f7f7f\">371</span></a>\n",
       "</pre>\n"
      ],
      "text/plain": [
       "\u001b[2;36m[09:05:43]\u001b[0m\u001b[2;36m \u001b[0m\u001b[34mINFO    \u001b[0m Calc normalized incumbent cost\u001b[33m...\u001b[0m                                            \u001b]8;id=898877;file:///scratch/hpc-prf-intexml/cbenjamins/repos/CARP-S-Experiments/lib/CARP-S/carps/analysis/gather_data.py\u001b\\\u001b[2mgather_data.py\u001b[0m\u001b]8;;\u001b\\\u001b[2m:\u001b[0m\u001b]8;id=194490;file:///scratch/hpc-prf-intexml/cbenjamins/repos/CARP-S-Experiments/lib/CARP-S/carps/analysis/gather_data.py#371\u001b\\\u001b[2m371\u001b[0m\u001b]8;;\u001b\\\n"
      ]
     },
     "metadata": {},
     "output_type": "display_data"
    },
    {
     "data": {
      "text/html": [
       "<pre style=\"white-space:pre;overflow-x:auto;line-height:normal;font-family:Menlo,'DejaVu Sans Mono',consolas,'Courier New',monospace\"><span style=\"color: #7fbfbf; text-decoration-color: #7fbfbf\">[09:06:17] </span><span style=\"color: #000080; text-decoration-color: #000080\">INFO    </span> Normalize time<span style=\"color: #808000; text-decoration-color: #808000\">...</span>                                                            <a href=\"file:///scratch/hpc-prf-intexml/cbenjamins/repos/CARP-S-Experiments/lib/CARP-S/carps/analysis/gather_data.py\" target=\"_blank\"><span style=\"color: #7f7f7f; text-decoration-color: #7f7f7f\">gather_data.py</span></a><span style=\"color: #7f7f7f; text-decoration-color: #7f7f7f\">:</span><a href=\"file:///scratch/hpc-prf-intexml/cbenjamins/repos/CARP-S-Experiments/lib/CARP-S/carps/analysis/gather_data.py#377\" target=\"_blank\"><span style=\"color: #7f7f7f; text-decoration-color: #7f7f7f\">377</span></a>\n",
       "</pre>\n"
      ],
      "text/plain": [
       "\u001b[2;36m[09:06:17]\u001b[0m\u001b[2;36m \u001b[0m\u001b[34mINFO    \u001b[0m Normalize time\u001b[33m...\u001b[0m                                                            \u001b]8;id=792047;file:///scratch/hpc-prf-intexml/cbenjamins/repos/CARP-S-Experiments/lib/CARP-S/carps/analysis/gather_data.py\u001b\\\u001b[2mgather_data.py\u001b[0m\u001b]8;;\u001b\\\u001b[2m:\u001b[0m\u001b]8;id=800861;file:///scratch/hpc-prf-intexml/cbenjamins/repos/CARP-S-Experiments/lib/CARP-S/carps/analysis/gather_data.py#377\u001b\\\u001b[2m377\u001b[0m\u001b]8;;\u001b\\\n"
      ]
     },
     "metadata": {},
     "output_type": "display_data"
    },
    {
     "data": {
      "text/html": [
       "<pre style=\"white-space:pre;overflow-x:auto;line-height:normal;font-family:Menlo,'DejaVu Sans Mono',consolas,'Courier New',monospace\"><span style=\"color: #7fbfbf; text-decoration-color: #7fbfbf\">[09:07:59] </span><span style=\"color: #000080; text-decoration-color: #000080\">INFO    </span> Done.                                                                        <a href=\"file:///scratch/hpc-prf-intexml/cbenjamins/repos/CARP-S-Experiments/lib/CARP-S/carps/analysis/gather_data.py\" target=\"_blank\"><span style=\"color: #7f7f7f; text-decoration-color: #7f7f7f\">gather_data.py</span></a><span style=\"color: #7f7f7f; text-decoration-color: #7f7f7f\">:</span><a href=\"file:///scratch/hpc-prf-intexml/cbenjamins/repos/CARP-S-Experiments/lib/CARP-S/carps/analysis/gather_data.py#380\" target=\"_blank\"><span style=\"color: #7f7f7f; text-decoration-color: #7f7f7f\">380</span></a>\n",
       "</pre>\n"
      ],
      "text/plain": [
       "\u001b[2;36m[09:07:59]\u001b[0m\u001b[2;36m \u001b[0m\u001b[34mINFO    \u001b[0m Done.                                                                        \u001b]8;id=403331;file:///scratch/hpc-prf-intexml/cbenjamins/repos/CARP-S-Experiments/lib/CARP-S/carps/analysis/gather_data.py\u001b\\\u001b[2mgather_data.py\u001b[0m\u001b]8;;\u001b\\\u001b[2m:\u001b[0m\u001b]8;id=368530;file:///scratch/hpc-prf-intexml/cbenjamins/repos/CARP-S-Experiments/lib/CARP-S/carps/analysis/gather_data.py#380\u001b\\\u001b[2m380\u001b[0m\u001b]8;;\u001b\\\n"
      ]
     },
     "metadata": {},
     "output_type": "display_data"
    }
   ],
   "source": [
    "from carps.analysis.run_autorank import calc_critical_difference, custom_latex_table, get_df_crit\n",
    "from carps.analysis.utils import savefig, get_color_palette, filter_only_final_performance\n",
    "from carps.analysis.gather_data import normalize_logs, get_interpolated_performance_df, load_logs, process_logs, load_set\n",
    "import pandas as pd\n",
    "\n",
    "\n",
    "\n",
    "paths = {\n",
    "    \"BBfull\": {\n",
    "        \"full\": [\n",
    "        \"../runs/SMAC3-BlackBoxFacade\",\n",
    "        \"../runs/RandomSearch\",\n",
    "        \"../runs/Nevergrad-CMA-ES\",\n",
    "    ]},\n",
    "    \"MFfull\": {\n",
    "        \"full\": [\n",
    "        \"../runs/SMAC3-Hyperband\",\n",
    "        \"../runs/DEHB\",\n",
    "        \"../runs/SMAC3-MultiFidelityFacade\",\n",
    "    ]},\n",
    "    \"MOfull\": {\n",
    "        \"full\": [\n",
    "        \"../runs_MO/Optuna-MO\",\n",
    "        \"../runs_MO/RandomSearch\",\n",
    "        \"../runs_MO/Nevergrad-DE\",\n",
    "    ]},\n",
    "    \"MOMFfull\": {\n",
    "        \"full\": [\n",
    "        \"../runs_MOMF/SMAC3-MOMF-GP\",\n",
    "        \"../runs_MOMF/RandomSearch\",\n",
    "        \"../runs_MOMF/Nevergrad-DE\",\n",
    "    ]},\n",
    "    \"BBsubset\": {\n",
    "        \"dev\": [\"../runs_subset_BB/dev\"],\n",
    "        \"test\": [\"../runs_subset_BB/test\"],\n",
    "    },\n",
    "    \"MFsubset\": {\n",
    "        \"dev\": [\"../runs_subset_MF/dev\"],\n",
    "        \"test\": [\"../runs_subset_MF/test\"],\n",
    "    },\n",
    "    \"MOsubset\": {\n",
    "        \"dev\": [\"../runs_subset_MO/dev\"],\n",
    "        \"test\": [\"../runs_subset_MO/test\"],\n",
    "    },\n",
    "    \"MOMFsubset\": {\n",
    "        \"dev\": [\"../runs_subset_MOMF/dev\"],\n",
    "        \"test\": [\"../runs_subset_MOMF/test\"],\n",
    "    },\n",
    "}\n",
    "subsets = [\"BBfull\", \"BBsubset\"]\n",
    "optimizer_ids = [\"RandomSearch\", \"SMAC3-BlackBoxFacade\", \"Nevergrad-CMA-ES\"]\n",
    "scenario = \"blackbox\"\n",
    "# subsets = [\"MOfull\", \"MOsubset\"]\n",
    "# scenario = \"multiobjective\"\n",
    "# optimizer_ids = [\"RandomSearch\", \"Optuna-MO\", \"Nevergrad-DE\"]\n",
    "# subsets = [\"MFfull\", \"MFsubset\"]\n",
    "# scenario = \"multifidelity\"\n",
    "# optimizer_ids = [\"SMAC3-Hyperband\", \"SMAC3-MultiFidelityFacade\", \"DEHB\"]\n",
    "# subsets = [\"MOMFfull\", \"MOMFsubset\"]\n",
    "# scenario = \"MOMF\"\n",
    "# optimizer_ids = [\"RandomSearch\", \"SMAC3-MOMF-GP\", \"Nevergrad-DE\"]\n",
    "\n",
    "\n",
    "D = []\n",
    "for subset in subsets:\n",
    "    print(\"loading\", subset)\n",
    "    loaded = [load_set(paths=ps, set_id=set_id) for set_id, ps in paths[subset].items()]\n",
    "    df = pd.concat([d for d, _ in loaded]).reset_index(drop=True)\n",
    "    df = df[df[\"optimizer_id\"].isin(optimizer_ids)]\n",
    "    D.append(df)\n",
    "df = pd.concat(D).reset_index(drop=True)\n",
    "df = normalize_logs(df)\n",
    "del D"
   ]
  },
  {
   "cell_type": "code",
   "execution_count": 2,
   "metadata": {},
   "outputs": [
    {
     "data": {
      "text/plain": [
       "set\n",
       "dev     [Nevergrad-CMA-ES, SMAC3-BlackBoxFacade, Rando...\n",
       "full    [SMAC3-BlackBoxFacade, RandomSearch, Nevergrad...\n",
       "test    [Nevergrad-CMA-ES, SMAC3-BlackBoxFacade, Rando...\n",
       "Name: optimizer_id, dtype: object"
      ]
     },
     "execution_count": 2,
     "metadata": {},
     "output_type": "execute_result"
    }
   ],
   "source": [
    "df.groupby(\"set\")[\"optimizer_id\"].unique()"
   ]
  },
  {
   "cell_type": "code",
   "execution_count": 5,
   "metadata": {},
   "outputs": [
    {
     "name": "stdout",
     "output_type": "stream",
     "text": [
      "dev\n"
     ]
    },
    {
     "data": {
      "text/html": [
       "<pre style=\"white-space:pre;overflow-x:auto;line-height:normal;font-family:Menlo,'DejaVu Sans Mono',consolas,'Courier New',monospace\"><span style=\"color: #7fbfbf; text-decoration-color: #7fbfbf\">[10:14:31] </span><span style=\"color: #000080; text-decoration-color: #000080\">INFO    </span> Lost following experiments: Empty DataFrame                                 <a href=\"file:///scratch/hpc-prf-intexml/cbenjamins/repos/CARP-S-Experiments/lib/CARP-S/carps/analysis/run_autorank.py\" target=\"_blank\"><span style=\"color: #7f7f7f; text-decoration-color: #7f7f7f\">run_autorank.py</span></a><span style=\"color: #7f7f7f; text-decoration-color: #7f7f7f\">:</span><a href=\"file:///scratch/hpc-prf-intexml/cbenjamins/repos/CARP-S-Experiments/lib/CARP-S/carps/analysis/run_autorank.py#113\" target=\"_blank\"><span style=\"color: #7f7f7f; text-decoration-color: #7f7f7f\">113</span></a>\n",
       "<span style=\"color: #7fbfbf; text-decoration-color: #7fbfbf\">           </span>         Columns: <span style=\"font-weight: bold\">[</span>Nevergrad-CMA-ES, RandomSearch, SMAC3-BlackBoxFacade<span style=\"font-weight: bold\">]</span>             <span style=\"color: #7f7f7f; text-decoration-color: #7f7f7f\">                   </span>\n",
       "<span style=\"color: #7fbfbf; text-decoration-color: #7fbfbf\">           </span>         Index: <span style=\"font-weight: bold\">[]</span>                                                                   <span style=\"color: #7f7f7f; text-decoration-color: #7f7f7f\">                   </span>\n",
       "</pre>\n"
      ],
      "text/plain": [
       "\u001b[2;36m[10:14:31]\u001b[0m\u001b[2;36m \u001b[0m\u001b[34mINFO    \u001b[0m Lost following experiments: Empty DataFrame                                 \u001b]8;id=797998;file:///scratch/hpc-prf-intexml/cbenjamins/repos/CARP-S-Experiments/lib/CARP-S/carps/analysis/run_autorank.py\u001b\\\u001b[2mrun_autorank.py\u001b[0m\u001b]8;;\u001b\\\u001b[2m:\u001b[0m\u001b]8;id=907937;file:///scratch/hpc-prf-intexml/cbenjamins/repos/CARP-S-Experiments/lib/CARP-S/carps/analysis/run_autorank.py#113\u001b\\\u001b[2m113\u001b[0m\u001b]8;;\u001b\\\n",
       "\u001b[2;36m           \u001b[0m         Columns: \u001b[1m[\u001b[0mNevergrad-CMA-ES, RandomSearch, SMAC3-BlackBoxFacade\u001b[1m]\u001b[0m             \u001b[2m                   \u001b[0m\n",
       "\u001b[2;36m           \u001b[0m         Index: \u001b[1m[\u001b[0m\u001b[1m]\u001b[0m                                                                   \u001b[2m                   \u001b[0m\n"
      ]
     },
     "metadata": {},
     "output_type": "display_data"
    },
    {
     "name": "stdout",
     "output_type": "stream",
     "text": [
      "Rejecting null hypothesis that data is normal for column Nevergrad-CMA-ES (p=0.000665<0.016667)\n",
      "Rejecting null hypothesis that data is normal for column RandomSearch (p=0.001306<0.016667)\n",
      "Rejecting null hypothesis that data is normal for column SMAC3-BlackBoxFacade (p=0.013049<0.016667)\n",
      "Using Friedman test as omnibus test\n",
      "Rejecting null hypothesis that there is no difference between the distributions (p=0.000000)\n",
      "Using Nemenyi post-hoc test. Differences are significant,if the distance between the mean ranks is greater than the critical distance.\n",
      "                      meanrank    median       mad  ci_lower  ci_upper  \\\n",
      "SMAC3-BlackBoxFacade  1.233333  0.258908  0.258908  0.036241  0.673415   \n",
      "RandomSearch          2.083333  0.681025   0.28138  0.140162  0.964738   \n",
      "Nevergrad-CMA-ES      2.683333  0.700379  0.259538  0.177805  0.970191   \n",
      "\n",
      "                     effect_size   magnitude  \n",
      "SMAC3-BlackBoxFacade         0.0  negligible  \n",
      "RandomSearch           -1.053026       large  \n",
      "Nevergrad-CMA-ES       -1.148696       large  \n"
     ]
    },
    {
     "name": "stderr",
     "output_type": "stream",
     "text": [
      "/scratch/hpc-prf-intexml/cbenjamins/.conda/envs/carpsexp/lib/python3.10/site-packages/autorank/_util.py:432: FutureWarning: Series.__getitem__ treating keys as positions is deprecated. In a future version, integer keys will always be treated as labels (consistent with DataFrame behavior). To access a value by position, use `ser.iloc[pos]`\n",
      "  if abs(sorted_ranks[i] - sorted_ranks[j]) <= critical_difference:\n",
      "/scratch/hpc-prf-intexml/cbenjamins/repos/CARP-S-Experiments/lib/CARP-S/carps/analysis/run_autorank.py:233: FutureWarning: Series.__getitem__ treating keys as positions is deprecated. In a future version, integer keys will always be treated as labels (consistent with DataFrame behavior). To access a value by position, use `ser.iloc[pos]`\n",
      "  [(rankpos(sorted_ranks[i]), cline), (rankpos(sorted_ranks[i]), chei), (textspace - 0.1, chei)],\n",
      "/scratch/hpc-prf-intexml/cbenjamins/repos/CARP-S-Experiments/lib/CARP-S/carps/analysis/run_autorank.py:241: FutureWarning: Series.__getitem__ treating keys as positions is deprecated. In a future version, integer keys will always be treated as labels (consistent with DataFrame behavior). To access a value by position, use `ser.iloc[pos]`\n",
      "  [(rankpos(sorted_ranks[i]), cline), (rankpos(sorted_ranks[i]), chei), (textspace + scalewidth + 0.1, chei)],\n",
      "/scratch/hpc-prf-intexml/cbenjamins/repos/CARP-S-Experiments/lib/CARP-S/carps/analysis/run_autorank.py:263: FutureWarning: Series.__getitem__ treating keys as positions is deprecated. In a future version, integer keys will always be treated as labels (consistent with DataFrame behavior). To access a value by position, use `ser.iloc[pos]`\n",
      "  plot_line([(rankpos(sorted_ranks[l]) - side, start), (rankpos(sorted_ranks[r]) + side, start)], linewidth=2.5)\n"
     ]
    },
    {
     "data": {
      "image/png": "[encoded data removed]",
      "text/plain": [
       "<Figure size 800x300 with 1 Axes>"
      ]
     },
     "metadata": {},
     "output_type": "display_data"
    },
    {
     "name": "stderr",
     "output_type": "stream",
     "text": [
      "/scratch/hpc-prf-intexml/cbenjamins/.conda/envs/carpsexp/lib/python3.10/site-packages/autorank/_util.py:432: FutureWarning: Series.__getitem__ treating keys as positions is deprecated. In a future version, integer keys will always be treated as labels (consistent with DataFrame behavior). To access a value by position, use `ser.iloc[pos]`\n",
      "  if abs(sorted_ranks[i] - sorted_ranks[j]) <= critical_difference:\n",
      "/tmp/ipykernel_3735759/3381051715.py:11: SettingWithCopyWarning: \n",
      "A value is trying to be set on a copy of a slice from a DataFrame\n",
      "\n",
      "See the caveats in the documentation: https://pandas.pydata.org/pandas-docs/stable/user_guide/indexing.html#returning-a-view-versus-a-copy\n",
      "  sorted_ranks[\"set_id\"] = set_id\n"
     ]
    },
    {
     "name": "stdout",
     "output_type": "stream",
     "text": [
      "SMAC3-BlackBoxFacade    1.233333\n",
      "RandomSearch            2.083333\n",
      "Nevergrad-CMA-ES        2.683333\n",
      "set_id                       dev\n",
      "Name: meanrank, dtype: object ['SMAC3-BlackBoxFacade', 'RandomSearch', 'Nevergrad-CMA-ES'] [(1, 2)]\n",
      "full\n"
     ]
    },
    {
     "data": {
      "text/html": [
       "<pre style=\"white-space:pre;overflow-x:auto;line-height:normal;font-family:Menlo,'DejaVu Sans Mono',consolas,'Courier New',monospace\"><span style=\"color: #7fbfbf; text-decoration-color: #7fbfbf\">[10:15:44] </span><span style=\"color: #000080; text-decoration-color: #000080\">INFO    </span> Lost following experiments: optimizer_id                  Nevergrad-CMA-ES  <a href=\"file:///scratch/hpc-prf-intexml/cbenjamins/repos/CARP-S-Experiments/lib/CARP-S/carps/analysis/run_autorank.py\" target=\"_blank\"><span style=\"color: #7f7f7f; text-decoration-color: #7f7f7f\">run_autorank.py</span></a><span style=\"color: #7f7f7f; text-decoration-color: #7f7f7f\">:</span><a href=\"file:///scratch/hpc-prf-intexml/cbenjamins/repos/CARP-S-Experiments/lib/CARP-S/carps/analysis/run_autorank.py#113\" target=\"_blank\"><span style=\"color: #7f7f7f; text-decoration-color: #7f7f7f\">113</span></a>\n",
       "<span style=\"color: #7fbfbf; text-decoration-color: #7fbfbf\">           </span>         RandomSearch  \\                                                             <span style=\"color: #7f7f7f; text-decoration-color: #7f7f7f\">                   </span>\n",
       "<span style=\"color: #7fbfbf; text-decoration-color: #7fbfbf\">           </span>         problem_id                                                                  <span style=\"color: #7f7f7f; text-decoration-color: #7f7f7f\">                   </span>\n",
       "<span style=\"color: #7fbfbf; text-decoration-color: #7fbfbf\">           </span>         hpob/all/<span style=\"color: #008080; text-decoration-color: #008080; font-weight: bold\">214</span>/<span style=\"color: #008080; text-decoration-color: #008080; font-weight: bold\">58</span>                            NaN      <span style=\"color: #008080; text-decoration-color: #008080; font-weight: bold\">0.000000</span>                <span style=\"color: #7f7f7f; text-decoration-color: #7f7f7f\">                   </span>\n",
       "<span style=\"color: #7fbfbf; text-decoration-color: #7fbfbf\">           </span>         hpob/all/<span style=\"color: #008080; text-decoration-color: #008080; font-weight: bold\">243</span>/<span style=\"color: #008080; text-decoration-color: #008080; font-weight: bold\">59</span>                            NaN      <span style=\"color: #008080; text-decoration-color: #008080; font-weight: bold\">0.000000</span>                <span style=\"color: #7f7f7f; text-decoration-color: #7f7f7f\">                   </span>\n",
       "<span style=\"color: #7fbfbf; text-decoration-color: #7fbfbf\">           </span>         hpob/all/<span style=\"color: #008080; text-decoration-color: #008080; font-weight: bold\">245</span>/<span style=\"color: #008080; text-decoration-color: #008080; font-weight: bold\">59</span>                            NaN      <span style=\"color: #008080; text-decoration-color: #008080; font-weight: bold\">0.000000</span>                <span style=\"color: #7f7f7f; text-decoration-color: #7f7f7f\">                   </span>\n",
       "<span style=\"color: #7fbfbf; text-decoration-color: #7fbfbf\">           </span>         hpob/all/<span style=\"color: #008080; text-decoration-color: #008080; font-weight: bold\">246</span>/<span style=\"color: #008080; text-decoration-color: #008080; font-weight: bold\">59</span>                            NaN      <span style=\"color: #008080; text-decoration-color: #008080; font-weight: bold\">0.000000</span>                <span style=\"color: #7f7f7f; text-decoration-color: #7f7f7f\">                   </span>\n",
       "<span style=\"color: #7fbfbf; text-decoration-color: #7fbfbf\">           </span>         hpob/all/<span style=\"color: #008080; text-decoration-color: #008080; font-weight: bold\">247</span>/<span style=\"color: #008080; text-decoration-color: #008080; font-weight: bold\">59</span>                            NaN      <span style=\"color: #008080; text-decoration-color: #008080; font-weight: bold\">0.000000</span>                <span style=\"color: #7f7f7f; text-decoration-color: #7f7f7f\">                   </span>\n",
       "<span style=\"color: #7fbfbf; text-decoration-color: #7fbfbf\">           </span>         <span style=\"color: #808000; text-decoration-color: #808000\">...</span>                                        <span style=\"color: #808000; text-decoration-color: #808000\">...</span>           <span style=\"color: #808000; text-decoration-color: #808000\">...</span>                <span style=\"color: #7f7f7f; text-decoration-color: #7f7f7f\">                   </span>\n",
       "<span style=\"color: #7fbfbf; text-decoration-color: #7fbfbf\">           </span>         yahpo/rbv2_xgboost/<span style=\"color: #008080; text-decoration-color: #008080; font-weight: bold\">54</span>/<span style=\"color: #800080; text-decoration-color: #800080; font-style: italic\">None</span>                 NaN      <span style=\"color: #008080; text-decoration-color: #008080; font-weight: bold\">0.155655</span>                <span style=\"color: #7f7f7f; text-decoration-color: #7f7f7f\">                   </span>\n",
       "<span style=\"color: #7fbfbf; text-decoration-color: #7fbfbf\">           </span>         yahpo/rbv2_xgboost/<span style=\"color: #008080; text-decoration-color: #008080; font-weight: bold\">554</span>/<span style=\"color: #800080; text-decoration-color: #800080; font-style: italic\">None</span>                NaN      <span style=\"color: #008080; text-decoration-color: #008080; font-weight: bold\">0.000000</span>                <span style=\"color: #7f7f7f; text-decoration-color: #7f7f7f\">                   </span>\n",
       "<span style=\"color: #7fbfbf; text-decoration-color: #7fbfbf\">           </span>         yahpo/rbv2_xgboost/<span style=\"color: #008080; text-decoration-color: #008080; font-weight: bold\">6</span>/<span style=\"color: #800080; text-decoration-color: #800080; font-style: italic\">None</span>                  NaN      <span style=\"color: #008080; text-decoration-color: #008080; font-weight: bold\">0.000000</span>                <span style=\"color: #7f7f7f; text-decoration-color: #7f7f7f\">                   </span>\n",
       "<span style=\"color: #7fbfbf; text-decoration-color: #7fbfbf\">           </span>         yahpo/rbv2_xgboost/<span style=\"color: #008080; text-decoration-color: #008080; font-weight: bold\">60</span>/<span style=\"color: #800080; text-decoration-color: #800080; font-style: italic\">None</span>                 NaN      <span style=\"color: #008080; text-decoration-color: #008080; font-weight: bold\">0.115909</span>                <span style=\"color: #7f7f7f; text-decoration-color: #7f7f7f\">                   </span>\n",
       "<span style=\"color: #7fbfbf; text-decoration-color: #7fbfbf\">           </span>         yahpo/rbv2_xgboost/<span style=\"color: #008080; text-decoration-color: #008080; font-weight: bold\">6332</span>/<span style=\"color: #800080; text-decoration-color: #800080; font-style: italic\">None</span>               NaN      <span style=\"color: #008080; text-decoration-color: #008080; font-weight: bold\">0.187367</span>                <span style=\"color: #7f7f7f; text-decoration-color: #7f7f7f\">                   </span>\n",
       "<span style=\"color: #7fbfbf; text-decoration-color: #7fbfbf\">           </span>                                                                                     <span style=\"color: #7f7f7f; text-decoration-color: #7f7f7f\">                   </span>\n",
       "<span style=\"color: #7fbfbf; text-decoration-color: #7fbfbf\">           </span>         optimizer_id                  SMAC3-BlackBoxFacade                          <span style=\"color: #7f7f7f; text-decoration-color: #7f7f7f\">                   </span>\n",
       "<span style=\"color: #7fbfbf; text-decoration-color: #7fbfbf\">           </span>         problem_id                                                                  <span style=\"color: #7f7f7f; text-decoration-color: #7f7f7f\">                   </span>\n",
       "<span style=\"color: #7fbfbf; text-decoration-color: #7fbfbf\">           </span>         hpob/all/<span style=\"color: #008080; text-decoration-color: #008080; font-weight: bold\">214</span>/<span style=\"color: #008080; text-decoration-color: #008080; font-weight: bold\">58</span>                           <span style=\"color: #008080; text-decoration-color: #008080; font-weight: bold\">0.000000</span>                          <span style=\"color: #7f7f7f; text-decoration-color: #7f7f7f\">                   </span>\n",
       "<span style=\"color: #7fbfbf; text-decoration-color: #7fbfbf\">           </span>         hpob/all/<span style=\"color: #008080; text-decoration-color: #008080; font-weight: bold\">243</span>/<span style=\"color: #008080; text-decoration-color: #008080; font-weight: bold\">59</span>                           <span style=\"color: #008080; text-decoration-color: #008080; font-weight: bold\">0.000000</span>                          <span style=\"color: #7f7f7f; text-decoration-color: #7f7f7f\">                   </span>\n",
       "<span style=\"color: #7fbfbf; text-decoration-color: #7fbfbf\">           </span>         hpob/all/<span style=\"color: #008080; text-decoration-color: #008080; font-weight: bold\">245</span>/<span style=\"color: #008080; text-decoration-color: #008080; font-weight: bold\">59</span>                           <span style=\"color: #008080; text-decoration-color: #008080; font-weight: bold\">0.000000</span>                          <span style=\"color: #7f7f7f; text-decoration-color: #7f7f7f\">                   </span>\n",
       "<span style=\"color: #7fbfbf; text-decoration-color: #7fbfbf\">           </span>         hpob/all/<span style=\"color: #008080; text-decoration-color: #008080; font-weight: bold\">246</span>/<span style=\"color: #008080; text-decoration-color: #008080; font-weight: bold\">59</span>                           <span style=\"color: #008080; text-decoration-color: #008080; font-weight: bold\">0.000000</span>                          <span style=\"color: #7f7f7f; text-decoration-color: #7f7f7f\">                   </span>\n",
       "<span style=\"color: #7fbfbf; text-decoration-color: #7fbfbf\">           </span>         hpob/all/<span style=\"color: #008080; text-decoration-color: #008080; font-weight: bold\">247</span>/<span style=\"color: #008080; text-decoration-color: #008080; font-weight: bold\">59</span>                           <span style=\"color: #008080; text-decoration-color: #008080; font-weight: bold\">0.000000</span>                          <span style=\"color: #7f7f7f; text-decoration-color: #7f7f7f\">                   </span>\n",
       "<span style=\"color: #7fbfbf; text-decoration-color: #7fbfbf\">           </span>         <span style=\"color: #808000; text-decoration-color: #808000\">...</span>                                            <span style=\"color: #808000; text-decoration-color: #808000\">...</span>                          <span style=\"color: #7f7f7f; text-decoration-color: #7f7f7f\">                   </span>\n",
       "<span style=\"color: #7fbfbf; text-decoration-color: #7fbfbf\">           </span>         yahpo/rbv2_xgboost/<span style=\"color: #008080; text-decoration-color: #008080; font-weight: bold\">54</span>/<span style=\"color: #800080; text-decoration-color: #800080; font-style: italic\">None</span>                <span style=\"color: #008080; text-decoration-color: #008080; font-weight: bold\">0.026988</span>                          <span style=\"color: #7f7f7f; text-decoration-color: #7f7f7f\">                   </span>\n",
       "<span style=\"color: #7fbfbf; text-decoration-color: #7fbfbf\">           </span>         yahpo/rbv2_xgboost/<span style=\"color: #008080; text-decoration-color: #008080; font-weight: bold\">554</span>/<span style=\"color: #800080; text-decoration-color: #800080; font-style: italic\">None</span>               <span style=\"color: #008080; text-decoration-color: #008080; font-weight: bold\">0.000000</span>                          <span style=\"color: #7f7f7f; text-decoration-color: #7f7f7f\">                   </span>\n",
       "<span style=\"color: #7fbfbf; text-decoration-color: #7fbfbf\">           </span>         yahpo/rbv2_xgboost/<span style=\"color: #008080; text-decoration-color: #008080; font-weight: bold\">6</span>/<span style=\"color: #800080; text-decoration-color: #800080; font-style: italic\">None</span>                 <span style=\"color: #008080; text-decoration-color: #008080; font-weight: bold\">0.000000</span>                          <span style=\"color: #7f7f7f; text-decoration-color: #7f7f7f\">                   </span>\n",
       "<span style=\"color: #7fbfbf; text-decoration-color: #7fbfbf\">           </span>         yahpo/rbv2_xgboost/<span style=\"color: #008080; text-decoration-color: #008080; font-weight: bold\">60</span>/<span style=\"color: #800080; text-decoration-color: #800080; font-style: italic\">None</span>                <span style=\"color: #008080; text-decoration-color: #008080; font-weight: bold\">0.012931</span>                          <span style=\"color: #7f7f7f; text-decoration-color: #7f7f7f\">                   </span>\n",
       "<span style=\"color: #7fbfbf; text-decoration-color: #7fbfbf\">           </span>         yahpo/rbv2_xgboost/<span style=\"color: #008080; text-decoration-color: #008080; font-weight: bold\">6332</span>/<span style=\"color: #800080; text-decoration-color: #800080; font-style: italic\">None</span>              <span style=\"color: #008080; text-decoration-color: #008080; font-weight: bold\">0.042779</span>                          <span style=\"color: #7f7f7f; text-decoration-color: #7f7f7f\">                   </span>\n",
       "<span style=\"color: #7fbfbf; text-decoration-color: #7fbfbf\">           </span>                                                                                     <span style=\"color: #7f7f7f; text-decoration-color: #7f7f7f\">                   </span>\n",
       "<span style=\"color: #7fbfbf; text-decoration-color: #7fbfbf\">           </span>         <span style=\"font-weight: bold\">[</span><span style=\"color: #008080; text-decoration-color: #008080; font-weight: bold\">923</span> rows x <span style=\"color: #008080; text-decoration-color: #008080; font-weight: bold\">3</span> columns<span style=\"font-weight: bold\">]</span>                                                      <span style=\"color: #7f7f7f; text-decoration-color: #7f7f7f\">                   </span>\n",
       "</pre>\n"
      ],
      "text/plain": [
       "\u001b[2;36m[10:15:44]\u001b[0m\u001b[2;36m \u001b[0m\u001b[34mINFO    \u001b[0m Lost following experiments: optimizer_id                  Nevergrad-CMA-ES  \u001b]8;id=168812;file:///scratch/hpc-prf-intexml/cbenjamins/repos/CARP-S-Experiments/lib/CARP-S/carps/analysis/run_autorank.py\u001b\\\u001b[2mrun_autorank.py\u001b[0m\u001b]8;;\u001b\\\u001b[2m:\u001b[0m\u001b]8;id=430470;file:///scratch/hpc-prf-intexml/cbenjamins/repos/CARP-S-Experiments/lib/CARP-S/carps/analysis/run_autorank.py#113\u001b\\\u001b[2m113\u001b[0m\u001b]8;;\u001b\\\n",
       "\u001b[2;36m           \u001b[0m         RandomSearch  \\                                                             \u001b[2m                   \u001b[0m\n",
       "\u001b[2;36m           \u001b[0m         problem_id                                                                  \u001b[2m                   \u001b[0m\n",
       "\u001b[2;36m           \u001b[0m         hpob/all/\u001b[1;36m214\u001b[0m/\u001b[1;36m58\u001b[0m                            NaN      \u001b[1;36m0.000000\u001b[0m                \u001b[2m                   \u001b[0m\n",
       "\u001b[2;36m           \u001b[0m         hpob/all/\u001b[1;36m243\u001b[0m/\u001b[1;36m59\u001b[0m                            NaN      \u001b[1;36m0.000000\u001b[0m                \u001b[2m                   \u001b[0m\n",
       "\u001b[2;36m           \u001b[0m         hpob/all/\u001b[1;36m245\u001b[0m/\u001b[1;36m59\u001b[0m                            NaN      \u001b[1;36m0.000000\u001b[0m                \u001b[2m                   \u001b[0m\n",
       "\u001b[2;36m           \u001b[0m         hpob/all/\u001b[1;36m246\u001b[0m/\u001b[1;36m59\u001b[0m                            NaN      \u001b[1;36m0.000000\u001b[0m                \u001b[2m                   \u001b[0m\n",
       "\u001b[2;36m           \u001b[0m         hpob/all/\u001b[1;36m247\u001b[0m/\u001b[1;36m59\u001b[0m                            NaN      \u001b[1;36m0.000000\u001b[0m                \u001b[2m                   \u001b[0m\n",
       "\u001b[2;36m           \u001b[0m         \u001b[33m...\u001b[0m                                        \u001b[33m...\u001b[0m           \u001b[33m...\u001b[0m                \u001b[2m                   \u001b[0m\n",
       "\u001b[2;36m           \u001b[0m         yahpo/rbv2_xgboost/\u001b[1;36m54\u001b[0m/\u001b[3;35mNone\u001b[0m                 NaN      \u001b[1;36m0.155655\u001b[0m                \u001b[2m                   \u001b[0m\n",
       "\u001b[2;36m           \u001b[0m         yahpo/rbv2_xgboost/\u001b[1;36m554\u001b[0m/\u001b[3;35mNone\u001b[0m                NaN      \u001b[1;36m0.000000\u001b[0m                \u001b[2m                   \u001b[0m\n",
       "\u001b[2;36m           \u001b[0m         yahpo/rbv2_xgboost/\u001b[1;36m6\u001b[0m/\u001b[3;35mNone\u001b[0m                  NaN      \u001b[1;36m0.000000\u001b[0m                \u001b[2m                   \u001b[0m\n",
       "\u001b[2;36m           \u001b[0m         yahpo/rbv2_xgboost/\u001b[1;36m60\u001b[0m/\u001b[3;35mNone\u001b[0m                 NaN      \u001b[1;36m0.115909\u001b[0m                \u001b[2m                   \u001b[0m\n",
       "\u001b[2;36m           \u001b[0m         yahpo/rbv2_xgboost/\u001b[1;36m6332\u001b[0m/\u001b[3;35mNone\u001b[0m               NaN      \u001b[1;36m0.187367\u001b[0m                \u001b[2m                   \u001b[0m\n",
       "\u001b[2;36m           \u001b[0m                                                                                     \u001b[2m                   \u001b[0m\n",
       "\u001b[2;36m           \u001b[0m         optimizer_id                  SMAC3-BlackBoxFacade                          \u001b[2m                   \u001b[0m\n",
       "\u001b[2;36m           \u001b[0m         problem_id                                                                  \u001b[2m                   \u001b[0m\n",
       "\u001b[2;36m           \u001b[0m         hpob/all/\u001b[1;36m214\u001b[0m/\u001b[1;36m58\u001b[0m                           \u001b[1;36m0.000000\u001b[0m                          \u001b[2m                   \u001b[0m\n",
       "\u001b[2;36m           \u001b[0m         hpob/all/\u001b[1;36m243\u001b[0m/\u001b[1;36m59\u001b[0m                           \u001b[1;36m0.000000\u001b[0m                          \u001b[2m                   \u001b[0m\n",
       "\u001b[2;36m           \u001b[0m         hpob/all/\u001b[1;36m245\u001b[0m/\u001b[1;36m59\u001b[0m                           \u001b[1;36m0.000000\u001b[0m                          \u001b[2m                   \u001b[0m\n",
       "\u001b[2;36m           \u001b[0m         hpob/all/\u001b[1;36m246\u001b[0m/\u001b[1;36m59\u001b[0m                           \u001b[1;36m0.000000\u001b[0m                          \u001b[2m                   \u001b[0m\n",
       "\u001b[2;36m           \u001b[0m         hpob/all/\u001b[1;36m247\u001b[0m/\u001b[1;36m59\u001b[0m                           \u001b[1;36m0.000000\u001b[0m                          \u001b[2m                   \u001b[0m\n",
       "\u001b[2;36m           \u001b[0m         \u001b[33m...\u001b[0m                                            \u001b[33m...\u001b[0m                          \u001b[2m                   \u001b[0m\n",
       "\u001b[2;36m           \u001b[0m         yahpo/rbv2_xgboost/\u001b[1;36m54\u001b[0m/\u001b[3;35mNone\u001b[0m                \u001b[1;36m0.026988\u001b[0m                          \u001b[2m                   \u001b[0m\n",
       "\u001b[2;36m           \u001b[0m         yahpo/rbv2_xgboost/\u001b[1;36m554\u001b[0m/\u001b[3;35mNone\u001b[0m               \u001b[1;36m0.000000\u001b[0m                          \u001b[2m                   \u001b[0m\n",
       "\u001b[2;36m           \u001b[0m         yahpo/rbv2_xgboost/\u001b[1;36m6\u001b[0m/\u001b[3;35mNone\u001b[0m                 \u001b[1;36m0.000000\u001b[0m                          \u001b[2m                   \u001b[0m\n",
       "\u001b[2;36m           \u001b[0m         yahpo/rbv2_xgboost/\u001b[1;36m60\u001b[0m/\u001b[3;35mNone\u001b[0m                \u001b[1;36m0.012931\u001b[0m                          \u001b[2m                   \u001b[0m\n",
       "\u001b[2;36m           \u001b[0m         yahpo/rbv2_xgboost/\u001b[1;36m6332\u001b[0m/\u001b[3;35mNone\u001b[0m              \u001b[1;36m0.042779\u001b[0m                          \u001b[2m                   \u001b[0m\n",
       "\u001b[2;36m           \u001b[0m                                                                                     \u001b[2m                   \u001b[0m\n",
       "\u001b[2;36m           \u001b[0m         \u001b[1m[\u001b[0m\u001b[1;36m923\u001b[0m rows x \u001b[1;36m3\u001b[0m columns\u001b[1m]\u001b[0m                                                      \u001b[2m                   \u001b[0m\n"
      ]
     },
     "metadata": {},
     "output_type": "display_data"
    },
    {
     "name": "stdout",
     "output_type": "stream",
     "text": [
      "Rejecting null hypothesis that data is normal for column Nevergrad-CMA-ES (p=0.000000<0.016667)\n",
      "Rejecting null hypothesis that data is normal for column RandomSearch (p=0.000000<0.016667)\n",
      "Rejecting null hypothesis that data is normal for column SMAC3-BlackBoxFacade (p=0.000000<0.016667)\n",
      "Using Friedman test as omnibus test\n",
      "Rejecting null hypothesis that there is no difference between the distributions (p=0.000000)\n",
      "Using Nemenyi post-hoc test. Differences are significant,if the distance between the mean ranks is greater than the critical distance.\n",
      "                      meanrank    median       mad  ci_lower  ci_upper  \\\n",
      "SMAC3-BlackBoxFacade  1.374508  0.001941  0.001941  0.001163  0.002932   \n",
      "RandomSearch          2.194797  0.011178  0.011178  0.008339   0.01409   \n",
      "Nevergrad-CMA-ES      2.430695  0.026865  0.026865  0.019012  0.037262   \n",
      "\n",
      "                     effect_size   magnitude  \n",
      "SMAC3-BlackBoxFacade         0.0  negligible  \n",
      "RandomSearch           -0.776576      medium  \n",
      "Nevergrad-CMA-ES       -0.882639       large  \n"
     ]
    },
    {
     "name": "stderr",
     "output_type": "stream",
     "text": [
      "/scratch/hpc-prf-intexml/cbenjamins/.conda/envs/carpsexp/lib/python3.10/site-packages/autorank/_util.py:432: FutureWarning: Series.__getitem__ treating keys as positions is deprecated. In a future version, integer keys will always be treated as labels (consistent with DataFrame behavior). To access a value by position, use `ser.iloc[pos]`\n",
      "  if abs(sorted_ranks[i] - sorted_ranks[j]) <= critical_difference:\n",
      "/scratch/hpc-prf-intexml/cbenjamins/repos/CARP-S-Experiments/lib/CARP-S/carps/analysis/run_autorank.py:233: FutureWarning: Series.__getitem__ treating keys as positions is deprecated. In a future version, integer keys will always be treated as labels (consistent with DataFrame behavior). To access a value by position, use `ser.iloc[pos]`\n",
      "  [(rankpos(sorted_ranks[i]), cline), (rankpos(sorted_ranks[i]), chei), (textspace - 0.1, chei)],\n",
      "/scratch/hpc-prf-intexml/cbenjamins/repos/CARP-S-Experiments/lib/CARP-S/carps/analysis/run_autorank.py:241: FutureWarning: Series.__getitem__ treating keys as positions is deprecated. In a future version, integer keys will always be treated as labels (consistent with DataFrame behavior). To access a value by position, use `ser.iloc[pos]`\n",
      "  [(rankpos(sorted_ranks[i]), cline), (rankpos(sorted_ranks[i]), chei), (textspace + scalewidth + 0.1, chei)],\n"
     ]
    },
    {
     "data": {
      "image/png": "[encoded data removed]",
      "text/plain": [
       "<Figure size 800x300 with 1 Axes>"
      ]
     },
     "metadata": {},
     "output_type": "display_data"
    },
    {
     "name": "stderr",
     "output_type": "stream",
     "text": [
      "/scratch/hpc-prf-intexml/cbenjamins/.conda/envs/carpsexp/lib/python3.10/site-packages/autorank/_util.py:432: FutureWarning: Series.__getitem__ treating keys as positions is deprecated. In a future version, integer keys will always be treated as labels (consistent with DataFrame behavior). To access a value by position, use `ser.iloc[pos]`\n",
      "  if abs(sorted_ranks[i] - sorted_ranks[j]) <= critical_difference:\n",
      "/tmp/ipykernel_3735759/3381051715.py:11: SettingWithCopyWarning: \n",
      "A value is trying to be set on a copy of a slice from a DataFrame\n",
      "\n",
      "See the caveats in the documentation: https://pandas.pydata.org/pandas-docs/stable/user_guide/indexing.html#returning-a-view-versus-a-copy\n",
      "  sorted_ranks[\"set_id\"] = set_id\n"
     ]
    },
    {
     "name": "stdout",
     "output_type": "stream",
     "text": [
      "SMAC3-BlackBoxFacade    1.374508\n",
      "RandomSearch            2.194797\n",
      "Nevergrad-CMA-ES        2.430695\n",
      "set_id                      full\n",
      "Name: meanrank, dtype: object ['SMAC3-BlackBoxFacade', 'RandomSearch', 'Nevergrad-CMA-ES'] []\n",
      "test\n"
     ]
    },
    {
     "data": {
      "text/html": [
       "<pre style=\"white-space:pre;overflow-x:auto;line-height:normal;font-family:Menlo,'DejaVu Sans Mono',consolas,'Courier New',monospace\"><span style=\"color: #7fbfbf; text-decoration-color: #7fbfbf\">[10:15:45] </span><span style=\"color: #000080; text-decoration-color: #000080\">INFO    </span> Lost following experiments: Empty DataFrame                                 <a href=\"file:///scratch/hpc-prf-intexml/cbenjamins/repos/CARP-S-Experiments/lib/CARP-S/carps/analysis/run_autorank.py\" target=\"_blank\"><span style=\"color: #7f7f7f; text-decoration-color: #7f7f7f\">run_autorank.py</span></a><span style=\"color: #7f7f7f; text-decoration-color: #7f7f7f\">:</span><a href=\"file:///scratch/hpc-prf-intexml/cbenjamins/repos/CARP-S-Experiments/lib/CARP-S/carps/analysis/run_autorank.py#113\" target=\"_blank\"><span style=\"color: #7f7f7f; text-decoration-color: #7f7f7f\">113</span></a>\n",
       "<span style=\"color: #7fbfbf; text-decoration-color: #7fbfbf\">           </span>         Columns: <span style=\"font-weight: bold\">[</span>Nevergrad-CMA-ES, RandomSearch, SMAC3-BlackBoxFacade<span style=\"font-weight: bold\">]</span>             <span style=\"color: #7f7f7f; text-decoration-color: #7f7f7f\">                   </span>\n",
       "<span style=\"color: #7fbfbf; text-decoration-color: #7fbfbf\">           </span>         Index: <span style=\"font-weight: bold\">[]</span>                                                                   <span style=\"color: #7f7f7f; text-decoration-color: #7f7f7f\">                   </span>\n",
       "</pre>\n"
      ],
      "text/plain": [
       "\u001b[2;36m[10:15:45]\u001b[0m\u001b[2;36m \u001b[0m\u001b[34mINFO    \u001b[0m Lost following experiments: Empty DataFrame                                 \u001b]8;id=936864;file:///scratch/hpc-prf-intexml/cbenjamins/repos/CARP-S-Experiments/lib/CARP-S/carps/analysis/run_autorank.py\u001b\\\u001b[2mrun_autorank.py\u001b[0m\u001b]8;;\u001b\\\u001b[2m:\u001b[0m\u001b]8;id=60792;file:///scratch/hpc-prf-intexml/cbenjamins/repos/CARP-S-Experiments/lib/CARP-S/carps/analysis/run_autorank.py#113\u001b\\\u001b[2m113\u001b[0m\u001b]8;;\u001b\\\n",
       "\u001b[2;36m           \u001b[0m         Columns: \u001b[1m[\u001b[0mNevergrad-CMA-ES, RandomSearch, SMAC3-BlackBoxFacade\u001b[1m]\u001b[0m             \u001b[2m                   \u001b[0m\n",
       "\u001b[2;36m           \u001b[0m         Index: \u001b[1m[\u001b[0m\u001b[1m]\u001b[0m                                                                   \u001b[2m                   \u001b[0m\n"
      ]
     },
     "metadata": {},
     "output_type": "display_data"
    },
    {
     "name": "stdout",
     "output_type": "stream",
     "text": [
      "Rejecting null hypothesis that data is normal for column Nevergrad-CMA-ES (p=0.000060<0.016667)\n",
      "Rejecting null hypothesis that data is normal for column RandomSearch (p=0.000063<0.016667)\n",
      "Rejecting null hypothesis that data is normal for column SMAC3-BlackBoxFacade (p=0.003134<0.016667)\n",
      "Using Friedman test as omnibus test\n",
      "Rejecting null hypothesis that there is no difference between the distributions (p=0.000000)\n",
      "Using Nemenyi post-hoc test. Differences are significant,if the distance between the mean ranks is greater than the critical distance.\n",
      "                      meanrank    median       mad  ci_lower  ci_upper  \\\n",
      "SMAC3-BlackBoxFacade  1.183333  0.251872  0.251872  0.000008  0.623703   \n",
      "RandomSearch          2.116667  0.751662  0.231896  0.001708  0.971011   \n",
      "Nevergrad-CMA-ES      2.700000  0.728307  0.267123  0.009254  0.981417   \n",
      "\n",
      "                     effect_size   magnitude  \n",
      "SMAC3-BlackBoxFacade         0.0  negligible  \n",
      "RandomSearch           -1.392473       large  \n",
      "Nevergrad-CMA-ES       -1.237823       large  \n"
     ]
    },
    {
     "name": "stderr",
     "output_type": "stream",
     "text": [
      "/scratch/hpc-prf-intexml/cbenjamins/.conda/envs/carpsexp/lib/python3.10/site-packages/autorank/_util.py:432: FutureWarning: Series.__getitem__ treating keys as positions is deprecated. In a future version, integer keys will always be treated as labels (consistent with DataFrame behavior). To access a value by position, use `ser.iloc[pos]`\n",
      "  if abs(sorted_ranks[i] - sorted_ranks[j]) <= critical_difference:\n",
      "/scratch/hpc-prf-intexml/cbenjamins/repos/CARP-S-Experiments/lib/CARP-S/carps/analysis/run_autorank.py:233: FutureWarning: Series.__getitem__ treating keys as positions is deprecated. In a future version, integer keys will always be treated as labels (consistent with DataFrame behavior). To access a value by position, use `ser.iloc[pos]`\n",
      "  [(rankpos(sorted_ranks[i]), cline), (rankpos(sorted_ranks[i]), chei), (textspace - 0.1, chei)],\n",
      "/scratch/hpc-prf-intexml/cbenjamins/repos/CARP-S-Experiments/lib/CARP-S/carps/analysis/run_autorank.py:241: FutureWarning: Series.__getitem__ treating keys as positions is deprecated. In a future version, integer keys will always be treated as labels (consistent with DataFrame behavior). To access a value by position, use `ser.iloc[pos]`\n",
      "  [(rankpos(sorted_ranks[i]), cline), (rankpos(sorted_ranks[i]), chei), (textspace + scalewidth + 0.1, chei)],\n",
      "/scratch/hpc-prf-intexml/cbenjamins/repos/CARP-S-Experiments/lib/CARP-S/carps/analysis/run_autorank.py:263: FutureWarning: Series.__getitem__ treating keys as positions is deprecated. In a future version, integer keys will always be treated as labels (consistent with DataFrame behavior). To access a value by position, use `ser.iloc[pos]`\n",
      "  plot_line([(rankpos(sorted_ranks[l]) - side, start), (rankpos(sorted_ranks[r]) + side, start)], linewidth=2.5)\n"
     ]
    },
    {
     "data": {
      "image/png": "[encoded data removed]",
      "text/plain": [
       "<Figure size 800x300 with 1 Axes>"
      ]
     },
     "metadata": {},
     "output_type": "display_data"
    },
    {
     "name": "stdout",
     "output_type": "stream",
     "text": [
      "SMAC3-BlackBoxFacade    1.183333\n",
      "RandomSearch            2.116667\n",
      "Nevergrad-CMA-ES             2.7\n",
      "set_id                      test\n",
      "Name: meanrank, dtype: object ['SMAC3-BlackBoxFacade', 'RandomSearch', 'Nevergrad-CMA-ES'] [(1, 2)]\n"
     ]
    },
    {
     "name": "stderr",
     "output_type": "stream",
     "text": [
      "/scratch/hpc-prf-intexml/cbenjamins/.conda/envs/carpsexp/lib/python3.10/site-packages/autorank/_util.py:432: FutureWarning: Series.__getitem__ treating keys as positions is deprecated. In a future version, integer keys will always be treated as labels (consistent with DataFrame behavior). To access a value by position, use `ser.iloc[pos]`\n",
      "  if abs(sorted_ranks[i] - sorted_ranks[j]) <= critical_difference:\n",
      "/tmp/ipykernel_3735759/3381051715.py:11: SettingWithCopyWarning: \n",
      "A value is trying to be set on a copy of a slice from a DataFrame\n",
      "\n",
      "See the caveats in the documentation: https://pandas.pydata.org/pandas-docs/stable/user_guide/indexing.html#returning-a-view-versus-a-copy\n",
      "  sorted_ranks[\"set_id\"] = set_id\n"
     ]
    }
   ],
   "source": [
    "from autorank._util import get_sorted_rank_groups\n",
    "\n",
    "perf_col: str = \"trial_value__cost_inc_norm\"\n",
    "\n",
    "ranks_per_set = []\n",
    "for set_id, gdf in df.groupby(\"set\"):\n",
    "    print(set_id)\n",
    "    identifier = f\"{scenario}_{set_id}\"\n",
    "    result = calc_critical_difference(gdf, identifier=identifier, figsize=(8, 3), perf_col=perf_col)\n",
    "    sorted_ranks, names, groups = get_sorted_rank_groups(result, reverse=False)\n",
    "    sorted_ranks[\"set_id\"] = set_id\n",
    "    ranks_per_set.append(sorted_ranks)\n",
    "    print(sorted_ranks, names, groups)"
   ]
  },
  {
   "cell_type": "code",
   "execution_count": 6,
   "metadata": {},
   "outputs": [
    {
     "data": {
      "text/html": [
       "<div>\n",
       "<style scoped>\n",
       "    .dataframe tbody tr th:only-of-type {\n",
       "        vertical-align: middle;\n",
       "    }\n",
       "\n",
       "    .dataframe tbody tr th {\n",
       "        vertical-align: top;\n",
       "    }\n",
       "\n",
       "    .dataframe thead th {\n",
       "        text-align: right;\n",
       "    }\n",
       "</style>\n",
       "<table border=\"1\" class=\"dataframe\">\n",
       "  <thead>\n",
       "    <tr style=\"text-align: right;\">\n",
       "      <th></th>\n",
       "      <th>set_id</th>\n",
       "      <th>SMAC3-BlackBoxFacade</th>\n",
       "      <th>RandomSearch</th>\n",
       "      <th>Nevergrad-CMA-ES</th>\n",
       "    </tr>\n",
       "  </thead>\n",
       "  <tbody>\n",
       "    <tr>\n",
       "      <th>meanrank</th>\n",
       "      <td>dev</td>\n",
       "      <td>1.233333</td>\n",
       "      <td>2.083333</td>\n",
       "      <td>2.683333</td>\n",
       "    </tr>\n",
       "    <tr>\n",
       "      <th>meanrank</th>\n",
       "      <td>full</td>\n",
       "      <td>1.374508</td>\n",
       "      <td>2.194797</td>\n",
       "      <td>2.430695</td>\n",
       "    </tr>\n",
       "    <tr>\n",
       "      <th>meanrank</th>\n",
       "      <td>test</td>\n",
       "      <td>1.183333</td>\n",
       "      <td>2.116667</td>\n",
       "      <td>2.700000</td>\n",
       "    </tr>\n",
       "  </tbody>\n",
       "</table>\n",
       "</div>"
      ],
      "text/plain": [
       "         set_id  SMAC3-BlackBoxFacade  RandomSearch  Nevergrad-CMA-ES\n",
       "meanrank    dev              1.233333      2.083333          2.683333\n",
       "meanrank   full              1.374508      2.194797          2.430695\n",
       "meanrank   test              1.183333      2.116667          2.700000"
      ]
     },
     "execution_count": 6,
     "metadata": {},
     "output_type": "execute_result"
    }
   ],
   "source": [
    "df_ranks_per_set = pd.DataFrame(ranks_per_set)\n",
    "df_t = pd.DataFrame([{r[\"set_id\"]: list(r.index[:3])} for r in ranks_per_set])\n",
    "new_cols = [\"set_id\"] + [c for c in df_ranks_per_set.columns if c != \"set_id\"]\n",
    "df_ranks_per_set = df_ranks_per_set[new_cols]\n",
    "df_ranks_per_set.to_csv(f\"ranks_per_set_{scenario}.csv\", index=False)\n",
    "df_ranks_per_set"
   ]
  },
  {
   "cell_type": "code",
   "execution_count": 47,
   "metadata": {},
   "outputs": [
    {
     "name": "stdout",
     "output_type": "stream",
     "text": [
      "\n",
      "\\begin{table}[h]\n",
      "    \\caption{Mean Ranking for Scenario blackbox}\n",
      "    \\label{tab:ranking_validation_blackbox}\n",
      "    \\centering\n",
      "    %\\resizebox{0.4\\textwidth}{!}{\n",
      "    \\begin{tabular}{llll}\n",
      "\\toprule\n",
      " & SMAC3-BlackBoxFacade & RandomSearch & Nevergrad-CMA-ES \\\\\n",
      "set &  &  &  \\\\\n",
      "\\midrule\n",
      "full & 1.37 (1) & 2.19 (2) & 2.43 (3) \\\\\n",
      "dev & 1.23 (1) & 2.08 (2) & 2.68 (3) \\\\\n",
      "test & 1.18 (1) & 2.12 (2) & 2.70 (3) \\\\\n",
      "\\bottomrule\n",
      "\\end{tabular}\n",
      "    %}\n",
      "\\end{table}\n",
      "\n",
      "\n",
      "\\begin{table}[h]\n",
      "    \\caption{Mean Ranking for Scenario MOMF}\n",
      "    \\label{tab:ranking_validation_MOMF}\n",
      "    \\centering\n",
      "    %\\resizebox{0.4\\textwidth}{!}{\n",
      "    \\begin{tabular}{llll}\n",
      "\\toprule\n",
      " & SMAC3-MOMF-GP & RandomSearch & Nevergrad-DE \\\\\n",
      "set &  &  &  \\\\\n",
      "\\midrule\n",
      "full & 1.63 (1) & 1.78 (2) & 2.59 (3) \\\\\n",
      "dev & 1.56 (1) & 1.78 (2) & 2.67 (3) \\\\\n",
      "test & 1.44 (1) & 2.00 (2) & 2.56 (3) \\\\\n",
      "\\bottomrule\n",
      "\\end{tabular}\n",
      "    %}\n",
      "\\end{table}\n",
      "\n",
      "\n",
      "\\begin{table}[h]\n",
      "    \\caption{Mean Ranking for Scenario multifidelity}\n",
      "    \\label{tab:ranking_validation_multifidelity}\n",
      "    \\centering\n",
      "    %\\resizebox{0.4\\textwidth}{!}{\n",
      "    \\begin{tabular}{llll}\n",
      "\\toprule\n",
      " & SMAC3-BlackBoxFacade & RandomSearch & Nevergrad-CMA-ES \\\\\n",
      "set &  &  &  \\\\\n",
      "\\midrule\n",
      "full & 1.37 (1) & 2.19 (2) & 2.43 (3) \\\\\n",
      "dev & 1.23 (1) & 2.08 (2) & 2.68 (3) \\\\\n",
      "test & 1.18 (1) & 2.12 (2) & 2.70 (3) \\\\\n",
      "\\bottomrule\n",
      "\\end{tabular}\n",
      "    %}\n",
      "\\end{table}\n",
      "\n",
      "\n",
      "\\begin{table}[h]\n",
      "    \\caption{Mean Ranking for Scenario multiobjective}\n",
      "    \\label{tab:ranking_validation_multiobjective}\n",
      "    \\centering\n",
      "    %\\resizebox{0.4\\textwidth}{!}{\n",
      "    \\begin{tabular}{llll}\n",
      "\\toprule\n",
      " & Nevergrad-DE & Optuna-MO & RandomSearch \\\\\n",
      "set &  &  &  \\\\\n",
      "\\midrule\n",
      "full & 1.67 (1) & 2.01 (2) & 2.32 (3) \\\\\n",
      "dev & 1.50 (1) & 1.70 (2) & 2.80 (3) \\\\\n",
      "test & 1.80 (1) & 2.00 (2) & 2.20 (3) \\\\\n",
      "\\bottomrule\n",
      "\\end{tabular}\n",
      "    %}\n",
      "\\end{table}\n",
      "\n"
     ]
    }
   ],
   "source": [
    "import pandas as pd\n",
    "import numpy as np\n",
    "\n",
    "fns = [\"ranks_per_set_blackbox.csv\", \"ranks_per_set_MOMF.csv\", \"ranks_per_set_multifidelity.csv\", \"ranks_per_set_multiobjective.csv\"]\n",
    "data = []\n",
    "decimal_places = 2\n",
    "sorter = [\"full\", \"dev\", \"test\"]\n",
    "\n",
    "final_str = r\"\"\"\n",
    "\\begin{{table}}[h]\n",
    "    \\caption{{{caption}}}\n",
    "    \\label{{{label}}}\n",
    "    \\centering\n",
    "    %\\resizebox{{0.4\\textwidth}}{{!}}{{\n",
    "    {table_string}\n",
    "    %}}\n",
    "\\end{{table}}\n",
    "\"\"\"\n",
    "\n",
    "float_format = lambda x: (\"{:0.\" + str(decimal_places) + \"f}\").format(x) if not np.isnan(x) else \"-\"\n",
    "for fn in fns:\n",
    "    df = pd.read_csv(fn)\n",
    "\n",
    "    df = df.sort_values(by=\"set_id\", key=lambda column: column.map(lambda e: sorter.index(e)))\n",
    "    df = df.set_index(\"set_id\")\n",
    "    df = df.map(lambda x: f\"{x:.2f}\" if not isinstance(x, str) else x)\n",
    "    ranks = df.T.rank().T\n",
    "    for i, ((idx, row), (idx2, row2)) in enumerate(zip(df.iterrows(), ranks.iterrows())):\n",
    "        for j in range(len(row)):\n",
    "            row.iloc[j] = row.iloc[j] + f\" ({int(row2.iloc[j])})\"\n",
    "    scenario = fn.split(\"_\")[-1].split(\".\")[0]   \n",
    "\n",
    "    df.index.name = \"set\"\n",
    "    \n",
    "    table_str = df.to_latex(float_format=float_format, na_rep=\"-\").strip()\n",
    "    caption = f\"Mean Ranking for Scenario {scenario}\"\n",
    "    label = f\"tab:ranking_validation_{scenario}\"\n",
    "    table_str = final_str.format(table_string=table_str, label=label, caption=caption)\n",
    "\n",
    "    with open(fn + \".tex\", \"w\") as file:\n",
    "        file.write(table_str)\n",
    "    print(table_str)"
   ]
  }
 ],
 "metadata": {
  "kernelspec": {
   "display_name": "carpsexp",
   "language": "python",
   "name": "python3"
  },
  "language_info": {
   "codemirror_mode": {
    "name": "ipython",
    "version": 3
   },
   "file_extension": ".py",
   "mimetype": "text/x-python",
   "name": "python",
   "nbconvert_exporter": "python",
   "pygments_lexer": "ipython3",
   "version": "3.10.14"
  }
 },
 "nbformat": 4,
 "nbformat_minor": 2
}
