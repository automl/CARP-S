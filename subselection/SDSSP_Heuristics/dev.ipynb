{
 "cells": [
  {
   "cell_type": "code",
   "execution_count": 3,
   "id": "21614161",
   "metadata": {},
   "outputs": [
    {
     "data": {
      "text/html": [
       "<pre style=\"white-space:pre;overflow-x:auto;line-height:normal;font-family:Menlo,'DejaVu Sans Mono',consolas,'Courier New',monospace\"><span style=\"color: #7fbfbf; text-decoration-color: #7fbfbf\">[16:16:43] </span><span style=\"color: #000080; text-decoration-color: #000080\">INFO    </span> Starting subselecting sets by splitting<span style=\"color: #808000; text-decoration-color: #808000\">...</span>                                          <a href=\"file:///home/numina/Documents/repos/CARP-S-Experiments/lib/CARP-S/subselection/SDSSP_Heuristics/core.py\" target=\"_blank\"><span style=\"color: #7f7f7f; text-decoration-color: #7f7f7f\">core.py</span></a><span style=\"color: #7f7f7f; text-decoration-color: #7f7f7f\">:</span><a href=\"file:///home/numina/Documents/repos/CARP-S-Experiments/lib/CARP-S/subselection/SDSSP_Heuristics/core.py#106\" target=\"_blank\"><span style=\"color: #7f7f7f; text-decoration-color: #7f7f7f\">106</span></a>\n",
       "</pre>\n"
      ],
      "text/plain": [
       "\u001b[2;36m[16:16:43]\u001b[0m\u001b[2;36m \u001b[0m\u001b[34mINFO    \u001b[0m Starting subselecting sets by splitting\u001b[33m...\u001b[0m                                          \u001b]8;id=870562;file:///home/numina/Documents/repos/CARP-S-Experiments/lib/CARP-S/subselection/SDSSP_Heuristics/core.py\u001b\\\u001b[2mcore.py\u001b[0m\u001b]8;;\u001b\\\u001b[2m:\u001b[0m\u001b]8;id=699666;file:///home/numina/Documents/repos/CARP-S-Experiments/lib/CARP-S/subselection/SDSSP_Heuristics/core.py#106\u001b\\\u001b[2m106\u001b[0m\u001b]8;;\u001b\\\n"
      ]
     },
     "metadata": {},
     "output_type": "display_data"
    },
    {
     "data": {
      "text/html": [
       "<pre style=\"white-space:pre;overflow-x:auto;line-height:normal;font-family:Menlo,'DejaVu Sans Mono',consolas,'Courier New',monospace\"><span style=\"color: #7fbfbf; text-decoration-color: #7fbfbf\">           </span><span style=\"color: #000080; text-decoration-color: #000080\">INFO    </span> <span style=\"color: #808000; text-decoration-color: #808000\">...</span>select reduced set                                                               <a href=\"file:///home/numina/Documents/repos/CARP-S-Experiments/lib/CARP-S/subselection/SDSSP_Heuristics/core.py\" target=\"_blank\"><span style=\"color: #7f7f7f; text-decoration-color: #7f7f7f\">core.py</span></a><span style=\"color: #7f7f7f; text-decoration-color: #7f7f7f\">:</span><a href=\"file:///home/numina/Documents/repos/CARP-S-Experiments/lib/CARP-S/subselection/SDSSP_Heuristics/core.py#112\" target=\"_blank\"><span style=\"color: #7f7f7f; text-decoration-color: #7f7f7f\">112</span></a>\n",
       "</pre>\n"
      ],
      "text/plain": [
       "\u001b[2;36m          \u001b[0m\u001b[2;36m \u001b[0m\u001b[34mINFO    \u001b[0m \u001b[33m...\u001b[0mselect reduced set                                                               \u001b]8;id=163863;file:///home/numina/Documents/repos/CARP-S-Experiments/lib/CARP-S/subselection/SDSSP_Heuristics/core.py\u001b\\\u001b[2mcore.py\u001b[0m\u001b]8;;\u001b\\\u001b[2m:\u001b[0m\u001b]8;id=985416;file:///home/numina/Documents/repos/CARP-S-Experiments/lib/CARP-S/subselection/SDSSP_Heuristics/core.py#112\u001b\\\u001b[2m112\u001b[0m\u001b]8;;\u001b\\\n"
      ]
     },
     "metadata": {},
     "output_type": "display_data"
    },
    {
     "data": {
      "text/html": [
       "<pre style=\"white-space:pre;overflow-x:auto;line-height:normal;font-family:Menlo,'DejaVu Sans Mono',consolas,'Courier New',monospace\"><span style=\"color: #7fbfbf; text-decoration-color: #7fbfbf\">           </span><span style=\"color: #000080; text-decoration-color: #000080\">INFO    </span> Subselecting <span style=\"color: #008080; text-decoration-color: #008080; font-weight: bold\">10</span> points from <span style=\"color: #008080; text-decoration-color: #008080; font-weight: bold\">27</span> points.                                               <a href=\"file:///home/numina/Documents/repos/CARP-S-Experiments/lib/CARP-S/subselection/SDSSP_Heuristics/core.py\" target=\"_blank\"><span style=\"color: #7f7f7f; text-decoration-color: #7f7f7f\">core.py</span></a><span style=\"color: #7f7f7f; text-decoration-color: #7f7f7f\">:</span><a href=\"file:///home/numina/Documents/repos/CARP-S-Experiments/lib/CARP-S/subselection/SDSSP_Heuristics/core.py#43\" target=\"_blank\"><span style=\"color: #7f7f7f; text-decoration-color: #7f7f7f\">43</span></a>\n",
       "</pre>\n"
      ],
      "text/plain": [
       "\u001b[2;36m          \u001b[0m\u001b[2;36m \u001b[0m\u001b[34mINFO    \u001b[0m Subselecting \u001b[1;36m10\u001b[0m points from \u001b[1;36m27\u001b[0m points.                                               \u001b]8;id=180940;file:///home/numina/Documents/repos/CARP-S-Experiments/lib/CARP-S/subselection/SDSSP_Heuristics/core.py\u001b\\\u001b[2mcore.py\u001b[0m\u001b]8;;\u001b\\\u001b[2m:\u001b[0m\u001b]8;id=394960;file:///home/numina/Documents/repos/CARP-S-Experiments/lib/CARP-S/subselection/SDSSP_Heuristics/core.py#43\u001b\\\u001b[2m43\u001b[0m\u001b]8;;\u001b\\\n"
      ]
     },
     "metadata": {},
     "output_type": "display_data"
    },
    {
     "data": {
      "text/html": [
       "<pre style=\"white-space:pre;overflow-x:auto;line-height:normal;font-family:Menlo,'DejaVu Sans Mono',consolas,'Courier New',monospace\"><span style=\"color: #7fbfbf; text-decoration-color: #7fbfbf\">           </span><span style=\"color: #000080; text-decoration-color: #000080\">INFO    </span> export <span style=\"color: #808000; text-decoration-color: #808000\">SHIFT_TRIES</span>=<span style=\"color: #008080; text-decoration-color: #008080; font-weight: bold\">5000</span>; .<span style=\"color: #800080; text-decoration-color: #800080\">/</span><span style=\"color: #ff00ff; text-decoration-color: #ff00ff\">a.out</span>                                                     <a href=\"file:///home/numina/Documents/repos/CARP-S-Experiments/lib/CARP-S/subselection/SDSSP_Heuristics/core.py\" target=\"_blank\"><span style=\"color: #7f7f7f; text-decoration-color: #7f7f7f\">core.py</span></a><span style=\"color: #7f7f7f; text-decoration-color: #7f7f7f\">:</span><a href=\"file:///home/numina/Documents/repos/CARP-S-Experiments/lib/CARP-S/subselection/SDSSP_Heuristics/core.py#54\" target=\"_blank\"><span style=\"color: #7f7f7f; text-decoration-color: #7f7f7f\">54</span></a>\n",
       "<span style=\"color: #7fbfbf; text-decoration-color: #7fbfbf\">           </span>         <span style=\"color: #800080; text-decoration-color: #800080\">/home/numina/Documents/repos/CARP-S-Experiments/lib/CARP-S/subselection/SDSSP_Heuris</span> <span style=\"color: #7f7f7f; text-decoration-color: #7f7f7f\">          </span>\n",
       "<span style=\"color: #7fbfbf; text-decoration-color: #7fbfbf\">           </span>         <span style=\"color: #800080; text-decoration-color: #800080\">tics/</span><span style=\"color: #ff00ff; text-decoration-color: #ff00ff\">tmpfile_in_20250409161643.txt</span> <span style=\"color: #008080; text-decoration-color: #008080; font-weight: bold\">3</span> <span style=\"color: #008080; text-decoration-color: #008080; font-weight: bold\">27</span> <span style=\"color: #008080; text-decoration-color: #008080; font-weight: bold\">10</span>                                           <span style=\"color: #7f7f7f; text-decoration-color: #7f7f7f\">          </span>\n",
       "<span style=\"color: #7fbfbf; text-decoration-color: #7fbfbf\">           </span>         <span style=\"color: #800080; text-decoration-color: #800080\">/home/numina/Documents/repos/CARP-S-Experiments/lib/CARP-S/subselection/SDSSP_Heuris</span> <span style=\"color: #7f7f7f; text-decoration-color: #7f7f7f\">          </span>\n",
       "<span style=\"color: #7fbfbf; text-decoration-color: #7fbfbf\">           </span>         <span style=\"color: #800080; text-decoration-color: #800080\">tics/</span><span style=\"color: #ff00ff; text-decoration-color: #ff00ff\">tmpfile_out_20250409161643.txt</span>                                                  <span style=\"color: #7f7f7f; text-decoration-color: #7f7f7f\">          </span>\n",
       "</pre>\n"
      ],
      "text/plain": [
       "\u001b[2;36m          \u001b[0m\u001b[2;36m \u001b[0m\u001b[34mINFO    \u001b[0m export \u001b[33mSHIFT_TRIES\u001b[0m=\u001b[1;36m5000\u001b[0m; .\u001b[35m/\u001b[0m\u001b[95ma.out\u001b[0m                                                     \u001b]8;id=974126;file:///home/numina/Documents/repos/CARP-S-Experiments/lib/CARP-S/subselection/SDSSP_Heuristics/core.py\u001b\\\u001b[2mcore.py\u001b[0m\u001b]8;;\u001b\\\u001b[2m:\u001b[0m\u001b]8;id=101045;file:///home/numina/Documents/repos/CARP-S-Experiments/lib/CARP-S/subselection/SDSSP_Heuristics/core.py#54\u001b\\\u001b[2m54\u001b[0m\u001b]8;;\u001b\\\n",
       "\u001b[2;36m           \u001b[0m         \u001b[35m/home/numina/Documents/repos/CARP-S-Experiments/lib/CARP-S/subselection/SDSSP_Heuris\u001b[0m \u001b[2m          \u001b[0m\n",
       "\u001b[2;36m           \u001b[0m         \u001b[35mtics/\u001b[0m\u001b[95mtmpfile_in_20250409161643.txt\u001b[0m \u001b[1;36m3\u001b[0m \u001b[1;36m27\u001b[0m \u001b[1;36m10\u001b[0m                                           \u001b[2m          \u001b[0m\n",
       "\u001b[2;36m           \u001b[0m         \u001b[35m/home/numina/Documents/repos/CARP-S-Experiments/lib/CARP-S/subselection/SDSSP_Heuris\u001b[0m \u001b[2m          \u001b[0m\n",
       "\u001b[2;36m           \u001b[0m         \u001b[35mtics/\u001b[0m\u001b[95mtmpfile_out_20250409161643.txt\u001b[0m                                                  \u001b[2m          \u001b[0m\n"
      ]
     },
     "metadata": {},
     "output_type": "display_data"
    },
    {
     "data": {
      "text/html": [
       "<pre style=\"white-space:pre;overflow-x:auto;line-height:normal;font-family:Menlo,'DejaVu Sans Mono',consolas,'Courier New',monospace\"><span style=\"color: #7fbfbf; text-decoration-color: #7fbfbf\">[16:16:53] </span><span style=\"color: #000080; text-decoration-color: #000080\">INFO    </span> <span style=\"color: #808000; text-decoration-color: #808000\">...</span>select subset dev                                                                <a href=\"file:///home/numina/Documents/repos/CARP-S-Experiments/lib/CARP-S/subselection/SDSSP_Heuristics/core.py\" target=\"_blank\"><span style=\"color: #7f7f7f; text-decoration-color: #7f7f7f\">core.py</span></a><span style=\"color: #7f7f7f; text-decoration-color: #7f7f7f\">:</span><a href=\"file:///home/numina/Documents/repos/CARP-S-Experiments/lib/CARP-S/subselection/SDSSP_Heuristics/core.py#116\" target=\"_blank\"><span style=\"color: #7f7f7f; text-decoration-color: #7f7f7f\">116</span></a>\n",
       "</pre>\n"
      ],
      "text/plain": [
       "\u001b[2;36m[16:16:53]\u001b[0m\u001b[2;36m \u001b[0m\u001b[34mINFO    \u001b[0m \u001b[33m...\u001b[0mselect subset dev                                                                \u001b]8;id=154828;file:///home/numina/Documents/repos/CARP-S-Experiments/lib/CARP-S/subselection/SDSSP_Heuristics/core.py\u001b\\\u001b[2mcore.py\u001b[0m\u001b]8;;\u001b\\\u001b[2m:\u001b[0m\u001b]8;id=187801;file:///home/numina/Documents/repos/CARP-S-Experiments/lib/CARP-S/subselection/SDSSP_Heuristics/core.py#116\u001b\\\u001b[2m116\u001b[0m\u001b]8;;\u001b\\\n"
      ]
     },
     "metadata": {},
     "output_type": "display_data"
    },
    {
     "data": {
      "text/html": [
       "<pre style=\"white-space:pre;overflow-x:auto;line-height:normal;font-family:Menlo,'DejaVu Sans Mono',consolas,'Courier New',monospace\"><span style=\"color: #7fbfbf; text-decoration-color: #7fbfbf\">           </span><span style=\"color: #000080; text-decoration-color: #000080\">INFO    </span> Subselecting <span style=\"color: #008080; text-decoration-color: #008080; font-weight: bold\">5</span> points from <span style=\"color: #008080; text-decoration-color: #008080; font-weight: bold\">10</span> points.                                                <a href=\"file:///home/numina/Documents/repos/CARP-S-Experiments/lib/CARP-S/subselection/SDSSP_Heuristics/core.py\" target=\"_blank\"><span style=\"color: #7f7f7f; text-decoration-color: #7f7f7f\">core.py</span></a><span style=\"color: #7f7f7f; text-decoration-color: #7f7f7f\">:</span><a href=\"file:///home/numina/Documents/repos/CARP-S-Experiments/lib/CARP-S/subselection/SDSSP_Heuristics/core.py#43\" target=\"_blank\"><span style=\"color: #7f7f7f; text-decoration-color: #7f7f7f\">43</span></a>\n",
       "</pre>\n"
      ],
      "text/plain": [
       "\u001b[2;36m          \u001b[0m\u001b[2;36m \u001b[0m\u001b[34mINFO    \u001b[0m Subselecting \u001b[1;36m5\u001b[0m points from \u001b[1;36m10\u001b[0m points.                                                \u001b]8;id=97046;file:///home/numina/Documents/repos/CARP-S-Experiments/lib/CARP-S/subselection/SDSSP_Heuristics/core.py\u001b\\\u001b[2mcore.py\u001b[0m\u001b]8;;\u001b\\\u001b[2m:\u001b[0m\u001b]8;id=630336;file:///home/numina/Documents/repos/CARP-S-Experiments/lib/CARP-S/subselection/SDSSP_Heuristics/core.py#43\u001b\\\u001b[2m43\u001b[0m\u001b]8;;\u001b\\\n"
      ]
     },
     "metadata": {},
     "output_type": "display_data"
    },
    {
     "data": {
      "text/html": [
       "<pre style=\"white-space:pre;overflow-x:auto;line-height:normal;font-family:Menlo,'DejaVu Sans Mono',consolas,'Courier New',monospace\"><span style=\"color: #7fbfbf; text-decoration-color: #7fbfbf\">           </span><span style=\"color: #000080; text-decoration-color: #000080\">INFO    </span> export <span style=\"color: #808000; text-decoration-color: #808000\">SHIFT_TRIES</span>=<span style=\"color: #008080; text-decoration-color: #008080; font-weight: bold\">5000</span>; .<span style=\"color: #800080; text-decoration-color: #800080\">/</span><span style=\"color: #ff00ff; text-decoration-color: #ff00ff\">a.out</span>                                                     <a href=\"file:///home/numina/Documents/repos/CARP-S-Experiments/lib/CARP-S/subselection/SDSSP_Heuristics/core.py\" target=\"_blank\"><span style=\"color: #7f7f7f; text-decoration-color: #7f7f7f\">core.py</span></a><span style=\"color: #7f7f7f; text-decoration-color: #7f7f7f\">:</span><a href=\"file:///home/numina/Documents/repos/CARP-S-Experiments/lib/CARP-S/subselection/SDSSP_Heuristics/core.py#54\" target=\"_blank\"><span style=\"color: #7f7f7f; text-decoration-color: #7f7f7f\">54</span></a>\n",
       "<span style=\"color: #7fbfbf; text-decoration-color: #7fbfbf\">           </span>         <span style=\"color: #800080; text-decoration-color: #800080\">/home/numina/Documents/repos/CARP-S-Experiments/lib/CARP-S/subselection/SDSSP_Heuris</span> <span style=\"color: #7f7f7f; text-decoration-color: #7f7f7f\">          </span>\n",
       "<span style=\"color: #7fbfbf; text-decoration-color: #7fbfbf\">           </span>         <span style=\"color: #800080; text-decoration-color: #800080\">tics/</span><span style=\"color: #ff00ff; text-decoration-color: #ff00ff\">tmpfile_in_20250409161653.txt</span> <span style=\"color: #008080; text-decoration-color: #008080; font-weight: bold\">3</span> <span style=\"color: #008080; text-decoration-color: #008080; font-weight: bold\">10</span> <span style=\"color: #008080; text-decoration-color: #008080; font-weight: bold\">5</span>                                            <span style=\"color: #7f7f7f; text-decoration-color: #7f7f7f\">          </span>\n",
       "<span style=\"color: #7fbfbf; text-decoration-color: #7fbfbf\">           </span>         <span style=\"color: #800080; text-decoration-color: #800080\">/home/numina/Documents/repos/CARP-S-Experiments/lib/CARP-S/subselection/SDSSP_Heuris</span> <span style=\"color: #7f7f7f; text-decoration-color: #7f7f7f\">          </span>\n",
       "<span style=\"color: #7fbfbf; text-decoration-color: #7fbfbf\">           </span>         <span style=\"color: #800080; text-decoration-color: #800080\">tics/</span><span style=\"color: #ff00ff; text-decoration-color: #ff00ff\">tmpfile_out_20250409161653.txt</span>                                                  <span style=\"color: #7f7f7f; text-decoration-color: #7f7f7f\">          </span>\n",
       "</pre>\n"
      ],
      "text/plain": [
       "\u001b[2;36m          \u001b[0m\u001b[2;36m \u001b[0m\u001b[34mINFO    \u001b[0m export \u001b[33mSHIFT_TRIES\u001b[0m=\u001b[1;36m5000\u001b[0m; .\u001b[35m/\u001b[0m\u001b[95ma.out\u001b[0m                                                     \u001b]8;id=996927;file:///home/numina/Documents/repos/CARP-S-Experiments/lib/CARP-S/subselection/SDSSP_Heuristics/core.py\u001b\\\u001b[2mcore.py\u001b[0m\u001b]8;;\u001b\\\u001b[2m:\u001b[0m\u001b]8;id=980429;file:///home/numina/Documents/repos/CARP-S-Experiments/lib/CARP-S/subselection/SDSSP_Heuristics/core.py#54\u001b\\\u001b[2m54\u001b[0m\u001b]8;;\u001b\\\n",
       "\u001b[2;36m           \u001b[0m         \u001b[35m/home/numina/Documents/repos/CARP-S-Experiments/lib/CARP-S/subselection/SDSSP_Heuris\u001b[0m \u001b[2m          \u001b[0m\n",
       "\u001b[2;36m           \u001b[0m         \u001b[35mtics/\u001b[0m\u001b[95mtmpfile_in_20250409161653.txt\u001b[0m \u001b[1;36m3\u001b[0m \u001b[1;36m10\u001b[0m \u001b[1;36m5\u001b[0m                                            \u001b[2m          \u001b[0m\n",
       "\u001b[2;36m           \u001b[0m         \u001b[35m/home/numina/Documents/repos/CARP-S-Experiments/lib/CARP-S/subselection/SDSSP_Heuris\u001b[0m \u001b[2m          \u001b[0m\n",
       "\u001b[2;36m           \u001b[0m         \u001b[35mtics/\u001b[0m\u001b[95mtmpfile_out_20250409161653.txt\u001b[0m                                                  \u001b[2m          \u001b[0m\n"
      ]
     },
     "metadata": {},
     "output_type": "display_data"
    },
    {
     "data": {
      "text/html": [
       "<pre style=\"white-space:pre;overflow-x:auto;line-height:normal;font-family:Menlo,'DejaVu Sans Mono',consolas,'Courier New',monospace\"><span style=\"color: #7fbfbf; text-decoration-color: #7fbfbf\">[16:16:54] </span><span style=\"color: #000080; text-decoration-color: #000080\">INFO    </span> <span style=\"color: #808000; text-decoration-color: #808000\">...</span>select subset test                                                               <a href=\"file:///home/numina/Documents/repos/CARP-S-Experiments/lib/CARP-S/subselection/SDSSP_Heuristics/core.py\" target=\"_blank\"><span style=\"color: #7f7f7f; text-decoration-color: #7f7f7f\">core.py</span></a><span style=\"color: #7f7f7f; text-decoration-color: #7f7f7f\">:</span><a href=\"file:///home/numina/Documents/repos/CARP-S-Experiments/lib/CARP-S/subselection/SDSSP_Heuristics/core.py#116\" target=\"_blank\"><span style=\"color: #7f7f7f; text-decoration-color: #7f7f7f\">116</span></a>\n",
       "</pre>\n"
      ],
      "text/plain": [
       "\u001b[2;36m[16:16:54]\u001b[0m\u001b[2;36m \u001b[0m\u001b[34mINFO    \u001b[0m \u001b[33m...\u001b[0mselect subset test                                                               \u001b]8;id=887460;file:///home/numina/Documents/repos/CARP-S-Experiments/lib/CARP-S/subselection/SDSSP_Heuristics/core.py\u001b\\\u001b[2mcore.py\u001b[0m\u001b]8;;\u001b\\\u001b[2m:\u001b[0m\u001b]8;id=734819;file:///home/numina/Documents/repos/CARP-S-Experiments/lib/CARP-S/subselection/SDSSP_Heuristics/core.py#116\u001b\\\u001b[2m116\u001b[0m\u001b]8;;\u001b\\\n"
      ]
     },
     "metadata": {},
     "output_type": "display_data"
    },
    {
     "data": {
      "text/html": [
       "<pre style=\"white-space:pre;overflow-x:auto;line-height:normal;font-family:Menlo,'DejaVu Sans Mono',consolas,'Courier New',monospace\"><span style=\"color: #7fbfbf; text-decoration-color: #7fbfbf\">[16:16:55] </span><span style=\"color: #000080; text-decoration-color: #000080\">INFO    </span> Subselecting <span style=\"color: #008080; text-decoration-color: #008080; font-weight: bold\">5</span> points from <span style=\"color: #008080; text-decoration-color: #008080; font-weight: bold\">5</span> points.                                                 <a href=\"file:///home/numina/Documents/repos/CARP-S-Experiments/lib/CARP-S/subselection/SDSSP_Heuristics/core.py\" target=\"_blank\"><span style=\"color: #7f7f7f; text-decoration-color: #7f7f7f\">core.py</span></a><span style=\"color: #7f7f7f; text-decoration-color: #7f7f7f\">:</span><a href=\"file:///home/numina/Documents/repos/CARP-S-Experiments/lib/CARP-S/subselection/SDSSP_Heuristics/core.py#43\" target=\"_blank\"><span style=\"color: #7f7f7f; text-decoration-color: #7f7f7f\">43</span></a>\n",
       "</pre>\n"
      ],
      "text/plain": [
       "\u001b[2;36m[16:16:55]\u001b[0m\u001b[2;36m \u001b[0m\u001b[34mINFO    \u001b[0m Subselecting \u001b[1;36m5\u001b[0m points from \u001b[1;36m5\u001b[0m points.                                                 \u001b]8;id=381807;file:///home/numina/Documents/repos/CARP-S-Experiments/lib/CARP-S/subselection/SDSSP_Heuristics/core.py\u001b\\\u001b[2mcore.py\u001b[0m\u001b]8;;\u001b\\\u001b[2m:\u001b[0m\u001b]8;id=832808;file:///home/numina/Documents/repos/CARP-S-Experiments/lib/CARP-S/subselection/SDSSP_Heuristics/core.py#43\u001b\\\u001b[2m43\u001b[0m\u001b]8;;\u001b\\\n"
      ]
     },
     "metadata": {},
     "output_type": "display_data"
    },
    {
     "data": {
      "text/html": [
       "<pre style=\"white-space:pre;overflow-x:auto;line-height:normal;font-family:Menlo,'DejaVu Sans Mono',consolas,'Courier New',monospace\"><span style=\"color: #7fbfbf; text-decoration-color: #7fbfbf\">           </span><span style=\"color: #000080; text-decoration-color: #000080\">INFO    </span> export <span style=\"color: #808000; text-decoration-color: #808000\">SHIFT_TRIES</span>=<span style=\"color: #008080; text-decoration-color: #008080; font-weight: bold\">5000</span>; .<span style=\"color: #800080; text-decoration-color: #800080\">/</span><span style=\"color: #ff00ff; text-decoration-color: #ff00ff\">a.out</span>                                                     <a href=\"file:///home/numina/Documents/repos/CARP-S-Experiments/lib/CARP-S/subselection/SDSSP_Heuristics/core.py\" target=\"_blank\"><span style=\"color: #7f7f7f; text-decoration-color: #7f7f7f\">core.py</span></a><span style=\"color: #7f7f7f; text-decoration-color: #7f7f7f\">:</span><a href=\"file:///home/numina/Documents/repos/CARP-S-Experiments/lib/CARP-S/subselection/SDSSP_Heuristics/core.py#54\" target=\"_blank\"><span style=\"color: #7f7f7f; text-decoration-color: #7f7f7f\">54</span></a>\n",
       "<span style=\"color: #7fbfbf; text-decoration-color: #7fbfbf\">           </span>         <span style=\"color: #800080; text-decoration-color: #800080\">/home/numina/Documents/repos/CARP-S-Experiments/lib/CARP-S/subselection/SDSSP_Heuris</span> <span style=\"color: #7f7f7f; text-decoration-color: #7f7f7f\">          </span>\n",
       "<span style=\"color: #7fbfbf; text-decoration-color: #7fbfbf\">           </span>         <span style=\"color: #800080; text-decoration-color: #800080\">tics/</span><span style=\"color: #ff00ff; text-decoration-color: #ff00ff\">tmpfile_in_20250409161655.txt</span> <span style=\"color: #008080; text-decoration-color: #008080; font-weight: bold\">3</span> <span style=\"color: #008080; text-decoration-color: #008080; font-weight: bold\">5</span> <span style=\"color: #008080; text-decoration-color: #008080; font-weight: bold\">5</span>                                             <span style=\"color: #7f7f7f; text-decoration-color: #7f7f7f\">          </span>\n",
       "<span style=\"color: #7fbfbf; text-decoration-color: #7fbfbf\">           </span>         <span style=\"color: #800080; text-decoration-color: #800080\">/home/numina/Documents/repos/CARP-S-Experiments/lib/CARP-S/subselection/SDSSP_Heuris</span> <span style=\"color: #7f7f7f; text-decoration-color: #7f7f7f\">          </span>\n",
       "<span style=\"color: #7fbfbf; text-decoration-color: #7fbfbf\">           </span>         <span style=\"color: #800080; text-decoration-color: #800080\">tics/</span><span style=\"color: #ff00ff; text-decoration-color: #ff00ff\">tmpfile_out_20250409161655.txt</span>                                                  <span style=\"color: #7f7f7f; text-decoration-color: #7f7f7f\">          </span>\n",
       "</pre>\n"
      ],
      "text/plain": [
       "\u001b[2;36m          \u001b[0m\u001b[2;36m \u001b[0m\u001b[34mINFO    \u001b[0m export \u001b[33mSHIFT_TRIES\u001b[0m=\u001b[1;36m5000\u001b[0m; .\u001b[35m/\u001b[0m\u001b[95ma.out\u001b[0m                                                     \u001b]8;id=853736;file:///home/numina/Documents/repos/CARP-S-Experiments/lib/CARP-S/subselection/SDSSP_Heuristics/core.py\u001b\\\u001b[2mcore.py\u001b[0m\u001b]8;;\u001b\\\u001b[2m:\u001b[0m\u001b]8;id=6535;file:///home/numina/Documents/repos/CARP-S-Experiments/lib/CARP-S/subselection/SDSSP_Heuristics/core.py#54\u001b\\\u001b[2m54\u001b[0m\u001b]8;;\u001b\\\n",
       "\u001b[2;36m           \u001b[0m         \u001b[35m/home/numina/Documents/repos/CARP-S-Experiments/lib/CARP-S/subselection/SDSSP_Heuris\u001b[0m \u001b[2m          \u001b[0m\n",
       "\u001b[2;36m           \u001b[0m         \u001b[35mtics/\u001b[0m\u001b[95mtmpfile_in_20250409161655.txt\u001b[0m \u001b[1;36m3\u001b[0m \u001b[1;36m5\u001b[0m \u001b[1;36m5\u001b[0m                                             \u001b[2m          \u001b[0m\n",
       "\u001b[2;36m           \u001b[0m         \u001b[35m/home/numina/Documents/repos/CARP-S-Experiments/lib/CARP-S/subselection/SDSSP_Heuris\u001b[0m \u001b[2m          \u001b[0m\n",
       "\u001b[2;36m           \u001b[0m         \u001b[35mtics/\u001b[0m\u001b[95mtmpfile_out_20250409161655.txt\u001b[0m                                                  \u001b[2m          \u001b[0m\n"
      ]
     },
     "metadata": {},
     "output_type": "display_data"
    },
    {
     "data": {
      "text/plain": [
       "<matplotlib.legend.Legend at 0x7f6bd7ed71d0>"
      ]
     },
     "execution_count": 3,
     "metadata": {},
     "output_type": "execute_result"
    },
    {
     "data": {
      "image/png": "[encoded data removed]",
      "text/plain": [
       "<Figure size 640x480 with 1 Axes>"
      ]
     },
     "metadata": {},
     "output_type": "display_data"
    }
   ],
   "source": [
    "import numpy as np\n",
    "import matplotlib.pyplot as plt\n",
    "import pandas as pd\n",
    "import subprocess\n",
    "import seaborn as sns\n",
    "import datetime\n",
    "import shutil\n",
    "import os\n",
    "from pathlib import Path\n",
    "from core import select_sets_split\n",
    "\n",
    "df_crit_file = \"/home/numina/Documents/repos/CARP-S-Experiments/lib/CARP-S/subselection/data_subselection/MOMF/lognorm/df_crit.csv\"\n",
    "\n",
    "\n",
    "# python subselect.py subset_size=5 n_reps=5000 method='sequential' log_transform=false fullset_csv_path=/home/numina/Documents/repos/CARP-S-Experiments/lib/CARP-S/subselection/data_subselection/MOMF/lognorm/df_crit.csv executable=/home/numina/Documents/repos/CARP-S-Experiments/lib/CARP-S/subselection/SDSSP_Heuristics/a.out\n",
    "\n",
    "\n",
    "ks = [5, 6, 7, 8, 9, 10, 11, 12, 13]\n",
    "pointfile =\"pointfile.txt\"\n",
    "seed = 345765\n",
    "n_reps = 5000\n",
    "n_points = 10\n",
    "executable = \"./a.out\"\n",
    "\n",
    "\n",
    "\n",
    "\n",
    "color_palette = sns.color_palette(\"colorblind\", len(ks))\n",
    "rng = np.random.default_rng(seed)\n",
    "points = rng.uniform(0, 1, (n_points, 3))\n",
    "points_df = pd.DataFrame(points, columns=[\"x\", \"y\", \"z\"])\n",
    "points_df.to_csv(pointfile, sep=\" \", index=False, header=False)\n",
    "points_df = pd.read_csv(df_crit_file, sep=\",\", index_col=0)\n",
    "points = points_df.to_numpy()\n",
    "points_df.to_csv(pointfile, sep=\" \", index=False, header=False)\n",
    "n_points, dimension = points_df.to_numpy().shape\n",
    "\n",
    "plt.scatter(points[:, 0], points[:, 1], c=points[:, 2], s=100, cmap=\"viridis\")\n",
    "for i, k in enumerate(ks):\n",
    "    subset_df, metadata = select_sets_split(points_df=points_df, k=k, n_reps=n_reps, executable=executable)\n",
    "\n",
    "    sns.scatterplot(\n",
    "        data=subset_df,\n",
    "        x=subset_df.columns[0],\n",
    "        y=subset_df.columns[1],\n",
    "        hue=\"subset_id\",\n",
    "        palette=\"colorblind\",\n",
    "        s=100,\n",
    "        alpha=0.5,\n",
    "    )\n",
    "    break\n",
    "plt.legend()"
   ]
  },
  {
   "cell_type": "code",
   "execution_count": 4,
   "id": "1caf70bc",
   "metadata": {},
   "outputs": [
    {
     "name": "stdout",
     "output_type": "stream",
     "text": [
      "/home/numina/Documents/repos/CARP-S-Experiments/lib/CARP-S/subselection/SDSSP_Heuristics\n",
      "                                        RandomSearch  ...  Nevergrad-DE\n",
      "task_id                                               ...              \n",
      "yahpo/MOMF/epoch/lcbench/167152/epoch       0.669835  ...      0.333459\n",
      "yahpo/MOMF/epoch/lcbench/167185/epoch       0.666015  ...      0.319401\n",
      "yahpo/MOMF/epoch/lcbench/189873/epoch       0.860630  ...      0.677232\n",
      "yahpo/MOMF/repl/rbv2_ranger/375/repl        0.852673  ...      0.909484\n",
      "yahpo/MOMF/repl/rbv2_ranger/40979/repl      0.861899  ...      0.849029\n",
      "\n",
      "[5 rows x 3 columns]\n",
      "\u001b[2;36m[14:06:44]\u001b[0m\u001b[2;36m \u001b[0m\u001b[34mINFO    \u001b[0m Starting subselecting sets sequentially\u001b[33m...\u001b[0m       \u001b]8;id=336492;file:///home/numina/Documents/repos/CARP-S-Experiments/lib/CARP-S/subselection/SDSSP_Heuristics/core.py\u001b\\\u001b[2mcore.py\u001b[0m\u001b]8;;\u001b\\\u001b[2m:\u001b[0m\u001b]8;id=8757;file:///home/numina/Documents/repos/CARP-S-Experiments/lib/CARP-S/subselection/SDSSP_Heuristics/core.py#148\u001b\\\u001b[2m148\u001b[0m\u001b]8;;\u001b\\\n",
      "\u001b[2;36m          \u001b[0m\u001b[2;36m \u001b[0m\u001b[34mINFO    \u001b[0m \u001b[33m...\u001b[0mselect subset dev                             \u001b]8;id=194420;file:///home/numina/Documents/repos/CARP-S-Experiments/lib/CARP-S/subselection/SDSSP_Heuristics/core.py\u001b\\\u001b[2mcore.py\u001b[0m\u001b]8;;\u001b\\\u001b[2m:\u001b[0m\u001b]8;id=272105;file:///home/numina/Documents/repos/CARP-S-Experiments/lib/CARP-S/subselection/SDSSP_Heuristics/core.py#153\u001b\\\u001b[2m153\u001b[0m\u001b]8;;\u001b\\\n",
      "\u001b[2;36m          \u001b[0m\u001b[2;36m \u001b[0m\u001b[34mINFO    \u001b[0m Subselecting \u001b[1;36m5\u001b[0m points from \u001b[1;36m27\u001b[0m points.             \u001b]8;id=550898;file:///home/numina/Documents/repos/CARP-S-Experiments/lib/CARP-S/subselection/SDSSP_Heuristics/core.py\u001b\\\u001b[2mcore.py\u001b[0m\u001b]8;;\u001b\\\u001b[2m:\u001b[0m\u001b]8;id=140293;file:///home/numina/Documents/repos/CARP-S-Experiments/lib/CARP-S/subselection/SDSSP_Heuristics/core.py#43\u001b\\\u001b[2m43\u001b[0m\u001b]8;;\u001b\\\n"
     ]
    },
    {
     "name": "stdout",
     "output_type": "stream",
     "text": [
      "\u001b[2;36m          \u001b[0m\u001b[2;36m \u001b[0m\u001b[34mINFO    \u001b[0m export \u001b[33mSHIFT_TRIES\u001b[0m=\u001b[1;36m5000\u001b[0m; .\u001b[35m/\u001b[0m\u001b[95ma.out\u001b[0m                  \u001b]8;id=793080;file:///home/numina/Documents/repos/CARP-S-Experiments/lib/CARP-S/subselection/SDSSP_Heuristics/core.py\u001b\\\u001b[2mcore.py\u001b[0m\u001b]8;;\u001b\\\u001b[2m:\u001b[0m\u001b]8;id=615259;file:///home/numina/Documents/repos/CARP-S-Experiments/lib/CARP-S/subselection/SDSSP_Heuristics/core.py#54\u001b\\\u001b[2m54\u001b[0m\u001b]8;;\u001b\\\n",
      "\u001b[2;36m           \u001b[0m         \u001b[35m/home/numina/Documents/repos/CARP-S-Experiments/l\u001b[0m \u001b[2m          \u001b[0m\n",
      "\u001b[2;36m           \u001b[0m         \u001b[35mib/CARP-S/subselection/SDSSP_Heuristics/\u001b[0m\u001b[95mtmpfile_i\u001b[0m \u001b[2m          \u001b[0m\n",
      "\u001b[2;36m           \u001b[0m         \u001b[95mn_20250410140644.txt\u001b[0m \u001b[1;36m3\u001b[0m \u001b[1;36m27\u001b[0m \u001b[1;36m5\u001b[0m                       \u001b[2m          \u001b[0m\n",
      "\u001b[2;36m           \u001b[0m         \u001b[35m/home/numina/Documents/repos/CARP-S-Experiments/l\u001b[0m \u001b[2m          \u001b[0m\n",
      "\u001b[2;36m           \u001b[0m         \u001b[35mib/CARP-S/subselection/SDSSP_Heuristics/\u001b[0m\u001b[95mtmpfile_o\u001b[0m \u001b[2m          \u001b[0m\n",
      "\u001b[2;36m           \u001b[0m         \u001b[95mut_20250410140644.txt\u001b[0m                             \u001b[2m          \u001b[0m\n",
      "\u001b[2;36m[14:06:45]\u001b[0m\u001b[2;36m \u001b[0m\u001b[34mINFO    \u001b[0m stdout from executable: outfile:                  \u001b]8;id=347875;file:///home/numina/Documents/repos/CARP-S-Experiments/lib/CARP-S/subselection/SDSSP_Heuristics/core.py\u001b\\\u001b[2mcore.py\u001b[0m\u001b]8;;\u001b\\\u001b[2m:\u001b[0m\u001b]8;id=639268;file:///home/numina/Documents/repos/CARP-S-Experiments/lib/CARP-S/subselection/SDSSP_Heuristics/core.py#60\u001b\\\u001b[2m60\u001b[0m\u001b]8;;\u001b\\\n",
      "\u001b[2;36m           \u001b[0m         \u001b[35m/home/numina/Documents/repos/CARP-S-Experiments/l\u001b[0m \u001b[2m          \u001b[0m\n",
      "\u001b[2;36m           \u001b[0m         \u001b[35mib/CARP-S/subselection/SDSSP_Heuristics/\u001b[0m\u001b[95mtmpfile_o\u001b[0m \u001b[2m          \u001b[0m\n",
      "\u001b[2;36m           \u001b[0m         \u001b[95mut_20250410140644.txt\u001b[0m                             \u001b[2m          \u001b[0m\n",
      "\u001b[2;36m           \u001b[0m         Current working directory:                        \u001b[2m          \u001b[0m\n",
      "\u001b[2;36m           \u001b[0m         \u001b[35m/home/numina/Documents/repos/CARP-S-Experiments/l\u001b[0m \u001b[2m          \u001b[0m\n",
      "\u001b[2;36m           \u001b[0m         \u001b[35mib/CARP-S/subselection/\u001b[0m\u001b[95mSDSSP_Heuristics\u001b[0m           \u001b[2m          \u001b[0m\n",
      "\u001b[2;36m           \u001b[0m                                                           \u001b[2m          \u001b[0m\n",
      "\u001b[2;36m          \u001b[0m\u001b[2;36m \u001b[0m\u001b[34mINFO    \u001b[0m stderr from executable:                           \u001b]8;id=924436;file:///home/numina/Documents/repos/CARP-S-Experiments/lib/CARP-S/subselection/SDSSP_Heuristics/core.py\u001b\\\u001b[2mcore.py\u001b[0m\u001b]8;;\u001b\\\u001b[2m:\u001b[0m\u001b]8;id=505907;file:///home/numina/Documents/repos/CARP-S-Experiments/lib/CARP-S/subselection/SDSSP_Heuristics/core.py#61\u001b\\\u001b[2m61\u001b[0m\u001b]8;;\u001b\\\n",
      "\u001b[2;36m           \u001b[0m                                                           \u001b[2m          \u001b[0m\n",
      "\u001b[2;36m           \u001b[0m          Reading dim \u001b[1;36m3\u001b[0m npoints \u001b[1;36m27\u001b[0m kpoints \u001b[1;36m5\u001b[0m Sorted points \u001b[2m          \u001b[0m\n",
      "\u001b[2;36m           \u001b[0m         Nb calcu:\u001b[1;36m23\u001b[0m, Final discr\u001b[1;92me:1\u001b[0m.\u001b[1;36m000000\u001b[0m                \u001b[2m          \u001b[0m\n",
      "\u001b[2;36m           \u001b[0m         Natural: \u001b[1;36m0\u001b[0m, Brute: \u001b[1;36m0\u001b[0m, Discr: \u001b[1;36m1.\u001b[0m000000Sorted       \u001b[2m          \u001b[0m\n",
      "\u001b[2;36m           \u001b[0m         points                                            \u001b[2m          \u001b[0m\n",
      "\u001b[2;36m           \u001b[0m         Nb calcu:\u001b[1;36m22\u001b[0m, Final discr\u001b[1;92me:1\u001b[0m.\u001b[1;36m000000\u001b[0m                \u001b[2m          \u001b[0m\n",
      "\u001b[2;36m           \u001b[0m         Natural: \u001b[1;36m0\u001b[0m, Brute: \u001b[1;36m0\u001b[0m, Discr: \u001b[1;36m1.\u001b[0m000000Sorted       \u001b[2m          \u001b[0m\n",
      "\u001b[2;36m           \u001b[0m         points                                            \u001b[2m          \u001b[0m\n",
      "\u001b[2;36m           \u001b[0m         Nb calcu:\u001b[1;36m29\u001b[0m, Final discr\u001b[1;92me:1\u001b[0m.\u001b[1;36m000000\u001b[0m                \u001b[2m          \u001b[0m\n",
      "\u001b[2;36m           \u001b[0m         Natural: \u001b[1;36m0\u001b[0m, Brute: \u001b[1;36m0\u001b[0m, Discr: \u001b[1;36m1.\u001b[0m000000Sorted       \u001b[2m          \u001b[0m\n",
      "\u001b[2;36m           \u001b[0m         points                                            \u001b[2m          \u001b[0m\n",
      "\u001b[2;36m           \u001b[0m         Nb calcu:\u001b[1;36m30\u001b[0m, Final discr\u001b[1;92me:1\u001b[0m.\u001b[1;36m000000\u001b[0m                \u001b[2m          \u001b[0m\n",
      "\u001b[2;36m           \u001b[0m         Natural: \u001b[1;36m0\u001b[0m, Brute: \u001b[1;36m0\u001b[0m, Discr: \u001b[1;36m1.\u001b[0m000000Sorted       \u001b[2m          \u001b[0m\n",
      "\u001b[2;36m           \u001b[0m         points                                            \u001b[2m          \u001b[0m\n",
      "\u001b[2;36m           \u001b[0m         Nb calcu:\u001b[1;36m22\u001b[0m, Final discr\u001b[1;92me:1\u001b[0m.\u001b[1;36m000000\u001b[0m                \u001b[2m          \u001b[0m\n",
      "\u001b[2;36m           \u001b[0m         Natural: \u001b[1;36m0\u001b[0m, Brute: \u001b[1;36m0\u001b[0m, Discr: \u001b[1;36m1.\u001b[0m000000Sorted       \u001b[2m          \u001b[0m\n",
      "\u001b[2;36m           \u001b[0m         points                                            \u001b[2m          \u001b[0m\n",
      "\u001b[2;36m           \u001b[0m         Nb calcu:\u001b[1;36m22\u001b[0m, Fina                                 \u001b[2m          \u001b[0m\n"
     ]
    },
    {
     "ename": "FileNotFoundError",
     "evalue": "[Errno 2] No such file or directory: '/home/numina/Documents/repos/CARP-S-Experiments/lib/CARP-S/subselection/SDSSP_Heuristics/tmpfile_out_20250410140644.txt'",
     "output_type": "error",
     "traceback": [
      "\u001b[31m---------------------------------------------------------------------------\u001b[39m",
      "\u001b[31mFileNotFoundError\u001b[39m                         Traceback (most recent call last)",
      "\u001b[36mCell\u001b[39m\u001b[36m \u001b[39m\u001b[32mIn[4]\u001b[39m\u001b[32m, line 53\u001b[39m\n\u001b[32m     48\u001b[39m     \u001b[38;5;66;03m# points_df = points_df.fillna(0)\u001b[39;00m\n\u001b[32m     49\u001b[39m \n\u001b[32m     50\u001b[39m \n\u001b[32m     51\u001b[39m \u001b[38;5;66;03m# Select sets using the specified method\u001b[39;00m\n\u001b[32m     52\u001b[39m \u001b[38;5;28;01mif\u001b[39;00m method == \u001b[33m\"\u001b[39m\u001b[33msequential\u001b[39m\u001b[33m\"\u001b[39m:\n\u001b[32m---> \u001b[39m\u001b[32m53\u001b[39m     subset_df, metadata = \u001b[43mselect_sets_sequential\u001b[49m\u001b[43m(\u001b[49m\n\u001b[32m     54\u001b[39m \u001b[43m        \u001b[49m\u001b[43mpoints_df\u001b[49m\u001b[43m,\u001b[49m\u001b[43m \u001b[49m\u001b[43msubset_size\u001b[49m\u001b[43m,\u001b[49m\u001b[43m \u001b[49m\u001b[43mn_reps\u001b[49m\u001b[43m,\u001b[49m\u001b[43m \u001b[49m\u001b[43mexecutable\u001b[49m\u001b[43m,\u001b[49m\u001b[43m \u001b[49m\u001b[43msubset_ids\u001b[49m\u001b[43m)\u001b[49m\n\u001b[32m     55\u001b[39m \u001b[38;5;28;01melif\u001b[39;00m method == \u001b[33m\"\u001b[39m\u001b[33msplit\u001b[39m\u001b[33m\"\u001b[39m:\n\u001b[32m     56\u001b[39m     subset_df, metadata = select_sets_split(\n\u001b[32m     57\u001b[39m         points_df, subset_size, n_reps, executable, subset_ids)\n",
      "\u001b[36mFile \u001b[39m\u001b[32m~/Documents/repos/CARP-S-Experiments/lib/CARP-S/subselection/SDSSP_Heuristics/core.py:154\u001b[39m, in \u001b[36mselect_sets_sequential\u001b[39m\u001b[34m(points_df, k, n_reps, executable, subset_ids)\u001b[39m\n\u001b[32m    152\u001b[39m \u001b[38;5;28;01mfor\u001b[39;00m subset_id \u001b[38;5;129;01min\u001b[39;00m subset_ids:\n\u001b[32m    153\u001b[39m     logger.info(\u001b[33mf\u001b[39m\u001b[33m\"\u001b[39m\u001b[33m...select subset \u001b[39m\u001b[38;5;132;01m{\u001b[39;00msubset_id\u001b[38;5;132;01m}\u001b[39;00m\u001b[33m\"\u001b[39m)\n\u001b[32m--> \u001b[39m\u001b[32m154\u001b[39m     subset_df, metadata = \u001b[43msubselect\u001b[49m\u001b[43m(\u001b[49m\u001b[43mfullset_df\u001b[49m\u001b[43m,\u001b[49m\u001b[43m \u001b[49m\u001b[43mk\u001b[49m\u001b[43m,\u001b[49m\u001b[43m \u001b[49m\u001b[43mn_reps\u001b[49m\u001b[43m,\u001b[49m\u001b[43m \u001b[49m\u001b[43mexecutable\u001b[49m\u001b[43m)\u001b[49m\n\u001b[32m    155\u001b[39m     subset_df[\u001b[33m\"\u001b[39m\u001b[33msubset_id\u001b[39m\u001b[33m\"\u001b[39m] = subset_id\n\u001b[32m    156\u001b[39m     subsets.append(subset_df)\n",
      "\u001b[36mFile \u001b[39m\u001b[32m~/Documents/repos/CARP-S-Experiments/lib/CARP-S/subselection/SDSSP_Heuristics/core.py:64\u001b[39m, in \u001b[36msubselect\u001b[39m\u001b[34m(points_df, k, n_reps, executable)\u001b[39m\n\u001b[32m     61\u001b[39m logger.info(\u001b[33mf\u001b[39m\u001b[33m\"\u001b[39m\u001b[33mstderr from executable: \u001b[39m\u001b[38;5;132;01m{\u001b[39;00mresult.stderr[:\u001b[32m500\u001b[39m]\u001b[38;5;132;01m}\u001b[39;00m\u001b[33m\"\u001b[39m)\n\u001b[32m     63\u001b[39m \u001b[38;5;66;03m# outfile = Path(os.getcwd()) / outfile\u001b[39;00m\n\u001b[32m---> \u001b[39m\u001b[32m64\u001b[39m \u001b[38;5;28;01mwith\u001b[39;00m \u001b[38;5;28;43mopen\u001b[39;49m\u001b[43m(\u001b[49m\u001b[43moutfile\u001b[49m\u001b[43m)\u001b[49m \u001b[38;5;28;01mas\u001b[39;00m f:\n\u001b[32m     65\u001b[39m     lines = f.readlines()\n\u001b[32m     66\u001b[39m     metadata_str = lines[\u001b[32m0\u001b[39m]\n",
      "\u001b[31mFileNotFoundError\u001b[39m: [Errno 2] No such file or directory: '/home/numina/Documents/repos/CARP-S-Experiments/lib/CARP-S/subselection/SDSSP_Heuristics/tmpfile_out_20250410140644.txt'"
     ]
    }
   ],
   "source": [
    "from subselect import _subselect\n",
    "import os\n",
    "from core  import select_sets_sequential, select_sets_split\n",
    "import pandas as pd\n",
    "\n",
    "# _subselect(\n",
    "    # subset_size=5,\n",
    "    # n_reps=5000,\n",
    "    # method=\"sequential\",\n",
    "    # log_transform=False,\n",
    "    # fullset_csv_path=\"/home/numina/Documents/repos/CARP-S-Experiments/lib/CARP-S/subselection/data_subselection/MOMF/lognorm/df_crit.csv\",\n",
    "    # executable=\"./a.out\",\n",
    "    # output_subset_file: str = \"subsets.csv\",\n",
    "    # output_metadata_file: str = \"metadata.csv\",\n",
    "# )\n",
    "subset_size=5\n",
    "n_reps=5000\n",
    "method=\"sequential\"\n",
    "log_transform=False\n",
    "fullset_csv_path=\"/home/numina/Documents/repos/CARP-S-Experiments/lib/CARP-S/subselection/data_subselection/MOMF/lognorm/df_crit.csv\"\n",
    "executable=\"./a.out\"\n",
    "subset_ids=(\"dev\", \"test\")\n",
    "output_subset_file: str = \"subsets.csv\"\n",
    "output_metadata_file: str = \"metadata.csv\"\n",
    "\n",
    "print(os.getcwd())\n",
    "\n",
    "# Load points DataFrame\n",
    "points_df = pd.read_csv(fullset_csv_path)\n",
    "\n",
    "# Fix index\n",
    "points_df = points_df.rename(columns={\"problem_id\": \"task_id\"})\n",
    "points_df = points_df.set_index(\"task_id\")\n",
    "points_df.index.name = \"task_id\"\n",
    "print(points_df.head())\n",
    "\n",
    "# assert all(0<= points_df.to_numpy() <= 1), \"Values in the DataFrame must be in the unit cube [0, 1].\"\n",
    "# Min max scale to unit cube\n",
    "points_df = points_df.sub(points_df.min(axis=1), axis=0)\n",
    "points_df = points_df.div(points_df.max(axis=1), axis=0)\n",
    "\n",
    "if log_transform:\n",
    "    # Apply log transformation to the DataFrame\n",
    "    points_df = points_df.map(lambda x: np.log10(x + 1e-10))\n",
    "    # Stretch to unit cube per row\n",
    "    points_df = points_df.sub(points_df.min(axis=1), axis=0)\n",
    "    points_df = points_df.div(points_df.max(axis=1), axis=0)\n",
    "    # points_df = points_df.fillna(0)\n",
    "\n",
    "\n",
    "# Select sets using the specified method\n",
    "if method == \"sequential\":\n",
    "    subset_df, metadata = select_sets_sequential(\n",
    "        points_df, subset_size, n_reps, executable, subset_ids)\n",
    "elif method == \"split\":\n",
    "    subset_df, metadata = select_sets_split(\n",
    "        points_df, subset_size, n_reps, executable, subset_ids)\n",
    "else:\n",
    "    raise ValueError(f\"Unknown method: {method}\")\n",
    "\n",
    "# Save the selected subsets and metadata\n",
    "subset_df.to_csv(output_subset_file, index=False)\n",
    "metadata.to_csv(output_metadata_file, index=False)"
   ]
  },
  {
   "cell_type": "markdown",
   "id": "6dab20e7",
   "metadata": {},
   "source": [
    "```bash\n",
    "# Single\n",
    "python subselect.py subset_size=5 n_reps=5000 method='split' log_transform=false fullset_csv_path=/home/numina/Documents/repos/CARP-S-Experiments/lib/CARP-S/subselection/data_subselection/MOMF/lognorm/df_crit.csv executable=/home/numina/Documents/repos/CARP-S-Experiments/lib/CARP-S/subselection/SDSSP_Heuristics/a.out\n",
    "\n",
    "# Sweep\n",
    "python subselect.py subset_size=3,4,5,6,7,8,9,10,11,12,13 n_reps=10,100,1000,5000,10000 method=split,sequential log_transform=true,false fullset_csv_path=/home/numina/Documents/repos/CARP-S-Experiments/lib/CARP-S/subselection/data_subselection/MOMF/default/df_crit.csv executable=/home/numina/Documents/repos/CARP-S-Experiments/lib/CARP-S/subselection/SDSSP_Heuristics/a.out -m\n",
    "```"
   ]
  },
  {
   "cell_type": "code",
   "execution_count": 10,
   "id": "6a821903",
   "metadata": {},
   "outputs": [
    {
     "data": {
      "application/vnd.microsoft.datawrangler.viewer.v0+json": {
       "columns": [
        {
         "name": "index",
         "rawType": "int64",
         "type": "integer"
        },
        {
         "name": "subset_size",
         "rawType": "int64",
         "type": "integer"
        },
        {
         "name": "n_reps",
         "rawType": "int64",
         "type": "integer"
        },
        {
         "name": "method",
         "rawType": "object",
         "type": "string"
        },
        {
         "name": "task_type",
         "rawType": "object",
         "type": "string"
        },
        {
         "name": "log_transform",
         "rawType": "bool",
         "type": "boolean"
        },
        {
         "name": "discrepancy_sum",
         "rawType": "float64",
         "type": "float"
        }
       ],
       "conversionMethod": "pd.DataFrame",
       "ref": "758b2a1f-02ee-473e-845e-dbbb2af79497",
       "rows": [
        [
         "0",
         "12",
         "10000",
         "split",
         "BB",
         "False",
         "2.0"
        ],
        [
         "1",
         "12",
         "10000",
         "split",
         "BB",
         "True",
         "2.0"
        ],
        [
         "2",
         "12",
         "10",
         "split",
         "BB",
         "False",
         "2.0"
        ],
        [
         "3",
         "12",
         "10",
         "split",
         "BB",
         "True",
         "2.0"
        ],
        [
         "4",
         "12",
         "100",
         "split",
         "BB",
         "False",
         "2.0"
        ],
        [
         "5",
         "12",
         "100",
         "split",
         "BB",
         "True",
         "2.0"
        ],
        [
         "6",
         "12",
         "1000",
         "split",
         "BB",
         "False",
         "2.0"
        ],
        [
         "7",
         "12",
         "1000",
         "split",
         "BB",
         "True",
         "2.0"
        ],
        [
         "8",
         "12",
         "5000",
         "split",
         "BB",
         "False",
         "2.0"
        ],
        [
         "9",
         "12",
         "5000",
         "split",
         "BB",
         "True",
         "2.0"
        ],
        [
         "10",
         "8",
         "10000",
         "split",
         "BB",
         "False",
         "2.0"
        ],
        [
         "11",
         "8",
         "10000",
         "split",
         "BB",
         "True",
         "2.0"
        ],
        [
         "12",
         "8",
         "10",
         "split",
         "BB",
         "False",
         "2.0"
        ],
        [
         "13",
         "8",
         "10",
         "split",
         "BB",
         "True",
         "2.0"
        ],
        [
         "14",
         "8",
         "100",
         "split",
         "BB",
         "False",
         "2.0"
        ],
        [
         "15",
         "8",
         "100",
         "split",
         "BB",
         "True",
         "2.0"
        ],
        [
         "16",
         "8",
         "1000",
         "split",
         "BB",
         "False",
         "2.0"
        ],
        [
         "17",
         "8",
         "1000",
         "split",
         "BB",
         "True",
         "2.0"
        ],
        [
         "18",
         "8",
         "5000",
         "split",
         "BB",
         "False",
         "2.0"
        ],
        [
         "19",
         "8",
         "5000",
         "split",
         "BB",
         "True",
         "2.0"
        ],
        [
         "20",
         "13",
         "10000",
         "split",
         "BB",
         "False",
         "2.0"
        ],
        [
         "21",
         "13",
         "10000",
         "split",
         "BB",
         "True",
         "2.0"
        ],
        [
         "22",
         "13",
         "10",
         "split",
         "BB",
         "False",
         "2.0"
        ],
        [
         "23",
         "13",
         "10",
         "split",
         "BB",
         "True",
         "2.0"
        ],
        [
         "24",
         "13",
         "100",
         "split",
         "BB",
         "False",
         "2.0"
        ],
        [
         "25",
         "13",
         "100",
         "split",
         "BB",
         "True",
         "2.0"
        ],
        [
         "26",
         "13",
         "1000",
         "split",
         "BB",
         "False",
         "2.0"
        ],
        [
         "27",
         "13",
         "1000",
         "split",
         "BB",
         "True",
         "2.0"
        ],
        [
         "28",
         "13",
         "5000",
         "split",
         "BB",
         "False",
         "2.0"
        ],
        [
         "29",
         "13",
         "5000",
         "split",
         "BB",
         "True",
         "2.0"
        ],
        [
         "30",
         "10",
         "10000",
         "split",
         "BB",
         "False",
         "2.0"
        ],
        [
         "31",
         "10",
         "10000",
         "split",
         "BB",
         "True",
         "2.0"
        ],
        [
         "32",
         "10",
         "10",
         "split",
         "BB",
         "False",
         "2.0"
        ],
        [
         "33",
         "10",
         "10",
         "split",
         "BB",
         "True",
         "2.0"
        ],
        [
         "34",
         "10",
         "100",
         "split",
         "BB",
         "False",
         "2.0"
        ],
        [
         "35",
         "10",
         "100",
         "split",
         "BB",
         "True",
         "2.0"
        ],
        [
         "36",
         "10",
         "1000",
         "split",
         "BB",
         "False",
         "2.0"
        ],
        [
         "37",
         "10",
         "1000",
         "split",
         "BB",
         "True",
         "2.0"
        ],
        [
         "38",
         "10",
         "5000",
         "split",
         "BB",
         "False",
         "2.0"
        ],
        [
         "39",
         "10",
         "5000",
         "split",
         "BB",
         "True",
         "2.0"
        ],
        [
         "40",
         "11",
         "10000",
         "split",
         "BB",
         "False",
         "2.0"
        ],
        [
         "41",
         "11",
         "10000",
         "split",
         "BB",
         "True",
         "2.0"
        ],
        [
         "42",
         "11",
         "10",
         "split",
         "BB",
         "False",
         "2.0"
        ],
        [
         "43",
         "11",
         "10",
         "split",
         "BB",
         "True",
         "2.0"
        ],
        [
         "44",
         "11",
         "100",
         "split",
         "BB",
         "False",
         "2.0"
        ],
        [
         "45",
         "11",
         "100",
         "split",
         "BB",
         "True",
         "2.0"
        ],
        [
         "46",
         "11",
         "1000",
         "split",
         "BB",
         "False",
         "2.0"
        ],
        [
         "47",
         "11",
         "1000",
         "split",
         "BB",
         "True",
         "2.0"
        ],
        [
         "48",
         "11",
         "5000",
         "split",
         "BB",
         "False",
         "2.0"
        ],
        [
         "49",
         "11",
         "5000",
         "split",
         "BB",
         "True",
         "2.0"
        ]
       ],
       "shape": {
        "columns": 6,
        "rows": 220
       }
      },
      "text/html": [
       "<div>\n",
       "<style scoped>\n",
       "    .dataframe tbody tr th:only-of-type {\n",
       "        vertical-align: middle;\n",
       "    }\n",
       "\n",
       "    .dataframe tbody tr th {\n",
       "        vertical-align: top;\n",
       "    }\n",
       "\n",
       "    .dataframe thead th {\n",
       "        text-align: right;\n",
       "    }\n",
       "</style>\n",
       "<table border=\"1\" class=\"dataframe\">\n",
       "  <thead>\n",
       "    <tr style=\"text-align: right;\">\n",
       "      <th></th>\n",
       "      <th>subset_size</th>\n",
       "      <th>n_reps</th>\n",
       "      <th>method</th>\n",
       "      <th>task_type</th>\n",
       "      <th>log_transform</th>\n",
       "      <th>discrepancy_sum</th>\n",
       "    </tr>\n",
       "  </thead>\n",
       "  <tbody>\n",
       "    <tr>\n",
       "      <th>0</th>\n",
       "      <td>12</td>\n",
       "      <td>10000</td>\n",
       "      <td>split</td>\n",
       "      <td>BB</td>\n",
       "      <td>False</td>\n",
       "      <td>2.0</td>\n",
       "    </tr>\n",
       "    <tr>\n",
       "      <th>1</th>\n",
       "      <td>12</td>\n",
       "      <td>10000</td>\n",
       "      <td>split</td>\n",
       "      <td>BB</td>\n",
       "      <td>True</td>\n",
       "      <td>2.0</td>\n",
       "    </tr>\n",
       "    <tr>\n",
       "      <th>2</th>\n",
       "      <td>12</td>\n",
       "      <td>10</td>\n",
       "      <td>split</td>\n",
       "      <td>BB</td>\n",
       "      <td>False</td>\n",
       "      <td>2.0</td>\n",
       "    </tr>\n",
       "    <tr>\n",
       "      <th>3</th>\n",
       "      <td>12</td>\n",
       "      <td>10</td>\n",
       "      <td>split</td>\n",
       "      <td>BB</td>\n",
       "      <td>True</td>\n",
       "      <td>2.0</td>\n",
       "    </tr>\n",
       "    <tr>\n",
       "      <th>4</th>\n",
       "      <td>12</td>\n",
       "      <td>100</td>\n",
       "      <td>split</td>\n",
       "      <td>BB</td>\n",
       "      <td>False</td>\n",
       "      <td>2.0</td>\n",
       "    </tr>\n",
       "    <tr>\n",
       "      <th>...</th>\n",
       "      <td>...</td>\n",
       "      <td>...</td>\n",
       "      <td>...</td>\n",
       "      <td>...</td>\n",
       "      <td>...</td>\n",
       "      <td>...</td>\n",
       "    </tr>\n",
       "    <tr>\n",
       "      <th>215</th>\n",
       "      <td>3</td>\n",
       "      <td>100</td>\n",
       "      <td>sequential</td>\n",
       "      <td>BB</td>\n",
       "      <td>True</td>\n",
       "      <td>2.0</td>\n",
       "    </tr>\n",
       "    <tr>\n",
       "      <th>216</th>\n",
       "      <td>3</td>\n",
       "      <td>1000</td>\n",
       "      <td>sequential</td>\n",
       "      <td>BB</td>\n",
       "      <td>False</td>\n",
       "      <td>2.0</td>\n",
       "    </tr>\n",
       "    <tr>\n",
       "      <th>217</th>\n",
       "      <td>3</td>\n",
       "      <td>1000</td>\n",
       "      <td>sequential</td>\n",
       "      <td>BB</td>\n",
       "      <td>True</td>\n",
       "      <td>2.0</td>\n",
       "    </tr>\n",
       "    <tr>\n",
       "      <th>218</th>\n",
       "      <td>3</td>\n",
       "      <td>5000</td>\n",
       "      <td>sequential</td>\n",
       "      <td>BB</td>\n",
       "      <td>False</td>\n",
       "      <td>2.0</td>\n",
       "    </tr>\n",
       "    <tr>\n",
       "      <th>219</th>\n",
       "      <td>3</td>\n",
       "      <td>5000</td>\n",
       "      <td>sequential</td>\n",
       "      <td>BB</td>\n",
       "      <td>True</td>\n",
       "      <td>2.0</td>\n",
       "    </tr>\n",
       "  </tbody>\n",
       "</table>\n",
       "<p>220 rows × 6 columns</p>\n",
       "</div>"
      ],
      "text/plain": [
       "     subset_size  n_reps      method task_type  log_transform  discrepancy_sum\n",
       "0             12   10000       split        BB          False              2.0\n",
       "1             12   10000       split        BB           True              2.0\n",
       "2             12      10       split        BB          False              2.0\n",
       "3             12      10       split        BB           True              2.0\n",
       "4             12     100       split        BB          False              2.0\n",
       "..           ...     ...         ...       ...            ...              ...\n",
       "215            3     100  sequential        BB           True              2.0\n",
       "216            3    1000  sequential        BB          False              2.0\n",
       "217            3    1000  sequential        BB           True              2.0\n",
       "218            3    5000  sequential        BB          False              2.0\n",
       "219            3    5000  sequential        BB           True              2.0\n",
       "\n",
       "[220 rows x 6 columns]"
      ]
     },
     "execution_count": 10,
     "metadata": {},
     "output_type": "execute_result"
    }
   ],
   "source": [
    "# Scrape\n",
    "from pathlib import Path\n",
    "from omegaconf import OmegaConf\n",
    "import pandas as pd\n",
    "\n",
    "outdir = Path(\"output_subselection\")\n",
    "hydra_config_fn = \"config.yaml\"\n",
    "metadata_fn = \"metadata.csv\"\n",
    "subset_fn = \"subsets.csv\"\n",
    "hydra_dir_name = \".hydra\"\n",
    "rundirs = list(outdir.glob(f\"**/{hydra_dir_name}\"))\n",
    "configs = [OmegaConf.load(rundir / hydra_config_fn) for rundir in rundirs]\n",
    "metadata = [pd.read_csv(rundir.parent / metadata_fn) for rundir in rundirs]\n",
    "subsets = [pd.read_csv(rundir.parent / subset_fn) for rundir in rundirs]\n",
    "plot_data = []\n",
    "for cfg, meta in zip(configs, metadata):\n",
    "    meta[\"task_type\"] = cfg.task_type\n",
    "    meta[\"log_transform\"] = cfg.log_transform\n",
    "    assert len(meta) == 2\n",
    "\n",
    "    plot_data.append({\n",
    "        \"subset_size\": cfg.subset_size,\n",
    "        \"n_reps\": cfg.n_reps,\n",
    "        \"method\": cfg.method,\n",
    "        \"task_type\": cfg.task_type,\n",
    "        \"log_transform\": cfg.log_transform,\n",
    "        \"discrepancy_sum\": meta[\"discrepancy\"].sum()\n",
    "    }\n",
    "                     )\n",
    "metadata = pd.concat(metadata, ignore_index=True)\n",
    "plot_data = pd.DataFrame(plot_data)\n",
    "plot_data"
   ]
  },
  {
   "cell_type": "code",
   "execution_count": 14,
   "id": "05e09186",
   "metadata": {},
   "outputs": [
    {
     "data": {
      "text/plain": [
       "<Axes: xlabel='discrepancy_sum', ylabel='Count'>"
      ]
     },
     "execution_count": 14,
     "metadata": {},
     "output_type": "execute_result"
    },
    {
     "data": {
      "image/png": "[encoded data removed]",
      "text/plain": [
       "<Figure size 640x480 with 1 Axes>"
      ]
     },
     "metadata": {},
     "output_type": "display_data"
    }
   ],
   "source": [
    "import seaborn as sns\n",
    "\n",
    "sns.histplot(data=plot_data, x=\"discrepancy_sum\", hue=None, bins=20, kde=True)"
   ]
  },
  {
   "cell_type": "code",
   "execution_count": 10,
   "id": "73f1260a",
   "metadata": {},
   "outputs": [
    {
     "data": {
      "application/vnd.microsoft.datawrangler.viewer.v0+json": {
       "columns": [
        {
         "name": "problem_id",
         "rawType": "object",
         "type": "string"
        },
        {
         "name": "RandomSearch",
         "rawType": "float64",
         "type": "float"
        },
        {
         "name": "SMAC3-MOMF-GP",
         "rawType": "float64",
         "type": "float"
        },
        {
         "name": "Nevergrad-DE",
         "rawType": "float64",
         "type": "float"
        },
        {
         "name": "subset_id",
         "rawType": "object",
         "type": "string"
        }
       ],
       "conversionMethod": "pd.DataFrame",
       "ref": "1dcd870f-14de-4cf6-b7e7-8a6892e68894",
       "rows": [
        [
         "yahpo/MOMF/trainsize/iaml_xgboost/1489/trainsize",
         "0.46971461243799906",
         "0.4054637921392567",
         "0.8001774848984656",
         "dev"
        ],
        [
         "yahpo/MOMF/trainsize/iaml_ranger/1067/trainsize",
         "0.9390486446258496",
         "0.420320692419918",
         "0.9170108979405059",
         "dev"
        ],
        [
         "yahpo/MOMF/epoch/lcbench/189873/epoch",
         "0.8606304127695951",
         "0.8529036203012711",
         "0.6772320946608461",
         "dev"
        ],
        [
         "yahpo/MOMF/trainsize/rbv2_xgboost/182/trainsize",
         "0.0917431117409805",
         "0.0",
         "0.33936001367112734",
         "dev"
        ],
        [
         "yahpo/MOMF/epoch/lcbench/167185/epoch",
         "0.6660153635518339",
         "0.64402261966696",
         "0.319400587914516",
         "dev"
        ],
        [
         "yahpo/MOMF/trainsize/rbv2_ranger/6/trainsize",
         "0.769941470010267",
         "0.0312720651082628",
         "0.7392249507393237",
         "test"
        ],
        [
         "yahpo/MOMF/trainsize/iaml_glmnet/1067/trainsize",
         "0.4700813408634164",
         "0.3901357530917",
         "0.0",
         "test"
        ],
        [
         "yahpo/MOMF/repl/rbv2_xgboost/12/repl",
         "0.103834278000309",
         "0.6833181093802453",
         "0.4441117002486226",
         "test"
        ],
        [
         "yahpo/MOMF/trainsize/rbv2_xgboost/12/trainsize",
         "0.2944533680542893",
         "0.4571901868852304",
         "0.8708934121307876",
         "test"
        ],
        [
         "yahpo/MOMF/trainsize/iaml_ranger/1489/trainsize",
         "1.0",
         "0.6324542835745559",
         "1.0",
         "test"
        ]
       ],
       "shape": {
        "columns": 4,
        "rows": 10
       }
      },
      "text/html": [
       "<div>\n",
       "<style scoped>\n",
       "    .dataframe tbody tr th:only-of-type {\n",
       "        vertical-align: middle;\n",
       "    }\n",
       "\n",
       "    .dataframe tbody tr th {\n",
       "        vertical-align: top;\n",
       "    }\n",
       "\n",
       "    .dataframe thead th {\n",
       "        text-align: right;\n",
       "    }\n",
       "</style>\n",
       "<table border=\"1\" class=\"dataframe\">\n",
       "  <thead>\n",
       "    <tr style=\"text-align: right;\">\n",
       "      <th></th>\n",
       "      <th>RandomSearch</th>\n",
       "      <th>SMAC3-MOMF-GP</th>\n",
       "      <th>Nevergrad-DE</th>\n",
       "      <th>subset_id</th>\n",
       "    </tr>\n",
       "    <tr>\n",
       "      <th>problem_id</th>\n",
       "      <th></th>\n",
       "      <th></th>\n",
       "      <th></th>\n",
       "      <th></th>\n",
       "    </tr>\n",
       "  </thead>\n",
       "  <tbody>\n",
       "    <tr>\n",
       "      <th>yahpo/MOMF/trainsize/iaml_xgboost/1489/trainsize</th>\n",
       "      <td>0.469715</td>\n",
       "      <td>0.405464</td>\n",
       "      <td>0.800177</td>\n",
       "      <td>dev</td>\n",
       "    </tr>\n",
       "    <tr>\n",
       "      <th>yahpo/MOMF/trainsize/iaml_ranger/1067/trainsize</th>\n",
       "      <td>0.939049</td>\n",
       "      <td>0.420321</td>\n",
       "      <td>0.917011</td>\n",
       "      <td>dev</td>\n",
       "    </tr>\n",
       "    <tr>\n",
       "      <th>yahpo/MOMF/epoch/lcbench/189873/epoch</th>\n",
       "      <td>0.860630</td>\n",
       "      <td>0.852904</td>\n",
       "      <td>0.677232</td>\n",
       "      <td>dev</td>\n",
       "    </tr>\n",
       "    <tr>\n",
       "      <th>yahpo/MOMF/trainsize/rbv2_xgboost/182/trainsize</th>\n",
       "      <td>0.091743</td>\n",
       "      <td>0.000000</td>\n",
       "      <td>0.339360</td>\n",
       "      <td>dev</td>\n",
       "    </tr>\n",
       "    <tr>\n",
       "      <th>yahpo/MOMF/epoch/lcbench/167185/epoch</th>\n",
       "      <td>0.666015</td>\n",
       "      <td>0.644023</td>\n",
       "      <td>0.319401</td>\n",
       "      <td>dev</td>\n",
       "    </tr>\n",
       "    <tr>\n",
       "      <th>yahpo/MOMF/trainsize/rbv2_ranger/6/trainsize</th>\n",
       "      <td>0.769941</td>\n",
       "      <td>0.031272</td>\n",
       "      <td>0.739225</td>\n",
       "      <td>test</td>\n",
       "    </tr>\n",
       "    <tr>\n",
       "      <th>yahpo/MOMF/trainsize/iaml_glmnet/1067/trainsize</th>\n",
       "      <td>0.470081</td>\n",
       "      <td>0.390136</td>\n",
       "      <td>0.000000</td>\n",
       "      <td>test</td>\n",
       "    </tr>\n",
       "    <tr>\n",
       "      <th>yahpo/MOMF/repl/rbv2_xgboost/12/repl</th>\n",
       "      <td>0.103834</td>\n",
       "      <td>0.683318</td>\n",
       "      <td>0.444112</td>\n",
       "      <td>test</td>\n",
       "    </tr>\n",
       "    <tr>\n",
       "      <th>yahpo/MOMF/trainsize/rbv2_xgboost/12/trainsize</th>\n",
       "      <td>0.294453</td>\n",
       "      <td>0.457190</td>\n",
       "      <td>0.870893</td>\n",
       "      <td>test</td>\n",
       "    </tr>\n",
       "    <tr>\n",
       "      <th>yahpo/MOMF/trainsize/iaml_ranger/1489/trainsize</th>\n",
       "      <td>1.000000</td>\n",
       "      <td>0.632454</td>\n",
       "      <td>1.000000</td>\n",
       "      <td>test</td>\n",
       "    </tr>\n",
       "  </tbody>\n",
       "</table>\n",
       "</div>"
      ],
      "text/plain": [
       "                                                  RandomSearch  ...  subset_id\n",
       "problem_id                                                      ...           \n",
       "yahpo/MOMF/trainsize/iaml_xgboost/1489/trainsize      0.469715  ...        dev\n",
       "yahpo/MOMF/trainsize/iaml_ranger/1067/trainsize       0.939049  ...        dev\n",
       "yahpo/MOMF/epoch/lcbench/189873/epoch                 0.860630  ...        dev\n",
       "yahpo/MOMF/trainsize/rbv2_xgboost/182/trainsize       0.091743  ...        dev\n",
       "yahpo/MOMF/epoch/lcbench/167185/epoch                 0.666015  ...        dev\n",
       "yahpo/MOMF/trainsize/rbv2_ranger/6/trainsize          0.769941  ...       test\n",
       "yahpo/MOMF/trainsize/iaml_glmnet/1067/trainsize       0.470081  ...       test\n",
       "yahpo/MOMF/repl/rbv2_xgboost/12/repl                  0.103834  ...       test\n",
       "yahpo/MOMF/trainsize/rbv2_xgboost/12/trainsize        0.294453  ...       test\n",
       "yahpo/MOMF/trainsize/iaml_ranger/1489/trainsize       1.000000  ...       test\n",
       "\n",
       "[10 rows x 4 columns]"
      ]
     },
     "execution_count": 10,
     "metadata": {},
     "output_type": "execute_result"
    }
   ],
   "source": [
    "subset_df"
   ]
  }
 ],
 "metadata": {
  "kernelspec": {
   "display_name": "carpsenv",
   "language": "python",
   "name": "python3"
  },
  "language_info": {
   "codemirror_mode": {
    "name": "ipython",
    "version": 3
   },
   "file_extension": ".py",
   "mimetype": "text/x-python",
   "name": "python",
   "nbconvert_exporter": "python",
   "pygments_lexer": "ipython3",
   "version": "3.12.9"
  }
 },
 "nbformat": 4,
 "nbformat_minor": 5
}
