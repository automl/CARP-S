{
 "cells": [
  {
   "cell_type": "code",
   "execution_count": 27,
   "metadata": {},
   "outputs": [
    {
     "data": {
      "text/plain": [
       "39"
      ]
     },
     "execution_count": 27,
     "metadata": {},
     "output_type": "execute_result"
    }
   ],
   "source": [
    "from pathlib import Path\n",
    "# blackbox\n",
    "path = Path(\"carps/configs/problem/YAHPO/blackbox\")\n",
    "path = Path(\"carps/configs/problem/HPOB/all\")\n",
    "path = Path(\"carps/configs/problem/HPOBench/blackbox/surr\")\n",
    "path = Path(\"carps/configs/problem/HPOBench/blackbox/tab\")\n",
    "# multifidelity\n",
    "path = Path(\"carps/configs/problem/HPOBench/multifidelity\")\n",
    "path = Path(\"carps/configs/problem/YAHPO/multifidelity/all\")\n",
    "# path = Path(\"carps/configs/problem/MFPBench/pd1\")\n",
    "# path = Path(\"carps/configs/problem/MFPBench/mfh\")\n",
    "config_fns = list(path.glob(\"*epoch.yaml\"))\n",
    "config_fns.sort()\n",
    "len(config_fns)"
   ]
  },
  {
   "cell_type": "markdown",
   "metadata": {},
   "source": [
    "```bash\n",
    "## BLACKBOX\n",
    "# Optimizers: Random Search, CMA-ES, SMAC-BO\n",
    "# YAHPO all. 856\n",
    "'+problem/YAHPO/blackbox=glob(*)' seed=1\n",
    "'+problem/YAHPO/blackbox=glob(*)' seed=2\n",
    "'+problem/YAHPO/blackbox=glob(*)' seed=3\n",
    "'+problem/YAHPO/blackbox=glob(*)' seed=4\n",
    "'+problem/YAHPO/blackbox=glob(*)' seed=5\n",
    "'+problem/YAHPO/blackbox=glob(*)' seed=6\n",
    "'+problem/YAHPO/blackbox=glob(*)' seed=7\n",
    "'+problem/YAHPO/blackbox=glob(*)' seed=8\n",
    "'+problem/YAHPO/blackbox=glob(*)' seed=9\n",
    "'+problem/YAHPO/blackbox=glob(*)' seed=10\n",
    "'+problem/YAHPO/blackbox=glob(*)' seed=11\n",
    "'+problem/YAHPO/blackbox=glob(*)' seed=12\n",
    "'+problem/YAHPO/blackbox=glob(*)' seed=13\n",
    "'+problem/YAHPO/blackbox=glob(*)' seed=14\n",
    "'+problem/YAHPO/blackbox=glob(*)' seed=15\n",
    "'+problem/YAHPO/blackbox=glob(*)' seed=16\n",
    "'+problem/YAHPO/blackbox=glob(*)' seed=17\n",
    "'+problem/YAHPO/blackbox=glob(*)' seed=18\n",
    "'+problem/YAHPO/blackbox=glob(*)' seed=19\n",
    "'+problem/YAHPO/blackbox=glob(*)' seed=20\n",
    "\n",
    "# HPOB all. 1907\n",
    "'+problem/HPOB/all=glob(*)'  # script\n",
    "\n",
    "# HPOBench surr. 7\n",
    "'+problem/HPOBench/blackbox/surr=glob(*)' 'seed=range(1,21)'\n",
    "\n",
    "# HPOBench tab. 88\n",
    "'+problem/HPOBench/blackbox/tab=glob(*)' 'seed=range(1,11)'\n",
    "'+problem/HPOBench/blackbox/tab=glob(*)' 'seed=range(11,21)'\n",
    "\n",
    "# OptBench 3\n",
    "\n",
    "# BBOB 24 (n * 24)\n",
    "\n",
    "## MULTIFIDELITY\n",
    "# Optimizers: Hyperband, BOHB, DEHB\n",
    "# HPOBench MF. 156\n",
    "'+problem/HPOBench/multifidelity=glob(*)' 'seed=range(1,7)'\n",
    "'+problem/HPOBench/multifidelity=glob(*)' 'seed=range(7,13)'\n",
    "'+problem/HPOBench/multifidelity=glob(*)' 'seed=range(13,19)'\n",
    "'+problem/HPOBench/multifidelity=glob(*)' 'seed=range(19,21)'\n",
    "\n",
    "# YAHPO MF all. 1653\n",
    "# repl 797\n",
    "'+problem/YAHPO/multifidelity/all=glob(*repl)' seed=1\n",
    "'+problem/YAHPO/multifidelity/all=glob(*repl)' seed=2\n",
    "'+problem/YAHPO/multifidelity/all=glob(*repl)' seed=3\n",
    "'+problem/YAHPO/multifidelity/all=glob(*repl)' seed=4\n",
    "'+problem/YAHPO/multifidelity/all=glob(*repl)' seed=5\n",
    "'+problem/YAHPO/multifidelity/all=glob(*repl)' seed=6\n",
    "'+problem/YAHPO/multifidelity/all=glob(*repl)' seed=7\n",
    "'+problem/YAHPO/multifidelity/all=glob(*repl)' seed=8\n",
    "'+problem/YAHPO/multifidelity/all=glob(*repl)' seed=9\n",
    "'+problem/YAHPO/multifidelity/all=glob(*repl)' seed=10\n",
    "'+problem/YAHPO/multifidelity/all=glob(*repl)' seed=11\n",
    "'+problem/YAHPO/multifidelity/all=glob(*repl)' seed=12\n",
    "'+problem/YAHPO/multifidelity/all=glob(*repl)' seed=13\n",
    "'+problem/YAHPO/multifidelity/all=glob(*repl)' seed=14\n",
    "'+problem/YAHPO/multifidelity/all=glob(*repl)' seed=15\n",
    "'+problem/YAHPO/multifidelity/all=glob(*repl)' seed=16\n",
    "'+problem/YAHPO/multifidelity/all=glob(*repl)' seed=17\n",
    "'+problem/YAHPO/multifidelity/all=glob(*repl)' seed=18\n",
    "'+problem/YAHPO/multifidelity/all=glob(*repl)' seed=19\n",
    "'+problem/YAHPO/multifidelity/all=glob(*repl)' seed=20\n",
    "# trainsize 817\n",
    "'+problem/YAHPO/multifidelity/all=glob(*trainsize)' seed=1\n",
    "'+problem/YAHPO/multifidelity/all=glob(*trainsize)' seed=2\n",
    "'+problem/YAHPO/multifidelity/all=glob(*trainsize)' seed=3\n",
    "'+problem/YAHPO/multifidelity/all=glob(*trainsize)' seed=4\n",
    "'+problem/YAHPO/multifidelity/all=glob(*trainsize)' seed=5\n",
    "'+problem/YAHPO/multifidelity/all=glob(*trainsize)' seed=6\n",
    "'+problem/YAHPO/multifidelity/all=glob(*trainsize)' seed=7\n",
    "'+problem/YAHPO/multifidelity/all=glob(*trainsize)' seed=8\n",
    "'+problem/YAHPO/multifidelity/all=glob(*trainsize)' seed=9\n",
    "'+problem/YAHPO/multifidelity/all=glob(*trainsize)' seed=10\n",
    "'+problem/YAHPO/multifidelity/all=glob(*trainsize)' seed=11\n",
    "'+problem/YAHPO/multifidelity/all=glob(*trainsize)' seed=12\n",
    "'+problem/YAHPO/multifidelity/all=glob(*trainsize)' seed=13\n",
    "'+problem/YAHPO/multifidelity/all=glob(*trainsize)' seed=14\n",
    "'+problem/YAHPO/multifidelity/all=glob(*trainsize)' seed=15\n",
    "'+problem/YAHPO/multifidelity/all=glob(*trainsize)' seed=16\n",
    "'+problem/YAHPO/multifidelity/all=glob(*trainsize)' seed=17\n",
    "'+problem/YAHPO/multifidelity/all=glob(*trainsize)' seed=18\n",
    "'+problem/YAHPO/multifidelity/all=glob(*trainsize)' seed=19\n",
    "'+problem/YAHPO/multifidelity/all=glob(*trainsize)' seed=20\n",
    "# epoch 39\n",
    "'+problem/YAHPO/multifidelity/all=glob(*epoch)' 'seed=range(1,21)'\n",
    "\n",
    "# MFPBench PD1. 4\n",
    "'+problem/MFPBench/pd1=glob(*)' 'seed=range(1,21)'\n",
    "\n",
    "# MFPBench mfh. 8\n",
    "'+problem/MFPBench/mfh=glob(*)' 'seed=range(1,21)'\n",
    "\n",
    "\n",
    "```"
   ]
  },
  {
   "cell_type": "code",
   "execution_count": 1,
   "metadata": {},
   "outputs": [
    {
     "name": "stderr",
     "output_type": "stream",
     "text": [
      "/tmp/ipykernel_275460/627675346.py:2: DtypeWarning: Columns (19,23,24,25,26,27,30) have mixed types. Specify dtype option on import or set low_memory=False.\n",
      "  df = pd.read_csv(\"/scratch/hpc-prf-intexml/cbenjamins/repos/CARP-S-Experiments/lib/CARP-S/runs/SMAC3-Hyperband/logs.csv\")\n"
     ]
    }
   ],
   "source": [
    "import pandas as pd\n",
    "df = pd.read_csv(\"/scratch/hpc-prf-intexml/cbenjamins/repos/CARP-S-Experiments/lib/CARP-S/runs/SMAC3-Hyperband/logs.csv\")"
   ]
  },
  {
   "cell_type": "code",
   "execution_count": 17,
   "metadata": {},
   "outputs": [
    {
     "data": {
      "text/plain": [
       "Index(['trial_info__config', 'benchmark_id', 'problem_id', 'optimizer_id',\n",
       "       'problem.model', 'problem.budget_type', 'problem.bench',\n",
       "       'problem.instance', 'problem.metric', 'problem.benchmark_name',\n",
       "       'problem.benchmark', 'problem.benchmark_kwargs.datadir', 'scenario'],\n",
       "      dtype='object')"
      ]
     },
     "execution_count": 17,
     "metadata": {},
     "output_type": "execute_result"
    }
   ],
   "source": [
    "dtypes = df.dtypes.to_dict()\n",
    "df.select_dtypes(include=['O']).columns"
   ]
  },
  {
   "cell_type": "code",
   "execution_count": 1,
   "metadata": {},
   "outputs": [
    {
     "data": {
      "text/plain": [
       "100"
      ]
     },
     "execution_count": 1,
     "metadata": {},
     "output_type": "execute_result"
    }
   ],
   "source": [
    "import numpy as np\n",
    "def get_n_trials(dimension: int) -> int:\n",
    "    return int(np.ceil(20 + 40 * np.sqrt(dimension)))\n",
    "\n",
    "\n",
    "get_n_trials(4)"
   ]
  },
  {
   "cell_type": "code",
   "execution_count": 10,
   "metadata": {},
   "outputs": [
    {
     "name": "stdout",
     "output_type": "stream",
     "text": [
      "output: ['x_0' 'x_1' 'x_2']\n",
      "expected: [0.09972031 0.91072326 0.16544557]\n"
     ]
    }
   ],
   "source": [
    "import numpy as np\n",
    "from ConfigSpace import ConfigurationSpace, Float\n",
    "\n",
    "cs = ConfigurationSpace()\n",
    "for i in range(3):\n",
    "    cs.add_hyperparameter(Float(f\"x_{i}\", (0, 1)))\n",
    "\n",
    "config = cs.sample_configuration()\n",
    "print(\"output:\", np.array(config))\n",
    "print(\"expected:\", config.get_array())"
   ]
  }
 ],
 "metadata": {
  "kernelspec": {
   "display_name": "Python 3",
   "language": "python",
   "name": "python3"
  },
  "language_info": {
   "codemirror_mode": {
    "name": "ipython",
    "version": 3
   },
   "file_extension": ".py",
   "mimetype": "text/x-python",
   "name": "python",
   "nbconvert_exporter": "python",
   "pygments_lexer": "ipython3",
   "version": "3.10.14"
  }
 },
 "nbformat": 4,
 "nbformat_minor": 2
}
