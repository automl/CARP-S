{
 "cells": [
  {
   "cell_type": "code",
   "execution_count": 24,
   "metadata": {},
   "outputs": [],
   "source": [
    "from pathlib import Path\n",
    "\n",
    "# Config should match Problem init\n",
    "\n",
    "base_path = Path(\"smacbenchmarking/configs/problem\")\n",
    "\n",
    "# Problem ids\n",
    "benchmark_id_hpobench = \"HPOBench\""
   ]
  },
  {
   "cell_type": "markdown",
   "metadata": {},
   "source": [
    "# HPOBench"
   ]
  },
  {
   "cell_type": "code",
   "execution_count": 26,
   "metadata": {},
   "outputs": [
    {
     "name": "stdout",
     "output_type": "stream",
     "text": [
      "{'benchmark_id': 'HPOBench', 'problem_id': 'ml/lr/10101', 'problem': {'_target_': 'smacbenchmarking.benchmarks.hpo_bench.HPOBenchProblem', 'model': 'lr', 'task_id': 10101, 'seed': '${seed}'}, 'task': {'n_trials': 100, 'n_objectives': 1}}\n",
      "{'benchmark_id': 'HPOBench', 'problem_id': 'ml/lr/53', 'problem': {'_target_': 'smacbenchmarking.benchmarks.hpo_bench.HPOBenchProblem', 'model': 'lr', 'task_id': 53, 'seed': '${seed}'}, 'task': {'n_trials': 100, 'n_objectives': 1}}\n",
      "{'benchmark_id': 'HPOBench', 'problem_id': 'ml/lr/146818', 'problem': {'_target_': 'smacbenchmarking.benchmarks.hpo_bench.HPOBenchProblem', 'model': 'lr', 'task_id': 146818, 'seed': '${seed}'}, 'task': {'n_trials': 100, 'n_objectives': 1}}\n",
      "{'benchmark_id': 'HPOBench', 'problem_id': 'ml/lr/146821', 'problem': {'_target_': 'smacbenchmarking.benchmarks.hpo_bench.HPOBenchProblem', 'model': 'lr', 'task_id': 146821, 'seed': '${seed}'}, 'task': {'n_trials': 100, 'n_objectives': 1}}\n",
      "{'benchmark_id': 'HPOBench', 'problem_id': 'ml/lr/9952', 'problem': {'_target_': 'smacbenchmarking.benchmarks.hpo_bench.HPOBenchProblem', 'model': 'lr', 'task_id': 9952, 'seed': '${seed}'}, 'task': {'n_trials': 100, 'n_objectives': 1}}\n",
      "{'benchmark_id': 'HPOBench', 'problem_id': 'ml/lr/146822', 'problem': {'_target_': 'smacbenchmarking.benchmarks.hpo_bench.HPOBenchProblem', 'model': 'lr', 'task_id': 146822, 'seed': '${seed}'}, 'task': {'n_trials': 100, 'n_objectives': 1}}\n",
      "{'benchmark_id': 'HPOBench', 'problem_id': 'ml/lr/31', 'problem': {'_target_': 'smacbenchmarking.benchmarks.hpo_bench.HPOBenchProblem', 'model': 'lr', 'task_id': 31, 'seed': '${seed}'}, 'task': {'n_trials': 100, 'n_objectives': 1}}\n",
      "{'benchmark_id': 'HPOBench', 'problem_id': 'ml/lr/3917', 'problem': {'_target_': 'smacbenchmarking.benchmarks.hpo_bench.HPOBenchProblem', 'model': 'lr', 'task_id': 3917, 'seed': '${seed}'}, 'task': {'n_trials': 100, 'n_objectives': 1}}\n",
      "{'benchmark_id': 'HPOBench', 'problem_id': 'ml/nn/10101', 'problem': {'_target_': 'smacbenchmarking.benchmarks.hpo_bench.HPOBenchProblem', 'model': 'nn', 'task_id': 10101, 'seed': '${seed}'}, 'task': {'n_trials': 100, 'n_objectives': 1}}\n",
      "{'benchmark_id': 'HPOBench', 'problem_id': 'ml/nn/53', 'problem': {'_target_': 'smacbenchmarking.benchmarks.hpo_bench.HPOBenchProblem', 'model': 'nn', 'task_id': 53, 'seed': '${seed}'}, 'task': {'n_trials': 100, 'n_objectives': 1}}\n",
      "{'benchmark_id': 'HPOBench', 'problem_id': 'ml/nn/146818', 'problem': {'_target_': 'smacbenchmarking.benchmarks.hpo_bench.HPOBenchProblem', 'model': 'nn', 'task_id': 146818, 'seed': '${seed}'}, 'task': {'n_trials': 100, 'n_objectives': 1}}\n",
      "{'benchmark_id': 'HPOBench', 'problem_id': 'ml/nn/146821', 'problem': {'_target_': 'smacbenchmarking.benchmarks.hpo_bench.HPOBenchProblem', 'model': 'nn', 'task_id': 146821, 'seed': '${seed}'}, 'task': {'n_trials': 100, 'n_objectives': 1}}\n",
      "{'benchmark_id': 'HPOBench', 'problem_id': 'ml/nn/9952', 'problem': {'_target_': 'smacbenchmarking.benchmarks.hpo_bench.HPOBenchProblem', 'model': 'nn', 'task_id': 9952, 'seed': '${seed}'}, 'task': {'n_trials': 100, 'n_objectives': 1}}\n",
      "{'benchmark_id': 'HPOBench', 'problem_id': 'ml/nn/146822', 'problem': {'_target_': 'smacbenchmarking.benchmarks.hpo_bench.HPOBenchProblem', 'model': 'nn', 'task_id': 146822, 'seed': '${seed}'}, 'task': {'n_trials': 100, 'n_objectives': 1}}\n",
      "{'benchmark_id': 'HPOBench', 'problem_id': 'ml/nn/31', 'problem': {'_target_': 'smacbenchmarking.benchmarks.hpo_bench.HPOBenchProblem', 'model': 'nn', 'task_id': 31, 'seed': '${seed}'}, 'task': {'n_trials': 100, 'n_objectives': 1}}\n",
      "{'benchmark_id': 'HPOBench', 'problem_id': 'ml/nn/3917', 'problem': {'_target_': 'smacbenchmarking.benchmarks.hpo_bench.HPOBenchProblem', 'model': 'nn', 'task_id': 3917, 'seed': '${seed}'}, 'task': {'n_trials': 100, 'n_objectives': 1}}\n",
      "{'benchmark_id': 'HPOBench', 'problem_id': 'ml/rf/10101', 'problem': {'_target_': 'smacbenchmarking.benchmarks.hpo_bench.HPOBenchProblem', 'model': 'rf', 'task_id': 10101, 'seed': '${seed}'}, 'task': {'n_trials': 100, 'n_objectives': 1}}\n",
      "{'benchmark_id': 'HPOBench', 'problem_id': 'ml/rf/53', 'problem': {'_target_': 'smacbenchmarking.benchmarks.hpo_bench.HPOBenchProblem', 'model': 'rf', 'task_id': 53, 'seed': '${seed}'}, 'task': {'n_trials': 100, 'n_objectives': 1}}\n",
      "{'benchmark_id': 'HPOBench', 'problem_id': 'ml/rf/146818', 'problem': {'_target_': 'smacbenchmarking.benchmarks.hpo_bench.HPOBenchProblem', 'model': 'rf', 'task_id': 146818, 'seed': '${seed}'}, 'task': {'n_trials': 100, 'n_objectives': 1}}\n",
      "{'benchmark_id': 'HPOBench', 'problem_id': 'ml/rf/146821', 'problem': {'_target_': 'smacbenchmarking.benchmarks.hpo_bench.HPOBenchProblem', 'model': 'rf', 'task_id': 146821, 'seed': '${seed}'}, 'task': {'n_trials': 100, 'n_objectives': 1}}\n",
      "{'benchmark_id': 'HPOBench', 'problem_id': 'ml/rf/9952', 'problem': {'_target_': 'smacbenchmarking.benchmarks.hpo_bench.HPOBenchProblem', 'model': 'rf', 'task_id': 9952, 'seed': '${seed}'}, 'task': {'n_trials': 100, 'n_objectives': 1}}\n",
      "{'benchmark_id': 'HPOBench', 'problem_id': 'ml/rf/146822', 'problem': {'_target_': 'smacbenchmarking.benchmarks.hpo_bench.HPOBenchProblem', 'model': 'rf', 'task_id': 146822, 'seed': '${seed}'}, 'task': {'n_trials': 100, 'n_objectives': 1}}\n",
      "{'benchmark_id': 'HPOBench', 'problem_id': 'ml/rf/31', 'problem': {'_target_': 'smacbenchmarking.benchmarks.hpo_bench.HPOBenchProblem', 'model': 'rf', 'task_id': 31, 'seed': '${seed}'}, 'task': {'n_trials': 100, 'n_objectives': 1}}\n",
      "{'benchmark_id': 'HPOBench', 'problem_id': 'ml/rf/3917', 'problem': {'_target_': 'smacbenchmarking.benchmarks.hpo_bench.HPOBenchProblem', 'model': 'rf', 'task_id': 3917, 'seed': '${seed}'}, 'task': {'n_trials': 100, 'n_objectives': 1}}\n",
      "{'benchmark_id': 'HPOBench', 'problem_id': 'ml/svm/10101', 'problem': {'_target_': 'smacbenchmarking.benchmarks.hpo_bench.HPOBenchProblem', 'model': 'svm', 'task_id': 10101, 'seed': '${seed}'}, 'task': {'n_trials': 100, 'n_objectives': 1}}\n",
      "{'benchmark_id': 'HPOBench', 'problem_id': 'ml/svm/53', 'problem': {'_target_': 'smacbenchmarking.benchmarks.hpo_bench.HPOBenchProblem', 'model': 'svm', 'task_id': 53, 'seed': '${seed}'}, 'task': {'n_trials': 100, 'n_objectives': 1}}\n",
      "{'benchmark_id': 'HPOBench', 'problem_id': 'ml/svm/146818', 'problem': {'_target_': 'smacbenchmarking.benchmarks.hpo_bench.HPOBenchProblem', 'model': 'svm', 'task_id': 146818, 'seed': '${seed}'}, 'task': {'n_trials': 100, 'n_objectives': 1}}\n",
      "{'benchmark_id': 'HPOBench', 'problem_id': 'ml/svm/146821', 'problem': {'_target_': 'smacbenchmarking.benchmarks.hpo_bench.HPOBenchProblem', 'model': 'svm', 'task_id': 146821, 'seed': '${seed}'}, 'task': {'n_trials': 100, 'n_objectives': 1}}\n",
      "{'benchmark_id': 'HPOBench', 'problem_id': 'ml/svm/9952', 'problem': {'_target_': 'smacbenchmarking.benchmarks.hpo_bench.HPOBenchProblem', 'model': 'svm', 'task_id': 9952, 'seed': '${seed}'}, 'task': {'n_trials': 100, 'n_objectives': 1}}\n",
      "{'benchmark_id': 'HPOBench', 'problem_id': 'ml/svm/146822', 'problem': {'_target_': 'smacbenchmarking.benchmarks.hpo_bench.HPOBenchProblem', 'model': 'svm', 'task_id': 146822, 'seed': '${seed}'}, 'task': {'n_trials': 100, 'n_objectives': 1}}\n",
      "{'benchmark_id': 'HPOBench', 'problem_id': 'ml/svm/31', 'problem': {'_target_': 'smacbenchmarking.benchmarks.hpo_bench.HPOBenchProblem', 'model': 'svm', 'task_id': 31, 'seed': '${seed}'}, 'task': {'n_trials': 100, 'n_objectives': 1}}\n",
      "{'benchmark_id': 'HPOBench', 'problem_id': 'ml/svm/3917', 'problem': {'_target_': 'smacbenchmarking.benchmarks.hpo_bench.HPOBenchProblem', 'model': 'svm', 'task_id': 3917, 'seed': '${seed}'}, 'task': {'n_trials': 100, 'n_objectives': 1}}\n",
      "{'benchmark_id': 'HPOBench', 'problem_id': 'ml/xgboost/10101', 'problem': {'_target_': 'smacbenchmarking.benchmarks.hpo_bench.HPOBenchProblem', 'model': 'xgboost', 'task_id': 10101, 'seed': '${seed}'}, 'task': {'n_trials': 100, 'n_objectives': 1}}\n",
      "{'benchmark_id': 'HPOBench', 'problem_id': 'ml/xgboost/53', 'problem': {'_target_': 'smacbenchmarking.benchmarks.hpo_bench.HPOBenchProblem', 'model': 'xgboost', 'task_id': 53, 'seed': '${seed}'}, 'task': {'n_trials': 100, 'n_objectives': 1}}\n",
      "{'benchmark_id': 'HPOBench', 'problem_id': 'ml/xgboost/146818', 'problem': {'_target_': 'smacbenchmarking.benchmarks.hpo_bench.HPOBenchProblem', 'model': 'xgboost', 'task_id': 146818, 'seed': '${seed}'}, 'task': {'n_trials': 100, 'n_objectives': 1}}\n",
      "{'benchmark_id': 'HPOBench', 'problem_id': 'ml/xgboost/146821', 'problem': {'_target_': 'smacbenchmarking.benchmarks.hpo_bench.HPOBenchProblem', 'model': 'xgboost', 'task_id': 146821, 'seed': '${seed}'}, 'task': {'n_trials': 100, 'n_objectives': 1}}\n",
      "{'benchmark_id': 'HPOBench', 'problem_id': 'ml/xgboost/9952', 'problem': {'_target_': 'smacbenchmarking.benchmarks.hpo_bench.HPOBenchProblem', 'model': 'xgboost', 'task_id': 9952, 'seed': '${seed}'}, 'task': {'n_trials': 100, 'n_objectives': 1}}\n",
      "{'benchmark_id': 'HPOBench', 'problem_id': 'ml/xgboost/146822', 'problem': {'_target_': 'smacbenchmarking.benchmarks.hpo_bench.HPOBenchProblem', 'model': 'xgboost', 'task_id': 146822, 'seed': '${seed}'}, 'task': {'n_trials': 100, 'n_objectives': 1}}\n",
      "{'benchmark_id': 'HPOBench', 'problem_id': 'ml/xgboost/31', 'problem': {'_target_': 'smacbenchmarking.benchmarks.hpo_bench.HPOBenchProblem', 'model': 'xgboost', 'task_id': 31, 'seed': '${seed}'}, 'task': {'n_trials': 100, 'n_objectives': 1}}\n",
      "{'benchmark_id': 'HPOBench', 'problem_id': 'ml/xgboost/3917', 'problem': {'_target_': 'smacbenchmarking.benchmarks.hpo_bench.HPOBenchProblem', 'model': 'xgboost', 'task_id': 3917, 'seed': '${seed}'}, 'task': {'n_trials': 100, 'n_objectives': 1}}\n"
     ]
    }
   ],
   "source": [
    "# HPOBench\n",
    "from omegaconf import DictConfig, OmegaConf\n",
    "\n",
    "import shutil\n",
    "\n",
    "target_path = base_path / benchmark_id_hpobench\n",
    "if target_path.is_dir():\n",
    "    shutil.rmtree(str(target_path))\n",
    "target_path.mkdir(parents=True, exist_ok=True)\n",
    "\n",
    "problem_class = \"smacbenchmarking.benchmarks.hpo_bench.HPOBenchProblem\"\n",
    "\n",
    "models = [\"lr\", \"nn\", \"rf\", \"svm\", \"xgboost\"]\n",
    "task_ids = [10101, 53, 146818, 146821, 9952, 146822, 31, 3917]\n",
    "task_ids_large = [168912, 3, 167119, 12, 146212, 168911, 9981, 167120, 14965, 146606, 7592, 9977]\n",
    "n_trials = 100\n",
    "\n",
    "for model in models:\n",
    "    #tids = task_ids if model==\"nn\" else task_ids + task_ids_large\n",
    "    tids = task_ids\n",
    "    for tid in tids:\n",
    "        problem_id = f\"ml/{model}/{tid}\"\n",
    "        cfg = DictConfig({\n",
    "            \"benchmark_id\": benchmark_id_hpobench,\n",
    "            \"problem_id\": problem_id,\n",
    "            \"problem\": {\n",
    "                    \"_target_\": problem_class,\n",
    "                    \"model\": model,\n",
    "                    \"task_id\": tid,\n",
    "                    \"seed\": \"${seed}\",  # get the seed from global cfg                      \n",
    "            },\n",
    "            \"task\": {\n",
    "                \"n_trials\": n_trials,\n",
    "                \"n_objectives\": 1,\n",
    "            }\n",
    "\n",
    "        })\n",
    "        fn = target_path / f\"cfg_ml_{model}_{tid}.yaml\"\n",
    "        yaml_str = OmegaConf.to_yaml(cfg=cfg)\n",
    "        yaml_str = \"# @package _global_\\n\" + yaml_str\n",
    "        fn.write_text(yaml_str)\n",
    "        print(cfg)\n",
    "\n"
   ]
  },
  {
   "cell_type": "code",
   "execution_count": 16,
   "metadata": {},
   "outputs": [
    {
     "data": {
      "text/plain": [
       "'f'"
      ]
     },
     "execution_count": 16,
     "metadata": {},
     "output_type": "execute_result"
    }
   ],
   "source": [
    "'\"f\"'.replace('\"','')"
   ]
  },
  {
   "cell_type": "code",
   "execution_count": null,
   "metadata": {},
   "outputs": [],
   "source": []
  }
 ],
 "metadata": {
  "kernelspec": {
   "display_name": "Python 3 (ipykernel)",
   "language": "python",
   "name": "python3"
  },
  "language_info": {
   "codemirror_mode": {
    "name": "ipython",
    "version": 3
   },
   "file_extension": ".py",
   "mimetype": "text/x-python",
   "name": "python",
   "nbconvert_exporter": "python",
   "pygments_lexer": "ipython3",
   "version": "3.9.17"
  }
 },
 "nbformat": 4,
 "nbformat_minor": 2
}
